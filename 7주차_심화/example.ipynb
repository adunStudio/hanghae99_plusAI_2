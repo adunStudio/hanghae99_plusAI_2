{
 "cells": [
  {
   "cell_type": "code",
   "execution_count": 10,
   "metadata": {
    "collapsed": true
   },
   "outputs": [],
   "source": [
    "summary = \"이 영상은 Unity에서 플레이어를 이동시키는 방법을 자세히 설명합니다. 다양한 입력 방식과 물리 이동 구현에 대한 내용을 다루며, 초보자도 쉽게 이해할 수 있도록 오목조목 설명합니다. C# 스크립트를 통해 플레이어 이동 로직을 작성하는 과정이 포함되어 있습니다.\\n\\n- 먼저, Unity에서 플레이어 오브젝트를 이동시키기 위한 C# 스크립트를 만듭니다.\\n- 플러스 버튼을 클릭하거나 빈 공간에서 우클릭하여 새로운 C# 스크립트를 생성합니다.\\n- 스크립트를 생성할 때는 코드를 관리하기 위해 미리 폴더를 만들어 두는 것이 좋습니다.\\n- 폴더를 만들고, 그 안에서 '플레이어'라는 이름으로 스크립트를 생성합니다.\\n- 스크립트를 만든 후, 로딩이 끝날 때까지 기다립니다.\\n\\n- 플레이어 이동을 위해 방금 생성한 스크립트 안에서 입력을 받는 변수를 선언합니다.\\n- 벡터2 타입의 변수를 만들어 '인풋 벡터'라고 이름을 짓습니다.\\n- 이 변수는 좌우 및 상하 방향키의 입력을 받을 것입니다.\\n- 업데이트 함수 안에서 이 인풋 벡터를 업데이트하여 매 프레임마다 방향키 입력을 감지합니다.\\n- input.GetAxis() 함수를 사용하여 'Horizontal'과 'Vertical' 입력 값을 가져옵니다.\\n\\n- 물리 기반의 이동을 위해 리지드바디 2D를 사용하는 방법을 배우겠습니다.\\n- 스크립트에 리지드바디 2D 변수를 선언하고, Awake 함수에서 GetComponent를 통해 초기화합니다.\\n- FixedUpdate 함수 안에서 AddForce, Velocity 제어, MovePosition으로 이동할 수 있는 세 가지 방법을 설명합니다.\\n- AddForce는 힘으로 물리적인 움직임을 주고, Velocity는 직접적인 속도를 제어하며, MovePosition은 위치를 직접 변경하게 됩니다.\\n\\n- 종합적으로 플레이어 이동 로직을 구현해 보겠습니다. 스크립트에서 Normalize를 사용하여 방향을 정규화합니다.\\n- 속도를 제어할 새로운 변수를 만들고, Fixed DeltaTime을 활용하여 모든 프레임에서의 이동 속도를 일정하게 유지합니다.\\n- 저장 후 실행하면 플레이어가 입력한 방향으로 정확한 속도로 움직이는 것을 확인할 수 있습니다.\\n\\n- 이번 영상에서는 플레이어 이동에 집중하지만, 다음 시간에는 플레이어의 애니메이션을 추가하여 더욱 자연스러운 움직임을 구현할 것입니다.\\n- 애니메이션과 코드를 잘 연결하여 풍부한 게임 플레이 경험을 제공할 수 있습니다.\\n\""
   ]
  },
  {
   "cell_type": "code",
   "execution_count": 13,
   "outputs": [
    {
     "name": "stdout",
     "output_type": "stream",
     "text": [
      "키워드: 플레이어 이동, 중요도: 0.0885692250487575\n",
      "키워드: 플레이어, 중요도: 0.05550092778188595\n",
      "키워드: MovePosition으로, 중요도: 0.04488663415257271\n",
      "키워드: Awake, 중요도: 0.0445587703782727\n",
      "키워드: Velocity, 중요도: 0.04248321962020257\n",
      "키워드: 2D, 중요도: 0.0402586448577961\n",
      "키워드: - 스크립트를, 중요도: 0.03586002348200145\n",
      "키워드: FixedUpdate, 중요도: 0.03467603912409202\n",
      "키워드: 실행하면 플레이어가, 중요도: 0.01974259962657217\n",
      "키워드: 세 가지, 중요도: 0.01880450145375934\n",
      "키워드: 2D를, 중요도: 0.0\n",
      "키워드: AddForce, 중요도: 0.0\n",
      "키워드: C, 중요도: 0.0\n",
      "키워드: Fixed DeltaTime을, 중요도: 0.0\n",
      "키워드: 벡터2, 중요도: 0.0\n"
     ]
    }
   ],
   "source": [
    "import spacy\n",
    "import pytextrank\n",
    "\n",
    "# 한국어 모델 로드\n",
    "nlp = spacy.load(\"ko_core_news_sm\")\n",
    "\n",
    "# pytextrank 추가\n",
    "nlp.add_pipe(\"textrank\")\n",
    "\n",
    "# 문서 처리\n",
    "doc = nlp(summary)\n",
    "\n",
    "# 키워드 출력\n",
    "for phrase in doc._.phrases:\n",
    "    if not any([token.is_stop for token in nlp(phrase.text)]):\n",
    "        print(f\"키워드: {phrase.text}, 중요도: {phrase.rank}\")"
   ],
   "metadata": {
    "collapsed": false
   }
  },
  {
   "cell_type": "code",
   "execution_count": null,
   "outputs": [],
   "source": [],
   "metadata": {
    "collapsed": false
   }
  }
 ],
 "metadata": {
  "kernelspec": {
   "display_name": "Python 3",
   "language": "python",
   "name": "python3"
  },
  "language_info": {
   "codemirror_mode": {
    "name": "ipython",
    "version": 2
   },
   "file_extension": ".py",
   "mimetype": "text/x-python",
   "name": "python",
   "nbconvert_exporter": "python",
   "pygments_lexer": "ipython2",
   "version": "2.7.6"
  }
 },
 "nbformat": 4,
 "nbformat_minor": 0
}
