{
 "cells": [
  {
   "cell_type": "markdown",
   "metadata": {
    "id": "ymxatB5WYxlL"
   },
   "source": [
    "# Transformer 실습\n",
    "\n",
    "이번 실습에서는 감정 분석 task에 RNN 대신 Transformer를 구현하여 적용해 볼 것입니다.\n",
    "Library import나 dataloader 생성은 RNN 실습 때와 똑같기 때문에 설명은 넘어가도록 하겠습니다."
   ]
  },
  {
   "cell_type": "code",
   "execution_count": null,
   "metadata": {
    "id": "HOdhoBVA1zcu"
   },
   "outputs": [],
   "source": [
    "import torch\n",
    "from datasets import load_dataset\n",
    "from torch.utils.data import DataLoader\n",
    "from transformers import BertTokenizerFast\n",
    "from tokenizers import (\n",
    "    decoders,\n",
    "    models,\n",
    "    normalizers,\n",
    "    pre_tokenizers,\n",
    "    processors,\n",
    "    trainers,\n",
    "    Tokenizer,\n",
    ")\n",
    "\n",
    "device = torch.device(\"mps\")\n",
    "\n",
    "\n",
    "ds = load_dataset(\"stanfordnlp/imdb\")\n",
    "tokenizer = torch.hub.load('huggingface/pytorch-transformers', 'tokenizer', 'bert-base-uncased')\n",
    "\n",
    "\n",
    "def collate_fn(batch):\n",
    "  max_len = 400\n",
    "  texts, labels = [], []\n",
    "  for row in batch:\n",
    "    labels.append(row['label'])\n",
    "    texts.append(row['text'])\n",
    "\n",
    "  texts = torch.LongTensor(tokenizer(texts, padding=True, truncation=True, max_length=max_len).input_ids)\n",
    "  labels = torch.LongTensor(labels)\n",
    "\n",
    "  return texts, labels\n",
    "\n",
    "\n",
    "train_loader = DataLoader(\n",
    "    ds['train'], batch_size=64, shuffle=True, collate_fn=collate_fn\n",
    ")\n",
    "test_loader = DataLoader(\n",
    "    ds['test'], batch_size=64, shuffle=False, collate_fn=collate_fn\n",
    ")"
   ]
  },
  {
   "cell_type": "markdown",
   "metadata": {
    "id": "i-FshZcTZBQ2"
   },
   "source": [
    "## Self-Attention"
   ]
  },
  {
   "cell_type": "code",
   "execution_count": null,
   "metadata": {
    "id": "MBlMVMZcRAxv"
   },
   "outputs": [],
   "source": [
    "from torch import nn\n",
    "from math import sqrt\n",
    "\n",
    "# 셀프 어텐션\n",
    "class SelfAttention(nn.Module):\n",
    "  def __init__(self, input_dim, d_model):\n",
    "    super().__init__()\n",
    "\n",
    "    self.input_dim = input_dim # 입력 차원  (보통 어휘 크기((vocab_size)))\n",
    "    self.d_model = d_model     # 임베딩 차원 (모델 크기에 따라 다르다. BERT는 768..)\n",
    "\n",
    "    self.wq = nn.Linear(input_dim, d_model)  # 쿼리(입력 -> d_model 차원 변환)\n",
    "    self.wk = nn.Linear(input_dim, d_model)  #   키(입력 -> d_model 차원 변환)\n",
    "    self.wv = nn.Linear(input_dim, d_model)  #   값(입력 -> d_model 차원 변환)\n",
    "\n",
    "    # 최종 출력을 위한 선형 레이어 (d_model -> d_model)\n",
    "    self.dense = nn.Linear(d_model, d_model)\n",
    "\n",
    "    # 소프트맥스 (어텐션 가중치 계산을 위해((마지막 차원 기준으로 소프트맥스 수행)))\n",
    "    self.softmax = nn.Softmax(dim=-1)\n",
    "\n",
    "  def forward(self, x, mask):\n",
    "    ### 1. Q, K, V 벡터 생성 – 입력을 통해 Wq, Wk, Wv를 선형 변환하여 Q, K, V를 만듬\n",
    "    q, k, v = self.wq(x), self.wk(x), self.wv(x)\n",
    "\t# Q (Query): 현재 기준이 되는 토큰 (검색 기준)\n",
    "    # K (Key): 모든 토큰 (기준과 비교할 대상)\n",
    "    # V (Value): 최종적으로 가중치를 적용해 반환할 값\n",
    "    # 어텐션 매커니즘은 Q와 K의 유사도를 계산하여 V에서 어떤 정보를 얼마만큼 가져올지 결정한다.\n",
    "\n",
    "\n",
    "\n",
    "    ### 2. 어텐션 스코어 계산 – 쿼리(Q)와 키(K)를 내적하여 유사도 계산 (Q * K^T)\n",
    "    # W_q와 W_k는 문맥적으로 유사한 단어를 높은 내적 값을 내뱉도록 학습뇌다.\n",
    "    # B(Batch Size: 배치 크기), S(Sequence length: 시퀀스 길이), D(Embedding Dimension: 임베딩 차원)\n",
    "    score = torch.matmul(q, k.transpose(-1, -2)) # (B, S, D) * (B, D, S) = (B, S, S)\n",
    "    # 어텐션에서 내적 결과를 에너지라고도 한다.\n",
    "    # - 에너지 값이 크면: 쿼리와 키가 매우 유사하다는 의미\n",
    "    # - 에너지 값이 작을수록 두 벡터간의 상관성이 낮다는 의미\n",
    "\n",
    "    ### 3. 스코어 정규화 – sqrt(d_model)로 나눠서 스케일링 (값이 너무 크거나 작아지는 문제 방지(vanishing/exploding))\n",
    "    score = score / sqrt(self.d_model)\n",
    "\n",
    "    ### 4. 마스킹 – 필요 시 패딩이나 특정 토큰을 제외하기 위해 마스크를 적용\n",
    "    if mask is not None:\n",
    "      score = score + (mask * -1e9) # (마스크된 위치(값 1))에 매우 큰 음수 추가 -> 소프트 맥스에서 0이됨)\n",
    "\n",
    "    ### 5. 소프트맥스를 사용해 어텐션 가중치 계산\n",
    "    score = self.softmax(score)\n",
    "\n",
    "\t### 6. 어텐션 가중치 적용 – 값 벡터(V)에 어텐션 가중치를 곱해 최종 결과 생성\n",
    "    # Wv는 유사도가 높은 단어로부터 '올바른 정보'를 가져오도록 학습된다.\n",
    "    result = torch.matmul(score, v) # 가중치 합이 적용되어 컥텍스트 벡터가 된다.\n",
    "    # 컨텍스트 벡터는 각 단어(밸류 벡터)에 어텐션 스코어를 곱한 가중합입니다.\n",
    "    # C_3 = A_<3, 1>V3 + A_<3, 2>V2 + A<3, 3>V3 + A<3, 4>V4\n",
    "\n",
    "\n",
    "    ### 7. 출력 변환 – 선형 변환(dense)을 통해 최종 출력 생성\n",
    "    result = self.dense(result)\n",
    "\n",
    "\n",
    "    return result"
   ]
  },
  {
   "cell_type": "markdown",
   "source": [
    "## Multi-Head-Attention"
   ],
   "metadata": {
    "collapsed": false
   }
  },
  {
   "cell_type": "code",
   "execution_count": null,
   "outputs": [],
   "source": [
    "# 멀티 헤드 어텐션\n",
    "class MultiHeadAttention(nn.Module):\n",
    "  def __init__(self, input_dim, d_model, n_heads):\n",
    "    super().__init__()\n",
    "\n",
    "    self.input_dim = input_dim # 입력 차원  (보통 어휘 크기((vocab_size)))\n",
    "    self.d_model = d_model     # 임베딩 차원 (모델 크기에 따라 다르다. BERT는 768..)\n",
    "    self.n_heads = n_heads      # 헤드 수 (멀티 헤드)\n",
    "    assert d_model % n_heads == 0, \"d_model은 n_heads로 나누어 떨어져야 합니다.\"\n",
    "    # 헤드는 독립접으로 어텐션을 수행하는 하나의 어텐션 매커니즘이다.\n",
    "\n",
    "    # 각 헤드의 차원\n",
    "    self.depth = d_model // n_heads # (D' = d_model / H)\n",
    "\n",
    "    self.wq = nn.Linear(input_dim, d_model)  # 쿼리(입력 -> d_model 차원 변환)\n",
    "    self.wk = nn.Linear(input_dim, d_model)  #   키(입력 -> d_model 차원 변환)\n",
    "    self.wv = nn.Linear(input_dim, d_model)  #   값(입력 -> d_model 차원 변환)\n",
    "\n",
    "    # 최종 출력을 위한 선형 레이어 (d_model -> d_model)\n",
    "    self.dense = nn.Linear(d_model, d_model)\n",
    "\n",
    "    # 소프트맥스 (어텐션 가중치 계산을 위해((마지막 차원 기준으로 소프트맥스 수행)))\n",
    "    self.softmax = nn.Softmax(dim=-1)\n",
    "\n",
    "  def split_heads(self, x, batch_size):\n",
    "    \"\"\"\n",
    "    Q, K, V를 헤드 수(n_heads)로 나누고 transpose하여 (B, H, S, D) 형태로 변환\n",
    "    \"\"\"\n",
    "    x = x.view(batch_size, -1, self.n_heads, self.depth)\n",
    "    return x.transpose(1, 2)  # (B, S, H, D') -> (B, H, S, D')\n",
    "\n",
    "  def forward(self, x, mask):\n",
    "    ### 1. Q, K, V 벡터 생성 – 입력을 통해 Wq, Wk, Wv를 선형 변환하여 Q, K, V를 만듬\n",
    "    q, k, v = self.wq(x), self.wk(x), self.wv(x)\n",
    "    # Q (Query): 현재 기준이 되는 토큰 (검색 기준)\n",
    "    # K (Key): 모든 토큰 (기준과 비교할 대상)\n",
    "    # V (Value): 최종적으로 가중치를 적용해 반환할 값\n",
    "    # 어텐션 매커니즘은 Q와 K의 유사도를 계산하여 V에서 어떤 정보를 얼마만큼 가져올지 결정한다.\n",
    "\n",
    "    # 2. 헤드로 나눈다.\n",
    "    batch_size = x.shape[0]\n",
    "    q = self.split_heads(q, batch_size)  # (B, H, S, D)\n",
    "    k = self.split_heads(k, batch_size)  # (B, H, S, D)\n",
    "    v = self.split_heads(v, batch_size)  # (B, H, S, D)\n",
    "\n",
    "    ### 3. 어텐션 스코어 계산 – 쿼리(Q)와 키(K)를 내적하여 유사도 계산 (Q * K^T)\n",
    "    # W_q와 W_k는 문맥적으로 유사한 단어를 높은 내적 값을 내뱉도록 학습뇌다.\n",
    "    # B(Batch Size: 배치 크기), S(Sequence length: 시퀀스 길이), D(Embedding Dimension: 임베딩 차원)\n",
    "    score = torch.matmul(q, k.transpose(-1, -2)) # (B, S, D) * (B, D, S) = (B, S, S)\n",
    "    # 어텐션에서 내적 결과를 에너지라고도 한다.\n",
    "    # - 에너지 값이 크면: 쿼리와 키가 매우 유사하다는 의미\n",
    "    # - 에너지 값이 작을수록 두 벡터간의 상관성이 낮다는 의미\n",
    "\n",
    "    ### 4. 스코어 정규화 – sqrt(d_model)로 나눠서 스케일링 (값이 너무 크거나 작아지는 문제 방지(vanishing/exploding))\n",
    "    # 멀티헤드 어텐션에서는 임베딩 차원이 작아졌으므로 depth로 나너야 함\n",
    "    score = score / sqrt(self.depth)\n",
    "\n",
    "    ### 5. 마스킹 – 필요 시 패딩이나 특정 토큰을 제외하기 위해 마스크를 적용\n",
    "    if mask is not None:\n",
    "      score = score + (mask * -1e9) # (마스크된 위치(값 1))에 매우 큰 음수 추가 -> 소프트 맥스에서 0이됨)\n",
    "\n",
    "    ### 6. 소프트맥스를 사용해 어텐션 가중치 계산\n",
    "    score = self.softmax(score)\n",
    "\n",
    "    ### 7. 어텐션 가중치 적용 – 값 벡터(V)에 어텐션 가중치를 곱해 최종 결과 생성\n",
    "    # Wv는 유사도가 높은 단어로부터 '올바른 정보'를 가져오도록 학습된다.\n",
    "    result = torch.matmul(score, v) # 가중치 합이 적용되어 컥텍스트 벡터가 된다.\n",
    "    # 컨텍스트 벡터는 각 단어(밸류 벡터)에 어텐션 스코어를 곱한 가중합입니다.\n",
    "    # C_3 = A_<3, 1>V3 + A_<3, 2>V2 + A<3, 3>V3 + A<3, 4>V4\n",
    "\n",
    "    \"\"\"\n",
    "    입력 임베딩 (B, S, 512)\n",
    "    └── (512차원을 8개의 헤드로 나눔)\n",
    "          ├── 1번째 헤드 (64차원)\n",
    "          ├── 2번째 헤드 (64차원)\n",
    "          ├── ...\n",
    "          └── 8번째 헤드 (64차원)\n",
    "    └── (다시 병합하여 512차원으로 복원)\n",
    "    \"\"\"\n",
    "    ### 8. 헤드 합치기\n",
    "    # 차원 증가가 아니라, 중복 합치기가 아니라 단순히 더 작게 나누었던 차원을 다시 합치는 과정\n",
    "    result = result.transpose(1, 2).contiguous()  # (B, S, H, D)\n",
    "    result = result.view(batch_size, -1, self.d_model)  # (B, S, D)\n",
    "\n",
    "    ### 9. 출력 변환 – 선형 변환(dense)을 통해 최종 출력 생성\n",
    "    result = self.dense(result)\n",
    "\n",
    "\n",
    "    return result"
   ],
   "metadata": {
    "collapsed": false
   }
  },
  {
   "cell_type": "markdown",
   "metadata": {
    "id": "-S0vMp85ZRNO"
   },
   "source": []
  },
  {
   "cell_type": "code",
   "execution_count": null,
   "metadata": {
    "id": "VZHPCn9AS5Gp"
   },
   "outputs": [],
   "source": [
    "class TransformerLayer(nn.Module):\n",
    "  def __init__(self, input_dim, d_model, dff):\n",
    "    super().__init__()\n",
    "\n",
    "    self.input_dim = input_dim\n",
    "    self.d_model = d_model\n",
    "    self.dff = dff\n",
    "\n",
    "    self.sa = SelfAttention(input_dim, d_model)\n",
    "    self.ffn = nn.Sequential(\n",
    "      nn.Linear(d_model, dff),\n",
    "      nn.ReLU(),\n",
    "      nn.Linear(dff, d_model)\n",
    "    )\n",
    "\n",
    "  def forward(self, x, mask):\n",
    "    x = self.sa(x, mask)\n",
    "    x = self.ffn(x)\n",
    "\n",
    "    return x"
   ]
  },
  {
   "cell_type": "markdown",
   "metadata": {
    "id": "O_xC9BQJaU4q"
   },
   "source": [
    "보시다시피 self-attention의 구현이 어렵지, Transformer layer 하나 구현하는 것은 수업 때 다룬 그림과 크게 구분되지 않는다는 점을 알 수 있습니다."
   ]
  },
  {
   "cell_type": "markdown",
   "metadata": {
    "id": "J3VYrqTJagS1"
   },
   "source": [
    "## Positional encoding\n",
    "\n",
    "트랜스포머 모델은 순차적인 RNN과 달리 위치 정보가 자연스럽게 반영되지 않는다. 따라서 위치 정보를 추가적으로 부여하는 방식이 필요하다.\n",
    "- 임베딩 차원의 짝수 인덱스에는 사인(Sin)\n",
    "- 홀수 인덱스에는 코사인(Cos)을 적용해 단어 위치에 따라 규칙적이고 주기적인 패턴을 적용한다.\n",
    "장점:\n",
    "-> -1 ~ 1 사이의 값으로 너무 크지 않다.\n",
    "-> 서로 다른 주기를 사용함으로써 중복되지 않다. (Sin(1)과 Sin(2)는 매우 다른 값을 가진다.)\n",
    "\n",
    "$$\n",
    "\\begin{align*} PE_{pos, 2i} &= \\sin\\left( \\frac{pos}{10000^{2i/D}} \\right), \\\\ PE_{pos, 2i+1} &= \\cos\\left( \\frac{pos}{10000^{2i/D}} \\right).\\end{align*}\n",
    "$$\n",
    "\n",
    "이를 Numpy로 구현하여 PyTorch tensor로 변환한 모습은 다음과 같습니다:"
   ]
  },
  {
   "cell_type": "code",
   "execution_count": 17,
   "metadata": {
    "colab": {
     "base_uri": "https://localhost:8080/"
    },
    "executionInfo": {
     "elapsed": 16,
     "status": "ok",
     "timestamp": 1723896343031,
     "user": {
      "displayName": "조승혁",
      "userId": "15759752471844115325"
     },
     "user_tz": -540
    },
    "id": "Uf_jMQWDUR79",
    "outputId": "534712be-1522-4d32-81b7-87f50a6f1f2a"
   },
   "outputs": [],
   "source": [
    "import numpy as np\n",
    "\n",
    "\n",
    "def get_angles(pos, i, d_model):\n",
    "    \"\"\"\n",
    "    pos: 위치 (Position) → 문장의 각 단어의 위치 (배치의 단어 인덱스)\n",
    "    i: 임베딩 차원의 인덱스 (0, 1, 2, ...)\n",
    "    d_model: 전체 임베딩 차원 (예: 256, 512 등)\n",
    "\n",
    "    각 위치(pos)와 임베딩 차원(i)에 따라 고유한 각도 값(angle_rates)을 계산하는 함수\n",
    "    이 각도는 위치 정보를 학습하지 않고도 네트워크가 순서를 인식할 수 있게 해줌\n",
    "    \"\"\"\n",
    "\n",
    "    # 주어진 위치와 임베딩 차원에 따라 각도 변화율(angle_rates) 계산\n",
    "    # 10000은 트랜스포머에서 사용하는 기준 상수로, 주파수 스케일링 역할을 함\n",
    "    # i가 커질수록(차원이 증가할수록) 각도 변화율이 작아짐\n",
    "    angle_rates = 1 / np.power(10000, (2 * (i // 2)) / np.float32(d_model))\n",
    "    return pos * angle_rates\n",
    "\n",
    "\n",
    "def positional_encoding(position, d_model):\n",
    "    \"\"\"\n",
    "    position: 문장의 최대 길이 (시퀀스 길이, 예: 400)\n",
    "    d_model: 임베딩 차원 (예: 256)\n",
    "\n",
    "    각 위치에 대한 사인(Sin)과 코사인(Cosine)을 기반으로 포지셔널 인코딩 행렬을 생성\n",
    "    \"\"\"\n",
    "    # 각 위치(pos)와 임베딩 차원(i)에 대해 get_angles 함수를 호출해 각도 계산\n",
    "    # np.arange(position)[:, None]: 위치 인덱스 (세로로 확장) [[0] [1] [2] [3] [4] ...]\n",
    "    # np.arange(d_model)[None, :]: 임베딩 차원 인덱스 (가로로 확장) [[0 1 2 3 4 ...]]\n",
    "    # 결과적으로 (position, d_model) 크기의 각도 행렬(angle_rads)을 생성\n",
    "    angle_rads = get_angles(np.arange(position)[:, None], np.arange(d_model)[None, :], d_model)\n",
    "    # 짝수 인덱스(0, 2, 4...) → 사인(Sin) 적용\n",
    "    angle_rads[:, 0::2] = np.sin(angle_rads[:, 0::2])\n",
    "    # 홀수 인덱스(1, 3, 5...) → 코사인(Cos) 적용\n",
    "    angle_rads[:, 1::2] = np.cos(angle_rads[:, 1::2])\n",
    "\n",
    "    # Positional Encoding을 3차원으로 확장 (Batch 차원 추가)\n",
    "    # (1, position, d_model) 형태 → 배치 차원을 추가해 여러 문장에 적용 가능\n",
    "    pos_encoding = angle_rads[None, ...]\n",
    "\n",
    "    return torch.FloatTensor(pos_encoding)\n",
    "\n",
    "\n",
    "max_len = 400"
   ]
  },
  {
   "cell_type": "code",
   "execution_count": null,
   "outputs": [],
   "source": [],
   "metadata": {
    "collapsed": false
   }
  },
  {
   "cell_type": "code",
   "execution_count": null,
   "metadata": {
    "id": "8MaiCGh8TsDH"
   },
   "outputs": [],
   "source": [
    "class TextClassifier(nn.Module):\n",
    "  def __init__(self, vocab_size, d_model, n_layers, dff):\n",
    "    super().__init__()\n",
    "\n",
    "    self.vocab_size = vocab_size\n",
    "    self.d_model = d_model\n",
    "    self.n_layers = n_layers\n",
    "    self.dff = dff\n",
    "\n",
    "    self.embedding = nn.Embedding(vocab_size, d_model)\n",
    "    self.pos_encoding = nn.parameter.Parameter(positional_encoding(max_len, d_model), requires_grad=False)\n",
    "    self.layers = nn.ModuleList([TransformerLayer(d_model, d_model, dff) for _ in range(n_layers)])\n",
    "    self.classification = nn.Linear(d_model, 1)\n",
    "\n",
    "  def forward(self, x):\n",
    "    mask = (x == tokenizer.pad_token_id)\n",
    "    mask = mask[:, None, :]\n",
    "    seq_len = x.shape[1]\n",
    "\n",
    "    x = self.embedding(x)\n",
    "    x = x * sqrt(self.d_model)\n",
    "    x = x + self.pos_encoding[:, :seq_len]\n",
    "\n",
    "    for layer in self.layers:\n",
    "      x = layer(x, mask)\n",
    "\n",
    "    x = x[:, 0]\n",
    "    x = self.classification(x)\n",
    "\n",
    "    return x\n",
    "\n",
    "\n",
    "model = TextClassifier(len(tokenizer), 32, 2, 32)"
   ]
  },
  {
   "cell_type": "markdown",
   "metadata": {
    "id": "XXpjPWHjbUK8"
   },
   "source": [
    "기존과 다른 점들은 다음과 같습니다:\n",
    "1. `nn.ModuleList`를 사용하여 여러 layer의 구현을 쉽게 하였습니다.\n",
    "2. Embedding, positional encoding, transformer layer를 거치고 난 후 마지막 label을 예측하기 위해 사용한 값은 `x[:, 0]`입니다. 기존의 RNN에서는 padding token을 제외한 마지막 token에 해당하는 representation을 사용한 것과 다릅니다. 이렇게 사용할 수 있는 이유는 attention 과정을 보시면 첫 번째 token에 대한 representation은 이후의 모든 token의 영향을 받습니다. 즉, 첫 번째 token 또한 전체 문장을 대변하는 의미를 가지고 있다고 할 수 있습니다. 그래서 일반적으로 Transformer를 text 분류에 사용할 때는 이와 같은 방식으로 구현됩니다."
   ]
  },
  {
   "cell_type": "markdown",
   "metadata": {
    "id": "QDq05OlAb2lB"
   },
   "source": [
    "## 학습\n",
    "\n",
    "학습하는 코드는 기존 실습들과 동일하기 때문에 마지막 결과만 살펴보도록 하겠습니다."
   ]
  },
  {
   "cell_type": "code",
   "execution_count": null,
   "metadata": {
    "id": "YHVVsWBPQmnv",
    "outputId": "64b5790f-7649-4a47-95f8-bebe158aba4f"
   },
   "outputs": [
    {
     "name": "stderr",
     "output_type": "stream",
     "text": [
      "huggingface/tokenizers: The current process just got forked, after parallelism has already been used. Disabling parallelism to avoid deadlocks...\n",
      "To disable this warning, you can either:\n",
      "\t- Avoid using `tokenizers` before the fork if possible\n",
      "\t- Explicitly set the environment variable TOKENIZERS_PARALLELISM=(true | false)\n",
      "huggingface/tokenizers: The current process just got forked, after parallelism has already been used. Disabling parallelism to avoid deadlocks...\n",
      "To disable this warning, you can either:\n",
      "\t- Avoid using `tokenizers` before the fork if possible\n",
      "\t- Explicitly set the environment variable TOKENIZERS_PARALLELISM=(true | false)\n"
     ]
    }
   ],
   "source": [
    "from torch.optim import Adam\n",
    "\n",
    "lr = 0.001\n",
    "model = model.to('cuda')\n",
    "loss_fn = nn.BCEWithLogitsLoss()\n",
    "\n",
    "optimizer = Adam(model.parameters(), lr=lr)"
   ]
  },
  {
   "cell_type": "code",
   "execution_count": null,
   "metadata": {
    "id": "r88BALxO1zc1"
   },
   "outputs": [],
   "source": [
    "import numpy as np\n",
    "import matplotlib.pyplot as plt\n",
    "\n",
    "\n",
    "def accuracy(model, dataloader):\n",
    "  cnt = 0\n",
    "  acc = 0\n",
    "\n",
    "  for data in dataloader:\n",
    "    inputs, labels = data\n",
    "    inputs, labels = inputs.to('cuda'), labels.to('cuda')\n",
    "\n",
    "    preds = model(inputs)\n",
    "    # preds = torch.argmax(preds, dim=-1)\n",
    "    preds = (preds > 0).long()[..., 0]\n",
    "\n",
    "    cnt += labels.shape[0]\n",
    "    acc += (labels == preds).sum().item()\n",
    "\n",
    "  return acc / cnt"
   ]
  },
  {
   "cell_type": "code",
   "execution_count": null,
   "metadata": {
    "colab": {
     "base_uri": "https://localhost:8080/"
    },
    "executionInfo": {
     "elapsed": 408929,
     "status": "ok",
     "timestamp": 1723896769492,
     "user": {
      "displayName": "조승혁",
      "userId": "15759752471844115325"
     },
     "user_tz": -540
    },
    "id": "al_b56TYRILq",
    "outputId": "90a56264-4ef3-4def-e7b7-df4b5cd3c305"
   },
   "outputs": [
    {
     "name": "stdout",
     "output_type": "stream",
     "text": [
      "Epoch   0 | Train Loss: 228.05881744623184\n",
      "=========> Train acc: 0.770 | Test acc: 0.745\n",
      "Epoch   1 | Train Loss: 181.79184779524803\n",
      "=========> Train acc: 0.818 | Test acc: 0.776\n",
      "Epoch   2 | Train Loss: 161.0439212024212\n",
      "=========> Train acc: 0.847 | Test acc: 0.786\n",
      "Epoch   3 | Train Loss: 144.77784506976604\n",
      "=========> Train acc: 0.866 | Test acc: 0.798\n",
      "Epoch   4 | Train Loss: 127.65684458613396\n",
      "=========> Train acc: 0.892 | Test acc: 0.800\n",
      "Epoch   5 | Train Loss: 113.74214302748442\n",
      "=========> Train acc: 0.907 | Test acc: 0.804\n",
      "Epoch   6 | Train Loss: 101.79052671045065\n",
      "=========> Train acc: 0.916 | Test acc: 0.799\n",
      "Epoch   7 | Train Loss: 90.75403520092368\n",
      "=========> Train acc: 0.937 | Test acc: 0.809\n",
      "Epoch   8 | Train Loss: 77.53205958008766\n",
      "=========> Train acc: 0.945 | Test acc: 0.808\n",
      "Epoch   9 | Train Loss: 68.24311332032084\n",
      "=========> Train acc: 0.957 | Test acc: 0.804\n",
      "Epoch  10 | Train Loss: 58.22225522249937\n",
      "=========> Train acc: 0.964 | Test acc: 0.801\n",
      "Epoch  11 | Train Loss: 51.82508478872478\n",
      "=========> Train acc: 0.964 | Test acc: 0.798\n",
      "Epoch  12 | Train Loss: 44.73537188582122\n",
      "=========> Train acc: 0.975 | Test acc: 0.800\n",
      "Epoch  13 | Train Loss: 36.328937944956124\n",
      "=========> Train acc: 0.970 | Test acc: 0.795\n",
      "Epoch  14 | Train Loss: 31.212427048478276\n",
      "=========> Train acc: 0.984 | Test acc: 0.799\n",
      "Epoch  15 | Train Loss: 27.794022045098245\n",
      "=========> Train acc: 0.986 | Test acc: 0.798\n",
      "Epoch  16 | Train Loss: 24.51000529155135\n",
      "=========> Train acc: 0.988 | Test acc: 0.798\n",
      "Epoch  17 | Train Loss: 25.019716920796782\n",
      "=========> Train acc: 0.988 | Test acc: 0.795\n",
      "Epoch  18 | Train Loss: 18.76576793473214\n",
      "=========> Train acc: 0.989 | Test acc: 0.794\n",
      "Epoch  19 | Train Loss: 19.29518177837599\n",
      "=========> Train acc: 0.992 | Test acc: 0.798\n",
      "Epoch  20 | Train Loss: 16.6582816374721\n",
      "=========> Train acc: 0.992 | Test acc: 0.802\n",
      "Epoch  21 | Train Loss: 17.27638038888108\n",
      "=========> Train acc: 0.991 | Test acc: 0.791\n",
      "Epoch  22 | Train Loss: 15.25645094725769\n",
      "=========> Train acc: 0.989 | Test acc: 0.797\n",
      "Epoch  23 | Train Loss: 14.676565335481428\n",
      "=========> Train acc: 0.995 | Test acc: 0.795\n",
      "Epoch  24 | Train Loss: 11.922925418621162\n",
      "=========> Train acc: 0.994 | Test acc: 0.792\n",
      "Epoch  25 | Train Loss: 12.693496667896397\n",
      "=========> Train acc: 0.988 | Test acc: 0.797\n",
      "Epoch  26 | Train Loss: 11.326061181141995\n",
      "=========> Train acc: 0.972 | Test acc: 0.789\n",
      "Epoch  27 | Train Loss: 12.779942307330202\n",
      "=========> Train acc: 0.996 | Test acc: 0.795\n",
      "Epoch  28 | Train Loss: 10.617993225852842\n",
      "=========> Train acc: 0.993 | Test acc: 0.800\n",
      "Epoch  29 | Train Loss: 9.673813316738233\n",
      "=========> Train acc: 0.996 | Test acc: 0.794\n",
      "Epoch  30 | Train Loss: 11.522750682837795\n",
      "=========> Train acc: 0.996 | Test acc: 0.794\n",
      "Epoch  31 | Train Loss: 7.840653722785646\n",
      "=========> Train acc: 0.994 | Test acc: 0.792\n",
      "Epoch  32 | Train Loss: 12.104161699942779\n",
      "=========> Train acc: 0.995 | Test acc: 0.793\n",
      "Epoch  33 | Train Loss: 8.25330251167179\n",
      "=========> Train acc: 0.985 | Test acc: 0.793\n",
      "Epoch  34 | Train Loss: 10.357778827659786\n",
      "=========> Train acc: 0.997 | Test acc: 0.796\n",
      "Epoch  35 | Train Loss: 9.444769158624695\n",
      "=========> Train acc: 0.995 | Test acc: 0.794\n",
      "Epoch  36 | Train Loss: 8.166781437234022\n",
      "=========> Train acc: 0.996 | Test acc: 0.792\n",
      "Epoch  37 | Train Loss: 9.650583731883671\n",
      "=========> Train acc: 0.997 | Test acc: 0.795\n",
      "Epoch  38 | Train Loss: 7.418147705044248\n",
      "=========> Train acc: 0.996 | Test acc: 0.794\n",
      "Epoch  39 | Train Loss: 9.709464895306155\n",
      "=========> Train acc: 0.997 | Test acc: 0.794\n",
      "Epoch  40 | Train Loss: 7.829162544643623\n",
      "=========> Train acc: 0.996 | Test acc: 0.792\n",
      "Epoch  41 | Train Loss: 6.924684327503201\n",
      "=========> Train acc: 0.995 | Test acc: 0.786\n",
      "Epoch  42 | Train Loss: 7.91478517052019\n",
      "=========> Train acc: 0.996 | Test acc: 0.792\n",
      "Epoch  43 | Train Loss: 7.378424593654927\n",
      "=========> Train acc: 0.998 | Test acc: 0.793\n",
      "Epoch  44 | Train Loss: 6.822792663617292\n",
      "=========> Train acc: 0.996 | Test acc: 0.795\n",
      "Epoch  45 | Train Loss: 6.635453788730956\n",
      "=========> Train acc: 0.998 | Test acc: 0.795\n",
      "Epoch  46 | Train Loss: 6.294900413195137\n",
      "=========> Train acc: 0.996 | Test acc: 0.798\n",
      "Epoch  47 | Train Loss: 7.062853217605152\n",
      "=========> Train acc: 0.994 | Test acc: 0.793\n",
      "Epoch  48 | Train Loss: 6.103620611334918\n",
      "=========> Train acc: 0.998 | Test acc: 0.797\n",
      "Epoch  49 | Train Loss: 5.912332823994802\n",
      "=========> Train acc: 0.995 | Test acc: 0.794\n"
     ]
    }
   ],
   "source": [
    "n_epochs = 50\n",
    "\n",
    "for epoch in range(n_epochs):\n",
    "  total_loss = 0.\n",
    "  model.train()\n",
    "  for data in train_loader:\n",
    "    model.zero_grad()\n",
    "    inputs, labels = data\n",
    "    inputs, labels = inputs.to('cuda'), labels.to('cuda').float()\n",
    "\n",
    "    preds = model(inputs)[..., 0]\n",
    "    loss = loss_fn(preds, labels)\n",
    "    loss.backward()\n",
    "    optimizer.step()\n",
    "\n",
    "    total_loss += loss.item()\n",
    "\n",
    "  print(f\"Epoch {epoch:3d} | Train Loss: {total_loss}\")\n",
    "\n",
    "  with torch.no_grad():\n",
    "    model.eval()\n",
    "    train_acc = accuracy(model, train_loader)\n",
    "    test_acc = accuracy(model, test_loader)\n",
    "    print(f\"=========> Train acc: {train_acc:.3f} | Test acc: {test_acc:.3f}\")"
   ]
  },
  {
   "cell_type": "markdown",
   "metadata": {
    "id": "WqZays2yb8Ja"
   },
   "source": [
    "학습이 안정적으로 진행되며 RNN보다 빨리 수렴하는 것을 확인할 수 있습니다.\n",
    "하지만 test 정확도가 RNN보다 낮은 것을 보았을 때, overfitting에 취약하다는 것을 알 수 있습니다."
   ]
  },
  {
   "cell_type": "code",
   "execution_count": null,
   "metadata": {
    "id": "NAXB6GgIQy1S"
   },
   "outputs": [],
   "source": []
  },
  {
   "cell_type": "code",
   "execution_count": 5,
   "outputs": [
    {
     "name": "stdout",
     "output_type": "stream",
     "text": [
      "torch.Size([2, 2, 3])\n",
      "tensor([[[1., 2., 3.],\n",
      "         [4., 5., 6.]],\n",
      "\n",
      "        [[2., 4., 1.],\n",
      "         [5., 3., 1.]]])\n",
      "tensor([[[1., 2., 3.],\n",
      "         [4., 5., 6.]],\n",
      "\n",
      "        [[2., 4., 1.],\n",
      "         [5., 3., 1.]]])\n",
      "tensor([[[0.2689, 0.1192, 0.8808],\n",
      "         [0.2689, 0.8808, 0.9933]],\n",
      "\n",
      "        [[0.7311, 0.8808, 0.1192],\n",
      "         [0.7311, 0.1192, 0.0067]]])\n",
      "tensor([[[0.0900, 0.2447, 0.6652],\n",
      "         [0.0900, 0.2447, 0.6652]],\n",
      "\n",
      "        [[0.1142, 0.8438, 0.0420],\n",
      "         [0.8668, 0.1173, 0.0159]]])\n"
     ]
    },
    {
     "name": "stderr",
     "output_type": "stream",
     "text": [
      "/opt/anaconda3/envs/hanghae99_plusAI_2/lib/python3.12/site-packages/torch/nn/modules/module.py:1736: UserWarning: Implicit dimension choice for softmax has been deprecated. Change the call to include dim=X as an argument.\n",
      "  return self._call_impl(*args, **kwargs)\n"
     ]
    }
   ],
   "source": [
    "\n",
    "import torch\n",
    "from torch import nn\n",
    "\n",
    "softmax1 = nn.Softmax()  #\n",
    "softmax2 = nn.Softmax(dim=-1)  # 마지막 차원에 적용\n",
    "x = torch.tensor([[[1.0, 2.0, 3.0],\n",
    "                   [4.0, 5.0, 6.0]],\n",
    "\n",
    "                  [[2.0, 4.0, 1.0],\n",
    "                   [5.0, 3.0, 1.0]]])\n",
    "\n",
    "print(x.shape)\n",
    "print(x)\n",
    "output1 = softmax1(x)\n",
    "output2 = softmax2(x)\n",
    "print(x)\n",
    "print(output1)\n",
    "print(output2)\n"
   ],
   "metadata": {
    "collapsed": false
   }
  }
 ],
 "metadata": {
  "accelerator": "GPU",
  "colab": {
   "gpuType": "T4",
   "provenance": []
  },
  "kernelspec": {
   "display_name": "Python 3 (ipykernel)",
   "language": "python",
   "name": "python3"
  },
  "language_info": {
   "codemirror_mode": {
    "name": "ipython",
    "version": 3
   },
   "file_extension": ".py",
   "mimetype": "text/x-python",
   "name": "python",
   "nbconvert_exporter": "python",
   "pygments_lexer": "ipython3",
   "version": "3.10.14"
  }
 },
 "nbformat": 4,
 "nbformat_minor": 0
}
