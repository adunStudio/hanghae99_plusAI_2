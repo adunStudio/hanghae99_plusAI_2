{
 "cells": [
  {
   "cell_type": "markdown",
   "metadata": {
    "id": "ymxatB5WYxlL"
   },
   "source": [
    "# Transformer 실습\n",
    "\n",
    "이번 실습에서는 감정 분석 task에 RNN 대신 Transformer를 구현하여 적용해 볼 것입니다.\n",
    "Library import나 dataloader 생성은 RNN 실습 때와 똑같기 때문에 설명은 넘어가도록 하겠습니다."
   ]
  },
  {
   "cell_type": "code",
   "metadata": {
    "id": "HOdhoBVA1zcu",
    "ExecuteTime": {
     "end_time": "2024-12-27T10:19:45.926052Z",
     "start_time": "2024-12-27T10:19:39.778872Z"
    }
   },
   "source": [
    "import torch\n",
    "from datasets import load_dataset\n",
    "from torch.utils.data import DataLoader\n",
    "from transformers import BertTokenizerFast\n",
    "from tokenizers import (\n",
    "    decoders,\n",
    "    models,\n",
    "    normalizers,\n",
    "    pre_tokenizers,\n",
    "    processors,\n",
    "    trainers,\n",
    "    Tokenizer,\n",
    ")\n",
    "\n",
    "device = torch.device(\"mps\")\n",
    "\n",
    "\n",
    "ds = load_dataset(\"stanfordnlp/imdb\")\n",
    "tokenizer = torch.hub.load('huggingface/pytorch-transformers', 'tokenizer', 'bert-base-uncased')\n",
    "\n",
    "\n",
    "def collate_fn(batch):\n",
    "  max_len = 400\n",
    "  texts, labels = [], []\n",
    "  for row in batch:\n",
    "    labels.append(row['label'])\n",
    "    texts.append(row['text'])\n",
    "\n",
    "  texts = torch.LongTensor(tokenizer(texts, padding=True, truncation=True, max_length=max_len).input_ids)\n",
    "  labels = torch.LongTensor(labels)\n",
    "\n",
    "  return texts, labels\n",
    "\n",
    "\n",
    "train_loader = DataLoader(\n",
    "    ds['train'], batch_size=64, shuffle=True, collate_fn=collate_fn\n",
    ")\n",
    "test_loader = DataLoader(\n",
    "    ds['test'], batch_size=64, shuffle=False, collate_fn=collate_fn\n",
    ")"
   ],
   "outputs": [
    {
     "name": "stderr",
     "output_type": "stream",
     "text": [
      "Using cache found in /Users/kimhongil/.cache/torch/hub/huggingface_pytorch-transformers_main\n"
     ]
    }
   ],
   "execution_count": 12
  },
  {
   "cell_type": "markdown",
   "metadata": {
    "id": "i-FshZcTZBQ2"
   },
   "source": [
    "## Self-Attention (주석 추가)"
   ]
  },
  {
   "cell_type": "code",
   "metadata": {
    "id": "MBlMVMZcRAxv",
    "ExecuteTime": {
     "end_time": "2024-12-27T10:19:45.940609Z",
     "start_time": "2024-12-27T10:19:45.935987Z"
    }
   },
   "source": [
    "from torch import nn\n",
    "from math import sqrt\n",
    "\n",
    "# 셀프 어텐션\n",
    "class SelfAttention(nn.Module):\n",
    "  def __init__(self, input_dim, d_model):\n",
    "    super().__init__()\n",
    "\n",
    "    self.input_dim = input_dim # 입력 차원  (보통 어휘 크기((vocab_size)))\n",
    "    self.d_model = d_model     # 임베딩 차원 (모델 크기에 따라 다르다. BERT는 768..)\n",
    "\n",
    "    self.wq = nn.Linear(input_dim, d_model)  # 쿼리(입력 -> d_model 차원 변환)\n",
    "    self.wk = nn.Linear(input_dim, d_model)  #   키(입력 -> d_model 차원 변환)\n",
    "    self.wv = nn.Linear(input_dim, d_model)  #   값(입력 -> d_model 차원 변환)\n",
    "\n",
    "    # 최종 출력을 위한 선형 레이어 (d_model -> d_model)\n",
    "    self.dense = nn.Linear(d_model, d_model)\n",
    "\n",
    "    # 소프트맥스 (어텐션 가중치 계산을 위해((마지막 차원 기준으로 소프트맥스 수행)))\n",
    "    self.softmax = nn.Softmax(dim=-1)\n",
    "\n",
    "  def forward(self, x, mask):\n",
    "    ### 1. Q, K, V 벡터 생성 – 입력을 통해 Wq, Wk, Wv를 선형 변환하여 Q, K, V를 만듬\n",
    "    q, k, v = self.wq(x), self.wk(x), self.wv(x)\n",
    "\t# Q (Query): 현재 기준이 되는 토큰 (검색 기준)\n",
    "    # K (Key): 모든 토큰 (기준과 비교할 대상)\n",
    "    # V (Value): 최종적으로 가중치를 적용해 반환할 값\n",
    "    # 어텐션 매커니즘은 Q와 K의 유사도를 계산하여 V에서 어떤 정보를 얼마만큼 가져올지 결정한다.\n",
    "\n",
    "\n",
    "\n",
    "    ### 2. 어텐션 스코어 계산 – 쿼리(Q)와 키(K)를 내적하여 유사도 계산 (Q * K^T)\n",
    "    # W_q와 W_k는 문맥적으로 유사한 단어를 높은 내적 값을 내뱉도록 학습뇌다.\n",
    "    # B(Batch Size: 배치 크기), S(Sequence length: 시퀀스 길이), D(Embedding Dimension: 임베딩 차원)\n",
    "    score = torch.matmul(q, k.transpose(-1, -2)) # (B, S, D) * (B, D, S) = (B, S, S)\n",
    "    # 어텐션에서 내적 결과를 에너지라고도 한다.\n",
    "    # - 에너지 값이 크면: 쿼리와 키가 매우 유사하다는 의미\n",
    "    # - 에너지 값이 작을수록 두 벡터간의 상관성이 낮다는 의미\n",
    "\n",
    "    ### 3. 스코어 정규화 – sqrt(d_model)로 나눠서 스케일링 (값이 너무 크거나 작아지는 문제 방지(vanishing/exploding))\n",
    "    score = score / sqrt(self.d_model)\n",
    "\n",
    "    ### 4. 마스킹 – 필요 시 패딩이나 특정 토큰을 제외하기 위해 마스크를 적용\n",
    "    if mask is not None:\n",
    "      score = score + (mask * -1e9) # (마스크된 위치(값 1))에 매우 큰 음수 추가 -> 소프트 맥스에서 0이됨)\n",
    "\n",
    "    ### 5. 소프트맥스를 사용해 어텐션 가중치 계산\n",
    "    score = self.softmax(score)\n",
    "\n",
    "\t### 6. 어텐션 가중치 적용 – 값 벡터(V)에 어텐션 가중치를 곱해 최종 결과 생성\n",
    "    # Wv는 유사도가 높은 단어로부터 '올바른 정보'를 가져오도록 학습된다.\n",
    "    result = torch.matmul(score, v) # 가중치 합이 적용되어 컥텍스트 벡터가 된다.\n",
    "    # 컨텍스트 벡터는 각 단어(밸류 벡터)에 어텐션 스코어를 곱한 가중합입니다.\n",
    "    # C_3 = A_<3, 1>V3 + A_<3, 2>V2 + A<3, 3>V3 + A<3, 4>V4\n",
    "\n",
    "\n",
    "    ### 7. 출력 변환 – 선형 변환(dense)을 통해 최종 출력 생성\n",
    "    result = self.dense(result)\n",
    "\n",
    "\n",
    "    return result"
   ],
   "outputs": [],
   "execution_count": 13
  },
  {
   "cell_type": "markdown",
   "source": [
    "## [MY CODE] Multi-Head-Attention (MHA) 구현"
   ],
   "metadata": {
    "collapsed": false
   }
  },
  {
   "cell_type": "code",
   "source": [
    "# 멀티 헤드 어텐션\n",
    "class MultiHeadAttention(nn.Module):\n",
    "  def __init__(self, input_dim, d_model, n_heads):\n",
    "    super().__init__()\n",
    "\n",
    "    self.input_dim = input_dim # 입력 차원  (보통 어휘 크기((vocab_size)))\n",
    "    self.d_model = d_model     # 임베딩 차원 (모델 크기에 따라 다르다. BERT는 768..)\n",
    "    self.n_heads = n_heads      # 헤드 수 (멀티 헤드)\n",
    "    assert d_model % n_heads == 0, \"d_model은 n_heads로 나누어 떨어져야 합니다.\"\n",
    "    # 헤드는 독립접으로 어텐션을 수행하는 하나의 어텐션 매커니즘이다.\n",
    "\n",
    "    # 각 헤드의 차원\n",
    "    self.depth = d_model // n_heads # (D' = d_model / H)\n",
    "\n",
    "    self.wq = nn.Linear(input_dim, d_model)  # 쿼리(입력 -> d_model 차원 변환)\n",
    "    self.wk = nn.Linear(input_dim, d_model)  #   키(입력 -> d_model 차원 변환)\n",
    "    self.wv = nn.Linear(input_dim, d_model)  #   값(입력 -> d_model 차원 변환)\n",
    "\n",
    "    # 최종 출력을 위한 선형 레이어 (d_model -> d_model)\n",
    "    self.dense = nn.Linear(d_model, d_model)\n",
    "\n",
    "    # 소프트맥스 (어텐션 가중치 계산을 위해((마지막 차원 기준으로 소프트맥스 수행)))\n",
    "    self.softmax = nn.Softmax(dim=-1)\n",
    "\n",
    "  def split_heads(self, x, batch_size):\n",
    "    \"\"\"\n",
    "    Q, K, V를 헤드 수(n_heads)로 나누고 transpose하여 (B, H, S, D) 형태로 변환\n",
    "    \"\"\"\n",
    "    x = x.view(batch_size, -1, self.n_heads, self.depth)\n",
    "    return x.transpose(1, 2)  # (B, S, H, D') -> (B, H, S, D')\n",
    "\n",
    "  def forward(self, x, mask):\n",
    "    # 🔹 1. Q, K, V 벡터 생성 – 입력을 통해 Wq, Wk, Wv를 선형 변환하여 Q, K, V를 만듬\n",
    "    q, k, v = self.wq(x), self.wk(x), self.wv(x)\n",
    "    # Q (Query): 현재 기준이 되는 토큰 (검색 기준)\n",
    "    # K (Key): 모든 토큰 (기준과 비교할 대상)\n",
    "    # V (Value): 최종적으로 가중치를 적용해 반환할 값\n",
    "    # 어텐션 매커니즘은 Q와 K의 유사도를 계산하여 V에서 어떤 정보를 얼마만큼 가져올지 결정한다.\n",
    "\n",
    "    # 🔹 2. 헤드로 나눈다.\n",
    "    batch_size = x.shape[0]\n",
    "    q = self.split_heads(q, batch_size)  # (B, H, S, D)\n",
    "    k = self.split_heads(k, batch_size)  # (B, H, S, D)\n",
    "    v = self.split_heads(v, batch_size)  # (B, H, S, D)\n",
    "\n",
    "    # 🔹 3. 어텐션 스코어 계산 – 쿼리(Q)와 키(K)를 내적하여 유사도 계산 (Q * K^T)\n",
    "    # W_q와 W_k는 문맥적으로 유사한 단어를 높은 내적 값을 내뱉도록 학습뇌다.\n",
    "    # B(Batch Size: 배치 크기), S(Sequence length: 시퀀스 길이), D(Embedding Dimension: 임베딩 차원)\n",
    "    score = torch.matmul(q, k.transpose(-1, -2)) # (B, H, S, D) * (B, H, D, S) = (B, H, S, S)\n",
    "    # 어텐션에서 내적 결과를 에너지라고도 한다.\n",
    "    # - 에너지 값이 크면: 쿼리와 키가 매우 유사하다는 의미\n",
    "    # - 에너지 값이 작을수록 두 벡터간의 상관성이 낮다는 의미\n",
    "\n",
    "    # 🔹 4. 스코어 정규화 – sqrt(d_model)로 나눠서 스케일링 (값이 너무 크거나 작아지는 문제 방지(vanishing/exploding))\n",
    "    # 멀티헤드 어텐션에서는 임베딩 차원이 작아졌으므로 depth로 나너야 함\n",
    "    score = score / sqrt(self.depth)\n",
    "\n",
    "    # 🔹 5. 마스킹 – 필요 시 패딩이나 특정 토큰을 제외하기 위해 마스크를 적용\n",
    "    if mask is not None:\n",
    "      score = score + (mask * -1e9) # (마스크된 위치(값 1))에 매우 큰 음수 추가 -> 소프트 맥스에서 0이됨)\n",
    "\n",
    "    # 🔹 6. 소프트맥스를 사용해 어텐션 가중치 계산\n",
    "    score = self.softmax(score)\n",
    "\n",
    "    # 🔹 7. 어텐션 가중치 적용 – 값 벡터(V)에 어텐션 가중치를 곱해 최종 결과 생성\n",
    "    # Wv는 유사도가 높은 단어로부터 '올바른 정보'를 가져오도록 학습된다.\n",
    "    result = torch.matmul(score, v) # 가중치 합이 적용되어 컥텍스트 벡터가 된다.\n",
    "    # 컨텍스트 벡터는 각 단어(밸류 벡터)에 어텐션 스코어를 곱한 가중합입니다.\n",
    "    # C_3 = A_<3, 1>V3 + A_<3, 2>V2 + A<3, 3>V3 + A<3, 4>V4\n",
    "\n",
    "    \"\"\"\n",
    "    입력 임베딩 (B, S, 512)\n",
    "    └── (512차원을 8개의 헤드로 나눔)\n",
    "          ├── 1번째 헤드 (64차원)\n",
    "          ├── 2번째 헤드 (64차원)\n",
    "          ├── ...\n",
    "          └── 8번째 헤드 (64차원)\n",
    "    └── (다시 병합하여 512차원으로 복원)\n",
    "    \"\"\"\n",
    "    # 🔹 8. 헤드 합치기\n",
    "    # 차원 증가가 아니라, 중복 합치기가 아니라 단순히 더 작게 나누었던 차원을 다시 합치는 과정\n",
    "    result = result.transpose(1, 2).contiguous()  # (B, S, H, D)\n",
    "    result = result.view(batch_size, -1, self.d_model)  # (B, S, D)\n",
    "\n",
    "    # 🔹 9. 출력 변환 – 선형 변환(dense)을 통해 최종 출력 생성\n",
    "    result = self.dense(result)\n",
    "\n",
    "\n",
    "    return result"
   ],
   "metadata": {
    "collapsed": false,
    "ExecuteTime": {
     "end_time": "2024-12-27T10:19:47.851447Z",
     "start_time": "2024-12-27T10:19:47.845793Z"
    }
   },
   "outputs": [],
   "execution_count": 14
  },
  {
   "cell_type": "markdown",
   "metadata": {
    "id": "J3VYrqTJagS1"
   },
   "source": [
    "## Positional encoding (주석 추가)\n",
    "\n",
    "트랜스포머 모델은 순차적인 RNN과 달리 위치 정보가 자연스럽게 반영되지 않는다. 따라서 위치 정보를 추가적으로 부여하는 방식이 필요하다.\n",
    "- 임베딩 차원의 짝수 인덱스에는 사인(Sin)\n",
    "- 홀수 인덱스에는 코사인(Cos)을 적용해 단어 위치에 따라 규칙적이고 주기적인 패턴을 적용한다.\n",
    "장점:\n",
    "-> -1 ~ 1 사이의 값으로 너무 크지 않다.\n",
    "-> 서로 다른 주기를 사용함으로써 중복되지 않다. (Sin(1)과 Sin(2)는 매우 다른 값을 가진다.)\n",
    "\n",
    "$$\n",
    "\\begin{align*} PE_{pos, 2i} &= \\sin\\left( \\frac{pos}{10000^{2i/D}} \\right), \\\\ PE_{pos, 2i+1} &= \\cos\\left( \\frac{pos}{10000^{2i/D}} \\right).\\end{align*}\n",
    "$$\n",
    "\n",
    "이를 Numpy로 구현하여 PyTorch tensor로 변환한 모습은 다음과 같습니다:"
   ]
  },
  {
   "cell_type": "code",
   "metadata": {
    "colab": {
     "base_uri": "https://localhost:8080/"
    },
    "executionInfo": {
     "elapsed": 16,
     "status": "ok",
     "timestamp": 1723896343031,
     "user": {
      "displayName": "조승혁",
      "userId": "15759752471844115325"
     },
     "user_tz": -540
    },
    "id": "Uf_jMQWDUR79",
    "outputId": "534712be-1522-4d32-81b7-87f50a6f1f2a",
    "ExecuteTime": {
     "end_time": "2024-12-27T10:19:48.742361Z",
     "start_time": "2024-12-27T10:19:48.738308Z"
    }
   },
   "source": [
    "import numpy as np\n",
    "\n",
    "\n",
    "def get_angles(pos, i, d_model):\n",
    "    \"\"\"\n",
    "    pos: 위치 (Position) → 문장의 각 단어의 위치 (배치의 단어 인덱스)\n",
    "    i: 임베딩 차원의 인덱스 (0, 1, 2, ...)\n",
    "    d_model: 전체 임베딩 차원 (예: 256, 512 등)\n",
    "\n",
    "    각 위치(pos)와 임베딩 차원(i)에 따라 고유한 각도 값(angle_rates)을 계산하는 함수\n",
    "    이 각도는 위치 정보를 학습하지 않고도 네트워크가 순서를 인식할 수 있게 해줌\n",
    "    \"\"\"\n",
    "\n",
    "    # 주어진 위치와 임베딩 차원에 따라 각도 변화율(angle_rates) 계산\n",
    "    # 10000은 트랜스포머에서 사용하는 기준 상수로, 주파수 스케일링 역할을 함\n",
    "    # i가 커질수록(차원이 증가할수록) 각도 변화율이 작아짐\n",
    "    angle_rates = 1 / np.power(10000, (2 * (i // 2)) / np.float32(d_model))\n",
    "    return pos * angle_rates\n",
    "\n",
    "\n",
    "def positional_encoding(position, d_model):\n",
    "    \"\"\"\n",
    "    position: 문장의 최대 길이 (시퀀스 길이, 예: 400)\n",
    "    d_model: 임베딩 차원 (예: 256)\n",
    "\n",
    "    각 위치에 대한 사인(Sin)과 코사인(Cosine)을 기반으로 포지셔널 인코딩 행렬을 생성\n",
    "    \"\"\"\n",
    "    # 각 위치(pos)와 임베딩 차원(i)에 대해 get_angles 함수를 호출해 각도 계산\n",
    "    # np.arange(position)[:, None]: 위치 인덱스 (세로로 확장) [[0] [1] [2] [3] [4] ...]\n",
    "    # np.arange(d_model)[None, :]: 임베딩 차원 인덱스 (가로로 확장) [[0 1 2 3 4 ...]]\n",
    "    # 결과적으로 (position, d_model) 크기의 각도 행렬(angle_rads)을 생성\n",
    "    angle_rads = get_angles(np.arange(position)[:, None], np.arange(d_model)[None, :], d_model)\n",
    "    # 짝수 인덱스(0, 2, 4...) → 사인(Sin) 적용\n",
    "    angle_rads[:, 0::2] = np.sin(angle_rads[:, 0::2])\n",
    "    # 홀수 인덱스(1, 3, 5...) → 코사인(Cos) 적용\n",
    "    angle_rads[:, 1::2] = np.cos(angle_rads[:, 1::2])\n",
    "\n",
    "    # Positional Encoding을 3차원으로 확장 (Batch 차원 추가)\n",
    "    # (1, position, d_model) 형태 → 배치 차원을 추가해 여러 문장에 적용 가능\n",
    "    pos_encoding = angle_rads[None, ...]\n",
    "\n",
    "    return torch.FloatTensor(pos_encoding)\n",
    "\n",
    "\n",
    "max_len = 400"
   ],
   "outputs": [],
   "execution_count": 15
  },
  {
   "cell_type": "markdown",
   "source": [
    "## [MY CODE] TransformerLayer - Layer normalization, dropout, residual connection 구현"
   ],
   "metadata": {
    "collapsed": false
   }
  },
  {
   "cell_type": "code",
   "source": [
    "class TransformerLayer(nn.Module):\n",
    "  def __init__(self, input_dim, d_model, dff, n_heads, dropout_rate=0.1):\n",
    "    super().__init__()\n",
    "\n",
    "    self.input_dim = input_dim\n",
    "    self.d_model = d_model\n",
    "    self.dff = dff\n",
    "\n",
    "    # 🔹 기존 Self-Attention을 MultiHeadAttention으로 변경\n",
    "    self.mha = MultiHeadAttention(input_dim, d_model, n_heads)\n",
    "\n",
    "    # 🔹 Layer Normalization 추가\n",
    "    self.layer_norm1 = nn.LayerNorm(d_model)\n",
    "    self.layer_norm2 = nn.LayerNorm(d_model)\n",
    "\n",
    "    # 🔹 Dropout 추가\n",
    "    self.dropout1 = nn.Dropout(dropout_rate)\n",
    "    self.dropout2 = nn.Dropout(dropout_rate)\n",
    "\n",
    "    # 🔹 Feed Forward Network (FFN)\n",
    "    self.ffn = nn.Sequential(\n",
    "      nn.Linear(d_model, dff),\n",
    "      nn.ReLU(),\n",
    "      nn.Linear(dff, d_model)\n",
    "    )\n",
    "\n",
    "  def forward(self, x, mask):\n",
    "    # 🔹 Multi-Head Attention + Dropout + Residual Connection + LayerNorm\n",
    "    x1 = self.mha(x, mask)\n",
    "    x1 = self.dropout1(x1)\n",
    "    x1 = self.layer_norm1(x1 + x)\n",
    "\n",
    "    # 🔹 Feed Forward Network + Dropout + Residual Connection + LayerNorm\n",
    "    x2 = self.ffn(x1)\n",
    "    x2 = self.dropout2(x2)\n",
    "    x2 = self.layer_norm2(x2 + x1)\n",
    "\n",
    "    return x2"
   ],
   "metadata": {
    "collapsed": false,
    "ExecuteTime": {
     "end_time": "2024-12-27T10:19:49.636234Z",
     "start_time": "2024-12-27T10:19:49.631839Z"
    }
   },
   "outputs": [],
   "execution_count": 16
  },
  {
   "cell_type": "code",
   "metadata": {
    "id": "8MaiCGh8TsDH",
    "ExecuteTime": {
     "end_time": "2024-12-27T10:19:50.508266Z",
     "start_time": "2024-12-27T10:19:50.503995Z"
    }
   },
   "source": [
    "class TextClassifier(nn.Module):\n",
    "  def __init__(self, vocab_size, d_model, n_layers, dff, n_heads):\n",
    "    super().__init__()\n",
    "\n",
    "    self.vocab_size = vocab_size\n",
    "    self.d_model = d_model\n",
    "    self.n_layers = n_layers\n",
    "    self.dff = dff\n",
    "\n",
    "    # 🔹 임베딩 층: 단어의 정수 인덱스를 d_model 차원의 벡터로 변환\n",
    "    self.embedding = nn.Embedding(vocab_size, d_model)\n",
    "\n",
    "    # 🔹 포지셔널 인코딩: 입력 토큰의 위치 정보를 부여하는 역할\n",
    "    # 위치에 따라 다른 사인(sin) 및 코사인(cos) 값을 더해 순서를 인식 가능\n",
    "    self.pos_encoding = nn.parameter.Parameter(positional_encoding(max_len, d_model), requires_grad=False)\n",
    "\n",
    "    # 🔹 트랜스포머 인코더 레이어 리스트 생성\n",
    "    # n_layers 개수만큼 TransformerLayer를 쌓음\n",
    "    # 각 레이어는 멀티헤드 어텐션(MHA) + FFN으로 구성\n",
    "    self.layers = nn.ModuleList([TransformerLayer(d_model, d_model, dff, n_heads) for _ in range(n_layers)])\n",
    "\n",
    "    # 🔹 최종 선형 분류기 (1차원 출력)\n",
    "    # 문장의 첫 번째 토큰(주로 [CLS] 토큰)에 대한 예측을 수행\n",
    "    self.classification = nn.Linear(d_model, 1)\n",
    "\n",
    "  def forward(self, x):\n",
    "    # 🔹 마스킹 처리\n",
    "    mask = (x == tokenizer.pad_token_id).unsqueeze(1).unsqueeze(2)\n",
    "    #mask = mask[:, None, :]\n",
    "    # mask shape: (B, 1, 1, S)\n",
    "    # 어텐션 스코어에서 브로드캐스트되어 (B, H, S, S)로 확장됨\n",
    "    seq_len = x.shape[1]\n",
    "\n",
    "    # 🔹 임베딩 및 포지셔널 인코딩 적용\n",
    "    x = self.embedding(x)\n",
    "    x = x * sqrt(self.d_model)\n",
    "    x = x + self.pos_encoding[:, :seq_len]\n",
    "\n",
    "    # 🔹 트랜스포머 레이어 통과\n",
    "    for layer in self.layers:\n",
    "      x = layer(x, mask)\n",
    "\n",
    "    # 🔹 첫 번째 토큰([CLS])을 분류기로 전달\n",
    "    x = x[:, 0]\n",
    "    x = self.classification(x)\n",
    "\n",
    "    return x"
   ],
   "outputs": [],
   "execution_count": 17
  },
  {
   "cell_type": "code",
   "source": [
    "import numpy as np\n",
    "import matplotlib.pyplot as plt\n",
    "\n",
    "\n",
    "def accuracy(model, dataloader):\n",
    "  cnt = 0\n",
    "  acc = 0\n",
    "\n",
    "  for data in dataloader:\n",
    "    inputs, labels = data\n",
    "    inputs, labels = inputs.to(device), labels.to(device)\n",
    "\n",
    "    preds = model(inputs)\n",
    "    # preds = torch.argmax(preds, dim=-1)\n",
    "    preds = (preds > 0).long()[..., 0]\n",
    "\n",
    "    cnt += labels.shape[0]\n",
    "    acc += (labels == preds).sum().item()\n",
    "\n",
    "  return acc / cnt"
   ],
   "metadata": {
    "collapsed": false,
    "ExecuteTime": {
     "end_time": "2024-12-27T10:19:51.403416Z",
     "start_time": "2024-12-27T10:19:51.399336Z"
    }
   },
   "outputs": [],
   "execution_count": 18
  },
  {
   "cell_type": "code",
   "source": [
    "def plot_acc(train_accuracies, test_accuracies, label1='train', label2='test'):\n",
    "  x = np.arange(len(train_accuracies))\n",
    "\n",
    "  plt.plot(x, train_accuracies, label=label1)\n",
    "  plt.plot(x, test_accuracies, label=label2)\n",
    "  plt.legend()\n",
    "  plt.show()"
   ],
   "metadata": {
    "collapsed": false,
    "ExecuteTime": {
     "end_time": "2024-12-27T10:19:52.468522Z",
     "start_time": "2024-12-27T10:19:52.465869Z"
    }
   },
   "outputs": [],
   "execution_count": 19
  },
  {
   "cell_type": "markdown",
   "metadata": {
    "id": "QDq05OlAb2lB"
   },
   "source": [
    "## [MY CODE] 학습\n",
    "- 5-layer 4-head\n",
    "- 저장/로드 추가"
   ]
  },
  {
   "cell_type": "code",
   "metadata": {
    "id": "YHVVsWBPQmnv",
    "outputId": "64b5790f-7649-4a47-95f8-bebe158aba4f",
    "ExecuteTime": {
     "end_time": "2024-12-27T10:19:53.210145Z",
     "start_time": "2024-12-27T10:19:52.476178Z"
    }
   },
   "source": [
    "from torch.optim import Adam\n",
    "import time\n",
    "\n",
    "lr = 0.001\n",
    "n_layers = 5\n",
    "n_heads  = 4\n",
    "\n",
    "model = TextClassifier(len(tokenizer), 32, n_layers, 32, n_heads)\n",
    "model = model.to(device)\n",
    "loss_fn = nn.BCEWithLogitsLoss()\n",
    "\n",
    "optimizer = Adam(model.parameters(), lr=lr)\n",
    "\n",
    "n_epochs = 50\n",
    "start_epoch = 0\n",
    "\n",
    "time_list = []\n",
    "average_loss_list = []\n",
    "train_accuracies = []\n",
    "test_accuracies = []\n",
    "\n",
    "checkpoint_path = 'checkpoint_TextClassifier.pth'\n",
    "\n",
    "try:\n",
    "    checkpoint = torch.load(checkpoint_path, weights_only=False, map_location=torch.device('mps'))\n",
    "    model.load_state_dict(checkpoint['model_state_dict'])\n",
    "    optimizer.load_state_dict(checkpoint['optimizer_state_dict'])\n",
    "    start_epoch = checkpoint['epoch']  # 이어서 시작할 에포크\n",
    "    time_list = checkpoint['time_list']\n",
    "    average_loss_list = checkpoint['average_loss_list']\n",
    "    train_accuracies = checkpoint['train_accuracies']\n",
    "    test_accuracies = checkpoint['test_accuracies']\n",
    "    for epoch in range(0, start_epoch):\n",
    "        print(f\"Epoch {epoch+1:3d} |\"\n",
    "        f\" Time: {time_list[epoch]:.2f} seconds |\"\n",
    "        f\" Loss: {average_loss_list[epoch]:.2f} |\"\n",
    "        f\" Train Acc: {train_accuracies[epoch]:.3f} |\"\n",
    "        f\" Test Acc: {test_accuracies[epoch]:.3f}\")\n",
    "\n",
    "    if start_epoch < n_epochs -2:\n",
    "        print(f\"이어서 시작~ {start_epoch + 1}.\")\n",
    "except FileNotFoundError:\n",
    "    print(\"새롭게 시작~\")"
   ],
   "outputs": [
    {
     "name": "stdout",
     "output_type": "stream",
     "text": [
      "Epoch   1 | Time: 66.46 seconds | Loss: 0.52 | Train Acc: 0.821 | Test Acc: 0.794\n",
      "Epoch   2 | Time: 60.17 seconds | Loss: 0.36 | Train Acc: 0.892 | Test Acc: 0.829\n",
      "Epoch   3 | Time: 60.31 seconds | Loss: 0.29 | Train Acc: 0.925 | Test Acc: 0.839\n",
      "Epoch   4 | Time: 60.05 seconds | Loss: 0.22 | Train Acc: 0.954 | Test Acc: 0.837\n",
      "Epoch   5 | Time: 60.86 seconds | Loss: 0.17 | Train Acc: 0.956 | Test Acc: 0.833\n",
      "Epoch   6 | Time: 60.13 seconds | Loss: 0.13 | Train Acc: 0.977 | Test Acc: 0.834\n",
      "Epoch   7 | Time: 60.56 seconds | Loss: 0.10 | Train Acc: 0.985 | Test Acc: 0.830\n",
      "Epoch   8 | Time: 60.05 seconds | Loss: 0.08 | Train Acc: 0.990 | Test Acc: 0.832\n",
      "Epoch   9 | Time: 60.53 seconds | Loss: 0.06 | Train Acc: 0.991 | Test Acc: 0.831\n",
      "Epoch  10 | Time: 60.62 seconds | Loss: 0.06 | Train Acc: 0.991 | Test Acc: 0.827\n",
      "Epoch  11 | Time: 59.82 seconds | Loss: 0.05 | Train Acc: 0.992 | Test Acc: 0.825\n",
      "Epoch  12 | Time: 60.80 seconds | Loss: 0.04 | Train Acc: 0.995 | Test Acc: 0.826\n",
      "Epoch  13 | Time: 60.65 seconds | Loss: 0.04 | Train Acc: 0.995 | Test Acc: 0.826\n",
      "Epoch  14 | Time: 59.90 seconds | Loss: 0.04 | Train Acc: 0.996 | Test Acc: 0.831\n",
      "Epoch  15 | Time: 60.14 seconds | Loss: 0.03 | Train Acc: 0.995 | Test Acc: 0.828\n",
      "Epoch  16 | Time: 60.32 seconds | Loss: 0.03 | Train Acc: 0.995 | Test Acc: 0.833\n",
      "Epoch  17 | Time: 59.76 seconds | Loss: 0.03 | Train Acc: 0.996 | Test Acc: 0.829\n",
      "Epoch  18 | Time: 60.26 seconds | Loss: 0.03 | Train Acc: 0.997 | Test Acc: 0.828\n",
      "Epoch  19 | Time: 60.24 seconds | Loss: 0.03 | Train Acc: 0.995 | Test Acc: 0.828\n",
      "Epoch  20 | Time: 59.94 seconds | Loss: 0.02 | Train Acc: 0.994 | Test Acc: 0.820\n",
      "Epoch  21 | Time: 60.62 seconds | Loss: 0.03 | Train Acc: 0.995 | Test Acc: 0.820\n",
      "Epoch  22 | Time: 60.36 seconds | Loss: 0.03 | Train Acc: 0.992 | Test Acc: 0.815\n",
      "Epoch  23 | Time: 59.99 seconds | Loss: 0.03 | Train Acc: 0.996 | Test Acc: 0.825\n",
      "Epoch  24 | Time: 60.66 seconds | Loss: 0.02 | Train Acc: 0.996 | Test Acc: 0.829\n",
      "Epoch  25 | Time: 60.15 seconds | Loss: 0.02 | Train Acc: 0.996 | Test Acc: 0.829\n",
      "Epoch  26 | Time: 59.89 seconds | Loss: 0.02 | Train Acc: 0.997 | Test Acc: 0.828\n",
      "Epoch  27 | Time: 60.50 seconds | Loss: 0.02 | Train Acc: 0.997 | Test Acc: 0.828\n",
      "Epoch  28 | Time: 60.18 seconds | Loss: 0.02 | Train Acc: 0.998 | Test Acc: 0.830\n",
      "Epoch  29 | Time: 59.73 seconds | Loss: 0.02 | Train Acc: 0.997 | Test Acc: 0.830\n",
      "Epoch  30 | Time: 60.44 seconds | Loss: 0.02 | Train Acc: 0.996 | Test Acc: 0.831\n",
      "Epoch  31 | Time: 60.48 seconds | Loss: 0.03 | Train Acc: 0.997 | Test Acc: 0.826\n",
      "Epoch  32 | Time: 59.84 seconds | Loss: 0.02 | Train Acc: 0.998 | Test Acc: 0.829\n",
      "Epoch  33 | Time: 60.52 seconds | Loss: 0.02 | Train Acc: 0.997 | Test Acc: 0.832\n",
      "Epoch  34 | Time: 60.24 seconds | Loss: 0.02 | Train Acc: 0.997 | Test Acc: 0.826\n",
      "Epoch  35 | Time: 59.60 seconds | Loss: 0.02 | Train Acc: 0.998 | Test Acc: 0.827\n",
      "Epoch  36 | Time: 59.98 seconds | Loss: 0.02 | Train Acc: 0.997 | Test Acc: 0.832\n",
      "Epoch  37 | Time: 60.20 seconds | Loss: 0.02 | Train Acc: 0.988 | Test Acc: 0.826\n",
      "Epoch  38 | Time: 59.82 seconds | Loss: 0.02 | Train Acc: 0.998 | Test Acc: 0.829\n",
      "Epoch  39 | Time: 60.39 seconds | Loss: 0.02 | Train Acc: 0.997 | Test Acc: 0.828\n",
      "Epoch  40 | Time: 59.98 seconds | Loss: 0.02 | Train Acc: 0.997 | Test Acc: 0.823\n",
      "Epoch  41 | Time: 59.80 seconds | Loss: 0.02 | Train Acc: 0.996 | Test Acc: 0.831\n",
      "Epoch  42 | Time: 60.54 seconds | Loss: 0.02 | Train Acc: 0.998 | Test Acc: 0.826\n",
      "Epoch  43 | Time: 60.27 seconds | Loss: 0.02 | Train Acc: 0.997 | Test Acc: 0.826\n",
      "Epoch  44 | Time: 59.48 seconds | Loss: 0.02 | Train Acc: 0.998 | Test Acc: 0.826\n",
      "Epoch  45 | Time: 60.42 seconds | Loss: 0.01 | Train Acc: 0.998 | Test Acc: 0.829\n",
      "Epoch  46 | Time: 59.72 seconds | Loss: 0.02 | Train Acc: 0.990 | Test Acc: 0.824\n",
      "Epoch  47 | Time: 59.99 seconds | Loss: 0.02 | Train Acc: 0.996 | Test Acc: 0.831\n",
      "Epoch  48 | Time: 60.24 seconds | Loss: 0.02 | Train Acc: 0.998 | Test Acc: 0.830\n",
      "Epoch  49 | Time: 59.53 seconds | Loss: 0.01 | Train Acc: 0.998 | Test Acc: 0.828\n",
      "Epoch  50 | Time: 59.79 seconds | Loss: 0.01 | Train Acc: 0.998 | Test Acc: 0.830\n"
     ]
    }
   ],
   "execution_count": 20
  },
  {
   "cell_type": "code",
   "source": [
    "from torchinfo import summary\n",
    "\n",
    "# 모델 정보 출력\n",
    "summary(model, input_size=(64, max_len), dtypes=[torch.int64])"
   ],
   "metadata": {
    "collapsed": false,
    "ExecuteTime": {
     "end_time": "2024-12-27T10:19:54.266452Z",
     "start_time": "2024-12-27T10:19:53.307547Z"
    }
   },
   "outputs": [
    {
     "data": {
      "text/plain": [
       "==========================================================================================\n",
       "Layer (type:depth-idx)                   Output Shape              Param #\n",
       "==========================================================================================\n",
       "TextClassifier                           [64, 1]                   12,800\n",
       "├─Embedding: 1-1                         [64, 400, 32]             976,704\n",
       "├─ModuleList: 1-2                        --                        --\n",
       "│    └─TransformerLayer: 2-1             [64, 400, 32]             --\n",
       "│    │    └─MultiHeadAttention: 3-1      [64, 400, 32]             4,224\n",
       "│    │    └─Dropout: 3-2                 [64, 400, 32]             --\n",
       "│    │    └─LayerNorm: 3-3               [64, 400, 32]             64\n",
       "│    │    └─Sequential: 3-4              [64, 400, 32]             2,112\n",
       "│    │    └─Dropout: 3-5                 [64, 400, 32]             --\n",
       "│    │    └─LayerNorm: 3-6               [64, 400, 32]             64\n",
       "│    └─TransformerLayer: 2-2             [64, 400, 32]             --\n",
       "│    │    └─MultiHeadAttention: 3-7      [64, 400, 32]             4,224\n",
       "│    │    └─Dropout: 3-8                 [64, 400, 32]             --\n",
       "│    │    └─LayerNorm: 3-9               [64, 400, 32]             64\n",
       "│    │    └─Sequential: 3-10             [64, 400, 32]             2,112\n",
       "│    │    └─Dropout: 3-11                [64, 400, 32]             --\n",
       "│    │    └─LayerNorm: 3-12              [64, 400, 32]             64\n",
       "│    └─TransformerLayer: 2-3             [64, 400, 32]             --\n",
       "│    │    └─MultiHeadAttention: 3-13     [64, 400, 32]             4,224\n",
       "│    │    └─Dropout: 3-14                [64, 400, 32]             --\n",
       "│    │    └─LayerNorm: 3-15              [64, 400, 32]             64\n",
       "│    │    └─Sequential: 3-16             [64, 400, 32]             2,112\n",
       "│    │    └─Dropout: 3-17                [64, 400, 32]             --\n",
       "│    │    └─LayerNorm: 3-18              [64, 400, 32]             64\n",
       "│    └─TransformerLayer: 2-4             [64, 400, 32]             --\n",
       "│    │    └─MultiHeadAttention: 3-19     [64, 400, 32]             4,224\n",
       "│    │    └─Dropout: 3-20                [64, 400, 32]             --\n",
       "│    │    └─LayerNorm: 3-21              [64, 400, 32]             64\n",
       "│    │    └─Sequential: 3-22             [64, 400, 32]             2,112\n",
       "│    │    └─Dropout: 3-23                [64, 400, 32]             --\n",
       "│    │    └─LayerNorm: 3-24              [64, 400, 32]             64\n",
       "│    └─TransformerLayer: 2-5             [64, 400, 32]             --\n",
       "│    │    └─MultiHeadAttention: 3-25     [64, 400, 32]             4,224\n",
       "│    │    └─Dropout: 3-26                [64, 400, 32]             --\n",
       "│    │    └─LayerNorm: 3-27              [64, 400, 32]             64\n",
       "│    │    └─Sequential: 3-28             [64, 400, 32]             2,112\n",
       "│    │    └─Dropout: 3-29                [64, 400, 32]             --\n",
       "│    │    └─LayerNorm: 3-30              [64, 400, 32]             64\n",
       "├─Linear: 1-3                            [64, 1]                   33\n",
       "==========================================================================================\n",
       "Total params: 1,021,857\n",
       "Trainable params: 1,009,057\n",
       "Non-trainable params: 12,800\n",
       "Total mult-adds (Units.MEGABYTES): 64.58\n",
       "==========================================================================================\n",
       "Input size (MB): 0.20\n",
       "Forward/backward pass size (MB): 268.70\n",
       "Params size (MB): 4.04\n",
       "Estimated Total Size (MB): 272.94\n",
       "=========================================================================================="
      ]
     },
     "execution_count": 21,
     "metadata": {},
     "output_type": "execute_result"
    }
   ],
   "execution_count": 21
  },
  {
   "cell_type": "code",
   "metadata": {
    "colab": {
     "base_uri": "https://localhost:8080/"
    },
    "executionInfo": {
     "elapsed": 408929,
     "status": "ok",
     "timestamp": 1723896769492,
     "user": {
      "displayName": "조승혁",
      "userId": "15759752471844115325"
     },
     "user_tz": -540
    },
    "id": "al_b56TYRILq",
    "outputId": "90a56264-4ef3-4def-e7b7-df4b5cd3c305",
    "ExecuteTime": {
     "end_time": "2024-12-27T10:19:54.428497Z",
     "start_time": "2024-12-27T10:19:54.400733Z"
    }
   },
   "source": [
    "model.to(device)  # 다시 MPS로 이동 (중요!)\n",
    "\n",
    "for epoch in range(start_epoch, n_epochs):\n",
    "  start_time = time.time()  # 에포크 시작 시간 기록\n",
    "  total_loss = 0.\n",
    "  model.train()\n",
    "  for data in train_loader:\n",
    "    model.zero_grad()\n",
    "    inputs, labels = data\n",
    "    inputs, labels = inputs.to(device), labels.to(device).float()\n",
    "\n",
    "    preds = model(inputs)[..., 0]\n",
    "    loss = loss_fn(preds, labels)\n",
    "    loss.backward()\n",
    "    optimizer.step()\n",
    "\n",
    "    total_loss += loss.item()\n",
    "    average_loss = total_loss / len(train_loader)\n",
    "\n",
    "  with torch.no_grad():\n",
    "    model.eval()\n",
    "\n",
    "    end_time = time.time()\n",
    "    epoch_time = end_time - start_time  # 에포크 실행 시간 계산\n",
    "\n",
    "    train_acc = accuracy(model, train_loader)\n",
    "    test_acc = accuracy(model, test_loader)\n",
    "    train_accuracies.append(train_acc)\n",
    "    test_accuracies.append(test_acc)\n",
    "    time_list.append(epoch_time)\n",
    "    average_loss_list.append(average_loss)\n",
    "\n",
    "    # 체크포인트 저장\n",
    "    torch.save({\n",
    "        'epoch': epoch + 1,\n",
    "        'model_state_dict': model.state_dict(),\n",
    "        'optimizer_state_dict': optimizer.state_dict(),\n",
    "        'time_list': time_list,\n",
    "        'average_loss_list': average_loss_list,\n",
    "        'train_accuracies': train_accuracies,\n",
    "        'test_accuracies': test_accuracies\n",
    "    }, checkpoint_path)\n",
    "\n",
    "    print(f\"Epoch {epoch+1:3d} |\"\n",
    "    f\" Time: {epoch_time:.2f} seconds |\"\n",
    "    f\" Loss: {average_loss:.2f} |\"\n",
    "    f\" Train Acc: {train_acc:.3f} |\"\n",
    "    f\" Test Acc: {test_acc:.3f}\")"
   ],
   "outputs": [],
   "execution_count": 22
  },
  {
   "metadata": {},
   "cell_type": "markdown",
   "source": [
    "## [LOG]\n",
    "```\n",
    "Epoch   1 | Time: 66.46 seconds | Loss: 0.52 | Train Acc: 0.821 | Test Acc: 0.794\n",
    "Epoch   2 | Time: 60.17 seconds | Loss: 0.36 | Train Acc: 0.892 | Test Acc: 0.829\n",
    "Epoch   3 | Time: 60.31 seconds | Loss: 0.29 | Train Acc: 0.925 | Test Acc: 0.839\n",
    "Epoch   4 | Time: 60.05 seconds | Loss: 0.22 | Train Acc: 0.954 | Test Acc: 0.837\n",
    "Epoch   5 | Time: 60.86 seconds | Loss: 0.17 | Train Acc: 0.956 | Test Acc: 0.833\n",
    "Epoch   6 | Time: 60.13 seconds | Loss: 0.13 | Train Acc: 0.977 | Test Acc: 0.834\n",
    "Epoch   7 | Time: 60.56 seconds | Loss: 0.10 | Train Acc: 0.985 | Test Acc: 0.830\n",
    "Epoch   8 | Time: 60.05 seconds | Loss: 0.08 | Train Acc: 0.990 | Test Acc: 0.832\n",
    "Epoch   9 | Time: 60.53 seconds | Loss: 0.06 | Train Acc: 0.991 | Test Acc: 0.831\n",
    "Epoch  10 | Time: 60.62 seconds | Loss: 0.06 | Train Acc: 0.991 | Test Acc: 0.827\n",
    "Epoch  11 | Time: 59.82 seconds | Loss: 0.05 | Train Acc: 0.992 | Test Acc: 0.825\n",
    "Epoch  12 | Time: 60.80 seconds | Loss: 0.04 | Train Acc: 0.995 | Test Acc: 0.826\n",
    "Epoch  13 | Time: 60.65 seconds | Loss: 0.04 | Train Acc: 0.995 | Test Acc: 0.826\n",
    "Epoch  14 | Time: 59.90 seconds | Loss: 0.04 | Train Acc: 0.996 | Test Acc: 0.831\n",
    "Epoch  15 | Time: 60.14 seconds | Loss: 0.03 | Train Acc: 0.995 | Test Acc: 0.828\n",
    "Epoch  16 | Time: 60.32 seconds | Loss: 0.03 | Train Acc: 0.995 | Test Acc: 0.833\n",
    "Epoch  17 | Time: 59.76 seconds | Loss: 0.03 | Train Acc: 0.996 | Test Acc: 0.829\n",
    "Epoch  18 | Time: 60.26 seconds | Loss: 0.03 | Train Acc: 0.997 | Test Acc: 0.828\n",
    "Epoch  19 | Time: 60.24 seconds | Loss: 0.03 | Train Acc: 0.995 | Test Acc: 0.828\n",
    "Epoch  20 | Time: 59.94 seconds | Loss: 0.02 | Train Acc: 0.994 | Test Acc: 0.820\n",
    "Epoch  21 | Time: 60.62 seconds | Loss: 0.03 | Train Acc: 0.995 | Test Acc: 0.820\n",
    "Epoch  22 | Time: 60.36 seconds | Loss: 0.03 | Train Acc: 0.992 | Test Acc: 0.815\n",
    "Epoch  23 | Time: 59.99 seconds | Loss: 0.03 | Train Acc: 0.996 | Test Acc: 0.825\n",
    "Epoch  24 | Time: 60.66 seconds | Loss: 0.02 | Train Acc: 0.996 | Test Acc: 0.829\n",
    "Epoch  25 | Time: 60.15 seconds | Loss: 0.02 | Train Acc: 0.996 | Test Acc: 0.829\n",
    "Epoch  26 | Time: 59.89 seconds | Loss: 0.02 | Train Acc: 0.997 | Test Acc: 0.828\n",
    "Epoch  27 | Time: 60.50 seconds | Loss: 0.02 | Train Acc: 0.997 | Test Acc: 0.828\n",
    "Epoch  28 | Time: 60.18 seconds | Loss: 0.02 | Train Acc: 0.998 | Test Acc: 0.830\n",
    "Epoch  29 | Time: 59.73 seconds | Loss: 0.02 | Train Acc: 0.997 | Test Acc: 0.830\n",
    "Epoch  30 | Time: 60.44 seconds | Loss: 0.02 | Train Acc: 0.996 | Test Acc: 0.831\n",
    "Epoch  31 | Time: 60.48 seconds | Loss: 0.03 | Train Acc: 0.997 | Test Acc: 0.826\n",
    "Epoch  32 | Time: 59.84 seconds | Loss: 0.02 | Train Acc: 0.998 | Test Acc: 0.829\n",
    "Epoch  33 | Time: 60.52 seconds | Loss: 0.02 | Train Acc: 0.997 | Test Acc: 0.832\n",
    "Epoch  34 | Time: 60.24 seconds | Loss: 0.02 | Train Acc: 0.997 | Test Acc: 0.826\n",
    "Epoch  35 | Time: 59.60 seconds | Loss: 0.02 | Train Acc: 0.998 | Test Acc: 0.827\n",
    "Epoch  36 | Time: 59.98 seconds | Loss: 0.02 | Train Acc: 0.997 | Test Acc: 0.832\n",
    "Epoch  37 | Time: 60.20 seconds | Loss: 0.02 | Train Acc: 0.988 | Test Acc: 0.826\n",
    "Epoch  38 | Time: 59.82 seconds | Loss: 0.02 | Train Acc: 0.998 | Test Acc: 0.829\n",
    "Epoch  39 | Time: 60.39 seconds | Loss: 0.02 | Train Acc: 0.997 | Test Acc: 0.828\n",
    "Epoch  40 | Time: 59.98 seconds | Loss: 0.02 | Train Acc: 0.997 | Test Acc: 0.823\n",
    "Epoch  41 | Time: 59.80 seconds | Loss: 0.02 | Train Acc: 0.996 | Test Acc: 0.831\n",
    "Epoch  42 | Time: 60.54 seconds | Loss: 0.02 | Train Acc: 0.998 | Test Acc: 0.826\n",
    "Epoch  43 | Time: 60.27 seconds | Loss: 0.02 | Train Acc: 0.997 | Test Acc: 0.826\n",
    "Epoch  44 | Time: 59.48 seconds | Loss: 0.02 | Train Acc: 0.998 | Test Acc: 0.826\n",
    "Epoch  45 | Time: 60.42 seconds | Loss: 0.01 | Train Acc: 0.998 | Test Acc: 0.829\n",
    "Epoch  46 | Time: 59.72 seconds | Loss: 0.02 | Train Acc: 0.990 | Test Acc: 0.824\n",
    "Epoch  47 | Time: 59.99 seconds | Loss: 0.02 | Train Acc: 0.996 | Test Acc: 0.831\n",
    "Epoch  48 | Time: 60.24 seconds | Loss: 0.02 | Train Acc: 0.998 | Test Acc: 0.830\n",
    "Epoch  49 | Time: 59.53 seconds | Loss: 0.01 | Train Acc: 0.998 | Test Acc: 0.828\n",
    "Epoch  50 | Time: 59.79 seconds | Loss: 0.01 | Train Acc: 0.998 | Test Acc: 0.830\n",
    "```"
   ]
  },
  {
   "cell_type": "code",
   "source": [
    "plot_acc(train_accuracies, test_accuracies)"
   ],
   "metadata": {
    "collapsed": false,
    "ExecuteTime": {
     "end_time": "2024-12-27T10:19:54.895289Z",
     "start_time": "2024-12-27T10:19:54.432609Z"
    }
   },
   "outputs": [
    {
     "data": {
      "text/plain": [
       "<Figure size 640x480 with 1 Axes>"
      ],
      "image/png": "[encoded data removed]"
     },
     "metadata": {},
     "output_type": "display_data"
    }
   ],
   "execution_count": 23
  },
  {
   "cell_type": "markdown",
   "source": [],
   "metadata": {
    "collapsed": false
   }
  }
 ],
 "metadata": {
  "accelerator": "GPU",
  "colab": {
   "gpuType": "T4",
   "provenance": []
  },
  "kernelspec": {
   "display_name": "Python 3 (ipykernel)",
   "language": "python",
   "name": "python3"
  },
  "language_info": {
   "codemirror_mode": {
    "name": "ipython",
    "version": 3
   },
   "file_extension": ".py",
   "mimetype": "text/x-python",
   "name": "python",
   "nbconvert_exporter": "python",
   "pygments_lexer": "ipython3",
   "version": "3.10.14"
  }
 },
 "nbformat": 4,
 "nbformat_minor": 0
}
