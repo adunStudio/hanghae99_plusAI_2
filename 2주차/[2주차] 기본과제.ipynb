{
 "cells": [
  {
   "cell_type": "markdown",
   "source": [
    "# [MY CODE] Last word prediction dataset 준비"
   ],
   "metadata": {
    "collapsed": false
   }
  },
  {
   "cell_type": "code",
   "metadata": {
    "id": "HOdhoBVA1zcu",
    "ExecuteTime": {
     "end_time": "2024-12-25T14:21:55.145237Z",
     "start_time": "2024-12-25T14:21:49.622093Z"
    }
   },
   "source": [
    "import torch\n",
    "from datasets import load_dataset\n",
    "from numpy.ma.extras import average\n",
    "from torch.nn.functional import dropout\n",
    "from torch.utils.data import DataLoader\n",
    "\n",
    "ds = load_dataset(\"stanfordnlp/imdb\")\n",
    "tokenizer = torch.hub.load('huggingface/pytorch-transformers', 'tokenizer', 'bert-base-uncased')\n",
    "from torch.nn.utils.rnn import pad_sequence\n",
    "\n",
    "\n",
    "def collate_fn(batch):\n",
    "  max_len= 400\n",
    "  texts, labels = [], []\n",
    "  for row in batch:\n",
    "    # 라벨을 감정이 아닌 각 텍스트의 뒷자리 단어(토큰) 2개로 변경\n",
    "    tokenizer_output = tokenizer(row['text'], truncation=True, max_length=max_len)\n",
    "    labels.append(tokenizer_output.input_ids[-2])\n",
    "    texts.append(torch.LongTensor(tokenizer_output.input_ids[:-2]))\n",
    "\n",
    "  # 패딩 처리(길이가 맞지 않는 경우를 위해)\n",
    "  texts = pad_sequence(texts, batch_first=True, padding_value=tokenizer.pad_token_id)\n",
    "  labels = torch.LongTensor(labels)\n",
    "\n",
    "  return texts, labels\n",
    "\n",
    "batch_size = 64\n",
    "train_loader = DataLoader(\n",
    "    ds['train'], batch_size=batch_size, shuffle=True, collate_fn=collate_fn\n",
    ")\n",
    "test_loader = DataLoader(\n",
    "    ds['test'], batch_size=batch_size, shuffle=False, collate_fn=collate_fn\n",
    ")"
   ],
   "outputs": [
    {
     "name": "stderr",
     "output_type": "stream",
     "text": [
      "/opt/anaconda3/envs/hanghae99_plusAI_2/lib/python3.12/site-packages/tqdm/auto.py:21: TqdmWarning: IProgress not found. Please update jupyter and ipywidgets. See https://ipywidgets.readthedocs.io/en/stable/user_install.html\n",
      "  from .autonotebook import tqdm as notebook_tqdm\n",
      "Using cache found in /Users/kimhongil/.cache/torch/hub/huggingface_pytorch-transformers_main\n"
     ]
    }
   ],
   "execution_count": 1
  },
  {
   "cell_type": "markdown",
   "source": [
    "# [MY CODE] Shape와 입력/출력 확인(빈도 등)"
   ],
   "metadata": {
    "collapsed": false
   }
  },
  {
   "cell_type": "code",
   "source": [
    "ds['train'][0]"
   ],
   "metadata": {
    "collapsed": false,
    "ExecuteTime": {
     "end_time": "2024-12-25T14:21:55.155238Z",
     "start_time": "2024-12-25T14:21:55.151301Z"
    }
   },
   "outputs": [
    {
     "data": {
      "text/plain": [
       "{'text': 'I rented I AM CURIOUS-YELLOW from my video store because of all the controversy that surrounded it when it was first released in 1967. I also heard that at first it was seized by U.S. customs if it ever tried to enter this country, therefore being a fan of films considered \"controversial\" I really had to see this for myself.<br /><br />The plot is centered around a young Swedish drama student named Lena who wants to learn everything she can about life. In particular she wants to focus her attentions to making some sort of documentary on what the average Swede thought about certain political issues such as the Vietnam War and race issues in the United States. In between asking politicians and ordinary denizens of Stockholm about their opinions on politics, she has sex with her drama teacher, classmates, and married men.<br /><br />What kills me about I AM CURIOUS-YELLOW is that 40 years ago, this was considered pornographic. Really, the sex and nudity scenes are few and far between, even then it\\'s not shot like some cheaply made porno. While my countrymen mind find it shocking, in reality sex and nudity are a major staple in Swedish cinema. Even Ingmar Bergman, arguably their answer to good old boy John Ford, had sex scenes in his films.<br /><br />I do commend the filmmakers for the fact that any sex shown in the film is shown for artistic purposes rather than just to shock people and make money to be shown in pornographic theaters in America. I AM CURIOUS-YELLOW is a good film for anyone wanting to study the meat and potatoes (no pun intended) of Swedish cinema. But really, this film doesn\\'t have much of a plot.',\n",
       " 'label': 0}"
      ]
     },
     "execution_count": 133,
     "metadata": {},
     "output_type": "execute_result"
    }
   ],
   "execution_count": 133
  },
  {
   "cell_type": "code",
   "source": [
    "for batch in train_loader:\n",
    "    inputs, labels = batch  # DataLoader에서 배치 추출\n",
    "    print(f\"입력 텍스트 (input_ids) shape: {inputs.shape}\")\n",
    "    print(f\"출력 라벨 (labels) shape: {labels.shape}\")\n",
    "    break  # 첫 번째 배치만 확인"
   ],
   "metadata": {
    "collapsed": false,
    "ExecuteTime": {
     "end_time": "2024-12-25T14:21:55.730574Z",
     "start_time": "2024-12-25T14:21:55.693025Z"
    }
   },
   "outputs": [
    {
     "name": "stdout",
     "output_type": "stream",
     "text": [
      "입력 텍스트 (input_ids) shape: torch.Size([64, 398])\n",
      "출력 라벨 (labels) shape: torch.Size([64])\n"
     ]
    }
   ],
   "execution_count": 134
  },
  {
   "cell_type": "code",
   "source": [
    "for batch in train_loader:\n",
    "    inputs, labels = batch  # DataLoader에서 배치 추출\n",
    "\n",
    "    # 첫 번째 샘플만 확인\n",
    "    idx = 0\n",
    "    first_input = inputs[idx]\n",
    "    first_label = labels[idx]\n",
    "\n",
    "    # 입력 텍스트 디코딩 (토큰 단위)\n",
    "    decoded_tokens = tokenizer.convert_ids_to_tokens(first_input)\n",
    "    decoded_text = tokenizer.decode(first_input)\n",
    "\n",
    "    # 라벨 디코딩 (정답 토큰 ID를 텍스트로 변환)\n",
    "    label_token = tokenizer.convert_ids_to_tokens([first_label])  # 라벨은 단일 토큰\n",
    "    label_text = tokenizer.decode([first_label])  # 라벨을 문장으로 변환\n",
    "\n",
    "    # 결과 출력\n",
    "    print(\"입력 텍스트 (토큰):\", decoded_tokens)\n",
    "    print(\"입력 텍스트 (문장):\", decoded_text)\n",
    "    print(\"출력 라벨 (토큰):\", label_token)\n",
    "    print(\"출력 라벨 (문장):\", label_text)\n",
    "\n",
    "    break  # 첫 번째 배치만 확인"
   ],
   "metadata": {
    "collapsed": false,
    "ExecuteTime": {
     "end_time": "2024-12-25T14:21:56.472976Z",
     "start_time": "2024-12-25T14:21:56.439427Z"
    }
   },
   "outputs": [
    {
     "name": "stdout",
     "output_type": "stream",
     "text": [
      "입력 텍스트 (토큰): ['[CLS]', 'just', 'looking', 'at', 'the', 'sets', ',', 'staging', 'and', 'editing', 'it', 'is', 'easy', 'to', 'tell', 'this', 'project', 'lacked', 'a', 'proper', 'budget', '.', 'maybe', 'bela', 'lu', '##gos', '##i', 'is', 'meant', 'to', 'take', 'your', 'mind', 'off', 'of', 'things', 'like', 'that', '.', 'young', 'bride', '##s', 'drop', 'dead', 'at', 'the', 'altar', 'after', 'saying', '\"', 'i', 'do', '\"', '.', 'their', 'corpses', 'are', 'stolen', 'by', 'a', 'renowned', 'ho', '##rti', '##cu', '##lt', '##uri', '##st', 'dr', '.', 'loren', '##z', '(', 'lu', '##gos', '##i', ')', 'and', 'a', 'couple', 'of', 'his', 'freak', '##ish', 'minions', 'as', 'his', 'aging', 'wife', '(', 'elizabeth', 'russell', ')', 'needs', 'injection', '##s', 'of', 'the', 'gland', '##ular', 'fluids', 'of', 'the', 'young', 'virgin', '##s', 'to', 'remain', 'forever', 'young', '.', '.', '.', 'forever', 'beautiful', '.', 'an', 'eager', 'local', 'cub', 'reporter', '(', 'lu', '##ana', 'walters', ')', 'realizes', 'that', 'each', 'missing', 'bride', 'wore', 'the', 'same', 'rare', 'orchid', 'to', 'the', 'altar', ';', 'an', 'orchid', 'in', 'which', 'dr', '.', 'loren', '##z', 'would', 'be', 'most', 'knowledge', '##able', '.', 'a', 'typical', 'horror', 'movie', 'storm', 'brew', '##s', 'making', 'a', 'visit', 'to', 'the', 'loren', '##z', 'estate', 'a', 'bit', 'sp', '##ook', '##y', ';', 'especially', 'with', 'a', 'dwarf', 'and', 'a', 'sl', '##ob', '##ber', '##ing', 'hu', '##nch', '##back', 'on', 'the', 'premises', '.', 'other', 'players', ':', 'angelo', 'rossi', '##tto', ',', 'tri', '##stra', '##m', 'coffin', ',', 'minerva', 'ur', '##eca', '##l', 'and', 'frank', 'moran', '[PAD]', '[PAD]', '[PAD]', '[PAD]', '[PAD]', '[PAD]', '[PAD]', '[PAD]', '[PAD]', '[PAD]', '[PAD]', '[PAD]', '[PAD]', '[PAD]', '[PAD]', '[PAD]', '[PAD]', '[PAD]', '[PAD]', '[PAD]', '[PAD]', '[PAD]', '[PAD]', '[PAD]', '[PAD]', '[PAD]', '[PAD]', '[PAD]', '[PAD]', '[PAD]', '[PAD]', '[PAD]', '[PAD]', '[PAD]', '[PAD]', '[PAD]', '[PAD]', '[PAD]', '[PAD]', '[PAD]', '[PAD]', '[PAD]', '[PAD]', '[PAD]', '[PAD]', '[PAD]', '[PAD]', '[PAD]', '[PAD]', '[PAD]', '[PAD]', '[PAD]', '[PAD]', '[PAD]', '[PAD]', '[PAD]', '[PAD]', '[PAD]', '[PAD]', '[PAD]', '[PAD]', '[PAD]', '[PAD]', '[PAD]', '[PAD]', '[PAD]', '[PAD]', '[PAD]', '[PAD]', '[PAD]', '[PAD]', '[PAD]', '[PAD]', '[PAD]', '[PAD]', '[PAD]', '[PAD]', '[PAD]', '[PAD]', '[PAD]', '[PAD]', '[PAD]', '[PAD]', '[PAD]', '[PAD]', '[PAD]', '[PAD]', '[PAD]', '[PAD]', '[PAD]', '[PAD]', '[PAD]', '[PAD]', '[PAD]', '[PAD]', '[PAD]', '[PAD]', '[PAD]', '[PAD]', '[PAD]', '[PAD]', '[PAD]', '[PAD]', '[PAD]', '[PAD]', '[PAD]', '[PAD]', '[PAD]', '[PAD]', '[PAD]', '[PAD]', '[PAD]', '[PAD]', '[PAD]', '[PAD]', '[PAD]', '[PAD]', '[PAD]', '[PAD]', '[PAD]', '[PAD]', '[PAD]', '[PAD]', '[PAD]', '[PAD]', '[PAD]', '[PAD]', '[PAD]', '[PAD]', '[PAD]', '[PAD]', '[PAD]', '[PAD]', '[PAD]', '[PAD]', '[PAD]', '[PAD]', '[PAD]', '[PAD]', '[PAD]', '[PAD]', '[PAD]', '[PAD]', '[PAD]', '[PAD]', '[PAD]', '[PAD]', '[PAD]', '[PAD]', '[PAD]', '[PAD]', '[PAD]', '[PAD]', '[PAD]', '[PAD]', '[PAD]', '[PAD]', '[PAD]', '[PAD]', '[PAD]', '[PAD]', '[PAD]', '[PAD]', '[PAD]', '[PAD]', '[PAD]', '[PAD]', '[PAD]', '[PAD]', '[PAD]', '[PAD]', '[PAD]', '[PAD]', '[PAD]', '[PAD]', '[PAD]', '[PAD]', '[PAD]', '[PAD]', '[PAD]', '[PAD]', '[PAD]', '[PAD]', '[PAD]', '[PAD]', '[PAD]', '[PAD]', '[PAD]']\n",
      "입력 텍스트 (문장): [CLS] just looking at the sets, staging and editing it is easy to tell this project lacked a proper budget. maybe bela lugosi is meant to take your mind off of things like that. young brides drop dead at the altar after saying \" i do \". their corpses are stolen by a renowned horticulturist dr. lorenz ( lugosi ) and a couple of his freakish minions as his aging wife ( elizabeth russell ) needs injections of the glandular fluids of the young virgins to remain forever young... forever beautiful. an eager local cub reporter ( luana walters ) realizes that each missing bride wore the same rare orchid to the altar ; an orchid in which dr. lorenz would be most knowledgeable. a typical horror movie storm brews making a visit to the lorenz estate a bit spooky ; especially with a dwarf and a slobbering hunchback on the premises. other players : angelo rossitto, tristram coffin, minerva urecal and frank moran [PAD] [PAD] [PAD] [PAD] [PAD] [PAD] [PAD] [PAD] [PAD] [PAD] [PAD] [PAD] [PAD] [PAD] [PAD] [PAD] [PAD] [PAD] [PAD] [PAD] [PAD] [PAD] [PAD] [PAD] [PAD] [PAD] [PAD] [PAD] [PAD] [PAD] [PAD] [PAD] [PAD] [PAD] [PAD] [PAD] [PAD] [PAD] [PAD] [PAD] [PAD] [PAD] [PAD] [PAD] [PAD] [PAD] [PAD] [PAD] [PAD] [PAD] [PAD] [PAD] [PAD] [PAD] [PAD] [PAD] [PAD] [PAD] [PAD] [PAD] [PAD] [PAD] [PAD] [PAD] [PAD] [PAD] [PAD] [PAD] [PAD] [PAD] [PAD] [PAD] [PAD] [PAD] [PAD] [PAD] [PAD] [PAD] [PAD] [PAD] [PAD] [PAD] [PAD] [PAD] [PAD] [PAD] [PAD] [PAD] [PAD] [PAD] [PAD] [PAD] [PAD] [PAD] [PAD] [PAD] [PAD] [PAD] [PAD] [PAD] [PAD] [PAD] [PAD] [PAD] [PAD] [PAD] [PAD] [PAD] [PAD] [PAD] [PAD] [PAD] [PAD] [PAD] [PAD] [PAD] [PAD] [PAD] [PAD] [PAD] [PAD] [PAD] [PAD] [PAD] [PAD] [PAD] [PAD] [PAD] [PAD] [PAD] [PAD] [PAD] [PAD] [PAD] [PAD] [PAD] [PAD] [PAD] [PAD] [PAD] [PAD] [PAD] [PAD] [PAD] [PAD] [PAD] [PAD] [PAD] [PAD] [PAD] [PAD] [PAD] [PAD] [PAD] [PAD] [PAD] [PAD] [PAD] [PAD] [PAD] [PAD] [PAD] [PAD] [PAD] [PAD] [PAD] [PAD] [PAD] [PAD] [PAD] [PAD] [PAD] [PAD] [PAD] [PAD] [PAD] [PAD] [PAD] [PAD] [PAD] [PAD] [PAD] [PAD] [PAD] [PAD] [PAD] [PAD] [PAD]\n",
      "출력 라벨 (토큰): ['.']\n",
      "출력 라벨 (문장): .\n"
     ]
    }
   ],
   "execution_count": 135
  },
  {
   "cell_type": "code",
   "source": [
    "from collections import Counter\n",
    "\n",
    "all_labels = []  # 모든 라벨을 저장할 리스트\n",
    "label_counts = Counter(all_labels)\n",
    "decoded_labels = tokenizer.convert_ids_to_tokens(list(label_counts.keys()))\n",
    "\n",
    "# DataLoader에서 배치 순회\n",
    "for batch in train_loader:\n",
    "    inputs, labels = batch  # 라벨 추출\n",
    "    all_labels.extend(labels.tolist())  # 리스트로 변환 후 확장\n",
    "\n",
    "# 라벨의 유니크 값 확인\n",
    "unique_labels = set(all_labels)\n",
    "print(\"유니크 라벨 목록:\", unique_labels)\n",
    "print(f\"총 유니크 라벨 개수: {len(unique_labels)}\")\n",
    "\n",
    "\n",
    "label_counts = Counter(all_labels)\n",
    "top_10_labels = label_counts.most_common(10)  # 상위 10개 라벨\n",
    "decoded_top_10 = tokenizer.convert_ids_to_tokens([item[0] for item in top_10_labels])\n",
    "\n",
    "for word, (token_id, count) in zip(decoded_top_10, top_10_labels):\n",
    "    print(f\"라벨: {word} (토큰 ID: {token_id}) - 등장 횟수: {count}\")"
   ],
   "metadata": {
    "collapsed": false,
    "ExecuteTime": {
     "end_time": "2024-12-25T14:22:07.454873Z",
     "start_time": "2024-12-25T14:21:56.478395Z"
    }
   },
   "outputs": [
    {
     "name": "stdout",
     "output_type": "stream",
     "text": [
      "유니크 라벨 목록: {8195, 8201, 8212, 8226, 24623, 16437, 8246, 8257, 16451, 8266, 16465, 16467, 24665, 8282, 16481, 8290, 8292, 8307, 24703, 8321, 24714, 24759, 8378, 16571, 8385, 16596, 24795, 24808, 8428, 8429, 8434, 8440, 16636, 8450, 16643, 8472, 8484, 8485, 24871, 8489, 8490, 16681, 16701, 8516, 16709, 8518, 8527, 8529, 8562, 24947, 16755, 8568, 8569, 8572, 24965, 8586, 8589, 8596, 8605, 8607, 8631, 8632, 25020, 16833, 8674, 25066, 16880, 25093, 8713, 16914, 8739, 8740, 8754, 16948, 8785, 8794, 8795, 8797, 8814, 25219, 8836, 8847, 25248, 17075, 8884, 8889, 17083, 8909, 25314, 25325, 8943, 8948, 8954, 17153, 17156, 8973, 9000, 9004, 9009, 9019, 17211, 9027, 25423, 9056, 9061, 17274, 25469, 9092, 17289, 9102, 17298, 9110, 9117, 9120, 17312, 9122, 25508, 9129, 17324, 9143, 9145, 17339, 9148, 25539, 17363, 9179, 999, 1000, 1001, 1003, 1004, 1005, 1006, 1007, 1008, 1009, 1010, 1011, 1012, 1013, 1014, 1015, 1016, 1017, 1018, 1019, 1020, 1021, 1022, 1023, 1024, 1025, 1026, 9219, 1028, 1029, 1027, 25600, 25608, 1033, 17416, 1035, 1036, 1037, 1038, 1039, 1040, 25614, 1042, 1043, 1041, 1045, 1046, 1047, 1049, 1050, 9243, 1052, 1053, 1051, 1055, 1056, 1054, 1060, 1061, 1062, 1065, 1066, 9260, 17453, 1074, 25653, 17463, 17472, 1089, 1092, 9288, 9289, 9313, 9364, 25749, 9365, 9372, 9388, 9401, 9411, 9414, 9415, 9416, 9422, 9449, 9458, 9461, 9467, 9476, 9479, 9481, 25869, 9496, 9508, 17704, 9515, 17710, 9527, 9530, 9535, 17743, 9555, 25953, 9574, 9575, 9577, 9578, 9579, 25969, 9597, 9599, 9609, 9616, 9617, 17831, 9643, 9647, 9649, 9658, 17868, 9678, 9706, 17904, 9714, 9727, 17953, 9762, 9769, 9777, 17975, 17979, 9811, 18006, 18012, 18020, 18025, 18029, 18031, 9846, 9855, 18058, 9866, 18062, 18075, 26279, 9899, 9901, 26285, 9916, 18113, 26316, 9951, 26373, 18182, 9991, 26375, 9996, 10015, 18207, 10018, 10021, 10023, 18217, 18224, 10036, 18230, 10047, 18261, 10071, 26471, 18293, 10109, 10115, 10129, 10136, 10140, 18336, 10184, 2033, 1996, 1997, 1998, 10191, 1999, 2000, 2001, 2002, 2003, 2004, 2005, 2006, 2007, 2008, 2009, 2010, 2011, 10205, 2012, 2013, 2014, 2015, 2016, 18403, 2017, 2018, 2019, 2020, 2021, 2022, 2023, 2024, 2025, 2026, 2027, 2028, 2032, 2029, 2030, 2031, 10224, 2034, 2035, 2036, 2037, 2038, 2039, 2040, 2041, 2042, 2046, 2043, 2048, 2049, 2044, 2051, 2052, 2053, 2054, 2047, 2056, 2057, 2058, 2059, 2055, 2061, 2062, 2063, 2064, 2065, 2066, 2067, 2068, 2069, 2070, 2071, 2072, 2073, 2074, 2075, 18458, 2076, 2078, 2079, 10271, 2081, 2080, 2083, 2084, 2085, 2082, 2087, 10278, 2089, 2090, 2091, 2092, 2093, 2094, 2086, 2096, 2045, 2098, 2099, 2100, 2101, 2102, 2097, 2104, 2103, 2106, 2107, 2108, 2109, 2110, 2111, 2112, 2113, 10299, 2115, 2114, 2116, 2117, 2119, 2121, 2122, 2123, 18507, 2125, 2126, 2124, 2128, 2129, 2130, 2131, 2127, 2132, 2134, 2135, 2137, 2138, 2139, 2140, 10334, 2143, 2144, 2145, 2146, 2147, 2149, 2151, 2152, 2153, 2154, 2155, 2156, 2157, 2158, 2159, 2160, 2161, 2163, 2166, 26743, 2168, 2169, 2170, 2171, 2172, 2173, 2174, 2060, 2176, 2175, 2178, 2179, 2180, 10371, 2182, 2183, 2184, 2185, 2186, 2187, 2188, 2189, 2190, 2191, 2192, 18577, 2196, 2197, 2198, 2199, 2200, 18584, 2202, 2203, 2204, 2205, 2206, 10398, 2207, 10392, 2210, 2213, 2214, 2215, 2216, 2218, 2219, 2220, 2222, 2224, 10418, 2227, 2228, 2229, 2230, 2231, 2232, 10424, 2233, 2235, 2236, 2237, 2238, 2239, 2240, 10431, 2242, 2243, 18627, 2245, 2246, 10439, 26824, 2253, 2256, 2077, 2261, 2263, 10456, 2265, 2268, 2269, 2271, 2272, 2273, 2275, 26851, 10468, 2279, 2282, 2283, 2287, 2288, 2289, 2290, 2292, 2293, 2294, 2295, 10487, 2296, 2298, 2302, 2303, 2304, 2305, 2306, 2307, 18691, 2309, 2310, 10503, 2312, 18697, 2314, 2315, 2088, 26884, 10510, 2319, 18698, 10514, 10231, 2324, 2323, 2327, 18712, 10520, 2330, 10523, 2329, 18718, 2335, 2336, 2338, 2339, 2342, 2345, 2348, 2349, 2350, 2354, 26931, 2356, 26932, 2359, 2360, 2361, 10554, 2363, 18748, 2364, 2362, 2367, 2368, 2369, 10559, 2371, 10555, 2373, 2375, 2376, 2377, 2378, 2379, 2381, 10576, 2385, 2386, 2384, 2388, 2389, 2391, 2393, 2394, 10586, 2395, 10587, 2399, 2400, 2401, 2402, 2404, 10597, 26985, 2409, 2412, 2413, 2414, 26989, 2417, 10610, 2419, 2421, 2422, 2424, 2425, 2050, 2426, 2428, 2431, 2434, 2435, 2437, 2438, 2439, 18824, 18823, 2442, 2443, 2444, 10631, 2446, 2445, 2450, 10643, 2453, 2455, 10258, 2460, 10654, 18847, 2464, 10655, 2466, 2467, 2468, 2469, 2471, 2472, 2475, 2476, 2477, 2480, 2481, 2482, 2483, 27063, 2488, 2487, 18874, 2491, 2492, 2497, 2498, 2500, 10693, 2502, 18886, 2504, 2505, 2503, 2507, 2514, 2515, 10708, 2516, 2518, 10270, 27096, 2521, 2522, 2520, 2517, 2529, 10272, 2531, 2535, 2540, 2542, 2543, 27118, 2545, 2546, 2544, 2552, 2553, 2558, 2559, 2560, 2562, 2564, 2566, 2567, 2568, 2569, 18954, 2571, 2572, 27148, 2576, 2577, 2579, 2580, 2581, 2582, 2583, 27159, 2585, 2587, 2589, 2592, 2593, 2594, 2595, 2598, 2599, 2601, 2605, 2606, 2607, 10800, 2610, 2611, 2612, 2613, 2614, 2615, 2617, 2618, 2619, 10812, 2620, 2622, 2625, 10819, 2630, 2632, 2633, 18434, 27214, 27217, 10833, 2643, 2642, 2645, 10840, 10841, 2648, 10843, 10844, 2653, 2651, 2655, 10848, 2657, 2659, 2662, 2664, 2666, 2667, 2668, 2669, 2672, 2673, 2674, 2677, 2678, 2679, 2681, 10874, 2682, 19067, 2686, 10880, 2689, 2690, 2694, 2696, 2697, 2698, 2699, 19084, 10889, 2702, 2709, 2710, 2711, 18449, 2713, 2714, 2716, 2717, 2720, 2721, 2723, 2724, 2725, 2726, 10919, 2728, 2729, 19118, 2735, 2734, 2738, 10932, 19124, 2743, 19128, 26597, 2746, 2745, 2749, 2754, 2755, 2757, 19142, 2758, 2759, 2763, 2764, 2765, 10958, 2767, 19148, 2769, 2771, 2774, 2775, 2779, 2781, 2784, 2785, 19170, 2790, 2791, 2792, 2793, 2797, 19182, 19181, 2800, 2802, 2804, 2806, 2808, 2812, 2814, 11007, 2818, 11012, 2821, 2824, 2830, 2833, 2836, 2838, 2839, 2841, 2842, 2843, 2844, 11038, 2848, 2850, 2851, 2852, 27427, 2854, 2855, 2856, 19240, 2860, 2866, 2869, 11065, 11067, 2876, 2877, 2878, 2875, 2879, 2890, 11082, 11084, 2894, 2895, 2902, 2903, 2908, 2912, 2915, 19301, 2919, 2920, 11113, 2923, 2926, 2927, 2928, 19313, 2931, 2935, 2937, 2941, 2946, 11139, 2953, 19337, 2961, 11162, 27547, 2972, 11167, 2978, 11171, 2980, 2984, 2987, 10363, 2989, 2995, 2997, 3000, 19384, 3003, 3004, 3011, 3012, 3013, 19399, 3022, 3025, 3031, 3033, 19424, 3041, 3042, 11235, 3044, 3045, 3046, 3047, 3048, 3051, 3053, 3054, 11247, 3056, 3060, 3064, 3065, 3071, 11263, 11265, 11269, 3080, 3081, 19466, 3084, 3085, 3087, 3088, 3089, 3090, 3091, 3092, 19477, 3096, 3100, 3102, 3103, 19486, 3105, 3109, 3110, 3111, 3113, 3117, 27693, 3120, 27699, 3124, 3126, 27707, 3134, 3135, 11333, 3143, 27720, 3145, 11338, 27723, 11341, 3149, 3151, 3152, 3153, 11342, 3159, 3163, 3166, 3167, 3168, 11361, 3170, 3174, 3178, 3182, 11374, 27760, 3185, 19566, 3193, 27774, 11390, 3198, 3207, 3210, 3213, 3216, 3220, 3224, 3227, 3228, 3233, 3235, 3236, 3238, 3241, 3243, 3246, 3248, 3252, 3257, 3259, 11452, 11453, 3267, 3270, 11463, 3275, 3276, 11471, 27858, 3283, 11475, 3285, 3286, 3287, 3288, 3291, 3295, 3297, 3305, 11498, 3308, 3310, 3312, 27889, 3315, 11512, 11514, 11516, 3325, 11519, 3328, 27903, 3331, 3332, 11529, 11531, 3340, 3345, 3347, 3350, 3351, 3352, 19739, 3357, 3363, 3364, 3366, 3367, 3371, 3374, 3376, 3382, 3383, 11575, 3385, 3389, 3391, 3392, 3395, 3396, 3401, 3403, 3406, 3407, 3408, 27987, 3413, 3419, 3422, 27999, 3426, 3427, 3432, 3433, 3435, 3436, 3437, 3439, 3442, 28019, 19828, 3446, 3456, 3459, 11654, 3462, 19846, 3466, 3468, 11663, 3475, 11669, 3480, 3484, 28061, 11680, 3490, 3492, 3494, 3496, 3497, 3501, 3504, 3505, 11703, 3512, 11707, 3516, 3517, 3521, 3522, 3523, 3526, 3531, 3535, 3538, 11731, 3544, 3545, 11737, 11741, 28128, 3554, 3556, 3560, 11757, 28147, 3573, 3574, 19957, 11771, 3581, 19968, 3586, 3593, 3594, 11788, 3597, 28174, 3599, 19986, 3602, 3603, 3606, 3609, 11802, 3611, 19996, 3630, 3632, 3637, 26775, 3643, 3644, 3649, 3651, 3656, 3657, 3660, 3663, 3666, 20051, 3669, 3671, 3672, 3674, 11867, 3677, 3683, 3686, 3689, 3690, 3692, 3698, 3702, 11898, 3710, 20100, 3723, 3727, 3728, 3733, 3737, 3748, 3752, 3754, 3757, 11951, 3762, 3763, 3764, 28341, 3768, 3770, 3772, 3773, 3782, 3786, 3790, 3796, 3800, 20187, 3807, 3809, 3811, 12005, 3815, 12015, 3824, 3825, 3827, 12027, 3836, 3835, 12031, 3841, 28419, 3848, 3849, 3854, 12054, 12055, 12056, 28450, 3881, 12074, 3883, 3885, 12081, 3893, 3894, 3896, 3898, 3903, 3908, 3909, 3915, 3923, 28500, 3929, 3931, 3938, 3942, 3944, 3946, 3947, 3954, 12147, 20341, 20342, 10556, 3960, 20345, 28541, 3968, 3971, 20355, 12167, 3976, 3979, 3980, 3984, 3988, 12181, 20376, 3993, 3995, 3996, 3997, 12193, 4011, 4012, 4016, 4017, 4025, 4027, 4028, 4030, 12225, 4038, 4040, 28616, 4044, 12237, 4049, 4066, 4070, 4071, 4072, 12268, 4076, 4079, 4083, 4088, 4089, 4092, 20478, 4095, 12289, 4099, 4102, 4103, 28681, 4110, 4116, 4117, 4121, 4122, 4126, 4127, 4136, 4142, 4143, 4147, 20531, 4150, 4152, 12344, 4153, 12347, 4164, 28741, 4165, 4166, 12362, 4178, 4180, 4181, 4189, 12382, 4198, 4203, 4204, 4205, 4208, 4212, 4217, 4221, 4233, 28810, 12429, 12436, 4246, 4248, 4257, 20649, 4270, 4276, 4277, 12472, 4282, 4283, 12476, 4286, 20672, 20673, 4289, 20676, 4297, 4298, 4299, 4300, 4305, 4310, 4312, 4323, 4326, 12520, 4332, 4333, 4338, 12536, 12537, 4353, 4356, 4364, 4367, 28945, 28946, 4375, 4378, 4379, 4380, 4381, 4382, 4383, 4388, 12580, 4391, 12584, 4395, 18410, 20782, 4401, 4402, 28979, 4405, 4411, 4414, 20801, 12611, 4424, 4435, 4438, 20824, 4441, 12635, 4450, 4454, 4459, 20846, 4463, 4468, 4477, 4486, 4487, 4490, 4492, 4496, 12689, 12688, 4506, 12700, 4509, 4510, 12703, 4515, 4516, 4517, 29094, 4522, 12721, 4531, 4540, 4542, 29122, 4547, 12743, 20945, 4566, 4569, 12767, 4576, 20961, 12768, 4586, 4590, 12785, 4599, 4602, 4608, 12803, 4616, 21001, 29196, 4627, 4632, 4634, 4637, 4638, 4647, 4648, 4654, 12849, 4658, 4660, 4669, 21054, 4670, 21055, 4675, 4676, 4679, 12872, 4687, 4690, 4691, 4692, 4695, 4708, 4710, 4717, 4728, 4740, 4754, 4756, 4757, 4760, 29337, 21146, 4763, 29348, 4773, 4776, 29353, 4781, 4788, 4789, 29370, 4797, 12990, 4799, 4808, 4817, 4819, 21209, 4825, 4832, 21222, 13031, 29421, 4845, 4848, 4850, 13044, 21246, 4863, 21250, 4869, 4872, 4873, 13068, 4895, 4899, 13093, 4904, 4906, 21294, 13109, 4918, 4920, 4923, 21307, 4930, 29515, 4940, 13133, 21323, 4942, 4945, 4953, 4954, 4957, 4962, 4965, 4966, 4968, 13162, 29552, 13172, 4983, 13186, 4995, 29573, 4998, 4997, 21382, 5003, 5005, 5008, 5009, 5015, 5017, 5019, 13213, 5024, 5027, 13223, 5032, 13231, 5041, 5043, 5048, 5051, 5053, 21438, 5054, 13250, 5060, 5064, 5070, 21459, 21466, 5084, 5086, 5092, 13288, 5099, 5104, 5107, 5110, 5121, 5125, 5130, 5136, 5156, 5157, 13357, 5166, 5168, 13363, 13366, 5177, 21562, 5186, 21570, 5189, 5192, 5197, 5199, 13398, 5215, 5216, 5223, 5232, 5241, 5249, 5253, 5256, 5257, 5261, 5263, 13459, 5268, 21669, 5292, 5293, 21681, 5297, 21682, 21686, 5305, 13498, 5308, 5312, 5313, 5321, 5328, 9200, 9202, 13534, 5343, 13536, 5349, 21735, 5354, 21744, 5363, 5365, 5366, 21751, 5369, 5372, 9210, 21766, 5390, 5391, 5392, 5394, 5397, 5399, 5403, 5405, 13597, 5407, 21791, 5409, 5426, 13623, 5433, 5436, 5443, 5448, 5457, 5466, 5468, 5469, 13662, 5470, 5476, 13669, 21864, 5481, 13675, 13676, 5493, 21883, 5501, 5504, 21890, 13704, 5514, 21907, 5524, 5525, 13718, 5530, 5537, 21933, 21934, 5553, 5562, 5570, 5572, 13764, 13769, 21961, 5585, 5587, 5593, 5599, 5603, 13798, 5607, 5609, 5613, 13805, 5627, 5630, 13822, 22017, 5637, 5639, 5650, 5651, 13844, 22038, 13851, 5662, 22047, 5665, 22050, 5667, 5671, 5675, 5683, 5684, 22071, 13880, 5691, 5694, 5696, 22092, 13911, 5722, 5729, 5735, 5736, 22123, 5747, 22133, 13950, 5773, 13970, 13972, 5783, 5790, 5791, 5794, 5796, 5799, 5802, 5805, 14003, 5830, 22220, 14030, 5841, 5844, 5845, 14036, 14046, 5855, 22248, 22249, 5866, 5867, 5869, 5870, 5875, 25593, 5888, 14081, 5889, 5896, 14092, 5912, 5914, 5922, 5927, 5931, 5933, 5942, 5948, 14141, 5949, 5953, 14145, 5959, 5965, 14163, 5978, 5987, 5997, 14189, 6013, 6018, 6020, 6034, 6038, 6040, 6047, 6051, 6057, 6058, 14255, 14263, 6080, 14277, 14285, 22478, 6097, 6100, 14296, 6118, 6122, 6128, 6132, 6135, 14341, 6149, 6170, 6174, 6178, 6199, 14392, 22599, 6216, 14414, 14415, 22610, 6240, 14434, 6251, 6256, 22662, 6279, 6292, 6293, 14486, 6294, 6298, 6302, 6314, 6316, 6321, 6326, 6335, 6339, 6357, 6359, 6361, 6370, 6371, 14563, 6373, 6379, 6384, 6385, 22773, 6396, 6398, 6404, 6405, 14598, 14601, 6414, 22807, 6424, 6433, 22819, 14633, 6443, 6453, 14652, 6460, 6469, 6473, 6477, 6480, 14672, 6491, 6494, 6510, 6513, 14706, 6517, 22901, 14711, 6524, 14718, 6542, 14742, 6553, 6558, 6560, 22957, 6573, 6581, 6582, 6583, 6593, 14798, 6625, 14818, 14832, 6651, 6653, 6654, 6659, 6662, 14856, 6669, 6670, 14862, 6688, 6693, 14891, 6703, 6707, 6719, 6720, 14913, 6732, 14928, 6739, 6741, 6749, 6755, 6773, 23168, 6786, 6791, 14984, 6806, 6810, 15003, 6812, 6824, 6826, 6827, 6847, 6848, 23238, 6857, 6881, 6892, 6894, 6896, 23283, 6904, 6907, 23292, 6914, 6927, 6945, 15140, 6958, 23347, 6965, 6968, 6969, 23358, 6987, 6991, 15185, 7001, 15194, 7009, 15202, 23408, 7028, 7034, 15237, 7046, 23441, 23459, 7078, 7079, 7087, 23487, 7106, 7107, 15308, 7118, 7121, 23514, 7162, 7164, 23551, 7171, 7178, 7182, 7201, 7209, 15401, 7213, 15417, 15418, 23626, 7244, 7256, 15450, 7262, 7265, 23653, 23654, 23667, 7284, 15480, 7309, 7329, 7332, 15539, 7354, 15549, 7370, 15580, 7389, 7393, 7405, 15608, 7420, 7432, 7436, 7437, 15640, 15653, 23847, 7467, 7481, 23873, 15683, 7494, 7499, 15703, 15716, 15723, 15725, 23929, 7551, 15743, 23943, 15752, 7585, 15789, 7603, 7627, 7630, 7632, 7635, 7648, 15854, 15859, 24053, 7678, 15876, 7685, 15883, 15886, 7697, 7699, 24084, 7723, 15916, 15921, 24119, 15935, 7743, 7756, 15966, 15978, 7789, 7800, 24185, 7806, 7807, 7815, 24216, 7834, 16033, 7842, 16036, 7849, 16042, 7857, 24246, 7874, 7880, 7886, 24282, 7903, 7908, 7929, 16126, 7935, 16129, 7959, 7961, 16157, 7966, 7968, 7971, 7977, 7980, 7982, 7987, 7994, 8009, 16215, 24407, 16219, 8038, 8040, 16234, 8042, 16236, 16251, 16258, 8067, 8066, 8072, 24457, 24471, 8091, 8095, 8099, 8101, 8106, 24493, 24497, 8113, 8126, 8128, 24514, 16324, 8134, 24525, 24529, 8146, 16351, 16360, 8178, 16371, 16372, 24568, 8190}\n",
      "총 유니크 라벨 개수: 2253\n",
      "라벨: . (토큰 ID: 1012) - 등장 횟수: 13945\n",
      "라벨: ! (토큰 ID: 999) - 등장 횟수: 2159\n",
      "라벨: 10 (토큰 ID: 2184) - 등장 횟수: 517\n",
      "라벨: ) (토큰 ID: 1007) - 등장 횟수: 496\n",
      "라벨: > (토큰 ID: 1028) - 등장 횟수: 438\n",
      "라벨: ? (토큰 ID: 1029) - 등장 횟수: 380\n",
      "라벨: the (토큰 ID: 1996) - 등장 횟수: 261\n",
      "라벨: \" (토큰 ID: 1000) - 등장 횟수: 252\n",
      "라벨: , (토큰 ID: 1010) - 등장 횟수: 208\n",
      "라벨: * (토큰 ID: 1008) - 등장 횟수: 190\n"
     ]
    }
   ],
   "execution_count": 136
  },
  {
   "metadata": {
    "ExecuteTime": {
     "end_time": "2024-12-25T14:22:07.947035Z",
     "start_time": "2024-12-25T14:22:07.943945Z"
    }
   },
   "cell_type": "code",
   "source": [
    "from torch import nn\n",
    "import torch\n",
    "from torch.optim import Adam, AdamW\n",
    "import numpy as np\n",
    "import matplotlib.pyplot as plt\n",
    "max_len = 400\n",
    "\n",
    "\n",
    "device = torch.device(\"mps\")"
   ],
   "outputs": [],
   "execution_count": 137
  },
  {
   "cell_type": "markdown",
   "metadata": {
    "id": "i-FshZcTZBQ2"
   },
   "source": [
    "## 주어진 코드"
   ]
  },
  {
   "cell_type": "code",
   "metadata": {
    "id": "MBlMVMZcRAxv",
    "ExecuteTime": {
     "end_time": "2024-12-25T14:22:08.335718Z",
     "start_time": "2024-12-25T14:22:08.331125Z"
    }
   },
   "source": [
    "from torch import nn\n",
    "from math import sqrt\n",
    "\n",
    "# 셀프 어텐션\n",
    "class SelfAttention(nn.Module):\n",
    "  def __init__(self, input_dim, d_model):\n",
    "    super().__init__()\n",
    "\n",
    "    self.input_dim = input_dim # 입력 차원  (보통 어휘 크기((vocab_size)))\n",
    "    self.d_model = d_model     # 임베딩 차원 (모델 크기에 따라 다르다. BERT는 768..)\n",
    "\n",
    "    self.wq = nn.Linear(input_dim, d_model)  # 쿼리(입력 -> d_model 차원 변환)\n",
    "    self.wk = nn.Linear(input_dim, d_model)  #   키(입력 -> d_model 차원 변환)\n",
    "    self.wv = nn.Linear(input_dim, d_model)  #   값(입력 -> d_model 차원 변환)\n",
    "\n",
    "    # 최종 출력을 위한 선형 레이어 (d_model -> d_model)\n",
    "    self.dense = nn.Linear(d_model, d_model)\n",
    "\n",
    "    # 소프트맥스 (어텐션 가중치 계산을 위해((마지막 차원 기준으로 소프트맥스 수행)))\n",
    "    self.softmax = nn.Softmax(dim=-1)\n",
    "\n",
    "  def forward(self, x, mask):\n",
    "    ### 1. Q, K, V 벡터 생성 – 입력을 통해 Wq, Wk, Wv를 선형 변환하여 Q, K, V를 만듬\n",
    "    q, k, v = self.wq(x), self.wk(x), self.wv(x)\n",
    "\t# Q (Query): 현재 기준이 되는 토큰 (검색 기준)\n",
    "    # K (Key): 모든 토큰 (기준과 비교할 대상)\n",
    "    # V (Value): 최종적으로 가중치를 적용해 반환할 값\n",
    "    # 어텐션 매커니즘은 Q와 K의 유사도를 계산하여 V에서 어떤 정보를 얼마만큼 가져올지 결정한다.\n",
    "\n",
    "\n",
    "\n",
    "    ### 2. 어텐션 스코어 계산 – 쿼리(Q)와 키(K)를 내적하여 유사도 계산 (Q * K^T)\n",
    "    # W_q와 W_k는 문맥적으로 유사한 단어를 높은 내적 값을 내뱉도록 학습뇌다.\n",
    "    # B(Batch Size: 배치 크기), S(Sequence length: 시퀀스 길이), D(Embedding Dimension: 임베딩 차원)\n",
    "    score = torch.matmul(q, k.transpose(-1, -2)) # (B, S, D) * (B, D, S) = (B, S, S)\n",
    "    # 에너지라고도 한다.\n",
    "    # - 에너지 값이 크면: 쿼리와 키가 매우 유사하다는 의미\n",
    "    # - 에너지 값이 작을스록 두 벡터간의 상관성이 낮다는 의미\n",
    "\n",
    "    ### 3. 스코어 정규화 – sqrt(d_model)로 나눠서 스케일링 (값이 너무 크거나 작아지는 문제 방지(vanishing/exploding))\n",
    "    score = score / sqrt(self.d_model)\n",
    "\n",
    "    ### 4. 마스킹 – 필요 시 패딩이나 특정 토큰을 제외하기 위해 마스크를 적용\n",
    "    if mask is not None:\n",
    "      score = score + (mask * -1e9) # (마스크된 위치(값 1))에 매우 큰 음수 추가 -> 소프트 맥스에서 0이됨)\n",
    "\n",
    "    ### 5. 소프트맥스를 사용해 어텐션 가중치 계산\n",
    "    score = self.softmax(score)\n",
    "\n",
    "\t### 6. 어텐션 가중치 적용 – 값 벡터(V)에 어텐션 가중치를 곱해 최종 결과 생성\n",
    "    # Wv는 유사도가 높은 단어로부터 '올바른 정보'를 가져오도록 학습된다.\n",
    "    result = torch.matmul(score, v) # 가중치 합이 적용되어 컥텍스트 벡터가 된다.\n",
    "    # 컨텍스트 벡터는 각 단어(밸류 벡터)에 어텐션 스코어를 곱한 가중합입니다.\n",
    "    # C_3 = A_<3, 1>V3 + A_<3, 2>V2 + A<3, 3>V3 + A<3, 4>V4\n",
    "\n",
    "\n",
    "    ### 7. 출력 변환 – 선형 변환(dense)을 통해 최종 출력 생성\n",
    "    result = self.dense(result)\n",
    "\n",
    "\n",
    "    return result"
   ],
   "outputs": [],
   "execution_count": 138
  },
  {
   "cell_type": "code",
   "metadata": {
    "id": "VZHPCn9AS5Gp",
    "ExecuteTime": {
     "end_time": "2024-12-25T14:22:08.705507Z",
     "start_time": "2024-12-25T14:22:08.701459Z"
    }
   },
   "source": [
    "class TransformerLayer(nn.Module):\n",
    "  def __init__(self, input_dim, d_model, dff):\n",
    "    super().__init__()\n",
    "\n",
    "    self.input_dim = input_dim\n",
    "    self.d_model = d_model\n",
    "    self.dff = dff\n",
    "\n",
    "    self.sa = SelfAttention(input_dim, d_model)\n",
    "    self.ffn = nn.Sequential(\n",
    "      nn.Linear(d_model, dff),\n",
    "      nn.ReLU(),\n",
    "      nn.Linear(dff, d_model)\n",
    "    )\n",
    "\n",
    "  def forward(self, x, mask):\n",
    "    x = self.sa(x, mask)\n",
    "    x = self.ffn(x)\n",
    "\n",
    "    return x"
   ],
   "outputs": [],
   "execution_count": 139
  },
  {
   "cell_type": "code",
   "metadata": {
    "colab": {
     "base_uri": "https://localhost:8080/"
    },
    "executionInfo": {
     "elapsed": 16,
     "status": "ok",
     "timestamp": 1723896343031,
     "user": {
      "displayName": "조승혁",
      "userId": "15759752471844115325"
     },
     "user_tz": -540
    },
    "id": "Uf_jMQWDUR79",
    "outputId": "534712be-1522-4d32-81b7-87f50a6f1f2a",
    "ExecuteTime": {
     "end_time": "2024-12-25T14:22:09.097362Z",
     "start_time": "2024-12-25T14:22:09.091747Z"
    }
   },
   "source": [
    "\n",
    "def get_angles(pos, i, d_model):\n",
    "    angle_rates = 1 / np.power(10000, (2 * (i // 2)) / np.float32(d_model))\n",
    "    return pos * angle_rates\n",
    "\n",
    "def positional_encoding(position, d_model):\n",
    "    angle_rads = get_angles(np.arange(position)[:, None], np.arange(d_model)[None, :], d_model)\n",
    "    angle_rads[:, 0::2] = np.sin(angle_rads[:, 0::2])\n",
    "    angle_rads[:, 1::2] = np.cos(angle_rads[:, 1::2])\n",
    "    pos_encoding = angle_rads[None, ...]\n",
    "\n",
    "    return torch.FloatTensor(pos_encoding)\n",
    "\n",
    "\n",
    "def accuracy(model, dataloader):\n",
    "  cnt = 0\n",
    "  acc = 0\n",
    "\n",
    "  for data in dataloader:\n",
    "    inputs, labels = data\n",
    "    inputs, labels = inputs.to(device), labels.to(device)\n",
    "\n",
    "    preds = model(inputs)\n",
    "    preds = torch.argmax(preds, dim=-1)\n",
    "    #preds = (preds > 0).long()[..., 0]\n",
    "\n",
    "    cnt += labels.shape[0]\n",
    "    acc += (labels == preds).sum().item()\n",
    "\n",
    "  return acc / cnt"
   ],
   "outputs": [],
   "execution_count": 140
  },
  {
   "metadata": {},
   "cell_type": "markdown",
   "source": [
    "# [MY CODE] 마지막 토큰 반환"
   ]
  },
  {
   "cell_type": "code",
   "metadata": {
    "id": "YHVVsWBPQmnv",
    "outputId": "64b5790f-7649-4a47-95f8-bebe158aba4f",
    "ExecuteTime": {
     "end_time": "2024-12-25T14:22:09.502796Z",
     "start_time": "2024-12-25T14:22:09.498982Z"
    }
   },
   "source": [
    "def get_last_valid_embeddings(x, input_ids, pad_token_id):\n",
    "    \"\"\"\n",
    "    x: (B, S, D) shape (Transformer의 출력 혹은 embedding 결과)\n",
    "    input_ids: (B, S) shape\n",
    "    pad_token_id: 정수 (예: 0)\n",
    "\n",
    "    return: (B, D) shape\n",
    "    \"\"\"\n",
    "    # 1) PAD가 아닌 위치를 True로 표시\n",
    "    mask = (input_ids != pad_token_id)    # (B, S)  ex) True/False\n",
    "\n",
    "    # 2) 각 문장(배치)마다 유효 토큰 수\n",
    "    lengths = mask.sum(dim=1)            # (B, )  ex) [3, 5, 2, ...]\n",
    "\n",
    "    # 3) 마지막 유효 토큰 인덱스\n",
    "    last_valid_indices = lengths - 1     # (B, )\n",
    "\n",
    "    # 4) 인덱싱\n",
    "    batch_indices = torch.arange(x.size(0))  # (B, ) => [0,1,2,...,B-1]\n",
    "    last_embeddings = x[batch_indices, last_valid_indices, :]  # (B, D)\n",
    "\n",
    "    return last_embeddings"
   ],
   "outputs": [],
   "execution_count": 141
  },
  {
   "metadata": {
    "ExecuteTime": {
     "end_time": "2024-12-25T14:22:09.903210Z",
     "start_time": "2024-12-25T14:22:09.898840Z"
    }
   },
   "cell_type": "code",
   "source": [
    "def plot_acc(train_accuracies, test_accuracies, label1='train', label2='test'):\n",
    "  x = np.arange(len(train_accuracies))\n",
    "\n",
    "  plt.plot(x, train_accuracies, label=label1)\n",
    "  plt.plot(x, test_accuracies, label=label2)\n",
    "  plt.legend()\n",
    "  plt.show()"
   ],
   "outputs": [],
   "execution_count": 142
  },
  {
   "cell_type": "markdown",
   "source": [
    "# [MY CODE] Loss function 및 classifier output 변경\n",
    "\n",
    "1. 이진분류 -> 다중 분류\n",
    " - loss_fn = nn.CrossEntropyLoss()\n",
    " - predict -> 로짓 출력 수정\n",
    "\n",
    "2. 전체 토큰 수(Vocab Size), 이진 분류가 아니므로 ouput_size를 다양하게 시도\n",
    " - 전체 토큰 개수: 일반화에 좋음\n",
    " - 라벨 토큰 개수: 태스크가 분명한 경우\n",
    "\n",
    "3. 어디 토큰을 사용할 것인가?\n",
    " - [CLS] : x[:, 0] -> 문장 전체 의미를 요약\n",
    " - 평균, 최대 등 등\n",
    " - 문장 끝\n",
    " - 버트는 cls가 좋다고 하지만... 우리가 요하는건 뒤에만 보면 충분하지않을까?!\n",
    "\n",
    "4. 추가 전략: 중간 방식\n",
    " - 자주 등장하는 라벨(상위 N개)만 output_size로 설정\n",
    "\n",
    "5. 최적화 기법\n",
    " - 드롭아웃\n",
    " - 가중치 공유 (난 입력과 출력 사이즈가 다르므로 안씀)"
   ],
   "metadata": {
    "collapsed": false
   }
  },
  {
   "metadata": {
    "ExecuteTime": {
     "end_time": "2024-12-25T14:22:10.288493Z",
     "start_time": "2024-12-25T14:22:10.283890Z"
    }
   },
   "cell_type": "code",
   "source": [
    "class TextEndPredictor(nn.Module):\n",
    "  def __init__(self, vocab_size, d_model, n_layers, dff, output_size, dropout_rate):\n",
    "    super().__init__()\n",
    "\n",
    "    self.vocab_size = vocab_size\n",
    "    self.d_model = d_model\n",
    "    self.n_layers = n_layers\n",
    "    self.dff = dff\n",
    "\n",
    "\n",
    "    self.embedding = nn.Embedding(vocab_size, d_model)\n",
    "    self.pos_encoding = nn.parameter.Parameter(positional_encoding(max_len, d_model), requires_grad=False)\n",
    "    self.layers = nn.ModuleList([TransformerLayer(d_model, d_model, dff) for _ in range(n_layers)])\n",
    "\n",
    "    self.dropout_rate = dropout_rate\n",
    "    self.dropout = nn.Dropout(self.dropout_rate)  # 드롭아웃 레이어 추가\n",
    "\n",
    "    # 이진 분류가 아니므로 토큰 개수로 변경\n",
    "    # 라벨 토큰 개수로 바꿔봄\n",
    "    self.classification = nn.Linear(d_model, output_size)\n",
    "    #self.classification.weight = self.embedding.weight  # 가중치 공유\n",
    "    # 써보려했으나 쉐잎이 다름 난 ouput_Size가 라벨임 그러나 임베딩은 vocab\n",
    "\n",
    "  def forward(self, x):\n",
    "    mask = (x == tokenizer.pad_token_id)\n",
    "    mask = mask[:, None, :]\n",
    "    seq_len = x.shape[1]\n",
    "\n",
    "    input_idx = x\n",
    "    x = self.embedding(x)\n",
    "    x = x * sqrt(self.d_model)\n",
    "    x = x + self.pos_encoding[:, :seq_len]\n",
    "\n",
    "    if self.dropout_rate > 0:\n",
    "        x = self.dropout(x) # 드롭아웃\n",
    "\n",
    "    for layer in self.layers:\n",
    "        x = layer(x, mask)\n",
    "\n",
    "\n",
    "    # 최종 선택\n",
    "    #x = x[:, 0]\n",
    "    x = get_last_valid_embeddings(x,  input_idx, pad_token_id=tokenizer.pad_token_id)\n",
    "\n",
    "    if self.dropout_rate > 0:\n",
    "        x = self.dropout(x) # 드롭아웃\n",
    "\n",
    "    x = self.classification(x)\n",
    "\n",
    "    return x"
   ],
   "outputs": [],
   "execution_count": 143
  },
  {
   "metadata": {
    "ExecuteTime": {
     "end_time": "2024-12-25T14:22:11.099500Z",
     "start_time": "2024-12-25T14:22:11.021989Z"
    }
   },
   "cell_type": "code",
   "source": [
    "import time\n",
    "\n",
    "# 라벨 토큰 개수로 바꿔봄\n",
    "model = TextEndPredictor(len(tokenizer), 32, 2, 32, len(unique_labels), dropout_rate=0)\n",
    "\n",
    "lr = 0.001\n",
    "model = model.to(device)\n",
    "loss_fn = nn.CrossEntropyLoss()\n",
    "\n",
    "optimizer = Adam(model.parameters(), lr=lr)\n",
    "\n",
    "time_list = []\n",
    "average_loss_list = []\n",
    "train_accuracies = []\n",
    "test_accuracies = []\n",
    "perplexity_list = []\n",
    "\n",
    "n_epochs = 50\n",
    "start_epoch = 0\n",
    "\n",
    "\n",
    "checkpoint_path = 'checkpoint_TextEndPredictor.pth'\n",
    "\n",
    "try:\n",
    "    checkpoint = torch.load(checkpoint_path, weights_only=False)\n",
    "    model.load_state_dict(checkpoint['model_state_dict'])\n",
    "    optimizer.load_state_dict(checkpoint['optimizer_state_dict'])\n",
    "    start_epoch = checkpoint['epoch']  # 이어서 시작할 에포크\n",
    "    time_list = checkpoint['time_list']\n",
    "    average_loss_list = checkpoint['average_loss_list']\n",
    "    train_accuracies = checkpoint['train_accuracies']\n",
    "    test_accuracies = checkpoint['test_accuracies']\n",
    "    perplexity_list = checkpoint['perplexity_list']\n",
    "    for epoch in range(0, start_epoch):\n",
    "        print(f\"Epoch {epoch+1:3d} |\"\n",
    "        f\" Time: {time_list[epoch]:.2f} seconds |\"\n",
    "        f\" Loss: {average_loss_list[epoch]:.2f} |\"\n",
    "        f\" Perplexity: {perplexity_list[epoch]:.2f} |\"\n",
    "        f\" Train Acc: {train_accuracies[epoch]:.3f} |\"\n",
    "        f\" Test Acc: {test_accuracies[epoch]:.3f}\")\n",
    "\n",
    "    if start_epoch < n_epochs -1:\n",
    "        print(f\"이어서 시작~ {start_epoch + 1}.\")\n",
    "except FileNotFoundError:\n",
    "    print(\"새롭게 시작~\")\n",
    "\n",
    "for epoch in range(start_epoch, n_epochs):\n",
    "    start_time = time.time()  # 에포크 시작 시간 기록\n",
    "\n",
    "    total_loss = 0.\n",
    "    model.train()\n",
    "    for data in train_loader:\n",
    "        model.zero_grad()\n",
    "        inputs, labels = data\n",
    "        inputs, labels = inputs.to(device), labels.to(device).float()\n",
    "\n",
    "        #preds = model(inputs)[..., 0] # 이진 분류에서 로짓 추출 (기존 손실 함수는 로짓을 원함)\n",
    "        preds = model(inputs)\n",
    "        loss = loss_fn(preds, labels)\n",
    "        loss.backward()\n",
    "        optimizer.step()\n",
    "\n",
    "        total_loss += loss.item()\n",
    "        average_loss = total_loss / len(train_loader)\n",
    "\n",
    "    end_time = time.time()\n",
    "    epoch_time = end_time - start_time  # 에포크 실행 시간 계산\n",
    "\n",
    "    with torch.no_grad():\n",
    "        model.eval()\n",
    "        train_acc = accuracy(model, train_loader)\n",
    "        test_acc = accuracy(model, test_loader)\n",
    "        train_accuracies.append(train_acc)\n",
    "        test_accuracies.append(test_acc)\n",
    "        time_list.append(epoch_time)\n",
    "        average_loss_list.append(average_loss)\n",
    "        perplexity = torch.exp(torch.tensor(average_loss))  # e^Loss로 퍼플렉서티 계산\n",
    "        perplexity_list.append(perplexity)\n",
    "\n",
    "    # 체크포인트 저장\n",
    "    torch.save({\n",
    "        'epoch': epoch + 1,\n",
    "        'model_state_dict': model.state_dict(),\n",
    "        'optimizer_state_dict': optimizer.state_dict(),\n",
    "        'time_list': time_list,\n",
    "        'average_loss_list': average_loss_list,\n",
    "        'perplexity_list':  perplexity_list,\n",
    "        'train_accuracies': train_accuracies,\n",
    "        'test_accuracies': test_accuracies\n",
    "    }, checkpoint_path)\n",
    "\n",
    "    print(f\"Epoch {epoch+1:3d} |\"\n",
    "    f\" Time: {epoch_time:.2f} seconds |\"\n",
    "    f\" Loss: {average_loss:.2f} |\"\n",
    "    f\" Perplexity: {perplexity:.2f} |\"\n",
    "    f\" Train Acc: {train_acc:.3f} |\"\n",
    "    f\" Test Acc: {test_acc:.3f}\")\n"
   ],
   "outputs": [
    {
     "name": "stdout",
     "output_type": "stream",
     "text": [
      "Epoch   1 | Time: 32.75 seconds | Loss: 2.15 | Perplexity: 8.63 | Train Acc: 0.558 | Test Acc: 0.564\n",
      "Epoch   2 | Time: 33.17 seconds | Loss: 1.72 | Perplexity: 5.56 | Train Acc: 0.573 | Test Acc: 0.578\n",
      "Epoch   3 | Time: 34.56 seconds | Loss: 1.58 | Perplexity: 4.84 | Train Acc: 0.575 | Test Acc: 0.577\n",
      "Epoch   4 | Time: 32.74 seconds | Loss: 1.51 | Perplexity: 4.54 | Train Acc: 0.581 | Test Acc: 0.582\n",
      "Epoch   5 | Time: 33.68 seconds | Loss: 1.47 | Perplexity: 4.34 | Train Acc: 0.585 | Test Acc: 0.586\n",
      "Epoch   6 | Time: 32.85 seconds | Loss: 1.44 | Perplexity: 4.21 | Train Acc: 0.589 | Test Acc: 0.588\n",
      "Epoch   7 | Time: 32.97 seconds | Loss: 1.39 | Perplexity: 4.03 | Train Acc: 0.591 | Test Acc: 0.590\n",
      "Epoch   8 | Time: 31.42 seconds | Loss: 1.37 | Perplexity: 3.92 | Train Acc: 0.592 | Test Acc: 0.590\n",
      "Epoch   9 | Time: 30.82 seconds | Loss: 1.35 | Perplexity: 3.85 | Train Acc: 0.594 | Test Acc: 0.586\n",
      "Epoch  10 | Time: 32.34 seconds | Loss: 1.33 | Perplexity: 3.78 | Train Acc: 0.594 | Test Acc: 0.590\n",
      "Epoch  11 | Time: 32.94 seconds | Loss: 1.30 | Perplexity: 3.67 | Train Acc: 0.596 | Test Acc: 0.576\n",
      "Epoch  12 | Time: 30.87 seconds | Loss: 1.28 | Perplexity: 3.60 | Train Acc: 0.603 | Test Acc: 0.585\n",
      "Epoch  13 | Time: 31.61 seconds | Loss: 1.26 | Perplexity: 3.54 | Train Acc: 0.604 | Test Acc: 0.585\n",
      "Epoch  14 | Time: 33.12 seconds | Loss: 1.24 | Perplexity: 3.47 | Train Acc: 0.605 | Test Acc: 0.578\n",
      "Epoch  15 | Time: 31.56 seconds | Loss: 1.22 | Perplexity: 3.38 | Train Acc: 0.606 | Test Acc: 0.574\n",
      "Epoch  16 | Time: 31.21 seconds | Loss: 1.20 | Perplexity: 3.32 | Train Acc: 0.617 | Test Acc: 0.573\n",
      "Epoch  17 | Time: 31.27 seconds | Loss: 1.18 | Perplexity: 3.24 | Train Acc: 0.617 | Test Acc: 0.567\n",
      "Epoch  18 | Time: 31.27 seconds | Loss: 1.15 | Perplexity: 3.17 | Train Acc: 0.622 | Test Acc: 0.565\n",
      "Epoch  19 | Time: 31.16 seconds | Loss: 1.15 | Perplexity: 3.15 | Train Acc: 0.620 | Test Acc: 0.577\n",
      "Epoch  20 | Time: 31.19 seconds | Loss: 1.12 | Perplexity: 3.05 | Train Acc: 0.619 | Test Acc: 0.555\n",
      "Epoch  21 | Time: 31.92 seconds | Loss: 1.09 | Perplexity: 2.99 | Train Acc: 0.631 | Test Acc: 0.561\n",
      "Epoch  22 | Time: 31.38 seconds | Loss: 1.08 | Perplexity: 2.96 | Train Acc: 0.635 | Test Acc: 0.551\n",
      "Epoch  23 | Time: 31.30 seconds | Loss: 1.06 | Perplexity: 2.88 | Train Acc: 0.636 | Test Acc: 0.548\n",
      "Epoch  24 | Time: 31.15 seconds | Loss: 1.05 | Perplexity: 2.87 | Train Acc: 0.640 | Test Acc: 0.562\n",
      "Epoch  25 | Time: 31.51 seconds | Loss: 1.02 | Perplexity: 2.78 | Train Acc: 0.649 | Test Acc: 0.551\n",
      "Epoch  26 | Time: 31.21 seconds | Loss: 1.00 | Perplexity: 2.70 | Train Acc: 0.649 | Test Acc: 0.549\n",
      "Epoch  27 | Time: 31.14 seconds | Loss: 0.99 | Perplexity: 2.69 | Train Acc: 0.653 | Test Acc: 0.560\n",
      "Epoch  28 | Time: 31.26 seconds | Loss: 0.97 | Perplexity: 2.63 | Train Acc: 0.656 | Test Acc: 0.540\n",
      "Epoch  29 | Time: 33.79 seconds | Loss: 0.95 | Perplexity: 2.59 | Train Acc: 0.655 | Test Acc: 0.549\n",
      "Epoch  30 | Time: 32.10 seconds | Loss: 0.93 | Perplexity: 2.54 | Train Acc: 0.661 | Test Acc: 0.537\n",
      "Epoch  31 | Time: 32.06 seconds | Loss: 0.92 | Perplexity: 2.50 | Train Acc: 0.653 | Test Acc: 0.507\n",
      "Epoch  32 | Time: 31.40 seconds | Loss: 0.91 | Perplexity: 2.47 | Train Acc: 0.666 | Test Acc: 0.543\n",
      "Epoch  33 | Time: 31.24 seconds | Loss: 0.89 | Perplexity: 2.45 | Train Acc: 0.677 | Test Acc: 0.521\n",
      "Epoch  34 | Time: 31.23 seconds | Loss: 0.87 | Perplexity: 2.38 | Train Acc: 0.675 | Test Acc: 0.515\n",
      "Epoch  35 | Time: 31.32 seconds | Loss: 0.85 | Perplexity: 2.33 | Train Acc: 0.680 | Test Acc: 0.542\n",
      "Epoch  36 | Time: 31.25 seconds | Loss: 0.84 | Perplexity: 2.32 | Train Acc: 0.683 | Test Acc: 0.519\n",
      "Epoch  37 | Time: 33.66 seconds | Loss: 0.81 | Perplexity: 2.26 | Train Acc: 0.690 | Test Acc: 0.530\n",
      "Epoch  38 | Time: 31.87 seconds | Loss: 0.79 | Perplexity: 2.21 | Train Acc: 0.690 | Test Acc: 0.536\n",
      "Epoch  39 | Time: 32.15 seconds | Loss: 0.81 | Perplexity: 2.24 | Train Acc: 0.691 | Test Acc: 0.527\n",
      "Epoch  40 | Time: 31.79 seconds | Loss: 0.78 | Perplexity: 2.19 | Train Acc: 0.700 | Test Acc: 0.524\n",
      "Epoch  41 | Time: 33.95 seconds | Loss: 0.78 | Perplexity: 2.17 | Train Acc: 0.688 | Test Acc: 0.510\n",
      "Epoch  42 | Time: 31.55 seconds | Loss: 0.79 | Perplexity: 2.20 | Train Acc: 0.688 | Test Acc: 0.544\n",
      "Epoch  43 | Time: 31.73 seconds | Loss: 0.77 | Perplexity: 2.15 | Train Acc: 0.704 | Test Acc: 0.529\n",
      "Epoch  44 | Time: 32.40 seconds | Loss: 0.74 | Perplexity: 2.10 | Train Acc: 0.703 | Test Acc: 0.525\n",
      "Epoch  45 | Time: 33.05 seconds | Loss: 0.71 | Perplexity: 2.04 | Train Acc: 0.713 | Test Acc: 0.520\n",
      "Epoch  46 | Time: 32.52 seconds | Loss: 0.72 | Perplexity: 2.05 | Train Acc: 0.709 | Test Acc: 0.510\n",
      "Epoch  47 | Time: 33.80 seconds | Loss: 0.71 | Perplexity: 2.03 | Train Acc: 0.705 | Test Acc: 0.505\n",
      "Epoch  48 | Time: 31.93 seconds | Loss: 0.70 | Perplexity: 2.02 | Train Acc: 0.707 | Test Acc: 0.497\n",
      "Epoch  49 | Time: 31.96 seconds | Loss: 0.68 | Perplexity: 1.98 | Train Acc: 0.717 | Test Acc: 0.499\n",
      "Epoch  50 | Time: 33.23 seconds | Loss: 0.67 | Perplexity: 1.95 | Train Acc: 0.717 | Test Acc: 0.490\n"
     ]
    }
   ],
   "execution_count": 144
  },
  {
   "metadata": {
    "ExecuteTime": {
     "end_time": "2024-12-25T14:22:11.194705Z",
     "start_time": "2024-12-25T14:22:11.106591Z"
    }
   },
   "cell_type": "code",
   "source": [
    "plot_acc(train_accuracies, test_accuracies)"
   ],
   "outputs": [
    {
     "data": {
      "text/plain": [
       "<Figure size 640x480 with 1 Axes>"
      ],
      "image/png": "[encoded data removed]"
     },
     "metadata": {},
     "output_type": "display_data"
    }
   ],
   "execution_count": 145
  },
  {
   "metadata": {},
   "cell_type": "markdown",
   "source": [
    "# [MY CODE] 최적화 적용\n",
    " - cls로 다시 변경\n",
    " - 드롭아웃 (0.3)\n",
    " - weight_decay=1e-5\n",
    " - 가중치 공유"
   ]
  },
  {
   "metadata": {
    "ExecuteTime": {
     "end_time": "2024-12-25T14:22:11.240168Z",
     "start_time": "2024-12-25T14:22:11.234447Z"
    }
   },
   "cell_type": "code",
   "source": [
    "class TextEndPredictor2(nn.Module):\n",
    "  def __init__(self, vocab_size, d_model, n_layers, dff, output_size, dropout_rate):\n",
    "    super().__init__()\n",
    "\n",
    "    self.vocab_size = vocab_size\n",
    "    self.d_model = d_model\n",
    "    self.n_layers = n_layers\n",
    "    self.dff = dff\n",
    "\n",
    "\n",
    "    self.embedding = nn.Embedding(vocab_size, d_model)\n",
    "    self.pos_encoding = nn.parameter.Parameter(positional_encoding(max_len, d_model), requires_grad=False)\n",
    "    self.layers = nn.ModuleList([TransformerLayer(d_model, d_model, dff) for _ in range(n_layers)])\n",
    "\n",
    "    self.dropout_rate = dropout_rate\n",
    "    self.dropout = nn.Dropout(self.dropout_rate)  # 드롭아웃 레이어 추가\n",
    "\n",
    "    # 이진 분류가 아니므로 토큰 개수로 변경\n",
    "    # 라벨 토큰 개수로 바꿔봄\n",
    "    self.classification = nn.Linear(d_model, output_size)\n",
    "    self.classification.weight = self.embedding.weight  # 가중치 공유\n",
    "    # 써보려했으나 쉐잎이 다름 난 ouput_Size가 라벨임 그러나 임베딩은 vocab\n",
    "\n",
    "  def forward(self, x):\n",
    "    mask = (x == tokenizer.pad_token_id)\n",
    "    mask = mask[:, None, :]\n",
    "    seq_len = x.shape[1]\n",
    "\n",
    "    input_idx = x\n",
    "    x = self.embedding(x)\n",
    "    x = x * sqrt(self.d_model)\n",
    "    x = x + self.pos_encoding[:, :seq_len]\n",
    "\n",
    "    if self.dropout_rate > 0:\n",
    "        x = self.dropout(x) # 드롭아웃\n",
    "\n",
    "    for layer in self.layers:\n",
    "        x = layer(x, mask)\n",
    "\n",
    "\n",
    "    # 최종 선택\n",
    "    x = x[:, 0]\n",
    "    #x = get_last_valid_embeddings(x,  input_idx, pad_token_id=tokenizer.pad_token_id)\n",
    "\n",
    "    if self.dropout_rate > 0:\n",
    "        x = self.dropout(x) # 드롭아웃\n",
    "\n",
    "    x = self.classification(x)\n",
    "\n",
    "    return x"
   ],
   "outputs": [],
   "execution_count": 146
  },
  {
   "metadata": {
    "ExecuteTime": {
     "end_time": "2024-12-25T14:22:11.343330Z",
     "start_time": "2024-12-25T14:22:11.280633Z"
    }
   },
   "cell_type": "code",
   "source": [
    "import time\n",
    "\n",
    "# 라벨 토큰 개수로 바꿔봄\n",
    "model = TextEndPredictor2(len(tokenizer), 32, 2, 32, len(tokenizer), dropout_rate=0.3)\n",
    "\n",
    "lr = 0.001\n",
    "model = model.to(device)\n",
    "loss_fn = nn.CrossEntropyLoss()\n",
    "\n",
    "optimizer = Adam(model.parameters(), lr=lr, weight_decay=1e-5)\n",
    "\n",
    "time_list = []\n",
    "average_loss_list = []\n",
    "train_accuracies = []\n",
    "test_accuracies = []\n",
    "perplexity_list = []\n",
    "\n",
    "n_epochs = 50\n",
    "start_epoch = 0\n",
    "\n",
    "\n",
    "checkpoint_path = 'checkpoint_TextEndPredictor2.pth'\n",
    "\n",
    "try:\n",
    "    checkpoint = torch.load(checkpoint_path, weights_only=False)\n",
    "    model.load_state_dict(checkpoint['model_state_dict'])\n",
    "    optimizer.load_state_dict(checkpoint['optimizer_state_dict'])\n",
    "    start_epoch = checkpoint['epoch']  # 이어서 시작할 에포크\n",
    "    time_list = checkpoint['time_list']\n",
    "    average_loss_list = checkpoint['average_loss_list']\n",
    "    train_accuracies = checkpoint['train_accuracies']\n",
    "    test_accuracies = checkpoint['test_accuracies']\n",
    "    perplexity_list = checkpoint['perplexity_list']\n",
    "    for epoch in range(0, start_epoch):\n",
    "        print(f\"Epoch {epoch+1:3d} |\"\n",
    "        f\" Time: {time_list[epoch]:.2f} seconds |\"\n",
    "        f\" Loss: {average_loss_list[epoch]:.2f} |\"\n",
    "        f\" Perplexity: {perplexity_list[epoch]:.2f} |\"\n",
    "        f\" Train Acc: {train_accuracies[epoch]:.3f} |\"\n",
    "        f\" Test Acc: {test_accuracies[epoch]:.3f}\")\n",
    "\n",
    "    if start_epoch < n_epochs -1:\n",
    "        print(f\"이어서 시작~ {start_epoch + 1}.\")\n",
    "except FileNotFoundError:\n",
    "    print(\"새롭게 시작~\")\n",
    "\n",
    "for epoch in range(start_epoch, n_epochs):\n",
    "    start_time = time.time()  # 에포크 시작 시간 기록\n",
    "\n",
    "    total_loss = 0.\n",
    "    model.train()\n",
    "    for data in train_loader:\n",
    "        model.zero_grad()\n",
    "        inputs, labels = data\n",
    "        inputs, labels = inputs.to(device), labels.to(device).float()\n",
    "\n",
    "        #preds = model(inputs)[..., 0] # 이진 분류에서 로짓 추출 (기존 손실 함수는 로짓을 원함)\n",
    "        preds = model(inputs)\n",
    "        loss = loss_fn(preds, labels)\n",
    "        loss.backward()\n",
    "        optimizer.step()\n",
    "\n",
    "        total_loss += loss.item()\n",
    "        average_loss = total_loss / len(train_loader)\n",
    "\n",
    "    end_time = time.time()\n",
    "    epoch_time = end_time - start_time  # 에포크 실행 시간 계산\n",
    "\n",
    "    with torch.no_grad():\n",
    "        model.eval()\n",
    "        train_acc = accuracy(model, train_loader)\n",
    "        test_acc = accuracy(model, test_loader)\n",
    "        train_accuracies.append(train_acc)\n",
    "        test_accuracies.append(test_acc)\n",
    "        time_list.append(epoch_time)\n",
    "        average_loss_list.append(average_loss)\n",
    "        perplexity = torch.exp(torch.tensor(average_loss))  # e^Loss로 퍼플렉서티 계산\n",
    "        perplexity_list.append(perplexity)\n",
    "\n",
    "    # 체크포인트 저장\n",
    "    torch.save({\n",
    "        'epoch': epoch + 1,\n",
    "        'model_state_dict': model.state_dict(),\n",
    "        'optimizer_state_dict': optimizer.state_dict(),\n",
    "        'time_list': time_list,\n",
    "        'average_loss_list': average_loss_list,\n",
    "        'perplexity_list':  perplexity_list,\n",
    "        'train_accuracies': train_accuracies,\n",
    "        'test_accuracies': test_accuracies\n",
    "    }, checkpoint_path)\n",
    "\n",
    "    print(f\"Epoch {epoch+1:3d} |\"\n",
    "    f\" Time: {epoch_time:.2f} seconds |\"\n",
    "    f\" Loss: {average_loss:.2f} |\"\n",
    "    f\" Perplexity: {perplexity:.2f} |\"\n",
    "    f\" Train Acc: {train_acc:.3f} |\"\n",
    "    f\" Test Acc: {test_acc:.3f}\")"
   ],
   "outputs": [
    {
     "name": "stdout",
     "output_type": "stream",
     "text": [
      "Epoch   1 | Time: 35.85 seconds | Loss: 5.78 | Perplexity: 323.56 | Train Acc: 0.558 | Test Acc: 0.564\n",
      "Epoch   2 | Time: 33.41 seconds | Loss: 4.12 | Perplexity: 61.36 | Train Acc: 0.558 | Test Acc: 0.564\n",
      "Epoch   3 | Time: 33.90 seconds | Loss: 3.70 | Perplexity: 40.50 | Train Acc: 0.558 | Test Acc: 0.564\n",
      "Epoch   4 | Time: 37.36 seconds | Loss: 3.53 | Perplexity: 34.11 | Train Acc: 0.558 | Test Acc: 0.564\n",
      "Epoch   5 | Time: 38.11 seconds | Loss: 3.43 | Perplexity: 31.02 | Train Acc: 0.558 | Test Acc: 0.564\n",
      "Epoch   6 | Time: 32.94 seconds | Loss: 3.36 | Perplexity: 28.81 | Train Acc: 0.558 | Test Acc: 0.564\n",
      "Epoch   7 | Time: 32.91 seconds | Loss: 3.31 | Perplexity: 27.37 | Train Acc: 0.558 | Test Acc: 0.564\n",
      "Epoch   8 | Time: 33.28 seconds | Loss: 3.26 | Perplexity: 25.97 | Train Acc: 0.558 | Test Acc: 0.564\n",
      "Epoch   9 | Time: 33.17 seconds | Loss: 3.22 | Perplexity: 25.02 | Train Acc: 0.558 | Test Acc: 0.564\n",
      "Epoch  10 | Time: 33.06 seconds | Loss: 3.19 | Perplexity: 24.18 | Train Acc: 0.559 | Test Acc: 0.566\n",
      "Epoch  11 | Time: 32.99 seconds | Loss: 3.14 | Perplexity: 23.18 | Train Acc: 0.559 | Test Acc: 0.564\n",
      "Epoch  12 | Time: 33.02 seconds | Loss: 3.11 | Perplexity: 22.41 | Train Acc: 0.559 | Test Acc: 0.564\n",
      "Epoch  13 | Time: 33.15 seconds | Loss: 3.09 | Perplexity: 21.88 | Train Acc: 0.559 | Test Acc: 0.564\n",
      "Epoch  14 | Time: 33.13 seconds | Loss: 3.06 | Perplexity: 21.43 | Train Acc: 0.558 | Test Acc: 0.564\n",
      "Epoch  15 | Time: 33.16 seconds | Loss: 3.04 | Perplexity: 20.86 | Train Acc: 0.558 | Test Acc: 0.564\n",
      "Epoch  16 | Time: 32.94 seconds | Loss: 3.03 | Perplexity: 20.68 | Train Acc: 0.559 | Test Acc: 0.564\n",
      "Epoch  17 | Time: 32.76 seconds | Loss: 3.02 | Perplexity: 20.43 | Train Acc: 0.558 | Test Acc: 0.564\n",
      "Epoch  18 | Time: 32.94 seconds | Loss: 2.98 | Perplexity: 19.76 | Train Acc: 0.556 | Test Acc: 0.563\n",
      "Epoch  19 | Time: 32.98 seconds | Loss: 2.97 | Perplexity: 19.40 | Train Acc: 0.560 | Test Acc: 0.564\n",
      "Epoch  20 | Time: 33.15 seconds | Loss: 2.95 | Perplexity: 19.01 | Train Acc: 0.558 | Test Acc: 0.564\n",
      "Epoch  21 | Time: 33.15 seconds | Loss: 2.94 | Perplexity: 18.84 | Train Acc: 0.560 | Test Acc: 0.564\n",
      "Epoch  22 | Time: 33.14 seconds | Loss: 2.91 | Perplexity: 18.30 | Train Acc: 0.559 | Test Acc: 0.563\n",
      "Epoch  23 | Time: 34.49 seconds | Loss: 2.90 | Perplexity: 18.10 | Train Acc: 0.560 | Test Acc: 0.563\n",
      "Epoch  24 | Time: 33.04 seconds | Loss: 2.88 | Perplexity: 17.84 | Train Acc: 0.558 | Test Acc: 0.564\n",
      "Epoch  25 | Time: 32.94 seconds | Loss: 2.87 | Perplexity: 17.62 | Train Acc: 0.560 | Test Acc: 0.564\n",
      "Epoch  26 | Time: 32.92 seconds | Loss: 2.86 | Perplexity: 17.42 | Train Acc: 0.559 | Test Acc: 0.563\n",
      "Epoch  27 | Time: 33.61 seconds | Loss: 2.84 | Perplexity: 17.07 | Train Acc: 0.560 | Test Acc: 0.563\n",
      "Epoch  28 | Time: 33.09 seconds | Loss: 2.82 | Perplexity: 16.86 | Train Acc: 0.555 | Test Acc: 0.559\n",
      "Epoch  29 | Time: 32.92 seconds | Loss: 2.81 | Perplexity: 16.64 | Train Acc: 0.562 | Test Acc: 0.562\n",
      "Epoch  30 | Time: 32.91 seconds | Loss: 2.80 | Perplexity: 16.45 | Train Acc: 0.558 | Test Acc: 0.561\n",
      "Epoch  31 | Time: 32.74 seconds | Loss: 2.79 | Perplexity: 16.25 | Train Acc: 0.560 | Test Acc: 0.563\n",
      "Epoch  32 | Time: 33.69 seconds | Loss: 2.77 | Perplexity: 15.95 | Train Acc: 0.560 | Test Acc: 0.562\n",
      "Epoch  33 | Time: 32.14 seconds | Loss: 2.76 | Perplexity: 15.83 | Train Acc: 0.562 | Test Acc: 0.563\n",
      "Epoch  34 | Time: 32.24 seconds | Loss: 2.75 | Perplexity: 15.71 | Train Acc: 0.561 | Test Acc: 0.563\n",
      "Epoch  35 | Time: 32.20 seconds | Loss: 2.75 | Perplexity: 15.57 | Train Acc: 0.563 | Test Acc: 0.558\n",
      "Epoch  36 | Time: 32.17 seconds | Loss: 2.73 | Perplexity: 15.39 | Train Acc: 0.562 | Test Acc: 0.562\n",
      "Epoch  37 | Time: 32.29 seconds | Loss: 2.73 | Perplexity: 15.27 | Train Acc: 0.560 | Test Acc: 0.562\n",
      "Epoch  38 | Time: 32.40 seconds | Loss: 2.72 | Perplexity: 15.13 | Train Acc: 0.563 | Test Acc: 0.561\n",
      "Epoch  39 | Time: 32.17 seconds | Loss: 2.71 | Perplexity: 15.07 | Train Acc: 0.562 | Test Acc: 0.562\n",
      "Epoch  40 | Time: 32.50 seconds | Loss: 2.70 | Perplexity: 14.81 | Train Acc: 0.562 | Test Acc: 0.561\n",
      "Epoch  41 | Time: 33.15 seconds | Loss: 2.69 | Perplexity: 14.66 | Train Acc: 0.568 | Test Acc: 0.556\n",
      "Epoch  42 | Time: 32.21 seconds | Loss: 2.67 | Perplexity: 14.49 | Train Acc: 0.564 | Test Acc: 0.560\n",
      "Epoch  43 | Time: 32.16 seconds | Loss: 2.67 | Perplexity: 14.51 | Train Acc: 0.568 | Test Acc: 0.559\n",
      "Epoch  44 | Time: 32.06 seconds | Loss: 2.66 | Perplexity: 14.32 | Train Acc: 0.563 | Test Acc: 0.560\n",
      "Epoch  45 | Time: 32.09 seconds | Loss: 2.66 | Perplexity: 14.25 | Train Acc: 0.565 | Test Acc: 0.558\n",
      "Epoch  46 | Time: 32.80 seconds | Loss: 2.65 | Perplexity: 14.16 | Train Acc: 0.562 | Test Acc: 0.558\n",
      "Epoch  47 | Time: 32.09 seconds | Loss: 2.66 | Perplexity: 14.23 | Train Acc: 0.564 | Test Acc: 0.558\n",
      "Epoch  48 | Time: 32.32 seconds | Loss: 2.63 | Perplexity: 13.87 | Train Acc: 0.567 | Test Acc: 0.557\n",
      "Epoch  49 | Time: 34.05 seconds | Loss: 2.62 | Perplexity: 13.77 | Train Acc: 0.564 | Test Acc: 0.562\n",
      "Epoch  50 | Time: 32.05 seconds | Loss: 2.62 | Perplexity: 13.69 | Train Acc: 0.568 | Test Acc: 0.557\n"
     ]
    }
   ],
   "execution_count": 147
  },
  {
   "metadata": {
    "ExecuteTime": {
     "end_time": "2024-12-25T14:22:11.770463Z",
     "start_time": "2024-12-25T14:22:11.380515Z"
    }
   },
   "cell_type": "code",
   "source": [
    "plot_acc(train_accuracies, test_accuracies)"
   ],
   "outputs": [
    {
     "data": {
      "text/plain": [
       "<Figure size 640x480 with 1 Axes>"
      ],
      "image/png": "[encoded data removed]"
     },
     "metadata": {},
     "output_type": "display_data"
    }
   ],
   "execution_count": 148
  },
  {
   "metadata": {},
   "cell_type": "markdown",
   "source": [
    "# [MY CODE] 트랜스포머: 잔차 연결 + 레이어 정규화 추가!\n",
    "  - 셀프 어텐션 횟수 변경(4번)\n",
    "  - 위치정보 학습"
   ]
  },
  {
   "metadata": {
    "ExecuteTime": {
     "end_time": "2024-12-25T14:45:02.766060Z",
     "start_time": "2024-12-25T14:45:02.750240Z"
    }
   },
   "cell_type": "code",
   "source": [
    "class TransformerLayer(nn.Module):\n",
    "  def __init__(self, input_dim, d_model, dff):\n",
    "    super().__init__()\n",
    "\n",
    "    self.input_dim = input_dim\n",
    "    self.d_model = d_model\n",
    "    self.dff = dff\n",
    "\n",
    "    self.sa = SelfAttention(input_dim, d_model)\n",
    "    self.ffn = nn.Sequential(\n",
    "      nn.Linear(d_model, dff),\n",
    "      nn.ReLU(),\n",
    "      nn.Linear(dff, d_model)\n",
    "    )\n",
    "\n",
    "    self.norm1 = nn.LayerNorm(d_model)\n",
    "    self.norm2 = nn.LayerNorm(d_model)\n",
    "    self.dropout = nn.Dropout(0.1)\n",
    "\n",
    "  def forward(self, x, mask):\n",
    "    sa_output = self.sa(x, mask)\n",
    "    x = x + self.dropout(sa_output)\n",
    "    x = self.norm1(x)\n",
    "\n",
    "    ffn_output = self.ffn(x)\n",
    "    x = x + self.dropout(ffn_output)\n",
    "    x = self.norm2(x)\n",
    "\n",
    "    return x"
   ],
   "outputs": [],
   "execution_count": 153
  },
  {
   "metadata": {
    "ExecuteTime": {
     "end_time": "2024-12-25T14:45:02.785654Z",
     "start_time": "2024-12-25T14:45:02.775409Z"
    }
   },
   "cell_type": "code",
   "source": [
    "class TextEndPredictor3(nn.Module):\n",
    "  def __init__(self, vocab_size, d_model, n_layers, dff, output_size, dropout_rate):\n",
    "    super().__init__()\n",
    "\n",
    "    self.vocab_size = vocab_size\n",
    "    self.d_model = d_model\n",
    "    self.n_layers = n_layers\n",
    "    self.dff = dff\n",
    "\n",
    "\n",
    "    self.embedding = nn.Embedding(vocab_size, d_model)\n",
    "    self.pos_encoding = nn.parameter.Parameter(positional_encoding(max_len, d_model), requires_grad=True)\n",
    "    self.layers = nn.ModuleList([TransformerLayer(d_model, d_model, dff) for _ in range(n_layers)])\n",
    "\n",
    "    self.dropout_rate = dropout_rate\n",
    "    self.dropout = nn.Dropout(self.dropout_rate)  # 드롭아웃 레이어 추가\n",
    "\n",
    "    # 이진 분류가 아니므로 토큰 개수로 변경\n",
    "    # 라벨 토큰 개수로 바꿔봄\n",
    "    self.classification = nn.Linear(d_model, output_size)\n",
    "    #self.classification.weight = self.embedding.weight  # 가중치 공유\n",
    "    # 써보려했으나 쉐잎이 다름 난 ouput_Size가 라벨임 그러나 임베딩은 vocab\n",
    "\n",
    "  def forward(self, x):\n",
    "    mask = (x == tokenizer.pad_token_id)\n",
    "    mask = mask[:, None, :]\n",
    "    seq_len = x.shape[1]\n",
    "\n",
    "    input_idx = x\n",
    "    x = self.embedding(x)\n",
    "    x = x * sqrt(self.d_model)\n",
    "    x = x + self.pos_encoding[:, :seq_len]\n",
    "\n",
    "    if self.dropout_rate > 0:\n",
    "        x = self.dropout(x) # 드롭아웃\n",
    "\n",
    "    for layer in self.layers:\n",
    "        x = layer(x, mask)\n",
    "\n",
    "\n",
    "    # 최종 선택\n",
    "    #x = x[:, 0]\n",
    "    x = get_last_valid_embeddings(x,  input_idx, pad_token_id=tokenizer.pad_token_id)\n",
    "\n",
    "    if self.dropout_rate > 0:\n",
    "        x = self.dropout(x) # 드롭아웃\n",
    "\n",
    "    x = self.classification(x)\n",
    "\n",
    "    return x"
   ],
   "outputs": [],
   "execution_count": 154
  },
  {
   "metadata": {
    "ExecuteTime": {
     "end_time": "2024-12-25T15:04:17.991421Z",
     "start_time": "2024-12-25T15:04:17.786156Z"
    }
   },
   "cell_type": "code",
   "source": [
    "import time\n",
    "\n",
    "# 라벨 토큰 개수로 바꿔봄\n",
    "model = TextEndPredictor3(len(tokenizer), 32, 4, 32, len(unique_labels), dropout_rate=0)\n",
    "\n",
    "lr = 0.001\n",
    "model = model.to(device)\n",
    "loss_fn = nn.CrossEntropyLoss()\n",
    "\n",
    "optimizer = Adam(model.parameters(), lr=lr)\n",
    "\n",
    "time_list = []\n",
    "average_loss_list = []\n",
    "train_accuracies = []\n",
    "test_accuracies = []\n",
    "perplexity_list = []\n",
    "\n",
    "n_epochs = 10\n",
    "start_epoch = 0\n",
    "\n",
    "\n",
    "checkpoint_path = 'checkpoint_TextEndPredictor3.pth'\n",
    "\n",
    "try:\n",
    "    checkpoint = torch.load(checkpoint_path, weights_only=False)\n",
    "    model.load_state_dict(checkpoint['model_state_dict'])\n",
    "    optimizer.load_state_dict(checkpoint['optimizer_state_dict'])\n",
    "    start_epoch = checkpoint['epoch']  # 이어서 시작할 에포크\n",
    "    time_list = checkpoint['time_list']\n",
    "    average_loss_list = checkpoint['average_loss_list']\n",
    "    train_accuracies = checkpoint['train_accuracies']\n",
    "    test_accuracies = checkpoint['test_accuracies']\n",
    "    perplexity_list = checkpoint['perplexity_list']\n",
    "    for epoch in range(0, start_epoch):\n",
    "        print(f\"Epoch {epoch+1:3d} |\"\n",
    "        f\" Time: {time_list[epoch]:.2f} seconds |\"\n",
    "        f\" Loss: {average_loss_list[epoch]:.2f} |\"\n",
    "        f\" Perplexity: {perplexity_list[epoch]:.2f} |\"\n",
    "        f\" Train Acc: {train_accuracies[epoch]:.3f} |\"\n",
    "        f\" Test Acc: {test_accuracies[epoch]:.3f}\")\n",
    "\n",
    "    if start_epoch < n_epochs -1:\n",
    "        print(f\"이어서 시작~ {start_epoch + 1}.\")\n",
    "except FileNotFoundError:\n",
    "    print(\"새롭게 시작~\")\n",
    "\n",
    "for epoch in range(start_epoch, n_epochs):\n",
    "    start_time = time.time()  # 에포크 시작 시간 기록\n",
    "\n",
    "    total_loss = 0.\n",
    "    model.train()\n",
    "    for data in train_loader:\n",
    "        model.zero_grad()\n",
    "        inputs, labels = data\n",
    "        inputs, labels = inputs.to(device), labels.to(device).float()\n",
    "\n",
    "        #preds = model(inputs)[..., 0] # 이진 분류에서 로짓 추출 (기존 손실 함수는 로짓을 원함)\n",
    "        preds = model(inputs)\n",
    "        loss = loss_fn(preds, labels)\n",
    "        loss.backward()\n",
    "        optimizer.step()\n",
    "\n",
    "        total_loss += loss.item()\n",
    "        average_loss = total_loss / len(train_loader)\n",
    "\n",
    "    end_time = time.time()\n",
    "    epoch_time = end_time - start_time  # 에포크 실행 시간 계산\n",
    "\n",
    "    with torch.no_grad():\n",
    "        model.eval()\n",
    "        train_acc = accuracy(model, train_loader)\n",
    "        test_acc = accuracy(model, test_loader)\n",
    "        train_accuracies.append(train_acc)\n",
    "        test_accuracies.append(test_acc)\n",
    "        time_list.append(epoch_time)\n",
    "        average_loss_list.append(average_loss)\n",
    "        perplexity = torch.exp(torch.tensor(average_loss))  # e^Loss로 퍼플렉서티 계산\n",
    "        perplexity_list.append(perplexity)\n",
    "\n",
    "    # 체크포인트 저장\n",
    "    torch.save({\n",
    "        'epoch': epoch + 1,\n",
    "        'model_state_dict': model.state_dict(),\n",
    "        'optimizer_state_dict': optimizer.state_dict(),\n",
    "        'time_list': time_list,\n",
    "        'average_loss_list': average_loss_list,\n",
    "        'perplexity_list':  perplexity_list,\n",
    "        'train_accuracies': train_accuracies,\n",
    "        'test_accuracies': test_accuracies\n",
    "    }, checkpoint_path)\n",
    "\n",
    "    print(f\"Epoch {epoch+1:3d} |\"\n",
    "    f\" Time: {epoch_time:.2f} seconds |\"\n",
    "    f\" Loss: {average_loss:.2f} |\"\n",
    "    f\" Perplexity: {perplexity:.2f} |\"\n",
    "    f\" Train Acc: {train_acc:.3f} |\"\n",
    "    f\" Test Acc: {test_acc:.3f}\")\n",
    "\n",
    "plot_acc(train_accuracies, test_accuracies)\n"
   ],
   "outputs": [
    {
     "name": "stdout",
     "output_type": "stream",
     "text": [
      "Epoch   1 | Time: 58.33 seconds | Loss: 2.15 | Perplexity: 8.56 | Train Acc: 0.594 | Test Acc: 0.599\n",
      "Epoch   2 | Time: 55.31 seconds | Loss: 1.37 | Perplexity: 3.93 | Train Acc: 0.611 | Test Acc: 0.617\n",
      "Epoch   3 | Time: 54.33 seconds | Loss: 1.21 | Perplexity: 3.35 | Train Acc: 0.618 | Test Acc: 0.621\n",
      "Epoch   4 | Time: 56.11 seconds | Loss: 1.15 | Perplexity: 3.16 | Train Acc: 0.624 | Test Acc: 0.623\n",
      "Epoch   5 | Time: 55.82 seconds | Loss: 1.10 | Perplexity: 3.01 | Train Acc: 0.631 | Test Acc: 0.628\n",
      "Epoch   6 | Time: 56.24 seconds | Loss: 1.06 | Perplexity: 2.89 | Train Acc: 0.637 | Test Acc: 0.625\n",
      "Epoch   7 | Time: 56.57 seconds | Loss: 1.02 | Perplexity: 2.77 | Train Acc: 0.642 | Test Acc: 0.625\n",
      "Epoch   8 | Time: 56.24 seconds | Loss: 0.98 | Perplexity: 2.67 | Train Acc: 0.644 | Test Acc: 0.627\n",
      "Epoch   9 | Time: 55.55 seconds | Loss: 0.95 | Perplexity: 2.58 | Train Acc: 0.658 | Test Acc: 0.617\n",
      "Epoch  10 | Time: 60.06 seconds | Loss: 0.91 | Perplexity: 2.48 | Train Acc: 0.661 | Test Acc: 0.613\n"
     ]
    },
    {
     "data": {
      "text/plain": [
       "<Figure size 640x480 with 1 Axes>"
      ],
      "image/png": "[encoded data removed]"
     },
     "metadata": {},
     "output_type": "display_data"
    }
   ],
   "execution_count": 156
  },
  {
   "metadata": {},
   "cell_type": "markdown",
   "source": [
    "# [MY CODE] 레이어 2개"
   ]
  },
  {
   "metadata": {
    "ExecuteTime": {
     "end_time": "2024-12-25T15:24:06.770400Z",
     "start_time": "2024-12-25T15:24:06.764331Z"
    }
   },
   "cell_type": "code",
   "source": [
    "class TransformerLayer(nn.Module):\n",
    "  def __init__(self, input_dim, d_model, dff):\n",
    "    super().__init__()\n",
    "\n",
    "    self.input_dim = input_dim\n",
    "    self.d_model = d_model\n",
    "    self.dff = dff\n",
    "\n",
    "    self.sa = SelfAttention(input_dim, d_model)\n",
    "    self.ffn = nn.Sequential(\n",
    "      nn.Linear(d_model, dff),\n",
    "      nn.ReLU(),\n",
    "      nn.Linear(dff, d_model)\n",
    "    )\n",
    "\n",
    "    self.norm1 = nn.LayerNorm(d_model)\n",
    "    self.norm2 = nn.LayerNorm(d_model)\n",
    "    self.dropout = nn.Dropout(0.3)\n",
    "\n",
    "  def forward(self, x, mask):\n",
    "    sa_output = self.sa(x, mask)\n",
    "    x = x + self.dropout(sa_output)\n",
    "    x = self.norm1(x)\n",
    "\n",
    "    ffn_output = self.ffn(x)\n",
    "    x = x + self.dropout(ffn_output)\n",
    "    x = self.norm2(x)\n",
    "\n",
    "    return x"
   ],
   "outputs": [],
   "execution_count": 174
  },
  {
   "metadata": {
    "ExecuteTime": {
     "end_time": "2024-12-25T15:24:06.783023Z",
     "start_time": "2024-12-25T15:24:06.776540Z"
    }
   },
   "cell_type": "code",
   "source": [
    "class TextEndPredictor4(nn.Module):\n",
    "  def __init__(self, vocab_size, d_model, n_layers, dff, output_size):\n",
    "    super().__init__()\n",
    "\n",
    "    self.vocab_size = vocab_size\n",
    "    self.d_model = d_model\n",
    "    self.n_layers = n_layers\n",
    "    self.dff = dff\n",
    "\n",
    "\n",
    "    self.embedding = nn.Embedding(vocab_size, d_model)\n",
    "    self.pos_encoding = nn.parameter.Parameter(positional_encoding(max_len, d_model), requires_grad=False)\n",
    "    self.layers = nn.ModuleList([TransformerLayer(d_model, d_model, dff) for _ in range(n_layers)])\n",
    "\n",
    "\n",
    "    self.classification = nn.Linear(d_model, output_size)\n",
    "\n",
    "  def forward(self, x):\n",
    "    mask = (x == tokenizer.pad_token_id)\n",
    "    mask = mask[:, None, :]\n",
    "    seq_len = x.shape[1]\n",
    "\n",
    "    input_idx = x\n",
    "    x = self.embedding(x)\n",
    "    x = x * sqrt(self.d_model)\n",
    "    x = x + self.pos_encoding[:, :seq_len]\n",
    "\n",
    "    for layer in self.layers:\n",
    "        x = layer(x, mask)\n",
    "\n",
    "\n",
    "    # 최종 선택\n",
    "    #x = x[:, 0]\n",
    "    x = get_last_valid_embeddings(x,  input_idx, pad_token_id=tokenizer.pad_token_id)\n",
    "    x = self.classification(x)\n",
    "\n",
    "    return x"
   ],
   "outputs": [],
   "execution_count": 175
  },
  {
   "metadata": {
    "ExecuteTime": {
     "end_time": "2024-12-25T16:26:40.134459Z",
     "start_time": "2024-12-25T15:24:07.388121Z"
    }
   },
   "cell_type": "code",
   "source": [
    "import time\n",
    "import torch.optim\n",
    "# 라벨 토큰 개수로 바꿔봄\n",
    "model = TextEndPredictor4(len(tokenizer), 32, 2, 32, len(unique_labels))\n",
    "\n",
    "lr = 0.001\n",
    "model = model.to(device)\n",
    "loss_fn = nn.CrossEntropyLoss()\n",
    "\n",
    "optimizer = torch.optim.AdamW(model.parameters(), lr=lr)\n",
    "\n",
    "time_list = []\n",
    "average_loss_list = []\n",
    "train_accuracies = []\n",
    "test_accuracies = []\n",
    "perplexity_list = []\n",
    "\n",
    "n_epochs = 50\n",
    "start_epoch = 0\n",
    "\n",
    "\n",
    "checkpoint_path = 'checkpoint_TextEndPredictor4.pth'\n",
    "\n",
    "try:\n",
    "    checkpoint = torch.load(checkpoint_path, weights_only=False)\n",
    "    model.load_state_dict(checkpoint['model_state_dict'])\n",
    "    optimizer.load_state_dict(checkpoint['optimizer_state_dict'])\n",
    "    start_epoch = checkpoint['epoch']  # 이어서 시작할 에포크\n",
    "    time_list = checkpoint['time_list']\n",
    "    average_loss_list = checkpoint['average_loss_list']\n",
    "    train_accuracies = checkpoint['train_accuracies']\n",
    "    test_accuracies = checkpoint['test_accuracies']\n",
    "    perplexity_list = checkpoint['perplexity_list']\n",
    "    for epoch in range(0, start_epoch):\n",
    "        print(f\"Epoch {epoch+1:3d} |\"\n",
    "        f\" Time: {time_list[epoch]:.2f} seconds |\"\n",
    "        f\" Loss: {average_loss_list[epoch]:.2f} |\"\n",
    "        f\" Perplexity: {perplexity_list[epoch]:.2f} |\"\n",
    "        f\" Train Acc: {train_accuracies[epoch]:.3f} |\"\n",
    "        f\" Test Acc: {test_accuracies[epoch]:.3f}\")\n",
    "\n",
    "    if start_epoch < n_epochs -1:\n",
    "        print(f\"이어서 시작~ {start_epoch + 1}.\")\n",
    "except FileNotFoundError:\n",
    "    print(\"새롭게 시작~\")\n",
    "\n",
    "for epoch in range(start_epoch, n_epochs):\n",
    "    start_time = time.time()  # 에포크 시작 시간 기록\n",
    "\n",
    "    total_loss = 0.\n",
    "    model.train()\n",
    "    for data in train_loader:\n",
    "        model.zero_grad()\n",
    "        inputs, labels = data\n",
    "        inputs, labels = inputs.to(device), labels.to(device).float()\n",
    "\n",
    "        #preds = model(inputs)[..., 0] # 이진 분류에서 로짓 추출 (기존 손실 함수는 로짓을 원함)\n",
    "        preds = model(inputs)\n",
    "        loss = loss_fn(preds, labels)\n",
    "        loss.backward()\n",
    "        optimizer.step()\n",
    "\n",
    "        total_loss += loss.item()\n",
    "        average_loss = total_loss / len(train_loader)\n",
    "\n",
    "    end_time = time.time()\n",
    "    epoch_time = end_time - start_time  # 에포크 실행 시간 계산\n",
    "\n",
    "    with torch.no_grad():\n",
    "        model.eval()\n",
    "        train_acc = accuracy(model, train_loader)\n",
    "        test_acc = accuracy(model, test_loader)\n",
    "        train_accuracies.append(train_acc)\n",
    "        test_accuracies.append(test_acc)\n",
    "        time_list.append(epoch_time)\n",
    "        average_loss_list.append(average_loss)\n",
    "        perplexity = torch.exp(torch.tensor(average_loss))  # e^Loss로 퍼플렉서티 계산\n",
    "        perplexity_list.append(perplexity)\n",
    "\n",
    "    # 체크포인트 저장\n",
    "    torch.save({\n",
    "        'epoch': epoch + 1,\n",
    "        'model_state_dict': model.state_dict(),\n",
    "        'optimizer_state_dict': optimizer.state_dict(),\n",
    "        'time_list': time_list,\n",
    "        'average_loss_list': average_loss_list,\n",
    "        'perplexity_list':  perplexity_list,\n",
    "        'train_accuracies': train_accuracies,\n",
    "        'test_accuracies': test_accuracies\n",
    "    }, checkpoint_path)\n",
    "\n",
    "    print(f\"Epoch {epoch+1:3d} |\"\n",
    "    f\" Time: {epoch_time:.2f} seconds |\"\n",
    "    f\" Loss: {average_loss:.2f} |\"\n",
    "    f\" Perplexity: {perplexity:.2f} |\"\n",
    "    f\" Train Acc: {train_acc:.3f} |\"\n",
    "    f\" Test Acc: {test_acc:.3f}\")\n",
    "\n",
    "plot_acc(train_accuracies, test_accuracies)\n"
   ],
   "outputs": [
    {
     "name": "stdout",
     "output_type": "stream",
     "text": [
      "새롭게 시작~\n",
      "Epoch   1 | Time: 36.07 seconds | Loss: 2.27 | Perplexity: 9.68 | Train Acc: 0.595 | Test Acc: 0.600\n",
      "Epoch   2 | Time: 36.25 seconds | Loss: 1.48 | Perplexity: 4.41 | Train Acc: 0.611 | Test Acc: 0.615\n",
      "Epoch   3 | Time: 35.07 seconds | Loss: 1.32 | Perplexity: 3.73 | Train Acc: 0.619 | Test Acc: 0.620\n",
      "Epoch   4 | Time: 35.33 seconds | Loss: 1.22 | Perplexity: 3.39 | Train Acc: 0.622 | Test Acc: 0.621\n",
      "Epoch   5 | Time: 35.44 seconds | Loss: 1.16 | Perplexity: 3.20 | Train Acc: 0.627 | Test Acc: 0.622\n",
      "Epoch   6 | Time: 35.22 seconds | Loss: 1.13 | Perplexity: 3.08 | Train Acc: 0.628 | Test Acc: 0.610\n",
      "Epoch   7 | Time: 35.48 seconds | Loss: 1.09 | Perplexity: 2.96 | Train Acc: 0.636 | Test Acc: 0.613\n",
      "Epoch   8 | Time: 35.66 seconds | Loss: 1.05 | Perplexity: 2.86 | Train Acc: 0.631 | Test Acc: 0.622\n",
      "Epoch   9 | Time: 34.96 seconds | Loss: 1.01 | Perplexity: 2.76 | Train Acc: 0.641 | Test Acc: 0.612\n",
      "Epoch  10 | Time: 35.14 seconds | Loss: 0.98 | Perplexity: 2.67 | Train Acc: 0.645 | Test Acc: 0.619\n",
      "Epoch  11 | Time: 34.97 seconds | Loss: 0.95 | Perplexity: 2.59 | Train Acc: 0.654 | Test Acc: 0.615\n",
      "Epoch  12 | Time: 35.14 seconds | Loss: 0.93 | Perplexity: 2.52 | Train Acc: 0.655 | Test Acc: 0.614\n",
      "Epoch  13 | Time: 35.06 seconds | Loss: 0.90 | Perplexity: 2.45 | Train Acc: 0.663 | Test Acc: 0.605\n",
      "Epoch  14 | Time: 35.22 seconds | Loss: 0.87 | Perplexity: 2.39 | Train Acc: 0.666 | Test Acc: 0.610\n",
      "Epoch  15 | Time: 35.04 seconds | Loss: 0.84 | Perplexity: 2.32 | Train Acc: 0.675 | Test Acc: 0.594\n",
      "Epoch  16 | Time: 34.94 seconds | Loss: 0.82 | Perplexity: 2.27 | Train Acc: 0.682 | Test Acc: 0.599\n",
      "Epoch  17 | Time: 34.92 seconds | Loss: 0.79 | Perplexity: 2.21 | Train Acc: 0.684 | Test Acc: 0.576\n",
      "Epoch  18 | Time: 35.10 seconds | Loss: 0.77 | Perplexity: 2.16 | Train Acc: 0.692 | Test Acc: 0.600\n",
      "Epoch  19 | Time: 34.96 seconds | Loss: 0.75 | Perplexity: 2.13 | Train Acc: 0.701 | Test Acc: 0.588\n",
      "Epoch  20 | Time: 35.03 seconds | Loss: 0.73 | Perplexity: 2.08 | Train Acc: 0.710 | Test Acc: 0.577\n",
      "Epoch  21 | Time: 35.37 seconds | Loss: 0.70 | Perplexity: 2.01 | Train Acc: 0.716 | Test Acc: 0.590\n",
      "Epoch  22 | Time: 35.13 seconds | Loss: 0.68 | Perplexity: 1.97 | Train Acc: 0.714 | Test Acc: 0.570\n",
      "Epoch  23 | Time: 35.12 seconds | Loss: 0.65 | Perplexity: 1.92 | Train Acc: 0.727 | Test Acc: 0.594\n",
      "Epoch  24 | Time: 34.36 seconds | Loss: 0.63 | Perplexity: 1.88 | Train Acc: 0.736 | Test Acc: 0.583\n",
      "Epoch  25 | Time: 35.24 seconds | Loss: 0.60 | Perplexity: 1.83 | Train Acc: 0.744 | Test Acc: 0.581\n",
      "Epoch  26 | Time: 35.16 seconds | Loss: 0.59 | Perplexity: 1.80 | Train Acc: 0.753 | Test Acc: 0.579\n",
      "Epoch  27 | Time: 35.02 seconds | Loss: 0.57 | Perplexity: 1.76 | Train Acc: 0.761 | Test Acc: 0.563\n",
      "Epoch  28 | Time: 35.72 seconds | Loss: 0.54 | Perplexity: 1.72 | Train Acc: 0.762 | Test Acc: 0.576\n",
      "Epoch  29 | Time: 35.57 seconds | Loss: 0.52 | Perplexity: 1.68 | Train Acc: 0.772 | Test Acc: 0.537\n",
      "Epoch  30 | Time: 35.08 seconds | Loss: 0.50 | Perplexity: 1.65 | Train Acc: 0.780 | Test Acc: 0.566\n",
      "Epoch  31 | Time: 35.13 seconds | Loss: 0.48 | Perplexity: 1.62 | Train Acc: 0.779 | Test Acc: 0.568\n",
      "Epoch  32 | Time: 35.10 seconds | Loss: 0.46 | Perplexity: 1.58 | Train Acc: 0.781 | Test Acc: 0.523\n",
      "Epoch  33 | Time: 35.42 seconds | Loss: 0.45 | Perplexity: 1.56 | Train Acc: 0.794 | Test Acc: 0.547\n",
      "Epoch  34 | Time: 35.01 seconds | Loss: 0.43 | Perplexity: 1.53 | Train Acc: 0.796 | Test Acc: 0.531\n",
      "Epoch  35 | Time: 34.99 seconds | Loss: 0.41 | Perplexity: 1.51 | Train Acc: 0.802 | Test Acc: 0.531\n",
      "Epoch  36 | Time: 35.18 seconds | Loss: 0.40 | Perplexity: 1.49 | Train Acc: 0.802 | Test Acc: 0.557\n",
      "Epoch  37 | Time: 35.17 seconds | Loss: 0.38 | Perplexity: 1.46 | Train Acc: 0.811 | Test Acc: 0.552\n",
      "Epoch  38 | Time: 34.90 seconds | Loss: 0.37 | Perplexity: 1.44 | Train Acc: 0.810 | Test Acc: 0.513\n",
      "Epoch  39 | Time: 34.95 seconds | Loss: 0.35 | Perplexity: 1.42 | Train Acc: 0.817 | Test Acc: 0.542\n",
      "Epoch  40 | Time: 34.92 seconds | Loss: 0.34 | Perplexity: 1.41 | Train Acc: 0.819 | Test Acc: 0.537\n",
      "Epoch  41 | Time: 35.04 seconds | Loss: 0.33 | Perplexity: 1.38 | Train Acc: 0.824 | Test Acc: 0.528\n",
      "Epoch  42 | Time: 35.12 seconds | Loss: 0.31 | Perplexity: 1.37 | Train Acc: 0.818 | Test Acc: 0.559\n",
      "Epoch  43 | Time: 35.06 seconds | Loss: 0.31 | Perplexity: 1.36 | Train Acc: 0.825 | Test Acc: 0.553\n",
      "Epoch  44 | Time: 35.00 seconds | Loss: 0.30 | Perplexity: 1.34 | Train Acc: 0.830 | Test Acc: 0.535\n",
      "Epoch  45 | Time: 35.28 seconds | Loss: 0.29 | Perplexity: 1.34 | Train Acc: 0.830 | Test Acc: 0.520\n",
      "Epoch  46 | Time: 35.19 seconds | Loss: 0.27 | Perplexity: 1.32 | Train Acc: 0.836 | Test Acc: 0.543\n",
      "Epoch  47 | Time: 35.02 seconds | Loss: 0.26 | Perplexity: 1.30 | Train Acc: 0.836 | Test Acc: 0.552\n",
      "Epoch  48 | Time: 34.94 seconds | Loss: 0.26 | Perplexity: 1.29 | Train Acc: 0.837 | Test Acc: 0.524\n",
      "Epoch  49 | Time: 35.13 seconds | Loss: 0.25 | Perplexity: 1.29 | Train Acc: 0.840 | Test Acc: 0.549\n",
      "Epoch  50 | Time: 35.02 seconds | Loss: 0.25 | Perplexity: 1.28 | Train Acc: 0.842 | Test Acc: 0.540\n"
     ]
    },
    {
     "data": {
      "text/plain": [
       "<Figure size 640x480 with 1 Axes>"
      ],
      "image/png": "[encoded data removed]"
     },
     "metadata": {},
     "output_type": "display_data"
    }
   ],
   "execution_count": 176
  }
 ],
 "metadata": {
  "accelerator": "GPU",
  "colab": {
   "gpuType": "T4",
   "provenance": []
  },
  "kernelspec": {
   "display_name": "Python 3 (ipykernel)",
   "language": "python",
   "name": "python3"
  },
  "language_info": {
   "codemirror_mode": {
    "name": "ipython",
    "version": 3
   },
   "file_extension": ".py",
   "mimetype": "text/x-python",
   "name": "python",
   "nbconvert_exporter": "python",
   "pygments_lexer": "ipython3",
   "version": "3.10.14"
  }
 },
 "nbformat": 4,
 "nbformat_minor": 0
}
