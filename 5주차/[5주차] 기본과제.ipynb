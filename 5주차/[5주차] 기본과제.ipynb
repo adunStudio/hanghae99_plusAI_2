{
 "nbformat": 4,
 "nbformat_minor": 0,
 "metadata": {
  "colab": {
   "provenance": []
  },
  "kernelspec": {
   "name": "python3",
   "display_name": "Python 3"
  },
  "language_info": {
   "name": "python"
  }
 },
 "cells": [
  {
   "cell_type": "code",
   "execution_count": null,
   "metadata": {
    "colab": {
     "base_uri": "https://localhost:8080/"
    },
    "id": "TwaANvAGIwl4",
    "outputId": "02c156df-655d-4a3f-cf69-8c4fd3edebd4",
    "pycharm": {
     "is_executing": true
    }
   },
   "outputs": [],
   "source": [
    "!pip install langchain-community langchain-chroma langchain-openai bs4"
   ]
  },
  {
   "cell_type": "code",
   "source": [
    "import bs4\n",
    "from langchain import hub\n",
    "from langchain_chroma import Chroma\n",
    "from langchain_openai import ChatOpenAI\n",
    "from langchain_openai import OpenAIEmbeddings\n",
    "from langchain_community.document_loaders import WebBaseLoader\n",
    "from langchain_text_splitters import RecursiveCharacterTextSplitter\n",
    "from langchain.callbacks import get_openai_callback\n",
    "from dotenv import load_dotenv\n",
    "import os"
   ],
   "metadata": {
    "colab": {
     "base_uri": "https://localhost:8080/"
    },
    "id": "lrlcWNMyI0HQ",
    "outputId": "4f5ba242-e76f-4246-a3f3-7c0d6dc7f7cb"
   },
   "execution_count": 134,
   "outputs": []
  },
  {
   "cell_type": "markdown",
   "source": [
    "# [MY CODE] 환경변수 로드"
   ],
   "metadata": {
    "collapsed": false
   }
  },
  {
   "cell_type": "code",
   "source": [
    "load_dotenv()\n",
    "OPENAI_API_KEY = os.environ['OPENAI_API_KEY']"
   ],
   "metadata": {
    "id": "gdjtGqsgI2Ub"
   },
   "execution_count": 135,
   "outputs": []
  },
  {
   "cell_type": "markdown",
   "source": [
    "# [MY CODE] RAG internet source 설정 및 로드"
   ],
   "metadata": {
    "collapsed": false
   }
  },
  {
   "cell_type": "code",
   "source": [
    "loader = WebBaseLoader(\n",
    "    web_paths=(\"https://spartacodingclub.kr/blog/all-in-challenge_winner\",),\n",
    "    bs_kwargs=dict(\n",
    "        parse_only=bs4.SoupStrainer(\n",
    "            class_=(\"css-18vt64m\")\n",
    "        )\n",
    "    ),\n",
    ")\n",
    "docs = loader.load()\n",
    "print(docs)"
   ],
   "metadata": {
    "id": "qhuzvEYGI4Yq"
   },
   "execution_count": 136,
   "outputs": [
    {
     "name": "stdout",
     "output_type": "stream",
     "text": [
      "[Document(metadata={'source': 'https://spartacodingclub.kr/blog/all-in-challenge_winner'}, page_content=\"스파르타 소식'AII-in 코딩 공모전’ 수상작을 소개합니다조회수  493·6분 분량2024. 9. 3.코딩은 더 이상 개발자만의 영역이 아닙니다. 누구나 아이디어만 있다면 창의적인 서비스를 만들어 세상을 바꿀 수 있습니다. 스파르타코딩클럽에서는 이러한 가능성을 믿고, 누구나 코딩을 통해 자신의 아이디어를 실현하고 실제 문제를 해결하는 경험을 쌓을 수 있도록 다양한 프로그램을 마련하고 있습니다.<All-in> 코딩 공모전은 대학생들이 캠퍼스에서 겪은 불편함과 문제를 자신만의 아이디어로 해결해보는 대회였는데요. 이번 공모전에서 다양한 혁신적인 아이디어와 열정으로 가득한 수많은 프로젝트가 탄생했습니다. 그중 뛰어난 성과를 낸 수상작 6개를 소개합니다.🏆\\xa0대상[Lexi Note] 언어공부 필기 웹 서비스서비스 제작자: 다나와(김다애, 박나경)💡W는 어문학을 전공하는 대학생입니다. 매일 새로운 단어와 문장 구조를 공부하고 있지만, 효율적으로 학습하는 것이 쉽지 않았습니다. 단어의 의미를 찾기 위해 사전을 뒤적이고, 긴 문장을 이해하려고 번역기를 사용하다 보면, 필기 노트는 어느새 뒷전으로 밀려났거든요. 사전, 번역기, 원서, 필기노트를 왔다 갔다 하다 보면 시간이 다 지나가 버리곤 했죠.W와 같이 어문 전공생은 문법, 어휘, 문장 구조 등 다양한 자료를 학습해야 합니다. 여러 자료를 번갈아 학습하다보니 ‘사전-번역기-원서-필기노트’ 왕복으로 학습 효율이 나지 않아 고민인 경우도 많으실 거예요. <Lexi Note>는 단어를 드래그하면 네이버 사전으로 바로 연동 돼 단어의 의미를 찾으며 동시에 필기 할 수 있어요. 이외에도 번역 버튼을 누르면 파파고 번역기가 연동돼 긴 문장도 쉽게 이해할 수 있어요. 언어 학습에 필요한 할일 목록과 스케줄 템플릿을 제공하여 효율적으로 공부할 수 있습니다. 필기, 사전, 번역을 한번에 쉽고 편하게 이용할 수 있죠. 더 이상 시간 낭비 없이 효율적으로 어문학을 공부하며 학습 속도도 눈에 띄게 빨라질 수 있어요. 언어 공부의 복잡함을 단순하게 만들어주는 Lexi Note가 요긴한 학습 도우미가 되었기 때문입니다.사용한 기술 스택 -FE(프론트엔드): React, Tesseract.js, React-Quill, HTML, CSS, JavaScript-BE(백엔드): Java, Spring Boot, MariaDB🎖️\\xa0우수상[우리집 히어로즈] 벌레 퇴치 영웅 매칭 서비스서비스 제작자: 인트(배정연, 한지수)💡C는 이번 학기 처음으로 자취를 시작했습니다. 원래부터 작은 벌레에 민감했던 C. 자취방에서 자주 나타나는 벌레들 때문에 밤잠을 설치길 반복했습니다. 밤마다 벌레를 잡으려고 애쓰던 C는 커뮤니티를 통해 다른 학생들도 같은 문제를 겪고 있다는 것을 알게 되었습니다. 하지만 커뮤니티에서 벌레 퇴치 히어로를 찾기 위해서는 내 개인 정보를 노출해야 한다는 점이 찝찝했죠.이 문제를 해결할 수 있는 방법이 바로 <우리집 히어로즈> 서비스입니다. 대학생 자취생들이 자취방에서 겪는 벌레 문제를 해결하기 위해 개발된 앱이죠. 벌레 퇴치가 필요한 사용자가 앱에 요청을 올리면 벌레 퇴치 히어로 학우와 매칭됩니다. 사용자 신원은 같은 학교 학생으로, 신원이 보장된 안전한 환경에서 이뤄지고 벌레를 퇴치해주는 히어로는 추가 수입을 얻을 수 있는 기회를 가집니다. 실시간 알림 기능을 통해 매칭이 이뤄지면 즉시 알림을 받을 수 있어 빠르게 문제를 해결할 수 있습니다. 벌레를 퇴치한 후 사용자는 서로를 평가할 수 있어요. 더 나은 서비스를 제공하거나 받을 수 있습니다.사용한 기술 스택 -FE(프론트엔드): React Native, Expo, Axios-BE(백엔드): Spring Boot, Spring Security, MySQL, SSE, FCM, JWT, Postman🎖️\\xa0우수상[에코 클래스룸] 수업 실시간 소통 서비스서비스 제작자: This is 스파게티!!!(박지성, 김서원, 박범수)💡K교수는 항상 수업이 끝난 후 난이도가 적절했는지 궁금했습니다. “질문 있나요?”라는 말이 수업의 마무리였지만, 대부분의 학생은 답이 없었죠. 그저 고개를 끄덕이는 몇몇 학생들만 보일 뿐, 정말 이해한 것인지, 질문할 용기가 없는 것인지 알 수 없었습니다. 이때문에 학생들이 수업 내용을 제대로 이해하고 있는지 확인하기 어려웠습니다. 어느 날 강의가 끝나고 몇몇 학생들이 몰려와 어렵다고, 다시 설명해 달라고 요청했습니다. 그제야 K교수는 알게 되었어요. 학생들이 이해하지 못하고 있었지만, 질문을 하지 않았던 것이었습니다.다른 학생들의 시선이 부담스러워서, 나만 모르는 거라고 생각해서 질문하지 않는 학생들을 위해 만들어진 서비스가 바로 <에코 클래스룸>입니다. 교수와 학생 간의 소통을 혁신적으로 바꾸기 위해 만들어졌어요. 학생들이 굳이 손을 들고 질문하지 않아도, 에코 클래스룸을 통해 자신의 의견을 표현할 수 있습니다. 익명으로 수업 중 자신의 의견이나 질문을 쉽게 제출할 수 있어 교수님은 실시간으로 학생들의 이해도를 파악할 수 있습니다. 수업 중 또는 후에 교수자가 수업에 대한 피드백을 받을 수 있는 평가 기능과 학생의 이해도를 테스트 할 수 있는 퀴즈 생성 기능이 있어 필요한 경우 수업 속도를 조절하고 추가 설명을 할 수 있어요.사용한 기술 스택 -FE(프론트엔드): Flutter, Socket.IO, Expo CLI, Axios, TanStack Query-BE(백엔드): Spring Boot, Spring Security, JWT, MySQL, Spring WebSocket, AWS🏅\\xa0입선[Crewing] 연합동아리 정보 플랫폼서비스 제작자: 동학대학운동(김민아, 임경진, 신은혜, 고수)💡신입생인 S는 대학 생활을 알차게 보내고 싶어서 연합 동아리에 가입하려고 했지만 어떤 동아리가 자신에게 맞을지 고민이 많았습니다. 인터넷에 검색해보니 연합 동아리 후기는 대부분 여기저기 흩어져 있고, 신뢰할 만한 정보를 찾기 어려웠습니다.<Crewing>은 대학생들이 다양한 연합 동아리에 쉽게 가입하고, 적절한 동아리를 찾을 수 있도록 지원해주는 아카이빙 플랫폼입니다. 회원가입 시 생년, 성별, 관심 분야를 입력하자 딱 맞는 동아리를 추천해주죠. 플랫폼 내에서 동아리의 리크루팅 과정인 서류 전형, 인터뷰 일정, 최종 결과 발표 등을 한 번에 해결할 수 있어요. 실제 동아리에 가입한 사람들의 솔직한 후기를 제공해주기 때문에 보다 정확한 정보를 얻을 수 있어요. Crewing은 신뢰할 수 있는 정보와 솔직한 후기를 제공해주기 때문에 효율적으로 내게 꼭 맞는 동아리를 선택할 수 있습니다.사용한 기술 스택 -FE(프론트엔드): Spring Boot, Redis, MySQL-BE(백엔드): SwiftUI Framework, OAuth 2.0🏅\\xa0입선[학교생활 매니저] 학교생활 관리 서비스서비스 제작자: 아이칼F4(조민제, 이민기, 강건, 박근우)💡A는 올해 복학한 3학년 학생입니다. 강의실과 도서관을 오가며 바쁜 일정을 소화하느라 정신이 없지만, 수업마다 나오는 과제와 각종 활동, 시험 준비까지 겹치면서 혼란에 빠지기 일쑤였습니다. 복학생이다 보니 학교에서 전달되는 공지사항도 제대로 전달받지 못해 항상 중요한 정보를 놓칠까 봐 걱정이었죠.<학교생활 매니저> 서비스는 학교 생활을 효율적으로 관리할 수 있도록 돕기 위해 개발된 관리 앱입니다. 일정과 과제 관리, 성적 예측, 학점 계산 등 캠퍼스 생활과 관련된 다양한 기능을 한 곳에서 관리할 수 있어요. ‘캘린더 기능’을 통해 학교 학사 일정과 개인 일정을 한눈에 확인할 수 있고, 날짜마다 해야 할 일을 To-Do List에 추가해 두면 중요한 과제나 시험 일정이 다가올 때마다 알림을 받아 놓치는 일이 없습니다. ‘공지사항 기능’을 통해 실시간으로 업데이트되는 학교 공지를 한 곳에서 확인할 수 있습니다. ‘시간표 기능’은 수업시간, 강의실, 교수님 정보 등을 한눈에 볼 수 있어 출결 관리도 확실하게 할 수 있어요.앱 내의 학점 계산기를 사용하면 성적이 그래프로 시각화되어 변화를 쉽게 파악할 수 있고, 앞으로의 성적 목표를 세우는 데에도 큰 도움이 됩니다. 예상 학점 기능을 통해 과목별 예상 등수와 학점을 미리 계산해 보며 학습 계획도 조정할 수 있어요. <학교생활 매니저>앱을 사용하면 체계적으로 대학 생활을 관리하고, 남은 학업과 일정을 효율적으로 관리할 수 있습니다.사용한 기술 스택 -FE(프론트엔드): Flutter-BE(백엔드): Firebase🏅\\xa0입선[BLOTIE] 교내 외국인X내국인 매칭 및 교류 플랫폼서비스 제작자: 블로티(이은주, 한명수, 황준영)💡F는 T대학에 교환학생으로 온 외국인입니다. K팝 문화가 좋아 한국에 왔지만, 말도 잘 통하지 않고 문화 차이도 있어서 한국 캠퍼스 생활이 쉽지만은 않은데요. 한국어로 수업을 듣고 한국 친구도 사귀고 싶지만 한국 대학의 학사 일정과 과제 등 여러 시스템이 달라서 적응하기 어려웠습니다. 한국어가 서툴다보니 수업에서 제공되는 다양한 정보를 이해하기 어려웠고, 중요한 공지사항을 놓치기도 했습니다. 한국인 친구를 먼저 사귀는 것이 급선무라고 생각했죠.<BLOTIE>는 외국인 학생이 가진 이런 문제를 해결하고, 보다 친밀하고 자유로운 글로벌 캠퍼스 문화를 조성하기 위해 만들어진 플랫폼입니다. ‘1:1 매칭 기능’으로 교내 외국인 학생과 한국인 학생을 쉽게 연결할 수 있어요. 서로의 문화와 언어를 자연스럽게 배우고 교류할 수 있습니다. 관심사, 언어 능력, 성격 등을 기반으로 이뤄지기 때문에 일회성 매칭에 대한 걱정도 줄어들어요. 매칭된 학생들은 플랫폼 내에서 ‘실시간 채팅과 피드 기능’으로 자유롭게 소통할 수 있고, 다양한 주제로 만남을 이어갈 수 있습니다.외국인은 한국어 실력을 향상할 수 있고 한국인은 외국어를 실생활에서 연습할 기회를 얻을 수 있어요. BLOTIE를 통해 캠퍼스 내에 보다 다양한 문화가 공존하고, 학생들 간의 유대감이 강화되고, 서로 다른 배경을 가진 학생들이 함께 성장할 수 있는 환경이 조성됩니다. 글로벌 사회에서 중요한 소통 능력을 기를 수 있는 문화의 장으로 쓰일 수 있겠죠!사용한 기술 스택-FE(프론트엔드): Spring Boot, MySQL, Spring WebSocket-BE(백엔드): React Native, TanStack Query, Axios코딩 공모전 수상작은 대학생들의 팀프로젝트를 통해 만들어진 웹/앱 서비스입니다. 캠퍼스에서의 문제를 해결하자는 참가자들의 아이디어에서 시작되었죠. 누구나 세상에 선보이고 싶은 나만의 아이디어와 기초 코딩 기술만 활용한다면, 얼마든지 서비스를 만들 수 있습니다. 스파르타코딩클럽의 내일배움캠프에서는 비전공, 초보자도 웹/앱 개발자로 거듭날 수 있는 다양한 트랙이 준비돼 있습니다. 나만의 아이디어를 세상에 선보이고 싶은 누구나에게 열려 있으니 주저말고 도전해 보세요.💡<All-in> 코딩 공모전에서 만든 다양한 서비스를 만나보고 싶다면?다양한 서비스와 기발한 아이디어가 모인 곳에 초대합니다. 참가자들의 문제 해결방법이 궁금하시다면 지금 바로 ‘All-in 공모전’에서 만나보세요!👉🏻\\xa0공모전 결과물 보러가기누구나 큰일 낼 수 있어스파르타코딩클럽글 | 신수지 팀스파르타 에디터- 해당 콘텐츠는 저작권법에 의해 보호받는 저작물로 스파르타코딩클럽에 저작권이 있습니다.- 해당 콘텐츠는 사전 동의 없이 2차 가공 및 영리적인 이용을 금하고 있습니다.내용이 유익하셨다면? 공유하기\")]\n"
     ]
    }
   ]
  },
  {
   "cell_type": "markdown",
   "source": [
    "# [MY CODE] 스플리터"
   ],
   "metadata": {
    "collapsed": false
   }
  },
  {
   "cell_type": "code",
   "source": [
    "text_splitter = RecursiveCharacterTextSplitter(\n",
    "    chunk_size=2000,\n",
    "    chunk_overlap=200\n",
    ")\n",
    "\n",
    "splits = text_splitter.split_documents(docs)\n",
    "\n",
    "# 문서 개수\n",
    "print(len(splits))\n",
    "\n",
    "# 전체 청크의 길이\n",
    "total_chunk_size = sum(len(chunk.page_content) for chunk in splits)\n",
    "print(f\"전체 청크 사이즈: {total_chunk_size}\")"
   ],
   "metadata": {
    "id": "ewqNBMS_I7zB"
   },
   "execution_count": 137,
   "outputs": [
    {
     "name": "stdout",
     "output_type": "stream",
     "text": [
      "3\n",
      "전체 청크 사이즈: 5966\n"
     ]
    }
   ]
  },
  {
   "cell_type": "markdown",
   "source": [
    "# [MY CODE] 임베딩 & 벡터 DB 저장"
   ],
   "metadata": {
    "collapsed": false
   }
  },
  {
   "cell_type": "code",
   "execution_count": 138,
   "outputs": [],
   "source": [
    "vectorstore = Chroma.from_documents(\n",
    "    documents=splits,\n",
    "    embedding=OpenAIEmbeddings(api_key=OPENAI_API_KEY)\n",
    ")"
   ],
   "metadata": {
    "collapsed": false
   }
  },
  {
   "cell_type": "markdown",
   "source": [
    "# [MY CODE] LLM 모델"
   ],
   "metadata": {
    "collapsed": false
   }
  },
  {
   "cell_type": "code",
   "execution_count": 139,
   "outputs": [],
   "source": [
    "llm = ChatOpenAI(model=\"gpt-4o-mini\", api_key=OPENAI_API_KEY)"
   ],
   "metadata": {
    "collapsed": false
   }
  },
  {
   "cell_type": "markdown",
   "source": [
    "# [MY CODE] 프롬프트 & 검색(Retrieval)"
   ],
   "metadata": {
    "collapsed": false
   }
  },
  {
   "cell_type": "code",
   "source": [
    "# 벡터스토어를 검색할 수 있는 리트리버 객체로 변환\n",
    "retriever = vectorstore.as_retriever()\n",
    "\n",
    "user_msg = \"ALL-in 코딩 공모전 수상작들을 요약해줘.\"\n",
    "\n",
    "# 리트리버를 사용하여 사용자 메시지와 관련된 문서 검색\n",
    "retrieved_docs = retriever.invoke(user_msg)\n",
    "\n",
    "def format_docs(docs):\n",
    "    # 각 문서의 내용을 연결하여 하나의 텍스트로 반환\n",
    "    return \"\\n\\n\".join(doc.page_content for doc in docs)\n",
    "\n",
    "prompt = hub.pull(\"rlm/rag-prompt\")\n",
    "\n",
    "user_prompt = prompt.invoke({\"context\": format_docs(retrieved_docs), \"question\": user_msg})\n",
    "#print(user_prompt)\n",
    "\n",
    "\n",
    "print(\"\\n### 출처 문서 ###\")\n",
    "print(f'문서 개수: {len(retrieved_docs)}')\n",
    "for doc in retrieved_docs:\n",
    "    print(f\"출처: {doc.metadata.get('source', 'N/A')}\")\n",
    "    print(f\"내용: {doc.page_content[:200]}\")  # 문서 내용 일부 출력"
   ],
   "metadata": {
    "colab": {
     "base_uri": "https://localhost:8080/"
    },
    "id": "dKwUiRrPJMq1",
    "outputId": "2ba93b50-3965-4865-c232-3c4ad39fad7b"
   },
   "execution_count": 140,
   "outputs": [
    {
     "name": "stderr",
     "output_type": "stream",
     "text": [
      "/opt/miniconda3/envs/hanghae99/lib/python3.10/site-packages/langsmith/client.py:256: LangSmithMissingAPIKeyWarning: API key must be provided when using hosted LangSmith API\n",
      "  warnings.warn(\n"
     ]
    },
    {
     "name": "stdout",
     "output_type": "stream",
     "text": [
      "\n",
      "### 출처 문서 ###\n",
      "문서 개수: 4\n",
      "출처: https://spartacodingclub.kr/blog/all-in-challenge_winner\n",
      "내용: 스파르타 소식'AII-in 코딩 공모전’ 수상작을 소개합니다조회수  493·6분 분량2024. 9. 3.코딩은 더 이상 개발자만의 영역이 아닙니다. 누구나 아이디어만 있다면 창의적인 서비스를 만들어 세상을 바꿀 수 있습니다. 스파르타코딩클럽에서는 이러한 가능성을 믿고, 누구나 코딩을 통해 자신의 아이디어를 실현하고 실제 문제를 해결하는 경험을 쌓을 수 있도\n",
      "출처: https://spartacodingclub.kr/blog/all-in-challenge_winner\n",
      "내용: 스파르타 소식'AII-in 코딩 공모전’ 수상작을 소개합니다조회수  493·6분 분량2024. 9. 3.코딩은 더 이상 개발자만의 영역이 아닙니다. 누구나 아이디어만 있다면 창의적인 서비스를 만들어 세상을 바꿀 수 있습니다. 스파르타코딩클럽에서는 이러한 가능성을 믿고, 누구나 코딩을 통해 자신의 아이디어를 실현하고 실제 문제를 해결하는 경험을 쌓을 수 있도\n",
      "출처: https://spartacodingclub.kr/blog/all-in-challenge_winner\n",
      "내용: 스파르타 소식'AII-in 코딩 공모전’ 수상작을 소개합니다조회수  493·6분 분량2024. 9. 3.코딩은 더 이상 개발자만의 영역이 아닙니다. 누구나 아이디어만 있다면 창의적인 서비스를 만들어 세상을 바꿀 수 있습니다. 스파르타코딩클럽에서는 이러한 가능성을 믿고, 누구나 코딩을 통해 자신의 아이디어를 실현하고 실제 문제를 해결하는 경험을 쌓을 수 있도\n",
      "출처: https://spartacodingclub.kr/blog/all-in-challenge_winner\n",
      "내용: 스파르타 소식'AII-in 코딩 공모전’ 수상작을 소개합니다조회수  493·6분 분량2024. 9. 3.코딩은 더 이상 개발자만의 영역이 아닙니다. 누구나 아이디어만 있다면 창의적인 서비스를 만들어 세상을 바꿀 수 있습니다. 스파르타코딩클럽에서는 이러한 가능성을 믿고, 누구나 코딩을 통해 자신의 아이디어를 실현하고 실제 문제를 해결하는 경험을 쌓을 수 있도\n"
     ]
    }
   ]
  },
  {
   "cell_type": "markdown",
   "source": [
    "# [MY CODE] 질문 & 응답 & 토큰 수 확인"
   ],
   "metadata": {
    "collapsed": false
   }
  },
  {
   "cell_type": "code",
   "source": [
    "# OpenAI API 호출과 토큰 추적\n",
    "with get_openai_callback() as callback:\n",
    "    response = llm.invoke(user_prompt)\n",
    "\n",
    "    # 토큰 관련 정보 출력\n",
    "    print(f\"입력 토큰 수: {callback.prompt_tokens}\")\n",
    "    print(f\"응답 토큰 수: {callback.completion_tokens}\")\n",
    "    print(f\"총 토큰 수: {callback.total_tokens}\")\n",
    "    print(f\"총 비용: ${callback.total_cost}\")"
   ],
   "metadata": {
    "colab": {
     "base_uri": "https://localhost:8080/"
    },
    "id": "bqHKsIyUJc_m",
    "outputId": "1a3a5c10-0855-4fd4-850e-77e9a3a6d9d0"
   },
   "execution_count": 141,
   "outputs": [
    {
     "name": "stdout",
     "output_type": "stream",
     "text": [
      "입력 토큰 수: 10450\n",
      "응답 토큰 수: 110\n",
      "총 토큰 수: 10560\n",
      "총 비용: $0.0008654999999999998\n"
     ]
    }
   ]
  },
  {
   "cell_type": "code",
   "execution_count": 142,
   "outputs": [
    {
     "name": "stdout",
     "output_type": "stream",
     "text": [
      "이번 'All-in 코딩 공모전'에서는 다양한 캠퍼스 문제를 해결하기 위한 혁신적인 프로젝트들이 발표되었습니다. 수상작 중 'Lexi Note'는 언어 학습을 효율적으로 도와주는 필기 웹 서비스이며, '우리집 히어로즈'는 벌레 퇴치를 위한 학생들 간의 매칭 서비스입니다. 또한 '에코 클래스룸'은 교수와 학생 간의 실시간 소통을 지원하여 학습 이해도를 높이는 서비스를 제공합니다.\n"
     ]
    }
   ],
   "source": [
    "print(response.content)"
   ],
   "metadata": {
    "collapsed": false
   }
  },
  {
   "cell_type": "markdown",
   "source": [
    "# [MY CODE] RetrievalQA 사용"
   ],
   "metadata": {
    "collapsed": false
   }
  },
  {
   "cell_type": "code",
   "execution_count": 143,
   "outputs": [],
   "source": [
    "from langchain.chains import RetrievalQA\n",
    "\n",
    "qa_chain = RetrievalQA.from_chain_type(\n",
    "    llm=llm,                # 언어 모델\n",
    "    chain_type=\"stuff\",     # 검색된 모든 문서를 합쳐 전달 (\"stuff\" 방식)\n",
    "    retriever=retriever,    # 벡터 스토어 리트리버\n",
    "    return_source_documents=True  # 답변에 사용된 문서 출처 반환\n",
    ")"
   ],
   "metadata": {
    "collapsed": false
   }
  },
  {
   "cell_type": "code",
   "execution_count": 144,
   "outputs": [
    {
     "name": "stdout",
     "output_type": "stream",
     "text": [
      "입력 토큰 수: 10437\n",
      "응답 토큰 수: 480\n",
      "총 토큰 수: 10917\n",
      "총 비용: $0.0010855499999999998\n"
     ]
    }
   ],
   "source": [
    "# OpenAI API 호출과 토큰 추적\n",
    "with get_openai_callback() as callback:\n",
    "    response = qa_chain.invoke({\"query\": user_msg})\n",
    "\n",
    "    # 토큰 관련 정보 출력\n",
    "    print(f\"입력 토큰 수: {callback.prompt_tokens}\")\n",
    "    print(f\"응답 토큰 수: {callback.completion_tokens}\")\n",
    "    print(f\"총 토큰 수: {callback.total_tokens}\")\n",
    "    print(f\"총 비용: ${callback.total_cost}\")"
   ],
   "metadata": {
    "collapsed": false
   }
  },
  {
   "cell_type": "code",
   "execution_count": 145,
   "outputs": [
    {
     "name": "stdout",
     "output_type": "stream",
     "text": [
      "\n",
      "### 출처 문서 ###\n",
      "문서 개수: 4\n",
      "출처: https://spartacodingclub.kr/blog/all-in-challenge_winner\n",
      "내용: 스파르타 소식'AII-in 코딩 공모전’ 수상작을 소개합니다조회수  493·6분 분량2024. 9. 3.코딩은 더 이상 개발자만의 영역이 아닙니다. 누구나 아이디어만 있다면 창의적인 서비스를 만들어 세상을 바꿀 수 있습니다. 스파르타코딩클럽에서는 이러한 가능성을 믿고, 누구나 코딩을 통해 자신의 아이디어를 실현하고 실제 문제를 해결하는 경험을 쌓을 수 있도\n",
      "출처: https://spartacodingclub.kr/blog/all-in-challenge_winner\n",
      "내용: 스파르타 소식'AII-in 코딩 공모전’ 수상작을 소개합니다조회수  493·6분 분량2024. 9. 3.코딩은 더 이상 개발자만의 영역이 아닙니다. 누구나 아이디어만 있다면 창의적인 서비스를 만들어 세상을 바꿀 수 있습니다. 스파르타코딩클럽에서는 이러한 가능성을 믿고, 누구나 코딩을 통해 자신의 아이디어를 실현하고 실제 문제를 해결하는 경험을 쌓을 수 있도\n",
      "출처: https://spartacodingclub.kr/blog/all-in-challenge_winner\n",
      "내용: 스파르타 소식'AII-in 코딩 공모전’ 수상작을 소개합니다조회수  493·6분 분량2024. 9. 3.코딩은 더 이상 개발자만의 영역이 아닙니다. 누구나 아이디어만 있다면 창의적인 서비스를 만들어 세상을 바꿀 수 있습니다. 스파르타코딩클럽에서는 이러한 가능성을 믿고, 누구나 코딩을 통해 자신의 아이디어를 실현하고 실제 문제를 해결하는 경험을 쌓을 수 있도\n",
      "출처: https://spartacodingclub.kr/blog/all-in-challenge_winner\n",
      "내용: 스파르타 소식'AII-in 코딩 공모전’ 수상작을 소개합니다조회수  493·6분 분량2024. 9. 3.코딩은 더 이상 개발자만의 영역이 아닙니다. 누구나 아이디어만 있다면 창의적인 서비스를 만들어 세상을 바꿀 수 있습니다. 스파르타코딩클럽에서는 이러한 가능성을 믿고, 누구나 코딩을 통해 자신의 아이디어를 실현하고 실제 문제를 해결하는 경험을 쌓을 수 있도\n"
     ]
    }
   ],
   "source": [
    "print(\"\\n### 출처 문서 ###\")\n",
    "print(f'문서 개수: {len(response[\"source_documents\"])}')\n",
    "for doc in response[\"source_documents\"]:\n",
    "    print(f\"출처: {doc.metadata.get('source', 'N/A')}\")\n",
    "    print(f\"내용: {doc.page_content[:200]}\")  # 문서 내용 일부 출력"
   ],
   "metadata": {
    "collapsed": false
   }
  },
  {
   "cell_type": "code",
   "execution_count": 146,
   "outputs": [
    {
     "name": "stdout",
     "output_type": "stream",
     "text": [
      "ALL-in 코딩 공모전에서 수상한 작품들은 다음과 같습니다:\n",
      "\n",
      "1. **대상: [Lexi Note]** - 언어공부 필기 웹 서비스로, 단어를 드래그하면 네이버 사전과 연동되어 바로 의미를 찾고 필기를 할 수 있습니다. 또한, 파파고 번역기를 통해 긴 문장을 쉽게 이해할 수 있으며, 할일 목록과 스케줄 템플릿도 제공합니다. 사용 기술: React, Tesseract.js 등.\n",
      "\n",
      "2. **우수상: [우리집 히어로즈]** - 대학생 자취생들을 위한 벌레 퇴치 영웅 매칭 서비스로, 벌레 문제를 해결하고자 하는 사용자가 요청을 올리면 같은 학교 학생과 매칭됩니다. 사용자 신원 보호 기능이 있습니다. 사용 기술: React Native, Spring Boot 등.\n",
      "\n",
      "3. **우수상: [에코 클래스룸]** - 수업 중 학생들이 익명으로 의견이나 질문을 제출할 수 있는 실시간 소통 서비스입니다. 교수는 학생들의 이해도를 실시간으로 파악하고 피드백을 받을 수 있습니다. 사용 기술: Flutter, Spring Boot 등.\n",
      "\n",
      "4. **입선: [Crewing]** - 대학생들이 연합 동아리를 쉽게 찾고 가입할 수 있도록 지원하는 정보 플랫폼입니다. 회원가입 시 개인 정보를 기반으로 적절한 동아리를 추천합니다. 사용 기술: Spring Boot, SwiftUI 등.\n",
      "\n",
      "5. **입선: [학교생활 매니저]** - 대학 생활 관리 앱으로, 일정 및 과제 관리, 성적 예측 등의 기능을 제공합니다. 공지사항 확인 및 학점 계산기 기능도 포함되어 있습니다. 사용 기술: Flutter, Firebase 등.\n",
      "\n",
      "6. **입선: [BLOTIE]** - 외국인 학생과 한국인 학생을 매칭하여 서로의 문화와 언어를 배우고 교류할 수 있는 플랫폼입니다. 관심사 및 언어 능력을 기반으로 매칭되며, 실시간 채팅 기능을 제공합니다. 사용 기술: React Native, Spring Boot 등.\n",
      "\n",
      "이 작품들은 대학생들이 캠퍼스에서 겪는 다양한 문제를 해결하고자 하는 아이디어에서 출발하여 개발된 서비스들입니다.\n"
     ]
    }
   ],
   "source": [
    "print(response[\"result\"])"
   ],
   "metadata": {
    "collapsed": false
   }
  },
  {
   "cell_type": "markdown",
   "source": [
    "# rlm/rag-prompt VS Retriever\n",
    "\n",
    "dfault 파라미터 에서는 검색에 큰 차이가 없음 오직 차이나는건 prompt\n",
    "- rlm/rag-prompt : https://smith.langchain.com/hub/rlm/rag-prompt\n",
    "- RetrieverQA : https://python.langchain.com/api_reference/langchain/chains/langchain.chains.retrieval_qa.base.RetrievalQA.html\n",
    "\n",
    "rlm/rag-prompt 프롬프트는 '최대 3개의 문장을 사용하고 답변을 간결하게 유지하세요.'라고 명시돼있다.\n",
    "RetrieverQA는 마이그레이션 문서를 보면 system 역할을 사용하고 있는걸 알 수 있다. 실제로 프롬프트를 디버깅해보면 system에 담겨있다.\n",
    "\n",
    "최대 3개의 문장을 사용하라고 했지만 질문을 하다보면 중요도에 따라 그 이상 주기도 한다.\n",
    "\n",
    "![prompt_compare](./prompt_compare.png)"
   ],
   "metadata": {
    "collapsed": false
   }
  },
  {
   "cell_type": "markdown",
   "source": [],
   "metadata": {
    "collapsed": false
   }
  },
  {
   "cell_type": "markdown",
   "source": [
    "# [MY CODE] RetrieverQA의 시스템 프롬프트 이용\n",
    "\n",
    "RetrieverQA은 0.1버전의 레거시이므로 마이그레이션 문서에 나와있는 RetrieverQA의 프롬프트를 직접 사용해보자.\n",
    "(stuff, retriever 체인 사용)\n",
    "(결과가 같다.)"
   ],
   "metadata": {
    "collapsed": false
   }
  },
  {
   "cell_type": "code",
   "execution_count": 199,
   "outputs": [
    {
     "name": "stdout",
     "output_type": "stream",
     "text": [
      "‘All-in 코딩 공모전’의 수상작은 다음과 같습니다:\n",
      "\n",
      "1. **대상: Lexi Note** - 언어 공부를 위한 필기 웹 서비스로, 단어를 드래그하면 네이버 사전과 연동되고, 번역 버튼을 통해 번역기와 연동되어 학습 효율성을 높입니다.\n",
      "\n",
      "2. **우수상: 우리집 히어로즈** - 대학생 자취생들을 위한 벌레 퇴치 서비스로, 사용자와 퇴치 히어로를 매칭하여 안전하게 문제를 해결할 수 있도록 지원합니다.\n",
      "\n",
      "3. **우수상: 에코 클래스룸** - 교수와 학생 간의 실시간 소통을 위한 플랫폼으로, 익명으로 질문을 제출하고 이해도를 파악할 수 있는 기능을 제공합니다.\n",
      "\n",
      "4. **입선: Crewing** - 연합 동아리 정보를 제공하는 플랫폼으로, 개인의 관심사에 맞는 동아리를 추천하고 가입 과정을 지원합니다.\n",
      "\n",
      "5. **입선: 학교생활 매니저** - 대학생을 위한 관리 앱으로, 일정, 과제 관리 및 성적 예측 기능을 통해 학교 생활을 효율적으로 관리합니다.\n",
      "\n",
      "6. **입선: BLOTIE** - 외국인 학생과 한국인 학생 간의 매칭 및 교류 플랫폼으로, 문화와 언어 교류를 촉진합니다.\n"
     ]
    }
   ],
   "source": [
    "import langchain\n",
    "langchain.debug = False\n",
    "\n",
    "from langchain.chains import create_retrieval_chain\n",
    "from langchain.chains.combine_documents import create_stuff_documents_chain\n",
    "from langchain_core.prompts import ChatPromptTemplate\n",
    "\n",
    "#\n",
    "system_prompt = (\n",
    "    \"Use the given context to answer the question. \"\n",
    "    \"If you don't know the answer, say you don't know. \"\n",
    "    \"Use three sentence maximum and keep the answer concise. \"\n",
    "    \"Context: {context}\"\n",
    ")\n",
    "prompt = ChatPromptTemplate.from_messages(\n",
    "    [\n",
    "        (\"system\", system_prompt),\n",
    "        (\"human\", \"{input}\"),\n",
    "    ]\n",
    ")\n",
    "question_answer_chain = create_stuff_documents_chain(llm, prompt)\n",
    "chain = create_retrieval_chain(retriever, question_answer_chain)\n",
    "\n",
    "response = chain.invoke({\"input\": user_msg})\n",
    "print(response['answer'])"
   ],
   "metadata": {
    "collapsed": false
   }
  },
  {
   "cell_type": "markdown",
   "source": [],
   "metadata": {
    "collapsed": false
   }
  }
 ]
}
