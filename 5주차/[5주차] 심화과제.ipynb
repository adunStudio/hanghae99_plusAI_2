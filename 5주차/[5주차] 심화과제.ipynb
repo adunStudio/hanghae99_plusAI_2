{
 "cells": [
  {
   "cell_type": "code",
   "execution_count": null,
   "outputs": [],
   "source": [
    "!pip install langchain langchain-community langchain langchain-openai langchain-anthropic chromadb gitpython"
   ],
   "metadata": {
    "collapsed": false,
    "pycharm": {
     "is_executing": true
    }
   }
  },
  {
   "cell_type": "markdown",
   "source": [
    "# [4주차] 심화과제: 코드 리뷰 LLM 서비스\n",
    "---"
   ],
   "metadata": {
    "collapsed": false
   }
  },
  {
   "cell_type": "markdown",
   "source": [
    "# [MY CODE] 1. 환경 변수 로드"
   ],
   "metadata": {
    "collapsed": false
   }
  },
  {
   "cell_type": "code",
   "execution_count": 437,
   "outputs": [],
   "source": [
    "from dotenv import load_dotenv\n",
    "import os\n",
    "\n",
    "load_dotenv()\n",
    "\n",
    "class Config:\n",
    "    OPENAI_API_KEY = os.environ['OPENAI_API_KEY']\n",
    "    ANTHROPIC_API_KEY = os.environ['ANTHROPIC_API_KEY']\n",
    "    PINECONE_API_KEY = os.environ['PINECONE_API_KEY']\n",
    "    CHROMA_DB_PATH = os.environ['CHROMA_DB_PATH']"
   ],
   "metadata": {
    "collapsed": false
   }
  },
  {
   "cell_type": "markdown",
   "source": [
    "---\n",
    "# [MY CODE] 2. LLM(OpenAI, Anthropic)"
   ],
   "metadata": {
    "collapsed": false
   }
  },
  {
   "cell_type": "code",
   "execution_count": 438,
   "outputs": [],
   "source": [
    "from langchain_openai import ChatOpenAI\n",
    "from langchain_anthropic import ChatAnthropic\n",
    "\n",
    "openai_llm = ChatOpenAI(model=\"gpt-4o-mini\", api_key=Config.OPENAI_API_KEY, max_tokens=7000)\n",
    "anthropic_llm = ChatAnthropic(model_name=\"claude-3-5-sonnet-20241022\", api_key=Config.ANTHROPIC_API_KEY, max_tokens=7000)"
   ],
   "metadata": {
    "collapsed": false
   }
  },
  {
   "cell_type": "markdown",
   "source": [
    "---\n",
    "# [MY CODE] 3. Embedding(OpenAI)"
   ],
   "metadata": {
    "collapsed": false
   }
  },
  {
   "cell_type": "code",
   "execution_count": 439,
   "outputs": [],
   "source": [
    "from langchain.embeddings import OpenAIEmbeddings\n",
    "\n",
    "embeddings = OpenAIEmbeddings(openai_api_key=Config.OPENAI_API_KEY)"
   ],
   "metadata": {
    "collapsed": false
   }
  },
  {
   "cell_type": "markdown",
   "source": [
    "---\n",
    "# [MY CODE] 4. VectorStore(ChromaDB)"
   ],
   "metadata": {
    "collapsed": false
   }
  },
  {
   "cell_type": "code",
   "execution_count": 440,
   "outputs": [],
   "source": [
    "from langchain.vectorstores import Chroma\n",
    "\n",
    "vector_store = Chroma(persist_directory=Config.CHROMA_DB_PATH, embedding_function=embeddings)"
   ],
   "metadata": {
    "collapsed": false
   }
  },
  {
   "cell_type": "markdown",
   "source": [
    "---\n",
    "# [MY CODE] 5. Github repository -> Store"
   ],
   "metadata": {
    "collapsed": false
   }
  },
  {
   "cell_type": "code",
   "execution_count": 441,
   "outputs": [],
   "source": [
    "from git import Repo\n",
    "import hashlib\n",
    "\n",
    "# GitHub 레포지토리를 로컬로 클론\n",
    "def clone_github_repo(repo_url, local_path):\n",
    "    if os.path.exists(local_path):\n",
    "        print(\"로컬에 이미 레포지토리가 존재합니다. 변경 사항을 pull합니다.\")\n",
    "        repo = Repo(local_path)\n",
    "        repo.remotes.origin.pull()\n",
    "    else:\n",
    "        print(f\"Cloning {repo_url} into {local_path}...\")\n",
    "        Repo.clone_from(repo_url, local_path)\n",
    "    print(\"레포지토리 클론 또는 업데이트 완료!\")\n",
    "\n",
    "# 레포지토리 내 Python 파일 경로를 찾기\n",
    "def find_python_files(repo_path):\n",
    "    python_files = []\n",
    "    for root, _, files in os.walk(repo_path):\n",
    "        for file in files:\n",
    "            if file.endswith(\".py\"):\n",
    "                python_files.append(os.path.join(root, file))\n",
    "    return python_files\n",
    "\n",
    "# 파일의 해시값(SHA256)을 계산\n",
    "def calculate_file_hash(file_path):\n",
    "    sha256 = hashlib.sha256()\n",
    "    with open(file_path, \"rb\") as f:\n",
    "        while chunk := f.read(8192):\n",
    "            sha256.update(chunk)\n",
    "    return sha256.hexdigest()\n",
    "\n",
    "# 파일이 업데이트되었는지 확인\n",
    "def is_file_updated(file_path, vector_store):\n",
    "    file_hash = calculate_file_hash(file_path)\n",
    "    # Chroma에서 해당 파일의 메타데이터 검색\n",
    "    results = vector_store.similarity_search(file_path, k=1, filter={\"file_path\": file_path})\n",
    "    if results:\n",
    "        # 저장된 해시값과 비교\n",
    "        return results[0].metadata.get(\"file_hash\") != file_hash\n",
    "    return True\n",
    "\n",
    "# Python 파일을 읽어 벡터화하고 Chroma DB에 저장\n",
    "def store_python_files_in_chroma(file_paths, vector_store):\n",
    "    for file_path in file_paths:\n",
    "        try:\n",
    "            if not is_file_updated(file_path, vector_store):\n",
    "                print(f\"파일이 변경되지 않았습니다. 건너뜁니다: {file_path}\")\n",
    "                continue\n",
    "\n",
    "            with open(file_path, \"r\", encoding=\"utf-8\") as file:\n",
    "                code_content = file.read()\n",
    "\n",
    "            # 파일 메타데이터 생성\n",
    "            metadata = {\n",
    "                \"file_path\": file_path,\n",
    "                \"file_hash\": calculate_file_hash(file_path)\n",
    "            }\n",
    "\n",
    "            # 벡터 스토어에 추가\n",
    "            vector_store.add_texts([code_content], metadatas=[metadata])\n",
    "            print(f\"{file_path} 저장 완료!\")\n",
    "        except Exception as e:\n",
    "            print(f\"파일 처리 중 오류 발생: {file_path}, 오류: {e}\")\n",
    "    vector_store.persist()\n",
    "    print(\"Chroma DB에 모든 파일 저장 완료!\")\n",
    "\n",
    "# Chroma DB에 저장된 모든 코드 파일의 메타데이터와 내용을 출력합니다.\n",
    "def list_all_files_with_content(vector_store):\n",
    "    try:\n",
    "        results = vector_store.get(include=[\"metadatas\", \"documents\"])\n",
    "\n",
    "        print(\"저장된 코드 파일과 내용:\")\n",
    "        for i, (metadata, document) in enumerate(zip(results[\"metadatas\"], results[\"documents\"]), 1):\n",
    "            file_path = metadata.get(\"file_path\", \"Unknown\")\n",
    "            print(f\"{i}. 파일 경로: {file_path}\")\n",
    "            print(\"내용:\")\n",
    "            print(document[:300])  # 첫 300자만 출력\n",
    "            print(\"-\" * 50)\n",
    "    except Exception as e:\n",
    "        print(f\"전체 파일 목록 및 내용 출력 중 오류 발생: {e}\")\n",
    "\n",
    "# 파일명을 기준으로 Chroma DB에서 내용을 검색하고 반환.\n",
    "def search_by_filename(file_name, vector_store):\n",
    "    try:\n",
    "        # Chroma DB의 모든 데이터를 가져옵니다.\n",
    "        results = vector_store.get(include=[\"metadatas\", \"documents\"])\n",
    "\n",
    "        matching_files = []\n",
    "        for metadata, document in zip(results[\"metadatas\"], results[\"documents\"]):\n",
    "            if file_name in metadata.get(\"file_path\", \"\"):\n",
    "                matching_files.append((metadata, document))\n",
    "\n",
    "        if matching_files:\n",
    "            return matching_files[0][1]\n",
    "        else:\n",
    "            print(f\"파일명 '{file_name}'이(가) DB에 존재하지 않습니다.\")\n",
    "            return None\n",
    "    except Exception as e:\n",
    "        print(f\"파일명으로 검색 중 오류 발생: {e}\")"
   ],
   "metadata": {
    "collapsed": false
   }
  },
  {
   "cell_type": "code",
   "execution_count": 442,
   "outputs": [
    {
     "name": "stdout",
     "output_type": "stream",
     "text": [
      "로컬에 이미 레포지토리가 존재합니다. 변경 사항을 pull합니다.\n",
      "레포지토리 클론 또는 업데이트 완료!\n",
      "찾은 Python 파일 수: 8\n",
      "파일이 변경되지 않았습니다. 건너뜁니다: ./temp_repo/world.py\n",
      "파일이 변경되지 않았습니다. 건너뜁니다: ./temp_repo/cat.py\n",
      "파일이 변경되지 않았습니다. 건너뜁니다: ./temp_repo/text_processor.py\n",
      "파일이 변경되지 않았습니다. 건너뜁니다: ./temp_repo/bird.py\n",
      "파일이 변경되지 않았습니다. 건너뜁니다: ./temp_repo/animal.py\n",
      "파일이 변경되지 않았습니다. 건너뜁니다: ./temp_repo/calculator.py\n",
      "파일이 변경되지 않았습니다. 건너뜁니다: ./temp_repo/dog.py\n",
      "파일이 변경되지 않았습니다. 건너뜁니다: ./temp_repo/main.py\n",
      "Chroma DB에 모든 파일 저장 완료!\n"
     ]
    }
   ],
   "source": [
    "github_repo_url = 'https://github.com/adunStudio/codereviewexample'\n",
    "local_repo_path = \"./temp_repo\"\n",
    "\n",
    "# 1. GitHub 레포지토리 클론 또는 업데이트\n",
    "clone_github_repo(github_repo_url, local_repo_path)\n",
    "\n",
    "# 2. Python 파일 찾기\n",
    "python_files = find_python_files(local_repo_path)\n",
    "print(f\"찾은 Python 파일 수: {len(python_files)}\")\n",
    "\n",
    "# 3. Python 파일을 Chroma DB에 저장\n",
    "store_python_files_in_chroma(python_files, vector_store)\n",
    "\n",
    "#list_all_files_with_content(vector_store)"
   ],
   "metadata": {
    "collapsed": false
   }
  },
  {
   "cell_type": "markdown",
   "source": [
    "---\n",
    "# [MY CODE] 6. Retriever"
   ],
   "metadata": {
    "collapsed": false
   }
  },
  {
   "cell_type": "code",
   "execution_count": 443,
   "outputs": [],
   "source": [
    "retriever = vector_store.as_retriever(search_kwargs={\"k\": 5})"
   ],
   "metadata": {
    "collapsed": false
   }
  },
  {
   "cell_type": "code",
   "execution_count": 444,
   "outputs": [
    {
     "name": "stdout",
     "output_type": "stream",
     "text": [
      "\n",
      "### 출처 코드 ###\n",
      "문서 개수: 5\n",
      "파일: ./temp_repo/cat.py\n",
      "내용: from animal import Animal\n",
      "\n",
      "class Cat(Animal):\n",
      "    def __init__(self, name, age, color):\n",
      "        super().__init__(name, age)\n",
      "        self.color = color\n",
      "        self.sound = \"야옹\"\n",
      "\n",
      "    def scratch(self, \n",
      "-----------------------------------\n",
      "파일: ./temp_repo/dog.py\n",
      "내용: from animal import Animal\n",
      "\n",
      "class Dog(Animal):\n",
      "    def __init__(self, name, age, breed):\n",
      "        super().__init__(name, age)\n",
      "        self.breed = breed\n",
      "        self.sound = \"멍멍\"\n",
      "\n",
      "    def fetch(self, it\n",
      "-----------------------------------\n",
      "파일: ./temp_repo/animal.py\n",
      "내용: class Animal:\n",
      "    def __init__(self, name, age):\n",
      "        self.name = name\n",
      "        self.age = age  \n",
      "        self.sound = None\n",
      "\n",
      "    def make_sound(self):\n",
      "        print(f\"{self.name}이(가) 소리를 냅니다: {self.s\n",
      "-----------------------------------\n",
      "파일: ./temp_repo/bird.py\n",
      "내용: from animal import Animal\n",
      "\n",
      "class Bird(Animal):\n",
      "    def __init__(self, name, age, wing_span):\n",
      "        super().__init__(name, age)\n",
      "        self.wing_span = wing_span\n",
      "        self.sound = \"짹짹\"\n",
      "\n",
      "    def f\n",
      "-----------------------------------\n",
      "파일: ./temp_repo/world.py\n",
      "내용: from dog import Dog\n",
      "from cat import Cat\n",
      "from bird import Bird\n",
      "\n",
      "class World:\n",
      "    def __init__(self):\n",
      "        self.animals = []  # 동물 객체 저장\n",
      "\n",
      "    def add_animal(self, animal):\n",
      "        if isinstance(anima\n",
      "-----------------------------------\n"
     ]
    }
   ],
   "source": [
    "# cat.py 소스코드\n",
    "input_code = search_by_filename('cat.py', vector_store)\n",
    "\n",
    "# cat.py 소스코드와 연관된 코드 검색\n",
    "retrievered_codes = retriever.invoke(input_code)\n",
    "\n",
    "print(\"\\n### 출처 코드 ###\")\n",
    "print(f'문서 개수: {len(retrievered_codes)}')\n",
    "for code in retrievered_codes:\n",
    "    print(f\"파일: {code.metadata.get('file_path', 'N/A')}\")\n",
    "    print(f\"내용: {code.page_content[:200]}\")  # 문서 내용 일부 출력\n",
    "    print('-------' * 5)"
   ],
   "metadata": {
    "collapsed": false
   }
  },
  {
   "cell_type": "markdown",
   "source": [
    "---\n",
    "# [MY CODE] 7. PromptTemplates"
   ],
   "metadata": {
    "collapsed": false
   }
  },
  {
   "cell_type": "code",
   "execution_count": 445,
   "outputs": [],
   "source": [
    "from langchain.prompts import PromptTemplate\n",
    "from langchain.prompts import load_prompt\n",
    "\n",
    "simple_review_prompt = load_prompt('./prompts/simple_review_template.json')\n",
    "\n",
    "input_message = ''\n",
    "\n",
    "for code in retrievered_codes:\n",
    "    input_message += f\"\\n\\n[파일명: {code.metadata.get('file_path', 'N/A')}]\\n\\n\"\n",
    "    input_message += code.page_content\n",
    "\n",
    "#review_prompt = review_template.format(context=input_message)\n",
    "#print(review_prompt)"
   ],
   "metadata": {
    "collapsed": false
   }
  },
  {
   "cell_type": "markdown",
   "source": [
    "---\n",
    "# [MY CODE] 8. TransformChain(Retriever -> PromptTemplate)"
   ],
   "metadata": {
    "collapsed": false
   }
  },
  {
   "cell_type": "code",
   "execution_count": 446,
   "outputs": [],
   "source": [
    "from langchain.chains import TransformChain\n",
    "\n",
    "def create_input_code(inputs):\n",
    "    documents = inputs[\"documents\"]\n",
    "    input_message = \"\"\n",
    "    for doc in documents:\n",
    "        input_message += f\"\\n\\n[파일명: {doc.metadata.get('file_path', 'N/A')}]\\n\\n\"\n",
    "        input_message += doc.page_content\n",
    "    return {\"context\": input_message}\n",
    "\n",
    "code_mapping_chain = TransformChain(\n",
    "    input_variables=[\"documents\"],\n",
    "    output_variables=[\"context\"],\n",
    "    transform=create_input_code\n",
    ")"
   ],
   "metadata": {
    "collapsed": false
   }
  },
  {
   "cell_type": "markdown",
   "source": [
    "# [MY CODE] 9. 출력 파서(PydanticOutputParser)"
   ],
   "metadata": {
    "collapsed": false
   }
  },
  {
   "cell_type": "code",
   "execution_count": 447,
   "outputs": [],
   "source": [
    "from langchain_core.output_parsers import PydanticOutputParser\n",
    "from pydantic import BaseModel, Field\n",
    "from typing import List\n",
    "\n",
    "class Issue(BaseModel):\n",
    "    issue: str = Field(description=\"문제 설명\")\n",
    "    suggestion: str = Field(description=\"원본 코드 첨부 및 해결 방안\")\n",
    "\n",
    "class FileReview(BaseModel):\n",
    "    file_name: str = Field(description=\"파일명\")\n",
    "    issues: List[Issue] = Field(description=\"발견된 문제 목록\")\n",
    "    summary: str = Field(description=\"10문장 이내로 요약한 파일 리뷰\")\n",
    "\n",
    "class MultiFileReview(BaseModel):\n",
    "    reviews: List[FileReview] = Field(description=\"여러 파일의 리뷰 결과\")\n",
    "\n",
    "pydantic_review_output_parser = PydanticOutputParser(pydantic_object=MultiFileReview)\n",
    "\n",
    "simple_review_prompt = simple_review_prompt.partial(output_format=pydantic_review_output_parser.get_format_instructions())"
   ],
   "metadata": {
    "collapsed": false
   }
  },
  {
   "cell_type": "markdown",
   "source": [
    "---\n",
    "# 10. Chain"
   ],
   "metadata": {
    "collapsed": false
   }
  },
  {
   "cell_type": "code",
   "execution_count": 448,
   "outputs": [],
   "source": [
    "openai_chain    = retriever | code_mapping_chain | simple_review_prompt | openai_llm    | pydantic_review_output_parser\n",
    "anthropic_chain = retriever | code_mapping_chain | simple_review_prompt | anthropic_llm | pydantic_review_output_parser\n",
    "\n",
    "# 입력: cat.py 소스코드\n",
    "input_code = search_by_filename('cat.py', vector_store)"
   ],
   "metadata": {
    "collapsed": false
   }
  },
  {
   "cell_type": "markdown",
   "source": [
    "---\n",
    "# 간단 버전\n",
    "## OpenAI 응답 결과"
   ],
   "metadata": {
    "collapsed": false
   }
  },
  {
   "cell_type": "code",
   "execution_count": 449,
   "outputs": [
    {
     "name": "stdout",
     "output_type": "stream",
     "text": [
      "입력 토큰 수: 1224\n",
      "응답 토큰 수: 753\n",
      "총 토큰 수: 1977\n",
      "총 비용: $0.0006353999999999999\n"
     ]
    }
   ],
   "source": [
    "from langchain.callbacks import get_openai_callback\n",
    "\n",
    "with get_openai_callback() as callback:\n",
    "    simple_openai_response = openai_chain.invoke(input_code)\n",
    "\n",
    "    # 토큰 관련 정보 출력\n",
    "    print(f\"입력 토큰 수: {callback.prompt_tokens}\")\n",
    "    print(f\"응답 토큰 수: {callback.completion_tokens}\")\n",
    "    print(f\"총 토큰 수: {callback.total_tokens}\")\n",
    "    print(f\"총 비용: ${callback.total_cost}\")"
   ],
   "metadata": {
    "collapsed": false
   }
  },
  {
   "cell_type": "code",
   "execution_count": 450,
   "outputs": [
    {
     "name": "stdout",
     "output_type": "stream",
     "text": [
      "리뷰 결과:\n",
      "파일명: ./temp_repo/cat.py\n",
      "- 문제: Positional argument is not used correctly in the scratch method.\n",
      "  해결 방안: Replace 'self.item' with 'item' in the print statement: print('{0}이(가) {1}을(를) 긁습니다.'.format(self.name, item))\n",
      "- 문제: 하드코딩된 소리 처리. 확장성이 낮음.\n",
      "  해결 방안: 소리(value)를 생성자에 매개변수로 받거나, Animal 클래스에 정의하도록 만듭니다.\n",
      "요약: 이 파일은 Cat 클래스를 정의하고 있으며, 상속을 잘 사용하고 있습니다. 그러나 scratch 메서드에서 잘못된 변수를 사용하고 있으며, 하드코딩된 소리 처리가 확장성을 저해하고 있습니다.\n",
      "--------------------------------------------------\n",
      "파일명: ./temp_repo/dog.py\n",
      "- 문제: fetch 메서드에서 비효율적인 for 루프 사용.\n",
      "  해결 방안: fetch 메서드의 for 루프를 제거하고, 불필요한 처리 없이 직접적으로 '가져온다'는 행동을 수행하도록 수정합니다.\n",
      "- 문제: 하드코딩된 소리 처리.\n",
      "  해결 방안: 소리를 생성자의 매개변수로 받아들여 확장성을 더할 수 있습니다.\n",
      "요약: Dog 클래스는 Animal 클래스를 상속받아 잘 구현되어 있습니다. 그러나 fetch 메서드는 불필요한 루프를 포함하고 있으며, 소리 처리도 하드코딩 되어 있습니다.\n",
      "--------------------------------------------------\n",
      "파일명: ./temp_repo/animal.py\n",
      "- 문제: make_sound 메서드의 디자인 문제가 있음. 무조건 '소리를 낸다'라는 템플릿 메서드 형태로 수정함이 좋음.\n",
      "  해결 방안: Animal 클래스 내 make_sound를 abstract 메서드로 만들어 하위 클래스에서 구현하도록 합니다.\n",
      "요약: Animal 클래스는 기초 개념을 잘 표현하고 있지만, 소리를 내는 메서드는 하위 클래스에서 재정의할 수 있도록 변경할 필요가 있습니다.\n",
      "--------------------------------------------------\n",
      "파일명: ./temp_repo/bird.py\n",
      "- 문제: 하드코딩된 소리 처리.\n",
      "  해결 방안: 소리를 생성자의 매개변수로 받아들여 확장성을 높입니다.\n",
      "요약: Bird 클래스는 잘 구성되어 있으나, 소리 부분이 하드코딩 되어 있어 유연성을 떨어뜨립니다.\n",
      "--------------------------------------------------\n",
      "파일명: ./temp_repo/world.py\n",
      "- 문제: 동물 타입 확인이 중복되며, 관리가 어렵습니다.\n",
      "  해결 방안: isinstance 검사로 동물 타입 구분을 더 깔끔하게 처리하고, 각각의 동물 타입에 대응하는 동작을 다형성을 통해 처리할 수 있습니다.\n",
      "요약: World 클래스는 동물 객체들을 잘 관리하고 있으나, 타입 검증 과정이 비효율적이며 다형성을 통해 처리할 수 있는 방법을 고려해야 합니다.\n",
      "--------------------------------------------------\n"
     ]
    }
   ],
   "source": [
    "import json\n",
    "\n",
    "# print(simple_openai_response)\n",
    "# print(json.dumps(simple_openai_response, indent=2, ensure_ascii=False))\n",
    "review_result = simple_openai_response\n",
    "# 결과 출력\n",
    "print(\"리뷰 결과:\")\n",
    "for review in review_result.reviews:\n",
    "    print(f\"파일명: {review.file_name}\")\n",
    "    for issue in review.issues:\n",
    "        print(f\"- 문제: {issue.issue}\")\n",
    "        print(f\"  해결 방안: {issue.suggestion}\")\n",
    "    print(f\"요약: {review.summary}\")\n",
    "    print(\"-\" * 50)"
   ],
   "metadata": {
    "collapsed": false
   }
  },
  {
   "cell_type": "markdown",
   "source": [
    "---\n",
    "## Anthropic 응답 결과"
   ],
   "metadata": {
    "collapsed": false
   }
  },
  {
   "cell_type": "code",
   "execution_count": 451,
   "outputs": [
    {
     "name": "stdout",
     "output_type": "stream",
     "text": [
      "리뷰 결과:\n",
      "파일명: ./temp_repo/cat.py\n",
      "- 문제: scratch 메서드에서 item 파라미터를 사용하지 않고 self.item을 사용하고 있어 버그가 발생합니다.\n",
      "  해결 방안: print(\"{0}이(가) {1}을(를) 긁습니다.\".format(self.name, self.item)) -> print(\"{0}이(가) {1}을(를) 긁습니다.\".format(self.name, item))\n",
      "- 문제: 문자열 포매팅 방식이 f-string과 .format()이 혼용되어 있습니다.\n",
      "  해결 방안: 모든 문자열 포매팅을 f-string으로 통일하는 것을 추천합니다:\n",
      "print(f\"{self.name}이(가) {item}을(를) 긁습니다.\")\n",
      "요약: Cat 클래스는 Animal을 상속받아 구현된 고양이 클래스입니다. 기본적인 구조는 좋으나 scratch 메서드에 버그가 있고, 문자열 포매팅이 일관성이 없습니다.\n",
      "--------------------------------------------------\n",
      "파일명: ./temp_repo/dog.py\n",
      "- 문제: fetch 메서드에 불필요한 for 루프가 있어 성능 저하를 일으킵니다.\n",
      "  해결 방안: for 루프를 제거하고 단순히 print 문만 실행하도록 수정:\n",
      "def fetch(self, item):\n",
      "    print(f\"{self.name}이(가) {item}을(를) 가져옵니다!\")\n",
      "요약: Dog 클래스는 Animal을 상속받아 구현된 강아지 클래스입니다. fetch 메서드에 불필요한 지연 코드가 있습니다.\n",
      "--------------------------------------------------\n",
      "파일명: ./temp_repo/animal.py\n",
      "- 문제: 타입 힌트가 누락되어 있어 코드의 가독성과 유지보수성이 떨어집니다.\n",
      "  해결 방안: 타입 힌트 추가:\n",
      "def __init__(self, name: str, age: int):\n",
      "    self.name: str = name\n",
      "    self.age: int = age\n",
      "    self.sound: str = None\n",
      "요약: Animal은 기본 클래스로 잘 구현되어 있으나, sound 속성의 초기화와 타입 힌트가 누락되어 있습니다.\n",
      "--------------------------------------------------\n",
      "파일명: ./temp_repo/bird.py\n",
      "- 문제: fly 메서드에서 문자열 연산(\"!\" * 1)이 불필요합니다.\n",
      "  해결 방안: 불필요한 문자열 연산 제거:\n",
      "def fly(self):\n",
      "    print(f\"{self.name}이(가) 날개 길이 {self.wing_span}cm로 날아오릅니다!\")\n",
      "요약: Bird 클래스는 Animal을 상속받아 구현된 새 클래스입니다. fly 메서드에서 문자열 연산이 비효율적입니다.\n",
      "--------------------------------------------------\n",
      "파일명: ./temp_repo/world.py\n",
      "- 문제: isinstance 체크가 반복되어 사용되며, 새로운 동물 타입 추가 시 수정이 필요한 구조입니다.\n",
      "  해결 방안: 동적 디스패치를 사용하는 방식으로 변경:\n",
      "def simulate(self):\n",
      "    for animal in self.animals:\n",
      "        animal.make_sound()\n",
      "        if hasattr(animal, 'action'):\n",
      "            animal.action()\n",
      "- 문제: add_animal 메서드의 타입 체크가 확장성이 떨어집니다.\n",
      "  해결 방안: isinstance 체크 대신 추상 메서드를 사용하는 방식으로 변경:\n",
      "def add_animal(self, animal):\n",
      "    if isinstance(animal, Animal):\n",
      "        self.animals.append(animal)\n",
      "    else:\n",
      "        raise TypeError(\"Animal 타입만 추가할 수 있습니다.\")\n",
      "요약: World 클래스는 동물들을 관리하는 컨테이너 클래스입니다. 타입 검사 방식과 simulate 메서드의 구현에 개선이 필요합니다.\n",
      "--------------------------------------------------\n"
     ]
    }
   ],
   "source": [
    "simple_anthropic_response = anthropic_chain.invoke(input_code)\n",
    "#print(simple_anthropic_response.content)\n",
    "#print(json.dumps(simple_anthropic_response, indent=2, ensure_ascii=False))\n",
    "review_result = simple_anthropic_response\n",
    "# 결과 출력\n",
    "print(\"리뷰 결과:\")\n",
    "for review in review_result.reviews:\n",
    "    print(f\"파일명: {review.file_name}\")\n",
    "    for issue in review.issues:\n",
    "        print(f\"- 문제: {issue.issue}\")\n",
    "        print(f\"  해결 방안: {issue.suggestion}\")\n",
    "    print(f\"요약: {review.summary}\")\n",
    "    print(\"-\" * 50)"
   ],
   "metadata": {
    "collapsed": false
   }
  }
 ],
 "metadata": {
  "kernelspec": {
   "display_name": "Python 3",
   "language": "python",
   "name": "python3"
  },
  "language_info": {
   "codemirror_mode": {
    "name": "ipython",
    "version": 2
   },
   "file_extension": ".py",
   "mimetype": "text/x-python",
   "name": "python",
   "nbconvert_exporter": "python",
   "pygments_lexer": "ipython2",
   "version": "2.7.6"
  }
 },
 "nbformat": 4,
 "nbformat_minor": 0
}
