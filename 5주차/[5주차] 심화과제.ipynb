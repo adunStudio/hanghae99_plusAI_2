{
 "cells": [
  {
   "cell_type": "code",
   "execution_count": null,
   "outputs": [],
   "source": [
    "!pip install langchain langchain-community langchain langchain-openai langchain-anthropic chromadb gitpython"
   ],
   "metadata": {
    "collapsed": false,
    "pycharm": {
     "is_executing": true
    }
   }
  },
  {
   "cell_type": "markdown",
   "source": [
    "# [4주차] 심화과제: 코드 리뷰 LLM 서비스\n",
    "---"
   ],
   "metadata": {
    "collapsed": false
   }
  },
  {
   "cell_type": "markdown",
   "source": [
    "# [MY CODE] 1. 환경 변수 로드"
   ],
   "metadata": {
    "collapsed": false
   }
  },
  {
   "cell_type": "code",
   "execution_count": 453,
   "outputs": [],
   "source": [
    "from dotenv import load_dotenv\n",
    "import os\n",
    "\n",
    "load_dotenv()\n",
    "\n",
    "class Config:\n",
    "    OPENAI_API_KEY = os.environ['OPENAI_API_KEY']\n",
    "    ANTHROPIC_API_KEY = os.environ['ANTHROPIC_API_KEY']\n",
    "    PINECONE_API_KEY = os.environ['PINECONE_API_KEY']\n",
    "    CHROMA_DB_PATH = os.environ['CHROMA_DB_PATH']"
   ],
   "metadata": {
    "collapsed": false
   }
  },
  {
   "cell_type": "markdown",
   "source": [
    "---\n",
    "# [MY CODE] 2. LLM(OpenAI, Anthropic)"
   ],
   "metadata": {
    "collapsed": false
   }
  },
  {
   "cell_type": "code",
   "execution_count": 454,
   "outputs": [],
   "source": [
    "from langchain_openai import ChatOpenAI\n",
    "from langchain_anthropic import ChatAnthropic\n",
    "\n",
    "openai_llm = ChatOpenAI(model=\"gpt-4o-mini\", api_key=Config.OPENAI_API_KEY, max_tokens=7000)\n",
    "anthropic_llm = ChatAnthropic(model_name=\"claude-3-5-sonnet-20241022\", api_key=Config.ANTHROPIC_API_KEY, max_tokens=7000)"
   ],
   "metadata": {
    "collapsed": false
   }
  },
  {
   "cell_type": "markdown",
   "source": [
    "---\n",
    "# [MY CODE] 3. Embedding(OpenAI)"
   ],
   "metadata": {
    "collapsed": false
   }
  },
  {
   "cell_type": "code",
   "execution_count": 455,
   "outputs": [],
   "source": [
    "from langchain.embeddings import OpenAIEmbeddings\n",
    "\n",
    "embeddings = OpenAIEmbeddings(openai_api_key=Config.OPENAI_API_KEY)"
   ],
   "metadata": {
    "collapsed": false
   }
  },
  {
   "cell_type": "markdown",
   "source": [
    "---\n",
    "# [MY CODE] 4. VectorStore(ChromaDB)"
   ],
   "metadata": {
    "collapsed": false
   }
  },
  {
   "cell_type": "code",
   "execution_count": 456,
   "outputs": [],
   "source": [
    "from langchain.vectorstores import Chroma\n",
    "\n",
    "vector_store = Chroma(persist_directory=Config.CHROMA_DB_PATH, embedding_function=embeddings)"
   ],
   "metadata": {
    "collapsed": false
   }
  },
  {
   "cell_type": "markdown",
   "source": [
    "---\n",
    "# [MY CODE] 5. Github repository -> Store"
   ],
   "metadata": {
    "collapsed": false
   }
  },
  {
   "cell_type": "code",
   "execution_count": 457,
   "outputs": [],
   "source": [
    "from git import Repo\n",
    "import hashlib\n",
    "\n",
    "# GitHub 레포지토리를 로컬로 클론\n",
    "def clone_github_repo(repo_url, local_path):\n",
    "    if os.path.exists(local_path):\n",
    "        print(\"로컬에 이미 레포지토리가 존재합니다. 변경 사항을 pull합니다.\")\n",
    "        repo = Repo(local_path)\n",
    "        repo.remotes.origin.pull()\n",
    "    else:\n",
    "        print(f\"Cloning {repo_url} into {local_path}...\")\n",
    "        Repo.clone_from(repo_url, local_path)\n",
    "    print(\"레포지토리 클론 또는 업데이트 완료!\")\n",
    "\n",
    "# 레포지토리 내 Python 파일 경로를 찾기\n",
    "def find_python_files(repo_path):\n",
    "    python_files = []\n",
    "    for root, _, files in os.walk(repo_path):\n",
    "        for file in files:\n",
    "            if file.endswith(\".py\"):\n",
    "                python_files.append(os.path.join(root, file))\n",
    "    return python_files\n",
    "\n",
    "# 파일의 해시값(SHA256)을 계산\n",
    "def calculate_file_hash(file_path):\n",
    "    sha256 = hashlib.sha256()\n",
    "    with open(file_path, \"rb\") as f:\n",
    "        while chunk := f.read(8192):\n",
    "            sha256.update(chunk)\n",
    "    return sha256.hexdigest()\n",
    "\n",
    "# 파일이 업데이트되었는지 확인\n",
    "def is_file_updated(file_path, vector_store):\n",
    "    file_hash = calculate_file_hash(file_path)\n",
    "    # Chroma에서 해당 파일의 메타데이터 검색\n",
    "    results = vector_store.similarity_search(file_path, k=1, filter={\"file_path\": file_path})\n",
    "    if results:\n",
    "        # 저장된 해시값과 비교\n",
    "        return results[0].metadata.get(\"file_hash\") != file_hash\n",
    "    return True\n",
    "\n",
    "# Python 파일을 읽어 벡터화하고 Chroma DB에 저장\n",
    "def store_python_files_in_chroma(file_paths, vector_store):\n",
    "    for file_path in file_paths:\n",
    "        try:\n",
    "            if not is_file_updated(file_path, vector_store):\n",
    "                print(f\"파일이 변경되지 않았습니다. 건너뜁니다: {file_path}\")\n",
    "                continue\n",
    "\n",
    "            with open(file_path, \"r\", encoding=\"utf-8\") as file:\n",
    "                code_content = file.read()\n",
    "\n",
    "            # 파일 메타데이터 생성\n",
    "            metadata = {\n",
    "                \"file_path\": file_path,\n",
    "                \"file_hash\": calculate_file_hash(file_path)\n",
    "            }\n",
    "\n",
    "            # 벡터 스토어에 추가\n",
    "            vector_store.add_texts([code_content], metadatas=[metadata])\n",
    "            print(f\"{file_path} 저장 완료!\")\n",
    "        except Exception as e:\n",
    "            print(f\"파일 처리 중 오류 발생: {file_path}, 오류: {e}\")\n",
    "    vector_store.persist()\n",
    "    print(\"Chroma DB에 모든 파일 저장 완료!\")\n",
    "\n",
    "# Chroma DB에 저장된 모든 코드 파일의 메타데이터와 내용을 출력합니다.\n",
    "def list_all_files_with_content(vector_store):\n",
    "    try:\n",
    "        results = vector_store.get(include=[\"metadatas\", \"documents\"])\n",
    "\n",
    "        print(\"저장된 코드 파일과 내용:\")\n",
    "        for i, (metadata, document) in enumerate(zip(results[\"metadatas\"], results[\"documents\"]), 1):\n",
    "            file_path = metadata.get(\"file_path\", \"Unknown\")\n",
    "            print(f\"{i}. 파일 경로: {file_path}\")\n",
    "            print(\"내용:\")\n",
    "            print(document[:300])  # 첫 300자만 출력\n",
    "            print(\"-\" * 50)\n",
    "    except Exception as e:\n",
    "        print(f\"전체 파일 목록 및 내용 출력 중 오류 발생: {e}\")\n",
    "\n",
    "# 파일명을 기준으로 Chroma DB에서 내용을 검색하고 반환.\n",
    "def search_by_filename(file_name, vector_store):\n",
    "    try:\n",
    "        # Chroma DB의 모든 데이터를 가져옵니다.\n",
    "        results = vector_store.get(include=[\"metadatas\", \"documents\"])\n",
    "\n",
    "        matching_files = []\n",
    "        for metadata, document in zip(results[\"metadatas\"], results[\"documents\"]):\n",
    "            if file_name in metadata.get(\"file_path\", \"\"):\n",
    "                matching_files.append((metadata, document))\n",
    "\n",
    "        if matching_files:\n",
    "            return matching_files[0][1]\n",
    "        else:\n",
    "            print(f\"파일명 '{file_name}'이(가) DB에 존재하지 않습니다.\")\n",
    "            return None\n",
    "    except Exception as e:\n",
    "        print(f\"파일명으로 검색 중 오류 발생: {e}\")"
   ],
   "metadata": {
    "collapsed": false
   }
  },
  {
   "cell_type": "code",
   "execution_count": 458,
   "outputs": [
    {
     "name": "stdout",
     "output_type": "stream",
     "text": [
      "로컬에 이미 레포지토리가 존재합니다. 변경 사항을 pull합니다.\n",
      "레포지토리 클론 또는 업데이트 완료!\n",
      "찾은 Python 파일 수: 8\n",
      "파일이 변경되지 않았습니다. 건너뜁니다: ./temp_repo/world.py\n",
      "파일이 변경되지 않았습니다. 건너뜁니다: ./temp_repo/cat.py\n",
      "파일이 변경되지 않았습니다. 건너뜁니다: ./temp_repo/text_processor.py\n",
      "파일이 변경되지 않았습니다. 건너뜁니다: ./temp_repo/bird.py\n",
      "파일이 변경되지 않았습니다. 건너뜁니다: ./temp_repo/animal.py\n",
      "파일이 변경되지 않았습니다. 건너뜁니다: ./temp_repo/calculator.py\n",
      "파일이 변경되지 않았습니다. 건너뜁니다: ./temp_repo/dog.py\n",
      "파일이 변경되지 않았습니다. 건너뜁니다: ./temp_repo/main.py\n",
      "Chroma DB에 모든 파일 저장 완료!\n"
     ]
    }
   ],
   "source": [
    "github_repo_url = 'https://github.com/adunStudio/codereviewexample'\n",
    "local_repo_path = \"./temp_repo\"\n",
    "\n",
    "# 1. GitHub 레포지토리 클론 또는 업데이트\n",
    "clone_github_repo(github_repo_url, local_repo_path)\n",
    "\n",
    "# 2. Python 파일 찾기\n",
    "python_files = find_python_files(local_repo_path)\n",
    "print(f\"찾은 Python 파일 수: {len(python_files)}\")\n",
    "\n",
    "# 3. Python 파일을 Chroma DB에 저장\n",
    "store_python_files_in_chroma(python_files, vector_store)\n",
    "\n",
    "#list_all_files_with_content(vector_store)"
   ],
   "metadata": {
    "collapsed": false
   }
  },
  {
   "cell_type": "markdown",
   "source": [
    "---\n",
    "# [MY CODE] 6. Retriever"
   ],
   "metadata": {
    "collapsed": false
   }
  },
  {
   "cell_type": "code",
   "execution_count": 459,
   "outputs": [],
   "source": [
    "retriever = vector_store.as_retriever(search_kwargs={\"k\": 5})"
   ],
   "metadata": {
    "collapsed": false
   }
  },
  {
   "cell_type": "code",
   "execution_count": 460,
   "outputs": [
    {
     "name": "stdout",
     "output_type": "stream",
     "text": [
      "\n",
      "### 출처 코드 ###\n",
      "문서 개수: 5\n",
      "파일: ./temp_repo/cat.py\n",
      "내용: from animal import Animal\n",
      "\n",
      "class Cat(Animal):\n",
      "    def __init__(self, name, age, color):\n",
      "        super().__init__(name, age)\n",
      "        self.color = color\n",
      "        self.sound = \"야옹\"\n",
      "\n",
      "    def scratch(self, \n",
      "-----------------------------------\n",
      "파일: ./temp_repo/dog.py\n",
      "내용: from animal import Animal\n",
      "\n",
      "class Dog(Animal):\n",
      "    def __init__(self, name, age, breed):\n",
      "        super().__init__(name, age)\n",
      "        self.breed = breed\n",
      "        self.sound = \"멍멍\"\n",
      "\n",
      "    def fetch(self, it\n",
      "-----------------------------------\n",
      "파일: ./temp_repo/animal.py\n",
      "내용: class Animal:\n",
      "    def __init__(self, name, age):\n",
      "        self.name = name\n",
      "        self.age = age  \n",
      "        self.sound = None\n",
      "\n",
      "    def make_sound(self):\n",
      "        print(f\"{self.name}이(가) 소리를 냅니다: {self.s\n",
      "-----------------------------------\n",
      "파일: ./temp_repo/bird.py\n",
      "내용: from animal import Animal\n",
      "\n",
      "class Bird(Animal):\n",
      "    def __init__(self, name, age, wing_span):\n",
      "        super().__init__(name, age)\n",
      "        self.wing_span = wing_span\n",
      "        self.sound = \"짹짹\"\n",
      "\n",
      "    def f\n",
      "-----------------------------------\n",
      "파일: ./temp_repo/world.py\n",
      "내용: from dog import Dog\n",
      "from cat import Cat\n",
      "from bird import Bird\n",
      "\n",
      "class World:\n",
      "    def __init__(self):\n",
      "        self.animals = []  # 동물 객체 저장\n",
      "\n",
      "    def add_animal(self, animal):\n",
      "        if isinstance(anima\n",
      "-----------------------------------\n"
     ]
    }
   ],
   "source": [
    "# cat.py 소스코드\n",
    "input_code = search_by_filename('cat.py', vector_store)\n",
    "\n",
    "# cat.py 소스코드와 연관된 코드 검색\n",
    "retrievered_codes = retriever.invoke(input_code)\n",
    "\n",
    "print(\"\\n### 출처 코드 ###\")\n",
    "print(f'문서 개수: {len(retrievered_codes)}')\n",
    "for code in retrievered_codes:\n",
    "    print(f\"파일: {code.metadata.get('file_path', 'N/A')}\")\n",
    "    print(f\"내용: {code.page_content[:200]}\")  # 문서 내용 일부 출력\n",
    "    print('-------' * 5)"
   ],
   "metadata": {
    "collapsed": false
   }
  },
  {
   "cell_type": "markdown",
   "source": [
    "---\n",
    "# [MY CODE] 7. PromptTemplates"
   ],
   "metadata": {
    "collapsed": false
   }
  },
  {
   "cell_type": "code",
   "execution_count": 461,
   "outputs": [],
   "source": [
    "from langchain.prompts import PromptTemplate\n",
    "from langchain.prompts import load_prompt\n",
    "\n",
    "simple_review_prompt = load_prompt('./prompts/simple_review_prompt.json')\n",
    "\n",
    "input_message = ''\n",
    "\n",
    "for code in retrievered_codes:\n",
    "    input_message += f\"\\n\\n[파일명: {code.metadata.get('file_path', 'N/A')}]\\n\\n\"\n",
    "    input_message += code.page_content\n",
    "\n",
    "#review_prompt = review_template.format(context=input_message)\n",
    "#print(review_prompt)"
   ],
   "metadata": {
    "collapsed": false
   }
  },
  {
   "cell_type": "markdown",
   "source": [
    "---\n",
    "# [MY CODE] 8. TransformChain(Retriever -> PromptTemplate)"
   ],
   "metadata": {
    "collapsed": false
   }
  },
  {
   "cell_type": "code",
   "execution_count": 462,
   "outputs": [],
   "source": [
    "from langchain.chains import TransformChain\n",
    "\n",
    "def create_input_code(inputs):\n",
    "    documents = inputs[\"documents\"]\n",
    "    input_message = \"\"\n",
    "    for doc in documents:\n",
    "        input_message += f\"\\n\\n[파일명: {doc.metadata.get('file_path', 'N/A')}]\\n\\n\"\n",
    "        input_message += doc.page_content\n",
    "    return {\"context\": input_message}\n",
    "\n",
    "code_mapping_chain = TransformChain(\n",
    "    input_variables=[\"documents\"],\n",
    "    output_variables=[\"context\"],\n",
    "    transform=create_input_code\n",
    ")"
   ],
   "metadata": {
    "collapsed": false
   }
  },
  {
   "cell_type": "markdown",
   "source": [
    "# [MY CODE] 9. 출력 파서(PydanticOutputParser)"
   ],
   "metadata": {
    "collapsed": false
   }
  },
  {
   "cell_type": "code",
   "execution_count": 463,
   "outputs": [],
   "source": [
    "from langchain_core.output_parsers import PydanticOutputParser\n",
    "from pydantic import BaseModel, Field\n",
    "from typing import List\n",
    "\n",
    "class Issue(BaseModel):\n",
    "    issue: str = Field(description=\"문제 설명\")\n",
    "    suggestion: str = Field(description=\"원본 코드 첨부 및 해결 방안\")\n",
    "\n",
    "class FileReview(BaseModel):\n",
    "    file_name: str = Field(description=\"파일명\")\n",
    "    issues: List[Issue] = Field(description=\"발견된 문제 목록\")\n",
    "    summary: str = Field(description=\"10문장 이내로 요약한 파일 리뷰\")\n",
    "\n",
    "class MultiFileReview(BaseModel):\n",
    "    reviews: List[FileReview] = Field(description=\"여러 파일의 리뷰 결과\")\n",
    "\n",
    "pydantic_review_output_parser = PydanticOutputParser(pydantic_object=MultiFileReview)\n",
    "\n",
    "simple_review_prompt = simple_review_prompt.partial(output_format=pydantic_review_output_parser.get_format_instructions())"
   ],
   "metadata": {
    "collapsed": false
   }
  },
  {
   "cell_type": "markdown",
   "source": [
    "---\n",
    "# [MY CODE] 10. Chain"
   ],
   "metadata": {
    "collapsed": false
   }
  },
  {
   "cell_type": "code",
   "execution_count": 464,
   "outputs": [],
   "source": [
    "openai_chain    = retriever | code_mapping_chain | simple_review_prompt | openai_llm    | pydantic_review_output_parser\n",
    "anthropic_chain = retriever | code_mapping_chain | simple_review_prompt | anthropic_llm | pydantic_review_output_parser\n",
    "\n",
    "# 입력: cat.py 소스코드\n",
    "input_code = search_by_filename('cat.py', vector_store)"
   ],
   "metadata": {
    "collapsed": false
   }
  },
  {
   "cell_type": "markdown",
   "source": [
    "---\n",
    "# [MY CODE] 간단 버전\n",
    "## OpenAI 응답 결과"
   ],
   "metadata": {
    "collapsed": false
   }
  },
  {
   "cell_type": "code",
   "execution_count": 466,
   "outputs": [
    {
     "name": "stdout",
     "output_type": "stream",
     "text": [
      "입력 토큰 수: 1228\n",
      "응답 토큰 수: 641\n",
      "총 토큰 수: 1869\n",
      "총 비용: $0.0004919999999999999\n"
     ]
    }
   ],
   "source": [
    "from langchain.callbacks import get_openai_callback\n",
    "\n",
    "with get_openai_callback() as callback:\n",
    "    simple_openai_response = openai_chain.invoke(input_code)\n",
    "\n",
    "    # 토큰 관련 정보 출력\n",
    "    print(f\"입력 토큰 수: {callback.prompt_tokens}\")\n",
    "    print(f\"응답 토큰 수: {callback.completion_tokens}\")\n",
    "    print(f\"총 토큰 수: {callback.total_tokens}\")\n",
    "    print(f\"총 비용: ${callback.total_cost}\")"
   ],
   "metadata": {
    "collapsed": false
   }
  },
  {
   "cell_type": "code",
   "execution_count": 467,
   "outputs": [
    {
     "name": "stdout",
     "output_type": "stream",
     "text": [
      "리뷰 결과:\n",
      "파일명: ./temp_repo/cat.py\n",
      "- 문제: 문자열 포매팅 방식이 일관되지 않음.\n",
      "  해결 방안: f-string을 사용하여 코드를 일관되게 만듭니다: print(f'{self.name}이(가) {item}을(를) 긁습니다.')\n",
      "- 문제: item 변수의 접근 방식이 잘못됨.\n",
      "  해결 방안: self.item 대신 item을 사용하여 올바른 변수를 참조합니다.\n",
      "요약: Cat 클래스는 문자열 포매팅의 비일관성과 잘못된 변수 참조 문제가 있습니다.\n",
      "--------------------------------------------------\n",
      "파일명: ./temp_repo/dog.py\n",
      "- 문제: fetch 메소드에 불필요한 루프가 존재.\n",
      "  해결 방안: 루프를 제거하고 바로 print 문으로 대체하면 됩니다.\n",
      "요약: Dog 클래스의 fetch 메소드는 비효율적인 루프를 가지고 있어 성능 저하를 야기합니다.\n",
      "--------------------------------------------------\n",
      "파일명: ./temp_repo/animal.py\n",
      "- 문제: make_sound 메소드가 단순히 소리만 출력.\n",
      "  해결 방안: 소리를 보다 의미 있게 사용할 수 있도록 시스템 내 다른 메소드에서 활용하세요.\n",
      "요약: Animal 클래스의 make_sound 메소드는 개선의 여지가 있으며, 더 나은 활용 방안을 모색해야 합니다.\n",
      "--------------------------------------------------\n",
      "파일명: ./temp_repo/bird.py\n",
      "- 문제: 날아오르는 메시지에서 '!'의 중복 사용.\n",
      "  해결 방안: 중복된 느낌을 주지 않도록 '!'를 한 번만 사용합니다: print(f'{self.name}이(가) 날개 길이 {self.wing_span}cm로 날아오릅니다!')\n",
      "요약: Bird 클래스의 fly 메소드는 출력에서 느낌표의 중복 사용을 피해야 합니다.\n",
      "--------------------------------------------------\n",
      "파일명: ./temp_repo/world.py\n",
      "- 문제: add_animal 메소드에서 동물 확인이 잘못됨.\n",
      "  해결 방안: isinstance를 사용하여 Animal 클래스의 서브클래스인지를 직접 확인합니다.\n",
      "- 문제: simulate 메소드의 소음 출력 순서가 비효율적.\n",
      "  해결 방안: 각 동물 객체에서 소리를 지르는 방법을 더 일관성 있게 처리하도록 메소드 개선.\n",
      "요약: World 클래스는 동물 추가 메소드의 확인 방식과 simulate 메소드의 호출 순서에서 개선이 필요합니다.\n",
      "--------------------------------------------------\n"
     ]
    }
   ],
   "source": [
    "import json\n",
    "\n",
    "# print(simple_openai_response)\n",
    "# print(json.dumps(simple_openai_response, indent=2, ensure_ascii=False))\n",
    "review_result = simple_openai_response\n",
    "# 결과 출력\n",
    "print(\"리뷰 결과:\")\n",
    "for review in review_result.reviews:\n",
    "    print(f\"파일명: {review.file_name}\")\n",
    "    for issue in review.issues:\n",
    "        print(f\"- 문제: {issue.issue}\")\n",
    "        print(f\"  해결 방안: {issue.suggestion}\")\n",
    "    print(f\"요약: {review.summary}\")\n",
    "    print(\"-\" * 50)"
   ],
   "metadata": {
    "collapsed": false
   }
  },
  {
   "cell_type": "markdown",
   "source": [
    "---\n",
    "## Anthropic 응답 결과"
   ],
   "metadata": {
    "collapsed": false
   }
  },
  {
   "cell_type": "code",
   "execution_count": 468,
   "outputs": [
    {
     "name": "stdout",
     "output_type": "stream",
     "text": [
      "리뷰 결과:\n",
      "파일명: ./temp_repo/animal.py\n",
      "- 문제: sound 속성이 None으로 초기화되어 make_sound() 메서드에서 NoneType 에러가 발생할 수 있습니다.\n",
      "  해결 방안: sound 속성에 기본값을 문자열로 설정하거나, make_sound() 메서드에서 None 체크를 추가하세요:\n",
      "```python\n",
      "def make_sound(self):\n",
      "    if self.sound is None:\n",
      "        print(f\"{self.name}이(가) 소리를 내지 않습니다.\")\n",
      "    else:\n",
      "        print(f\"{self.name}이(가) 소리를 냅니다: {self.sound}\")\n",
      "```\n",
      "- 문제: age 파라미터의 유효성 검사가 없습니다.\n",
      "  해결 방안: 나이에 대한 유효성 검사를 추가하세요:\n",
      "```python\n",
      "def __init__(self, name, age):\n",
      "    if not isinstance(age, (int, float)) or age < 0:\n",
      "        raise ValueError(\"나이는 0 이상의 숫자여야 합니다.\")\n",
      "    self.name = name\n",
      "    self.age = age\n",
      "```\n",
      "요약: Animal 클래스는 기본적인 동물의 특성을 정의한 기초 클래스입니다. 전반적으로 단순하고 명확하나, 일부 개선이 필요한 부분이 있습니다.\n",
      "--------------------------------------------------\n",
      "파일명: ./temp_repo/cat.py\n",
      "- 문제: scratch 메서드에서 self.item을 참조하나, 해당 속성이 정의되어 있지 않습니다.\n",
      "  해결 방안: 올바른 변수를 사용하도록 수정하세요:\n",
      "```python\n",
      "def scratch(self, item):\n",
      "    if not item:\n",
      "        print(f\"{self.name}이(가) 긁을 것이 없습니다!\")\n",
      "    else:\n",
      "        print(f\"{self.name}이(가) {item}을(를) 긁습니다.\")\n",
      "```\n",
      "- 문제: color 파라미터의 유효성 검사가 없습니다.\n",
      "  해결 방안: color 파라미터에 대한 유효성 검사를 추가하세요:\n",
      "```python\n",
      "def __init__(self, name, age, color):\n",
      "    super().__init__(name, age)\n",
      "    if not isinstance(color, str) or not color.strip():\n",
      "        raise ValueError(\"색상은 비어있지 않은 문자열이어야 합니다.\")\n",
      "    self.color = color\n",
      "```\n",
      "요약: Cat 클래스는 Animal을 상속받아 고양이의 특성을 구현했습니다. 일부 버그와 개선이 필요한 부분이 발견되었습니다.\n",
      "--------------------------------------------------\n",
      "파일명: ./temp_repo/dog.py\n",
      "- 문제: fetch 메서드에 불필요한 for 루프가 있어 성능을 저하시킵니다.\n",
      "  해결 방안: 불필요한 루프를 제거하세요:\n",
      "```python\n",
      "def fetch(self, item):\n",
      "    print(f\"{self.name}이(가) {item}을(를) 가져옵니다!\")\n",
      "```\n",
      "- 문제: breed 파라미터의 유효성 검사가 없습니다.\n",
      "  해결 방안: breed 파라미터에 대한 유효성 검사를 추가하세요:\n",
      "```python\n",
      "def __init__(self, name, age, breed):\n",
      "    super().__init__(name, age)\n",
      "    if not isinstance(breed, str) or not breed.strip():\n",
      "        raise ValueError(\"품종은 비어있지 않은 문자열이어야 합니다.\")\n",
      "    self.breed = breed\n",
      "```\n",
      "요약: Dog 클래스는 Animal을 상속받아 개의 특성을 구현했습니다. 성능 문제와 개선이 필요한 부분이 있습니다.\n",
      "--------------------------------------------------\n",
      "파일명: ./temp_repo/bird.py\n",
      "- 문제: 문자열 연산이 비효율적으로 사용되었습니다.\n",
      "  해결 방안: 문자열 포매팅을 사용하도록 수정하세요:\n",
      "```python\n",
      "def fly(self):\n",
      "    print(f\"{self.name}이(가) 날개 길이 {self.wing_span}cm로 날아오릅니다!\")\n",
      "```\n",
      "- 문제: wing_span 파라미터의 유효성 검사가 없습니다.\n",
      "  해결 방안: wing_span에 대한 유효성 검사를 추가하세요:\n",
      "```python\n",
      "def __init__(self, name, age, wing_span):\n",
      "    super().__init__(name, age)\n",
      "    if not isinstance(wing_span, (int, float)) or wing_span <= 0:\n",
      "        raise ValueError(\"날개 길이는 0보다 큰 숫자여야 합니다.\")\n",
      "    self.wing_span = wing_span\n",
      "```\n",
      "요약: Bird 클래스는 Animal을 상속받아 새의 특성을 구현했습니다. 코드는 간단하지만 몇 가지 개선이 필요합니다.\n",
      "--------------------------------------------------\n",
      "파일명: ./temp_repo/world.py\n",
      "- 문제: isinstance 체크가 하드코딩되어 있어 확장성이 떨어집니다.\n",
      "  해결 방안: 동물 타입 체크를 추상화하세요:\n",
      "```python\n",
      "def add_animal(self, animal):\n",
      "    if isinstance(animal, Animal):\n",
      "        self.animals.append(animal)\n",
      "    else:\n",
      "        raise ValueError(\"Animal 클래스의 인스턴스만 추가할 수 있습니다.\")\n",
      "```\n",
      "- 문제: simulate 메서드의 동작이 타입에 따라 하드코딩되어 있어 OCP를 위반합니다.\n",
      "  해결 방안: 다형성을 활용하도록 수정하세요:\n",
      "```python\n",
      "def simulate(self):\n",
      "    for animal in self.animals:\n",
      "        animal.make_sound()\n",
      "        animal.perform_action()  # 각 동물 클래스에 perform_action 메서드를 추가\n",
      "```\n",
      "요약: World 클래스는 동물들을 관리하고 시뮬레이션하는 컨테이너 클래스입니다. 타입 체크와 예외 처리 등 개선이 필요합니다.\n",
      "--------------------------------------------------\n"
     ]
    }
   ],
   "source": [
    "simple_anthropic_response = anthropic_chain.invoke(input_code)\n",
    "#print(simple_anthropic_response.content)\n",
    "#print(json.dumps(simple_anthropic_response, indent=2, ensure_ascii=False))\n",
    "review_result = simple_anthropic_response\n",
    "# 결과 출력\n",
    "print(\"리뷰 결과:\")\n",
    "for review in review_result.reviews:\n",
    "    print(f\"파일명: {review.file_name}\")\n",
    "    for issue in review.issues:\n",
    "        print(f\"- 문제: {issue.issue}\")\n",
    "        print(f\"  해결 방안: {issue.suggestion}\")\n",
    "    print(f\"요약: {review.summary}\")\n",
    "    print(\"-\" * 50)"
   ],
   "metadata": {
    "collapsed": false
   }
  },
  {
   "cell_type": "markdown",
   "source": [
    "---\n",
    "# 프리미엄 코딩 리뷰 서비스\n",
    "## 5개 항목 심화 코딩 리뷰 (비동기 방식 사용)\n",
    "- 코딩 컨벤션\n",
    "- 설계(유지보수, SOLID)\n",
    "- 퍼포먼스\n",
    "- 바퀴재발명\n",
    "- ddd/tdd 방법론"
   ],
   "metadata": {
    "collapsed": false
   }
  },
  {
   "cell_type": "code",
   "execution_count": 495,
   "outputs": [],
   "source": [
    "\n",
    "premium_service = ['coding_convention', 'ddd_tdd', 'maintainability', 'performance', 'reinvention']\n",
    "premium_llms     = [openai_llm, openai_llm, anthropic_llm, openai_llm, anthropic_llm]\n",
    "\n",
    "premium_prompts = [\n",
    "    load_prompt(f'./prompts/{service}_prompt.json')\n",
    "    .partial(output_format=pydantic_review_output_parser.get_format_instructions())\n",
    "    for service in premium_service\n",
    "]\n",
    "\n",
    "premium_chains = [\n",
    "    retriever | code_mapping_chain | prompt | llm | pydantic_review_output_parser\n",
    "    for llm, prompt in zip(premium_llms, premium_prompts)\n",
    "]"
   ],
   "metadata": {
    "collapsed": false
   }
  },
  {
   "cell_type": "code",
   "execution_count": 497,
   "outputs": [
    {
     "name": "stdout",
     "output_type": "stream",
     "text": [
      "프리미엄 코드 리뷰 시작\n",
      "reinvention 리뷰 결과:\n",
      "파일명: ./temp_repo/cat.py\n",
      "- 문제: 문자열 포맷팅 방식이 f-string과 .format() 메서드가 혼용되어 있음\n",
      "  해결 방안: 최신 Python 스타일 가이드에 따라 f-string으로 통일하는 것이 좋습니다.\n",
      "수정 예시:\n",
      "print(f\"{self.name}이(가) {item}을(를) 긁습니다.\")\n",
      "요약: Cat 클래스에는 내장 기능을 재구현한 사례가 있으며 문자열 포맷팅이 일관성 없게 사용됨\n",
      "--------------------------------------------------\n",
      "파일명: ./temp_repo/dog.py\n",
      "- 문제: fetch 메서드에 불필요한 지연 루프가 구현됨\n",
      "  해결 방안: 시간 지연이 필요하다면 time.sleep()을 사용하는 것이 더 효율적입니다.\n",
      "수정 예시:\n",
      "import time\n",
      "time.sleep(1)  # 필요한 경우\n",
      "요약: Dog 클래스에는 불필요한 지연 로직이 포함되어 있음\n",
      "--------------------------------------------------\n",
      "파일명: ./temp_repo/bird.py\n",
      "- 문제: 문자열 반복에 + 연산자와 문자열 곱셈이 혼용됨\n",
      "  해결 방안: 단순히 문자열 곱셈을 사용하는 것이 더 깔끔합니다.\n",
      "수정 예시:\n",
      "print(f\"{self.name}이(가) 날개 길이 {self.wing_span}cm로 날아오릅니다!\")\n",
      "요약: Bird 클래스에서 문자열 연산이 비효율적으로 구현됨\n",
      "--------------------------------------------------\n",
      "파일명: ./temp_repo/world.py\n",
      "- 문제: isinstance() 체크가 반복적으로 사용됨\n",
      "  해결 방안: 다형성을 활용하여 타입 체크를 제거하는 것이 더 파이썬스럽습니다. 각 동물 클래스에 act() 메서드를 구현하고 이를 호출하는 방식을 권장합니다.\n",
      "수정 예시:\n",
      "def simulate(self):\n",
      "    for animal in self.animals:\n",
      "        animal.act()\n",
      "요약: World 클래스에서 타입 체크가 파이썬스럽지 않게 구현됨\n",
      "--------------------------------------------------\n",
      "coding_convention 리뷰 결과:\n",
      "파일명: ./temp_repo/cat.py\n",
      "- 문제: 메서드 scratch에서 item 변수를 잘못 사용하고 있습니다. self.item을 사용하고 있습니다.\n",
      "  해결 방안: item 변수를 사용하세요. 수정: print(\"{0}이(가) {1}을(를) 긁습니다.\".format(self.name, item))\n",
      "- 문제: 상수 문자열 '야옹'은 한국어 음성에 적합하지만, 가독성과 유연성을 고려할 때 별도의 상수로 정의하는 것이 좋습니다.\n",
      "  해결 방안: 클래스 바깥에 상수를 정의하거나, 클래스 속성으로 정의하는 것이 좋습니다.\n",
      "요약: Cat 클래스는 기본적인 기능을 수행하지만, scratch 메서드에서 변수를 잘못 사용하고 있습니다. 더 나아가 음성을 상수로 정의하여 가독성을 높일 수 있습니다.\n",
      "--------------------------------------------------\n",
      "파일명: ./temp_repo/dog.py\n",
      "- 문제: fetch 메서드에서 과도한 반복을 사용하고 있습니다. 실제 기능이 무엇인지 명확하지 않습니다.\n",
      "  해결 방안: 무한 루프를 제거하고, 필요 없는 대기 시간이나 불필요한 코드가 아닌 실제 필요에 따른 기능을 구현하세요.\n",
      "요약: Dog 클래스는 기본 기능은 잘 구현되어 있으나, fetch 메서드에서 필요 없는 반복이 있어 개선이 필요합니다.\n",
      "--------------------------------------------------\n",
      "파일명: ./temp_repo/animal.py\n",
      "- 문제: 속성에 대한 타입 주석이 없습니다.\n",
      "  해결 방안: def __init__(self, name: str, age: int) 형식으로 타입 힌트를 추가하세요.\n",
      "요약: Animal 클래스는 기본적인 구조와 기능은 잘 되어 있으나, 타입 힌트를 추가하여 가독성을 높일 필요가 있습니다.\n",
      "--------------------------------------------------\n",
      "파일명: ./temp_repo/bird.py\n",
      "- 문제: fly 메서드에서 '!' 문자가 하드코딩 되어 있습니다.\n",
      "  해결 방안: 문자열을 구성할 때, 필요하다면 상수나 변수를 사용하여 가독성을 높일 수 있습니다.\n",
      "- 문제: 메서드 내용이 간단하지만, 문장이 여러 줄로 나뉘어 있을 경우 인라인 주석이 필요합니다.\n",
      "  해결 방안: print 함수에 대한 설명을 주석으로 추가하여 코드 이해를 돕습니다.\n",
      "요약: Bird 클래스는 잘 작성되었으나 fly 메서드에서 고정된 문자가 하드코딩 되어 있어, 개선이 필요합니다.\n",
      "--------------------------------------------------\n",
      "파일명: ./temp_repo/world.py\n",
      "- 문제: animal.make_sound()와 같이 메서드를 호출하는 부분에서 인스턴스가 올바른지 확인하는 로직이 부족합니다.\n",
      "  해결 방안: 각 동물이 올바른 메서드를 가지고 있는지 확인하는 유효성 검사를 추가하는 것이 좋습니다.\n",
      "- 문제: simulate 메서드에서 print 구문이 직접 호출되고 있어, 로그 시스템으로 전환하는 것이 좋습니다.\n",
      "  해결 방안: logging 모듈을 사용하여 로그를 남기는 방식으로 수정하세요.\n",
      "요약: World 클래스의 구조는 괜찮지만, 메서드 호출 및 출력 방식에서 개선이 필요합니다.\n",
      "--------------------------------------------------\n",
      "performance 리뷰 결과:\n",
      "파일명: ./temp_repo/cat.py\n",
      "- 문제: scratch 메서드에서 잘못된 속성 이름 사용.\n",
      "  해결 방안: self.item 대신 self.color를 사용해야 합니다.\n",
      "요약: Cat 클래스는 긁기 메서드에서 구성 요소를 잘못 참조하고 있으며, 이를 수정해야 합니다.\n",
      "--------------------------------------------------\n",
      "파일명: ./temp_repo/dog.py\n",
      "- 문제: fetch 메서드에 불필요한 반복문이 있음.\n",
      "  해결 방안: 1000000개의 반복은 필요하지 않으며, 제거할 수 있습니다.\n",
      "요약: Dog 클래스는 fetch 메서드에서 성능을 악화시키는 불필요한 반복을 가지고 있습니다.\n",
      "--------------------------------------------------\n",
      "파일명: ./temp_repo/animal.py\n",
      "요약: Animal 클래스는 기본적인 속성과 메서드를 잘 정의하고 있으나, 밝고 음성적인 메서드 개선이 필요할 수 있습니다.\n",
      "--------------------------------------------------\n",
      "파일명: ./temp_repo/bird.py\n",
      "요약: Bird 클래스는 간단하지만, 추가적인 기능이나 속성이 있으면 좋을 것 같습니다.\n",
      "--------------------------------------------------\n",
      "파일명: ./temp_repo/world.py\n",
      "- 문제: simulate 메소드에서 동물에 따라 처리 방식이 달라짐.\n",
      "  해결 방안: 다형성을 활용하여 각 동물 클래스에서 simulate 메서드를 오버라이드하도록 할 수 있습니다.\n",
      "요약: World 클래스는 동물을 추가 및 시뮬레이트하는 기능이 있으나, 동물 클래스에서도 자체 메서드를 오버라이드 해 일관성을 높일 수 있습니다.\n",
      "--------------------------------------------------\n",
      "ddd_tdd 리뷰 결과:\n",
      "파일명: ./temp_repo/cat.py\n",
      "- 문제: scratch 메소드에서 self.item을 사용하고 있어 에러 발생.\n",
      "  해결 방안: self.item을 self.color로 수정하여 올바른 속성을 참조하도록 수정하세요.\n",
      "- 문제: 실제 긁는 방식의 구현이 부족. 긁는 객체를 체크하는 이론적 로직이 필요.\n",
      "  해결 방안: 긁을 수 있는 기초적인 조건을 구현하고 해당 아이템에 대한 유효성을 검사하세요.\n",
      "요약: Cat 클래스는 기본적인 생성자와 메소드를 제공하지만 scratch 메소드에서 정의되지 않은 속성을 참조하고 있습니다. 긁는 방식에 대한 로직도 개선이 필요합니다.\n",
      "--------------------------------------------------\n",
      "파일명: ./temp_repo/dog.py\n",
      "- 문제: fetch 메소드가 시간 복잡도 측면에서 비효율적이며 불필요한 반복이 포함되어 있음.\n",
      "  해결 방안: fetch 메소드에서 반복문을 제거하고 바로 출력을 하도록 수정하세요.\n",
      "요약: Dog 클래스는 기본적인 동작을 잘 정의하고 있으나, fetch 메소드의 비효율성을 개선할 필요가 있습니다.\n",
      "--------------------------------------------------\n",
      "파일명: ./temp_repo/animal.py\n",
      "요약: Animal 클래스는 추상적 동물 객체의 정보를 잘 정의하고 있어 적절하게 설계되었습니다.\n",
      "--------------------------------------------------\n",
      "파일명: ./temp_repo/bird.py\n",
      "- 문제: fly 메소드에서 예외 처리가 없음.\n",
      "  해결 방안: 날 수 없는 상태나 조건을 체크하고 예외를 처리하는 로직을 추가하세요.\n",
      "요약: Bird 클래스는 기능적으로 적절하나, fly 메소드에 대한 예외 처리가 부족해 보완이 필요합니다.\n",
      "--------------------------------------------------\n",
      "파일명: ./temp_repo/world.py\n",
      "- 문제: 동물 추가 시 발생할 수 있는 예외에 대한 피드백 개선 필요.\n",
      "  해결 방안: 동물 추가 과정에서 실수를 방지하기 위해 More detailed error messages를 제공하고, 로그를 추가하여 추적할 수 있도록 하세요.\n",
      "요약: World 클래스는 동물 추가 및 시뮬레이션을 잘 관리하고 있으나, 오류 처리 및 피드백 방법 개선이 필요합니다.\n",
      "--------------------------------------------------\n",
      "maintainability 리뷰 결과:\n",
      "파일명: cat.py\n",
      "- 문제: scratch 메서드에서 item 파라미터와 self.item 참조의 불일치\n",
      "  해결 방안: self.item을 item으로 수정해야 합니다:\n",
      "print(\"{0}이(가) {1}을(를) 긁습니다.\".format(self.name, item))\n",
      "- 문제: 일관성 없는 문자열 포매팅 스타일\n",
      "  해결 방안: f-string으로 통일하는 것을 권장합니다:\n",
      "print(f\"색깔: {self.color}\")\n",
      "요약: Cat 클래스는 Animal을 상속받아 구현되었으며, 고양이의 고유 특성인 색상과 긁기 행동을 정의합니다. 기본적인 SOLID 원칙을 준수하고 있으나 몇 가지 개선이 필요합니다.\n",
      "--------------------------------------------------\n",
      "파일명: dog.py\n",
      "- 문제: fetch 메서드의 불필요한 지연 로직\n",
      "  해결 방안: 의미 없는 for 루프 제거:\n",
      "def fetch(self, item):\n",
      "    print(f\"{self.name}이(가) {item}을(를) 가져옵니다!\")\n",
      "- 문제: 단일 책임 원칙(SRP) 위반 가능성\n",
      "  해결 방안: fetch 동작을 별도의 FetchBehavior 클래스로 분리하는 것을 고려해볼 수 있습니다.\n",
      "요약: Dog 클래스는 Animal을 상속받아 구현되었으며, 개의 고유 특성인 품종과 물건 가져오기 행동을 정의합니다. 일부 성능 및 설계 이슈가 있습니다.\n",
      "--------------------------------------------------\n",
      "파일명: animal.py\n",
      "- 문제: sound 속성의 초기화 위치\n",
      "  해결 방안: sound를 추상 프로퍼티로 정의하여 자식 클래스에서 반드시 구현하도록 강제하는 것이 더 좋습니다:\n",
      "@property\n",
      "@abstractmethod\n",
      "def sound(self):\n",
      "    pass\n",
      "요약: 동물의 기본 특성을 정의하는 기반 클래스입니다. LSP와 OCP를 잘 준수하고 있으나, 일부 개선 사항이 있습니다.\n",
      "--------------------------------------------------\n",
      "파일명: bird.py\n",
      "- 문제: 하드코딩된 문자열 연산\n",
      "  해결 방안: fly 메서드의 \"!\" * 1은 불필요합니다. 단순히 문자열에서 제거하는 것이 좋습니다.\n",
      "요약: Bird 클래스는 Animal을 상속받아 구현되었으며, 새의 고유 특성인 날개 길이와 나는 행동을 정의합니다. 코드가 단순하나 개선이 필요한 부분이 있습니다.\n",
      "--------------------------------------------------\n",
      "파일명: world.py\n",
      "- 문제: OCP(개방-폐쇄 원칙) 위반\n",
      "  해결 방안: 새로운 동물 타입이 추가될 때마다 simulate 메서드를 수정해야 합니다. 행동을 인터페이스로 추상화하고 다형성을 활용하는 것이 좋습니다.\n",
      "- 문제: 타입 체크를 통한 분기 처리\n",
      "  해결 방안: isinstance 체크 대신 각 동물 클래스에 perform_action과 같은 공통 인터페이스를 정의하고 다형성을 활용하는 것이 좋습니다.\n",
      "- 문제: DIP(의존성 역전 원칙) 위반\n",
      "  해결 방안: 구체적인 클래스(Dog, Cat, Bird)가 아닌 추상화된 인터페이스에 의존하도록 수정해야 합니다.\n",
      "요약: World 클래스는 동물들을 관리하고 시뮬레이션하는 역할을 합니다. OCP와 DIP를 위반하는 심각한 설계 이슈가 있습니다.\n",
      "--------------------------------------------------\n",
      "프리미엄 코드 리뷰 완료\n"
     ]
    }
   ],
   "source": [
    "import asyncio\n",
    "\n",
    "async def invoke_async(service_name, chain, input_data):\n",
    "    review_result = await chain.ainvoke(input_data)\n",
    "    print(f\"{service_name} 리뷰 결과:\")\n",
    "    for review in review_result.reviews:\n",
    "        print(f\"파일명: {review.file_name}\")\n",
    "        for issue in review.issues:\n",
    "            print(f\"- 문제: {issue.issue}\")\n",
    "            print(f\"  해결 방안: {issue.suggestion}\")\n",
    "        print(f\"요약: {review.summary}\")\n",
    "        print(\"-\" * 50)\n",
    "\n",
    "async def invoke_parallel(chains, input_data):\n",
    "    tasks = [invoke_async(premium_service[idx], chain, input_data) for idx, chain in enumerate(chains)]\n",
    "    await asyncio.gather(*tasks)\n",
    "\n",
    "input_code = search_by_filename('cat.py', vector_store)\n",
    "\n",
    "print(\"프리미엄 코드 리뷰 시작\")\n",
    "await invoke_parallel(premium_chains, input_code)\n",
    "print(\"프리미엄 코드 리뷰 완료\")"
   ],
   "metadata": {
    "collapsed": false
   }
  }
 ],
 "metadata": {
  "kernelspec": {
   "display_name": "Python 3",
   "language": "python",
   "name": "python3"
  },
  "language_info": {
   "codemirror_mode": {
    "name": "ipython",
    "version": 2
   },
   "file_extension": ".py",
   "mimetype": "text/x-python",
   "name": "python",
   "nbconvert_exporter": "python",
   "pygments_lexer": "ipython2",
   "version": "2.7.6"
  }
 },
 "nbformat": 4,
 "nbformat_minor": 0
}
