{
 "cells": [
  {
   "cell_type": "code",
   "execution_count": 60,
   "outputs": [
    {
     "name": "stdout",
     "output_type": "stream",
     "text": [
      "Requirement already satisfied: langchain in /opt/miniconda3/envs/hanghae99/lib/python3.10/site-packages (0.3.14)\r\n",
      "Requirement already satisfied: langchain-community in /opt/miniconda3/envs/hanghae99/lib/python3.10/site-packages (0.3.14)\r\n",
      "Requirement already satisfied: langchain-openai in /opt/miniconda3/envs/hanghae99/lib/python3.10/site-packages (0.3.0)\r\n",
      "Requirement already satisfied: langchain-anthropic in /opt/miniconda3/envs/hanghae99/lib/python3.10/site-packages (0.3.1)\r\n",
      "Requirement already satisfied: chromadb in /opt/miniconda3/envs/hanghae99/lib/python3.10/site-packages (0.5.23)\r\n",
      "Requirement already satisfied: gitpython in /opt/miniconda3/envs/hanghae99/lib/python3.10/site-packages (3.1.44)\r\n",
      "Requirement already satisfied: PyYAML>=5.3 in /opt/miniconda3/envs/hanghae99/lib/python3.10/site-packages (from langchain) (6.0.2)\r\n",
      "Requirement already satisfied: SQLAlchemy<3,>=1.4 in /opt/miniconda3/envs/hanghae99/lib/python3.10/site-packages (from langchain) (2.0.37)\r\n",
      "Requirement already satisfied: aiohttp<4.0.0,>=3.8.3 in /opt/miniconda3/envs/hanghae99/lib/python3.10/site-packages (from langchain) (3.11.11)\r\n",
      "Requirement already satisfied: async-timeout<5.0.0,>=4.0.0 in /opt/miniconda3/envs/hanghae99/lib/python3.10/site-packages (from langchain) (4.0.3)\r\n",
      "Requirement already satisfied: langchain-core<0.4.0,>=0.3.29 in /opt/miniconda3/envs/hanghae99/lib/python3.10/site-packages (from langchain) (0.3.29)\r\n",
      "Requirement already satisfied: langchain-text-splitters<0.4.0,>=0.3.3 in /opt/miniconda3/envs/hanghae99/lib/python3.10/site-packages (from langchain) (0.3.5)\r\n",
      "Requirement already satisfied: langsmith<0.3,>=0.1.17 in /opt/miniconda3/envs/hanghae99/lib/python3.10/site-packages (from langchain) (0.2.10)\r\n",
      "Requirement already satisfied: numpy<2,>=1.22.4 in /opt/miniconda3/envs/hanghae99/lib/python3.10/site-packages (from langchain) (1.26.4)\r\n",
      "Requirement already satisfied: pydantic<3.0.0,>=2.7.4 in /opt/miniconda3/envs/hanghae99/lib/python3.10/site-packages (from langchain) (2.10.4)\r\n",
      "Requirement already satisfied: requests<3,>=2 in /opt/miniconda3/envs/hanghae99/lib/python3.10/site-packages (from langchain) (2.32.3)\r\n",
      "Requirement already satisfied: tenacity!=8.4.0,<10,>=8.1.0 in /opt/miniconda3/envs/hanghae99/lib/python3.10/site-packages (from langchain) (9.0.0)\r\n",
      "Requirement already satisfied: dataclasses-json<0.7,>=0.5.7 in /opt/miniconda3/envs/hanghae99/lib/python3.10/site-packages (from langchain-community) (0.6.7)\r\n",
      "Requirement already satisfied: httpx-sse<0.5.0,>=0.4.0 in /opt/miniconda3/envs/hanghae99/lib/python3.10/site-packages (from langchain-community) (0.4.0)\r\n",
      "Requirement already satisfied: pydantic-settings<3.0.0,>=2.4.0 in /opt/miniconda3/envs/hanghae99/lib/python3.10/site-packages (from langchain-community) (2.7.1)\r\n",
      "Requirement already satisfied: openai<2.0.0,>=1.58.1 in /opt/miniconda3/envs/hanghae99/lib/python3.10/site-packages (from langchain-openai) (1.59.5)\r\n",
      "Requirement already satisfied: tiktoken<1,>=0.7 in /opt/miniconda3/envs/hanghae99/lib/python3.10/site-packages (from langchain-openai) (0.8.0)\r\n",
      "Requirement already satisfied: anthropic<1,>=0.41.0 in /opt/miniconda3/envs/hanghae99/lib/python3.10/site-packages (from langchain-anthropic) (0.43.0)\r\n",
      "Requirement already satisfied: defusedxml<0.8.0,>=0.7.1 in /opt/miniconda3/envs/hanghae99/lib/python3.10/site-packages (from langchain-anthropic) (0.7.1)\r\n",
      "Requirement already satisfied: build>=1.0.3 in /opt/miniconda3/envs/hanghae99/lib/python3.10/site-packages (from chromadb) (1.2.2.post1)\r\n",
      "Requirement already satisfied: chroma-hnswlib==0.7.6 in /opt/miniconda3/envs/hanghae99/lib/python3.10/site-packages (from chromadb) (0.7.6)\r\n",
      "Requirement already satisfied: fastapi>=0.95.2 in /opt/miniconda3/envs/hanghae99/lib/python3.10/site-packages (from chromadb) (0.115.6)\r\n",
      "Requirement already satisfied: uvicorn>=0.18.3 in /opt/miniconda3/envs/hanghae99/lib/python3.10/site-packages (from uvicorn[standard]>=0.18.3->chromadb) (0.34.0)\r\n",
      "Requirement already satisfied: posthog>=2.4.0 in /opt/miniconda3/envs/hanghae99/lib/python3.10/site-packages (from chromadb) (3.8.3)\r\n",
      "Requirement already satisfied: typing_extensions>=4.5.0 in /opt/miniconda3/envs/hanghae99/lib/python3.10/site-packages (from chromadb) (4.12.2)\r\n",
      "Requirement already satisfied: onnxruntime>=1.14.1 in /opt/miniconda3/envs/hanghae99/lib/python3.10/site-packages (from chromadb) (1.20.1)\r\n",
      "Requirement already satisfied: opentelemetry-api>=1.2.0 in /opt/miniconda3/envs/hanghae99/lib/python3.10/site-packages (from chromadb) (1.29.0)\r\n",
      "Requirement already satisfied: opentelemetry-exporter-otlp-proto-grpc>=1.2.0 in /opt/miniconda3/envs/hanghae99/lib/python3.10/site-packages (from chromadb) (1.29.0)\r\n",
      "Requirement already satisfied: opentelemetry-instrumentation-fastapi>=0.41b0 in /opt/miniconda3/envs/hanghae99/lib/python3.10/site-packages (from chromadb) (0.50b0)\r\n",
      "Requirement already satisfied: opentelemetry-sdk>=1.2.0 in /opt/miniconda3/envs/hanghae99/lib/python3.10/site-packages (from chromadb) (1.29.0)\r\n",
      "Requirement already satisfied: tokenizers<=0.20.3,>=0.13.2 in /opt/miniconda3/envs/hanghae99/lib/python3.10/site-packages (from chromadb) (0.20.3)\r\n",
      "Requirement already satisfied: pypika>=0.48.9 in /opt/miniconda3/envs/hanghae99/lib/python3.10/site-packages (from chromadb) (0.48.9)\r\n",
      "Requirement already satisfied: tqdm>=4.65.0 in /opt/miniconda3/envs/hanghae99/lib/python3.10/site-packages (from chromadb) (4.67.1)\r\n",
      "Requirement already satisfied: overrides>=7.3.1 in /opt/miniconda3/envs/hanghae99/lib/python3.10/site-packages (from chromadb) (7.4.0)\r\n",
      "Requirement already satisfied: importlib-resources in /opt/miniconda3/envs/hanghae99/lib/python3.10/site-packages (from chromadb) (6.5.2)\r\n",
      "Requirement already satisfied: grpcio>=1.58.0 in /opt/miniconda3/envs/hanghae99/lib/python3.10/site-packages (from chromadb) (1.69.0)\r\n",
      "Requirement already satisfied: bcrypt>=4.0.1 in /opt/miniconda3/envs/hanghae99/lib/python3.10/site-packages (from chromadb) (4.2.1)\r\n",
      "Requirement already satisfied: typer>=0.9.0 in /opt/miniconda3/envs/hanghae99/lib/python3.10/site-packages (from chromadb) (0.15.1)\r\n",
      "Requirement already satisfied: kubernetes>=28.1.0 in /opt/miniconda3/envs/hanghae99/lib/python3.10/site-packages (from chromadb) (31.0.0)\r\n",
      "Requirement already satisfied: mmh3>=4.0.1 in /opt/miniconda3/envs/hanghae99/lib/python3.10/site-packages (from chromadb) (5.0.1)\r\n",
      "Requirement already satisfied: orjson>=3.9.12 in /opt/miniconda3/envs/hanghae99/lib/python3.10/site-packages (from chromadb) (3.10.14)\r\n",
      "Requirement already satisfied: httpx>=0.27.0 in /opt/miniconda3/envs/hanghae99/lib/python3.10/site-packages (from chromadb) (0.27.0)\r\n",
      "Requirement already satisfied: rich>=10.11.0 in /opt/miniconda3/envs/hanghae99/lib/python3.10/site-packages (from chromadb) (13.9.4)\r\n",
      "Requirement already satisfied: gitdb<5,>=4.0.1 in /opt/miniconda3/envs/hanghae99/lib/python3.10/site-packages (from gitpython) (4.0.12)\r\n",
      "Requirement already satisfied: aiohappyeyeballs>=2.3.0 in /opt/miniconda3/envs/hanghae99/lib/python3.10/site-packages (from aiohttp<4.0.0,>=3.8.3->langchain) (2.4.4)\r\n",
      "Requirement already satisfied: aiosignal>=1.1.2 in /opt/miniconda3/envs/hanghae99/lib/python3.10/site-packages (from aiohttp<4.0.0,>=3.8.3->langchain) (1.3.2)\r\n",
      "Requirement already satisfied: attrs>=17.3.0 in /opt/miniconda3/envs/hanghae99/lib/python3.10/site-packages (from aiohttp<4.0.0,>=3.8.3->langchain) (24.2.0)\r\n",
      "Requirement already satisfied: frozenlist>=1.1.1 in /opt/miniconda3/envs/hanghae99/lib/python3.10/site-packages (from aiohttp<4.0.0,>=3.8.3->langchain) (1.5.0)\r\n",
      "Requirement already satisfied: multidict<7.0,>=4.5 in /opt/miniconda3/envs/hanghae99/lib/python3.10/site-packages (from aiohttp<4.0.0,>=3.8.3->langchain) (6.1.0)\r\n",
      "Requirement already satisfied: propcache>=0.2.0 in /opt/miniconda3/envs/hanghae99/lib/python3.10/site-packages (from aiohttp<4.0.0,>=3.8.3->langchain) (0.2.1)\r\n",
      "Requirement already satisfied: yarl<2.0,>=1.17.0 in /opt/miniconda3/envs/hanghae99/lib/python3.10/site-packages (from aiohttp<4.0.0,>=3.8.3->langchain) (1.18.3)\r\n",
      "Requirement already satisfied: anyio<5,>=3.5.0 in /opt/miniconda3/envs/hanghae99/lib/python3.10/site-packages (from anthropic<1,>=0.41.0->langchain-anthropic) (4.6.2)\r\n",
      "Requirement already satisfied: distro<2,>=1.7.0 in /opt/miniconda3/envs/hanghae99/lib/python3.10/site-packages (from anthropic<1,>=0.41.0->langchain-anthropic) (1.9.0)\r\n",
      "Requirement already satisfied: jiter<1,>=0.4.0 in /opt/miniconda3/envs/hanghae99/lib/python3.10/site-packages (from anthropic<1,>=0.41.0->langchain-anthropic) (0.8.2)\r\n",
      "Requirement already satisfied: sniffio in /opt/miniconda3/envs/hanghae99/lib/python3.10/site-packages (from anthropic<1,>=0.41.0->langchain-anthropic) (1.3.0)\r\n",
      "Requirement already satisfied: packaging>=19.1 in /opt/miniconda3/envs/hanghae99/lib/python3.10/site-packages (from build>=1.0.3->chromadb) (24.1)\r\n",
      "Requirement already satisfied: pyproject_hooks in /opt/miniconda3/envs/hanghae99/lib/python3.10/site-packages (from build>=1.0.3->chromadb) (1.2.0)\r\n",
      "Requirement already satisfied: tomli>=1.1.0 in /opt/miniconda3/envs/hanghae99/lib/python3.10/site-packages (from build>=1.0.3->chromadb) (2.0.1)\r\n",
      "Requirement already satisfied: marshmallow<4.0.0,>=3.18.0 in /opt/miniconda3/envs/hanghae99/lib/python3.10/site-packages (from dataclasses-json<0.7,>=0.5.7->langchain-community) (3.25.1)\r\n",
      "Requirement already satisfied: typing-inspect<1,>=0.4.0 in /opt/miniconda3/envs/hanghae99/lib/python3.10/site-packages (from dataclasses-json<0.7,>=0.5.7->langchain-community) (0.9.0)\r\n",
      "Requirement already satisfied: starlette<0.42.0,>=0.40.0 in /opt/miniconda3/envs/hanghae99/lib/python3.10/site-packages (from fastapi>=0.95.2->chromadb) (0.41.3)\r\n",
      "Requirement already satisfied: smmap<6,>=3.0.1 in /opt/miniconda3/envs/hanghae99/lib/python3.10/site-packages (from gitdb<5,>=4.0.1->gitpython) (5.0.2)\r\n",
      "Requirement already satisfied: certifi in /opt/miniconda3/envs/hanghae99/lib/python3.10/site-packages (from httpx>=0.27.0->chromadb) (2024.12.14)\r\n",
      "Requirement already satisfied: httpcore==1.* in /opt/miniconda3/envs/hanghae99/lib/python3.10/site-packages (from httpx>=0.27.0->chromadb) (1.0.2)\r\n",
      "Requirement already satisfied: idna in /opt/miniconda3/envs/hanghae99/lib/python3.10/site-packages (from httpx>=0.27.0->chromadb) (3.7)\r\n",
      "Requirement already satisfied: h11<0.15,>=0.13 in /opt/miniconda3/envs/hanghae99/lib/python3.10/site-packages (from httpcore==1.*->httpx>=0.27.0->chromadb) (0.14.0)\r\n",
      "Requirement already satisfied: six>=1.9.0 in /opt/miniconda3/envs/hanghae99/lib/python3.10/site-packages (from kubernetes>=28.1.0->chromadb) (1.16.0)\r\n",
      "Requirement already satisfied: python-dateutil>=2.5.3 in /opt/miniconda3/envs/hanghae99/lib/python3.10/site-packages (from kubernetes>=28.1.0->chromadb) (2.9.0.post0)\r\n",
      "Requirement already satisfied: google-auth>=1.0.1 in /opt/miniconda3/envs/hanghae99/lib/python3.10/site-packages (from kubernetes>=28.1.0->chromadb) (2.37.0)\r\n",
      "Requirement already satisfied: websocket-client!=0.40.0,!=0.41.*,!=0.42.*,>=0.32.0 in /opt/miniconda3/envs/hanghae99/lib/python3.10/site-packages (from kubernetes>=28.1.0->chromadb) (1.8.0)\r\n",
      "Requirement already satisfied: requests-oauthlib in /opt/miniconda3/envs/hanghae99/lib/python3.10/site-packages (from kubernetes>=28.1.0->chromadb) (2.0.0)\r\n",
      "Requirement already satisfied: oauthlib>=3.2.2 in /opt/miniconda3/envs/hanghae99/lib/python3.10/site-packages (from kubernetes>=28.1.0->chromadb) (3.2.2)\r\n",
      "Requirement already satisfied: urllib3>=1.24.2 in /opt/miniconda3/envs/hanghae99/lib/python3.10/site-packages (from kubernetes>=28.1.0->chromadb) (2.2.3)\r\n",
      "Requirement already satisfied: durationpy>=0.7 in /opt/miniconda3/envs/hanghae99/lib/python3.10/site-packages (from kubernetes>=28.1.0->chromadb) (0.9)\r\n",
      "Requirement already satisfied: jsonpatch<2.0,>=1.33 in /opt/miniconda3/envs/hanghae99/lib/python3.10/site-packages (from langchain-core<0.4.0,>=0.3.29->langchain) (1.33)\r\n",
      "Requirement already satisfied: requests-toolbelt<2.0.0,>=1.0.0 in /opt/miniconda3/envs/hanghae99/lib/python3.10/site-packages (from langsmith<0.3,>=0.1.17->langchain) (1.0.0)\r\n",
      "Requirement already satisfied: coloredlogs in /opt/miniconda3/envs/hanghae99/lib/python3.10/site-packages (from onnxruntime>=1.14.1->chromadb) (15.0.1)\r\n",
      "Requirement already satisfied: flatbuffers in /opt/miniconda3/envs/hanghae99/lib/python3.10/site-packages (from onnxruntime>=1.14.1->chromadb) (24.12.23)\r\n",
      "Requirement already satisfied: protobuf in /opt/miniconda3/envs/hanghae99/lib/python3.10/site-packages (from onnxruntime>=1.14.1->chromadb) (5.29.3)\r\n",
      "Requirement already satisfied: sympy in /opt/miniconda3/envs/hanghae99/lib/python3.10/site-packages (from onnxruntime>=1.14.1->chromadb) (1.13.1)\r\n",
      "Requirement already satisfied: deprecated>=1.2.6 in /opt/miniconda3/envs/hanghae99/lib/python3.10/site-packages (from opentelemetry-api>=1.2.0->chromadb) (1.2.15)\r\n",
      "Requirement already satisfied: importlib-metadata<=8.5.0,>=6.0 in /opt/miniconda3/envs/hanghae99/lib/python3.10/site-packages (from opentelemetry-api>=1.2.0->chromadb) (8.5.0)\r\n",
      "Requirement already satisfied: googleapis-common-protos~=1.52 in /opt/miniconda3/envs/hanghae99/lib/python3.10/site-packages (from opentelemetry-exporter-otlp-proto-grpc>=1.2.0->chromadb) (1.66.0)\r\n",
      "Requirement already satisfied: opentelemetry-exporter-otlp-proto-common==1.29.0 in /opt/miniconda3/envs/hanghae99/lib/python3.10/site-packages (from opentelemetry-exporter-otlp-proto-grpc>=1.2.0->chromadb) (1.29.0)\r\n",
      "Requirement already satisfied: opentelemetry-proto==1.29.0 in /opt/miniconda3/envs/hanghae99/lib/python3.10/site-packages (from opentelemetry-exporter-otlp-proto-grpc>=1.2.0->chromadb) (1.29.0)\r\n",
      "Requirement already satisfied: opentelemetry-instrumentation-asgi==0.50b0 in /opt/miniconda3/envs/hanghae99/lib/python3.10/site-packages (from opentelemetry-instrumentation-fastapi>=0.41b0->chromadb) (0.50b0)\r\n",
      "Requirement already satisfied: opentelemetry-instrumentation==0.50b0 in /opt/miniconda3/envs/hanghae99/lib/python3.10/site-packages (from opentelemetry-instrumentation-fastapi>=0.41b0->chromadb) (0.50b0)\r\n",
      "Requirement already satisfied: opentelemetry-semantic-conventions==0.50b0 in /opt/miniconda3/envs/hanghae99/lib/python3.10/site-packages (from opentelemetry-instrumentation-fastapi>=0.41b0->chromadb) (0.50b0)\r\n",
      "Requirement already satisfied: opentelemetry-util-http==0.50b0 in /opt/miniconda3/envs/hanghae99/lib/python3.10/site-packages (from opentelemetry-instrumentation-fastapi>=0.41b0->chromadb) (0.50b0)\r\n",
      "Requirement already satisfied: wrapt<2.0.0,>=1.0.0 in /opt/miniconda3/envs/hanghae99/lib/python3.10/site-packages (from opentelemetry-instrumentation==0.50b0->opentelemetry-instrumentation-fastapi>=0.41b0->chromadb) (1.17.2)\r\n",
      "Requirement already satisfied: asgiref~=3.0 in /opt/miniconda3/envs/hanghae99/lib/python3.10/site-packages (from opentelemetry-instrumentation-asgi==0.50b0->opentelemetry-instrumentation-fastapi>=0.41b0->chromadb) (3.8.1)\r\n",
      "Requirement already satisfied: monotonic>=1.5 in /opt/miniconda3/envs/hanghae99/lib/python3.10/site-packages (from posthog>=2.4.0->chromadb) (1.6)\r\n",
      "Requirement already satisfied: backoff>=1.10.0 in /opt/miniconda3/envs/hanghae99/lib/python3.10/site-packages (from posthog>=2.4.0->chromadb) (2.2.1)\r\n",
      "Requirement already satisfied: annotated-types>=0.6.0 in /opt/miniconda3/envs/hanghae99/lib/python3.10/site-packages (from pydantic<3.0.0,>=2.7.4->langchain) (0.7.0)\r\n",
      "Requirement already satisfied: pydantic-core==2.27.2 in /opt/miniconda3/envs/hanghae99/lib/python3.10/site-packages (from pydantic<3.0.0,>=2.7.4->langchain) (2.27.2)\r\n",
      "Requirement already satisfied: python-dotenv>=0.21.0 in /opt/miniconda3/envs/hanghae99/lib/python3.10/site-packages (from pydantic-settings<3.0.0,>=2.4.0->langchain-community) (1.0.1)\r\n",
      "Requirement already satisfied: charset-normalizer<4,>=2 in /opt/miniconda3/envs/hanghae99/lib/python3.10/site-packages (from requests<3,>=2->langchain) (3.3.2)\r\n",
      "Requirement already satisfied: markdown-it-py>=2.2.0 in /opt/miniconda3/envs/hanghae99/lib/python3.10/site-packages (from rich>=10.11.0->chromadb) (3.0.0)\r\n",
      "Requirement already satisfied: pygments<3.0.0,>=2.13.0 in /opt/miniconda3/envs/hanghae99/lib/python3.10/site-packages (from rich>=10.11.0->chromadb) (2.15.1)\r\n",
      "Requirement already satisfied: regex>=2022.1.18 in /opt/miniconda3/envs/hanghae99/lib/python3.10/site-packages (from tiktoken<1,>=0.7->langchain-openai) (2024.11.6)\r\n",
      "Requirement already satisfied: huggingface-hub<1.0,>=0.16.4 in /opt/miniconda3/envs/hanghae99/lib/python3.10/site-packages (from tokenizers<=0.20.3,>=0.13.2->chromadb) (0.27.1)\r\n",
      "Requirement already satisfied: click>=8.0.0 in /opt/miniconda3/envs/hanghae99/lib/python3.10/site-packages (from typer>=0.9.0->chromadb) (8.1.8)\r\n",
      "Requirement already satisfied: shellingham>=1.3.0 in /opt/miniconda3/envs/hanghae99/lib/python3.10/site-packages (from typer>=0.9.0->chromadb) (1.5.4)\r\n",
      "Requirement already satisfied: httptools>=0.6.3 in /opt/miniconda3/envs/hanghae99/lib/python3.10/site-packages (from uvicorn[standard]>=0.18.3->chromadb) (0.6.4)\r\n",
      "Requirement already satisfied: uvloop!=0.15.0,!=0.15.1,>=0.14.0 in /opt/miniconda3/envs/hanghae99/lib/python3.10/site-packages (from uvicorn[standard]>=0.18.3->chromadb) (0.21.0)\r\n",
      "Requirement already satisfied: watchfiles>=0.13 in /opt/miniconda3/envs/hanghae99/lib/python3.10/site-packages (from uvicorn[standard]>=0.18.3->chromadb) (1.0.4)\r\n",
      "Requirement already satisfied: websockets>=10.4 in /opt/miniconda3/envs/hanghae99/lib/python3.10/site-packages (from uvicorn[standard]>=0.18.3->chromadb) (14.1)\r\n",
      "Requirement already satisfied: exceptiongroup>=1.0.2 in /opt/miniconda3/envs/hanghae99/lib/python3.10/site-packages (from anyio<5,>=3.5.0->anthropic<1,>=0.41.0->langchain-anthropic) (1.2.0)\r\n",
      "Requirement already satisfied: cachetools<6.0,>=2.0.0 in /opt/miniconda3/envs/hanghae99/lib/python3.10/site-packages (from google-auth>=1.0.1->kubernetes>=28.1.0->chromadb) (5.5.0)\r\n",
      "Requirement already satisfied: pyasn1-modules>=0.2.1 in /opt/miniconda3/envs/hanghae99/lib/python3.10/site-packages (from google-auth>=1.0.1->kubernetes>=28.1.0->chromadb) (0.4.1)\r\n",
      "Requirement already satisfied: rsa<5,>=3.1.4 in /opt/miniconda3/envs/hanghae99/lib/python3.10/site-packages (from google-auth>=1.0.1->kubernetes>=28.1.0->chromadb) (4.9)\r\n",
      "Requirement already satisfied: filelock in /opt/miniconda3/envs/hanghae99/lib/python3.10/site-packages (from huggingface-hub<1.0,>=0.16.4->tokenizers<=0.20.3,>=0.13.2->chromadb) (3.13.1)\r\n",
      "Requirement already satisfied: fsspec>=2023.5.0 in /opt/miniconda3/envs/hanghae99/lib/python3.10/site-packages (from huggingface-hub<1.0,>=0.16.4->tokenizers<=0.20.3,>=0.13.2->chromadb) (2024.9.0)\r\n",
      "Requirement already satisfied: zipp>=3.20 in /opt/miniconda3/envs/hanghae99/lib/python3.10/site-packages (from importlib-metadata<=8.5.0,>=6.0->opentelemetry-api>=1.2.0->chromadb) (3.21.0)\r\n",
      "Requirement already satisfied: jsonpointer>=1.9 in /opt/miniconda3/envs/hanghae99/lib/python3.10/site-packages (from jsonpatch<2.0,>=1.33->langchain-core<0.4.0,>=0.3.29->langchain) (3.0.0)\r\n",
      "Requirement already satisfied: mdurl~=0.1 in /opt/miniconda3/envs/hanghae99/lib/python3.10/site-packages (from markdown-it-py>=2.2.0->rich>=10.11.0->chromadb) (0.1.2)\r\n",
      "Requirement already satisfied: mypy-extensions>=0.3.0 in /opt/miniconda3/envs/hanghae99/lib/python3.10/site-packages (from typing-inspect<1,>=0.4.0->dataclasses-json<0.7,>=0.5.7->langchain-community) (1.0.0)\r\n",
      "Requirement already satisfied: humanfriendly>=9.1 in /opt/miniconda3/envs/hanghae99/lib/python3.10/site-packages (from coloredlogs->onnxruntime>=1.14.1->chromadb) (10.0)\r\n",
      "Requirement already satisfied: mpmath<1.4,>=1.1.0 in /opt/miniconda3/envs/hanghae99/lib/python3.10/site-packages (from sympy->onnxruntime>=1.14.1->chromadb) (1.3.0)\r\n",
      "Requirement already satisfied: pyasn1<0.7.0,>=0.4.6 in /opt/miniconda3/envs/hanghae99/lib/python3.10/site-packages (from pyasn1-modules>=0.2.1->google-auth>=1.0.1->kubernetes>=28.1.0->chromadb) (0.6.1)\r\n"
     ]
    }
   ],
   "source": [
    "!pip install langchain langchain-community langchain langchain-openai langchain-anthropic chromadb gitpython"
   ],
   "metadata": {
    "collapsed": false
   }
  },
  {
   "cell_type": "markdown",
   "source": [
    "# 코드 리뷰 LLM 서비스\n",
    "---"
   ],
   "metadata": {
    "collapsed": false
   }
  },
  {
   "cell_type": "markdown",
   "source": [
    "# 1. 환경 변수 로드"
   ],
   "metadata": {
    "collapsed": false
   }
  },
  {
   "cell_type": "code",
   "execution_count": 61,
   "outputs": [],
   "source": [
    "from dotenv import load_dotenv\n",
    "import os\n",
    "\n",
    "load_dotenv()\n",
    "\n",
    "class Config:\n",
    "    OPENAI_API_KEY = os.environ['OPENAI_API_KEY']\n",
    "    ANTHROPIC_API_KEY = os.environ['ANTHROPIC_API_KEY']\n",
    "    PINECONE_API_KEY = os.environ['PINECONE_API_KEY']\n",
    "    CHROMA_DB_PATH = os.environ['CHROMA_DB_PATH']"
   ],
   "metadata": {
    "collapsed": false
   }
  },
  {
   "cell_type": "markdown",
   "source": [
    "---\n",
    "# 2. LLM(OpenAI, Anthropic)"
   ],
   "metadata": {
    "collapsed": false
   }
  },
  {
   "cell_type": "code",
   "execution_count": 62,
   "outputs": [],
   "source": [
    "from langchain_openai import ChatOpenAI\n",
    "from langchain_anthropic import ChatAnthropic\n",
    "\n",
    "openai_llm = ChatOpenAI(model=\"gpt-4o-mini\", api_key=Config.OPENAI_API_KEY)\n",
    "anthropic_llm = ChatAnthropic(model_name=\"claude-3-5-sonnet-20241022\", api_key=Config.ANTHROPIC_API_KEY)"
   ],
   "metadata": {
    "collapsed": false
   }
  },
  {
   "cell_type": "markdown",
   "source": [
    "---\n",
    "# 3. Embedding(OpenAI)"
   ],
   "metadata": {
    "collapsed": false
   }
  },
  {
   "cell_type": "code",
   "execution_count": 63,
   "outputs": [],
   "source": [
    "from langchain.embeddings import OpenAIEmbeddings\n",
    "embeddings = OpenAIEmbeddings(openai_api_key=Config.OPENAI_API_KEY)"
   ],
   "metadata": {
    "collapsed": false
   }
  },
  {
   "cell_type": "markdown",
   "source": [
    "---\n",
    "# 4. VectorStore(ChromaDB)"
   ],
   "metadata": {
    "collapsed": false
   }
  },
  {
   "cell_type": "code",
   "execution_count": 64,
   "outputs": [],
   "source": [
    "from langchain.vectorstores import Chroma\n",
    "\n",
    "vector_store = Chroma(persist_directory=Config.CHROMA_DB_PATH, embedding_function=embeddings)"
   ],
   "metadata": {
    "collapsed": false
   }
  },
  {
   "cell_type": "markdown",
   "source": [
    "---\n",
    "# 5. Github repository -> Store"
   ],
   "metadata": {
    "collapsed": false
   }
  },
  {
   "cell_type": "code",
   "execution_count": 65,
   "outputs": [],
   "source": [
    "from git import Repo\n",
    "import hashlib\n",
    "\n",
    "# GitHub 레포지토리를 로컬로 클론\n",
    "def clone_github_repo(repo_url, local_path):\n",
    "    if os.path.exists(local_path):\n",
    "        print(\"로컬에 이미 레포지토리가 존재합니다. 변경 사항을 pull합니다.\")\n",
    "        repo = Repo(local_path)\n",
    "        repo.remotes.origin.pull()\n",
    "    else:\n",
    "        print(f\"Cloning {repo_url} into {local_path}...\")\n",
    "        Repo.clone_from(repo_url, local_path)\n",
    "    print(\"레포지토리 클론 또는 업데이트 완료!\")\n",
    "\n",
    "# 레포지토리 내 Python 파일 경로를 찾기\n",
    "def find_python_files(repo_path):\n",
    "    python_files = []\n",
    "    for root, _, files in os.walk(repo_path):\n",
    "        for file in files:\n",
    "            if file.endswith(\".py\"):\n",
    "                python_files.append(os.path.join(root, file))\n",
    "    return python_files\n",
    "\n",
    "# 파일의 해시값(SHA256)을 계산\n",
    "def calculate_file_hash(file_path):\n",
    "    sha256 = hashlib.sha256()\n",
    "    with open(file_path, \"rb\") as f:\n",
    "        while chunk := f.read(8192):\n",
    "            sha256.update(chunk)\n",
    "    return sha256.hexdigest()\n",
    "\n",
    "# 파일이 업데이트되었는지 확인\n",
    "def is_file_updated(file_path, vector_store):\n",
    "    file_hash = calculate_file_hash(file_path)\n",
    "    # Chroma에서 해당 파일의 메타데이터 검색\n",
    "    results = vector_store.similarity_search(file_path, k=1, filter={\"file_path\": file_path})\n",
    "    if results:\n",
    "        # 저장된 해시값과 비교\n",
    "        return results[0].metadata.get(\"file_hash\") != file_hash\n",
    "    return True\n",
    "\n",
    "# Python 파일을 읽어 벡터화하고 Chroma DB에 저장\n",
    "def store_python_files_in_chroma(file_paths, vector_store):\n",
    "    for file_path in file_paths:\n",
    "        try:\n",
    "            if not is_file_updated(file_path, vector_store):\n",
    "                print(f\"파일이 변경되지 않았습니다. 건너뜁니다: {file_path}\")\n",
    "                continue\n",
    "\n",
    "            with open(file_path, \"r\", encoding=\"utf-8\") as file:\n",
    "                code_content = file.read()\n",
    "\n",
    "            # 파일 메타데이터 생성\n",
    "            metadata = {\n",
    "                \"file_path\": file_path,\n",
    "                \"file_hash\": calculate_file_hash(file_path)\n",
    "            }\n",
    "\n",
    "            # 벡터 스토어에 추가\n",
    "            vector_store.add_texts([code_content], metadatas=[metadata])\n",
    "            print(f\"{file_path} 저장 완료!\")\n",
    "        except Exception as e:\n",
    "            print(f\"파일 처리 중 오류 발생: {file_path}, 오류: {e}\")\n",
    "    vector_store.persist()\n",
    "    print(\"Chroma DB에 모든 파일 저장 완료!\")\n",
    "\n",
    "# Chroma DB에 저장된 모든 코드 파일의 메타데이터와 내용을 출력합니다.\n",
    "def list_all_files_with_content(vector_store):\n",
    "    try:\n",
    "        results = vector_store.get(include=[\"metadatas\", \"documents\"])\n",
    "\n",
    "        print(\"저장된 코드 파일과 내용:\")\n",
    "        for i, (metadata, document) in enumerate(zip(results[\"metadatas\"], results[\"documents\"]), 1):\n",
    "            file_path = metadata.get(\"file_path\", \"Unknown\")\n",
    "            print(f\"{i}. 파일 경로: {file_path}\")\n",
    "            print(\"내용:\")\n",
    "            print(document[:300])  # 첫 300자만 출력\n",
    "            print(\"-\" * 50)\n",
    "    except Exception as e:\n",
    "        print(f\"전체 파일 목록 및 내용 출력 중 오류 발생: {e}\")\n",
    "\n",
    "# 파일명을 기준으로 Chroma DB에서 내용을 검색하고 반환.\n",
    "def search_by_filename(file_name, vector_store):\n",
    "    try:\n",
    "        # Chroma DB의 모든 데이터를 가져옵니다.\n",
    "        results = vector_store.get(include=[\"metadatas\", \"documents\"])\n",
    "\n",
    "        matching_files = []\n",
    "        for metadata, document in zip(results[\"metadatas\"], results[\"documents\"]):\n",
    "            if file_name in metadata.get(\"file_path\", \"\"):\n",
    "                matching_files.append((metadata, document))\n",
    "\n",
    "        if matching_files:\n",
    "            return matching_files[0][1]\n",
    "        else:\n",
    "            print(f\"파일명 '{file_name}'이(가) DB에 존재하지 않습니다.\")\n",
    "            return None\n",
    "    except Exception as e:\n",
    "        print(f\"파일명으로 검색 중 오류 발생: {e}\")"
   ],
   "metadata": {
    "collapsed": false
   }
  },
  {
   "cell_type": "code",
   "execution_count": 66,
   "outputs": [
    {
     "name": "stdout",
     "output_type": "stream",
     "text": [
      "로컬에 이미 레포지토리가 존재합니다. 변경 사항을 pull합니다.\n",
      "레포지토리 클론 또는 업데이트 완료!\n",
      "찾은 Python 파일 수: 8\n",
      "파일이 변경되지 않았습니다. 건너뜁니다: ./temp_repo/world.py\n",
      "파일이 변경되지 않았습니다. 건너뜁니다: ./temp_repo/cat.py\n",
      "파일이 변경되지 않았습니다. 건너뜁니다: ./temp_repo/text_processor.py\n",
      "파일이 변경되지 않았습니다. 건너뜁니다: ./temp_repo/bird.py\n",
      "파일이 변경되지 않았습니다. 건너뜁니다: ./temp_repo/animal.py\n",
      "파일이 변경되지 않았습니다. 건너뜁니다: ./temp_repo/calculator.py\n",
      "파일이 변경되지 않았습니다. 건너뜁니다: ./temp_repo/dog.py\n",
      "파일이 변경되지 않았습니다. 건너뜁니다: ./temp_repo/main.py\n",
      "Chroma DB에 모든 파일 저장 완료!\n"
     ]
    }
   ],
   "source": [
    "github_repo_url = 'https://github.com/adunStudio/codereviewexample'\n",
    "local_repo_path = \"./temp_repo\"\n",
    "\n",
    "# 1. GitHub 레포지토리 클론 또는 업데이트\n",
    "clone_github_repo(github_repo_url, local_repo_path)\n",
    "\n",
    "# 2. Python 파일 찾기\n",
    "python_files = find_python_files(local_repo_path)\n",
    "print(f\"찾은 Python 파일 수: {len(python_files)}\")\n",
    "\n",
    "# 3. Python 파일을 Chroma DB에 저장\n",
    "store_python_files_in_chroma(python_files, vector_store)\n",
    "\n",
    "#list_all_files_with_content(vector_store)"
   ],
   "metadata": {
    "collapsed": false
   }
  },
  {
   "cell_type": "markdown",
   "source": [
    "---\n",
    "# 6. Retriever"
   ],
   "metadata": {
    "collapsed": false
   }
  },
  {
   "cell_type": "code",
   "execution_count": 67,
   "outputs": [],
   "source": [
    "retriever = vector_store.as_retriever(search_kwargs={\"k\": 5})"
   ],
   "metadata": {
    "collapsed": false
   }
  },
  {
   "cell_type": "code",
   "execution_count": 68,
   "outputs": [
    {
     "name": "stdout",
     "output_type": "stream",
     "text": [
      "\n",
      "### 출처 코드 ###\n",
      "문서 개수: 5\n",
      "파일: ./temp_repo/cat.py\n",
      "내용: from animal import Animal\n",
      "\n",
      "class Cat(Animal):\n",
      "    def __init__(self, name, age, color):\n",
      "        super().__init__(name, age)\n",
      "        self.color = color\n",
      "        self.sound = \"야옹\"\n",
      "\n",
      "    def scratch(self, \n",
      "-----------------------------------\n",
      "파일: ./temp_repo/dog.py\n",
      "내용: from animal import Animal\n",
      "\n",
      "class Dog(Animal):\n",
      "    def __init__(self, name, age, breed):\n",
      "        super().__init__(name, age)\n",
      "        self.breed = breed\n",
      "        self.sound = \"멍멍\"\n",
      "\n",
      "    def fetch(self, it\n",
      "-----------------------------------\n",
      "파일: ./temp_repo/animal.py\n",
      "내용: class Animal:\n",
      "    def __init__(self, name, age):\n",
      "        self.name = name\n",
      "        self.age = age  \n",
      "        self.sound = None\n",
      "\n",
      "    def make_sound(self):\n",
      "        print(f\"{self.name}이(가) 소리를 냅니다: {self.s\n",
      "-----------------------------------\n",
      "파일: ./temp_repo/bird.py\n",
      "내용: from animal import Animal\n",
      "\n",
      "class Bird(Animal):\n",
      "    def __init__(self, name, age, wing_span):\n",
      "        super().__init__(name, age)\n",
      "        self.wing_span = wing_span\n",
      "        self.sound = \"짹짹\"\n",
      "\n",
      "    def f\n",
      "-----------------------------------\n",
      "파일: ./temp_repo/world.py\n",
      "내용: from dog import Dog\n",
      "from cat import Cat\n",
      "from bird import Bird\n",
      "\n",
      "class World:\n",
      "    def __init__(self):\n",
      "        self.animals = []  # 동물 객체 저장\n",
      "\n",
      "    def add_animal(self, animal):\n",
      "        if isinstance(anima\n",
      "-----------------------------------\n"
     ]
    }
   ],
   "source": [
    "input_code = search_by_filename('cat.py', vector_store)\n",
    "\n",
    "retrievered_codes = retriever.invoke(input_code)\n",
    "\n",
    "print(\"\\n### 출처 코드 ###\")\n",
    "print(f'문서 개수: {len(retrievered_codes)}')\n",
    "for code in retrievered_codes:\n",
    "    print(f\"파일: {code.metadata.get('file_path', 'N/A')}\")\n",
    "    print(f\"내용: {code.page_content[:200]}\")  # 문서 내용 일부 출력\n",
    "    print('-------' * 5)"
   ],
   "metadata": {
    "collapsed": false
   }
  },
  {
   "cell_type": "markdown",
   "source": [
    "---\n",
    "# 7. PromptTemplates"
   ],
   "metadata": {
    "collapsed": false
   }
  },
  {
   "cell_type": "code",
   "execution_count": 69,
   "outputs": [],
   "source": [
    "from langchain.prompts import PromptTemplate\n",
    "from langchain.prompts import load_prompt\n",
    "\n",
    "review_template = load_prompt('./prompts/review_template.json')\n",
    "\n",
    "input_message = ''\n",
    "\n",
    "for code in retrievered_codes:\n",
    "    input_message += f\"\\n\\n[파일명: {code.metadata.get('file_path', 'N/A')}]\\n\\n\"\n",
    "    input_message += code.page_content\n",
    "\n",
    "review_prompt = review_template.format(context=input_message)"
   ],
   "metadata": {
    "collapsed": false
   }
  },
  {
   "cell_type": "markdown",
   "source": [
    "---\n",
    "# OpenAI 응답 결과"
   ],
   "metadata": {
    "collapsed": false
   }
  },
  {
   "cell_type": "code",
   "execution_count": 70,
   "outputs": [
    {
     "name": "stdout",
     "output_type": "stream",
     "text": [
      "입력 토큰 수: 815\n",
      "응답 토큰 수: 327\n",
      "총 토큰 수: 1142\n",
      "총 비용: $0.00031844999999999996\n"
     ]
    }
   ],
   "source": [
    "from langchain.callbacks import get_openai_callback\n",
    "\n",
    "with get_openai_callback() as callback:\n",
    "    response = openai_llm.invoke(review_prompt)\n",
    "\n",
    "    # 토큰 관련 정보 출력\n",
    "    print(f\"입력 토큰 수: {callback.prompt_tokens}\")\n",
    "    print(f\"응답 토큰 수: {callback.completion_tokens}\")\n",
    "    print(f\"총 토큰 수: {callback.total_tokens}\")\n",
    "    print(f\"총 비용: ${callback.total_cost}\")"
   ],
   "metadata": {
    "collapsed": false
   }
  },
  {
   "cell_type": "code",
   "execution_count": 71,
   "outputs": [
    {
     "name": "stdout",
     "output_type": "stream",
     "text": [
      "### cat.py\n",
      "1. `scratch` 메서드에서 `self.item`을 사용하고 있는데, 이는 정의되지 않은 속성입니다. 대신 `item` 변수를 사용해야 합니다.\n",
      "   ```python\n",
      "   def scratch(self, item):\n",
      "       if not item:\n",
      "           print(f\"{self.name}이(가) 긁을 것이 없습니다!\")\n",
      "       else:\n",
      "           print(\"{0}이(가) {1}을(를) 긁습니다.\".format(self.name, item))\n",
      "   ```\n",
      "\n",
      "### dog.py\n",
      "1. `fetch` 메서드에서 `for _ in range(1000000):` 코드는 성능에 불필요한 지연을 초래합니다. 이 부분을 삭제하거나 줄여서 잠시 기다리는 것으로 대체할 수 있습니다.\n",
      "   ```python\n",
      "   def fetch(self, item):\n",
      "       print(f\"{self.name}이(가) {item}을(를) 가져옵니다!\")\n",
      "   ```\n",
      "\n",
      "### animal.py\n",
      "변경할 필요가 없습니다. 잘 작성된 코드입니다.\n",
      "\n",
      "### bird.py\n",
      "변경할 필요가 없습니다. 잘 작성된 코드입니다.\n",
      "\n",
      "### world.py\n",
      "변경할 필요가 없습니다. 잘 작성된 코드입니다.\n",
      "\n",
      "### 요약\n",
      "전반적으로 코드가 잘 작성되었으며, 각각의 동물 클래스가 동작하는 방식이 명확합니다. 그러나 `cat.py`의 `scratch` 메서드에서 오류가 있고, `dog.py`의 `fetch` 메서드에서 불필요한 반복문이 있으므로 이를 수정하는 것이 좋습니다.\n"
     ]
    }
   ],
   "source": [
    "print(response.content)"
   ],
   "metadata": {
    "collapsed": false
   }
  },
  {
   "cell_type": "markdown",
   "source": [
    "---\n",
    "# Anthropic 응답 결과"
   ],
   "metadata": {
    "collapsed": false
   }
  },
  {
   "cell_type": "code",
   "execution_count": 72,
   "outputs": [
    {
     "name": "stdout",
     "output_type": "stream",
     "text": [
      "코드 리뷰 피드백:\n",
      "\n",
      "animal.py:\n",
      "- 문제 없음, 기본 클래스가 잘 설계되어 있습니다.\n",
      "\n",
      "cat.py:\n",
      "- scratch() 메서드에 버그가 있습니다. self.item을 참조하지만 정의되지 않았습니다.\n",
      "수정 제안:\n",
      "```python\n",
      "def scratch(self, item):\n",
      "    if not item:\n",
      "        print(f\"{self.name}이(가) 긁을 것이 없습니다!\")\n",
      "    else:\n",
      "        print(f\"{self.name}이(가) {item}을(를) 긁습니다.\")\n",
      "```\n",
      "\n",
      "dog.py:\n",
      "- fetch() 메서드의 불필요한 for 루프는 제거해야 합니다.\n",
      "수정 제안:\n",
      "```python\n",
      "def fetch(self, item):\n",
      "    print(f\"{self.name}이(가) {item}을(를) 가져옵니다!\")\n",
      "```\n",
      "\n",
      "bird.py:\n",
      "- fly() 메서드의 \"!\" * 1은 불필요합니다.\n",
      "수정 제안:\n",
      "```python\n",
      "def fly(self):\n",
      "    print(f\"{self.name}이(가) 날개 길이 {self.wing_span}cm로 날아오릅니다!\")\n",
      "```\n",
      "\n",
      "world.py:\n",
      "- 문제 없음, 적절한 타입 체크와 동작을 구현하고 있습니다.\n",
      "\n",
      "요약:\n",
      "1. Cat 클래스의 scratch() 메서드의 버그를 수정해야 합니다.\n",
      "2. Dog와 Bird 클래스에서 불필요한 코드를 제거하여 코드를 더 깔끔하게 만들어야 합니다.\n"
     ]
    }
   ],
   "source": [
    "response2 = anthropic_llm.invoke(review_prompt)\n",
    "print(response2.content)"
   ],
   "metadata": {
    "collapsed": false
   }
  }
 ],
 "metadata": {
  "kernelspec": {
   "display_name": "Python 3",
   "language": "python",
   "name": "python3"
  },
  "language_info": {
   "codemirror_mode": {
    "name": "ipython",
    "version": 2
   },
   "file_extension": ".py",
   "mimetype": "text/x-python",
   "name": "python",
   "nbconvert_exporter": "python",
   "pygments_lexer": "ipython2",
   "version": "2.7.6"
  }
 },
 "nbformat": 4,
 "nbformat_minor": 0
}
