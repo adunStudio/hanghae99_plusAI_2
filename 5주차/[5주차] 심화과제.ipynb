{
 "cells": [
  {
   "cell_type": "code",
   "execution_count": null,
   "outputs": [],
   "source": [
    "!pip install langchain langchain-community langchain langchain-openai langchain-anthropic chromadb gitpython"
   ],
   "metadata": {
    "collapsed": false,
    "pycharm": {
     "is_executing": true
    }
   }
  },
  {
   "cell_type": "markdown",
   "source": [
    "# 코드 리뷰 LLM 서비스\n",
    "---"
   ],
   "metadata": {
    "collapsed": false
   }
  },
  {
   "cell_type": "markdown",
   "source": [
    "# 1. 환경 변수 로드"
   ],
   "metadata": {
    "collapsed": false
   }
  },
  {
   "cell_type": "code",
   "execution_count": 87,
   "outputs": [],
   "source": [
    "from dotenv import load_dotenv\n",
    "import os\n",
    "\n",
    "load_dotenv()\n",
    "\n",
    "class Config:\n",
    "    OPENAI_API_KEY = os.environ['OPENAI_API_KEY']\n",
    "    ANTHROPIC_API_KEY = os.environ['ANTHROPIC_API_KEY']\n",
    "    PINECONE_API_KEY = os.environ['PINECONE_API_KEY']\n",
    "    CHROMA_DB_PATH = os.environ['CHROMA_DB_PATH']"
   ],
   "metadata": {
    "collapsed": false
   }
  },
  {
   "cell_type": "markdown",
   "source": [
    "---\n",
    "# 2. LLM(OpenAI, Anthropic)"
   ],
   "metadata": {
    "collapsed": false
   }
  },
  {
   "cell_type": "code",
   "execution_count": 88,
   "outputs": [],
   "source": [
    "from langchain_openai import ChatOpenAI\n",
    "from langchain_anthropic import ChatAnthropic\n",
    "\n",
    "openai_llm = ChatOpenAI(model=\"gpt-4o-mini\", api_key=Config.OPENAI_API_KEY)\n",
    "anthropic_llm = ChatAnthropic(model_name=\"claude-3-5-sonnet-20241022\", api_key=Config.ANTHROPIC_API_KEY)"
   ],
   "metadata": {
    "collapsed": false
   }
  },
  {
   "cell_type": "markdown",
   "source": [
    "---\n",
    "# 3. Embedding(OpenAI)"
   ],
   "metadata": {
    "collapsed": false
   }
  },
  {
   "cell_type": "code",
   "execution_count": 89,
   "outputs": [],
   "source": [
    "from langchain.embeddings import OpenAIEmbeddings\n",
    "embeddings = OpenAIEmbeddings(openai_api_key=Config.OPENAI_API_KEY)"
   ],
   "metadata": {
    "collapsed": false
   }
  },
  {
   "cell_type": "markdown",
   "source": [
    "---\n",
    "# 4. VectorStore(ChromaDB)"
   ],
   "metadata": {
    "collapsed": false
   }
  },
  {
   "cell_type": "code",
   "execution_count": 90,
   "outputs": [],
   "source": [
    "from langchain.vectorstores import Chroma\n",
    "\n",
    "vector_store = Chroma(persist_directory=Config.CHROMA_DB_PATH, embedding_function=embeddings)"
   ],
   "metadata": {
    "collapsed": false
   }
  },
  {
   "cell_type": "markdown",
   "source": [
    "---\n",
    "# 5. Github repository -> Store"
   ],
   "metadata": {
    "collapsed": false
   }
  },
  {
   "cell_type": "code",
   "execution_count": 91,
   "outputs": [],
   "source": [
    "from git import Repo\n",
    "import hashlib\n",
    "\n",
    "# GitHub 레포지토리를 로컬로 클론\n",
    "def clone_github_repo(repo_url, local_path):\n",
    "    if os.path.exists(local_path):\n",
    "        print(\"로컬에 이미 레포지토리가 존재합니다. 변경 사항을 pull합니다.\")\n",
    "        repo = Repo(local_path)\n",
    "        repo.remotes.origin.pull()\n",
    "    else:\n",
    "        print(f\"Cloning {repo_url} into {local_path}...\")\n",
    "        Repo.clone_from(repo_url, local_path)\n",
    "    print(\"레포지토리 클론 또는 업데이트 완료!\")\n",
    "\n",
    "# 레포지토리 내 Python 파일 경로를 찾기\n",
    "def find_python_files(repo_path):\n",
    "    python_files = []\n",
    "    for root, _, files in os.walk(repo_path):\n",
    "        for file in files:\n",
    "            if file.endswith(\".py\"):\n",
    "                python_files.append(os.path.join(root, file))\n",
    "    return python_files\n",
    "\n",
    "# 파일의 해시값(SHA256)을 계산\n",
    "def calculate_file_hash(file_path):\n",
    "    sha256 = hashlib.sha256()\n",
    "    with open(file_path, \"rb\") as f:\n",
    "        while chunk := f.read(8192):\n",
    "            sha256.update(chunk)\n",
    "    return sha256.hexdigest()\n",
    "\n",
    "# 파일이 업데이트되었는지 확인\n",
    "def is_file_updated(file_path, vector_store):\n",
    "    file_hash = calculate_file_hash(file_path)\n",
    "    # Chroma에서 해당 파일의 메타데이터 검색\n",
    "    results = vector_store.similarity_search(file_path, k=1, filter={\"file_path\": file_path})\n",
    "    if results:\n",
    "        # 저장된 해시값과 비교\n",
    "        return results[0].metadata.get(\"file_hash\") != file_hash\n",
    "    return True\n",
    "\n",
    "# Python 파일을 읽어 벡터화하고 Chroma DB에 저장\n",
    "def store_python_files_in_chroma(file_paths, vector_store):\n",
    "    for file_path in file_paths:\n",
    "        try:\n",
    "            if not is_file_updated(file_path, vector_store):\n",
    "                print(f\"파일이 변경되지 않았습니다. 건너뜁니다: {file_path}\")\n",
    "                continue\n",
    "\n",
    "            with open(file_path, \"r\", encoding=\"utf-8\") as file:\n",
    "                code_content = file.read()\n",
    "\n",
    "            # 파일 메타데이터 생성\n",
    "            metadata = {\n",
    "                \"file_path\": file_path,\n",
    "                \"file_hash\": calculate_file_hash(file_path)\n",
    "            }\n",
    "\n",
    "            # 벡터 스토어에 추가\n",
    "            vector_store.add_texts([code_content], metadatas=[metadata])\n",
    "            print(f\"{file_path} 저장 완료!\")\n",
    "        except Exception as e:\n",
    "            print(f\"파일 처리 중 오류 발생: {file_path}, 오류: {e}\")\n",
    "    vector_store.persist()\n",
    "    print(\"Chroma DB에 모든 파일 저장 완료!\")\n",
    "\n",
    "# Chroma DB에 저장된 모든 코드 파일의 메타데이터와 내용을 출력합니다.\n",
    "def list_all_files_with_content(vector_store):\n",
    "    try:\n",
    "        results = vector_store.get(include=[\"metadatas\", \"documents\"])\n",
    "\n",
    "        print(\"저장된 코드 파일과 내용:\")\n",
    "        for i, (metadata, document) in enumerate(zip(results[\"metadatas\"], results[\"documents\"]), 1):\n",
    "            file_path = metadata.get(\"file_path\", \"Unknown\")\n",
    "            print(f\"{i}. 파일 경로: {file_path}\")\n",
    "            print(\"내용:\")\n",
    "            print(document[:300])  # 첫 300자만 출력\n",
    "            print(\"-\" * 50)\n",
    "    except Exception as e:\n",
    "        print(f\"전체 파일 목록 및 내용 출력 중 오류 발생: {e}\")\n",
    "\n",
    "# 파일명을 기준으로 Chroma DB에서 내용을 검색하고 반환.\n",
    "def search_by_filename(file_name, vector_store):\n",
    "    try:\n",
    "        # Chroma DB의 모든 데이터를 가져옵니다.\n",
    "        results = vector_store.get(include=[\"metadatas\", \"documents\"])\n",
    "\n",
    "        matching_files = []\n",
    "        for metadata, document in zip(results[\"metadatas\"], results[\"documents\"]):\n",
    "            if file_name in metadata.get(\"file_path\", \"\"):\n",
    "                matching_files.append((metadata, document))\n",
    "\n",
    "        if matching_files:\n",
    "            return matching_files[0][1]\n",
    "        else:\n",
    "            print(f\"파일명 '{file_name}'이(가) DB에 존재하지 않습니다.\")\n",
    "            return None\n",
    "    except Exception as e:\n",
    "        print(f\"파일명으로 검색 중 오류 발생: {e}\")"
   ],
   "metadata": {
    "collapsed": false
   }
  },
  {
   "cell_type": "code",
   "execution_count": 92,
   "outputs": [
    {
     "name": "stdout",
     "output_type": "stream",
     "text": [
      "로컬에 이미 레포지토리가 존재합니다. 변경 사항을 pull합니다.\n",
      "레포지토리 클론 또는 업데이트 완료!\n",
      "찾은 Python 파일 수: 8\n",
      "파일이 변경되지 않았습니다. 건너뜁니다: ./temp_repo/world.py\n",
      "파일이 변경되지 않았습니다. 건너뜁니다: ./temp_repo/cat.py\n",
      "파일이 변경되지 않았습니다. 건너뜁니다: ./temp_repo/text_processor.py\n",
      "파일이 변경되지 않았습니다. 건너뜁니다: ./temp_repo/bird.py\n",
      "파일이 변경되지 않았습니다. 건너뜁니다: ./temp_repo/animal.py\n",
      "파일이 변경되지 않았습니다. 건너뜁니다: ./temp_repo/calculator.py\n",
      "파일이 변경되지 않았습니다. 건너뜁니다: ./temp_repo/dog.py\n",
      "파일이 변경되지 않았습니다. 건너뜁니다: ./temp_repo/main.py\n",
      "Chroma DB에 모든 파일 저장 완료!\n"
     ]
    }
   ],
   "source": [
    "github_repo_url = 'https://github.com/adunStudio/codereviewexample'\n",
    "local_repo_path = \"./temp_repo\"\n",
    "\n",
    "# 1. GitHub 레포지토리 클론 또는 업데이트\n",
    "clone_github_repo(github_repo_url, local_repo_path)\n",
    "\n",
    "# 2. Python 파일 찾기\n",
    "python_files = find_python_files(local_repo_path)\n",
    "print(f\"찾은 Python 파일 수: {len(python_files)}\")\n",
    "\n",
    "# 3. Python 파일을 Chroma DB에 저장\n",
    "store_python_files_in_chroma(python_files, vector_store)\n",
    "\n",
    "#list_all_files_with_content(vector_store)"
   ],
   "metadata": {
    "collapsed": false
   }
  },
  {
   "cell_type": "markdown",
   "source": [
    "---\n",
    "# 6. Retriever"
   ],
   "metadata": {
    "collapsed": false
   }
  },
  {
   "cell_type": "code",
   "execution_count": 93,
   "outputs": [],
   "source": [
    "retriever = vector_store.as_retriever(search_kwargs={\"k\": 5})"
   ],
   "metadata": {
    "collapsed": false
   }
  },
  {
   "cell_type": "code",
   "execution_count": 94,
   "outputs": [
    {
     "name": "stdout",
     "output_type": "stream",
     "text": [
      "\n",
      "### 출처 코드 ###\n",
      "문서 개수: 5\n",
      "파일: ./temp_repo/cat.py\n",
      "내용: from animal import Animal\n",
      "\n",
      "class Cat(Animal):\n",
      "    def __init__(self, name, age, color):\n",
      "        super().__init__(name, age)\n",
      "        self.color = color\n",
      "        self.sound = \"야옹\"\n",
      "\n",
      "    def scratch(self, \n",
      "-----------------------------------\n",
      "파일: ./temp_repo/dog.py\n",
      "내용: from animal import Animal\n",
      "\n",
      "class Dog(Animal):\n",
      "    def __init__(self, name, age, breed):\n",
      "        super().__init__(name, age)\n",
      "        self.breed = breed\n",
      "        self.sound = \"멍멍\"\n",
      "\n",
      "    def fetch(self, it\n",
      "-----------------------------------\n",
      "파일: ./temp_repo/animal.py\n",
      "내용: class Animal:\n",
      "    def __init__(self, name, age):\n",
      "        self.name = name\n",
      "        self.age = age  \n",
      "        self.sound = None\n",
      "\n",
      "    def make_sound(self):\n",
      "        print(f\"{self.name}이(가) 소리를 냅니다: {self.s\n",
      "-----------------------------------\n",
      "파일: ./temp_repo/bird.py\n",
      "내용: from animal import Animal\n",
      "\n",
      "class Bird(Animal):\n",
      "    def __init__(self, name, age, wing_span):\n",
      "        super().__init__(name, age)\n",
      "        self.wing_span = wing_span\n",
      "        self.sound = \"짹짹\"\n",
      "\n",
      "    def f\n",
      "-----------------------------------\n",
      "파일: ./temp_repo/world.py\n",
      "내용: from dog import Dog\n",
      "from cat import Cat\n",
      "from bird import Bird\n",
      "\n",
      "class World:\n",
      "    def __init__(self):\n",
      "        self.animals = []  # 동물 객체 저장\n",
      "\n",
      "    def add_animal(self, animal):\n",
      "        if isinstance(anima\n",
      "-----------------------------------\n"
     ]
    }
   ],
   "source": [
    "input_code = search_by_filename('cat.py', vector_store)\n",
    "\n",
    "retrievered_codes = retriever.invoke(input_code)\n",
    "\n",
    "print(\"\\n### 출처 코드 ###\")\n",
    "print(f'문서 개수: {len(retrievered_codes)}')\n",
    "for code in retrievered_codes:\n",
    "    print(f\"파일: {code.metadata.get('file_path', 'N/A')}\")\n",
    "    print(f\"내용: {code.page_content[:200]}\")  # 문서 내용 일부 출력\n",
    "    print('-------' * 5)"
   ],
   "metadata": {
    "collapsed": false
   }
  },
  {
   "cell_type": "markdown",
   "source": [
    "---\n",
    "# 7. PromptTemplates"
   ],
   "metadata": {
    "collapsed": false
   }
  },
  {
   "cell_type": "code",
   "execution_count": 95,
   "outputs": [],
   "source": [
    "from langchain.prompts import PromptTemplate\n",
    "from langchain.prompts import load_prompt\n",
    "\n",
    "review_template = load_prompt('./prompts/review_template.json')\n",
    "\n",
    "input_message = ''\n",
    "\n",
    "for code in retrievered_codes:\n",
    "    input_message += f\"\\n\\n[파일명: {code.metadata.get('file_path', 'N/A')}]\\n\\n\"\n",
    "    input_message += code.page_content\n",
    "\n",
    "review_prompt = review_template.format(context=input_message)"
   ],
   "metadata": {
    "collapsed": false
   }
  },
  {
   "cell_type": "markdown",
   "source": [
    "---\n",
    "# OpenAI 응답 결과"
   ],
   "metadata": {
    "collapsed": false
   }
  },
  {
   "cell_type": "code",
   "execution_count": 96,
   "outputs": [
    {
     "name": "stdout",
     "output_type": "stream",
     "text": [
      "입력 토큰 수: 919\n",
      "응답 토큰 수: 614\n",
      "총 토큰 수: 1533\n",
      "총 비용: $0.00050625\n"
     ]
    }
   ],
   "source": [
    "from langchain.callbacks import get_openai_callback\n",
    "\n",
    "with get_openai_callback() as callback:\n",
    "    response = openai_llm.invoke(review_prompt)\n",
    "\n",
    "    # 토큰 관련 정보 출력\n",
    "    print(f\"입력 토큰 수: {callback.prompt_tokens}\")\n",
    "    print(f\"응답 토큰 수: {callback.completion_tokens}\")\n",
    "    print(f\"총 토큰 수: {callback.total_tokens}\")\n",
    "    print(f\"총 비용: ${callback.total_cost}\")"
   ],
   "metadata": {
    "collapsed": false
   }
  },
  {
   "cell_type": "code",
   "execution_count": 97,
   "outputs": [
    {
     "name": "stdout",
     "output_type": "stream",
     "text": [
      "### cat.py\n",
      "\n",
      "1. **구글 코딩 스타일 가이드**: 문자열 포맷팅에 f-string을 사용하는 것이 더 일관성 있습니다. \n",
      "2. **불필요한 코드**: `item` 사용 시 `self.item`이 아니라 `item`을 사용해야 합니다. \n",
      "3. **성능/확장성**: 나중에 다른 동물 클래스를 추가할 경우, 다른 소리를 쉽게 덧붙일 수 있도록 여유를 두는 것이 좋습니다.\n",
      "\n",
      "변경 사항:\n",
      "```python\n",
      "def scratch(self, item):\n",
      "    if not item:\n",
      "        print(f\"{self.name}이(가) 긁을 것이 없습니다!\")\n",
      "    else:\n",
      "        print(f\"{self.name}이(가) {item}을(를) 긁습니다.\")\n",
      "```\n",
      "\n",
      "### dog.py\n",
      "\n",
      "1. **성능**: `fetch` 메서드에서 반복문이 불필요하게 1000000회를 돌고 있습니다. 이 코드가 의도한 바가 무엇인지 명확하지 않습니다.\n",
      "2. **테스트 가능성**: `fetch` 메서드는 결과를 출력만 하며, 이를 반환값으로 바꾸거나 관련된 상태를 변경하는 것이 좋겠습니다.\n",
      "\n",
      "변경 사항:\n",
      "```python\n",
      "def fetch(self, item):\n",
      "    print(f\"{self.name}이(가) {item}을(를) 가져옵니다!\")\n",
      "```\n",
      "\n",
      "### animal.py\n",
      "\n",
      "1. **SOLID 원칙**: 클래스는 잘 구조화되어 있으며, SOLID 원칙을 준수하고 있습니다. 다만, `make_sound`와 `info` 메서드는 서브클래스에서 오버라이드할 수 있는 것보다 더 일반화된 동작일 수 있습니다.\n",
      "\n",
      "### bird.py\n",
      "\n",
      "1. **구글 코딩 스타일 가이드**: `print` 문에는 불필요하게 \"!\"를 두 개 사용하고 있습니다. 스타일적으로 하나의 \"!\"를 사용하는 것이 더 매끄러울 수 있습니다.\n",
      "\n",
      "변경 사항:\n",
      "```python\n",
      "print(f\"{self.name}이(가) 날개 길이 {self.wing_span}cm로 날아오릅니다!\")\n",
      "```\n",
      "\n",
      "### world.py\n",
      "\n",
      "1. **끝 동적 다형성**: `add_animal` 함수에서 동물의 타입을 검사하는 것은 확장성과 유지보수성 측면에서 다소 개선될 여지가 있습니다. 타입 검사 대신, 인스턴스 메서드에 따라 다형성을 활용하는 것이 좋습니다.\n",
      "  \n",
      "변경 사항:\n",
      "```python\n",
      "def add_animal(self, animal):\n",
      "    self.animals.append(animal)\n",
      "```\n",
      "\n",
      "### 요약\n",
      "\n",
      "대부분의 클래스가 구조적으로 올바르지만, 일부 메서드에서는 성능과 유지보수성을 개선할 수 있는 여지가 있습니다. 코드 전체적으로 가독성과 효율성을 높이기 위해 일부 중복 및 불필요한 코드를 정리하는 것이 필요합니다.\n"
     ]
    }
   ],
   "source": [
    "print(response.content)"
   ],
   "metadata": {
    "collapsed": false
   }
  },
  {
   "cell_type": "markdown",
   "source": [
    "---\n",
    "# Anthropic 응답 결과"
   ],
   "metadata": {
    "collapsed": false
   }
  },
  {
   "cell_type": "code",
   "execution_count": 98,
   "outputs": [
    {
     "name": "stdout",
     "output_type": "stream",
     "text": [
      "각 파일별 리뷰를 진행하겠습니다.\n",
      "\n",
      "cat.py:\n",
      "- format() 대신 f-string 사용 권장\n",
      "- scratch() 메서드에서 item 파라미터와 self.item 불일치\n",
      "- 수정 제안:\n",
      "```python\n",
      "def scratch(self, item):\n",
      "    if not item:\n",
      "        print(f\"{self.name}이(가) 긁을 것이 없습니다!\")\n",
      "    else:\n",
      "        print(f\"{self.name}이(가) {item}을(를) 긁습니다.\")\n",
      "```\n",
      "\n",
      "dog.py:\n",
      "- fetch() 메서드의 불필요한 for 루프 제거 필요\n",
      "- 수정 제안:\n",
      "```python\n",
      "def fetch(self, item):\n",
      "    print(f\"{self.name}이(가) {item}을(를) 가져옵니다!\")\n",
      "```\n",
      "\n",
      "animal.py:\n",
      "- sound 변수 타입 힌트 추가 권장\n",
      "- 수정 제안:\n",
      "```python\n",
      "from typing import Optional\n",
      "\n",
      "class Animal:\n",
      "    def __init__(self, name: str, age: int):\n",
      "        self.name = name\n",
      "        self.age = age\n",
      "        self.sound: Optional[str] = None\n",
      "```\n",
      "\n",
      "bird.py:\n",
      "- 문자열 연산(`\"!\" * 1`) 불필요\n",
      "- 수정 제안:\n",
      "```python\n",
      "def fly(self):\n",
      "    print(f\"{self.name}이(가) 날개 길이 {self.wing_span}cm로 날아오릅니다!\")\n",
      "```\n",
      "\n",
      "world.py:\n",
      "- isinstance 체크 대신 다형성 활용 권장\n",
      "- simulate() 메서드의 타입 체크는 SOLID의 OCP 위반\n",
      "- 수정 제안:\n",
      "```python\n",
      "class World:\n",
      "    def __init__(self):\n",
      "        self.animals = []\n",
      "\n",
      "    def add_animal(self, animal):\n",
      "        if not isinstance(animal, Animal):\n",
      "            print(\"알 수 없는 동물입니다.\")\n",
      "            return\n",
      "        self.animals.append(animal)\n",
      "\n",
      "    def simulate(self):\n",
      "        for animal in self.animals:\n",
      "            animal.make_sound()\n",
      "            animal.act()  # Animal 클래스에 act() 추상 메서드 추가 필요\n",
      "```\n",
      "\n",
      "요약:\n",
      "1. 코드 전반적으로 타입 힌트 추가 및 일관된 문자열 포매팅(f-string) 사용 필요\n",
      "2. SOLID 원칙을 준수하기 위해 다형성 활용 및 타입 체크 개선 필요\n"
     ]
    }
   ],
   "source": [
    "response2 = anthropic_llm.invoke(review_prompt)\n",
    "print(response2.content)"
   ],
   "metadata": {
    "collapsed": false
   }
  }
 ],
 "metadata": {
  "kernelspec": {
   "display_name": "Python 3",
   "language": "python",
   "name": "python3"
  },
  "language_info": {
   "codemirror_mode": {
    "name": "ipython",
    "version": 2
   },
   "file_extension": ".py",
   "mimetype": "text/x-python",
   "name": "python",
   "nbconvert_exporter": "python",
   "pygments_lexer": "ipython2",
   "version": "2.7.6"
  }
 },
 "nbformat": 4,
 "nbformat_minor": 0
}
