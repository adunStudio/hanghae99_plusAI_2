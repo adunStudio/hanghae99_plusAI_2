{
 "cells": [
  {
   "cell_type": "code",
   "execution_count": 1,
   "metadata": {
    "collapsed": true
   },
   "outputs": [],
   "source": [
    "from langchain_core.prompts import PromptTemplate"
   ]
  },
  {
   "cell_type": "code",
   "execution_count": 33,
   "outputs": [],
   "source": [
    "simple_review_prompt = \"\"\"\n",
    "<system>\n",
    "당신은 동료를 위해 코드 리뷰를 수행하는 선임 소프트웨어 엔지니어입니다.\n",
    "리뷰 항목입니다.\n",
    "- 구글 코딩 스타일 가이드에 맞는지 꼼꼼히 봐주세요.\n",
    "- 성능적으로 체크 (시간 복잡도, 공간 복잡도)\n",
    "- 불필요한 코드가 있는지 봐주세요.\n",
    "- 이미 내장된 기능에 있어 바퀴 재발명을 하고있는지 봐주세요.\n",
    "- 확장 및 유지 보수성, SOLID 준수를 하고 있는지 봐주세요.\n",
    "- DDD 법칙 준수를 선호합니다.\n",
    "- 테스트 가능성 및 안정성도 봐주세요.\n",
    "여러 파일과 함께 코드들이 주어집니다. 각 파일에 대해서 위 항목을 모두 리뷰해주세요.\n",
    "</system>\n",
    "\n",
    "---\n",
    "\n",
    "다음은 리뷰할 코드입니다:\n",
    "{context}\n",
    "\n",
    "---\n",
    "\n",
    "<output>\n",
    "아래 JSON 형식으로 결과를 작성하세요. 필드를 모두 포함해야 합니다:\n",
    "파일도 여러개이고, 이슈들도 여러개 찾아서 포함해주세요.\n",
    "{output_format}\n",
    "</output>\n",
    "\"\"\"\n",
    "\n",
    "simple_review_prompt_template = PromptTemplate.from_template(simple_review_prompt)\n",
    "simple_review_prompt_template.save('./prompts/simple_review_template.json')"
   ],
   "metadata": {
    "collapsed": false
   }
  },
  {
   "cell_type": "code",
   "execution_count": null,
   "outputs": [],
   "source": [],
   "metadata": {
    "collapsed": false
   }
  }
 ],
 "metadata": {
  "kernelspec": {
   "display_name": "Python 3",
   "language": "python",
   "name": "python3"
  },
  "language_info": {
   "codemirror_mode": {
    "name": "ipython",
    "version": 2
   },
   "file_extension": ".py",
   "mimetype": "text/x-python",
   "name": "python",
   "nbconvert_exporter": "python",
   "pygments_lexer": "ipython2",
   "version": "2.7.6"
  }
 },
 "nbformat": 4,
 "nbformat_minor": 0
}
