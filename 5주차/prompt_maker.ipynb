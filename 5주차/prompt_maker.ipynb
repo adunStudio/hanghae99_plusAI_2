{
 "cells": [
  {
   "cell_type": "code",
   "execution_count": 1,
   "metadata": {
    "collapsed": true
   },
   "outputs": [],
   "source": [
    "from langchain_core.prompts import PromptTemplate"
   ]
  },
  {
   "cell_type": "code",
   "execution_count": 3,
   "outputs": [],
   "source": [
    "review_prompt = \"\"\"\n",
    "<system>\n",
    "당신은 동료를 위해 코드 리뷰를 수행하는 선임 소프트웨어 엔지니어입니다.\n",
    "</system>\n",
    "\n",
    "아래에 설명된 훌륭한 코드 리뷰를 제공하기 위한 지침을 따르세요:\n",
    "\"https://google.github.io/eng-practices/review/reviewer/looking-for.html\"\n",
    "\n",
    "---\n",
    "\n",
    "여러 파일과 함께 코드들이 주어집니다.\n",
    "다음은 리뷰할 코드입니다:\n",
    "{context}\n",
    "\n",
    "---\n",
    "\n",
    "<guide>\n",
    "각 파일마다 변경 사항에 대한 피드백이 필요한지 결정합니다.\n",
    "그렇다면 한두 문장을 사용하여 피드백의 개요를 설명하세요.\n",
    "코드 변경이 필요한 경우 원본 코드를 언급하고\n",
    "그런 다음 이를 수정하기 위해 코드 변경을 제안합니다.\n",
    "제안 후에 다른 텍스트를 추가하지 마세요.\n",
    "마지막으로, 마지막에 피드백에 대한 1~2개의 요약을 제공하세요.\n",
    "</guide>\n",
    "\"\"\"\n",
    "\n",
    "review_prompt_template = PromptTemplate.from_template(review_prompt)\n",
    "review_prompt_template.save('./prompts/review_prompt.json')"
   ],
   "metadata": {
    "collapsed": false
   }
  }
 ],
 "metadata": {
  "kernelspec": {
   "display_name": "Python 3",
   "language": "python",
   "name": "python3"
  },
  "language_info": {
   "codemirror_mode": {
    "name": "ipython",
    "version": 2
   },
   "file_extension": ".py",
   "mimetype": "text/x-python",
   "name": "python",
   "nbconvert_exporter": "python",
   "pygments_lexer": "ipython2",
   "version": "2.7.6"
  }
 },
 "nbformat": 4,
 "nbformat_minor": 0
}
