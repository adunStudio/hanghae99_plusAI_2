{
 "cells": [
  {
   "cell_type": "code",
   "execution_count": 1,
   "metadata": {
    "collapsed": true
   },
   "outputs": [],
   "source": [
    "from langchain_core.prompts import PromptTemplate"
   ]
  },
  {
   "cell_type": "code",
   "execution_count": 6,
   "outputs": [],
   "source": [
    "review_prompt = \"\"\"\n",
    "<system>\n",
    "당신은 동료를 위해 코드 리뷰를 수행하는 선임 소프트웨어 엔지니어입니다.\n",
    "리뷰 항목입니다.\n",
    "- 구글 코딩 스타일 가이드에 맞는지 꼼꼼히 봐주세요.\n",
    "- 성능적으로 체크 (시간 복잡도, 공간 복잡도)\n",
    "- 불필요한 코드가 있는지 봐주세요.\n",
    "- 이미 내장된 기능에 있어 바퀴 재발명을 하고있는지 봐주세요.\n",
    "- 확장 및 유지 보수성, SOLID 준수를 하고 있는지 봐주세요.\n",
    "- DDD 법칙 준수를 선호합니다.\n",
    "- 테스트 가능성 및 안정성도 봐주세요.\n",
    "</system>\n",
    "\n",
    "---\n",
    "\n",
    "여러 파일과 함께 코드들이 주어집니다.\n",
    "다음은 리뷰할 코드입니다:\n",
    "{context}\n",
    "\n",
    "---\n",
    "\n",
    "<guide>\n",
    "각 파일마다 변경 사항에 대한 피드백이 필요한지 결정합니다.\n",
    "그렇다면 한두 문장을 사용하여 피드백의 개요를 설명하세요.\n",
    "각 파일의 코드들에 대해서 리뷰 항목들이 잘 지켜졌는지 꼼꼼히 봐주세요.\n",
    "코드 변경이 필요한 경우 원본 코드를 언급하고\n",
    "그런 다음 이를 수정하기 위해 코드 변경을 제안합니다.\n",
    "제안 후에 다른 텍스트를 추가하지 마세요.\n",
    "마지막으로, 마지막에 피드백에 대한 1~2개의 요약을 제공하세요.\n",
    "</guide>\n",
    "\"\"\"\n",
    "\n",
    "review_prompt_template = PromptTemplate.from_template(review_prompt)\n",
    "review_prompt_template.save('./prompts/review_template.json')"
   ],
   "metadata": {
    "collapsed": false
   }
  },
  {
   "cell_type": "code",
   "execution_count": null,
   "outputs": [],
   "source": [],
   "metadata": {
    "collapsed": false
   }
  }
 ],
 "metadata": {
  "kernelspec": {
   "display_name": "Python 3",
   "language": "python",
   "name": "python3"
  },
  "language_info": {
   "codemirror_mode": {
    "name": "ipython",
    "version": 2
   },
   "file_extension": ".py",
   "mimetype": "text/x-python",
   "name": "python",
   "nbconvert_exporter": "python",
   "pygments_lexer": "ipython2",
   "version": "2.7.6"
  }
 },
 "nbformat": 4,
 "nbformat_minor": 0
}
