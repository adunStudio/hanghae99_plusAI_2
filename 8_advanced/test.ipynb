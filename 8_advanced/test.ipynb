{
 "cells": [
  {
   "metadata": {},
   "cell_type": "code",
   "outputs": [],
   "execution_count": null,
   "source": "!pip install transformers datasets evaluate accelerate trl peft",
   "id": "f052b21b41090eeb"
  },
  {
   "cell_type": "code",
   "id": "initial_id",
   "metadata": {
    "collapsed": true,
    "ExecuteTime": {
     "end_time": "2025-02-12T14:36:51.583708Z",
     "start_time": "2025-02-12T14:31:30.275298Z"
    }
   },
   "source": [
    "from transformers import MllamaForConditionalGeneration, MllamaProcessor\n",
    "import torch\n",
    "\n",
    "\n",
    "model = MllamaForConditionalGeneration.from_pretrained(\n",
    "  'Bllossom/llama-3.2-Korean-Bllossom-AICA-5B',\n",
    "  torch_dtype=torch.bfloat16,\n",
    "  device_map='auto'\n",
    ")\n",
    "processor = MllamaProcessor.from_pretrained('Bllossom/llama-3.2-Korean-Bllossom-AICA-5B')\n",
    "\n",
    "messages = [\n",
    "  {'role': 'user','content': [\n",
    "    {'type': 'text','text': '자연어처리 2주치 커리큘럼을 짧게 짜줘'}\n",
    "    ]},\n",
    "  ]\n",
    "\n",
    "input_text = processor.apply_chat_template(messages,tokenize=False,add_generation_prompt=True)\n",
    "\n",
    "inputs = processor(\n",
    "    images=None,\n",
    "    text=input_text,\n",
    "    add_special_tokens=False,\n",
    "    return_tensors=\"pt\",\n",
    ").to(model.device)\n",
    "\n",
    "output = model.generate(**inputs,max_new_tokens=256,temperature=0.1,eos_token_id=processor.tokenizer.convert_tokens_to_ids('<|eot_id|>'),use_cache=False)\n",
    "print(processor.decode(output[0]))"
   ],
   "outputs": [
    {
     "name": "stderr",
     "output_type": "stream",
     "text": [
      "/opt/anaconda3/envs/hanghae99_plusAI_2/lib/python3.12/site-packages/tqdm/auto.py:21: TqdmWarning: IProgress not found. Please update jupyter and ipywidgets. See https://ipywidgets.readthedocs.io/en/stable/user_install.html\n",
      "  from .autonotebook import tqdm as notebook_tqdm\n",
      "The model weights are not tied. Please use the `tie_weights` method before using the `infer_auto_device` function.\n",
      "Loading checkpoint shards: 100%|██████████| 3/3 [00:10<00:00,  3.53s/it]\n",
      "Some parameters are on the meta device because they were offloaded to the disk.\n",
      "\n",
      "KeyboardInterrupt\n",
      "\n"
     ]
    }
   ],
   "execution_count": 1
  },
  {
   "metadata": {},
   "cell_type": "code",
   "outputs": [],
   "execution_count": null,
   "source": "",
   "id": "3342a464da4f78c1"
  }
 ],
 "metadata": {
  "kernelspec": {
   "display_name": "Python 3",
   "language": "python",
   "name": "python3"
  },
  "language_info": {
   "codemirror_mode": {
    "name": "ipython",
    "version": 2
   },
   "file_extension": ".py",
   "mimetype": "text/x-python",
   "name": "python",
   "nbconvert_exporter": "python",
   "pygments_lexer": "ipython2",
   "version": "2.7.6"
  }
 },
 "nbformat": 4,
 "nbformat_minor": 5
}
