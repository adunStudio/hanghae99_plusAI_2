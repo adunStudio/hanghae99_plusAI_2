{
 "cells": [
  {
   "cell_type": "code",
   "execution_count": 1,
   "metadata": {},
   "outputs": [
    {
     "name": "stderr",
     "output_type": "stream",
     "text": [
      "[nltk_data] Downloading package punkt to /root/nltk_data...\n",
      "[nltk_data]   Package punkt is already up-to-date!\n",
      "\u001b[34m\u001b[1mwandb\u001b[0m: Currently logged in as: \u001b[33miamkimhongil92\u001b[0m (\u001b[33miamkimhongil92-lumenasoft\u001b[0m) to \u001b[32mhttps://api.wandb.ai\u001b[0m. Use \u001b[1m`wandb login --relogin`\u001b[0m to force relogin\n",
      "\u001b[34m\u001b[1mwandb\u001b[0m: Using wandb-core as the SDK backend.  Please refer to https://wandb.me/wandb-core for more information.\n"
     ]
    },
    {
     "data": {
      "text/html": [
       "Tracking run with wandb version 0.19.6"
      ],
      "text/plain": [
       "<IPython.core.display.HTML object>"
      ]
     },
     "metadata": {},
     "output_type": "display_data"
    },
    {
     "data": {
      "text/html": [
       "Run data is saved locally in <code>/workspace/hanghae99_plusAI_2/8_advanced/wandb/run-20250213_103737-swus6jwn</code>"
      ],
      "text/plain": [
       "<IPython.core.display.HTML object>"
      ]
     },
     "metadata": {},
     "output_type": "display_data"
    },
    {
     "data": {
      "text/html": [
       "Syncing run <strong><a href='https://wandb.ai/iamkimhongil92-lumenasoft/hangae_99_8/runs/swus6jwn' target=\"_blank\">8B_4bit_quantization</a></strong> to <a href='https://wandb.ai/iamkimhongil92-lumenasoft/hangae_99_8' target=\"_blank\">Weights & Biases</a> (<a href='https://wandb.me/developer-guide' target=\"_blank\">docs</a>)<br>"
      ],
      "text/plain": [
       "<IPython.core.display.HTML object>"
      ]
     },
     "metadata": {},
     "output_type": "display_data"
    },
    {
     "data": {
      "text/html": [
       " View project at <a href='https://wandb.ai/iamkimhongil92-lumenasoft/hangae_99_8' target=\"_blank\">https://wandb.ai/iamkimhongil92-lumenasoft/hangae_99_8</a>"
      ],
      "text/plain": [
       "<IPython.core.display.HTML object>"
      ]
     },
     "metadata": {},
     "output_type": "display_data"
    },
    {
     "data": {
      "text/html": [
       " View run at <a href='https://wandb.ai/iamkimhongil92-lumenasoft/hangae_99_8/runs/swus6jwn' target=\"_blank\">https://wandb.ai/iamkimhongil92-lumenasoft/hangae_99_8/runs/swus6jwn</a>"
      ],
      "text/plain": [
       "<IPython.core.display.HTML object>"
      ]
     },
     "metadata": {},
     "output_type": "display_data"
    },
    {
     "data": {
      "application/vnd.jupyter.widget-view+json": {
       "model_id": "5fa3f32167474381a2bc137f07cceddc",
       "version_major": 2,
       "version_minor": 0
      },
      "text/plain": [
       "Loading checkpoint shards:   0%|          | 0/4 [00:00<?, ?it/s]"
      ]
     },
     "metadata": {},
     "output_type": "display_data"
    },
    {
     "name": "stderr",
     "output_type": "stream",
     "text": [
      "Device set to use cuda:0\n",
      "Setting `pad_token_id` to `eos_token_id`:128009 for open-end generation.\n"
     ]
    },
    {
     "name": "stdout",
     "output_type": "stream",
     "text": [
      "15.0GB\n",
      "\n",
      "==== Example 1 ====\n"
     ]
    },
    {
     "name": "stderr",
     "output_type": "stream",
     "text": [
      "From v4.47 onwards, when a model cache is to be returned, `generate` will return a `Cache` instance instead by default (as opposed to the legacy tuple of tuples format). If you want to keep returning the legacy format, please set `return_legacy_cache=True`.\n",
      "Setting `pad_token_id` to `eos_token_id`:128009 for open-end generation.\n"
     ]
    },
    {
     "name": "stdout",
     "output_type": "stream",
     "text": [
      "Candidate output:\n",
      "[{'term': '유니티', 'description': '유니티는 게임 및 시뮬레이션 개발에 널리 사용되는 엔진으로, 2D 및 3D 게임을 제작하는 데 필요한 다양한 툴과 기능을 제공합니다. 다양한 플랫폼에 배포할 수 있는 크로스 플랫폼 기능이 특징입니다.'}, {'term': '뱀서라이크', 'description': '뱀서라이크 게임 장르는 플레이어가 자신의 캐릭터를 조종하여 지속적으로 생성되는 적을 물리치고 생존을 추구하는 게임 유형으로, 주로 롤플레잉 요소를 포함합니다.'}, {'term': '에셋', 'description': '게임 개발에서 에셋은 음악, 이미지, 모델 등 게임 내에서 사용되는 요소들을 의미합니다. 에셋은 게임의 비주얼과 사운드 요소를 구축하는 중요한 역할을 합니다.'}, {'term': '스프라이트', 'description': '스프라이트는 2D 게임에서 사용되는 잘라낸 이미지나 그림을 의미합니다. 캐릭터, 아이템, 이펙트 등 다양한 요소의 비주얼을 표현할 수 있습니다.'}, {'term': '리지드 바디 2D', 'description': '리지드 바디 2D 컴포넌트는 물리적 상호작용을 위해 오브젝트에 물리적 특성을 부여하는 기능을 제공하며, 중력이나 충돌 감지 등을 설정할 수 있습니다.'}, {'term': '캡슐 콜라이더 2D', 'description': '캡슐 콜라이더 2D는 2D 공간에서 오브젝트의 물리적 경계를 정의하는 컴포넌트로, 캐릭터의 충돌 처리를 보다 쉽게 만들어 줍니다.'}, {'term': '그래비티 스케일', 'description': '그래비티 스케일은 리지드 바디 컴포넌트에서 중력의 영향을 얼마나 받을지를 결정하는 값으로, 0으로 설정하면 중력이 적용되지 않도록 할 수 있습니다.'}, {'term': '유니티 허브', 'description': '유니티 허브는 유니티 엔진의 다양한 버전을 관리하고 프로젝트를 생성할 수 있는 툴로, 버전 관리와 라이센스 관리를 돕습니다.'}, {'term': 'URP (Universal Render Pipeline)', 'description': 'URP는 유니티에서 제공하는 렌더링 파이프라인의 하나로, 다양한 플랫폼에서 최적화된 성능을 제공하면서도 시각적으로 우수한 결과를 만들어낼 수 있게끔 설계되었습니다.'}, {'term': '스프라이트 설정', 'description': '스프라이트 설정은 스프라이트 이미지의 해상도, 필터링 등 다양한 속성을 조정하여 게임 내 비주얼 품질을 최적화하는 과정입니다.'}, {'term': '2D URP', 'description': '2D URP는 유니티에서 제공하는 2D 게임을 위한 렌더링 파이프라인으로, 2D 게임의 성능을 최적화하고 시각적으로 우수한 결과를 제공합니다.'}, {'term': '프로젝트 생성', 'description': '유니티에서 새로운 프로젝트를 시작하기 위해 필요한 설정과 기본 구조를 정의하는 과정으로, 게임의 목적과 필요에 따라 다양한 옵션을 설정할 수 있습니다.'}, {'term': '에디터', 'description': '유니티 에디터는 개발자가 게임 개발을 위해 사용하는 그래픽 사용자 인터페이스(GUI)로, 오브젝트의 생성, 조작, 설정 등을 수행할 수 있는 도구를 제공합니다.'}]\n",
      "Inference Time: 21.87 seconds\n",
      "Peak GPU Memory Usage: 16.00 GB\n",
      "BLEU score: 0.5301\n",
      "Log probability score (sum): -50.2070\n",
      "\n",
      "==== Example 2 ====\n"
     ]
    },
    {
     "name": "stderr",
     "output_type": "stream",
     "text": [
      "Setting `pad_token_id` to `eos_token_id`:128009 for open-end generation.\n"
     ]
    },
    {
     "name": "stdout",
     "output_type": "stream",
     "text": [
      "Candidate output:\n",
      "[{'term': '유니티', 'description': '유니티는 게임 및 시뮬레이션 개발에 널리 사용되는 엔진으로, 2D 및 3D 게임을 제작하는 데 필요한 다양한 툴과 기능을 제공합니다. 다양한 플랫폼에 배포할 수 있는 크로스 플랫폼 기능이 특징입니다.'}, \n",
      "{'term': 'C# 스크립트', 'description': 'C# 언어를 사용하여 유니티에서 게임 로직을 구현하는 스크립트입니다. 유니티의 C# 스크립트는 게임 로직, 입력 처리, 물리 시뮬레이션 등 다양한 기능을 구현할 수 있습니다.'}, \n",
      "{'term': '플레이어 오브젝트', 'description': '게임 플레이어가 조종하는 캐릭터를 나타내는 오브젝트로, 움직임, 애니메이션, 이벤트 처리 등을 포함합니다.'}, \n",
      "{'term': '리기드 바디 2D', 'description': '물리적 상호작용을 위해 오브젝트에 물리적 특성을 부여하는 컴포넌트로, 중력이나 충돌 감지 등을 설정할 수 있습니다.'}, \n",
      "{'term': '인풋 벡터', 'description': '방향키 입력을 나타내는 벡터로, 좌우 및 상하 방향키의 입력 값을 저장합니다.'}, \n",
      "{'term': 'FixedDeltaTime', 'description': '유니티의 Time.deltaTime과는 달리, FixedUpdate 함수에서 사용되는 시간 단위로, 고정된 프레임 시간을 사용하여 물리 시뮬레이션을 제어합니다.'}, \n",
      "{'term': 'Normalize', 'description': '벡터의 길이를 1로 만들어 정규화하는 함수로, 방향을 유지하면서 속도를 조절할 수 있게 합니다.'}, \n",
      "{'term': 'AddForce', 'description': '물리적 힘을 적용하여 오브젝트의 움직임을 제어하는 메서드입니다.'}, \n",
      "{'term': 'MovePosition', 'description': '오브젝트의 위치를 직접 이동시키는 메서드로, 리지드 바디 컴포넌트를 사용하여 물리적 움직임을 구현합니다.'}, \n",
      "{'term': 'Update', 'description': '프레임 단위로 호출되는 함수로, 입력 처리, 애니메이션 업데이트, 게임 로직 업데이트 등을 수행합니다.'}, \n",
      "{'term': 'Awake', 'description': '오브젝트가 초기화될 때 한 번 호출되는 함수로, 초기화 작업이나 컴포넌트 초기화가 필요할 때 사용합니다.'}]\n",
      "Inference Time: 15.11 seconds\n",
      "Peak GPU Memory Usage: 16.60 GB\n",
      "BLEU score: 0.0053\n",
      "Log probability score (sum): -91.0249\n",
      "\n",
      "==== Example 3 ====\n"
     ]
    },
    {
     "name": "stderr",
     "output_type": "stream",
     "text": [
      "Setting `pad_token_id` to `eos_token_id`:128009 for open-end generation.\n"
     ]
    },
    {
     "name": "stdout",
     "output_type": "stream",
     "text": [
      "Candidate output:\n",
      "[{'term': '유니티', 'description': '유니티는 게임 및 시뮬레이션 개발에 널리 사용되는 엔진으로, 2D 및 3D 게임을 제작하는 데 필요한 다양한 툴과 기능을 제공합니다. 다양한 플랫폼에 배포할 수 있는 크로스 플랫폼 기능이 특징입니다.'}, \n",
      "{'term': '뉴 인풋 시스템', 'description': '유니티에서 새로운 입력 시스템으로, 기존의 Input 클래스 대신 사용할 수 있는 모듈식 구조로 설계되어 유연성과 확장성이 뛰어나며, 다양한 입력 장치와의 통합을 용이하게 합니다.'}, \n",
      "{'term': '뱀서라이크', 'description': '뱀서라이크 게임 장르는 플레이어가 자신의 캐릭터를 조종하여 지속적으로 생성되는 적을 물리치고 생존을 추구하는 게임 유형으로, 주로 롤플레잉 요소를 포함합니다.'}, \n",
      "{'term': '패키지 매니저', 'description': '유니티에서 프로젝트에 필요한 패키지를 설치, 업데이트, 제거하는 도구로, 유니티 에셋 스토어에서 다양한 패키지를 쉽게 관리할 수 있습니다.'}, \n",
      "{'term': '유니티 레지스트리', 'description': '유니티에서 모든 프로젝트의 설정과 데이터를 저장하는 중심적인 데이터베이스로, 패키지 설치, 프로젝트 설정, 사용자 설정 등을 관리합니다.'}, \n",
      "{'term': '인풋 액션', 'description': '유니티의 입력 시스템에서 특정 입력 이벤트(예: 키보드 입력, 게임 패드 입력 등)를 처리하는 단위로, 액션 프로필에서 설정하여 사용할 수 있습니다.'}, \n",
      "{'term': '액션 프로필', 'description': '인풋 시스템에서 사용자 정의 입력 매핑을 저장하는 파일로, 다양한 액션을 정의하고 이를 게임 로직에 적용할 수 있습니다.'}, \n",
      "{'term': '스크립트', 'description': '프로그래밍 언어를 사용하여 게임 로직을 구현하는 파일로, 유니티에서는 C# 언어를 주로 사용합니다.'}, \n",
      "{'term': '유니티 InputSystem', 'description': '유니티에서 제공하는 입력 시스템으로, 다양한 입력 장치와의 통합을 용이하게 하며, 기존 Input 클래스를 대체하여 사용할 수 있습니다.'}, \n",
      "{'term': '플레이어', 'description': '게임에서 사용자와 상호작용하는 캐릭터를 의미하며, 플레이어의 움직임, 행동, 상태 등을 관리하는 중요한 요소입니다.'}, \n",
      "{'term': '로컬라이제이션', 'description': '게임의 언어, 날짜, 시간 등의 설정을 사용자 지역에 맞게 조정하는 과정으로, 게임의 글로벌 배포 시 지역별로 적절한 설정을 적용할 수 있습니다.'}, \n",
      "{'term': '데이터베이스', 'description': '데이터를 구조화하고 관리하기 위한 시스템으로, 유니티에서는 프로젝트 데이터를 저장하고 관리하는 데 사용됩니다.'}]\n",
      "\n",
      "이러한 키워드들은 유튜브 영상의 내용을 바탕으로 유니티와 관련된 다양한 개념을 설명하는 데 도움이 될 것입니다.\n",
      "Inference Time: 18.75 seconds\n",
      "Peak GPU Memory Usage: 16.40 GB\n",
      "BLEU score: 0.0083\n",
      "Log probability score (sum): -123.8766\n",
      "\n",
      "==== Example 4 ====\n"
     ]
    },
    {
     "name": "stderr",
     "output_type": "stream",
     "text": [
      "Setting `pad_token_id` to `eos_token_id`:128009 for open-end generation.\n"
     ]
    },
    {
     "name": "stdout",
     "output_type": "stream",
     "text": [
      "Candidate output:\n",
      "[{'term': '유니티', 'description': '유니티는 게임 및 시뮬레이션 개발에 널리 사용되는 엔진으로, 2D 및 3D 게임을 제작하는 데 필요한 다양한 툴과 기능을 제공합니다. 다양한 플랫폼에 배포할 수 있는 크로스 플랫폼 기능이 특징입니다.'}, \n",
      "{'term': '셀 애니메이션', 'description': '셀 애니메이션은 여러 스프라이트를 순차적으로 재생시키는 방식으로 애니메이션을 만드는 기법입니다. 예를 들어, 런 0, 1, 2와 같은 이미지들을 사용해 애니메이션을 만듭니다.'}, \n",
      "{'term': '애니메이터 컴포넌트', 'description': '애니메이터 컴포넌트는 애니메이션 상태를 관리하는 데 사용되는 유니티의 컴포넌트로, 변경할 애니메이션 파일을 쉽게 드래그하여 연결할 수 있습니다.'}, \n",
      "{'term': '플립 X', 'description': '플립 X 설정은 캐릭터가 좌측 방향으로 이동할 때 적용되는 유니티의 기능으로, X 값이 -1일 때 플립을 적용해야 합니다.'}, \n",
      "{'term': '스프라이트', 'description': '스프라이트는 2D 게임에서 사용되는 잘라낸 이미지나 그림을 의미합니다. 캐릭터, 아이템, 이펙트 등 다양한 요소의 비주얼을 표현할 수 있습니다.'}, \n",
      "{'term': '애니메이션 오버라이드 컨트롤러', 'description': '애니메이션 오버라이드 컨트롤러는 기존 애니메이터를 재활용하여 새로운 캐릭터에 적용할 때 새로운 애니메이션만 변경할 수 있게 해주는 유니티의 기능입니다.'}, \n",
      "{'term': '코드 초기화', 'description': '코드에서 애니메이터를 활성화하기 위해 반드시 초기화를 해야 합니다. 상태 전환을 위해 변수나 트리거를 설정할 수 있습니다.'}, \n",
      "{'term': '인풋 벡터', 'description': '인풋 벡터는 사용자 입력을 받아 애니메이션 상태를 변화시키는 데 사용되는 변수로, 인풋 벡터의 크기를 기반으로 애니메이션 상태를 변화시킬 수 있습니다.'}, \n",
      "{'term': '셀 애니메이션 기법', 'description': '셀 애니메이션 기법은 여러 스프라이트를 순차적으로 재생시키는 방식으로 애니메이션을 만드는 기법으로, 런 0, 1, 2와 같은 이미지들을 사용해 애니메이션을 만듭니다.'}, \n",
      "{'term': '애니메이션 상태 전환', 'description': '애니메이션 상태 전환은 애니메이터 컴포넌트를 사용하여 애니메이션을 변경하는 과정으로, 변수나 트리거를 설정하여 상태 전환을 관리할 수 있습니다.'}, \n",
      "{'term': '기존 애니메이터 재활용', 'description': '기존 애니메이터를 재활용하여 새로운 캐릭터에 적용하는 방법으로, 애니메이션 오버라이드 컨트롤러를 사용하여 기존 설정을 유지하면서 새로운 애니메이션만 변경할 수 있습니다.'}]\n",
      "Inference Time: 19.12 seconds\n",
      "Peak GPU Memory Usage: 16.30 GB\n",
      "BLEU score: 0.0317\n",
      "Log probability score (sum): -43.7218\n",
      "\n",
      "==== Example 5 ====\n"
     ]
    },
    {
     "name": "stderr",
     "output_type": "stream",
     "text": [
      "Setting `pad_token_id` to `eos_token_id`:128009 for open-end generation.\n"
     ]
    },
    {
     "name": "stdout",
     "output_type": "stream",
     "text": [
      "Candidate output:\n",
      "[{'term': '유니티', 'description': '유니티는 게임 및 시뮬레이션 개발에 널리 사용되는 엔진으로, 2D 및 3D 게임을 제작하는 데 필요한 다양한 툴과 기능을 제공합니다. 다양한 플랫폼에 배포할 수 있는 크로스 플랫폼 기능이 특징입니다.'}, \n",
      "{'term': '타일맵', 'description': '타일맵은 2D 게임에서 사용되는 맵을 표현하는 방식으로, 정사각형 타일을 배열하여 맵 구조를 구성합니다. 랜덤 타일을 사용하여 다양한 맵을 생성할 수 있습니다.'}, \n",
      "{'term': '온 트리거', 'description': '온 트리거는 유니티에서 이벤트를 감지하고 실행하는 기능으로, 특정 조건이 만족되면 자동으로 작동합니다. 여기서는 플레이어가 맵 경계를 넘어가면 새로운 타일맵을 생성하는 이벤트를 처리합니다.'}, \n",
      "{'term': '시네머신', 'description': '시네머신은 유니티에서 카메라의 움직임을 제어하는 패키지로, 부드럽고 자연스러운 카메라 애니메이션을 구현할 수 있습니다. 플레이어를 팔로우하는 동작을 구현할 때 유용하게 사용됩니다.'}, \n",
      "{'term': '지속적인 맵 생성', 'description': '지속적인 맵 생성은 플레이어가 맵의 경계를 넘어가더라도 새로운 맵이 생성되어 플레이어가 계속해서 게임을 진행할 수 있게 하는 기능입니다. 타일맵을 사용하여 이를 구현합니다.'}, \n",
      "{'term': '카메라 애니메이션', 'description': '카메라 애니메이션은 게임 내 카메라의 움직임을 부드럽게 처리하여 플레이어에게 자연스러운 시각적 경험을 제공합니다. 시네머신을 사용하여 구현할 수 있습니다.'}, \n",
      "{'term': '물리 이동', 'description': '물리 이동은 게임 오브젝트의 물리적 동작을 구현하는 기능으로, 부드러운 애니메이션 효과를 제공합니다. 카메라의 움직임을 부드럽게 할 때 사용됩니다.'}, \n",
      "{'term': '재배치 로직', 'description': '재배치 로직은 게임에서 오브젝트의 위치를 자동으로 조정하는 알고리즘으로, 플레이어가 맵 경계를 넘어갈 때 새로운 타일맵이 생성되는 과정에서 사용됩니다.'}, \n",
      "{'term': '가상 카메라', 'description': '가상 카메라는 실제 카메라가 아닌 가상의 카메라를 사용하여 카메라의 움직임을 제어하는 방법으로, 플레이어를 팔로우하는 동작을 구현할 때 유용합니다.'}, \n",
      "{'term': '타일 속성', 'description': '타일 속성은 타일맵에서 각 타일의 특성을 정의하는 속성으로, 타일의 배치, 색상, 텍스처 등 다양한 요소를 설정할 수 있습니다.'}, \n",
      "{'term': '랜덤 타일', 'description': '랜덤 타일은 타일맵에서 타일의 배치를 랜덤하게 생성하여 다양한 맵을 만들 수 있게 하는 기능입니다. 타일 속성을 설정하여 다양한 패턴을 생성할 수 있습니다.'}]\n",
      "Inference Time: 19.45 seconds\n",
      "Peak GPU Memory Usage: 16.60 GB\n",
      "BLEU score: 0.0233\n",
      "Log probability score (sum): -128.8649\n",
      "\n",
      "==== Example 6 ====\n"
     ]
    },
    {
     "name": "stderr",
     "output_type": "stream",
     "text": [
      "Setting `pad_token_id` to `eos_token_id`:128009 for open-end generation.\n"
     ]
    },
    {
     "name": "stdout",
     "output_type": "stream",
     "text": [
      "Candidate output:\n",
      "[{'term': '유니티', 'description': '유니티는 게임 및 시뮬레이션 개발에 널리 사용되는 엔진으로, 2D 및 3D 게임을 제작하는 데 필요한 다양한 툴과 기능을 제공합니다. 다양한 플랫폼에 배포할 수 있는 크로스 플랫폼 기능이 특징입니다.'}, \n",
      "'term': '뱀서라이크', 'description': '뱀서라이크 게임 장르는 플레이어가 자신의 캐릭터를 조종하여 지속적으로 생성되는 적을 물리치고 생존을 추구하는 게임 유형으로, 주로 롤플레잉 요소를 포함합니다.'}, \n",
      "'term': '에셋', 'description': '게임 개발에서 에셋은 음악, 이미지, 모델 등 게임 내에서 사용되는 요소들을 의미합니다. 에셋은 게임의 비주얼과 사운드 요소를 구축하는 중요한 역할을 합니다.'}, \n",
      "'term': '스프라이트', 'description': '스프라이트는 2D 게임에서 사용되는 잘라낸 이미지나 그림을 의미합니다. 캐릭터, 아이템, 이펙트 등 다양한 요소의 비주얼을 표현할 수 있습니다.'}, \n",
      "'term': '리지드 바디 2D', 'description': '리지드 바디 2D 컴포넌트는 물리적 상호작용을 위해 오브젝트에 물리적 특성을 부여하는 기능을 제공하며, 중력이나 충돌 감지 등을 설정할 수 있습니다.'}, \n",
      "'term': '캡슐 콜라이더 2D', 'description': '캡슐 콜라이더 2D는 2D 공간에서 오브젝트의 물리적 경계를 정의하는 컴포넌트로, 캐릭터의 충돌 처리를 보다 쉽게 만들어 줍니다.'}, \n",
      "'term': '그래비티 스케일', 'description': '그래비티 스케일은 리지드 바디 컴포넌트에서 중력의 영향을 얼마나 받을지를 결정하는 값으로, 0으로 설정하면 중력이 적용되지 않도록 할 수 있습니다.'}, \n",
      "'term': '유니티 허브', 'description': '유니티 허브는 유니티 엔진의 다양한 버전을 관리하고 프로젝트를 생성할 수 있는 툴로, 버전 관리와 라이센스 관리를 돕습니다.'}, \n",
      "'term': 'URP (Universal Render Pipeline)', 'description': 'URP는 유니티에서 제공하는 렌더링 파이프라인의 하나로, 다양한 플랫폼에서 최적화된 성능을 제공하면서도 시각적으로 우수한 결과를 만들어낼 수 있게끔 설계되었습니다.'}, \n",
      "'term': '스프라이트 설정', 'description': '스프라이트 설정은 스프라이트 이미지의 해상도, 필터링 등 다양한 속성을 조정하여 게임 내 비주얼 품질을 최적화하는 과정입니다.'}, \n",
      "'term': '애니메이터', 'description': '애니메이터는 유니티에서 오브젝트의 움직임을 정의하는 컴포넌트로, 스프라이트를 기반으로 다양한 애니메이션을 추가하고 조정할 수 있습니다.'}, \n",
      "'term': '픽스드 업데이트', 'description': '픽스드 업데이트는 유니티에서 오브젝트의 위치를 정밀하게 업데이트하는 메소드로, 특정 조건에 따라 오브젝트의 움직임을 제어할 수 있습니다.'}, \n",
      "'term': '벡터 연산', 'description': '벡터 연산은 유니티에서 벡터를 사용하여 다양한 수학적 연산을 수행할 수 있게 해줍니다. 몬스터의 움직임을 계산하고 조정하는 데 사용됩니다.'}, \n",
      "'term': '리포지션', 'description': '리포지션 기능은 몬스터가 플레이어와 일정 거리 내에서 유지하면서 플레이어의 방향에 따라 움직이는 기능을 구현합니다.'}, \n",
      "'term': '콜라이더 2D', 'description': '콜라이더 2D는 2D 공간에서 오브젝트의 물리적 경계를 정의하는 컴포넌트로, 몬스터의 생사 상태와 위치를 관리하는 데 사용됩니다.'}, \n",
      "'term': '에너미 태그', 'description': '에너미 태그는 유니티에서 적의 상태를 나타내는 태그로, �\n",
      "Inference Time: 26.21 seconds\n",
      "Peak GPU Memory Usage: 16.70 GB\n",
      "BLEU score: 0.0313\n",
      "Log probability score (sum): -51.6501\n",
      "\n",
      "==== Example 7 ====\n"
     ]
    },
    {
     "name": "stderr",
     "output_type": "stream",
     "text": [
      "Setting `pad_token_id` to `eos_token_id`:128009 for open-end generation.\n"
     ]
    },
    {
     "name": "stdout",
     "output_type": "stream",
     "text": [
      "Candidate output:\n",
      "[{'term': '유니티', 'description': '유니티는 게임 및 시뮬레이션 개발에 널리 사용되는 엔진으로, 2D 및 3D 게임을 제작하는 데 필요한 다양한 툴과 기능을 제공합니다. 다양한 플랫폼에 배포할 수 있는 크로스 플랫폼 기능이 특징입니다.'}, \n",
      "{'term': '프리팹', 'description': '프리팹은 Unity에서 재사용 가능한 자원으로, 게임 내에서 반복적으로 사용되는 오브젝트나 요소를 미리 준비해놓은 상태로 저장된 파일입니다. 이를 통해 게임 개발 효율성을 높일 수 있습니다.'}, \n",
      "{'term': '오브젝트 풀링', 'description': '오브젝트 풀링은 게임에서 자주 사용되는 오브젝트를 미리 생성해두고 필요할 때 이를 인스턴스화하여 사용하는 기술입니다. 이를 통해 메모리 사용을 최적화하고 성능 저하를 방지할 수 있습니다.'}, \n",
      "{'term': '풀 매니저', 'description': '풀 매니저는 오브젝트 풀링을 관리하는 컴포넌트로, 오브젝트 풀을 초기화하고, 오브젝트를 생성하고 파괴하며, 풀 상태를 모니터링하는 역할을 합니다.'}, \n",
      "{'term': '리스트', 'description': '리스트는 프로그래밍에서 여러 개의 항목을 모아 저장할 수 있는 데이터 구조로, 오브젝트 풀링을 구현할 때 사용되는 중요한 데이터 구조입니다.'}, \n",
      "{'term': '인스턴스화', 'description': '인스턴스화는 프로그래밍에서 클래스나 오브젝트를 실제 메모리에 생성하는 과정으로, 오브젝트 풀링에서 필요한 오브젝트를 필요에 따라 생성하고 사용하는 방법입니다.'}, \n",
      "{'term': '메모리 관리', 'description': '메모리 관리는 프로그램이 실행 중인 동안 메모리 자원을 효율적으로 사용하고, 메모리 누수나 오버헤드를 방지하기 위한 과정입니다. 오브젝트 풀링은 메모리 관리에 중요한 역할을 합니다.'}, \n",
      "{'term': '엔트리', 'description': '엔트리는 데이터베이스에서 한 개의 데이터 항목을 의미하며, 오브젝트 풀링에서는 오브젝트를 생성하고 관리하는 데 사용됩니다.'}, \n",
      "{'term': '리젠', 'description': '리젠은 Unity에서 오브젝트를 다시 생성하거나 재사용하는 과정을 의미하며, 오브젝트 풀링에서 필요할 때마다 적을 생성하여 플레이어 주변에 소환하는 과정을 포함합니다.'}, \n",
      "{'term': '리스트 초기화', 'description': '리스트 초기화는 리스트를 비어 있는 상태로 설정하는 과정으로, 오브젝트 풀링을 구현할 때 리스트를 초기화하여 오브젝트를 저장하고 관리할 수 있도록 합니다.'}, \n",
      "{'term': '엔진', 'description': '엔진은 소프트웨어 개발에서 프로그램의 핵심 기능을 제공하는 소프트웨어를 의미합니다. 유니티 엔진은 게임 개발에 필요한 다양한 기능과 도구를 제공합니다.'}]\n",
      "Inference Time: 17.83 seconds\n",
      "Peak GPU Memory Usage: 16.50 GB\n",
      "BLEU score: 0.0112\n",
      "Log probability score (sum): -117.8676\n",
      "\n",
      "==== Example 8 ====\n"
     ]
    },
    {
     "name": "stderr",
     "output_type": "stream",
     "text": [
      "Setting `pad_token_id` to `eos_token_id`:128009 for open-end generation.\n"
     ]
    },
    {
     "name": "stdout",
     "output_type": "stream",
     "text": [
      "Candidate output:\n",
      "[{'term': '유니티', 'description': '유니티는 게임 및 시뮬레이션 개발에 널리 사용되는 엔진으로, 2D 및 3D 게임을 제작하는 데 필요한 다양한 툴과 기능을 제공합니다. 다양한 플랫폼에 배포할 수 있는 크로스 플랫폼 기능이 특징입니다.'}, \n",
      " {'term': '뱀서라이크', 'description': '뱀서라이크 게임 장르는 플레이어가 자신의 캐릭터를 조종하여 지속적으로 생성되는 적을 물리치고 생존을 추구하는 게임 유형으로, 주로 롤플레잉 요소를 포함합니다.'}, \n",
      " {'term': '게임 매니저', 'description': '게임 매니저 스크립트는 게임의 주요 로직을 관리하는 역할을 합니다. 게임의 흐름, 이벤트, 상태 등을 제어하여 게임의 동작을 원활하게 합니다.'}, \n",
      " {'term': '레벨', 'description': '게임 내에서 플레이어가 도달해야 하는 목표나 상태를 나타내는 단위로, 게임의 난이도와 콘텐츠를 조절하는 중요한 요소입니다.'}, \n",
      " {'term': '몬스터', 'description': '게임에서 플레이어를 공격하는 적 캐릭터로, 다양한 속성과 능력을 가지고 있으며 게임의 난이도를 조절하는 요소입니다.'}, \n",
      " {'term': '오브젝트 풀링', 'description': '오브젝트 풀링은 게임에서 여러 개의 동일한 오브젝트를 효율적으로 관리하고 생성하는 기법으로, 게임의 성능을 최적화하는 데 유용합니다.'}, \n",
      " {'term': '스폰 데이터', 'description': '몬스터의 속성(타입, 소환 타임, 체력, 스피드)을 저장하는 데이터 구조로, 게임 내에서 몬스터의 초기화와 관리를 위해 사용됩니다.'}, \n",
      " {'term': '직렬화', 'description': '데이터를 컴퓨터 내부에서 효율적으로 저장하고 전송하기 위해 구조화된 형태로 변환하는 과정으로, 게임 내 데이터의 효율적인 관리를 위해 사용됩니다.'}, \n",
      " {'term': '애니메이터', 'description': '유니티에서 애니메이션을 관리하고 제어하는 컴포넌트로, 몬스터의 움직임과 행동을 정의하고 조절합니다.'}, \n",
      " {'term': '풀 매니저', 'description': '유니티에서 오브젝트의 생성, 제거, 관리를 자동화하는 스크립트로, 게임 내 오브젝트의 동적 생성과 관리를 돕습니다.'}, \n",
      " {'term': '게임 타임', 'description': '게임의 시간을 관리하는 변수로, 게임 내 이벤트와 로직을 시간에 따라 조절하는 데 사용됩니다.'}]\n",
      "\n",
      "이 문서는 유니티를 활용한 뱀서라이크 게임 개발의 효율적인 방법을 소개합니다. 주요 키워드는 유니티 엔진, 뱀서라이크 게임 장르, 게임 매니저, 레벨, 몬스터, 오브젝트 풀링, 스폰 데이터, 직렬화, 애니메이터, 풀 매니저, 게임 타임 등으로 구성되어 있습니다. 이 키워드들은 게임 개발의 다양한 측면을 다루고 있으며, 유니티를 활용한 게임 로직과 관리 방법을 구체적으로 설명합니다.\n",
      "Inference Time: 19.32 seconds\n",
      "Peak GPU Memory Usage: 16.40 GB\n",
      "BLEU score: 0.0051\n",
      "Log probability score (sum): -121.1273\n",
      "\n",
      "==== Example 9 ====\n"
     ]
    },
    {
     "name": "stderr",
     "output_type": "stream",
     "text": [
      "Setting `pad_token_id` to `eos_token_id`:128009 for open-end generation.\n"
     ]
    },
    {
     "name": "stdout",
     "output_type": "stream",
     "text": [
      "Candidate output:\n",
      "[{'term': '유니티', 'description': '유니티는 게임 및 시뮬레이션 개발에 널리 사용되는 엔진으로, 2D 및 3D 게임을 제작하는 데 필요한 다양한 툴과 기능을 제공합니다. 다양한 플랫폼에 배포할 수 있는 크로스 플랫폼 기능이 특징입니다.'}, \n",
      "{'term': '프리펩', 'description': '프리펩은 유니티에서 게임 오브젝트의 인스턴스를 쉽게 재사용할 수 있도록 도와주는 유용한 기능으로, 오브젝트의 내용과 외형을 설정하고 필요한 스프라이트를 추가하여 빠르게 게임 환경을 구성할 수 있습니다.'}, \n",
      "{'term': '충돌 로직', 'description': '충돌 로직은 게임에서 오브젝트가 서로 충돌할 때 발생하는 이벤트를 처리하는 코드로, 충돌 시의 반응을 정의하고 게임의 동작을 제어하는 데 사용됩니다.'}, \n",
      "{'term': '스프라이트', 'description': '스프라이트는 2D 게임에서 사용되는 잘라낸 이미지나 그림을 의미하며, 캐릭터, 아이템, 이펙트 등 다양한 요소의 비주얼을 표현할 수 있습니다.'}, \n",
      "{'term': '리짓 체이너지 2D', 'description': '리짓 체이너지 2D 컴포넌트는 물리적 상호작용을 위해 오브젝트에 물리적 특성을 부여하는 기능을 제공하며, 중력이나 충돌 감지 등을 설정할 수 있습니다.'}, \n",
      "{'term': '캡슐 콜라이더 2D', 'description': '캡슐 콜라이더 2D는 2D 공간에서 오브젝트의 물리적 경계를 정의하는 컴포넌트로, 캐릭터의 충돌 처리를 보다 쉽게 만들어 줍니다.'}, \n",
      "{'term': '그래비티 스케일', 'description': '그래비티 스케일은 리짓 체이너지 컴포넌트에서 중력의 영향을 얼마나 받을지를 결정하는 값으로, 0으로 설정하면 중력이 적용되지 않도록 할 수 있습니다.'}, \n",
      "{'term': '유니티 허브', 'description': '유니티 허브는 유니티 엔진의 다양한 버전을 관리하고 프로젝트를 생성할 수 있는 툴로, 버전 관리와 라이센스 관리를 돕습니다.'}, \n",
      "{'term': 'URP (Universal Render Pipeline)', 'description': 'URP는 유니티에서 제공하는 렌더링 파이프라인의 하나로, 다양한 플랫폼에서 최적화된 성능을 제공하면서도 시각적으로 우수한 결과를 만들어낼 수 있게끔 설계되었습니다.'}, \n",
      "{'term': '스프라이트 설정', 'description': '스프라이트 설정은 스프라이트 이미지의 해상도, 필터링 등 다양한 속성을 조정하여 게임 내 비주얼 품질을 최적화하는 과정입니다.'}, \n",
      "{'term': '근접무기', 'description': '근접무기는 플레이어가 적과 가까운 거리에서 사용하는 무기로, 주로 롤플레잉 게임에서 중요한 요소로 사용됩니다.'}, \n",
      "{'term': '유니티 에디터', 'description': '유니티 에디터는 유니티 엔진에서 게임 오브젝트와 컴포넌트를 그래픽적으로 조작하고 설정할 수 있는 인터페이스입니다.'}, \n",
      "{'term': '충돌 이벤트', 'description': '충돌 이벤트는 게임에서 오브젝트가 충돌할 때 발생하는 특정 이벤트를 처리하는 메커니즘으로, 충돌 로직을 통해 게임의 동작을 제어합니다.'}]\n",
      "Inference Time: 21.63 seconds\n",
      "Peak GPU Memory Usage: 16.40 GB\n",
      "BLEU score: 0.0033\n",
      "Log probability score (sum): -60.2736\n",
      "\n",
      "==== Example 10 ====\n",
      "Candidate output:\n",
      "[{'term': '유니티', 'description': '유니티는 게임 및 시뮬레이션 개발에 널리 사용되는 엔진으로, 2D 및 3D 게임을 제작하는 데 필요한 다양한 툴과 기능을 제공합니다. 다양한 플랫폼에 배포할 수 있는 크로스 플랫폼 기능이 특징입니다.'}, \n",
      "{'term': '뱀서라이크', 'description': '뱀서라이크 게임 장르는 플레이어가 자신의 캐릭터를 조종하여 지속적으로 생성되는 적을 물리치고 생존을 추구하는 게임 유형으로, 주로 롤플레잉 요소를 포함합니다.'}, \n",
      "{'term': '스캐너', 'description': '스캐너는 게임 내에서 특정 범위 내의 오브젝트를 감지하고 탐지하는 기능을 제공하는 컴포넌트로, 원거리 공격 시스템에서 적의 위치를 인식하는 데 사용됩니다.'}, \n",
      "{'term': '레이캐스트', 'description': '레이캐스트는 2D 또는 3D 공간에서 특정 범위 내의 오브젝트를 탐지하는 기능으로, 스캐너에서 사용되는 기본적인 탐지 방법입니다.'}, \n",
      "{'term': '적', 'description': '게임 내에서 플레이어에게 위협을 주는 오브젝트를 의미하며, 이 영상에서는 스캐너가 몬스터를 감지하여 플레이어에게 원거리 공격을 가하도록 설정합니다.'}, \n",
      "{'term': '플레이어', 'description': '게임에서 사용자나 주인공을 의미하며, 이 영상에서는 플레이어가 스캐너에 의해 감지되어 원거리 공격을 받을 수 있도록 설정됩니다.'}, \n",
      "{'term': '총알', 'description': '플레이어 또는 적이 공격을 가하기 위해 발사하는 물리적 오브젝트를 의미하며, 이 영상에서는 플레이어가 총알을 발사하여 적을 공격하도록 설정합니다.'}, \n",
      "{'term': '레이어', 'description': '유니티에서 물리적 구분을 위한 기능으로, 오브젝트의 물리적 특성을 구분하는 데 사용됩니다. 예를 들어, 적 오브젝트의 레이어를 설정하여 스캐너가 특정 오브젝트만 감지하도록 할 수 있습니다.'}, \n",
      "{'term': '스프린트', 'description': '게임에서 캐릭터가 빠르게 움직이는 동작을 의미하며, 이 영상에서는 원거리 공격 시스템을 구현하는 데 직접적으로 관련되지 않습니다.'}, \n",
      "{'term': 'Fixed Update', 'description': '유니티의 Update 함수 중 하나로, 게임의 프레임이 고정된 속도로 업데이트되는 함수입니다. 이 함수는 게임의 로직을 주기적으로 실행하도록 사용됩니다.'}, \n",
      "{'term': '몬스터', 'description': '게임 내에서 플레이어에게 위협을 주는 적의 일종으로, 이 영상에서는 스캐너가 몬스터를 감지하여 플레이어에게 원거리 공격을 가하도록 설정합니다.'}]\n",
      "\n",
      "이 키워드들은 유니티를 사용하여 뱀서라이크 게임에서 원거리 공격 시스템을 구현하는 과정에서 사용되는 주요 용어와 개념을 포함합니다. 각 용어에 대한 설명은 해당 용어가 게임 개발과 유니티 엔진에서 어떤 역할을 하는지, 그리고 어떻게 사용되는지를 명확하게 이해할 수 있도록 구체적으로 제공되었습니다.\n",
      "Inference Time: 19.28 seconds\n",
      "Peak GPU Memory Usage: 16.40 GB\n",
      "BLEU score: 0.0088\n",
      "Log probability score (sum): -124.7260\n"
     ]
    },
    {
     "data": {
      "text/html": [],
      "text/plain": [
       "<IPython.core.display.HTML object>"
      ]
     },
     "metadata": {},
     "output_type": "display_data"
    },
    {
     "data": {
      "text/html": [
       "<br>    <style><br>        .wandb-row {<br>            display: flex;<br>            flex-direction: row;<br>            flex-wrap: wrap;<br>            justify-content: flex-start;<br>            width: 100%;<br>        }<br>        .wandb-col {<br>            display: flex;<br>            flex-direction: column;<br>            flex-basis: 100%;<br>            flex: 1;<br>            padding: 10px;<br>        }<br>    </style><br><div class=\"wandb-row\"><div class=\"wandb-col\"><h3>Run history:</h3><br/><table class=\"wandb\"><tr><td>BLEU_score</td><td>█▁▁▁▁▁▁▁▁▁</td></tr><tr><td>Inference_time_sec</td><td>▅▁▃▄▄█▃▄▅▄</td></tr><tr><td>Log_probability_score</td><td>▇▄▁█▁▇▂▂▇▁</td></tr><tr><td>Peak_GPU_Memory_GB</td><td>▁▇▅▄▇█▆▅▅▅</td></tr><tr><td>basic_memory</td><td>▁</td></tr><tr><td>example_index</td><td>▁▂▃▃▄▅▆▆▇█</td></tr></table><br/></div><div class=\"wandb-col\"><h3>Run summary:</h3><br/><table class=\"wandb\"><tr><td>BLEU_score</td><td>0.00879</td></tr><tr><td>Inference_time_sec</td><td>19.27719</td></tr><tr><td>Log_probability_score</td><td>-124.72599</td></tr><tr><td>Peak_GPU_Memory_GB</td><td>16.4</td></tr><tr><td>basic_memory</td><td>15</td></tr><tr><td>example_index</td><td>9</td></tr></table><br/></div></div>"
      ],
      "text/plain": [
       "<IPython.core.display.HTML object>"
      ]
     },
     "metadata": {},
     "output_type": "display_data"
    },
    {
     "data": {
      "text/html": [
       " View run <strong style=\"color:#cdcd00\">8B_4bit_quantization</strong> at: <a href='https://wandb.ai/iamkimhongil92-lumenasoft/hangae_99_8/runs/swus6jwn' target=\"_blank\">https://wandb.ai/iamkimhongil92-lumenasoft/hangae_99_8/runs/swus6jwn</a><br> View project at: <a href='https://wandb.ai/iamkimhongil92-lumenasoft/hangae_99_8' target=\"_blank\">https://wandb.ai/iamkimhongil92-lumenasoft/hangae_99_8</a><br>Synced 5 W&B file(s), 0 media file(s), 0 artifact file(s) and 0 other file(s)"
      ],
      "text/plain": [
       "<IPython.core.display.HTML object>"
      ]
     },
     "metadata": {},
     "output_type": "display_data"
    },
    {
     "data": {
      "text/html": [
       "Find logs at: <code>./wandb/run-20250213_103737-swus6jwn/logs</code>"
      ],
      "text/plain": [
       "<IPython.core.display.HTML object>"
      ]
     },
     "metadata": {},
     "output_type": "display_data"
    }
   ],
   "source": [
    "import json\n",
    "import time\n",
    "import torch\n",
    "import transformers\n",
    "import wandb\n",
    "from nltk.translate.bleu_score import sentence_bleu, SmoothingFunction\n",
    "import nltk\n",
    "from transformers import BitsAndBytesConfig\n",
    "\n",
    "\n",
    "# nltk 다운로드 (최초 1회)\n",
    "nltk.download('punkt')\n",
    "\n",
    "# wandb 초기화\n",
    "wandb.init(project=\"hangae_99_8\", name=\"8B_4bit_quantization\")\n",
    "\n",
    "# corpus.json 파일 로드 (UTF-8 인코딩)\n",
    "with open(\"./corpus.json\", \"r\", encoding=\"utf-8\") as f:\n",
    "    evaluation_data = json.load(f)\n",
    "\n",
    "# 10개만 추론\n",
    "evaluation_data = evaluation_data[:10]\n",
    "\n",
    "# 허깅페이스 방식으로 모델 및 파이프라인 초기화\n",
    "model_id = \"MLP-KTLim/llama-3-Korean-Bllossom-8B\"\n",
    "\n",
    "quantization_config = BitsAndBytesConfig(\n",
    "    load_in_4bit=True,\n",
    "    bnb_4bit_compute_dtype=torch.bfloat16,\n",
    "    bnb_4bit_use_double_quant=True,\n",
    "    bnb_4bit_quant_type=\"nf4\",\n",
    ")\n",
    "\n",
    "\n",
    "generator = transformers.pipeline(\n",
    "    \"text-generation\",\n",
    "    model=model_id,\n",
    "    tokenizer=model_id,\n",
    "    device_map=\"auto\",\n",
    "    model_kwargs={\"torch_dtype\": torch.bfloat16},\n",
    "    quantization_config=quantization_config  # 4비트 양자화를 적용합니다.\n",
    ")\n",
    "generator.model.eval()\n",
    "\n",
    "# 시스템 프롬프트 정의\n",
    "SYSTEM_PROMPT = (\n",
    "    \"You are a helpful AI assistant. Please answer the user's questions kindly. \"\n",
    "    \"당신은 유능한 AI 어시스턴트 입니다. 사용자의 질문에 대해 친절하게 답변해주세요.\"\n",
    ")\n",
    "\n",
    "# 채팅 템플릿을 적용하여 프롬프트를 생성하는 함수\n",
    "def make_prompt(system_msg: str, user_msg: str) -> str:\n",
    "\n",
    "    msg = f\"\"\"\n",
    "다음은 유튜브 타임라인 요약 문서입니다. 이 내용을 분석하여 10개의 핵심 용어(KeyPoint)와 설명을 생성하세요.\n",
    "설명을 생성할 때 영상 위주가 아닌 최대한 전문적이고 구체적으로 추가 설명해주세요. 저는 영상 내용 뿐 아니라 그 용어에 대한 내용을 알고 싶습니다.\n",
    "중요하지 않더라도 알면 좋을 추가 핵심 용어도 더해주세요.\n",
    "\n",
    "[타임라인 요약]:\n",
    "{user_msg}\n",
    "\n",
    "[가이드]:\n",
    "- 필드는 `term`과 `description`을 포함하며, 결과는  10개의 키포인트 리스트로 구성됩니다.\n",
    "- 반드시 JSON 형식에 맞춰 반환하세요.\n",
    "- 다른 텍스트는 포함하지 마세요.\n",
    "\n",
    "[예시]:\n",
    "{evaluation_data[0]['output']}\n",
    "\"\"\"\n",
    "\n",
    "    messages = [\n",
    "        {\"role\": \"system\", \"content\": system_msg},\n",
    "        {\"role\": \"user\", \"content\": msg}\n",
    "    ]\n",
    "    prompt = generator.tokenizer.apply_chat_template(\n",
    "        messages,\n",
    "        tokenize=False,\n",
    "        add_generation_prompt=True\n",
    "    )\n",
    "    return prompt\n",
    "\n",
    "# 종료 토큰 설정\n",
    "terminators = [\n",
    "    generator.tokenizer.eos_token_id,\n",
    "    generator.tokenizer.convert_tokens_to_ids(\"<|eot_id|>\")\n",
    "]\n",
    "\n",
    "print(f'{round(generator.model.get_memory_footprint() / (1024 ** 3), 1)}GB')\n",
    "wandb.log({\"basic_memory\": round(generator.model.get_memory_footprint() / (1024 ** 3), 1)})\n",
    "\n",
    "\n",
    "# 평가 루프: corpus.json에 있는 각 예제에 대해 추론 수행\n",
    "for idx, example in enumerate(evaluation_data):\n",
    "    print(f\"\\n==== Example {idx+1} ====\")\n",
    "\n",
    "    # 사용자 입력과 프롬프트 생성\n",
    "    user_input = example[\"input\"]\n",
    "    prompt = make_prompt(SYSTEM_PROMPT, user_input)\n",
    "\n",
    "    # 입력 토큰 인코딩\n",
    "    encoded_input = generator.tokenizer(prompt, return_tensors=\"pt\")\n",
    "    encoded_input = {k: v.to(generator.model.device) for k, v in encoded_input.items()}\n",
    "    prompt_length = encoded_input[\"input_ids\"].shape[1]\n",
    "\n",
    "    # 속도 및 메모리 측정을 위한 시작 시간 기록 및 GPU 메모리 초기화\n",
    "    start_time = time.time()\n",
    "    if torch.cuda.is_available():\n",
    "        torch.cuda.reset_peak_memory_stats(generator.model.device)\n",
    "\n",
    "    # 모델 생성: 토큰별 score 반환 포함\n",
    "    outputs = generator.model.generate(\n",
    "        **encoded_input,\n",
    "        max_new_tokens=1024,\n",
    "        eos_token_id=terminators[0],\n",
    "        do_sample=True,\n",
    "        temperature=0.6,\n",
    "        top_p=0.9,\n",
    "        return_dict_in_generate=True,\n",
    "        output_scores=True,\n",
    "    )\n",
    "\n",
    "    # GPU 동기화 후 종료 시간 기록\n",
    "    if torch.cuda.is_available():\n",
    "        torch.cuda.synchronize(generator.model.device)\n",
    "    end_time = time.time()\n",
    "    elapsed_time = end_time - start_time\n",
    "\n",
    "    # GPU 메모리 사용량 측정 (Peak 메모리, MB 단위)\n",
    "    if torch.cuda.is_available():\n",
    "        peak_memory = peak_memory = round(torch.cuda.max_memory_allocated(generator.model.device) / (1024 ** 3), 1)\n",
    "\n",
    "    else:\n",
    "        peak_memory = 0\n",
    "\n",
    "    # 생성된 전체 토큰에서 프롬프트 이후의 candidate 토큰 추출\n",
    "    generated_ids = outputs.sequences[0]\n",
    "    candidate_ids = generated_ids[prompt_length:]\n",
    "    candidate_text = generator.tokenizer.decode(candidate_ids, skip_special_tokens=True).strip()\n",
    "\n",
    "    print(\"Candidate output:\")\n",
    "    print(candidate_text)\n",
    "    print(f\"Inference Time: {elapsed_time:.2f} seconds\")\n",
    "    print(f\"Peak GPU Memory Usage: {peak_memory:.2f} GB\")\n",
    "\n",
    "    # 참조 텍스트: evaluation_data의 \"output\"을 JSON 문자열로 변환\n",
    "    reference_text = json.dumps(example[\"output\"], ensure_ascii=False, indent=2)\n",
    "\n",
    "    # BLEU 점수 계산 (공백 기준 토큰화)\n",
    "    candidate_tokens = candidate_text.split()\n",
    "    reference_tokens = reference_text.split()\n",
    "    bleu = sentence_bleu(\n",
    "        [reference_tokens],\n",
    "        candidate_tokens,\n",
    "        smoothing_function=SmoothingFunction().method1\n",
    "    )\n",
    "    print(f\"BLEU score: {bleu:.4f}\")\n",
    "\n",
    "    # 로그 확률 계산: 각 생성 토큰에 대해 log‑softmax 후 선택된 토큰의 로그 확률 합산\n",
    "    log_score = 0.0\n",
    "    for i, step_scores in enumerate(outputs.scores):\n",
    "        log_probs = torch.log_softmax(step_scores, dim=-1)\n",
    "        token_id = candidate_ids[i].unsqueeze(0)  # shape: (1,)\n",
    "        token_log_prob = log_probs[0, token_id].item()\n",
    "        log_score += token_log_prob\n",
    "    print(f\"Log probability score (sum): {log_score:.4f}\")\n",
    "\n",
    "    # wandb에 메트릭 로깅\n",
    "    wandb.log({\n",
    "        \"example_index\": idx,\n",
    "        \"BLEU_score\": bleu,\n",
    "        \"Inference_time_sec\": elapsed_time,\n",
    "        \"Peak_GPU_Memory_GB\": peak_memory,\n",
    "        \"Log_probability_score\": log_score\n",
    "    })\n",
    "\n",
    "wandb.finish()"
   ]
  },
  {
   "cell_type": "code",
   "execution_count": null,
   "metadata": {},
   "outputs": [],
   "source": []
  }
 ],
 "metadata": {
  "kernelspec": {
   "display_name": "Python 3 (ipykernel)",
   "language": "python",
   "name": "python3"
  },
  "language_info": {
   "codemirror_mode": {
    "name": "ipython",
    "version": 3
   },
   "file_extension": ".py",
   "mimetype": "text/x-python",
   "name": "python",
   "nbconvert_exporter": "python",
   "pygments_lexer": "ipython3",
   "version": "3.10.12"
  }
 },
 "nbformat": 4,
 "nbformat_minor": 4
}
