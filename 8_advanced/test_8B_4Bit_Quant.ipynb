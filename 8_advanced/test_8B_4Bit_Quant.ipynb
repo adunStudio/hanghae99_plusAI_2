{
 "cells": [
  {
   "cell_type": "code",
   "execution_count": 1,
   "metadata": {},
   "outputs": [
    {
     "name": "stderr",
     "output_type": "stream",
     "text": [
      "[nltk_data] Downloading package punkt to /root/nltk_data...\n",
      "[nltk_data]   Package punkt is already up-to-date!\n",
      "\u001b[34m\u001b[1mwandb\u001b[0m: Currently logged in as: \u001b[33miamkimhongil92\u001b[0m (\u001b[33miamkimhongil92-lumenasoft\u001b[0m) to \u001b[32mhttps://api.wandb.ai\u001b[0m. Use \u001b[1m`wandb login --relogin`\u001b[0m to force relogin\n",
      "\u001b[34m\u001b[1mwandb\u001b[0m: Using wandb-core as the SDK backend.  Please refer to https://wandb.me/wandb-core for more information.\n"
     ]
    },
    {
     "data": {
      "text/html": [
       "Tracking run with wandb version 0.19.6"
      ],
      "text/plain": [
       "<IPython.core.display.HTML object>"
      ]
     },
     "metadata": {},
     "output_type": "display_data"
    },
    {
     "data": {
      "text/html": [
       "Run data is saved locally in <code>/workspace/hanghae99_plusAI_2/8_advanced/wandb/run-20250213_124527-8ehck6z8</code>"
      ],
      "text/plain": [
       "<IPython.core.display.HTML object>"
      ]
     },
     "metadata": {},
     "output_type": "display_data"
    },
    {
     "data": {
      "text/html": [
       "Syncing run <strong><a href='https://wandb.ai/iamkimhongil92-lumenasoft/hangae_Final/runs/8ehck6z8' target=\"_blank\">8B_4Bit_Quant</a></strong> to <a href='https://wandb.ai/iamkimhongil92-lumenasoft/hangae_Final' target=\"_blank\">Weights & Biases</a> (<a href='https://wandb.me/developer-guide' target=\"_blank\">docs</a>)<br>"
      ],
      "text/plain": [
       "<IPython.core.display.HTML object>"
      ]
     },
     "metadata": {},
     "output_type": "display_data"
    },
    {
     "data": {
      "text/html": [
       " View project at <a href='https://wandb.ai/iamkimhongil92-lumenasoft/hangae_Final' target=\"_blank\">https://wandb.ai/iamkimhongil92-lumenasoft/hangae_Final</a>"
      ],
      "text/plain": [
       "<IPython.core.display.HTML object>"
      ]
     },
     "metadata": {},
     "output_type": "display_data"
    },
    {
     "data": {
      "text/html": [
       " View run at <a href='https://wandb.ai/iamkimhongil92-lumenasoft/hangae_Final/runs/8ehck6z8' target=\"_blank\">https://wandb.ai/iamkimhongil92-lumenasoft/hangae_Final/runs/8ehck6z8</a>"
      ],
      "text/plain": [
       "<IPython.core.display.HTML object>"
      ]
     },
     "metadata": {},
     "output_type": "display_data"
    },
    {
     "data": {
      "application/vnd.jupyter.widget-view+json": {
       "model_id": "0ce29b7e781e4eb4b508bd14f409da5a",
       "version_major": 2,
       "version_minor": 0
      },
      "text/plain": [
       "Loading checkpoint shards:   0%|          | 0/4 [00:00<?, ?it/s]"
      ]
     },
     "metadata": {},
     "output_type": "display_data"
    },
    {
     "name": "stderr",
     "output_type": "stream",
     "text": [
      "Device set to use cuda:0\n",
      "Setting `pad_token_id` to `eos_token_id`:128009 for open-end generation.\n"
     ]
    },
    {
     "name": "stdout",
     "output_type": "stream",
     "text": [
      "5.2GB\n",
      "\n",
      "==== Example 1 ====\n"
     ]
    },
    {
     "name": "stderr",
     "output_type": "stream",
     "text": [
      "From v4.47 onwards, when a model cache is to be returned, `generate` will return a `Cache` instance instead by default (as opposed to the legacy tuple of tuples format). If you want to keep returning the legacy format, please set `return_legacy_cache=True`.\n",
      "Setting `pad_token_id` to `eos_token_id`:128009 for open-end generation.\n"
     ]
    },
    {
     "name": "stdout",
     "output_type": "stream",
     "text": [
      "Candidate output:\n",
      "유튜브 타임라인 요약 문서를 분석하여 10개의 핵심 용어와 설명을 생성했습니다. \n",
      "\n",
      "1. **유니티 (Unity)**\n",
      "   - 설명: 유니티는 게임 및 시뮬레이션 개발에 널리 사용되는 엔진으로, 2D 및 3D 게임을 제작하는 데 필요한 다양한 툴과 기능을 제공합니다. 다양한 플랫폼에 배포할 수 있는 크로스 플랫폼 기능이 특징입니다.\n",
      "\n",
      "2. **뱀서라이크 (Endless Runner)**\n",
      "   - 설명: 뱀서라이크 게임 장르는 플레이어가 자신의 캐릭터를 조종하여 지속적으로 생성되는 적을 물리치고 생존을 추구하는 게임 유형으로, 주로 롤플레잉 요소를 포함합니다.\n",
      "\n",
      "3. **에셋 (Asset)**\n",
      "   - 설명: 게임 개발에서 에셋은 음악, 이미지, 모델 등 게임 내에서 사용되는 요소들을 의미합니다. 에셋은 게임의 비주얼과 사운드 요소를 구축하는 중요한 역할을 합니다.\n",
      "\n",
      "4. **스프라이트 (Sprite)**\n",
      "   - 설명: 스프라이트는 2D 게임에서 사용되는 잘라낸 이미지나 그림을 의미합니다. 캐릭터, 아이템, 이펙트 등 다양한 요소의 비주얼을 표현할 수 있습니다.\n",
      "\n",
      "5. **리지드 바디 2D (Rigidbody 2D)**\n",
      "   - 설명: 리지드 바디 2D 컴포넌트는 물리적 상호작용을 위해 오브젝트에 물리적 특성을 부여하는 기능을 제공하며, 중력이나 충돌 감지 등을 설정할 수 있습니다.\n",
      "\n",
      "6. **캡슐 콜라이더 2D (Capsule Collider 2D)**\n",
      "   - 설명: 캡슐 콜라이더 2D는 2D 공간에서 오브젝트의 물리적 경계를 정의하는 컴포넌트로, 캐릭터의 충돌 처리를 보다 쉽게 만들어 줍니다.\n",
      "\n",
      "7. **그래비티 스케일 (Gravity Scale)**\n",
      "   - 설명: 그래비티 스케일은 리지드 바디 컴포넌트에서 중력의 영향을 얼마나 받을지를 결정하는 값으로, 0으로 설정하면 중력이 적용되지 않도록 할 수 있습니다.\n",
      "\n",
      "8. **유니티 허브 (Unity Hub)**\n",
      "   - 설명: 유니티 허브는 유니티 엔진의 다양한 버전을 관리하고 프로젝트를 생성할 수 있는 �으로, 버전 관리와 라이센스 관리를 돕습니다.\n",
      "\n",
      "9. **URP (Universal Render Pipeline)**\n",
      "   - 설명: URP는 유니티에서 제공하는 렌더링 파이프라인의 하나로, 다양한 플랫폼에서 최적화된 성능을 제공하면서도 시각적으로 우수한 결과를 만들어낼 수 있게끔 설계되었습니다.\n",
      "\n",
      "10. **스프라이트 설정 (Sprite Settings)**\n",
      "    - 설명: 스프라이트 설정은 스프라이트 이미지의 해상도, 필터링 등 다양한 속성을 조정하여 게임 내 비주얼 품질을 최적화하는 과정입니다.\n",
      "\n",
      "이러한 핵심 용어와 설명은 유튜브 타임라인의 주요 주제와 용어를 정리한 것입니다.\n",
      "Inference Time: 29.93 seconds\n",
      "Peak GPU Memory Usage: 6.20 GB\n",
      "BLEU score: 0.5607\n",
      "Log probability score (sum): -19.7134\n",
      "\n",
      "==== Example 2 ====\n"
     ]
    },
    {
     "name": "stderr",
     "output_type": "stream",
     "text": [
      "Setting `pad_token_id` to `eos_token_id`:128009 for open-end generation.\n"
     ]
    },
    {
     "name": "stdout",
     "output_type": "stream",
     "text": [
      "Candidate output:\n",
      "유튜브 타임라인 요약 문서 분석 결과, 10개의 핵심 용어와 설명을 다음과 같이 생성했습니다:\n",
      "\n",
      "1. **유니티 (Unity)**\n",
      "   - 설명: 유니티는 게임 및 시뮬레이션 개발에 널리 사용되는 엔진으로, 2D 및 3D 게임을 제작하는 데 필요한 다양한 툁과 기능을 제공합니다. 다양한 플랫폼에 배포할 수 있는 크로스 플랫폼 기능이 특징입니다.\n",
      "\n",
      "2. **플레이어 (Player)**\n",
      "   - 설명: 플레이어는 게임에서 사용자와 상호작하며, 입력을 받아 게임 내에서 움직입니다. 유니티에서 플레이어를 이동시키기 위한 로직을 구현하는 것이 중요합니다.\n",
      "\n",
      "3. **C# 스크립트 (C# Script)**\n",
      "   - 설명: 유니티에서 플레이어를 이동시키기 위해 사용되는 스크립트로, C# 언어를 사용하여 작성합니다. 이 스크립트는 플레이어의 입력을 감지하고, 그에 따라 움직임을 구현합니다.\n",
      "\n",
      "4. **리지드 바디 2D (Rigidbody 2D)**\n",
      "   - 설명: 물리적 상호작용을 위해 오브젝트에 물리적 특성을 부여하는 컴포넌트로, 중력이나 충돌 감지 등을 설정할 수 있습니다.\n",
      "\n",
      "5. **캡슐 콜라이더 2D (Capsule Collider 2D)**\n",
      "   - 설명: 2D 공간에서 오브젝트의 물리적 경계를 정의하는 컴포넌트로, 캐릭터의 충돌 처리를 보다 쉽게 만들어 줍니다.\n",
      "\n",
      "6. **그래비티 스케일 (Gravity Scale)**\n",
      "   - 설명: 리지드 바디 컴포넌트에서 중력의 영향을 얼마나 받을지를 결정하는 값으로, 0으로 설정하면 중력이 적용되지 않도록 할 수 있습니다.\n",
      "\n",
      "7. **유니티 허브 (Unity Hub)**\n",
      "   - 설명: 유니티 엔진의 다양한 버전을 관리하고 프로젝트를 생성할 수 있는 툁으로, 버전 관리와 라이센스 관리를 돕습니다.\n",
      "\n",
      "8. **URP (Universal Render Pipeline)**\n",
      "   - 설명: 유니티에서 제공하는 렌더링 파이프라인의 하나로, 다양한 플랫폼에서 최적화된 성능을 제공하면서도 시각적으로 우수한 결과를 만들어낼 수 있게끔 설계되었습니다.\n",
      "\n",
      "9. **스프라이트 설정 (Sprite Setup)**\n",
      "   - 설명: 스프라이트 이미지의 해상도, 필터링 등 다양한 속성을 조정하여 게임 내 비주얼 품질을 최적화하는 과정입니다.\n",
      "\n",
      "10. **뱀서라이크 (Boss Fight)**\n",
      "    - 설명: 게임 장르에서 플레이어가 자신의 캐릭터를 조종하여 지속적으로 생성되는 적을 물리치고 생존을 추구하는 게임 유형으로, 주로 롤플레잉 요소를 포함합니다.\n",
      "\n",
      "이러한 핵심 용어와 설명은 유튜브 타임라인 요약 문서의 주요 내용을 잘 반영하고, 유니티 개발자와 게임 개발자들이 필요로 하는 다양한 용어와 개념을 설명합니다.\n",
      "Inference Time: 29.34 seconds\n",
      "Peak GPU Memory Usage: 6.80 GB\n",
      "BLEU score: 0.0036\n",
      "Log probability score (sum): -70.1423\n",
      "\n",
      "==== Example 3 ====\n"
     ]
    },
    {
     "name": "stderr",
     "output_type": "stream",
     "text": [
      "Setting `pad_token_id` to `eos_token_id`:128009 for open-end generation.\n"
     ]
    },
    {
     "name": "stdout",
     "output_type": "stream",
     "text": [
      "Candidate output:\n",
      "이 문서를 분석하여 10개의 핵심 용어와 설명을 생성해 드리겠습니다.\n",
      "\n",
      "1. **뉴 인풋 시스템 (New Input System)**\n",
      "   - 설명: 유니티의 새로운 입력 시스템으로, 플레이어의 입력을 처리하고 게임 내에서 다양한 액션을 제어할 수 있습니다.\n",
      "\n",
      "2. **유니티 (Unity)**\n",
      "   - 설명: 게임 및 시뮬레이션 개발에 널리 사용되는 엔진으로, 2D 및 3D 게임을 제작하는 데 필요한 다양한 툁과 기능을 제공합니다.\n",
      "\n",
      "3. **뱀서라이크 (Endless Runner)**\n",
      "   - 설명: 플레이어가 자신의 캐릭터를 조종하여 지속적으로 생성되는 적을 물리치고 생존을 추구하는 게임 유형으로, 주로 롤플레잉 요소를 포함합니다.\n",
      "\n",
      "4. **에셋 (Assets)**\n",
      "   - 설명: 게임 개발에서 음악, 이미지, 모델 등 게임 내에서 사용되는 요소들을 의미하며, 게임의 비주얼과 사운드 요소를 구축하는 중요한 역할을 합니다.\n",
      "\n",
      "5. **스프라이트 (Sprite)**\n",
      "   - 설명: 2D 게임에서 사용되는 잘라낸 이미지나 그림을 의미하며, 캐릭터, 아이템, 이펙트 등 다양한 요소의 비주얼을 표현할 수 있습니다.\n",
      "\n",
      "6. **리치드 바디 (Rigidbody 2D)**\n",
      "   - 설명: 물리적 상호작용을 위해 오브젝트에 물리적 특성을 부여하는 기능을 제공하며, 중력이나 충돌 감지 등을 설정할 수 있습니다.\n",
      "\n",
      "7. **캡슐 콜라이더 (Capsule Collider 2D)**\n",
      "   - 설명: 2D 공간에서 오브젝트의 물리적 경계를 정의하는 컴포넌트로, 캐릭터의 충돌 처리를 보다 쉽게 만들어 줍니다.\n",
      "\n",
      "8. **그래비티 스케일 (Gravity Scale)**\n",
      "   - 설명: 리지드 바디 컴포넌트에서 중력의 영향을 얼마나 받을지를 결정하는 값으로, 0으로 설정하면 중력이 적용되지 않도록 할 수 있습니다.\n",
      "\n",
      "9. **유니티 허브 (Unity Hub)**\n",
      "   - 설명: 유니티 엔진의 다양한 버전을 관리하고 프로젝트를 생성할 수 있는 �으로, 버전 관리와 라이센스 관리를 돕습니다.\n",
      "\n",
      "10. **URP (Universal Render Pipeline)**\n",
      "    - 설명: 유니티에서 제공하는 렌더링 파이프라인의 하나로, 다양한 플랫폼에서 최적화된 성능을 제공하면서도 시각적으로 우수한 결과를 만들어낼 수 있게끔 설계되었습니다.\n",
      "\n",
      "이 외에도 추가로 언급할 수 있는 핵심 용어로는 `플레이어 (Player)`, `액션 (Action)`, `스크립트 (Script)`, `인풋 액션 프로필 (Input Action Profile)` 등이 있습니다.\n",
      "Inference Time: 25.81 seconds\n",
      "Peak GPU Memory Usage: 6.70 GB\n",
      "BLEU score: 0.0033\n",
      "Log probability score (sum): -34.3528\n",
      "\n",
      "==== Example 4 ====\n"
     ]
    },
    {
     "name": "stderr",
     "output_type": "stream",
     "text": [
      "Setting `pad_token_id` to `eos_token_id`:128009 for open-end generation.\n"
     ]
    },
    {
     "name": "stdout",
     "output_type": "stream",
     "text": [
      "Candidate output:\n",
      "유튜브 타임라인 요약 문서를 분석하여 10개의 핵심 용어와 설명을 생성하기 위해, 다음과 같은 방법으로 분석을 진행합니다:\n",
      "\n",
      "1. **플립 X**\n",
      "   - 설명: 플립 X는 캐릭터가 좌측 방향으로 이동할 때 플립을 적용하는 설정입니다. X 값이 -1일 때 플립을 적용해야 합니다. 이는 코딩에서 실용적으로 활용됩니다.\n",
      "\n",
      "2. **셀 애니메이션**\n",
      "   - 설명: 셀 애니메이션은 여러 스프라이트를 순차적으로 재생시키는 방식으로, 런 0, 1, 2와 같은 이미지들을 사용하여 애니메이션을 만듭니다.\n",
      "\n",
      "3. **애니메이터 컴포넌트**\n",
      "   - 설명: 애니메이터 컴포넌트는 애니메이션 상태를 관리하는 컴포넌트로, 변경할 애니메이션 파일을 쉽게 드래그하여 연결할 수 있습니다. 기본 상태로 스탠드를 설정하여 애니메이션 전환이 자연스럽게 이�어진다.\n",
      "\n",
      "4. **코드에서 애니메이터 활성화**\n",
      "   - 설명: 코드에서 애니메이터를 활성화하기 위해 초기화를 반드시해야 합니다. 상태 전환을 위해 변수나 트리거를 설정합니다. 인풋 벡터의 크기를 기반으로 애니메이션 상태를 변화시킬 수 있습니다.\n",
      "\n",
      "5. **기존 애니메이터 재활용**\n",
      "   - 설명: 기존 애니메이터를 재활용하여 새로운 캐릭터에 적용하는 방법을 배웁습니다. 애니메이션 오버라이드 컨트롤러를 사용하여 기존 설정을 유지하면서 새로운 애니메이션만 변경할 수 있습니다. 새로운 스프라이트를 추가하고 기존 애니메이션을 참조하여 효율적으로 작업합니다.\n",
      "\n",
      "6. **유니티 엔진**\n",
      "   - 설명: 유니티 엔진은 게임 및 시뮬레이션 개발에 널리 사용되는 엔진으로, 2D 및 3D 게임을 제작하는 데 필요한 다양한 툴과 기능을 제공합니다. 다양한 플랫폼에 배포할 수 있는 크로스 플랫폼 기능이 특징입니다.\n",
      "\n",
      "7. **뱀서라이크**\n",
      "   - 설명: 뱀서라이크 게임 장르는 플레이어가 자신의 캐릭터를 조종하여 지속적으로 생성되는 적을 물리치고 생존을 추구하는 게임 유형으로, 주로 롤플레잉 요소를 포함합니다.\n",
      "\n",
      "8. **에셋**\n",
      "   - 설명: 에셋은 게임 개발에서 음악, 이미지, 모델 등 게임 내에서 사용되는 요소들을 의미합니다. 에셋은 게임의 비주얼과 사운드 요소를 구축하는 중요한 역할을 합니다.\n",
      "\n",
      "9. **스프라이트**\n",
      "   - 설명: 스프라이트는 2D 게임에서 사용되는 잘라낸 이미지나 그림을 의미합니다. 캐릭터, 아이템, 이펙트 등 다양한 요소의 비주얼을 표현할 수 있습니다.\n",
      "\n",
      "10. **유니티 허브**\n",
      "    - 설명: 유니티 허브는 유니티 엔진의 다양한 버전을 관리하고 프로젝트를 생성할 수 있는 �립니다. 버전 관리와 라이센스 관리를 돕습니다.\n",
      "\n",
      "이와 같은 핵심 용어와 설명을 통해, 유튜브 타임라인 요약 문서의 주요 개념과 용어를 명확하게 이해할 수 있습니다.\n",
      "Inference Time: 30.74 seconds\n",
      "Peak GPU Memory Usage: 6.60 GB\n",
      "BLEU score: 0.0081\n",
      "Log probability score (sum): -54.6148\n",
      "\n",
      "==== Example 5 ====\n"
     ]
    },
    {
     "name": "stderr",
     "output_type": "stream",
     "text": [
      "Setting `pad_token_id` to `eos_token_id`:128009 for open-end generation.\n"
     ]
    },
    {
     "name": "stdout",
     "output_type": "stream",
     "text": [
      "Candidate output:\n",
      "이 문서를 분석하여 10개의 핵심 용어와 설명을 생성합니다. 또한 추가로 유용한 용어가 있는 경우, 그에 대한 설명을 추가합니다.\n",
      "\n",
      "1. **유니티 (Unity)**:\n",
      "   - **설명**: 유니티는 게임 및 시뮬레이션 개발에 널리 사용되는 엔진으로, 2D 및 3D 게임을 제작하는 데 필요한 다양한 툴과 기능을 제공합니다. 다양한 플랫폼에 배포할 수 있는 크로스 플랫폼 기능이 특징입니다.\n",
      "\n",
      "2. **타일맵 (Tilemap)**:\n",
      "   - **설명**: 타일맵은 게임에서 사용되는 2D 맵을 구성하는 데 사용되는 시스템입니다. 랜덤 타일을 사용하여 다양한 맵을 생성할 수 있습니다.\n",
      "\n",
      "3. **카메라 (Camera)**:\n",
      "   - **설명**: 카메라는 플레이어의 시점을 제어하는 데 사용되는 컴포넌트로, 플레이어의 위치와 카메라의 움직임을 제어할 수 있습니다.\n",
      "\n",
      "4. **시네머신 (Scene Manager)**:\n",
      "   - **설명**: 시네머신은 게임의 시나리와 플레이어의 행동을 제어하는 데 사용되는 시스템입니다. 카메라와 플레이어의 동작을 조정할 수 있습니다.\n",
      "\n",
      "5. **랜덤 (Random)**:\n",
      "   - **설명**: 랜덤은 게임에서 사용되는 수학적 알고리즘으로, 무작위로 값을 생성하거나 이벤트를 발생시킬 때 사용됩니다.\n",
      "\n",
      "6. **온 트리거 (On Trigger)**:\n",
      "   - **설명**: 온 트리거는 특정 이벤트가 발생했을 때 실행되는 로직을 의미합니다. 플레이어가 맵의 경계를 넘어갈 때 새로운 타일맵을 생성하는 데 사용됩니다.\n",
      "\n",
      "7. **리지드 바디 (Rigidbody 2D)**:\n",
      "   - **설명**: 리지드 바디는 물리적 상호작용을 위해 오브젝트에 물리적 특성을 부여하는 기능을 제공하며, 중력이나 충돌 감지 등을 설정할 수 있습니다.\n",
      "\n",
      "8. **캡슐 콜라이더 (Capsule Collider 2D)**:\n",
      "   - **설명**: 캡슐 콜라이더는 2D 공간에서 오브젝트의 물리적 경계를 정의하는 컴포넌트로, 캐릭터의 충돌 처리를 보다 쉽게 만들어 줍니다.\n",
      "\n",
      "9. **그래비티 스케일 (Gravity Scale)**:\n",
      "   - **설명**: 그래비티 스케일은 리지드 바디 컴포넌트에서 중력의 영향을 얼마나 받을지를 결정하는 값으로, 0으로 설정하면 중력이 적용되지 않도록 할 수 있습니다.\n",
      "\n",
      "10. **URP (Universal Render Pipeline)**:\n",
      "    - **설명**: URP는 유니티에서 제공하는 렌더링 파이프라인의 하나로, 다양한 플랫폼에서 최적화된 성능을 제공하면서도 시각적으로 우수한 결과를 만들어낼 수 있게 설계되었습니다.\n",
      "\n",
      "추가로, **스프라이트 설정**과 **에셋**은 게임 내 비주얼을 관리하는 데 사용되는 중요한 용어로, **스프라이트 설정**은 스프라이트 이미지의 해상도, 필터링 등을 조정하여 비주얼 품질을 최적화하는 데 사용됩니다. **에셋**은 음악, 이미지, 모델 등 게임 내에서 사용되는 요소들을 의미하며, 게임의 비주얼과 사운드 요소를 구축하는 데 중요한 역할을 합니다.\n",
      "Inference Time: 32.68 seconds\n",
      "Peak GPU Memory Usage: 6.80 GB\n",
      "BLEU score: 0.0244\n",
      "Log probability score (sum): -102.6596\n",
      "\n",
      "==== Example 6 ====\n"
     ]
    },
    {
     "name": "stderr",
     "output_type": "stream",
     "text": [
      "Setting `pad_token_id` to `eos_token_id`:128009 for open-end generation.\n"
     ]
    },
    {
     "name": "stdout",
     "output_type": "stream",
     "text": [
      "Candidate output:\n",
      "유튜브 타임라인 요약 문서를 분석하여 10개의 핵심 용어와 설명을 생성해 드리겠습니다. 이 문서는 유니티 엔진에서 뱀서라이크 게임을 위한 몬스터 제작 과정을 설명합니다. 또한, 몬스터의 외형과 물리적 특성을 설정하고, 애니메이션을 추가하며, 리포지션 기능도 포함하여 몬스터가 플레이어를 추적하고 무작위로 재배치하도록 하는 방법에 대해 다룹니다.\n",
      "\n",
      "### 1. **유니티 (Unity)**\n",
      "유니티는 게임 및 시뮬레이션 개발에 널리 사용되는 엔진으로, 2D 및 3D 게임을 제작하는 데 필요한 다양한 툁과 기능을 제공합니다. 다양한 플랫폼에 배포할 수 있는 크로스 플랫폼 기능이 특징입니다.\n",
      "\n",
      "### 2. **뱀서라이크 (WASD)**\n",
      "뱀서라이크 게임 장르는 플레이어가 자신의 캐릭터를 조종하여 지속적으로 생성되는 적을 물리치고 생존을 추구하는 게임 유형으로, 주로 롤플레잉 요소를 포함합니다.\n",
      "\n",
      "### 3. **에셋 (Asset)**\n",
      "게임 개발에서 에셋은 음악, 이미지, 모델 등 게임 내에서 사용되는 요소들을 의미합니다. 에셋은 게임의 비주얼과 사운드 요소를 구축하는 중요한 역할을 합니다.\n",
      "\n",
      "### 4. **스프라이트 (Sprite)**\n",
      "스프라이트는 2D 게임에서 사용되는 잘라낸 이미지나 그림을 의미합니다. 캐릭터, 아이템, 이펙트 등 다양한 요소의 비주얼을 표현할 수 있습니다.\n",
      "\n",
      "### 5. **리지드 바디 2D (Rigidbody 2D)**\n",
      "리지드 바디 2D 컴포넌트는 물리적 상호작용을 위해 오브젝트에 물리적 특성을 부여하는 기능을 제공하며, 중력이나 충돌 감지 등을 설정할 수 있습니다.\n",
      "\n",
      "### 6. **캡슐 콜라이더 2D (Capsule Collider 2D)**\n",
      "캡슐 콜라이더 2D는 2D 공간에서 오브젝트의 물리적 경계를 정의하는 컴포넌트로, 캐릭터의 충돌 처리를 보다 쉽게 만들어 줍니다.\n",
      "\n",
      "### 7. **그래비티 스케일 (Gravity Scale)**\n",
      "그래비티 스케일은 리지드 바디 컴포넌트에서 중력의 영향을 얼마나 받을지를 결정하는 값으로, 0으로 설정하면 중력이 적용되지 않도록 할 수 있습니다.\n",
      "\n",
      "### 8. **유니티 허브 (Unity Hub)**\n",
      "유니티 허브는 유니티 엔진의 다양한 버전을 관리하고 프로젝트를 생성할 수 있는 툁으로, 버전 관리와 라이센스 관리를 돕습니다.\n",
      "\n",
      "### 9. **URP (Universal Render Pipeline)**\n",
      "URP는 유니티에서 제공하는 렌더링 파이프라인의 하나로, 다양한 플랫폼에서 최적화된 성능을 제공하면서도 시각적으로 우수한 결과를 만들어낼 수 있게끔 설계되었습니다.\n",
      "\n",
      "### 10. **스프라이트 설정 (Sprite Setting)**\n",
      "스프라이트 설정은 스프라이트 이미지의 해상도, 필터링 등 다양한 속성을 조정하여 게임 내 비주얼 품질을 최적화하는 과정입니다.\n",
      "\n",
      "이러한 용어들은 유니티 엔진에서 뱀서라이크 게임을 위한 몬스터 제작 과정을 이해하는 데 필수적인 요소들이며, 각 용어의 설명은 해당 용어의 정의와 기능을 더욱 구체화하게 합니다.\n",
      "Inference Time: 33.21 seconds\n",
      "Peak GPU Memory Usage: 6.90 GB\n",
      "BLEU score: 0.0274\n",
      "Log probability score (sum): -52.0893\n",
      "\n",
      "==== Example 7 ====\n"
     ]
    },
    {
     "name": "stderr",
     "output_type": "stream",
     "text": [
      "Setting `pad_token_id` to `eos_token_id`:128009 for open-end generation.\n"
     ]
    },
    {
     "name": "stdout",
     "output_type": "stream",
     "text": [
      "Candidate output:\n",
      "### 1. 유니티 (Unity)\n",
      "- Unity는 게임 및 시뮬레이션 개발에 널리 사용되는 엔진으로, 2D 및 3D 게임을 제작하는 데 필요한 다양한 툴과 기능을 제공합니다. 다양한 플랫폼에 배포할 수 있는 크로스 플랫폼 기능이 특징입니다.\n",
      "\n",
      "### 2. 프리팤 (Prefab)\n",
      "- 프리팤은 게임 내에서 반복적으로 사용되는 오브젝트나 요소를 미리 만들어두어 재사용할 수 있는 시스템입니다. 이를 통해 게임의 로딩 시간을 줄이고, 개발 효율성을 높일 수 있습니다.\n",
      "\n",
      "### 3. 오브젝트 풀링 (Object Pooling)\n",
      "- 오브젝트 풀링은 오브젝트를 생성하고 파괄하는 과정에서 메모리 낭비를 줄이고, 성능을 개선하는 방법입니다. 이는 게임에서 오브젝트의 생성과 파괄을 반복적으로 반복적으로 처리함으로써 메모리 사용을 최적화합니다.\n",
      "\n",
      "### 4. Hierarchy (히어러키)\n",
      "- 히어러키는 게임 내에서 오브젝트의 계층 구조를 정의하는 시스템입니다. 이를 통해 오브젝트의 상호작용과 이동을 관리하고, 게임의 로직을 구현할 수 있습니다.\n",
      "\n",
      "### 5. Enemy (적)\n",
      "- 적은 게임에서 플레이어를 공격하는 요소로, 플레이어와의 전투를 상징합니다. 적은 다양한 형태로 나타날 수 있으며, 게임의 난이도를 높이는 데 사용됩니다.\n",
      "\n",
      "### 6. Prefabs (프리팤 폴더)\n",
      "- 프리팤 폴더는 프리팤을 저장하는 폴더로, 게임 내에서 반복적으로 사용되는 요소를 미리 만들어두어 재사용할 수 있습니다.\n",
      "\n",
      "### 7. 풀 매니저 (Pool Manager)\n",
      "- 풀 매니저는 오브젝트 풀링 시스템을 관리하는 클래스로, 오브젝트의 생성과 파괄을 제어하고, 메모리 낭비를 최적화합니다.\n",
      "\n",
      "### 8. JSON (JavaScript Object Notation)\n",
      "- JSON은 데이터를 직렬화한 형식으로, 데이터를 쉽게 읽고, 이해하며, 처리할 수 있도록 하는 데 사용됩니다. 유니티에서는 JSON 형식으로 데이터를 저장하고, 불러들이는 데 사용됩니다.\n",
      "\n",
      "### 9. URP (Universal Render Pipeline)\n",
      "- URP은 유니티에서 제공하는 렌더링 파이프라인의 하나로, 다양한 플랫폼에서 최적화된 성능을 제공하면서도 시각적으로 우수한 결과를 만들어낼 수 있게끔 설계되었습니다.\n",
      "\n",
      "### 10. 스큽 (Sprite)\n",
      "- 스큽은 게임 내에서 사용되는 2D 이미지를 의미하며, 캐릭터, 아이템, 이펙트 등 다양한 요소의 비주얼을 표현할 수 있습니다. 스큽 설정은 게임의 비주얼 품질을 최적화하는 데 사용됩니다.\n",
      "\n",
      "### 추가 핵심 용어:\n",
      "- `Termination` (종료): 오브젝트 풀링 시스템에서 오브젝트의 생성과 파괄를 제어하는 과정에서 사용되는 용어로, 오브젝트의 생명주기를 관리합니다.\n",
      "- `Cache`: 게임에서 빠르게 접근할 수 있는 데이터를 저장하는 메모리 공간으로, 성능을 개선하는 데 사용됩니다.\n",
      "- `Serialization`: 데이터를 파일로 저장하거나, 전송하는 과정에서 사용되는 기술로, 데이터의 손실을 방지하고, 빠르게 저장 및 불러들이기 위해 사용됩니다.\n",
      "- `Asset`: 게임에서 사용되는 모든 요소, 예를 들어 모델, 텍스쳐, 사운드 등을 의미합니다. 이는 게임의 비주얼과 사운드 요소를 포함합니다.\n",
      "Inference Time: 32.96 seconds\n",
      "Peak GPU Memory Usage: 6.70 GB\n",
      "BLEU score: 0.0081\n",
      "Log probability score (sum): -179.9267\n",
      "\n",
      "==== Example 8 ====\n"
     ]
    },
    {
     "name": "stderr",
     "output_type": "stream",
     "text": [
      "Setting `pad_token_id` to `eos_token_id`:128009 for open-end generation.\n"
     ]
    },
    {
     "name": "stdout",
     "output_type": "stream",
     "text": [
      "Candidate output:\n",
      "이 문서를 분석하여 10개의 핵심 용어와 설명을 생성했습니다. 각 용어는 전문적인 용어와 구체적인 설명을 포함합니다.\n",
      "\n",
      "1. **유니티 (Unity)**\n",
      "   - **설명**: 유니티는 게임 및 시뮬레이션 개발에 널리 사용되는 엔진으로, 2D 및 3D 게임을 제작하는 데 필요한 다양한 툴과 기능을 제공합니다. 다양한 플랫폼에 배포할 수 있는 크로스 플랫폼 기능이 특징입니다.\n",
      "\n",
      "2. **뱀서라이크 (Bullet Time)**\n",
      "   - **설명**: 뱀서라이크 게임 장르는 플레이어가 자신의 캐릭터를 조종하여 지속적으로 생성되는 적을 물리치고 생존을 추구하는 게임 유형으로, 주로 롤플레잉 요소를 포함합니다.\n",
      "\n",
      "3. **에셋 (Asset)**\n",
      "   - **설명**: 게임 개발에서 에셋은 음악, 이미지, 모델 등 게임 내에서 사용되는 요소들을 의미합니다. 에셋은 게임의 비주얼과 사운드 요소를 구축하는 중요한 역할을 합니다.\n",
      "\n",
      "4. **스프라이트 (Sprite)**\n",
      "   - **설명**: 스프라이트는 2D 게임에서 사용되는 잘라낸 이미지나 그림을 의미합니다. 캐릭터, 아이템, 이펙트 등 다양한 요소의 비주얼을 표현할 수 있습니다.\n",
      "\n",
      "5. **리지드 바디 2D (Rigidbody 2D)**\n",
      "   - **설명**: 리지드 바디 2D 컴포넌트는 물리적 상호작용을 위해 오브젝트에 물리적 특성을 부여하는 기능을 제공하며, 중력이나 충돌 감지 등을 설정할 수 있습니다.\n",
      "\n",
      "6. **캡슐 콜라이더 2D (Capsule Collider 2D)**\n",
      "   - **설명**: 캡슐 콜라이더 2D는 2D 공간에서 오브젝트의 물리적 경계를 정의하는 컴포넌트로, 캐릭터의 충돌 처리를 보다 쉽게 만들어 줍니다.\n",
      "\n",
      "7. **그래비티 스케일 (Gravity Scale)**\n",
      "   - **설명**: 그래비티 스케일은 리지드 바디 컴포넌트에서 중력의 영향을 얼마나 받을지를 결정하는 값으로, 0으로 설정하면 중력이 적용되지 않도록 할 수 있습니다.\n",
      "\n",
      "8. **유니티 허브 (Unity Hub)**\n",
      "   - **설명**: 유니티 허브는 유니티 엔진의 다양한 버전을 관리하고 프로젝트를 생성할 수 있는 툴로, 버전 관리와 라이센스 관리를 돕습니다.\n",
      "\n",
      "9. **URP (Universal Render Pipeline)**\n",
      "   - **설명**: URP는 유니티에서 제공하는 렌더링 파이프라인의 하나로, 다양한 플랫폼에서 최적화된 성능을 제공하면서도 시각적으로 우수한 결과를 만들어낼 수 있게끔 설계되었습니다.\n",
      "\n",
      "10. **스프라이트 설정 (Sprite Setting)**\n",
      "    - **설명**: 스프라이트 설정은 스프라이트 이미지의 해상도, 필터링 등 다양한 속성을 조정하여 게임 내 비주얼 품질을 최적화하는 과정입니다.\n",
      "Inference Time: 29.71 seconds\n",
      "Peak GPU Memory Usage: 6.70 GB\n",
      "BLEU score: 0.0038\n",
      "Log probability score (sum): -16.6865\n",
      "\n",
      "==== Example 9 ====\n"
     ]
    },
    {
     "name": "stderr",
     "output_type": "stream",
     "text": [
      "Setting `pad_token_id` to `eos_token_id`:128009 for open-end generation.\n"
     ]
    },
    {
     "name": "stdout",
     "output_type": "stream",
     "text": [
      "Candidate output:\n",
      "[JSON 형식으로 반환]\n",
      "[\n",
      "  {\n",
      "    \"term\": \"유니티\",\n",
      "    \"description\": \"유니티는 게임 및 시뮬레이션 개발에 널리 사용되는 엔진으로, 2D 및 3D 게임을 제작하는 데 필요한 다양한 툴과 기능을 제공합니다. 다양한 플랫폼에 배포할 수 있는 크로스 플랫폼 기능이 특징입니다.\"\n",
      "  },\n",
      "  {\n",
      "    \"term\": \"프로그래밍 로직\",\n",
      "    \"description\": \"프로그래밍 로직은 게임 내에서 다양한 이벤트와 반응을 처리하는 데 사용되는 코드로, 충돌, 충돌 로직, 애니메이션 등을 구현합니다.\"\n",
      "  },\n",
      "  {\n",
      "    \"term\": \"스프라이트\",\n",
      "    \"description\": \"스프라이트는 2D 게임에서 사용되는 잘라낸 이미지나 그림을 의미합니다. 캐릭터, 아이템, 이펙트 등 다양한 요소의 비주얼을 표현할 수 있습니다.\"\n",
      "  },\n",
      "  {\n",
      "    \"term\": \"충돌 로직\",\n",
      "    \"description\": \"충돌 로직은 게임 내에서 오브젝트의 충돌을 처리하는 데 사용되는 코드로, 충돌 이벤트를 감지하고 반응하는 방법을 정의합니다.\"\n",
      "  },\n",
      "  {\n",
      "    \"term\": \"유니티 에디터\",\n",
      "    \"description\": \"유니티 에디터는 유니티 엔진에서 새로운 오브젝트를 생성하고 관리하는 데 사용되는 �릅니다. 오브젝트의 내용과 외형을 설정할 수 있습니다.\"\n",
      "  },\n",
      "  {\n",
      "    \"term\": \"프리펩\",\n",
      "    \"description\": \"프리펩은 게임 오브젝트의 인스턴스를 쉽게 재사용할 수 있도록 도와주는 유용한 기능입니다. 플레이어 주변에서 회전하는 무기를 만들기 위해 사용됩니다.\"\n",
      "  },\n",
      "  {\n",
      "    \"term\": \"충돌 메서드\",\n",
      "    \"description\": \"충돌 메서드는 유니티에서 충돌을 처리하는 데 사용되는 메서드로, 충돌 이벤트 발생 시 오브젝트의 상태를 변경하거나 처리하는 데 사용됩니다.\"\n",
      "  },\n",
      "  {\n",
      "    \"term\": \"근접무기\",\n",
      "    \"description\": \"근접무기는 플레이어 주변에서 회전하는 무기로, 플레이어와의 상호작용을 위해 사용됩니다. 플레이어와의 거리와 방향을 조정할 수 있습니다.\"\n",
      "  },\n",
      "  {\n",
      "    \"term\": \"태그\",\n",
      "    \"description\": \"태그는 오브젝트의 특정 상태나 속성을 정의하는 데 사용되는 코드로, 충돌 상황에서 오브젝트의 상태를 변경하거나 관리합니다.\"\n",
      "  },\n",
      "  {\n",
      "    \"term\": \"게임 레벨\",\n",
      "    \"description\": \"게임 레벨은 게임의 진행 단계를 의미하며, 각 레벨에 따라 플레이어와 오브젝트의 상태가 달라질 수 있습니다. 레벨에 따라 무기 배치를 조정합니다.\"\n",
      "  },\n",
      "  {\n",
      "    \"term\": \"프로그래밍\",\n",
      "    \"description\": \"프로그래밍은 게임 내에서 다양한 이벤트와 반응을 처리하는 데 사용되는 코드로, 충돌, 충돌 로직, 애니메이션 등을 구현합니다.\"\n",
      "  }\n",
      "]\n",
      "Inference Time: 28.75 seconds\n",
      "Peak GPU Memory Usage: 6.60 GB\n",
      "BLEU score: 0.0762\n",
      "Log probability score (sum): -86.7527\n",
      "\n",
      "==== Example 10 ====\n",
      "Candidate output:\n",
      "유튜브 타임라인 요약 문서를 분석하여 10개의 핵심 용어와 설명을 생성합니다. \n",
      "\n",
      "1. **유니티 (Unity)**\n",
      "   - Unity는 게임 및 시뮬레이션 개발에 널리 사용되는 엔진으로, 2D 및 3D 게임을 제작하는 데 필요한 다양한 툴과 기능을 제공합니다. 다양한 플랫폼에 배포할 수 있는 크로스 플랫폼 기능이 특징입니다.\n",
      "\n",
      "2. **뱀서라이크 (Endless Runner)**\n",
      "   - 뱀서라이크 게임 장르는 플레이어가 자신의 캐릭터를 조종하여 지속적으로 생성되는 적을 물리치고 생존을 추구하는 게임 유형으로, 주로 롤플레잉 요소를 포함합니다.\n",
      "\n",
      "3. **에셋 (Assets)**\n",
      "   - 게임 개발에서 에셋은 음악, 이미지, 모델 등 게임 내에서 사용되는 요소들을 의미합니다. 에셋은 게임의 비주얼과 사운드 요소를 구축하는 중요한 역할을 합니다.\n",
      "\n",
      "4. **스프라이트 (Sprite)**\n",
      "   - 스프라이트는 2D 게임에서 사용되는 잘라낸 이미지나 그림을 의미합니다. 캐릭터, 아이템, 이펙트 등 다양한 요소의 비주얼을 표현할 수 있습니다.\n",
      "\n",
      "5. **리지드 바디 2D (Rigidbody 2D)**\n",
      "   - 2D 물리적 상호작용을 위해 오브젝트에 물리적 특성을 부여하는 기능을 제공하며, 중력이나 충돌 감지 등을 설정할 수 있습니다.\n",
      "\n",
      "6. **캡슐 콜라이더 2D (Collider 2D)**\n",
      "   - 2D 공간에서 오브젝트의 물리적 경계를 정의하는 컴포넌트로, 캐릭터의 충돌 처리를 보다 쉽게 만들어 줍니다.\n",
      "\n",
      "7. **그래비티 스케일 (Gravity Scale)**\n",
      "   - 그래비티 스케일은 리지드 바디 컴포넌트에서 중력의 영향을 얼마나 받을지를 결정하는 값으로, 0으로 설정하면 중력이 적용되지 않도록 할 수 있습니다.\n",
      "\n",
      "8. **유니티 허브 (Unity Hub)**\n",
      "   - 유니티 허브는 유니티 엔진의 다양한 버전을 관리하고 프로젝트를 생성할 수 있는 �릅로, 버전 관리와 라이센스 관리를 돕습니다.\n",
      "\n",
      "9. **URP (Universal Render Pipeline)**\n",
      "   - URP는 유니티에서 제공하는 렌더링 파이프라인의 하나로, 다양한 플랫폼에서 최적화된 성능을 제공하면서도 시각적으로 우수한 결과를 만들어낼 수 있게끔 설계되었습니다.\n",
      "\n",
      "10. **스프라이트 설정 (Sprite Setting)**\n",
      "    - 스프라이트 설정은 스프라이트 이미지의 해상도, 필터링 등 다양한 속성을 조정하여 게임 내 비주얼 품질을 최적화하는 과정입니다.\n",
      "\n",
      "이 10개의 핵심 용어와 설명을 통해 유튜브 타임라인의 주요 용어와 그 의미를 이해할 수 있습니다.\n",
      "Inference Time: 28.42 seconds\n",
      "Peak GPU Memory Usage: 6.60 GB\n",
      "BLEU score: 0.0040\n",
      "Log probability score (sum): -23.3963\n"
     ]
    },
    {
     "data": {
      "text/html": [],
      "text/plain": [
       "<IPython.core.display.HTML object>"
      ]
     },
     "metadata": {},
     "output_type": "display_data"
    },
    {
     "data": {
      "text/html": [
       "<br>    <style><br>        .wandb-row {<br>            display: flex;<br>            flex-direction: row;<br>            flex-wrap: wrap;<br>            justify-content: flex-start;<br>            width: 100%;<br>        }<br>        .wandb-col {<br>            display: flex;<br>            flex-direction: column;<br>            flex-basis: 100%;<br>            flex: 1;<br>            padding: 10px;<br>        }<br>    </style><br><div class=\"wandb-row\"><div class=\"wandb-col\"><h3>Run history:</h3><br/><table class=\"wandb\"><tr><td>BLEU_score</td><td>█▁▁▁▁▁▁▁▂▁</td></tr><tr><td>Inference_time_sec</td><td>▅▄▁▆▇██▅▄▃</td></tr><tr><td>Log_probability_score</td><td>█▆▇▆▄▆▁█▅█</td></tr><tr><td>Peak_GPU_Memory_GB</td><td>▁▇▆▅▇█▆▆▅▅</td></tr><tr><td>basic_memory</td><td>▁</td></tr><tr><td>example_index</td><td>▁▂▃▃▄▅▆▆▇█</td></tr></table><br/></div><div class=\"wandb-col\"><h3>Run summary:</h3><br/><table class=\"wandb\"><tr><td>BLEU_score</td><td>0.00405</td></tr><tr><td>Inference_time_sec</td><td>28.4244</td></tr><tr><td>Log_probability_score</td><td>-23.39631</td></tr><tr><td>Peak_GPU_Memory_GB</td><td>6.6</td></tr><tr><td>basic_memory</td><td>5.2</td></tr><tr><td>example_index</td><td>9</td></tr></table><br/></div></div>"
      ],
      "text/plain": [
       "<IPython.core.display.HTML object>"
      ]
     },
     "metadata": {},
     "output_type": "display_data"
    },
    {
     "data": {
      "text/html": [
       " View run <strong style=\"color:#cdcd00\">8B_4Bit_Quant</strong> at: <a href='https://wandb.ai/iamkimhongil92-lumenasoft/hangae_Final/runs/8ehck6z8' target=\"_blank\">https://wandb.ai/iamkimhongil92-lumenasoft/hangae_Final/runs/8ehck6z8</a><br> View project at: <a href='https://wandb.ai/iamkimhongil92-lumenasoft/hangae_Final' target=\"_blank\">https://wandb.ai/iamkimhongil92-lumenasoft/hangae_Final</a><br>Synced 5 W&B file(s), 0 media file(s), 0 artifact file(s) and 0 other file(s)"
      ],
      "text/plain": [
       "<IPython.core.display.HTML object>"
      ]
     },
     "metadata": {},
     "output_type": "display_data"
    },
    {
     "data": {
      "text/html": [
       "Find logs at: <code>./wandb/run-20250213_124527-8ehck6z8/logs</code>"
      ],
      "text/plain": [
       "<IPython.core.display.HTML object>"
      ]
     },
     "metadata": {},
     "output_type": "display_data"
    }
   ],
   "source": [
    "import json\n",
    "import time\n",
    "import torch\n",
    "import transformers\n",
    "import wandb\n",
    "from nltk.translate.bleu_score import sentence_bleu, SmoothingFunction\n",
    "import nltk\n",
    "from transformers import BitsAndBytesConfig\n",
    "from transformers import AutoModelForCausalLM\n",
    "\n",
    "# nltk 다운로드 (최초 1회)\n",
    "nltk.download('punkt')\n",
    "\n",
    "# wandb 초기화\n",
    "wandb.init(project=\"hangae_Final\", name=\"8B_4Bit_Quant\")\n",
    "\n",
    "# corpus.json 파일 로드 (UTF-8 인코딩)\n",
    "with open(\"./corpus.json\", \"r\", encoding=\"utf-8\") as f:\n",
    "    evaluation_data = json.load(f)\n",
    "\n",
    "# 10개만 추론\n",
    "evaluation_data = evaluation_data[:10]\n",
    "\n",
    "# 허깅페이스 방식으로 모델 및 파이프라인 초기화\n",
    "model_id = \"MLP-KTLim/llama-3-Korean-Bllossom-8B\"\n",
    "quantization_config = BitsAndBytesConfig(\n",
    "    load_in_4bit=True,\n",
    "    bnb_4bit_compute_dtype=torch.bfloat16,\n",
    "    bnb_4bit_use_double_quant=True,\n",
    "    bnb_4bit_quant_type=\"nf4\",\n",
    ")\n",
    "model = AutoModelForCausalLM.from_pretrained(\n",
    "    model_id,\n",
    "    quantization_config=quantization_config, # 4비트 양자화 적용\n",
    "    device_map=\"auto\"\n",
    ")\n",
    "generator = transformers.pipeline(\n",
    "    \"text-generation\",\n",
    "    model=model,\n",
    "    tokenizer=model_id,\n",
    "    device_map=\"auto\",\n",
    ")\n",
    "generator.model.eval()\n",
    "\n",
    "# 시스템 프롬프트 정의\n",
    "SYSTEM_PROMPT = (\n",
    "    \"You are a helpful AI assistant. Please answer the user's questions kindly. \"\n",
    "    \"당신은 유능한 AI 어시스턴트 입니다. 사용자의 질문에 대해 친절하게 답변해주세요.\"\n",
    ")\n",
    "\n",
    "# 채팅 템플릿을 적용하여 프롬프트를 생성하는 함수\n",
    "def make_prompt(system_msg: str, user_msg: str) -> str:\n",
    "\n",
    "    msg = f\"\"\"\n",
    "다음은 유튜브 타임라인 요약 문서입니다. 이 내용을 분석하여 10개의 핵심 용어(KeyPoint)와 설명을 생성하세요.\n",
    "설명을 생성할 때 영상 위주가 아닌 최대한 전문적이고 구체적으로 추가 설명해주세요. 저는 영상 내용 뿐 아니라 그 용어에 대한 내용을 알고 싶습니다.\n",
    "중요하지 않더라도 알면 좋을 추가 핵심 용어도 더해주세요.\n",
    "\n",
    "[타임라인 요약]:\n",
    "{user_msg}\n",
    "\n",
    "[가이드]:\n",
    "- 필드는 `term`과 `description`을 포함하며, 결과는  10개의 키포인트 리스트로 구성됩니다.\n",
    "- 반드시 JSON 형식에 맞춰 반환하세요.\n",
    "- 다른 텍스트는 포함하지 마세요.\n",
    "\n",
    "[예시]:\n",
    "{evaluation_data[0]['output']}\n",
    "\"\"\"\n",
    "\n",
    "    messages = [\n",
    "        {\"role\": \"system\", \"content\": system_msg},\n",
    "        {\"role\": \"user\", \"content\": msg}\n",
    "    ]\n",
    "    prompt = generator.tokenizer.apply_chat_template(\n",
    "        messages,\n",
    "        tokenize=False,\n",
    "        add_generation_prompt=True\n",
    "    )\n",
    "    return prompt\n",
    "\n",
    "# 종료 토큰 설정\n",
    "terminators = [\n",
    "    generator.tokenizer.eos_token_id,\n",
    "    generator.tokenizer.convert_tokens_to_ids(\"<|eot_id|>\")\n",
    "]\n",
    "\n",
    "print(f'{round(generator.model.get_memory_footprint() / (1024 ** 3), 1)}GB')\n",
    "wandb.log({\"basic_memory\": round(generator.model.get_memory_footprint() / (1024 ** 3), 1)})\n",
    "\n",
    "\n",
    "# 평가 루프: corpus.json에 있는 각 예제에 대해 추론 수행\n",
    "for idx, example in enumerate(evaluation_data):\n",
    "    print(f\"\\n==== Example {idx+1} ====\")\n",
    "\n",
    "    # 사용자 입력과 프롬프트 생성\n",
    "    user_input = example[\"input\"]\n",
    "    prompt = make_prompt(SYSTEM_PROMPT, user_input)\n",
    "\n",
    "    # 입력 토큰 인코딩\n",
    "    encoded_input = generator.tokenizer(prompt, return_tensors=\"pt\")\n",
    "    encoded_input = {k: v.to(generator.model.device) for k, v in encoded_input.items()}\n",
    "    prompt_length = encoded_input[\"input_ids\"].shape[1]\n",
    "\n",
    "    # 속도 및 메모리 측정을 위한 시작 시간 기록 및 GPU 메모리 초기화\n",
    "    start_time = time.time()\n",
    "    if torch.cuda.is_available():\n",
    "        torch.cuda.reset_peak_memory_stats(generator.model.device)\n",
    "\n",
    "    # 모델 생성: 토큰별 score 반환 포함\n",
    "    outputs = generator.model.generate(\n",
    "        **encoded_input,\n",
    "        max_new_tokens=1024,\n",
    "        eos_token_id=terminators[0],\n",
    "        do_sample=True,\n",
    "        temperature=0.6,\n",
    "        top_p=0.9,\n",
    "        return_dict_in_generate=True,\n",
    "        output_scores=True,\n",
    "    )\n",
    "\n",
    "    # GPU 동기화 후 종료 시간 기록\n",
    "    if torch.cuda.is_available():\n",
    "        torch.cuda.synchronize(generator.model.device)\n",
    "    end_time = time.time()\n",
    "    elapsed_time = end_time - start_time\n",
    "\n",
    "    # GPU 메모리 사용량 측정 (Peak 메모리, MB 단위)\n",
    "    if torch.cuda.is_available():\n",
    "        peak_memory = round(torch.cuda.max_memory_allocated(generator.model.device) / (1024 ** 3), 1)\n",
    "    else:\n",
    "        peak_memory = 0\n",
    "\n",
    "    # 생성된 전체 토큰에서 프롬프트 이후의 candidate 토큰 추출\n",
    "    generated_ids = outputs.sequences[0]\n",
    "    candidate_ids = generated_ids[prompt_length:]\n",
    "    candidate_text = generator.tokenizer.decode(candidate_ids, skip_special_tokens=True).strip()\n",
    "\n",
    "    print(\"Candidate output:\")\n",
    "    print(candidate_text)\n",
    "    print(f\"Inference Time: {elapsed_time:.2f} seconds\")\n",
    "    print(f\"Peak GPU Memory Usage: {peak_memory:.2f} GB\")\n",
    "\n",
    "    # 참조 텍스트: evaluation_data의 \"output\"을 JSON 문자열로 변환\n",
    "    reference_text = json.dumps(example[\"output\"], ensure_ascii=False, indent=2)\n",
    "\n",
    "    # BLEU 점수 계산 (공백 기준 토큰화)\n",
    "    candidate_tokens = candidate_text.split()\n",
    "    reference_tokens = reference_text.split()\n",
    "    bleu = sentence_bleu(\n",
    "        [reference_tokens],\n",
    "        candidate_tokens,\n",
    "        smoothing_function=SmoothingFunction().method1\n",
    "    )\n",
    "    print(f\"BLEU score: {bleu:.4f}\")\n",
    "\n",
    "    # 로그 확률 계산: 각 생성 토큰에 대해 log‑softmax 후 선택된 토큰의 로그 확률 합산\n",
    "    log_score = 0.0\n",
    "    for i, step_scores in enumerate(outputs.scores):\n",
    "        log_probs = torch.log_softmax(step_scores, dim=-1)\n",
    "        token_id = candidate_ids[i].unsqueeze(0)  # shape: (1,)\n",
    "        token_log_prob = log_probs[0, token_id].item()\n",
    "        log_score += token_log_prob\n",
    "    print(f\"Log probability score (sum): {log_score:.4f}\")\n",
    "\n",
    "    # wandb에 메트릭 로깅\n",
    "    wandb.log({\n",
    "        \"example_index\": idx,\n",
    "        \"BLEU_score\": bleu,\n",
    "        \"Inference_time_sec\": elapsed_time,\n",
    "        \"Peak_GPU_Memory_GB\": peak_memory,\n",
    "        \"Log_probability_score\": log_score\n",
    "    })\n",
    "\n",
    "wandb.finish()"
   ]
  },
  {
   "cell_type": "code",
   "execution_count": null,
   "metadata": {},
   "outputs": [],
   "source": []
  }
 ],
 "metadata": {
  "kernelspec": {
   "display_name": "Python 3 (ipykernel)",
   "language": "python",
   "name": "python3"
  },
  "language_info": {
   "codemirror_mode": {
    "name": "ipython",
    "version": 3
   },
   "file_extension": ".py",
   "mimetype": "text/x-python",
   "name": "python",
   "nbconvert_exporter": "python",
   "pygments_lexer": "ipython3",
   "version": "3.10.12"
  }
 },
 "nbformat": 4,
 "nbformat_minor": 4
}
