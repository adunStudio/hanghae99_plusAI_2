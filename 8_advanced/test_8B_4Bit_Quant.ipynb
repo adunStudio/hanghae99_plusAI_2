{
 "cells": [
  {
   "cell_type": "code",
   "execution_count": 1,
   "metadata": {},
   "outputs": [
    {
     "name": "stderr",
     "output_type": "stream",
     "text": [
      "[nltk_data] Downloading package punkt to /root/nltk_data...\n",
      "[nltk_data]   Package punkt is already up-to-date!\n",
      "\u001B[34m\u001B[1mwandb\u001B[0m: Currently logged in as: \u001B[33miamkimhongil92\u001B[0m (\u001B[33miamkimhongil92-lumenasoft\u001B[0m) to \u001B[32mhttps://api.wandb.ai\u001B[0m. Use \u001B[1m`wandb login --relogin`\u001B[0m to force relogin\n",
      "\u001B[34m\u001B[1mwandb\u001B[0m: Using wandb-core as the SDK backend.  Please refer to https://wandb.me/wandb-core for more information.\n"
     ]
    },
    {
     "data": {
      "text/html": [
       "Tracking run with wandb version 0.19.6"
      ],
      "text/plain": [
       "<IPython.core.display.HTML object>"
      ]
     },
     "metadata": {},
     "output_type": "display_data"
    },
    {
     "data": {
      "text/html": [
       "Run data is saved locally in <code>/workspace/hanghae99_plusAI_2/8_advanced/wandb/run-20250213_101416-euqt3l9d</code>"
      ],
      "text/plain": [
       "<IPython.core.display.HTML object>"
      ]
     },
     "metadata": {},
     "output_type": "display_data"
    },
    {
     "data": {
      "text/html": [
       "Syncing run <strong><a href='https://wandb.ai/iamkimhongil92-lumenasoft/hangae_99_8/runs/euqt3l9d' target=\"_blank\">8B_origin</a></strong> to <a href='https://wandb.ai/iamkimhongil92-lumenasoft/hangae_99_8' target=\"_blank\">Weights & Biases</a> (<a href='https://wandb.me/developer-guide' target=\"_blank\">docs</a>)<br>"
      ],
      "text/plain": [
       "<IPython.core.display.HTML object>"
      ]
     },
     "metadata": {},
     "output_type": "display_data"
    },
    {
     "data": {
      "text/html": [
       " View project at <a href='https://wandb.ai/iamkimhongil92-lumenasoft/hangae_99_8' target=\"_blank\">https://wandb.ai/iamkimhongil92-lumenasoft/hangae_99_8</a>"
      ],
      "text/plain": [
       "<IPython.core.display.HTML object>"
      ]
     },
     "metadata": {},
     "output_type": "display_data"
    },
    {
     "data": {
      "text/html": [
       " View run at <a href='https://wandb.ai/iamkimhongil92-lumenasoft/hangae_99_8/runs/euqt3l9d' target=\"_blank\">https://wandb.ai/iamkimhongil92-lumenasoft/hangae_99_8/runs/euqt3l9d</a>"
      ],
      "text/plain": [
       "<IPython.core.display.HTML object>"
      ]
     },
     "metadata": {},
     "output_type": "display_data"
    },
    {
     "data": {
      "application/vnd.jupyter.widget-view+json": {
       "model_id": "74d5583f15484ca8ad016f592a8a3b97",
       "version_major": 2,
       "version_minor": 0
      },
      "text/plain": [
       "Loading checkpoint shards:   0%|          | 0/4 [00:00<?, ?it/s]"
      ]
     },
     "metadata": {},
     "output_type": "display_data"
    },
    {
     "name": "stderr",
     "output_type": "stream",
     "text": [
      "Device set to use cuda:0\n",
      "Setting `pad_token_id` to `eos_token_id`:128009 for open-end generation.\n"
     ]
    },
    {
     "name": "stdout",
     "output_type": "stream",
     "text": [
      "29.9GB\n",
      "\n",
      "==== Example 1 ====\n"
     ]
    },
    {
     "name": "stderr",
     "output_type": "stream",
     "text": [
      "From v4.47 onwards, when a model cache is to be returned, `generate` will return a `Cache` instance instead by default (as opposed to the legacy tuple of tuples format). If you want to keep returning the legacy format, please set `return_legacy_cache=True`.\n",
      "Setting `pad_token_id` to `eos_token_id`:128009 for open-end generation.\n"
     ]
    },
    {
     "name": "stdout",
     "output_type": "stream",
     "text": [
      "Candidate output:\n",
      "[{'term': '유니티', 'description': '유니티는 게임 및 시뮬레이션 개발에 널리 사용되는 엔진으로, 2D 및 3D 게임을 제작하는 데 필요한 다양한 툴과 기능을 제공합니다. 다양한 플랫폼에 배포할 수 있는 크로스 플랫폼 기능이 특징입니다.'},\n",
      " {'term': '뱀서라이크', 'description': '뱀서라이크 게임 장르는 플레이어가 자신의 캐릭터를 조종하여 지속적으로 생성되는 적을 물리치고 생존을 추구하는 게임 유형으로, 주로 롤플레잉 요소를 포함합니다.'},\n",
      " {'term': '에셋', 'description': '게임 개발에서 에셋은 음악, 이미지, 모델 등 게임 내에서 사용되는 요소들을 의미합니다. 에셋은 게임의 비주얼과 사운드 요소를 구축하는 중요한 역할을 합니다.'},\n",
      " {'term': '스프라이트', 'description': '스프라이트는 2D 게임에서 사용되는 잘라낸 이미지나 그림을 의미합니다. 캐릭터, 아이템, 이펙트 등 다양한 요소의 비주얼을 표현할 수 있습니다.'},\n",
      " {'term': '리지드 바디 2D', 'description': '리지드 바디 2D 컴포넌트는 물리적 상호작용을 위해 오브젝트에 물리적 특성을 부여하는 기능을 제공하며, 중력이나 충돌 감지 등을 설정할 수 있습니다.'},\n",
      " {'term': '캡슐 콜라이더 2D', 'description': '캡슐 콜라이더 2D는 2D 공간에서 오브젝트의 물리적 경계를 정의하는 컴포넌트로, 캐릭터의 충돌 처리를 보다 쉽게 만들어 줍니다.'},\n",
      " {'term': '그래비티 스케일', 'description': '그래비티 스케일은 리지드 바디 컴포넌트에서 중력의 영향을 얼마나 받을지를 결정하는 값으로, 0으로 설정하면 중력이 적용되지 않도록 할 수 있습니다.'},\n",
      " {'term': '유니티 허브', 'description': '유니티 허브는 유니티 엔진의 다양한 버전을 관리하고 프로젝트를 생성할 수 있는 툴로, 버전 관리와 라이센스 관리를 돕습니다.'},\n",
      " {'term': 'URP (Universal Render Pipeline)', 'description': 'URP는 유니티에서 제공하는 렌더링 파이프라인의 하나로, 다양한 플랫폼에서 최적화된 성능을 제공하면서도 시각적으로 우수한 결과를 만들어낼 수 있게끔 설계되었습니다.'},\n",
      " {'term': '스프라이트 설정', 'description': '스프라이트 설정은 스프라이트 이미지의 해상도, 필터링 등 다양한 속성을 조정하여 게임 내 비주얼 품질을 최적화하는 과정입니다.'},\n",
      " {'term': '2D URP', 'description': '2D URP는 유니티에서 제공하는 2D 게임 개발을 위한 렌더링 파이프라인으로, 2D 게임의 성능과 시각적 품질을 최적화할 수 있도록 설계되었습니다.'}]\n",
      "Inference Time: 31.41 seconds\n",
      "Peak GPU Memory Usage: 31.00 GB\n",
      "BLEU score: 0.6238\n",
      "Log probability score (sum): -10.5553\n",
      "\n",
      "==== Example 2 ====\n"
     ]
    },
    {
     "name": "stderr",
     "output_type": "stream",
     "text": [
      "Setting `pad_token_id` to `eos_token_id`:128009 for open-end generation.\n"
     ]
    },
    {
     "name": "stdout",
     "output_type": "stream",
     "text": [
      "Candidate output:\n",
      "[{'term': '유니티', 'description': '유니티는 게임 및 시뮬레이션 개발에 널리 사용되는 엔진으로, 2D 및 3D 게임을 제작하는 데 필요한 다양한 툴과 기능을 제공합니다. 다양한 플랫폼에 배포할 수 있는 크로스 플랫폼 기능이 특징입니다.'}, {'term': 'C# 스크립트', 'description': 'C# 언어를 사용하여 유니티에서 게임 로직을 작성하는 스크립트입니다. 유니티 엔진에서 다양한 기능을 구현하고, 게임의 로직을 정의하는 데 사용됩니다.'}, {'term': '플레이어 오브젝트', 'description': '게임에서 플레이어가 조종하는 캐릭터를 나타내는 오브젝트입니다. 플레이어 오브젝트는 물리적 특성을 가지며, 게임 내에서 다양한 행동을 할 수 있습니다.'}, {'term': '리뷰트 벡터', 'description': '벡터2 타입의 변수로, 좌우 및 상하 방향키의 입력을 받습니다. 입력 벡터는 플레이어의 이동 방향을 정의합니다.'}, {'term': '업데이트 함수', 'description': '게임 로직을 프레임마다 업데이트하는 함수입니다. 업데이트 함수는 입력을 감지하고, 게임 상태를 변경하는 데 사용됩니다.'}, {'term': 'FixedUpdate 함수', 'description': '물리적 업데이트를 수행하는 함수로, 물리 엔진의 업데이트 주기를 맞춰 게임 로직을 실행합니다.'}, {'term': '리지드 바디 2D', 'description': '물리적 상호작용을 위해 오브젝트에 물리적 특성을 부여하는 컴포넌트입니다. 중력이나 충돌 감지를 설정할 수 있습니다.'}, {'term': 'Normalize', 'description': '벡터의 크기를 1로 normalize하는 함수로, 방향을 유지하면서 크기를 조절할 수 있습니다.'}, {'term': 'Fixed DeltaTime', 'description': '물리 엔진의 업데이트 주기를 기준으로 시간을 조정하는 방법으로, 프레임마다 일정한 속도로 움직이도록 합니다.'}, {'term': '애니메이션', 'description': '게임 내 캐릭터나 오브젝트의 움직임을 시각적으로 표현하는 요소로, 프레임 단위로 상태를 변경하여 자연스러운 움직임을 구현합니다.'}, {'term': '스크립트 폴더', 'description': '게임 로직을 관리하기 위해 코드를 저장하는 폴더입니다. 프로젝트 내에서 코드를 조직화하고 유지 관리할 수 있습니다.'}, {'term': '인풋 벡터', 'description': '벡터2 타입의 변수로, 좌우 및 상하 방향키의 입력을 받습니다. 입력 벡터는 플레이어의 이동 방향을 정의합니다.'}, {'term': 'AddForce', 'description': '리지드 바디 컴포넌트에서 물리적인 힘을 적용하여 오브젝트를 이동시키는 메서드입니다.'}, {'term': 'Velocity', 'description': '오브젝트의 속도를 직접 제어하는 속도 속성입니다. 물리 엔진의 속도를 조절하여 오브젝트의 움직임을 조정할 수 있습니다.'}, {'term': 'MovePosition', 'description': '오브젝트의 위치를 직접 변경하는 메서드로, 물리적 영향을 받지 않고 오브젝트를 이동시킬 수 있습니다.'}]\n",
      "Inference Time: 33.78 seconds\n",
      "Peak GPU Memory Usage: 31.90 GB\n",
      "BLEU score: 0.0109\n",
      "Log probability score (sum): -135.5464\n",
      "\n",
      "==== Example 3 ====\n"
     ]
    },
    {
     "name": "stderr",
     "output_type": "stream",
     "text": [
      "Setting `pad_token_id` to `eos_token_id`:128009 for open-end generation.\n"
     ]
    },
    {
     "name": "stdout",
     "output_type": "stream",
     "text": [
      "Candidate output:\n",
      "[{'term': '유니티', 'description': '유니티는 게임 및 시뮬레이션 개발에 널리 사용되는 엔진으로, 2D 및 3D 게임을 제작하는 데 필요한 다양한 툴과 기능을 제공합니다. 다양한 플랫폼에 배포할 수 있는 크로스 플랫폼 기능이 특징입니다.'},\n",
      " {'term': '뉴 인풋 시스템', 'description': '유니티의 최신 입력 시스템으로, 기존의 입력 방식을 개선하여 더 유연하고 사용자 친화적인 입력 방법을 제공합니다. 키보드, 게임 패드, 컨트롤러 등 다양한 입력 장치를 지원합니다.'},\n",
      " {'term': '패키지 매니저', 'description': '유니티에서 사용 가능한 다양한 패키지를 관리할 수 있는 도구로, 새로운 패키지를 설치하고 업데이트, 제거하는 등의 작업을 수행할 수 있습니다.'},\n",
      " {'term': '인풋 액션', 'description': '유니티의 인풋 시스템에서 입력 이벤트를 처리하는 단위로, 키보드 키, 게임 패드 버튼 등 다양한 입력을 감지하고 처리하는 방법을 정의합니다.'},\n",
      " {'term': '액션 프로필', 'description': '인풋 액션을 모아 관리하는 파일로, 게임 내에서 사용할 입력 방법을 정의합니다. 다양한 액션을 조합하여 복잡한 입력 패턴을 구현할 수 있습니다.'},\n",
      " {'term': '플레이어', 'description': '게임에서 사용자 또는 AI가 조종하는 캐릭터를 의미합니다. 게임의 주요 조종 객체로, 이동, 공격, 능력 사용 등 다양한 행동을 할 수 있습니다.'},\n",
      " {'term': '스クリ프트', 'description': '유니티에서 게임 로직을 구현하는 데 사용되는 프로그래밍 언어로, C# 언어를 기반으로 합니다. 게임의 동작, 충돌 처리, AI, 물리 엔진 등의 로직을 구현할 수 있습니다.'},\n",
      " {'term': 'onMove', 'description': '유니티의 인풋 시스템에서 사용되는 함수로, 플레이어의 이동 입력을 감지하고 처리하는 메서드입니다. 키보드, 게임 패드, 컨트롤러 등 다양한 입력 장치에서 입력 이벤트를 처리합니다.'},\n",
      " {'term': '벡터', 'description': '수학에서 사용되는 기본 단위로, 크기와 방향을 나타내는 수학적 개념입니다. 2D 또는 3D 공간에서 좌표를 표현하는 데 사용됩니다.'},\n",
      " {'term': '뱀서라이크', 'description': '뱀서라이크 게임 장르는 플레이어가 자신의 캐릭터를 조종하여 지속적으로 생성되는 적을 물리치고 생존을 추구하는 게임 유형으로, 주로 롤플레잉 요소를 포함합니다.'},\n",
      " {'term': '상세 노멀라이즈드', 'description': '입력 값을 더 세밀한 단위로 나타내는 방식으로, 유동적인 움직임을 구현할 때 사용됩니다. 더 많은 디테일을 제공하여 플레이어의 입력 반응을 향상시킵니다.'}]\n",
      "Inference Time: 30.09 seconds\n",
      "Peak GPU Memory Usage: 31.90 GB\n",
      "BLEU score: 0.0053\n",
      "Log probability score (sum): -124.7164\n",
      "\n",
      "==== Example 4 ====\n"
     ]
    },
    {
     "name": "stderr",
     "output_type": "stream",
     "text": [
      "Setting `pad_token_id` to `eos_token_id`:128009 for open-end generation.\n"
     ]
    },
    {
     "name": "stdout",
     "output_type": "stream",
     "text": [
      "Candidate output:\n",
      "[{'term': '유니티', 'description': '유니티는 게임 및 시뮬레이션 개발에 널리 사용되는 엔진으로, 2D 및 3D 게임을 제작하는 데 필요한 다양한 툴과 기능을 제공합니다. 다양한 플랫폼에 배포할 수 있는 크로스 플랫폼 기능이 특징입니다.'},\n",
      " {'term': '2D 셀 애니메이션', 'description': '2D 셀 애니메이션은 여러 스프라이트를 순차적으로 재생하여 움직임을 표현하는 기법으로, 캐릭터 애니메이션, UI 애니메이션 등에서 사용됩니다.'},\n",
      " {'term': '플립 X', 'description': '플립 X는 2D 그래픽에서 좌우 반전을 의미하며, 캐릭터의 방향 조정 시 좌측 방향으로 이동할 때 적용되는 설정입니다. X 값이 -1일 때 플립을 적용해야 합니다.'},\n",
      " {'term': '셀 애니메이션 기법', 'description': '셀 애니메이션 기법은 여러 스프라이트를 순차적으로 재생하여 움직임을 표현하는 방법으로, 런 0, 1, 2와 같은 이미지들을 순차적으로 표시하여 애니메이션을 만듭니다.'},\n",
      " {'term': '애니메이터 컴포넌트', 'description': '애니메이터 컴포넌트는 애니메이션 상태를 관리하는 데 사용되는 유니티의 컴포넌트로, 변경할 애니메이션 파일을 쉽게 드래그하여 연결할 수 있습니다.'},\n",
      " {'term': '애니메이션 오버라이드 컨트롤러', 'description': '애니메이션 오버라이드 컨트롤러는 기존 애니메이터를 재활용하여 새로운 캐릭터에 적용하는 데 사용되는 기능으로, 기존 설정을 유지하면서 새로운 애니메이션만 변경할 수 있습니다.'},\n",
      " {'term': '스프라이트', 'description': '스프라이트는 2D 게임에서 사용되는 잘라낸 이미지나 그림을 의미하며, 캐릭터, 아이템, 이펙트 등 다양한 요소의 비주얼을 표현할 수 있습니다.'},\n",
      " {'term': '리지드 바디 2D', 'description': '리지드 바디 2D 컴포넌트는 물리적 상호작용을 위해 오브젝트에 물리적 특성을 부여하는 기능을 제공하며, 중력이나 충돌 감지 등을 설정할 수 있습니다.'},\n",
      " {'term': '캡슐 콜라이더 2D', 'description': '캡슐 콜라이더 2D는 2D 공간에서 오브젝트의 물리적 경계를 정의하는 컴포넌트로, 캐릭터의 충돌 처리를 보다 쉽게 만들어 줍니다.'},\n",
      " {'term': '그래비티 스케일', 'description': '그래비티 스케일은 리지드 바디 컴포넌트에서 중력의 영향을 얼마나 받을지를 결정하는 값으로, 0으로 설정하면 중력이 적용되지 않도록 할 수 있습니다.'}]\n",
      "\n",
      "이 결과는 유튜브 타임라인에서 설명된 유니티에서 2D 셀 애니메이션을 만드는 방법과 관련된 핵심 용어와 그 설명을 포함하고 있습니다. 각 용어는 전문적이고 구체적인 설명을 통해 게임 개발자나 유니티 사용자들이 해당 용어를 이해하고 활용할 수 있도록 도와줍니다.\n",
      "Inference Time: 32.95 seconds\n",
      "Peak GPU Memory Usage: 31.80 GB\n",
      "BLEU score: 0.0338\n",
      "Log probability score (sum): -54.4248\n",
      "\n",
      "==== Example 5 ====\n"
     ]
    },
    {
     "name": "stderr",
     "output_type": "stream",
     "text": [
      "Setting `pad_token_id` to `eos_token_id`:128009 for open-end generation.\n"
     ]
    },
    {
     "name": "stdout",
     "output_type": "stream",
     "text": [
      "Candidate output:\n",
      "[{'term': '유니티', 'description': '유니티는 게임 및 시뮬레이션 개발에 널리 사용되는 엔진으로, 2D 및 3D 게임을 제작하는 데 필요한 다양한 툴과 기능을 제공합니다. 다양한 플랫폼에 배포할 수 있는 크로스 플랫폼 기능이 특징입니다.'}, \n",
      "'ta일맵', '타일맵은 2D 게임에서 사용되는 지도나 환경을 구성하기 위한 방법으로, 특정한 패턴이나 패키지로 제공되는 타일을 배열하여 맵을 만듭니다.', \n",
      "'온 트리거 EXIT 2D', '온 트리거 EXIT 2D는 플레이어의 위치를 감지하여 특정 이벤트를 트리거하는 Unity의 이벤트 시스템 중 하나로, 맵의 경계를 넘어갈 때 새로운 타일맵을 생성하는 데 사용됩니다.', \n",
      "'시네머신', '시네머신은 Unity에서 카메라의 움직임을 자연스럽고 부드럽게 구현하는 데 사용되는 패키지로, 카메라의 경로를 자동으로 조정하여 플레이어를 따라가게 합니다.', \n",
      "'플레이어 팔로우', '플레이어 팔로우는 플레이어가 움직이는 방향으로 카메라를 자동으로 조정하여 플레이어가 그려지는 시야를 자연스럽게 유지하는 기술입니다.', \n",
      "'랜덤 타일', '랜덤 타일은 타일맵을 생성할 때 특정 패턴이나 특정 타일을 랜덤하게 배치하여 다양한 맵을 생성하는 방법입니다.', \n",
      "'타일 속성', '타일 속성은 타일맵에서 각 타일의 특성을 설정하는 데 사용되는 설정으로, 타일의 종류, 색상, 패턴 등을 결정합니다.', \n",
      "'에셋', '에셋은 게임 개발에서 음악, 이미지, 모델 등 게임 내에서 사용되는 요소들을 의미하며, 게임의 비주얼과 사운드 요소를 구축하는 중요한 역할을 합니다.', \n",
      "'에셋 관리', '에셋 관리는 게임 내에서 사용되는 모든 자원(음악, 이미지, 모델 등)을 효율적으로 관리하는 과정으로, 버전 관리, 라이센스 관리 등을 포함합니다.', \n",
      "'스프라이트', '스프라이트는 2D 게임에서 사용되는 잘라낸 이미지나 그림을 의미하며, 캐릭터, 아이템, 이펙트 등 다양한 요소의 비주얼을 표현할 수 있습니다.', \n",
      "'리치드 바디 2D', '리치드 바디 2D 컴포넌트는 물리적 상호작용을 위해 오브젝트에 물리적 특성을 부여하는 기능을 제공하며, 중력이나 충돌 감지 등을 설정할 수 있습니다.'}\n",
      "Inference Time: 27.14 seconds\n",
      "Peak GPU Memory Usage: 31.90 GB\n",
      "BLEU score: 0.0193\n",
      "Log probability score (sum): -124.1840\n",
      "\n",
      "==== Example 6 ====\n"
     ]
    },
    {
     "name": "stderr",
     "output_type": "stream",
     "text": [
      "Setting `pad_token_id` to `eos_token_id`:128009 for open-end generation.\n"
     ]
    },
    {
     "name": "stdout",
     "output_type": "stream",
     "text": [
      "Candidate output:\n",
      "[{'term': '유니티', 'description': '유니티는 게임 및 시뮬레이션 개발에 널리 사용되는 엔진으로, 2D 및 3D 게임을 제작하는 데 필요한 다양한 툴과 기능을 제공합니다. 다양한 플랫폼에 배포할 수 있는 크로스 플랫폼 기능이 특징입니다.'},\n",
      " {'term': '뱀서라이크', 'description': '뱀서라이크 게임 장르는 플레이어가 자신의 캐릭터를 조종하여 지속적으로 생성되는 적을 물리치고 생존을 추구하는 게임 유형으로, 주로 롤플레잉 요소를 포함합니다.'},\n",
      " {'term': '에셋', 'description': '게임 개발에서 에셋은 음악, 이미지, 모델 등 게임 내에서 사용되는 요소들을 의미합니다. 에셋은 게임의 비주얼과 사운드 요소를 구축하는 중요한 역할을 합니다.'},\n",
      " {'term': '스프라이트', 'description': '스프라이트는 2D 게임에서 사용되는 잘라낸 이미지나 그림을 의미합니다. 캐릭터, 아이템, 이펙트 등 다양한 요소의 비주얼을 표현할 수 있습니다.'},\n",
      " {'term': '리지드 바디 2D', 'description': '리지드 바디 2D 컴포넌트는 물리적 상호작용을 위해 오브젝트에 물리적 특성을 부여하는 기능을 제공하며, 중력이나 충돌 감지 등을 설정할 수 있습니다.'},\n",
      " {'term': '캡슐 콜라이더 2D', 'description': '캡슐 콜라이더 2D는 2D 공간에서 오브젝트의 물리적 경계를 정의하는 컴포넌트로, 캐릭터의 충돌 처리를 보다 쉽게 만들어 줍니다.'},\n",
      " {'term': '그래비티 스케일', 'description': '그래비티 스케일은 리지드 바디 컴포넌트에서 중력의 영향을 얼마나 받을지를 결정하는 값으로, 0으로 설정하면 중력이 적용되지 않도록 할 수 있습니다.'},\n",
      " {'term': '유니티 허브', 'description': '유니티 허브는 유니티 엔진의 다양한 버전을 관리하고 프로젝트를 생성할 수 있는 툴로, 버전 관리와 라이센스 관리를 돕습니다.'},\n",
      " {'term': 'URP (Universal Render Pipeline)', 'description': 'URP는 유니티에서 제공하는 렌더링 파이프라인의 하나로, 다양한 플랫폼에서 최적화된 성능을 제공하면서도 시각적으로 우수한 결과를 만들어낼 수 있게끔 설계되었습니다.'},\n",
      " {'term': '스프라이트 설정', 'description': '스프라이트 설정은 스프라이트 이미지의 해상도, 필터링 등 다양한 속성을 조정하여 게임 내 비주얼 품질을 최적화하는 과정입니다.'},\n",
      " {'term': '애니메이터', 'description': '애니메이터는 유니티에서 애니메이션을 관리하는 컴포넌트로, 오브젝트의 움직임과 동작을 정의하고, 다양한 애니메이션 스크립트를 작성하여 게임 내의 오브젝트가 실제처럼 움직이도록 합니다.'},\n",
      " {'term': '픽스드 업데이트', 'description': '픽스드 업데이트는 유니티에서 사용되는 업데이트 메소드로, 특정 프레임마다 오브젝트의 위치나 상태를 업데이트하는 방법을 정의합니다.'},\n",
      " {'term': '벡터', 'description': '벡터는 수학에서 단위 벡터 또는 크기와 방향을 나타내는 수학적 개념으로, 게임 개발에서 위치, 속도, 방향 등을 계산하는 데 사용됩니다.'},\n",
      " {'term': '리포지션', 'description': '리포지션은 게임 내에서 오브젝트의 위치를 조정하고, 플레이어와의 거리를 유지하도록 하는 기능을 의미합니다. 몬스터의 위치를 랜덤하게 재배치하거나 특정 위치로 이동시키는 역할을 합니다.'}]\n",
      "Inference Time: 40.37 seconds\n",
      "Peak GPU Memory Usage: 31.90 GB\n",
      "BLEU score: 0.0291\n",
      "Log probability score (sum): -53.5380\n",
      "\n",
      "==== Example 7 ====\n"
     ]
    },
    {
     "name": "stderr",
     "output_type": "stream",
     "text": [
      "Setting `pad_token_id` to `eos_token_id`:128009 for open-end generation.\n"
     ]
    },
    {
     "name": "stdout",
     "output_type": "stream",
     "text": [
      "Candidate output:\n",
      "[{'term': '유니티', 'description': '유니티는 게임 및 시뮬레이션 개발에 널리 사용되는 엔진으로, 2D 및 3D 게임을 제작하는 데 필요한 다양한 툴과 기능을 제공합니다. 다양한 플랫폼에 배포할 수 있는 크로스 플랫폼 기능이 특징입니다.'},\n",
      " {'term': '오브젝트 풀링', 'description': '오브젝트 풀링은 게임에서 자주 사용되는 오브젝트를 미리 생성하여 메모리에서 효율적으로 관리하는 기법으로, 게임의 성능을 최적화하는 데 도움이 됩니다.'},\n",
      " {'term': '프리팹', 'description': '프리팹은 Unity에서 미리 만들어진 객체나 컴포넌트를 의미하며, 게임 개발 과정에서 자주 사용되는 요소들을 미리 준비해두고 필요할 때 쉽게 인스턴스화하여 사용할 수 있게 합니다.'},\n",
      " {'term': '풀 매니저', 'description': '풀 매니저는 오브젝트 풀링을 관리하는 Unity의 컴포넌트로, 오브젝트 풀을 초기화하고, 필요한 때마다 오브젝트를 인스턴스화하고 회수하는 등의 작업을 처리합니다.'},\n",
      " {'term': '리스트', 'description': '리스트는 데이터를 순차적으로 저장하고 관리하기 위한 데이터 구조로, 오브젝트 풀링에서 사용되는 배열 형태의 데이터를 의미합니다.'},\n",
      " {'term': '인스턴스화', 'description': '인스턴스화는 프로그래밍에서 클래스나 객체를 실제 메모리 공간에 생성하는 과정으로, 프리팹을 실제 게임 객체로 변환하여 사용하는 것을 의미합니다.'},\n",
      " {'term': '메모리 관리', 'description': '메모리 관리는 컴퓨터 프로그램이 실행 중인 동안 사용하는 메모리를 효율적으로 관리하고, 메모리 누수나 부족을 방지하는 작업을 의미합니다.'},\n",
      " {'term': '성능 최적화', 'description': '성능 최적화는 프로그램이 원활하게 실행될 수 있도록 하드웨어 자원을 효율적으로 사용하는 방법을 찾고, 성능 저하 요인을 최소화하는 과정입니다.'},\n",
      " {'term': '뱀서라이크', 'description': '뱀서라이크 게임 장르는 플레이어가 자신의 캐릭터를 조종하여 지속적으로 생성되는 적을 물리치고 생존을 추구하는 게임 유형으로, 주로 롤플레잉 요소를 포함합니다.'},\n",
      " {'term': '엔진', 'description': '엔진은 컴퓨터 그래픽이나 게임을 실행하는 소프트웨어의 핵심 요소로, 게임의 로직, 그래픽, 사운드 등을 처리하는 역할을 합니다.'},\n",
      " {'term': '플랫폼', 'description': '플랫폼은 소프트웨어가 실행되는 환경을 의미하며, 유니티 엔진은 다양한 플랫폼(Windows, Mac, iOS, Android 등)에 게임을 배포할 수 있는 기능을 제공합니다.'}]\n",
      "Inference Time: 28.84 seconds\n",
      "Peak GPU Memory Usage: 31.90 GB\n",
      "BLEU score: 0.0048\n",
      "Log probability score (sum): -119.6341\n",
      "\n",
      "==== Example 8 ====\n"
     ]
    },
    {
     "name": "stderr",
     "output_type": "stream",
     "text": [
      "Setting `pad_token_id` to `eos_token_id`:128009 for open-end generation.\n"
     ]
    },
    {
     "name": "stdout",
     "output_type": "stream",
     "text": [
      "Candidate output:\n",
      "[{'term': '유니티', 'description': '유니티는 게임 및 시뮬레이션 개발에 널리 사용되는 엔진으로, 2D 및 3D 게임을 제작하는 데 필요한 다양한 툴과 기능을 제공합니다. 다양한 플랫폼에 배포할 수 있는 크로스 플랫폼 기능이 특징입니다.'}, \n",
      "{'term': '뱀서라이크', 'description': '뱀서라이크 게임 장르는 플레이어가 자신의 캐릭터를 조종하여 지속적으로 생성되는 적을 물리치고 생존을 추구하는 게임 유형으로, 주로 롤플레잉 요소를 포함합니다.'}, \n",
      "{'term': '게임 매니저', 'description': '게임 매니저는 게임의 흐름을 관리하고, 게임의 상태를 제어하는 스크립트입니다. 게임의 시간, 레벨, 이벤트 등을 관리하는 역할을 합니다.'}, \n",
      "{'term': '게임 타임', 'description': '게임 타임은 게임의 시간을 나타내며, 게임의 진행 상황을 측정하는 데 사용됩니다. 레벨 업, 이벤트 트리거, 게임의 종료 조건 등에 사용됩니다.'}, \n",
      "{'term': 'SpawnData', 'description': 'SpawnData는 몬스터의 속성(타입, 소환 타임, 체력, 스피드)을 정의하는 클래스로, 직렬화되어 데이터를 저장하고 전달할 수 있습니다.'}, \n",
      "{'term': '오브젝트 풀링', 'description': '오브젝트 풀링은 게임에서 반복적으로 사용되는 오브젝트를 미리 생성하여 메모리 효율성을 높이고, 게임의 성능을 최적화하는 기술입니다.'}, \n",
      "{'term': '데이터 직렬화', 'description': '데이터 직렬화는 데이터를 컴퓨터 내부의 데이터 구조에서 네트워크나 파일로 전송하거나 저장하기 위해 변환하는 과정입니다. 유니티에서 사용되는 직렬화는 JSON 형식으로 이루어집니다.'}, \n",
      "{'term': '인스펙터', 'description': '인스펙터는 유니티에서 사용 가능한 모든 오브젝트를 한 곳에서 관리할 수 있는 도구로, 프로젝트의 구조를 쉽게 관리하고 설정할 수 있습니다.'}, \n",
      "{'term': 'OnEnable', 'description': 'OnEnable은 컴포넌트가 활성화될 때 호출되는 함수로, 컴포넌트가 초기화되거나 활성화될 때 사용되는 코드를 작성할 수 있습니다.'}, \n",
      "{'term': 'Init', 'description': 'Init 함수는 오브젝트나 컴포넌트가 초기화될 때 호출되는 함수로, 오브젝트의 초기 상태를 설정하거나 초기화 작업을 수행합니다.'}, \n",
      "{'term': '풀 매니저', 'description': '풀 매니저는 게임에서 여러 개의 오브젝트를 효율적으로 관리하는 스크립트로, 오브젝트의 생성, 소멸, 업데이트 등을 관리합니다.'}, \n",
      "{'term': '스포너', 'description': '스포너는 특정 조건에 따라 오브젝트를 생성하거나 제거하는 스크립트로, 게임 내에서 특정 이벤트나 조건에 따라 오브젝트를 동적으로 관리할 수 있습니다.'}, \n",
      "{'term': '난이도 조절', 'description': '난이도 조절은 게임의 어려움 수준을 조절하는 기능으로, 플레이어의 성능에 따라 게임의 난이도를 자동으로 조정하는 방식으로 진행됩니다.'}]\n",
      "Inference Time: 33.93 seconds\n",
      "Peak GPU Memory Usage: 31.70 GB\n",
      "BLEU score: 0.0056\n",
      "Log probability score (sum): -117.6426\n",
      "\n",
      "==== Example 9 ====\n"
     ]
    },
    {
     "name": "stderr",
     "output_type": "stream",
     "text": [
      "Setting `pad_token_id` to `eos_token_id`:128009 for open-end generation.\n"
     ]
    },
    {
     "name": "stdout",
     "output_type": "stream",
     "text": [
      "Candidate output:\n",
      "[{'term': '유니티', 'description': '유니티는 게임 및 시뮬레이션 개발에 널리 사용되는 엔진으로, 2D 및 3D 게임을 제작하는 데 필요한 다양한 툴과 기능을 제공합니다. 다양한 플랫폼에 배포할 수 있는 크로스 플랫폼 기능이 특징입니다.'}, \n",
      "{'term': '프리펩', 'description': '게임 오브젝트의 인스턴스를 쉽게 재사용할 수 있도록 도와주는 유용한 기능입니다.'}, \n",
      "{'term': '충돌 로직', 'description': '게임 오브젝트 간의 충돌을 감지하고 처리하는 알고리즘으로, 충돌 시 발생하는 이벤트나 반응을 정의합니다.'}, \n",
      "{'term': '스프라이트', 'description': '스프라이트는 2D 게임에서 사용되는 잘라낸 이미지나 그림을 의미합니다. 캐릭터, 아이템, 이펙트 등 다양한 요소의 비주얼을 표현할 수 있습니다.'}, \n",
      "{'term': '리지드 바디 2D', 'description': '물리적 상호작용을 위해 오브젝트에 물리적 특성을 부여하는 기능을 제공하며, 중력이나 충돌 감지 등을 설정할 수 있습니다.'}, \n",
      "{'term': '캡슐 콜라이더 2D', 'description': '2D 공간에서 오브젝트의 물리적 경계를 정의하는 컴포넌트로, 캐릭터의 충돌 처리를 보다 쉽게 만들어 줍니다.'}, \n",
      "{'term': '그래비티 스케일', 'description': '리지드 바디 컴포넌트에서 중력의 영향을 얼마나 받을지를 결정하는 값으로, 0으로 설정하면 중력이 적용되지 않도록 할 수 있습니다.'}, \n",
      "{'term': '유니티 허브', 'description': '유니티 엔진의 다양한 버전을 관리하고 프로젝트를 생성할 수 있는 툴로, 버전 관리와 라이센스 관리를 돕습니다.'}, \n",
      "{'term': 'URP (Universal Render Pipeline)', 'description': '유니티에서 제공하는 렌더링 파이프라인의 하나로, 다양한 플랫폼에서 최적화된 성능을 제공하면서도 시각적으로 우수한 결과를 만들어낼 수 있게끔 설계되었습니다.'}, \n",
      "{'term': '스프라이트 설정', 'description': '스프라이트 이미지의 해상도, 필터링 등 다양한 속성을 조정하여 게임 내 비주얼 품질을 최적화하는 과정입니다.'}, \n",
      "{'term': '타임라인', 'description': '게임이나 애니메이션의 시간 흐름을 시각적으로 표현하는 도구로, 이벤트나 전개 과정을 시각적으로 확인하고 조절할 수 있습니다.'}]\n",
      "Inference Time: 26.82 seconds\n",
      "Peak GPU Memory Usage: 31.70 GB\n",
      "BLEU score: 0.0036\n",
      "Log probability score (sum): -38.4555\n",
      "\n",
      "==== Example 10 ====\n",
      "Candidate output:\n",
      "[{'term': '유니티', 'description': '유니티는 게임 및 시뮬레이션 개발에 널리 사용되는 엔진으로, 2D 및 3D 게임을 제작하는 데 필요한 다양한 툴과 기능을 제공합니다. 다양한 플랫폼에 배포할 수 있는 크로스 플랫폼 기능이 특징입니다.'}, \n",
      "{'term': '뱀서라이크', 'description': '뱀서라이크 게임 장르는 플레이어가 자신의 캐릭터를 조종하여 지속적으로 생성되는 적을 물리치고 생존을 추구하는 게임 유형으로, 주로 롤플레잉 요소를 포함합니다.'}, \n",
      "{'term': '스캐너', 'description': '스캐너는 게임 개발에서 특정 범위 내의 오브젝트를 탐지하고 감지하는 역할을 하는 컴포넌트입니다. 주로 원근형 범위 내의 적을 탐지하여 원거리 공격을 구현하는 데 사용됩니다.'}, \n",
      "{'term': '레이캐스트', 'description': '레이캐스트는 2D 공간에서 특정한 범위 내의 오브젝트를 탐지하는 기술로, 2D 레이캐스트를 사용하여 원형 범위 내의 적을 찾는 로직을 구현합니다.'}, \n",
      "{'term': '적', 'description': '게임에서 플레이어에게 위협을 가하는 오브젝트를 의미합니다. 이 영상에서는 '적'이라는 태그를 통해 적 오브젝트를 구분하고 관리합니다.'}, \n",
      "{'term': '플레이어', 'description': '게임에서 주인공 역할을 하는 캐릭터를 의미합니다. 이 영상에서는 플레이어 오브젝트를 중심으로 원거리 공격 시스템을 구현합니다.'}, \n",
      "{'term': '총알', 'description': '게임에서 공격을 위해 사용되는 물리적 오브젝트를 의미합니다. 이 영상에서는 플레이어로부터 총알이 발사되어 적을 공격하는 로직을 구현합니다.'}, \n",
      "{'term': '레이어', 'description': '유니티에서는 물리적 구분을 위해 사용되는 기능으로, 태그와는 다르게 레이어를 통해 오브젝트를 구분하고 관리할 수 있습니다.'}, \n",
      "{'term': 'Fixed Update', 'description': '유니티에서 사용되는 업데이트 함수로, 물리 엔진 업데이트와 같은 중요한 업데이트 작업을 주기적으로 처리합니다.'}, \n",
      "{'term': '스프린트', 'description': '게임 개발에서 특정한 범위 내에서 오브젝트를 탐지하고 관리하는 과정으로, 이 영상에서는 스캐너를 통해 적을 탐지하고 원거리 공격을 구현합니다.'}, \n",
      "{'term': '태그', 'description': '유니티에서 오브젝트를 구분하고 관리하기 위해 사용되는 메타데이터로, '적' 태그를 통해 적 오브젝트를 구분하고 관리합니다.'}]\n",
      "Inference Time: 27.62 seconds\n",
      "Peak GPU Memory Usage: 31.60 GB\n",
      "BLEU score: 0.0101\n",
      "Log probability score (sum): -97.3671\n"
     ]
    },
    {
     "data": {
      "text/html": [],
      "text/plain": [
       "<IPython.core.display.HTML object>"
      ]
     },
     "metadata": {},
     "output_type": "display_data"
    },
    {
     "data": {
      "text/html": [
       "<br>    <style><br>        .wandb-row {<br>            display: flex;<br>            flex-direction: row;<br>            flex-wrap: wrap;<br>            justify-content: flex-start;<br>            width: 100%;<br>        }<br>        .wandb-col {<br>            display: flex;<br>            flex-direction: column;<br>            flex-basis: 100%;<br>            flex: 1;<br>            padding: 10px;<br>        }<br>    </style><br><div class=\"wandb-row\"><div class=\"wandb-col\"><h3>Run history:</h3><br/><table class=\"wandb\"><tr><td>BLEU_score</td><td>█▁▁▁▁▁▁▁▁▁</td></tr><tr><td>Inference_time_sec</td><td>▃▅▃▄▁█▂▅▁▁</td></tr><tr><td>Log_probability_score</td><td>█▁▂▆▂▆▂▂▆▃</td></tr><tr><td>Peak_GPU_Memory_GB</td><td>▁██▇███▆▆▆</td></tr><tr><td>basic_memory</td><td>▁</td></tr><tr><td>example_index</td><td>▁▂▃▃▄▅▆▆▇█</td></tr></table><br/></div><div class=\"wandb-col\"><h3>Run summary:</h3><br/><table class=\"wandb\"><tr><td>BLEU_score</td><td>0.01014</td></tr><tr><td>Inference_time_sec</td><td>27.62411</td></tr><tr><td>Log_probability_score</td><td>-97.36711</td></tr><tr><td>Peak_GPU_Memory_GB</td><td>31.6</td></tr><tr><td>basic_memory</td><td>29.9</td></tr><tr><td>example_index</td><td>9</td></tr></table><br/></div></div>"
      ],
      "text/plain": [
       "<IPython.core.display.HTML object>"
      ]
     },
     "metadata": {},
     "output_type": "display_data"
    },
    {
     "data": {
      "text/html": [
       " View run <strong style=\"color:#cdcd00\">8B_origin</strong> at: <a href='https://wandb.ai/iamkimhongil92-lumenasoft/hangae_99_8/runs/euqt3l9d' target=\"_blank\">https://wandb.ai/iamkimhongil92-lumenasoft/hangae_99_8/runs/euqt3l9d</a><br> View project at: <a href='https://wandb.ai/iamkimhongil92-lumenasoft/hangae_99_8' target=\"_blank\">https://wandb.ai/iamkimhongil92-lumenasoft/hangae_99_8</a><br>Synced 5 W&B file(s), 0 media file(s), 0 artifact file(s) and 0 other file(s)"
      ],
      "text/plain": [
       "<IPython.core.display.HTML object>"
      ]
     },
     "metadata": {},
     "output_type": "display_data"
    },
    {
     "data": {
      "text/html": [
       "Find logs at: <code>./wandb/run-20250213_101416-euqt3l9d/logs</code>"
      ],
      "text/plain": [
       "<IPython.core.display.HTML object>"
      ]
     },
     "metadata": {},
     "output_type": "display_data"
    }
   ],
   "source": [
    "import json\n",
    "import time\n",
    "import torch\n",
    "import transformers\n",
    "import wandb\n",
    "from nltk.translate.bleu_score import sentence_bleu, SmoothingFunction\n",
    "import nltk\n",
    "from transformers import BitsAndBytesConfig\n",
    "from transformers import AutoModelForCausalLM\n",
    "\n",
    "# nltk 다운로드 (최초 1회)\n",
    "nltk.download('punkt')\n",
    "\n",
    "# wandb 초기화\n",
    "wandb.init(project=\"hangae_Final\", name=\"8B_4Bit_Quant\")\n",
    "\n",
    "# corpus.json 파일 로드 (UTF-8 인코딩)\n",
    "with open(\"./corpus.json\", \"r\", encoding=\"utf-8\") as f:\n",
    "    evaluation_data = json.load(f)\n",
    "\n",
    "# 10개만 추론\n",
    "evaluation_data = evaluation_data[:10]\n",
    "\n",
    "# 허깅페이스 방식으로 모델 및 파이프라인 초기화\n",
    "model_id = \"MLP-KTLim/llama-3-Korean-Bllossom-8B\"\n",
    "quantization_config = BitsAndBytesConfig(\n",
    "    load_in_4bit=True,\n",
    "    bnb_4bit_compute_dtype=torch.bfloat16,\n",
    "    bnb_4bit_use_double_quant=True,\n",
    "    bnb_4bit_quant_type=\"nf4\",\n",
    ")\n",
    "model = AutoModelForCausalLM.from_pretrained(\n",
    "    model_id,\n",
    "    quantization_config=quantization_config, # 4비트 양자화 적용\n",
    "    device_map=\"auto\"\n",
    ")\n",
    "generator = transformers.pipeline(\n",
    "    \"text-generation\",\n",
    "    model=model,\n",
    "    tokenizer=model_id,\n",
    "    device_map=\"auto\",\n",
    ")\n",
    "generator.model.eval()\n",
    "\n",
    "# 시스템 프롬프트 정의\n",
    "SYSTEM_PROMPT = (\n",
    "    \"You are a helpful AI assistant. Please answer the user's questions kindly. \"\n",
    "    \"당신은 유능한 AI 어시스턴트 입니다. 사용자의 질문에 대해 친절하게 답변해주세요.\"\n",
    ")\n",
    "\n",
    "# 채팅 템플릿을 적용하여 프롬프트를 생성하는 함수\n",
    "def make_prompt(system_msg: str, user_msg: str) -> str:\n",
    "\n",
    "    msg = f\"\"\"\n",
    "다음은 유튜브 타임라인 요약 문서입니다. 이 내용을 분석하여 10개의 핵심 용어(KeyPoint)와 설명을 생성하세요.\n",
    "설명을 생성할 때 영상 위주가 아닌 최대한 전문적이고 구체적으로 추가 설명해주세요. 저는 영상 내용 뿐 아니라 그 용어에 대한 내용을 알고 싶습니다.\n",
    "중요하지 않더라도 알면 좋을 추가 핵심 용어도 더해주세요.\n",
    "\n",
    "[타임라인 요약]:\n",
    "{user_msg}\n",
    "\n",
    "[가이드]:\n",
    "- 필드는 `term`과 `description`을 포함하며, 결과는  10개의 키포인트 리스트로 구성됩니다.\n",
    "- 반드시 JSON 형식에 맞춰 반환하세요.\n",
    "- 다른 텍스트는 포함하지 마세요.\n",
    "\n",
    "[예시]:\n",
    "{evaluation_data[0]['output']}\n",
    "\"\"\"\n",
    "\n",
    "    messages = [\n",
    "        {\"role\": \"system\", \"content\": system_msg},\n",
    "        {\"role\": \"user\", \"content\": msg}\n",
    "    ]\n",
    "    prompt = generator.tokenizer.apply_chat_template(\n",
    "        messages,\n",
    "        tokenize=False,\n",
    "        add_generation_prompt=True\n",
    "    )\n",
    "    return prompt\n",
    "\n",
    "# 종료 토큰 설정\n",
    "terminators = [\n",
    "    generator.tokenizer.eos_token_id,\n",
    "    generator.tokenizer.convert_tokens_to_ids(\"<|eot_id|>\")\n",
    "]\n",
    "\n",
    "print(f'{round(generator.model.get_memory_footprint() / (1024 ** 3), 1)}GB')\n",
    "wandb.log({\"basic_memory\": round(generator.model.get_memory_footprint() / (1024 ** 3), 1)})\n",
    "\n",
    "\n",
    "# 평가 루프: corpus.json에 있는 각 예제에 대해 추론 수행\n",
    "for idx, example in enumerate(evaluation_data):\n",
    "    print(f\"\\n==== Example {idx+1} ====\")\n",
    "\n",
    "    # 사용자 입력과 프롬프트 생성\n",
    "    user_input = example[\"input\"]\n",
    "    prompt = make_prompt(SYSTEM_PROMPT, user_input)\n",
    "\n",
    "    # 입력 토큰 인코딩\n",
    "    encoded_input = generator.tokenizer(prompt, return_tensors=\"pt\")\n",
    "    encoded_input = {k: v.to(generator.model.device) for k, v in encoded_input.items()}\n",
    "    prompt_length = encoded_input[\"input_ids\"].shape[1]\n",
    "\n",
    "    # 속도 및 메모리 측정을 위한 시작 시간 기록 및 GPU 메모리 초기화\n",
    "    start_time = time.time()\n",
    "    if torch.cuda.is_available():\n",
    "        torch.cuda.reset_peak_memory_stats(generator.model.device)\n",
    "\n",
    "    # 모델 생성: 토큰별 score 반환 포함\n",
    "    outputs = generator.model.generate(\n",
    "        **encoded_input,\n",
    "        max_new_tokens=1024,\n",
    "        eos_token_id=terminators[0],\n",
    "        do_sample=True,\n",
    "        temperature=0.6,\n",
    "        top_p=0.9,\n",
    "        return_dict_in_generate=True,\n",
    "        output_scores=True,\n",
    "    )\n",
    "\n",
    "    # GPU 동기화 후 종료 시간 기록\n",
    "    if torch.cuda.is_available():\n",
    "        torch.cuda.synchronize(generator.model.device)\n",
    "    end_time = time.time()\n",
    "    elapsed_time = end_time - start_time\n",
    "\n",
    "    # GPU 메모리 사용량 측정 (Peak 메모리, MB 단위)\n",
    "    if torch.cuda.is_available():\n",
    "        peak_memory = round(torch.cuda.max_memory_allocated(generator.model.device) / (1024 ** 3), 1)\n",
    "    else:\n",
    "        peak_memory = 0\n",
    "\n",
    "    # 생성된 전체 토큰에서 프롬프트 이후의 candidate 토큰 추출\n",
    "    generated_ids = outputs.sequences[0]\n",
    "    candidate_ids = generated_ids[prompt_length:]\n",
    "    candidate_text = generator.tokenizer.decode(candidate_ids, skip_special_tokens=True).strip()\n",
    "\n",
    "    print(\"Candidate output:\")\n",
    "    print(candidate_text)\n",
    "    print(f\"Inference Time: {elapsed_time:.2f} seconds\")\n",
    "    print(f\"Peak GPU Memory Usage: {peak_memory:.2f} GB\")\n",
    "\n",
    "    # 참조 텍스트: evaluation_data의 \"output\"을 JSON 문자열로 변환\n",
    "    reference_text = json.dumps(example[\"output\"], ensure_ascii=False, indent=2)\n",
    "\n",
    "    # BLEU 점수 계산 (공백 기준 토큰화)\n",
    "    candidate_tokens = candidate_text.split()\n",
    "    reference_tokens = reference_text.split()\n",
    "    bleu = sentence_bleu(\n",
    "        [reference_tokens],\n",
    "        candidate_tokens,\n",
    "        smoothing_function=SmoothingFunction().method1\n",
    "    )\n",
    "    print(f\"BLEU score: {bleu:.4f}\")\n",
    "\n",
    "    # 로그 확률 계산: 각 생성 토큰에 대해 log‑softmax 후 선택된 토큰의 로그 확률 합산\n",
    "    log_score = 0.0\n",
    "    for i, step_scores in enumerate(outputs.scores):\n",
    "        log_probs = torch.log_softmax(step_scores, dim=-1)\n",
    "        token_id = candidate_ids[i].unsqueeze(0)  # shape: (1,)\n",
    "        token_log_prob = log_probs[0, token_id].item()\n",
    "        log_score += token_log_prob\n",
    "    print(f\"Log probability score (sum): {log_score:.4f}\")\n",
    "\n",
    "    # wandb에 메트릭 로깅\n",
    "    wandb.log({\n",
    "        \"example_index\": idx,\n",
    "        \"BLEU_score\": bleu,\n",
    "        \"Inference_time_sec\": elapsed_time,\n",
    "        \"Peak_GPU_Memory_GB\": peak_memory,\n",
    "        \"Log_probability_score\": log_score\n",
    "    })\n",
    "\n",
    "wandb.finish()"
   ]
  },
  {
   "cell_type": "code",
   "execution_count": null,
   "metadata": {},
   "outputs": [],
   "source": []
  }
 ],
 "metadata": {
  "kernelspec": {
   "display_name": "Python 3 (ipykernel)",
   "language": "python",
   "name": "python3"
  },
  "language_info": {
   "codemirror_mode": {
    "name": "ipython",
    "version": 3
   },
   "file_extension": ".py",
   "mimetype": "text/x-python",
   "name": "python",
   "nbconvert_exporter": "python",
   "pygments_lexer": "ipython3",
   "version": "3.10.12"
  }
 },
 "nbformat": 4,
 "nbformat_minor": 4
}
