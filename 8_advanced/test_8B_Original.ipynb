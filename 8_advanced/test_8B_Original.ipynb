{
 "cells": [
  {
   "cell_type": "code",
   "execution_count": 1,
   "metadata": {},
   "outputs": [
    {
     "name": "stderr",
     "output_type": "stream",
     "text": [
      "[nltk_data] Downloading package punkt to /root/nltk_data...\n",
      "[nltk_data]   Package punkt is already up-to-date!\n",
      "\u001b[34m\u001b[1mwandb\u001b[0m: Currently logged in as: \u001b[33miamkimhongil92\u001b[0m (\u001b[33miamkimhongil92-lumenasoft\u001b[0m) to \u001b[32mhttps://api.wandb.ai\u001b[0m. Use \u001b[1m`wandb login --relogin`\u001b[0m to force relogin\n",
      "\u001b[34m\u001b[1mwandb\u001b[0m: Using wandb-core as the SDK backend.  Please refer to https://wandb.me/wandb-core for more information.\n"
     ]
    },
    {
     "data": {
      "text/html": [
       "Tracking run with wandb version 0.19.6"
      ],
      "text/plain": [
       "<IPython.core.display.HTML object>"
      ]
     },
     "metadata": {},
     "output_type": "display_data"
    },
    {
     "data": {
      "text/html": [
       "Run data is saved locally in <code>/workspace/hanghae99_plusAI_2/8_advanced/wandb/run-20250213_122234-31s80sft</code>"
      ],
      "text/plain": [
       "<IPython.core.display.HTML object>"
      ]
     },
     "metadata": {},
     "output_type": "display_data"
    },
    {
     "data": {
      "text/html": [
       "Syncing run <strong><a href='https://wandb.ai/iamkimhongil92-lumenasoft/hangae_Final/runs/31s80sft' target=\"_blank\">8B_Original</a></strong> to <a href='https://wandb.ai/iamkimhongil92-lumenasoft/hangae_Final' target=\"_blank\">Weights & Biases</a> (<a href='https://wandb.me/developer-guide' target=\"_blank\">docs</a>)<br>"
      ],
      "text/plain": [
       "<IPython.core.display.HTML object>"
      ]
     },
     "metadata": {},
     "output_type": "display_data"
    },
    {
     "data": {
      "text/html": [
       " View project at <a href='https://wandb.ai/iamkimhongil92-lumenasoft/hangae_Final' target=\"_blank\">https://wandb.ai/iamkimhongil92-lumenasoft/hangae_Final</a>"
      ],
      "text/plain": [
       "<IPython.core.display.HTML object>"
      ]
     },
     "metadata": {},
     "output_type": "display_data"
    },
    {
     "data": {
      "text/html": [
       " View run at <a href='https://wandb.ai/iamkimhongil92-lumenasoft/hangae_Final/runs/31s80sft' target=\"_blank\">https://wandb.ai/iamkimhongil92-lumenasoft/hangae_Final/runs/31s80sft</a>"
      ],
      "text/plain": [
       "<IPython.core.display.HTML object>"
      ]
     },
     "metadata": {},
     "output_type": "display_data"
    },
    {
     "data": {
      "application/vnd.jupyter.widget-view+json": {
       "model_id": "58ae2813848b48c39b182c81b09f1416",
       "version_major": 2,
       "version_minor": 0
      },
      "text/plain": [
       "Loading checkpoint shards:   0%|          | 0/4 [00:00<?, ?it/s]"
      ]
     },
     "metadata": {},
     "output_type": "display_data"
    },
    {
     "name": "stderr",
     "output_type": "stream",
     "text": [
      "Device set to use cuda:0\n",
      "Setting `pad_token_id` to `eos_token_id`:128009 for open-end generation.\n"
     ]
    },
    {
     "name": "stdout",
     "output_type": "stream",
     "text": [
      "29.9GB\n",
      "\n",
      "==== Example 1 ====\n"
     ]
    },
    {
     "name": "stderr",
     "output_type": "stream",
     "text": [
      "From v4.47 onwards, when a model cache is to be returned, `generate` will return a `Cache` instance instead by default (as opposed to the legacy tuple of tuples format). If you want to keep returning the legacy format, please set `return_legacy_cache=True`.\n",
      "Setting `pad_token_id` to `eos_token_id`:128009 for open-end generation.\n"
     ]
    },
    {
     "name": "stdout",
     "output_type": "stream",
     "text": [
      "Candidate output:\n",
      "[{'term': '유니티', 'description': '유니티는 게임 및 시뮬레이션 개발에 널리 사용되는 엔진으로, 2D 및 3D 게임을 제작하는 데 필요한 다양한 툴과 기능을 제공합니다. 다양한 플랫폼에 배포할 수 있는 크로스 플랫폼 기능이 특징입니다.'}, \n",
      "{'term': '뱀서라이크', 'description': '뱀서라이크 게임 장르는 플레이어가 자신의 캐릭터를 조종하여 지속적으로 생성되는 적을 물리치고 생존을 추구하는 게임 유형으로, 주로 롤플레잉 요소를 포함합니다.'}, \n",
      "{'term': '에셋', 'description': '게임 개발에서 에셋은 음악, 이미지, 모델 등 게임 내에서 사용되는 요소들을 의미합니다. 에셋은 게임의 비주얼과 사운드 요소를 구축하는 중요한 역할을 합니다.'}, \n",
      "{'term': '스프라이트', 'description': '스프라이트는 2D 게임에서 사용되는 잘라낸 이미지나 그림을 의미합니다. 캐릭터, 아이템, 이펙트 등 다양한 요소의 비주얼을 표현할 수 있습니다.'}, \n",
      "{'term': '리지드 바디 2D', 'description': '리지드 바디 2D 컴포넌트는 물리적 상호작용을 위해 오브젝트에 물리적 특성을 부여하는 기능을 제공하며, 중력이나 충돌 감지 등을 설정할 수 있습니다.'}, \n",
      "{'term': '캡슐 콜라이더 2D', 'description': '캡슐 콜라이더 2D는 2D 공간에서 오브젝트의 물리적 경계를 정의하는 컴포넌트로, 캐릭터의 충돌 처리를 보다 쉽게 만들어 줍니다.'}, \n",
      "{'term': '그래비티 스케일', 'description': '그래비티 스케일은 리지드 바디 컴포넌트에서 중력의 영향을 얼마나 받을지를 결정하는 값으로, 0으로 설정하면 중력이 적용되지 않도록 할 수 있습니다.'}, \n",
      "{'term': '유니티 허브', 'description': '유니티 허브는 유니티 엔진의 다양한 버전을 관리하고 프로젝트를 생성할 수 있는 툴로, 버전 관리와 라이센스 관리를 돕습니다.'}, \n",
      "{'term': 'URP (Universal Render Pipeline)', 'description': 'URP는 유니티에서 제공하는 렌더링 파이프라인의 하나로, 다양한 플랫폼에서 최적화된 성능을 제공하면서도 시각적으로 우수한 결과를 만들어낼 수 있게끔 설계되었습니다.'}, \n",
      "{'term': '스프라이트 설정', 'description': '스프라이트 설정은 스프라이트 이미지의 해상도, 필터링 등 다양한 속성을 조정하여 게임 내 비주얼 품질을 최적화하는 과정입니다.'}, \n",
      "{'term': '프로젝트 생성', 'description': '유니티에서 새로운 프로젝트를 생성하는 과정으로, 프로젝트 이름과 경로를 설정하고 초기 설정을 완료하는 단계를 포함합니다.'}, \n",
      "{'term': '에디터', 'description': '유니티 에디터는 개발자가 게임 환경을 시각적으로 편집하고, 오브젝트를 추가하고, 스크립트를 작성하는 등 다양한 작업을 수행할 수 있는 인터페이스입니다.'}, \n",
      "{'term': '라이센스', 'description': '소프트웨어 사용을 허가하는 권리를 의미하며, 유니티는 다양한 유형의 라이센스를 제공하여 사용자들이 유니티를 사용할 수 있도록 합니다.'}, \n",
      "{'term': '폴더', 'description': '컴퓨터에서 파일과 폴더를 구분하여 관리하는 단위로, 프로젝트의 파일과 폴더를 조직하고 관리하는 데 사용됩니다.'}, \n",
      "{'term': '비주얼', 'description': '게임의 시각적 요소들을 의미하며, 그래픽, 애니메이션, 모델 등이 포함됩니다.'}, \n",
      "{'term': '크로스 플랫폼', 'description': '한 소프트웨어가 다양한 운영 체제와 하드웨어에서 작동할 수 있도록 설계된 것을 의미합니다.'}]\n",
      "Inference Time: 49.06 seconds\n",
      "Peak GPU Memory Usage: 31.10 GB\n",
      "BLEU score: 0.4760\n",
      "Log probability score (sum): -61.4632\n",
      "\n",
      "==== Example 2 ====\n"
     ]
    },
    {
     "name": "stderr",
     "output_type": "stream",
     "text": [
      "Setting `pad_token_id` to `eos_token_id`:128009 for open-end generation.\n"
     ]
    },
    {
     "name": "stdout",
     "output_type": "stream",
     "text": [
      "Candidate output:\n",
      "[{'term': '유니티', 'description': '유니티는 게임 및 시뮬레이션 개발에 널리 사용되는 엔진으로, 2D 및 3D 게임을 제작하는 데 필요한 다양한 툴과 기능을 제공합니다. 다양한 플랫폼에 배포할 수 있는 크로스 플랫폼 기능이 특징입니다.'}, \n",
      "'term': 'C# 스크립트', 'description': 'C# 언어를 사용하여 유니티에서 게임 로직을 구현하는 코드 파일입니다. 유니티 엔진에서 다양한 기능을 추가하고 조작할 수 있게 해줍니다.'}, \n",
      "'term': '플레이어 오브젝트', 'description': '게임에서 사용자의 조작을 받는 캐릭터를 나타내는 오브젝트입니다. 플레이어의 움직임, 행동, 상태 등을 관리합니다.'}, \n",
      "'term': '리치 텍스트 에디터', 'description': '유니티에서 코드를 작성하는 데 사용되는 텍스트 에디터입니다. C# 코드를 작성하고 디버깅하는 데 도움을 줍니다.'}, \n",
      "'term': '리치드 바디 2D', 'description': '물리적 상호작용을 위해 오브젝트에 물리적 특성을 부여하는 컴포넌트로, 중력이나 충돌 감지 등을 설정할 수 있습니다.'}, \n",
      "'term': '캡슐 콜라이더 2D', 'description': '2D 공간에서 오브젝트의 물리적 경계를 정의하는 컴포넌트로, 캐릭터의 충돌 처리를 보다 쉽게 만들어 줍니다.'}, \n",
      "'term': '그래비티 스케일', 'description': '리지드 바디 컴포넌트에서 중력의 영향을 얼마나 받을지를 결정하는 값으로, 0으로 설정하면 중력이 적용되지 않도록 할 수 있습니다.'}, \n",
      "'term': 'FixedUpdate', 'description': '유니티에서 물리 엔진 업데이트를 위해 사용되는 메서드입니다. 물리적 동작을 프레임마다 업데이트합니다.'}, \n",
      "'term': 'Normalize', 'description': '벡터의 길이를 1로 만들고 방향을 유지하는 메서드입니다. 벡터의 크기를 정규화하여 계산을 쉽게 만듭니다.'}, \n",
      "'term': 'Input.GetAxis', 'description': '유니티에서 사용자 입력을 감지하고 값을 반환하는 메서드입니다. 'Horizontal'과 'Vertical' 입력 값을 가져올 수 있습니다.'}, \n",
      "'term': 'AddForce', 'description': '물리 엔진에서 힘을 추가하여 오브젝트의 움직임을 제어합니다. 물리적 힘을 통해 오브젝트를 움직이게 합니다.'}, \n",
      "'term': 'Velocity', 'description': '물리 엔진에서 오브젝트의 속도를 나타내는 값입니다. 직접적인 속도를 제어하여 오브젝트의 움직임을 변경할 수 있습니다.'}, \n",
      "'term': 'MovePosition', 'description': '오브젝트의 위치를 직접적으로 이동시키는 메서드입니다. 물리적 힘을 사용하지 않고 위치를 조정할 수 있습니다.'}]\n",
      "\n",
      "이 목록은 유튜브 영상에서 설명된 유니티에서 플레이어 오브젝트를 이동시키는 방법과 관련된 주요 용어와 그 설명을 포함하고 있습니다. 각 용어는 유니티 엔진과 관련된 기본적인 개념과 기능을 설명하며, 사용자가 유니티 개발에 필요한 지식을 확장할 수 있도록 도와줍니다.\n",
      "Inference Time: 40.19 seconds\n",
      "Peak GPU Memory Usage: 32.10 GB\n",
      "BLEU score: 0.0052\n",
      "Log probability score (sum): -122.0256\n",
      "\n",
      "==== Example 3 ====\n"
     ]
    },
    {
     "name": "stderr",
     "output_type": "stream",
     "text": [
      "Setting `pad_token_id` to `eos_token_id`:128009 for open-end generation.\n"
     ]
    },
    {
     "name": "stdout",
     "output_type": "stream",
     "text": [
      "Candidate output:\n",
      "[{'term': '유니티', 'description': '유니티는 게임 및 시뮬레이션 개발에 널리 사용되는 엔진으로, 2D 및 3D 게임을 제작하는 데 필요한 다양한 툴과 기능을 제공합니다. 다양한 플랫폼에 배포할 수 있는 크로스 플랫폼 기능이 특징입니다.'}, \n",
      "{'term': '뱀서라이크', 'description': '뱀서라이크 게임 장르는 플레이어가 자신의 캐릭터를 조종하여 지속적으로 생성되는 적을 물리치고 생존을 추구하는 게임 유형으로, 주로 롤플레잉 요소를 포함합니다.'}, \n",
      "{'term': '뉴 인풋 시스템', 'description': '유니티에서 최근 도입된 새로운 입력 시스템으로, 기존의 입력 방식에서 벗어나 더 유연하고 정교한 입력 처리를 가능하게 합니다.'}, \n",
      "{'term': '패키지 매니저', 'description': '유니티에서 사용할 다양한 패키지를 관리하는 도구로, 새로운 패키지를 설치, 업데이트, 제거하는 기능을 제공합니다.'}, \n",
      "{'term': '유니티 레지스트리', 'description': '유니티에서 모든 프로젝트의 설정과 데이터를 저장하는 중앙 집중식 데이터베이스로, 패키지 설치, 설정 변경 등 다양한 작업을 지원합니다.'}, \n",
      "{'term': '인풋 액션 프로필', 'description': '유니티의 인풋 시스템에서 사용자 정의 입력을 관리하는 파일로, 키보드, 게임 패드 등의 입력을 매핑하여 특정 액션을 수행할 수 있습니다.'}, \n",
      "{'term': '스크립트', 'description': '프로그래밍 언어를 사용하여 게임의 로직을 구현하는 코드 파일로, 유니티에서 게임의 동작을 제어하고, 다양한 기능을 구현하는 데 사용됩니다.'}, \n",
      "{'term': 'onMove 함수', 'description': '유니티의 인풋 시스템에서 이동 입력을 처리하는 특정 함수로, 사용자 입력을 받아서 게임 오브젝트의 이동을 제어합니다.'}, \n",
      "{'term': '벡터 변수', 'description': '수학적 개념으로, 크기와 방향을 나타내는 수학적 개념으로 사용되며, 게임 개발에서 위치, 속도, 방향 등을 표현하는 데 사용됩니다.'}, \n",
      "{'term': '상세 노멀라이즈드', 'description': '유니티의 인풋 시스템에서 입력 값을 더 세밀하게 조정할 수 있는 옵션으로, 유동적인 움직임을 구현할 때 유용하게 사용됩니다.'}, \n",
      "{'term': '스프링스', 'description': '유니티에서 사용자 정의 스크립트를 작성하고, 게임 오브젝트에 적용하여 게임 로직을 구현하는 과정입니다.'}]\n",
      "Inference Time: 32.59 seconds\n",
      "Peak GPU Memory Usage: 31.90 GB\n",
      "BLEU score: 0.0057\n",
      "Log probability score (sum): -94.2697\n",
      "\n",
      "==== Example 4 ====\n"
     ]
    },
    {
     "name": "stderr",
     "output_type": "stream",
     "text": [
      "Setting `pad_token_id` to `eos_token_id`:128009 for open-end generation.\n"
     ]
    },
    {
     "name": "stdout",
     "output_type": "stream",
     "text": [
      "Candidate output:\n",
      "[{'term': '유니티', 'description': '유니티는 게임 및 시뮬레이션 개발에 널리 사용되는 엔진으로, 2D 및 3D 게임을 제작하는 데 필요한 다양한 툴과 기능을 제공합니다. 다양한 플랫폼에 배포할 수 있는 크로스 플랫폼 기능이 특징입니다.'}, \n",
      "'term': '2D 셀 애니메이션', 'description': '2D 셀 애니메이션은 여러 스프라이트를 순차적으로 재생하여 움직임을 만드는 기법으로, 캐릭터의 움직임을 자연스럽게 표현할 수 있습니다.'}, \n",
      "'term': '플립 X', 'description': '플립 X는 캐릭터의 방향 조정 시 이미지의 좌우 반전을 적용하는 설정으로, 캐릭터가 좌측 방향으로 이동할 때 X 값이 -1일 때 반전이 필요합니다.'}, \n",
      "'term': '셀 애니메이션', 'description': '셀 애니메이션은 여러 스프라이트를 순차적으로 재생하여 움직임을 만드는 방법으로, 런 0, 1, 2와 같은 이미지들을 순차적으로 표시하여 애니메이션을 만듭니다.'}, \n",
      "'term': '애니메이터', 'description': '애니메이터 컴포넌트는 애니메이션 상태를 관리하는 데 사용되는 유니티의 컴포넌트로, 변경할 애니메이션 파일을 쉽게 드래그하여 연결할 수 있습니다.'}, \n",
      "'term': '애니메이션 오버라이드 컨트롤러', 'description': '애니메이션 오버라이드 컨트롤러는 기존 애니메이터를 재활용하여 새로운 캐릭터에 적용하는 방법으로, 기존 설정을 유지하면서 새로운 애니메이션만 변경할 수 있습니다.'}, \n",
      "'term': '스프라이트', 'description': '스프라이트는 2D 게임에서 사용되는 잘라낸 이미지나 그림을 의미하며, 캐릭터, 아이템, 이펙트 등 다양한 요소의 비주얼을 표현할 수 있습니다.'}, \n",
      "'term': '코딩', 'description': '코딩은 컴퓨터 프로그램을 작성하는 과정으로, 유니티에서 애니메이터를 활성화하고 애니메이션 상태를 제어하기 위해 사용됩니다.'}, \n",
      "'term': '리지드 바디 2D', 'description': '리지드 바디 2D 컴포넌트는 물리적 상호작용을 위해 오브젝트에 물리적 특성을 부여하는 기능을 제공하며, 중력이나 충돌 감지 등을 설정할 수 있습니다.'}, \n",
      "'term': '캡슐 콜라이더 2D', 'description': '캡슐 콜라이더 2D는 2D 공간에서 오브젝트의 물리적 경계를 정의하는 컴포넌트로, 캐릭터의 충돌 처리를 보다 쉽게 만들어 줍니다.'}, \n",
      "'term': '그래비티 스케일', 'description': '그래비티 스케일은 리지드 바디 컴포넌트에서 중력의 영향을 얼마나 받을지를 결정하는 값으로, 0으로 설정하면 중력이 적용되지 않도록 할 수 있습니다.'}]\n",
      "\n",
      "이 리스트는 유튜브 타임라인 요약 문서에서 주요 키워드와 그에 대한 설명을 제공하여 유니티에서 2D 셀 애니메이션을 만드는 방법에 대한 이해를 돕습니다.\n",
      "Inference Time: 39.48 seconds\n",
      "Peak GPU Memory Usage: 31.70 GB\n",
      "BLEU score: 0.0327\n",
      "Log probability score (sum): -52.4839\n",
      "\n",
      "==== Example 5 ====\n"
     ]
    },
    {
     "name": "stderr",
     "output_type": "stream",
     "text": [
      "Setting `pad_token_id` to `eos_token_id`:128009 for open-end generation.\n"
     ]
    },
    {
     "name": "stdout",
     "output_type": "stream",
     "text": [
      "Candidate output:\n",
      "[{'term': '유니티', 'description': '유니티는 게임 및 시뮬레이션 개발에 널리 사용되는 엔진으로, 2D 및 3D 게임을 제작하는 데 필요한 다양한 툴과 기능을 제공합니다. 다양한 플랫폼에 배포할 수 있는 크로스 플랫폼 기능이 특징입니다.'}, \n",
      "'taillmap', '타일맵은 2D 게임에서 지형이나 배경을 구성하는 데 사용되는 시스템으로, 타일 단위로 맵을 설정하여 다양한 패턴을 만들어낼 수 있습니다.', \n",
      "'시네머신', '시네머신 패키지는 유니티에서 카메라의 움직임을 더욱 매끄럽게 만들기 위한 도구로, 가상 카메라를 사용하여 플레이어를 부드럽게 따라가게 합니다.', \n",
      "'온 트리거 EXIT 2D', '온 트리거 EXIT 2D 이벤트는 플레이어가 맵의 경계를 넘어갈 때 새로운 타일맵이 생성되는 로직을 자동으로 처리하는 기능입니다.', \n",
      "'리지드 바디 2D', '리지드 바디 2D 컴포넌트는 물리적 상호작용을 위해 오브젝트에 물리적 특성을 부여하는 기능을 제공하며, 중력이나 충돌 감지 등을 설정할 수 있습니다.', \n",
      "'캡슐 콜라이더 2D', '캡슐 콜라이더 2D는 2D 공간에서 오브젝트의 물리적 경계를 정의하는 컴포넌트로, 캐릭터의 충돌 처리를 보다 쉽게 만들어 줍니다.', \n",
      "'그래비티 스케일', '그래비티 스케일은 리지드 바디 컴포넌트에서 중력의 영향을 얼마나 받을지를 결정하는 값으로, 0으로 설정하면 중력이 적용되지 않도록 할 수 있습니다.', \n",
      "'유니티 허브', '유니티 허브는 유니티 엔진의 다양한 버전을 관리하고 프로젝트를 생성할 수 있는 툴로, 버전 관리와 라이센스 관리를 돕습니다.', \n",
      "'URP (Universal Render Pipeline)', 'URP는 유니티에서 제공하는 렌더링 파이프라인의 하나로, 다양한 플랫폼에서 최적화된 성능을 제공하면서도 시각적으로 우수한 결과를 만들어낼 수 있게끔 설계되었습니다.', \n",
      "'스프라이트 설정', '스프라이트 설정은 스프라이트 이미지의 해상도, 필터링 등 다양한 속성을 조정하여 게임 내 비주얼 품질을 최적화하는 과정입니다.'}]\n",
      "Inference Time: 30.49 seconds\n",
      "Peak GPU Memory Usage: 31.90 GB\n",
      "BLEU score: 0.0051\n",
      "Log probability score (sum): -34.2582\n",
      "\n",
      "==== Example 6 ====\n"
     ]
    },
    {
     "name": "stderr",
     "output_type": "stream",
     "text": [
      "Setting `pad_token_id` to `eos_token_id`:128009 for open-end generation.\n"
     ]
    },
    {
     "name": "stdout",
     "output_type": "stream",
     "text": [
      "Candidate output:\n",
      "[{'term': '유니티', 'description': '유니티는 게임 및 시뮬레이션 개발에 널리 사용되는 엔진으로, 2D 및 3D 게임을 제작하는 데 필요한 다양한 툴과 기능을 제공합니다. 다양한 플랫폼에 배포할 수 있는 크로스 플랫폼 기능이 특징입니다.'},\n",
      " {'term': '뱀서라이크', 'description': '뱀서라이크 게임 장르는 플레이어가 자신의 캐릭터를 조종하여 지속적으로 생성되는 적을 물리치고 생존을 추구하는 게임 유형으로, 주로 롤플레잉 요소를 포함합니다.'},\n",
      " {'term': '에셋', 'description': '게임 개발에서 에셋은 음악, 이미지, 모델 등 게임 내에서 사용되는 요소들을 의미합니다. 에셋은 게임의 비주얼과 사운드 요소를 구축하는 중요한 역할을 합니다.'},\n",
      " {'term': '스프라이트', 'description': '스프라이트는 2D 게임에서 사용되는 잘라낸 이미지나 그림을 의미합니다. 캐릭터, 아이템, 이펙트 등 다양한 요소의 비주얼을 표현할 수 있습니다.'},\n",
      " {'term': '리지드 바디 2D', 'description': '리지드 바디 2D 컴포넌트는 물리적 상호작용을 위해 오브젝트에 물리적 특성을 부여하는 기능을 제공하며, 중력이나 충돌 감지 등을 설정할 수 있습니다.'},\n",
      " {'term': '캡슐 콜라이더 2D', 'description': '캡슐 콜라이더 2D는 2D 공간에서 오브젝트의 물리적 경계를 정의하는 컴포넌트로, 캐릭터의 충돌 처리를 보다 쉽게 만들어 줍니다.'},\n",
      " {'term': '그래비티 스케일', 'description': '그래비티 스케일은 리지드 바디 컴포넌트에서 중력의 영향을 얼마나 받을지를 결정하는 값으로, 0으로 설정하면 중력이 적용되지 않도록 할 수 있습니다.'},\n",
      " {'term': '유니티 허브', 'description': '유니티 허브는 유니티 엔진의 다양한 버전을 관리하고 프로젝트를 생성할 수 있는 툴로, 버전 관리와 라이센스 관리를 돕습니다.'},\n",
      " {'term': 'URP (Universal Render Pipeline)', 'description': 'URP는 유니티에서 제공하는 렌더링 파이프라인의 하나로, 다양한 플랫폼에서 최적화된 성능을 제공하면서도 시각적으로 우수한 결과를 만들어낼 수 있게끔 설계되었습니다.'},\n",
      " {'term': '스프라이트 설정', 'description': '스프라이트 설정은 스프라이트 이미지의 해상도, 필터링 등 다양한 속성을 조정하여 게임 내 비주얼 품질을 최적화하는 과정입니다.'},\n",
      " {'term': '애니메이터', 'description': '애니메이터는 유니티에서 오브젝트의 움직임을 정의하고, 다양한 애니메이션을 추가하여 게임 내 오브젝트의 동작을 구현하는 컴포넌트입니다.'},\n",
      " {'term': '픽스드 업데이트', 'description': '픽스드 업데이트는 유니티에서 물리 엔진을 업데이트하는 메소드로, 물리적 상호작용을 처리하고, 오브젝트의 위치를 정밀하게 업데이트합니다.'}]\n",
      "Inference Time: 40.17 seconds\n",
      "Peak GPU Memory Usage: 31.90 GB\n",
      "BLEU score: 0.0306\n",
      "Log probability score (sum): -20.4918\n",
      "\n",
      "==== Example 7 ====\n"
     ]
    },
    {
     "name": "stderr",
     "output_type": "stream",
     "text": [
      "Setting `pad_token_id` to `eos_token_id`:128009 for open-end generation.\n"
     ]
    },
    {
     "name": "stdout",
     "output_type": "stream",
     "text": [
      "Candidate output:\n",
      "[{'term': '유니티', 'description': '유니티는 게임 및 시뮬레이션 개발에 널리 사용되는 엔진으로, 2D 및 3D 게임을 제작하는 데 필요한 다양한 툴과 기능을 제공합니다. 다양한 플랫폼에 배포할 수 있는 크로스 플랫폼 기능이 특징입니다.'}, {'term': '프리팹', 'description': '프리팹은 유니티에서 게임 오브젝트를 미리 만들어두고 재사용할 수 있는 템플릿을 의미합니다. 이를 통해 코드의 반복을 줄이고, 프로젝트의 유지보수를 용이하게 합니다.'}, {'term': '오브젝트 풀링', 'description': '오브젝트 풀링은 특정한 오브젝트를 미리 생성하여 메모리에 저장하고, 필요할 때 이를 인스턴스화하여 사용하는 기술입니다. 이를 통해 메모리 사용을 최적화하고 성능을 향상시킬 수 있습니다.'}, {'term': '풀 매니저', 'description': '풀 매니저는 오브젝트 풀링 시스템을 관리하는 컴포넌트로, 오브젝트의 생성, 초기화, 제거 등을 자동으로 처리하여 개발자가 직접 관리하지 않도록 돕습니다.'}, {'term': '리스트', 'description': '리스트는 프로그래밍에서 여러 요소를 저장할 수 있는 데이터 구조입니다. 오브젝트 풀링에서는 리스트를 사용하여 오브젝트를 저장하고 관리합니다.'}, {'term': '메모리 관리', 'description': '메모리 관리는 프로그램이 실행 중에 사용하는 메모리를 효율적으로 관리하여 성능을 최적화하는 기술입니다. 오브젝트 풀링을 통해 메모리 낭비를 줄일 수 있습니다.'}, {'term': '인스턴스화', 'description': '인스턴스화는 미리 준비된 오브젝트 템플릿을 게임 내에서 실제 오브젝트로 변환하는 과정입니다. 이를 통해 오브젝트의 생성 시간을 단축하고 성능을 향상시킬 수 있습니다.'}, {'term': '중력', 'description': '중력은 물리 엔진에서 오브젝트가 아래로 가라앉는 힘을 의미합니다. 유니티의 리지드 바디 컴포넌트를 사용하여 중력을 적용할 수 있습니다.'}, {'term': '콜라이더', 'description': '콜라이더는 물리 엔진에서 오브젝트의 물리적 경계를 정의하는 컴포넌트입니다. 유니티에서는 2D와 3D 버전의 콜라이더가 있으며, 충돌 감지와 물리적 상호작용을 처리합니다.'}, {'term': '게임 개발', 'description': '게임 개발은 게임을 제작하는 과정으로, 프로그래밍, 디자인, 아트 등 다양한 분야가 결합되어 이루어집니다. 유니티는 이러한 게임 개발을 지원하는 엔진으로 널리 사용됩니다.'}, {'term': '엔진', 'description': '엔진은 게임 개발에서 게임의 핵심 기능과 시스템을 구현하는 소프트웨어를 의미합니다. 유니티는 게임 엔진의 한 예로, 2D 및 3D 게임을 제작할 수 있는 다양한 기능을 제공합니다.'}]\n",
      "Inference Time: 36.55 seconds\n",
      "Peak GPU Memory Usage: 31.80 GB\n",
      "BLEU score: 0.0092\n",
      "Log probability score (sum): -113.1127\n",
      "\n",
      "==== Example 8 ====\n"
     ]
    },
    {
     "name": "stderr",
     "output_type": "stream",
     "text": [
      "Setting `pad_token_id` to `eos_token_id`:128009 for open-end generation.\n"
     ]
    },
    {
     "name": "stdout",
     "output_type": "stream",
     "text": [
      "Candidate output:\n",
      "[{'term': '유니티', 'description': '유니티는 게임 및 시뮬레이션 개발에 널리 사용되는 엔진으로, 2D 및 3D 게임을 제작하는 데 필요한 다양한 툴과 기능을 제공합니다. 다양한 플랫폼에 배포할 수 있는 크로스 플랫폼 기능이 특징입니다.'},\n",
      " {'term': '뱀서라이크', 'description': '뱀서라이크 게임 장르는 플레이어가 자신의 캐릭터를 조종하여 지속적으로 생성되는 적을 물리치고 생존을 추구하는 게임 유형으로, 주로 롤플레잉 요소를 포함합니다.'},\n",
      " {'term': '오브젝트 풀링', 'description': '오브젝트 풀링은 게임에서 반복적으로 사용되는 오브젝트를 한 번만 생성하고 이를 필요할 때마다 풀링하여 효율적으로 사용하는 방법입니다. 이를 통해 메모리 사용을 줄이고 성능을 최적화할 수 있습니다.'},\n",
      " {'term': '게임 매니저', 'description': '게임 매니저 스크립트는 게임의 주요 로직을 관리하는 스크립트로, 게임의 흐름을 제어하고 게임 상태를 추적하며 이벤트를 처리합니다.'},\n",
      " {'term': '레벨', 'description': '게임 내에서 플레이어의 성장이나 난이도 조절을 위해 사용되는 단위로, 시간이 흐름에 따라 레벨이 증가하여 게임의 난이도와 콘텐츠가 변화합니다.'},\n",
      " {'term': '몬스터', 'description': '게임 내에서 플레이어를 공격하는 적 오브젝트로, 다양한 속성과 행동을 가지며 게임의 난이도를 높이는 요소입니다.'},\n",
      " {'term': '스폰 데이터', 'description': '몬스터의 속성(타입, 소환 타임, 체력, 스피드)을 포함한 데이터를 저장하는 클래스로, 직렬화하여 게임에서 쉽게 초기화하고 관리할 수 있습니다.'},\n",
      " {'term': '직렬화', 'description': '데이터를 텍스트나 다른 형식으로 변환하여 저장하거나 전송하는 과정으로, 데이터의 효율적인 저장과 전송을 가능하게 합니다.'},\n",
      " {'term': '애니메이터', 'description': '유니티에서 오브젝트의 움직임을 제어하고 애니메이션을 관리하는 컴포넌트로, 몬스터의 생명력을 제어하고 다양한 행동을 구현할 수 있습니다.'},\n",
      " {'term': '풀 매니저', 'description': '오브젝트 풀링을 관리하는 시스템으로, 특정한 조건에 따라 오브젝트를 생성하고 제거하여 효율적인 리소스 관리를 가능하게 합니다.'},\n",
      " {'term': '스펜더', 'description': '스펜더는 특정 조건에 따라 오브젝트를 생성하거나 제거하는 시스템으로, 몬스터의 소환과 같은 게임 로직을 구현하는 데 사용됩니다.'}]\n",
      "Inference Time: 33.27 seconds\n",
      "Peak GPU Memory Usage: 31.70 GB\n",
      "BLEU score: 0.0052\n",
      "Log probability score (sum): -102.7727\n",
      "\n",
      "==== Example 9 ====\n"
     ]
    },
    {
     "name": "stderr",
     "output_type": "stream",
     "text": [
      "Setting `pad_token_id` to `eos_token_id`:128009 for open-end generation.\n"
     ]
    },
    {
     "name": "stdout",
     "output_type": "stream",
     "text": [
      "Candidate output:\n",
      "[{'term': '유니티', 'description': '유니티는 게임 및 시뮬레이션 개발에 널리 사용되는 엔진으로, 2D 및 3D 게임을 제작하는 데 필요한 다양한 툴과 기능을 제공합니다. 다양한 플랫폼에 배포할 수 있는 크로스 플랫폼 기능이 특징입니다.'}, \n",
      "{'term': '프리펩', 'description': '프리펩은 유니티에서 게임 오브젝트의 인스턴스를 쉽게 재사용할 수 있도록 도와주는 유용한 기능입니다. 새로운 오브젝트를 빠르게 생성하고, 여러 번 사용할 수 있습니다.'}, \n",
      "{'term': '스프라이트', 'description': '스프라이트는 2D 게임에서 사용되는 잘라낸 이미지나 그림을 의미합니다. 캐릭터, 아이템, 이펙트 등 다양한 요소의 비주얼을 표현할 수 있습니다.'}, \n",
      "{'term': '충돌 로직', 'description': '충돌 로직은 게임 오브젝트가 서로 충돌할 때 발생하는 이벤트를 처리하는 코드나 알고리즘을 의미합니다. 충돌 시의 반응을 정의하고, 게임의 동작을 제어합니다.'}, \n",
      "{'term': '유니티 에디터', 'description': '유니티 에디터는 유니티 엔진을 사용하여 게임 개발을 위한 환경을 제공합니다. 게임 오브젝트를 생성하고, 설정하며, 코드를 작성하는 데 사용됩니다.'}, \n",
      "{'term': '리짓 바디 2D', 'description': '리짓 바디 2D 컴포넌트는 물리적 상호작용을 위해 오브젝트에 물리적 특성을 부여하는 기능을 제공하며, 중력이나 충돌 감지 등을 설정할 수 있습니다.'}, \n",
      "{'term': '캡슐 콜라이더 2D', 'description': '캡슐 콜라이더 2D는 2D 공간에서 오브젝트의 물리적 경계를 정의하는 컴포넌트로, 캐릭터의 충돌 처리를 보다 쉽게 만들어 줍니다.'}, \n",
      "{'term': '그래비티 스케일', 'description': '그래비티 스케일은 리지드 바디 컴포넌트에서 중력의 영향을 얼마나 받을지를 결정하는 값으로, 0으로 설정하면 중력이 적용되지 않도록 할 수 있습니다.'}, \n",
      "{'term': '유니티 허브', 'description': '유니티 허브는 유니티 엔진의 다양한 버전을 관리하고 프로젝트를 생성할 수 있는 툴로, 버전 관리와 라이센스 관리를 돕습니다.'}, \n",
      "{'term': 'URP (Universal Render Pipeline)', 'description': 'URP는 유니티에서 제공하는 렌더링 파이프라인의 하나로, 다양한 플랫폼에서 최적화된 성능을 제공하면서도 시각적으로 우수한 결과를 만들어낼 수 있게끔 설계되었습니다.'}, \n",
      "{'term': '스프라이트 설정', 'description': '스프라이트 설정은 스프라이트 이미지의 해상도, 필터링 등 다양한 속성을 조정하여 게임 내 비주얼 품질을 최적화하는 과정입니다.'}]\n",
      "Inference Time: 36.55 seconds\n",
      "Peak GPU Memory Usage: 31.70 GB\n",
      "BLEU score: 0.0043\n",
      "Log probability score (sum): -38.2478\n",
      "\n",
      "==== Example 10 ====\n",
      "Candidate output:\n",
      "[{'term': '유니티', 'description': '유니티는 게임 및 시뮬레이션 개발에 널리 사용되는 엔진으로, 2D 및 3D 게임을 제작하는 데 필요한 다양한 툴과 기능을 제공합니다. 다양한 플랫폼에 배포할 수 있는 크로스 플랫폼 기능이 특징입니다.'},\n",
      " {'term': '뱀서라이크', 'description': '뱀서라이크 게임 장르는 플레이어가 자신의 캐릭터를 조종하여 지속적으로 생성되는 적을 물리치고 생존을 추구하는 게임 유형으로, 주로 롤플레잉 요소를 포함합니다.'},\n",
      " {'term': '에셋', 'description': '게임 개발에서 에셋은 음악, 이미지, 모델 등 게임 내에서 사용되는 요소들을 의미합니다. 에셋은 게임의 비주얼과 사운드 요소를 구축하는 중요한 역할을 합니다.'},\n",
      " {'term': '스캐너', 'description': '스캐너는 게임에서 특정 범위 내의 오브젝트를 감지하고 감지된 오브젝트의 정보를 수집하는 기능을 제공하는 컴포넌트입니다.'},\n",
      " {'term': '레이캐스트', 'description': '레이캐스트는 2D 또는 3D 공간에서 특정 오브젝트와의 거리나 각도를 측정하는 기술로, 물리적 상호작용을 구현하는 데 사용됩니다.'},\n",
      " {'term': 'Fixed Update', 'description': 'Fixed Update는 유니티의 업데이트 함수 중 하나로, 물리 엔진 업데이트와 같은 고정된 프레임 단위로 호출됩니다. 주로 물리적 로직이나 레이캐스트와 같은 시간이 중요한 작업에 사용됩니다.'},\n",
      " {'term': '레이어', 'description': '레이어는 유니티에서 오브젝트의 물리적 구분을 위한 기능으로, 태그와는 다르게 물리적 상호작용을 구분하는 역할을 합니다.'},\n",
      " {'term': '몬스터', 'description': '게임 내에서 플레이어를 공격하는 적의 일종으로, 플레이어가 생존을 위해 이들을 물리치거나 회피해야 하는 요소입니다.'},\n",
      " {'term': '총알', 'description': '총알은 원거리 공격을 위해 사용되는 게임 내 요소로, 플레이어가 적을 공격하는 데 사용되는 물리적 오브젝트입니다.'},\n",
      " {'term': '스프린트', 'description': '스프린트는 유니티에서 오브젝트의 속도를 빠르게 증가시키는 기능으로, 특정 행동이나 이벤트 발생 시 오브젝트의 이동 속도를 조절할 수 있습니다.'},\n",
      " {'term': '타겟 레이어', 'description': '타겟 레이어는 특정 오브젝트를 감지하거나 공격하는 데 사용되는 레이어 마스크로, 특정 유형의 오브젝트만을 대상으로 하는 로직을 구현할 수 있습니다.'}]\n",
      "\n",
      "이 리스트는 유튜브 타임라인에서 다루는 유니티와 뱀서라이크 게임에서 원거리 공격 시스템 구현에 대한 핵심 용어와 그 설명을 제공합니다. 각 용어는 해당 분야에서 중요한 역할을 하며, 이를 통해 게임 개발자나 유니티 사용자들이 이해하고 구현하는 데 도움이 될 것입니다.\n",
      "Inference Time: 36.99 seconds\n",
      "Peak GPU Memory Usage: 31.70 GB\n",
      "BLEU score: 0.0123\n",
      "Log probability score (sum): -120.0314\n"
     ]
    },
    {
     "data": {
      "text/html": [],
      "text/plain": [
       "<IPython.core.display.HTML object>"
      ]
     },
     "metadata": {},
     "output_type": "display_data"
    },
    {
     "data": {
      "text/html": [
       "<br>    <style><br>        .wandb-row {<br>            display: flex;<br>            flex-direction: row;<br>            flex-wrap: wrap;<br>            justify-content: flex-start;<br>            width: 100%;<br>        }<br>        .wandb-col {<br>            display: flex;<br>            flex-direction: column;<br>            flex-basis: 100%;<br>            flex: 1;<br>            padding: 10px;<br>        }<br>    </style><br><div class=\"wandb-row\"><div class=\"wandb-col\"><h3>Run history:</h3><br/><table class=\"wandb\"><tr><td>BLEU_score</td><td>█▁▁▁▁▁▁▁▁▁</td></tr><tr><td>Inference_time_sec</td><td>█▅▂▄▁▅▃▂▃▃</td></tr><tr><td>Log_probability_score</td><td>▅▁▃▆▇█▂▂▇▁</td></tr><tr><td>Peak_GPU_Memory_GB</td><td>▁█▇▅▇▇▆▅▅▅</td></tr><tr><td>basic_memory</td><td>▁</td></tr><tr><td>example_index</td><td>▁▂▃▃▄▅▆▆▇█</td></tr></table><br/></div><div class=\"wandb-col\"><h3>Run summary:</h3><br/><table class=\"wandb\"><tr><td>BLEU_score</td><td>0.01233</td></tr><tr><td>Inference_time_sec</td><td>36.98878</td></tr><tr><td>Log_probability_score</td><td>-120.03143</td></tr><tr><td>Peak_GPU_Memory_GB</td><td>31.7</td></tr><tr><td>basic_memory</td><td>29.9</td></tr><tr><td>example_index</td><td>9</td></tr></table><br/></div></div>"
      ],
      "text/plain": [
       "<IPython.core.display.HTML object>"
      ]
     },
     "metadata": {},
     "output_type": "display_data"
    },
    {
     "data": {
      "text/html": [
       " View run <strong style=\"color:#cdcd00\">8B_Original</strong> at: <a href='https://wandb.ai/iamkimhongil92-lumenasoft/hangae_Final/runs/31s80sft' target=\"_blank\">https://wandb.ai/iamkimhongil92-lumenasoft/hangae_Final/runs/31s80sft</a><br> View project at: <a href='https://wandb.ai/iamkimhongil92-lumenasoft/hangae_Final' target=\"_blank\">https://wandb.ai/iamkimhongil92-lumenasoft/hangae_Final</a><br>Synced 5 W&B file(s), 0 media file(s), 0 artifact file(s) and 0 other file(s)"
      ],
      "text/plain": [
       "<IPython.core.display.HTML object>"
      ]
     },
     "metadata": {},
     "output_type": "display_data"
    },
    {
     "data": {
      "text/html": [
       "Find logs at: <code>./wandb/run-20250213_122234-31s80sft/logs</code>"
      ],
      "text/plain": [
       "<IPython.core.display.HTML object>"
      ]
     },
     "metadata": {},
     "output_type": "display_data"
    }
   ],
   "source": [
    "import json\n",
    "import time\n",
    "import torch\n",
    "import transformers\n",
    "import wandb\n",
    "from nltk.translate.bleu_score import sentence_bleu, SmoothingFunction\n",
    "import nltk\n",
    "from transformers import BitsAndBytesConfig\n",
    "\n",
    "\n",
    "# nltk 다운로드 (최초 1회)\n",
    "nltk.download('punkt')\n",
    "\n",
    "# wandb 초기화\n",
    "wandb.init(project=\"hangae_Final\", name=\"8B_Original\")\n",
    "\n",
    "# corpus.json 파일 로드 (UTF-8 인코딩)\n",
    "with open(\"./corpus.json\", \"r\", encoding=\"utf-8\") as f:\n",
    "    evaluation_data = json.load(f)\n",
    "\n",
    "# 10개만 추론\n",
    "evaluation_data = evaluation_data[:10]\n",
    "\n",
    "# 허깅페이스 방식으로 모델 및 파이프라인 초기화\n",
    "model_id = \"MLP-KTLim/llama-3-Korean-Bllossom-8B\"\n",
    "generator = transformers.pipeline(\n",
    "    \"text-generation\",\n",
    "    model=model_id,\n",
    "    tokenizer=model_id,\n",
    "    device_map=\"auto\",\n",
    ")\n",
    "generator.model.eval()\n",
    "\n",
    "# 시스템 프롬프트 정의\n",
    "SYSTEM_PROMPT = (\n",
    "    \"You are a helpful AI assistant. Please answer the user's questions kindly. \"\n",
    "    \"당신은 유능한 AI 어시스턴트 입니다. 사용자의 질문에 대해 친절하게 답변해주세요.\"\n",
    ")\n",
    "\n",
    "# 채팅 템플릿을 적용하여 프롬프트를 생성하는 함수\n",
    "def make_prompt(system_msg: str, user_msg: str) -> str:\n",
    "\n",
    "    msg = f\"\"\"\n",
    "다음은 유튜브 타임라인 요약 문서입니다. 이 내용을 분석하여 10개의 핵심 용어(KeyPoint)와 설명을 생성하세요.\n",
    "설명을 생성할 때 영상 위주가 아닌 최대한 전문적이고 구체적으로 추가 설명해주세요. 저는 영상 내용 뿐 아니라 그 용어에 대한 내용을 알고 싶습니다.\n",
    "중요하지 않더라도 알면 좋을 추가 핵심 용어도 더해주세요.\n",
    "\n",
    "[타임라인 요약]:\n",
    "{user_msg}\n",
    "\n",
    "[가이드]:\n",
    "- 필드는 `term`과 `description`을 포함하며, 결과는  10개의 키포인트 리스트로 구성됩니다.\n",
    "- 반드시 JSON 형식에 맞춰 반환하세요.\n",
    "- 다른 텍스트는 포함하지 마세요.\n",
    "\n",
    "[예시]:\n",
    "{evaluation_data[0]['output']}\n",
    "\"\"\"\n",
    "\n",
    "    messages = [\n",
    "        {\"role\": \"system\", \"content\": system_msg},\n",
    "        {\"role\": \"user\", \"content\": msg}\n",
    "    ]\n",
    "    prompt = generator.tokenizer.apply_chat_template(\n",
    "        messages,\n",
    "        tokenize=False,\n",
    "        add_generation_prompt=True\n",
    "    )\n",
    "    return prompt\n",
    "\n",
    "# 종료 토큰 설정\n",
    "terminators = [\n",
    "    generator.tokenizer.eos_token_id,\n",
    "    generator.tokenizer.convert_tokens_to_ids(\"<|eot_id|>\")\n",
    "]\n",
    "\n",
    "print(f'{round(generator.model.get_memory_footprint() / (1024 ** 3), 1)}GB')\n",
    "wandb.log({\"basic_memory\": round(generator.model.get_memory_footprint() / (1024 ** 3), 1)})\n",
    "\n",
    "\n",
    "# 평가 루프: corpus.json에 있는 각 예제에 대해 추론 수행\n",
    "for idx, example in enumerate(evaluation_data):\n",
    "    print(f\"\\n==== Example {idx+1} ====\")\n",
    "\n",
    "    # 사용자 입력과 프롬프트 생성\n",
    "    user_input = example[\"input\"]\n",
    "    prompt = make_prompt(SYSTEM_PROMPT, user_input)\n",
    "\n",
    "    # 입력 토큰 인코딩\n",
    "    encoded_input = generator.tokenizer(prompt, return_tensors=\"pt\")\n",
    "    encoded_input = {k: v.to(generator.model.device) for k, v in encoded_input.items()}\n",
    "    prompt_length = encoded_input[\"input_ids\"].shape[1]\n",
    "\n",
    "    # 속도 및 메모리 측정을 위한 시작 시간 기록 및 GPU 메모리 초기화\n",
    "    start_time = time.time()\n",
    "    if torch.cuda.is_available():\n",
    "        torch.cuda.reset_peak_memory_stats(generator.model.device)\n",
    "\n",
    "    # 모델 생성: 토큰별 score 반환 포함\n",
    "    outputs = generator.model.generate(\n",
    "        **encoded_input,\n",
    "        max_new_tokens=1024,\n",
    "        eos_token_id=terminators[0],\n",
    "        do_sample=True,\n",
    "        temperature=0.6,\n",
    "        top_p=0.9,\n",
    "        return_dict_in_generate=True,\n",
    "        output_scores=True,\n",
    "    )\n",
    "\n",
    "    # GPU 동기화 후 종료 시간 기록\n",
    "    if torch.cuda.is_available():\n",
    "        torch.cuda.synchronize(generator.model.device)\n",
    "    end_time = time.time()\n",
    "    elapsed_time = end_time - start_time\n",
    "\n",
    "    # GPU 메모리 사용량 측정 (Peak 메모리, MB 단위)\n",
    "    if torch.cuda.is_available():\n",
    "        peak_memory = round(torch.cuda.max_memory_allocated(generator.model.device) / (1024 ** 3), 1)\n",
    "    else:\n",
    "        peak_memory = 0\n",
    "\n",
    "    # 생성된 전체 토큰에서 프롬프트 이후의 candidate 토큰 추출\n",
    "    generated_ids = outputs.sequences[0]\n",
    "    candidate_ids = generated_ids[prompt_length:]\n",
    "    candidate_text = generator.tokenizer.decode(candidate_ids, skip_special_tokens=True).strip()\n",
    "\n",
    "    print(\"Candidate output:\")\n",
    "    print(candidate_text)\n",
    "    print(f\"Inference Time: {elapsed_time:.2f} seconds\")\n",
    "    print(f\"Peak GPU Memory Usage: {peak_memory:.2f} GB\")\n",
    "\n",
    "    # 참조 텍스트: evaluation_data의 \"output\"을 JSON 문자열로 변환\n",
    "    reference_text = json.dumps(example[\"output\"], ensure_ascii=False, indent=2)\n",
    "\n",
    "    # BLEU 점수 계산 (공백 기준 토큰화)\n",
    "    candidate_tokens = candidate_text.split()\n",
    "    reference_tokens = reference_text.split()\n",
    "    bleu = sentence_bleu(\n",
    "        [reference_tokens],\n",
    "        candidate_tokens,\n",
    "        smoothing_function=SmoothingFunction().method1\n",
    "    )\n",
    "    print(f\"BLEU score: {bleu:.4f}\")\n",
    "\n",
    "    # 로그 확률 계산: 각 생성 토큰에 대해 log‑softmax 후 선택된 토큰의 로그 확률 합산\n",
    "    log_score = 0.0\n",
    "    for i, step_scores in enumerate(outputs.scores):\n",
    "        log_probs = torch.log_softmax(step_scores, dim=-1)\n",
    "        token_id = candidate_ids[i].unsqueeze(0)  # shape: (1,)\n",
    "        token_log_prob = log_probs[0, token_id].item()\n",
    "        log_score += token_log_prob\n",
    "    print(f\"Log probability score (sum): {log_score:.4f}\")\n",
    "\n",
    "    # wandb에 메트릭 로깅\n",
    "    wandb.log({\n",
    "        \"example_index\": idx,\n",
    "        \"BLEU_score\": bleu,\n",
    "        \"Inference_time_sec\": elapsed_time,\n",
    "        \"Peak_GPU_Memory_GB\": peak_memory,\n",
    "        \"Log_probability_score\": log_score\n",
    "    })\n",
    "\n",
    "wandb.finish()"
   ]
  },
  {
   "cell_type": "code",
   "execution_count": null,
   "metadata": {},
   "outputs": [],
   "source": []
  }
 ],
 "metadata": {
  "kernelspec": {
   "display_name": "Python 3 (ipykernel)",
   "language": "python",
   "name": "python3"
  },
  "language_info": {
   "codemirror_mode": {
    "name": "ipython",
    "version": 3
   },
   "file_extension": ".py",
   "mimetype": "text/x-python",
   "name": "python",
   "nbconvert_exporter": "python",
   "pygments_lexer": "ipython3",
   "version": "3.10.12"
  }
 },
 "nbformat": 4,
 "nbformat_minor": 4
}
