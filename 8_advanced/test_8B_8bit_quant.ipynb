{
 "cells": [
  {
   "cell_type": "code",
   "execution_count": 1,
   "metadata": {},
   "outputs": [
    {
     "name": "stderr",
     "output_type": "stream",
     "text": [
      "[nltk_data] Downloading package punkt to /root/nltk_data...\n",
      "[nltk_data]   Package punkt is already up-to-date!\n",
      "\u001b[34m\u001b[1mwandb\u001b[0m: Currently logged in as: \u001b[33miamkimhongil92\u001b[0m (\u001b[33miamkimhongil92-lumenasoft\u001b[0m) to \u001b[32mhttps://api.wandb.ai\u001b[0m. Use \u001b[1m`wandb login --relogin`\u001b[0m to force relogin\n",
      "\u001b[34m\u001b[1mwandb\u001b[0m: Using wandb-core as the SDK backend.  Please refer to https://wandb.me/wandb-core for more information.\n"
     ]
    },
    {
     "data": {
      "text/html": [
       "Tracking run with wandb version 0.19.6"
      ],
      "text/plain": [
       "<IPython.core.display.HTML object>"
      ]
     },
     "metadata": {},
     "output_type": "display_data"
    },
    {
     "data": {
      "text/html": [
       "Run data is saved locally in <code>/workspace/hanghae99_plusAI_2/8_advanced/wandb/run-20250213_103045-4cfpt3v6</code>"
      ],
      "text/plain": [
       "<IPython.core.display.HTML object>"
      ]
     },
     "metadata": {},
     "output_type": "display_data"
    },
    {
     "data": {
      "text/html": [
       "Syncing run <strong><a href='https://wandb.ai/iamkimhongil92-lumenasoft/hangae_99_8/runs/4cfpt3v6' target=\"_blank\">8B_8bit_quantization</a></strong> to <a href='https://wandb.ai/iamkimhongil92-lumenasoft/hangae_99_8' target=\"_blank\">Weights & Biases</a> (<a href='https://wandb.me/developer-guide' target=\"_blank\">docs</a>)<br>"
      ],
      "text/plain": [
       "<IPython.core.display.HTML object>"
      ]
     },
     "metadata": {},
     "output_type": "display_data"
    },
    {
     "data": {
      "text/html": [
       " View project at <a href='https://wandb.ai/iamkimhongil92-lumenasoft/hangae_99_8' target=\"_blank\">https://wandb.ai/iamkimhongil92-lumenasoft/hangae_99_8</a>"
      ],
      "text/plain": [
       "<IPython.core.display.HTML object>"
      ]
     },
     "metadata": {},
     "output_type": "display_data"
    },
    {
     "data": {
      "text/html": [
       " View run at <a href='https://wandb.ai/iamkimhongil92-lumenasoft/hangae_99_8/runs/4cfpt3v6' target=\"_blank\">https://wandb.ai/iamkimhongil92-lumenasoft/hangae_99_8/runs/4cfpt3v6</a>"
      ],
      "text/plain": [
       "<IPython.core.display.HTML object>"
      ]
     },
     "metadata": {},
     "output_type": "display_data"
    },
    {
     "name": "stderr",
     "output_type": "stream",
     "text": [
      "Unused kwargs: ['bnb_8bit_compute_dtype']. These kwargs are not used in <class 'transformers.utils.quantization_config.BitsAndBytesConfig'>.\n"
     ]
    },
    {
     "data": {
      "application/vnd.jupyter.widget-view+json": {
       "model_id": "28c537a6262c404f9aa4529749141cae",
       "version_major": 2,
       "version_minor": 0
      },
      "text/plain": [
       "Loading checkpoint shards:   0%|          | 0/4 [00:00<?, ?it/s]"
      ]
     },
     "metadata": {},
     "output_type": "display_data"
    },
    {
     "name": "stderr",
     "output_type": "stream",
     "text": [
      "Device set to use cuda:0\n",
      "Setting `pad_token_id` to `eos_token_id`:128009 for open-end generation.\n"
     ]
    },
    {
     "name": "stdout",
     "output_type": "stream",
     "text": [
      "15.0GB\n",
      "\n",
      "==== Example 1 ====\n"
     ]
    },
    {
     "name": "stderr",
     "output_type": "stream",
     "text": [
      "From v4.47 onwards, when a model cache is to be returned, `generate` will return a `Cache` instance instead by default (as opposed to the legacy tuple of tuples format). If you want to keep returning the legacy format, please set `return_legacy_cache=True`.\n",
      "Setting `pad_token_id` to `eos_token_id`:128009 for open-end generation.\n"
     ]
    },
    {
     "name": "stdout",
     "output_type": "stream",
     "text": [
      "Candidate output:\n",
      "[{'term': '유니티', 'description': '유니티는 게임 및 시뮬레이션 개발에 널리 사용되는 엔진으로, 2D 및 3D 게임을 제작하는 데 필요한 다양한 툴과 기능을 제공합니다. 다양한 플랫폼에 배포할 수 있는 크로스 플랫폼 기능이 특징입니다.'}, \n",
      "{'term': '뱀서라이크', 'description': '뱀서라이크 게임 장르는 플레이어가 자신의 캐릭터를 조종하여 지속적으로 생성되는 적을 물리치고 생존을 추구하는 게임 유형으로, 주로 롤플레잉 요소를 포함합니다.'}, \n",
      "{'term': '에셋', 'description': '게임 개발에서 에셋은 음악, 이미지, 모델 등 게임 내에서 사용되는 요소들을 의미합니다. 에셋은 게임의 비주얼과 사운드 요소를 구축하는 중요한 역할을 합니다.'}, \n",
      "{'term': '스프라이트', 'description': '스프라이트는 2D 게임에서 사용되는 잘라낸 이미지나 그림을 의미합니다. 캐릭터, 아이템, 이펙트 등 다양한 요소의 비주얼을 표현할 수 있습니다.'}, \n",
      "{'term': '리지드 바디 2D', 'description': '리지드 바디 2D 컴포넌트는 물리적 상호작용을 위해 오브젝트에 물리적 특성을 부여하는 기능을 제공하며, 중력이나 충돌 감지 등을 설정할 수 있습니다.'}, \n",
      "{'term': '캡슐 콜라이더 2D', 'description': '캡슐 콜라이더 2D는 2D 공간에서 오브젝트의 물리적 경계를 정의하는 컴포넌트로, 캐릭터의 충돌 처리를 보다 쉽게 만들어 줍니다.'}, \n",
      "{'term': '그래비티 스케일', 'description': '그래비티 스케일은 리지드 바디 컴포넌트에서 중력의 영향을 얼마나 받을지를 결정하는 값으로, 0으로 설정하면 중력이 적용되지 않도록 할 수 있습니다.'}, \n",
      "{'term': '유니티 허브', 'description': '유니티 허브는 유니티 엔진의 다양한 버전을 관리하고 프로젝트를 생성할 수 있는 툴로, 버전 관리와 라이센스 관리를 돕습니다.'}, \n",
      "{'term': 'URP (Universal Render Pipeline)', 'description': 'URP는 유니티에서 제공하는 렌더링 파이프라인의 하나로, 다양한 플랫폼에서 최적화된 성능을 제공하면서도 시각적으로 우수한 결과를 만들어낼 수 있게끔 설계되었습니다.'}, \n",
      "{'term': '스프라이트 설정', 'description': '스프라이트 설정은 스프라이트 이미지의 해상도, 필터링 등 다양한 속성을 조정하여 게임 내 비주얼 품질을 최적화하는 과정입니다.'}, \n",
      "{'term': '프로젝트 생성', 'description': '유니티에서 새로운 프로젝트를 시작하기 위해 프로젝트 이름과 경로를 설정하는 과정입니다. 프로젝트 이름과 경로는 게임의 파일 구조와 관련이 있으며, 한글 폴더는 피하는 것이 좋습니다.'}, \n",
      "{'term': '에디터', 'description': '유니티 에디터는 게임 개발을 위한 그래픽 사용자 인터페이스로, 오브젝트를 생성하고, 컴포넌트를 추가하며, 게임의 다양한 설정을 관리하는 데 사용됩니다.'}, \n",
      "{'term': '컴포넌트', 'description': '컴포넌트는 유니티에서 오브젝트에 기능을 추가하는 데 사용되는 요소로, 예를 들어 스프라이트 렌더러, 리지드 바디 2D, 캡슐 콜라이더 2D 등이 있습니다.'}, \n",
      "{'term': '프로젝트 관리', 'description': '프로젝트를 효율적으로 관리하기 위해 필요한 다양한 작업을 포함합니다. 이는 파일 구조, 버전 관리, 라이센스 관리 등이 포함됩니다.'}, \n",
      "{'term': '라이센스', 'description': '유니티 엔진을 사용하기 위해 필요한 사용권을 의미합니다. 유니티 허브를 통해 라이센스를 관리할 수 있습니다.'}, \n",
      "{'term': '폴더 구조', 'description': '프로젝트의 파일과 폴더를 정리하여 관리하는 방법을 의미합니다. 이는 프로젝트의 안정성과 유지보수성을 높이는 데 중요합니다.'}]\n",
      "Inference Time: 26.30 seconds\n",
      "Peak GPU Memory Usage: 16.00 GB\n",
      "BLEU score: 0.4428\n",
      "Log probability score (sum): -62.9463\n",
      "\n",
      "==== Example 2 ====\n"
     ]
    },
    {
     "name": "stderr",
     "output_type": "stream",
     "text": [
      "Setting `pad_token_id` to `eos_token_id`:128009 for open-end generation.\n"
     ]
    },
    {
     "name": "stdout",
     "output_type": "stream",
     "text": [
      "Candidate output:\n",
      "[{'term': '유니티', 'description': '유니티는 게임 및 시뮬레이션 개발에 널리 사용되는 엔진으로, 2D 및 3D 게임을 제작하는 데 필요한 다양한 툴과 기능을 제공합니다. 다양한 플랫폼에 배포할 수 있는 크로스 플랫폼 기능이 특징입니다.'},\n",
      " {'term': 'C# 스크립트', 'description': 'C# 스크립트는 유니티에서 게임 로직을 구현하기 위해 사용되는 프로그래밍 언어로, Unity에서 오브젝트의 행동을 제어하고 게임의 로직을 구현하는 데 사용됩니다.'},\n",
      " {'term': '플레이어 오브젝트', 'description': '플레이어 오브젝트는 게임 플레이어의 캐릭터를 나타내는 오브젝트로, 플레이어의 움직임, 행동, 반응 등을 구현하는 데 사용됩니다.'},\n",
      " {'term': '입력 변수', 'description': '입력 변수는 사용자의 입력(예: 방향키, 마우스, 터치 등)을 감지하고 처리하는 변수로, 게임의 인터랙션과 반응을 구현하는 데 필수적입니다.'},\n",
      " {'term': '벡터2', 'description': '벡터2는 2차원 공간에서 위치나 방향을 나타내는 수학적 개념으로, 게임 개발에서 오브젝트의 위치, 속도, 방향 등을 표현하는 데 사용됩니다.'},\n",
      " {'term': '업데이트 함수', 'description': '업데이트 함수는 유니티에서 프레임마다 호출되는 함수로, 게임 로직을 업데이트하고 상태를 변경하는 데 사용됩니다.'},\n",
      " {'term': 'FixedUpdate', 'description': 'FixedUpdate 함수는 유니티에서 물리적 업데이트를 처리하는 함수로, 물리 엔진의 업데이트 주기를 기반으로 호출됩니다.'},\n",
      " {'term': '리지드 바디 2D', 'description': '리지드 바디 2D 컴포넌트는 물리적 상호작용을 위해 오브젝트에 물리적 특성을 부여하는 기능을 제공하며, 중력이나 충돌 감지 등을 설정할 수 있습니다.'},\n",
      " {'term': 'Normalize', 'description': 'Normalize 함수는 벡터의 길이를 1로 normalize하는 함수로, 방향을 유지하면서 벡터의 크기를 조절하는 데 사용됩니다.'},\n",
      " {'term': 'Fixed DeltaTime', 'description': 'Fixed DeltaTime은 유니티에서 물리 엔진의 업데이트 주기를 기준으로 시간을 측정하는 방법으로, 일정한 속도로 물리적 업데이트를 유지하는 데 사용됩니다.'},\n",
      " {'term': '애니메이션', 'description': '애니메이션은 게임 내 캐릭터나 오브젝트의 움직임을 시각적으로 표현하는 요소로, 플레이어의 움직임을 더 자연스럽고 매력적으로 만들기 위해 사용됩니다.'}]\n",
      "\n",
      "이 리스트는 유튜브 타임라인의 주요 용어와 그 설명을 제공하여, 유니티와 관련된 다양한 개념과 기능을 이해하는 데 도움이 될 것입니다.\n",
      "Inference Time: 18.04 seconds\n",
      "Peak GPU Memory Usage: 16.70 GB\n",
      "BLEU score: 0.0215\n",
      "Log probability score (sum): -96.2850\n",
      "\n",
      "==== Example 3 ====\n"
     ]
    },
    {
     "name": "stderr",
     "output_type": "stream",
     "text": [
      "Setting `pad_token_id` to `eos_token_id`:128009 for open-end generation.\n"
     ]
    },
    {
     "name": "stdout",
     "output_type": "stream",
     "text": [
      "Candidate output:\n",
      "[{'term': '유니티', 'description': '유니티는 게임 및 시뮬레이션 개발에 널리 사용되는 엔진으로, 2D 및 3D 게임을 제작하는 데 필요한 다양한 툴과 기능을 제공합니다. 다양한 플랫폼에 배포할 수 있는 크로스 플랫폼 기능이 특징입니다.'},\n",
      " {'term': '뱀서라이크', 'description': '뱀서라이크 게임 장르는 플레이어가 자신의 캐릭터를 조종하여 지속적으로 생성되는 적을 물리치고 생존을 추구하는 게임 유형으로, 주로 롤플레잉 요소를 포함합니다.'},\n",
      " {'term': '뉴 인풋 시스템', 'description': '유니티의 새로운 입력 시스템으로, 기존의 InputSystem을 대체하여 더 정밀하고 유연한 입력 처리를 가능하게 합니다. 키보드, 게임 패드, 컨트롤러 등의 다양한 입력 장치를 지원합니다.'},\n",
      " {'term': '패키지 매니저', 'description': '유니티에서 사용할 수 있는 다양한 패키지를 관리할 수 있는 도구로, 새로운 패키지를 설치하고 업데이트, 제거할 수 있습니다.'},\n",
      " {'term': '인풋 액션 프로필', 'description': '인풋 시스템에서 사용자 정의한 입력 동작을 저장하고 관리하는 파일로, 키보드, 게임 패드, 컨트롤러 등의 입력을 매핑하여 사용자 지정된 게임 플레이를 구현할 수 있습니다.'},\n",
      " {'term': '스크립트', 'description': '프로그래밍 언어를 사용하여 게임의 로직을 구현하는 코드를 의미하며, 유니티에서는 C# 언어를 주로 사용합니다. 게임의 동작을 제어하고, 게임 오브젝트의 행동을 정의합니다.'},\n",
      " {'term': 'onMove', 'description': '인풋 시스템에서 플레이어의 움직임을 감지하고 처리하는 함수로, 새로운 입력 방식으로 플레이어의 이동을 제어할 수 있습니다.'},\n",
      " {'term': '벡터', 'description': '수학적 개념으로, 크기와 방향을 나타내는 수학적 개념으로, 3차원 공간에서 물체의 위치와 속도를 표현할 때 사용됩니다.'},\n",
      " {'term': '유니티 레지스트리', 'description': '유니티에서 사용자 정의 패키지, 스크립트, 설정 등을 저장하고 관리하는 데이터베이스로, 프로젝트 내에서 필요한 리소스를 쉽게 찾고 사용할 수 있습니다.'},\n",
      " {'term': '상세 노멀라이즈드', 'description': '입력 값의 세부적인 단계를 더 작은 단위로 나누어 표현하는 방식으로, 유동적인 움직임을 보다 정확하게 제어할 수 있습니다.'}]\n",
      "Inference Time: 16.07 seconds\n",
      "Peak GPU Memory Usage: 16.50 GB\n",
      "BLEU score: 0.0099\n",
      "Log probability score (sum): -91.7702\n",
      "\n",
      "==== Example 4 ====\n"
     ]
    },
    {
     "name": "stderr",
     "output_type": "stream",
     "text": [
      "Setting `pad_token_id` to `eos_token_id`:128009 for open-end generation.\n"
     ]
    },
    {
     "name": "stdout",
     "output_type": "stream",
     "text": [
      "Candidate output:\n",
      "[{'term': '유니티', 'description': '유니티는 게임 및 시뮬레이션 개발에 널리 사용되는 엔진으로, 2D 및 3D 게임을 제작하는 데 필요한 다양한 툴과 기능을 제공합니다. 다양한 플랫폼에 배포할 수 있는 크로스 플랫폼 기능이 특징입니다.'},\n",
      " {'term': '2D 셀 애니메이션', 'description': '2D 셀 애니메이션은 여러 스프라이트를 순차적으로 재생하여 애니메이션 효과를 만드는 기법입니다. 이를 통해 캐릭터의 움직임을 자연스럽게 표현할 수 있습니다.'},\n",
      " {'term': '애니메이터', 'description': '애니메이터 컴포넌트는 애니메이션 상태를 관리하는 역할을 합니다. 이를 통해 애니메이션 전환을 쉽게 제어할 수 있습니다.'},\n",
      " {'term': '플립 X', 'description': '플립 X는 애니메이션에서 캐릭터의 방향을 반전시키는 설정입니다. X 값이 -1일 때 플립을 적용해야 합니다.'},\n",
      " {'term': '스프라이트', 'description': '스프라이트는 2D 게임에서 사용되는 잘라낸 이미지나 그림을 의미합니다. 캐릭터, 아이템, 이펙트 등 다양한 요소의 비주얼을 표현할 수 있습니다.'},\n",
      " {'term': '셀 애니메이션 기법', 'description': '셀 애니메이션 기법은 여러 스프라이트를 순차적으로 재생시키는 방식으로 애니메이션을 만드는 방법입니다. 이를 통해 다양한 움직임을 자연스럽게 표현할 수 있습니다.'},\n",
      " {'term': '애니메이션 오버라이드 컨트롤러', 'description': '애니메이션 오버라이드 컨트롤러는 기존 애니메이터를 재활용하여 새로운 캐릭터에 적용할 때 기존 설정을 유지하면서 새로운 애니메이션만 변경할 수 있게 해주는 기능입니다.'},\n",
      " {'term': '인풋 벡터', 'description': '인풋 벡터는 사용자 입력이나 게임 내 요소의 상태를 반영하여 애니메이션 상태를 변화시키는 데 사용되는 변수입니다.'},\n",
      " {'term': '리자이브', 'description': '리자이브는 기존 애니메이터를 재활용하여 새로운 캐릭터에 적용하는 방법으로, 기존 설정을 유지하면서 새로운 애니메이션을 추가할 수 있습니다.'},\n",
      " {'term': '기본 상태', 'description': '기본 상태는 애니메이터에서 캐릭터의 기본적인 움직임을 정의하는 상태입니다. 이를 설정하여 애니메이션 전환이 자연스럽게 이뤄질 수 있습니다.'},\n",
      " {'term': '코드 초기화', 'description': '코드에서 애니메이터를 활성화하기 위해 초기화를 반드시 해야 합니다. 이를 통해 애니메이터의 상태를 설정하고, 상태 전환을 제어할 수 있습니다.'}]\n",
      "Inference Time: 17.20 seconds\n",
      "Peak GPU Memory Usage: 16.30 GB\n",
      "BLEU score: 0.0148\n",
      "Log probability score (sum): -70.0954\n",
      "\n",
      "==== Example 5 ====\n"
     ]
    },
    {
     "name": "stderr",
     "output_type": "stream",
     "text": [
      "Setting `pad_token_id` to `eos_token_id`:128009 for open-end generation.\n"
     ]
    },
    {
     "name": "stdout",
     "output_type": "stream",
     "text": [
      "Candidate output:\n",
      "[{'term': '유니티', 'description': '유니티는 게임 및 시뮬레이션 개발에 널리 사용되는 엔진으로, 2D 및 3D 게임을 제작하는 데 필요한 다양한 툴과 기능을 제공합니다. 다양한 플랫폼에 배포할 수 있는 크로스 플랫폼 기능이 특징입니다.'},\n",
      " {'term': '타일맵', 'description': '타일맵은 2D 게임에서 사용되는 맵을 구성하는 방법 중 하나로, 작은 타일 조각을 배열하여 큰 맵을 만드는 방식입니다. 타일맵을 사용하면 다양한 패턴과 디자인을 쉽게 구현할 수 있습니다.'},\n",
      " {'term': '시네머신', 'description': '시네머신은 유니티에서 카메라의 움직임을 더욱 매끄럽게 만들 수 있는 패키지입니다. 이를 통해 플레이어의 움직임을 자연스럽게 따라가는 카메라 효과를 구현할 수 있습니다.'},\n",
      " {'term': '에셋', 'description': '게임 개발에서 에셋은 음악, 이미지, 모델 등 게임 내에서 사용되는 요소들을 의미합니다. 에셋은 게임의 비주얼과 사운드 요소를 구축하는 중요한 역할을 합니다.'},\n",
      " {'term': '스프라이트', 'description': '스프라이트는 2D 게임에서 사용되는 잘라낸 이미지나 그림을 의미합니다. 캐릭터, 아이템, 이펙트 등 다양한 요소의 비주얼을 표현할 수 있습니다.'},\n",
      " {'term': '온 트리거 EXIT 2D', 'description': '온 트리거 EXIT 2D 이벤트는 유니티에서 플레이어의 위치와 타일맵을 비교하여 재배치 로직을 작성할 때 사용되는 컴포넌트입니다. 플레이어가 맵의 경계를 넘어갈 때 새로운 타일맵을 생성하도록 합니다.'},\n",
      " {'term': '랜덤 타일', 'description': '랜덤 타일은 타일맵에서 사용되는 타일의 속성을 랜덤으로 설정하여 다양한 패턴과 디자인을 생성할 수 있게 합니다. 이를 통해 고유한 맵을 쉽게 생성할 수 있습니다.'},\n",
      " {'term': '물리 이동', 'description': '물리 이동은 유니티에서 오브젝트의 움직임을 물리 법칙에 따라 구현하는 기능입니다. 이를 통해 부드러운 동작과 자연스러운 충돌 처리를 구현할 수 있습니다.'},\n",
      " {'term': '리지드 바디 2D', 'description': '리지드 바디 2D 컴포넌트는 물리적 상호작용을 위해 오브젝트에 물리적 특성을 부여하는 기능을 제공하며, 중력이나 충돌 감지 등을 설정할 수 있습니다.'},\n",
      " {'term': '캡슐 콜라이더 2D', 'description': '캡슐 콜라이더 2D는 2D 공간에서 오브젝트의 물리적 경계를 정의하는 컴포넌트로, 캐릭터의 충돌 처리를 보다 쉽게 만들어 줍니다.'},\n",
      " {'term': '유니티 허브', 'description': '유니티 허브는 유니티 엔진의 다양한 버전을 관리하고 프로젝트를 생성할 수 있는 툴로, 버전 관리와 라이센스 관리를 돕습니다.'}]\n",
      "\n",
      "이 목록은 유튜브 영상에서 설명된 무한 맵 이동 구현 방법과 관련된 핵심 용어와 그 용어에 대한 설명을 포함합니다. 유니티 엔진의 다양한 기능과 컴포넌트를 사용하여 플레이어의 이동과 카메라의 동작을 자연스럽게 구현하는 방법을 설명합니다.\n",
      "Inference Time: 21.49 seconds\n",
      "Peak GPU Memory Usage: 16.50 GB\n",
      "BLEU score: 0.0087\n",
      "Log probability score (sum): -92.7968\n",
      "\n",
      "==== Example 6 ====\n"
     ]
    },
    {
     "name": "stderr",
     "output_type": "stream",
     "text": [
      "Setting `pad_token_id` to `eos_token_id`:128009 for open-end generation.\n"
     ]
    },
    {
     "name": "stdout",
     "output_type": "stream",
     "text": [
      "Candidate output:\n",
      "[{'term': '유니티', 'description': '유니티는 게임 및 시뮬레이션 개발에 널리 사용되는 엔진으로, 2D 및 3D 게임을 제작하는 데 필요한 다양한 툴과 기능을 제공합니다. 다양한 플랫폼에 배포할 수 있는 크로스 플랫폼 기능이 특징입니다.'}, \n",
      "{'term': '뱀서라이크', 'description': '뱀서라이크 게임 장르는 플레이어가 자신의 캐릭터를 조종하여 지속적으로 생성되는 적을 물리치고 생존을 추구하는 게임 유형으로, 주로 롤플레잉 요소를 포함합니다.'}, \n",
      "{'term': '에셋', 'description': '게임 개발에서 에셋은 음악, 이미지, 모델 등 게임 내에서 사용되는 요소들을 의미합니다. 에셋은 게임의 비주얼과 사운드 요소를 구축하는 중요한 역할을 합니다.'}, \n",
      "{'term': '스프라이트', 'description': '스프라이트는 2D 게임에서 사용되는 잘라낸 이미지나 그림을 의미합니다. 캐릭터, 아이템, 이펙트 등 다양한 요소의 비주얼을 표현할 수 있습니다.'}, \n",
      "{'term': '리지드 바디 2D', 'description': '리지드 바디 2D 컴포넌트는 물리적 상호작용을 위해 오브젝트에 물리적 특성을 부여하는 기능을 제공하며, 중력이나 충돌 감지 등을 설정할 수 있습니다.'}, \n",
      "{'term': '캡슐 콜라이더 2D', 'description': '캡슐 콜라이더 2D는 2D 공간에서 오브젝트의 물리적 경계를 정의하는 컴포넌트로, 캐릭터의 충돌 처리를 보다 쉽게 만들어 줍니다.'}, \n",
      "{'term': '그래비티 스케일', 'description': '그래비티 스케일은 리지드 바디 컴포넌트에서 중력의 영향을 얼마나 받을지를 결정하는 값으로, 0으로 설정하면 중력이 적용되지 않도록 할 수 있습니다.'}, \n",
      "{'term': '유니티 허브', 'description': '유니티 허브는 유니티 엔진의 다양한 버전을 관리하고 프로젝트를 생성할 수 있는 툴로, 버전 관리와 라이센스 관리를 돕습니다.'}, \n",
      "{'term': 'URP (Universal Render Pipeline)', 'description': 'URP는 유니티에서 제공하는 렌더링 파이프라인의 하나로, 다양한 플랫폼에서 최적화된 성능을 제공하면서도 시각적으로 우수한 결과를 만들어낼 수 있게끔 설계되었습니다.'}, \n",
      "{'term': '스프라이트 설정', 'description': '스프라이트 설정은 스프라이트 이미지의 해상도, 필터링 등 다양한 속성을 조정하여 게임 내 비주얼 품질을 최적화하는 과정입니다.'}, \n",
      "{'term': '애니메이터', 'description': '애니메이터는 유니티에서 애니메이션을 관리하는 컴포넌트로, 오브젝트의 움직임과 동작을 정의하고 애니메이션을 추가할 수 있습니다.'}, \n",
      "{'term': '픽스드 업데이트', 'description': '픽스드 업데이트는 유니티에서 사용되는 업데이트 메소드로, 특정 시간 간격으로 오브젝트의 위치를 정밀하게 업데이트하여 물리적 동작을 구현합니다.'}, \n",
      "{'term': '벡터 연산', 'description': '벡터 연산은 2D 또는 3D 공간에서 위치, 속도, 방향 등을 나타내는 벡터를 사용하여 계산하는 과정으로, 게임 내 물리적 동작을 구현하는 데 사용됩니다.'}, \n",
      "{'term': '리포지션', 'description': '리포지션은 몬스터의 위치를 랜덤하게 재배치하여 게임의 동적인 요소를 추가하는 기능으로, 플레이어의 방향에 따라 몬스터의 위치를 변경합니다.'}, \n",
      "{'term': '콜라이더 2D', 'description': '콜라이더 2D는 2D 공간에서 오브젝트의 물리적 경계를 정의하는 컴포넌트로, 충돌 감지 및 물리적 상호작용을 구현하는 데 사용됩니다.'}, \n",
      "{'term': '에너미 태그', 'description': '에\n",
      "Inference Time: 26.22 seconds\n",
      "Peak GPU Memory Usage: 16.70 GB\n",
      "BLEU score: 0.0269\n",
      "Log probability score (sum): -41.9216\n",
      "\n",
      "==== Example 7 ====\n"
     ]
    },
    {
     "name": "stderr",
     "output_type": "stream",
     "text": [
      "Setting `pad_token_id` to `eos_token_id`:128009 for open-end generation.\n"
     ]
    },
    {
     "name": "stdout",
     "output_type": "stream",
     "text": [
      "Candidate output:\n",
      "[{'term': '유니티', 'description': '유니티는 게임 및 시뮬레이션 개발에 널리 사용되는 엔진으로, 2D 및 3D 게임을 제작하는 데 필요한 다양한 툴과 기능을 제공합니다. 다양한 플랫폼에 배포할 수 있는 크로스 플랫폼 기능이 특징입니다.'}, {'term': '오브젝트 풀링', 'description': '오브젝트 풀링은 게임에서 자주 사용되는 오브젝트를 미리 생성하여 메모리에 저장하고, 필요할 때 이를 인스턴스화하여 사용하는 기술로, 성능 최적화에 효과적입니다.'}, {'term': '프리팹', 'description': '프리팹은 유니티에서 미리 만들어진 오브젝트를 저장한 파일로, 게임 개발 시 자주 사용되는 요소들을 미리 만들어두고 필요할 때 이를 인스턴스화하여 사용할 수 있습니다.'}, {'term': '풀 매니저', 'description': '풀 매니저는 오브젝트 풀링 시스템을 관리하는 컴포넌트로, 오브젝트 풀의 크기, 초기화 방법, 인스턴스화 방법 등을 설정하고 제어할 수 있습니다.'}, {'term': '리스트', 'description': '리스트는 데이터를 여러 개의 요소로 구성된 구조체로, 오브젝트 풀링에서 프리팹을 저장하고 관리하기 위해 사용됩니다.'}, {'term': '인스턴스화', 'description': '인스턴스화는 프리팹을 게임 내에서 실제 오브젝트로 변환하여 사용하는 과정으로, 오브젝트 풀링을 통해 성능을 최적화하는 데 중요한 역할을 합니다.'}, {'term': '메모리 관리', 'description': '메모리 관리는 게임 개발에서 오브젝트 풀링과 같은 기술을 통해 메모리 사용을 최적화하고, 게임의 성능을 향상시키는 데 중요한 요소입니다.'}, {'term': '성능 최적화', 'description': '성능 최적화는 게임의 실행 속도를 높이고, 메모리 사용을 줄이며, 사용자 경험을 향상시키기 위해 다양한 기술과 방법을 적용하는 과정입니다.'}, {'term': '엔진', 'description': '엔진은 게임 개발에서 게임의 핵심 기능을 구현하고 실행하는 소프트웨어를 의미하며, 유니티는 게임 엔진의 일종으로 다양한 기능과 도구를 제공합니다.'}, {'term': '뱀서라이크', 'description': '뱀서라이크 게임 장르는 플레이어가 자신의 캐릭터를 조종하여 지속적으로 생성되는 적을 물리치고 생존을 추구하는 게임 유형으로, 주로 롤플레잉 요소를 포함합니다.'}, {'term': '로직', 'description': '로직은 특정 문제를 해결하기 위한 단계별 방법이나 절차를 의미하며, 오브젝트 풀링 시스템을 구현하는 데 필요한 구체적인 방법과 절차를 포함합니다.'}]\n",
      "Inference Time: 17.17 seconds\n",
      "Peak GPU Memory Usage: 16.50 GB\n",
      "BLEU score: 0.0147\n",
      "Log probability score (sum): -87.0758\n",
      "\n",
      "==== Example 8 ====\n"
     ]
    },
    {
     "name": "stderr",
     "output_type": "stream",
     "text": [
      "Setting `pad_token_id` to `eos_token_id`:128009 for open-end generation.\n"
     ]
    },
    {
     "name": "stdout",
     "output_type": "stream",
     "text": [
      "Candidate output:\n",
      "[{'term': '유니티', 'description': '유니티는 게임 및 시뮬레이션 개발에 널리 사용되는 엔진으로, 2D 및 3D 게임을 제작하는 데 필요한 다양한 툴과 기능을 제공합니다. 다양한 플랫폼에 배포할 수 있는 크로스 플랫폼 기능이 특징입니다.'}, {'term': '뱀서라이크', 'description': '뱀서라이크 게임 장르는 플레이어가 자신의 캐릭터를 조종하여 지속적으로 생성되는 적을 물리치고 생존을 추구하는 게임 유형으로, 주로 롤플레잉 요소를 포함합니다.'}, {'term': '오브젝트 풀링', 'description': '오브젝트 풀링은 게임에서 여러 개의 동일한 오브젝트를 효율적으로 생성하고 관리하기 위한 방법입니다. 이를 통해 게임의 성능을 최적화하고 개발 시간을 단축할 수 있습니다.'}, {'term': '데이터 직렬화', 'description': '데이터 직렬화는 데이터를 바이너리 형태로 변환하여 저장하거나 전송하는 과정으로, 특히 게임에서 데이터를 파일로 저장하거나 네트워크를 통해 전송할 때 유용합니다.'}, {'term': '게임 매니저 스크립트', 'description': '게임 매니저 스크립트는 게임의 흐름을 관리하고, 게임의 상태를 조정하는 데 사용되는 스크립트입니다. 게임의 시간, 레벨, 이벤트 등을 조절하는 역할을 합니다.'}, {'term': '레벨', 'description': '게임에서 플레이어가 도달해야 하는 목표나 단계를 의미하며, 각 레벨은 보스, 아이템, 난이도 등 다양한 요소를 포함할 수 있습니다.'}, {'term': '몬스터', 'description': '게임에서 플레이어가 싸우는 적을 의미하며, 속성(타입, 소환 타임, 체력, 스피드 등)을 가지고 다양한 행동을 할 수 있습니다.'}, {'term': 'SpawnData 클래스', 'description': '몬스터의 속성을 정의하고 직렬화하는 클래스로, 게임에서 몬스터를 생성하고 관리하는 데 사용됩니다.'}, {'term': '인스펙터', 'description': '유니티에서 게임 오브젝트의 속성을 시각적으로 편집할 수 있는 도구로, 게임의 초기화나 설정을 쉽게 할 수 있습니다.'}, {'term': '애니메이터', 'description': '애니메이터는 유니티에서 오브젝트의 애니메이션을 관리하고 제어하는 컴포넌트로, 몬스터의 행동을 구현하는 데 사용됩니다.'}, {'term': '풀 매니저', 'description': '풀 매니저는 유니티에서 오브젝트의 풀을 관리하는 컴포넌트로, 오브젝트의 생성, 업데이트, 삭제를 효율적으로 처리합니다.'}, {'term': '스폰', 'description': '게임에서 오브젝트를 생성하는 과정으로, 특정 조건을 충족할 때 특정 오브젝트가 생성되도록 설정할 수 있습니다.'}]\n",
      "Inference Time: 17.92 seconds\n",
      "Peak GPU Memory Usage: 16.40 GB\n",
      "BLEU score: 0.0055\n",
      "Log probability score (sum): -107.9457\n",
      "\n",
      "==== Example 9 ====\n"
     ]
    },
    {
     "name": "stderr",
     "output_type": "stream",
     "text": [
      "Setting `pad_token_id` to `eos_token_id`:128009 for open-end generation.\n"
     ]
    },
    {
     "name": "stdout",
     "output_type": "stream",
     "text": [
      "Candidate output:\n",
      "[{'term': '유니티', 'description': '유니티는 게임 및 시뮬레이션 개발에 널리 사용되는 엔진으로, 2D 및 3D 게임을 제작하는 데 필요한 다양한 툴과 기능을 제공합니다. 다양한 플랫폼에 배포할 수 있는 크로스 플랫폼 기능이 특징입니다.'},\n",
      " {'term': '프리펩', 'description': '프리펩은 게임 오브젝트의 인스턴스를 쉽게 재사용할 수 있도록 도와주는 유니티의 기능입니다. 이를 통해 반복적으로 사용되는 오브젝트를 한 번만 설정하고, 필요할 때마다 쉽게 복제하여 사용할 수 있습니다.'},\n",
      " {'term': '스프라이트', 'description': '스프라이트는 2D 게임에서 사용되는 잘라낸 이미지나 그림을 의미합니다. 캐릭터, 아이템, 이펙트 등 다양한 요소의 비주얼을 표현할 수 있습니다.'},\n",
      " {'term': '충돌 로직', 'description': '충돌 로직은 게임 내에서 오브젝트가 충돌할 때 발생하는 행동을 정의하는 코드나 설정입니다. 이를 통해 플레이어와 몬스터의 충돌, 무기의 충돌 등 다양한 상황에서의 반응을 프로그램할 수 있습니다.'},\n",
      " {'term': '리지드 바디 2D', 'description': '리지드 바디 2D 컴포넌트는 물리적 상호작용을 위해 오브젝트에 물리적 특성을 부여하는 기능을 제공하며, 중력이나 충돌 감지 등을 설정할 수 있습니다.'},\n",
      " {'term': '캡슐 콜라이더 2D', 'description': '캡슐 콜라이더 2D는 2D 공간에서 오브젝트의 물리적 경계를 정의하는 컴포넌트로, 캐릭터의 충돌 처리를 보다 쉽게 만들어 줍니다.'},\n",
      " {'term': '그래비티 스케일', 'description': '그래비티 스케일은 리지드 바디 컴포넌트에서 중력의 영향을 얼마나 받을지를 결정하는 값으로, 0으로 설정하면 중력이 적용되지 않도록 할 수 있습니다.'},\n",
      " {'term': '유니티 허브', 'description': '유니티 허브는 유니티 엔진의 다양한 버전을 관리하고 프로젝트를 생성할 수 있는 툴로, 버전 관리와 라이센스 관리를 돕습니다.'},\n",
      " {'term': 'URP (Universal Render Pipeline)', 'description': 'URP는 유니티에서 제공하는 렌더링 파이프라인의 하나로, 다양한 플랫폼에서 최적화된 성능을 제공하면서도 시각적으로 우수한 결과를 만들어낼 수 있게끔 설계되었습니다.'},\n",
      " {'term': '스프라이트 설정', 'description': '스프라이트 설정은 스프라이트 이미지의 해상도, 필터링 등 다양한 속성을 조정하여 게임 내 비주얼 품질을 최적화하는 과정입니다.'},\n",
      " {'term': '근접무기', 'description': '근접무기는 플레이어가 적에게 직접 접근하여 공격하는 무기를 의미합니다. 회전하는 무기나 특정한 공격 범위가 있는 무기 등 다양한 형태로 구현될 수 있습니다.'}]\n",
      "Inference Time: 18.76 seconds\n",
      "Peak GPU Memory Usage: 16.30 GB\n",
      "BLEU score: 0.0070\n",
      "Log probability score (sum): -44.4005\n",
      "\n",
      "==== Example 10 ====\n",
      "Candidate output:\n",
      "[{'term': '유니티', 'description': '유니티는 게임 및 시뮬레이션 개발에 널리 사용되는 엔진으로, 2D 및 3D 게임을 제작하는 데 필요한 다양한 툴과 기능을 제공합니다. 다양한 플랫폼에 배포할 수 있는 크로스 플랫폼 기능이 특징입니다.'}, \n",
      "'term': '뱀서라이크', 'description': '뱀서라이크 게임 장르는 플레이어가 자신의 캐릭터를 조종하여 지속적으로 생성되는 적을 물리치고 생존을 추구하는 게임 유형으로, 주로 롤플레잉 요소를 포함합니다.'}, \n",
      "'term': '스캐너', 'description': '스캐너는 게임에서 특정 범위 내의 오브젝트를 탐지하고 감지하는 기능을 제공하는 컴포넌트로, 원격 공격 시스템에서 적의 위치를 감지하는 데 사용됩니다.'}, \n",
      "'term': '레이캐스트', 'description': '레이캐스트는 2D 또는 3D 공간에서 특정 범위 내의 오브젝트를 탐지하는 기술로, 원격 공격 시스템에서 적을 탐지하는 데 사용됩니다.'}, \n",
      "'term': '레이어', 'description': '레이어는 유니티에서 물리적 구분을 위한 기능으로, 태그와는 다르게 오브젝트의 물리적 특성을 구분하는 데 사용됩니다.'}, \n",
      "'term': '스캐너 범위', 'description': '스캐너가 탐지할 범위를 정의하는 변수로, 원형 범위로 설정하여 특정한 영역 내의 오브젝트를 탐지할 수 있습니다.'}, \n",
      "'term': '타겟 레이어', 'description': '스캐너가 탐지할 오브젝트의 레이어를 정의하는 변수로, 특정 레이어의 오브젝트만 스캔할 수 있습니다.'}, \n",
      "'term': 'Fixed Update', 'description': 'Fixed Update는 유니티에서 주기적으로 호출되는 함수로, 프레임 단위가 아닌 고정된 타임스탬프 기준으로 호출되며, 물리적 업데이트나 게임 로직을 처리하는 데 사용됩니다.'}, \n",
      "'term': '리짓 디테일', 'description': '리짓 디테일은 2D 또는 3D 게임 내에서 물리적 특성을 부여하는 컴포넌트로, 중력, 충돌 감지, 충돌 반응 등을 설정할 수 있습니다.'}, \n",
      "'term': '캡슐 콜라이더 2D', 'description': '캡슐 콜라이더 2D는 2D 공간에서 오브젝트의 물리적 경계를 정의하는 컴포넌트로, 캐릭터의 충돌 처리를 보다 쉽게 만들어 줍니다.'}, \n",
      "'term': '그래비티 스케일', 'description': '그래비티 스케일은 리짓 디테일 컴포넌트에서 중력의 영향을 얼마나 받을지를 결정하는 값으로, 0으로 설정하면 중력이 적용되지 않도록 할 수 있습니다.'}, \n",
      "'term': '유니티 허브', 'description': '유니티 허브는 유니티 엔진의 다양한 버전을 관리하고 프로젝트를 생성할 수 있는 툴로, 버전 관리와 라이센스 관리를 돕습니다.'}, \n",
      "'term': 'URP (Universal Render Pipeline)', 'description': 'URP는 유니티에서 제공하는 렌더링 파이프라인의 하나로, 다양한 플랫폼에서 최적화된 성능을 제공하면서도 시각적으로 우수한 결과를 만들어낼 수 있게끔 설계되었습니다.'}, \n",
      "'term': '스프라이트 설정', 'description': '스프라이트 설정은 스프라이트 이미지의 해상도, 필터링 등 다양한 속성을 조정하여 게임 내 비주얼 품질을 최적화하는 과정입니다.'}]\n",
      "\n",
      "이 리스트는 유튜브 타임라인의 내용을 분석하여 유니티, 뱀서라이크, 스캐너, 레이캐스트, 레이어, 스캐너 범위, 타겟 레이어, Fixed Update, 리짓 디테일, 캡슐 콜라이더 2D, 그래비티 스케일, 유니티 허브, URP, 스프라이트 설정 등의 키워드를 포함하고 있습니다. 각 키워드에 대한 설명은 전문적으로 추가되어 있습니다.\n",
      "Inference Time: 25.43 seconds\n",
      "Peak GPU Memory Usage: 16.40 GB\n",
      "BLEU score: 0.0069\n",
      "Log probability score (sum): -89.5356\n"
     ]
    },
    {
     "data": {
      "text/html": [],
      "text/plain": [
       "<IPython.core.display.HTML object>"
      ]
     },
     "metadata": {},
     "output_type": "display_data"
    },
    {
     "data": {
      "text/html": [
       "<br>    <style><br>        .wandb-row {<br>            display: flex;<br>            flex-direction: row;<br>            flex-wrap: wrap;<br>            justify-content: flex-start;<br>            width: 100%;<br>        }<br>        .wandb-col {<br>            display: flex;<br>            flex-direction: column;<br>            flex-basis: 100%;<br>            flex: 1;<br>            padding: 10px;<br>        }<br>    </style><br><div class=\"wandb-row\"><div class=\"wandb-col\"><h3>Run history:</h3><br/><table class=\"wandb\"><tr><td>BLEU_score</td><td>█▁▁▁▁▁▁▁▁▁</td></tr><tr><td>Inference_time_sec</td><td>█▂▁▂▅█▂▂▃▇</td></tr><tr><td>Log_probability_score</td><td>▆▂▃▅▃█▃▁█▃</td></tr><tr><td>Peak_GPU_Memory_GB</td><td>▁█▆▄▆█▆▅▄▅</td></tr><tr><td>basic_memory</td><td>▁</td></tr><tr><td>example_index</td><td>▁▂▃▃▄▅▆▆▇█</td></tr></table><br/></div><div class=\"wandb-col\"><h3>Run summary:</h3><br/><table class=\"wandb\"><tr><td>BLEU_score</td><td>0.00693</td></tr><tr><td>Inference_time_sec</td><td>25.43391</td></tr><tr><td>Log_probability_score</td><td>-89.53558</td></tr><tr><td>Peak_GPU_Memory_GB</td><td>16.4</td></tr><tr><td>basic_memory</td><td>15</td></tr><tr><td>example_index</td><td>9</td></tr></table><br/></div></div>"
      ],
      "text/plain": [
       "<IPython.core.display.HTML object>"
      ]
     },
     "metadata": {},
     "output_type": "display_data"
    },
    {
     "data": {
      "text/html": [
       " View run <strong style=\"color:#cdcd00\">8B_8bit_quantization</strong> at: <a href='https://wandb.ai/iamkimhongil92-lumenasoft/hangae_99_8/runs/4cfpt3v6' target=\"_blank\">https://wandb.ai/iamkimhongil92-lumenasoft/hangae_99_8/runs/4cfpt3v6</a><br> View project at: <a href='https://wandb.ai/iamkimhongil92-lumenasoft/hangae_99_8' target=\"_blank\">https://wandb.ai/iamkimhongil92-lumenasoft/hangae_99_8</a><br>Synced 5 W&B file(s), 0 media file(s), 0 artifact file(s) and 0 other file(s)"
      ],
      "text/plain": [
       "<IPython.core.display.HTML object>"
      ]
     },
     "metadata": {},
     "output_type": "display_data"
    },
    {
     "data": {
      "text/html": [
       "Find logs at: <code>./wandb/run-20250213_103045-4cfpt3v6/logs</code>"
      ],
      "text/plain": [
       "<IPython.core.display.HTML object>"
      ]
     },
     "metadata": {},
     "output_type": "display_data"
    }
   ],
   "source": [
    "import json\n",
    "import time\n",
    "import torch\n",
    "import transformers\n",
    "import wandb\n",
    "from nltk.translate.bleu_score import sentence_bleu, SmoothingFunction\n",
    "import nltk\n",
    "from transformers import BitsAndBytesConfig\n",
    "\n",
    "\n",
    "# nltk 다운로드 (최초 1회)\n",
    "nltk.download('punkt')\n",
    "\n",
    "# wandb 초기화\n",
    "wandb.init(project=\"hangae_99_8\", name=\"8B_8bit_quantization\")\n",
    "\n",
    "# corpus.json 파일 로드 (UTF-8 인코딩)\n",
    "with open(\"./corpus.json\", \"r\", encoding=\"utf-8\") as f:\n",
    "    evaluation_data = json.load(f)\n",
    "\n",
    "# 10개만 추론\n",
    "evaluation_data = evaluation_data[:10]\n",
    "\n",
    "# 허깅페이스 방식으로 모델 및 파이프라인 초기화\n",
    "model_id = \"MLP-KTLim/llama-3-Korean-Bllossom-8B\"\n",
    "\n",
    "quantization_config = BitsAndBytesConfig(\n",
    "    load_in_8bit=True,\n",
    "    bnb_8bit_compute_dtype=torch.float16  # 연산을 FP16으로 설정하여 메모리 절약\n",
    ")\n",
    "\n",
    "generator = transformers.pipeline(\n",
    "    \"text-generation\",\n",
    "    model=model_id,\n",
    "    tokenizer=model_id,\n",
    "    device_map=\"auto\",\n",
    "    model_kwargs={\"torch_dtype\": torch.bfloat16},\n",
    "    quantization_config=quantization_config  # 8비트 양자화를 적용합니다.\n",
    ")\n",
    "generator.model.eval()\n",
    "\n",
    "# 시스템 프롬프트 정의\n",
    "SYSTEM_PROMPT = (\n",
    "    \"You are a helpful AI assistant. Please answer the user's questions kindly. \"\n",
    "    \"당신은 유능한 AI 어시스턴트 입니다. 사용자의 질문에 대해 친절하게 답변해주세요.\"\n",
    ")\n",
    "\n",
    "# 채팅 템플릿을 적용하여 프롬프트를 생성하는 함수\n",
    "def make_prompt(system_msg: str, user_msg: str) -> str:\n",
    "\n",
    "    msg = f\"\"\"\n",
    "다음은 유튜브 타임라인 요약 문서입니다. 이 내용을 분석하여 10개의 핵심 용어(KeyPoint)와 설명을 생성하세요.\n",
    "설명을 생성할 때 영상 위주가 아닌 최대한 전문적이고 구체적으로 추가 설명해주세요. 저는 영상 내용 뿐 아니라 그 용어에 대한 내용을 알고 싶습니다.\n",
    "중요하지 않더라도 알면 좋을 추가 핵심 용어도 더해주세요.\n",
    "\n",
    "[타임라인 요약]:\n",
    "{user_msg}\n",
    "\n",
    "[가이드]:\n",
    "- 필드는 `term`과 `description`을 포함하며, 결과는  10개의 키포인트 리스트로 구성됩니다.\n",
    "- 반드시 JSON 형식에 맞춰 반환하세요.\n",
    "- 다른 텍스트는 포함하지 마세요.\n",
    "\n",
    "[예시]:\n",
    "{evaluation_data[0]['output']}\n",
    "\"\"\"\n",
    "\n",
    "    messages = [\n",
    "        {\"role\": \"system\", \"content\": system_msg},\n",
    "        {\"role\": \"user\", \"content\": msg}\n",
    "    ]\n",
    "    prompt = generator.tokenizer.apply_chat_template(\n",
    "        messages,\n",
    "        tokenize=False,\n",
    "        add_generation_prompt=True\n",
    "    )\n",
    "    return prompt\n",
    "\n",
    "# 종료 토큰 설정\n",
    "terminators = [\n",
    "    generator.tokenizer.eos_token_id,\n",
    "    generator.tokenizer.convert_tokens_to_ids(\"<|eot_id|>\")\n",
    "]\n",
    "\n",
    "print(f'{round(generator.model.get_memory_footprint() / (1024 ** 3), 1)}GB')\n",
    "wandb.log({\"basic_memory\": round(generator.model.get_memory_footprint() / (1024 ** 3), 1)})\n",
    "\n",
    "\n",
    "# 평가 루프: corpus.json에 있는 각 예제에 대해 추론 수행\n",
    "for idx, example in enumerate(evaluation_data):\n",
    "    print(f\"\\n==== Example {idx+1} ====\")\n",
    "\n",
    "    # 사용자 입력과 프롬프트 생성\n",
    "    user_input = example[\"input\"]\n",
    "    prompt = make_prompt(SYSTEM_PROMPT, user_input)\n",
    "\n",
    "    # 입력 토큰 인코딩\n",
    "    encoded_input = generator.tokenizer(prompt, return_tensors=\"pt\")\n",
    "    encoded_input = {k: v.to(generator.model.device) for k, v in encoded_input.items()}\n",
    "    prompt_length = encoded_input[\"input_ids\"].shape[1]\n",
    "\n",
    "    # 속도 및 메모리 측정을 위한 시작 시간 기록 및 GPU 메모리 초기화\n",
    "    start_time = time.time()\n",
    "    if torch.cuda.is_available():\n",
    "        torch.cuda.reset_peak_memory_stats(generator.model.device)\n",
    "\n",
    "    # 모델 생성: 토큰별 score 반환 포함\n",
    "    outputs = generator.model.generate(\n",
    "        **encoded_input,\n",
    "        max_new_tokens=1024,\n",
    "        eos_token_id=terminators[0],\n",
    "        do_sample=True,\n",
    "        temperature=0.6,\n",
    "        top_p=0.9,\n",
    "        return_dict_in_generate=True,\n",
    "        output_scores=True,\n",
    "    )\n",
    "\n",
    "    # GPU 동기화 후 종료 시간 기록\n",
    "    if torch.cuda.is_available():\n",
    "        torch.cuda.synchronize(generator.model.device)\n",
    "    end_time = time.time()\n",
    "    elapsed_time = end_time - start_time\n",
    "\n",
    "    # GPU 메모리 사용량 측정 (Peak 메모리, MB 단위)\n",
    "    if torch.cuda.is_available():\n",
    "        peak_memory = peak_memory = round(torch.cuda.max_memory_allocated(generator.model.device) / (1024 ** 3), 1)\n",
    "\n",
    "    else:\n",
    "        peak_memory = 0\n",
    "\n",
    "    # 생성된 전체 토큰에서 프롬프트 이후의 candidate 토큰 추출\n",
    "    generated_ids = outputs.sequences[0]\n",
    "    candidate_ids = generated_ids[prompt_length:]\n",
    "    candidate_text = generator.tokenizer.decode(candidate_ids, skip_special_tokens=True).strip()\n",
    "\n",
    "    print(\"Candidate output:\")\n",
    "    print(candidate_text)\n",
    "    print(f\"Inference Time: {elapsed_time:.2f} seconds\")\n",
    "    print(f\"Peak GPU Memory Usage: {peak_memory:.2f} GB\")\n",
    "\n",
    "    # 참조 텍스트: evaluation_data의 \"output\"을 JSON 문자열로 변환\n",
    "    reference_text = json.dumps(example[\"output\"], ensure_ascii=False, indent=2)\n",
    "\n",
    "    # BLEU 점수 계산 (공백 기준 토큰화)\n",
    "    candidate_tokens = candidate_text.split()\n",
    "    reference_tokens = reference_text.split()\n",
    "    bleu = sentence_bleu(\n",
    "        [reference_tokens],\n",
    "        candidate_tokens,\n",
    "        smoothing_function=SmoothingFunction().method1\n",
    "    )\n",
    "    print(f\"BLEU score: {bleu:.4f}\")\n",
    "\n",
    "    # 로그 확률 계산: 각 생성 토큰에 대해 log‑softmax 후 선택된 토큰의 로그 확률 합산\n",
    "    log_score = 0.0\n",
    "    for i, step_scores in enumerate(outputs.scores):\n",
    "        log_probs = torch.log_softmax(step_scores, dim=-1)\n",
    "        token_id = candidate_ids[i].unsqueeze(0)  # shape: (1,)\n",
    "        token_log_prob = log_probs[0, token_id].item()\n",
    "        log_score += token_log_prob\n",
    "    print(f\"Log probability score (sum): {log_score:.4f}\")\n",
    "\n",
    "    # wandb에 메트릭 로깅\n",
    "    wandb.log({\n",
    "        \"example_index\": idx,\n",
    "        \"BLEU_score\": bleu,\n",
    "        \"Inference_time_sec\": elapsed_time,\n",
    "        \"Peak_GPU_Memory_GB\": peak_memory,\n",
    "        \"Log_probability_score\": log_score\n",
    "    })\n",
    "\n",
    "wandb.finish()"
   ]
  },
  {
   "cell_type": "code",
   "execution_count": null,
   "metadata": {},
   "outputs": [],
   "source": []
  }
 ],
 "metadata": {
  "kernelspec": {
   "display_name": "Python 3 (ipykernel)",
   "language": "python",
   "name": "python3"
  },
  "language_info": {
   "codemirror_mode": {
    "name": "ipython",
    "version": 3
   },
   "file_extension": ".py",
   "mimetype": "text/x-python",
   "name": "python",
   "nbconvert_exporter": "python",
   "pygments_lexer": "ipython3",
   "version": "3.10.12"
  }
 },
 "nbformat": 4,
 "nbformat_minor": 4
}
