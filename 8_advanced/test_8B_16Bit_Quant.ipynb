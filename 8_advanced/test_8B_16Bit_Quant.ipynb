{
 "cells": [
  {
   "cell_type": "code",
   "execution_count": 1,
   "metadata": {},
   "outputs": [
    {
     "name": "stderr",
     "output_type": "stream",
     "text": [
      "[nltk_data] Downloading package punkt to /root/nltk_data...\n",
      "[nltk_data]   Package punkt is already up-to-date!\n",
      "\u001b[34m\u001b[1mwandb\u001b[0m: Currently logged in as: \u001b[33miamkimhongil92\u001b[0m (\u001b[33miamkimhongil92-lumenasoft\u001b[0m) to \u001b[32mhttps://api.wandb.ai\u001b[0m. Use \u001b[1m`wandb login --relogin`\u001b[0m to force relogin\n",
      "\u001b[34m\u001b[1mwandb\u001b[0m: Using wandb-core as the SDK backend.  Please refer to https://wandb.me/wandb-core for more information.\n"
     ]
    },
    {
     "data": {
      "text/html": [
       "Tracking run with wandb version 0.19.6"
      ],
      "text/plain": [
       "<IPython.core.display.HTML object>"
      ]
     },
     "metadata": {},
     "output_type": "display_data"
    },
    {
     "data": {
      "text/html": [
       "Run data is saved locally in <code>/workspace/hanghae99_plusAI_2/8_advanced/wandb/run-20250213_122953-q54mr74p</code>"
      ],
      "text/plain": [
       "<IPython.core.display.HTML object>"
      ]
     },
     "metadata": {},
     "output_type": "display_data"
    },
    {
     "data": {
      "text/html": [
       "Syncing run <strong><a href='https://wandb.ai/iamkimhongil92-lumenasoft/hangae_Final/runs/q54mr74p' target=\"_blank\">8B_16Bit_Quant</a></strong> to <a href='https://wandb.ai/iamkimhongil92-lumenasoft/hangae_Final' target=\"_blank\">Weights & Biases</a> (<a href='https://wandb.me/developer-guide' target=\"_blank\">docs</a>)<br>"
      ],
      "text/plain": [
       "<IPython.core.display.HTML object>"
      ]
     },
     "metadata": {},
     "output_type": "display_data"
    },
    {
     "data": {
      "text/html": [
       " View project at <a href='https://wandb.ai/iamkimhongil92-lumenasoft/hangae_Final' target=\"_blank\">https://wandb.ai/iamkimhongil92-lumenasoft/hangae_Final</a>"
      ],
      "text/plain": [
       "<IPython.core.display.HTML object>"
      ]
     },
     "metadata": {},
     "output_type": "display_data"
    },
    {
     "data": {
      "text/html": [
       " View run at <a href='https://wandb.ai/iamkimhongil92-lumenasoft/hangae_Final/runs/q54mr74p' target=\"_blank\">https://wandb.ai/iamkimhongil92-lumenasoft/hangae_Final/runs/q54mr74p</a>"
      ],
      "text/plain": [
       "<IPython.core.display.HTML object>"
      ]
     },
     "metadata": {},
     "output_type": "display_data"
    },
    {
     "data": {
      "application/vnd.jupyter.widget-view+json": {
       "model_id": "6456038c11b743719d5d6e7a3b5da088",
       "version_major": 2,
       "version_minor": 0
      },
      "text/plain": [
       "Loading checkpoint shards:   0%|          | 0/4 [00:00<?, ?it/s]"
      ]
     },
     "metadata": {},
     "output_type": "display_data"
    },
    {
     "name": "stderr",
     "output_type": "stream",
     "text": [
      "Device set to use cuda:0\n",
      "Setting `pad_token_id` to `eos_token_id`:128009 for open-end generation.\n"
     ]
    },
    {
     "name": "stdout",
     "output_type": "stream",
     "text": [
      "15.0GB\n",
      "\n",
      "==== Example 1 ====\n"
     ]
    },
    {
     "name": "stderr",
     "output_type": "stream",
     "text": [
      "From v4.47 onwards, when a model cache is to be returned, `generate` will return a `Cache` instance instead by default (as opposed to the legacy tuple of tuples format). If you want to keep returning the legacy format, please set `return_legacy_cache=True`.\n",
      "Setting `pad_token_id` to `eos_token_id`:128009 for open-end generation.\n"
     ]
    },
    {
     "name": "stdout",
     "output_type": "stream",
     "text": [
      "Candidate output:\n",
      "[{'term': '유니티', 'description': '유니티는 게임 및 시뮬레이션 개발에 널리 사용되는 엔진으로, 2D 및 3D 게임을 제작하는 데 필요한 다양한 툴과 기능을 제공합니다. 다양한 플랫폼에 배포할 수 있는 크로스 플랫폼 기능이 특징입니다.'}, {'term': '뱀서라이크', 'description': '뱀서라이크 게임 장르는 플레이어가 자신의 캐릭터를 조종하여 지속적으로 생성되는 적을 물리치고 생존을 추구하는 게임 유형으로, 주로 롤플레잉 요소를 포함합니다.'}, {'term': '에셋', 'description': '게임 개발에서 에셋은 음악, 이미지, 모델 등 게임 내에서 사용되는 요소들을 의미합니다. 에셋은 게임의 비주얼과 사운드 요소를 구축하는 중요한 역할을 합니다.'}, {'term': '스프라이트', 'description': '스프라이트는 2D 게임에서 사용되는 잘라낸 이미지나 그림을 의미합니다. 캐릭터, 아이템, 이펙트 등 다양한 요소의 비주얼을 표현할 수 있습니다.'}, {'term': '리지드 바디 2D', 'description': '리지드 바디 2D 컴포넌트는 물리적 상호작용을 위해 오브젝트에 물리적 특성을 부여하는 기능을 제공하며, 중력이나 충돌 감지 등을 설정할 수 있습니다.'}, {'term': '캡슐 콜라이더 2D', 'description': '캡슐 콜라이더 2D는 2D 공간에서 오브젝트의 물리적 경계를 정의하는 컴포넌트로, 캐릭터의 충돌 처리를 보다 쉽게 만들어 줍니다.'}, {'term': '그래비티 스케일', 'description': '그래비티 스케일은 리지드 바디 컴포넌트에서 중력의 영향을 얼마나 받을지를 결정하는 값으로, 0으로 설정하면 중력이 적용되지 않도록 할 수 있습니다.'}, {'term': '유니티 허브', 'description': '유니티 허브는 유니티 엔진의 다양한 버전을 관리하고 프로젝트를 생성할 수 있는 툴로, 버전 관리와 라이센스 관리를 돕습니다.'}, {'term': 'URP (Universal Render Pipeline)', 'description': 'URP는 유니티에서 제공하는 렌더링 파이프라인의 하나로, 다양한 플랫폼에서 최적화된 성능을 제공하면서도 시각적으로 우수한 결과를 만들어낼 수 있게끔 설계되었습니다.'}, {'term': '스프라이트 설정', 'description': '스프라이트 설정은 스프라이트 이미지의 해상도, 필터링 등 다양한 속성을 조정하여 게임 내 비주얼 품질을 최적화하는 과정입니다.'}, {'term': '프로젝트 생성', 'description': '유니티에서 새로운 프로젝트를 시작하기 위해 필요한 단계를 포함합니다. 프로젝트 이름과 경로 설정, 에디터 설치, 라이선스 로그인 등을 포함합니다.'}, {'term': '에셋 추가', 'description': '유니티 에디터에 필요한 에셋을 추가하는 과정으로, 게임의 비주얼과 사운드 요소를 구축하는 데 필수적입니다.'}, {'term': '컴포넌트', 'description': '유니티에서 오브젝트에 추가할 수 있는 다양한 기능을 제공하는 요소들로, 스프라이트 렌더러, 리지드 바디 2D, 캡슐 콜라이더 2D 등이 포함됩니다.'}, {'term': '렌더러', 'description': '렌더러는 게임 오브젝트의 시각적 표현을 처리하는 컴포넌트로, 스프라이트 렌더러, 메탈릭 렌더러 등 다양한 종류가 있습니다.'}]\n",
      "\n",
      "이 문서는 유니티에서 2D 오브젝트를 만드는 방법을 설명하는 첫 번째 강좌의 주요 용어와 그 설명을 포함합니다. 유니티는 게임 및 시뮬레이션 개발에 널리 사용되는 엔진으로, 다양한 툴과 기능을 제공합니다. 뱀서라이크 게임 장르는 플레이어가 적을 물리치고 생존을 추구하는 게임 유형으로, 롤플레잉 요소를 포함합니다. 에셋은 게임 내에서 사용되는 요소들을 의미하며,\n",
      "Inference Time: 31.97 seconds\n",
      "Peak GPU Memory Usage: 16.00 GB\n",
      "BLEU score: 0.4441\n",
      "Log probability score (sum): -51.5418\n",
      "\n",
      "==== Example 2 ====\n"
     ]
    },
    {
     "name": "stderr",
     "output_type": "stream",
     "text": [
      "Setting `pad_token_id` to `eos_token_id`:128009 for open-end generation.\n"
     ]
    },
    {
     "name": "stdout",
     "output_type": "stream",
     "text": [
      "Candidate output:\n",
      "[{'term': '유니티', 'description': '유니티는 게임 및 시뮬레이션 개발에 널리 사용되는 엔진으로, 2D 및 3D 게임을 제작하는 데 필요한 다양한 툴과 기능을 제공합니다. 다양한 플랫폼에 배포할 수 있는 크로스 플랫폼 기능이 특징입니다.'}, {'term': 'C# 스크립트', 'description': 'C# 스크립트는 유니티에서 게임 로직을 작성하는 데 사용되는 프로그래밍 언어로, 플레이어 이동, 애니메이션 제어, 물리 엔진 인터페이스 등 다양한 게임 기능을 구현할 수 있습니다.'}, {'term': '플레이어 오브젝트', 'description': '플레이어 오브젝트는 사용자가 조종하는 캐릭터를 나타내는 게임 내 오브젝트로, 이동, 공격, 애니메이션 등 다양한 기능을 포함할 수 있습니다.'}, {'term': '리젠', 'description': '리젠은 유니티에서 새로운 프로젝트를 생성하는 과정으로, 프로젝트의 기본 구조를 설정하고 필요한 파일을 자동으로 생성합니다.'}, {'term': '인풋 벡터', 'description': '인풋 벡터는 게임에서 사용자의 입력을 감지하여 방향키 입력을 정수로 변환하는 변수로, 'Horizontal'과 'Vertical' 입력 값을 저장합니다.'}, {'term': '업데이트 함수', 'description': '업데이트 함수는 유니티에서 프레임마다 실행되는 함수로, 게임 로직을 업데이트하고 상태를 관리하는 데 사용됩니다.'}, {'term': 'FixedDeltaTime', 'description': 'FixedDeltaTime은 유니티의 Time.deltaTime과 유사하지만, 고정된 프레임 속도로 시간을 관리하여 물리 엔진의 동작을 보정합니다.'}, {'term': 'Normalize', 'description': 'Normalize 함수는 벡터의 길이를 1로 만들어 방향을 유지하면서 크기를 정상화하는 연산입니다.'}, {'term': '리지드 바디 2D', 'description': '리지드 바디 2D 컴포넌트는 물리적 상호작용을 위해 오브젝트에 물리적 특성을 부여하는 기능을 제공하며, 중력이나 충돌 감지 등을 설정할 수 있습니다.'}, {'term': 'AddForce', 'description': 'AddForce는 리지드 바디 컴포넌트에서 오브젝트에 힘을 가하여 물리적인 움직임을 유도하는 메서드입니다.'}, {'term': 'MovePosition', 'description': 'MovePosition은 리지드 바디 컴포넌트에서 오브젝트의 위치를 직접적으로 이동시키는 메서드입니다.'}, {'term': '애니메이션', 'description': '애니메이션은 게임 내 캐릭터의 움직임을 시각적으로 표현하는 요소로, 스프라이트의 상태를 변경하여 다양한 움직임을 구현할 수 있습니다.'}]\n",
      "Inference Time: 20.73 seconds\n",
      "Peak GPU Memory Usage: 16.70 GB\n",
      "BLEU score: 0.0057\n",
      "Log probability score (sum): -96.8022\n",
      "\n",
      "==== Example 3 ====\n"
     ]
    },
    {
     "name": "stderr",
     "output_type": "stream",
     "text": [
      "Setting `pad_token_id` to `eos_token_id`:128009 for open-end generation.\n"
     ]
    },
    {
     "name": "stdout",
     "output_type": "stream",
     "text": [
      "Candidate output:\n",
      "[{'term': '유니티', 'description': '유니티는 게임 및 시뮬레이션 개발에 널리 사용되는 엔진으로, 2D 및 3D 게임을 제작하는 데 필요한 다양한 툴과 기능을 제공합니다. 다양한 플랫폼에 배포할 수 있는 크로스 플랫폼 기능이 특징입니다.'}, \n",
      "{'term': '뉴 인풋 시스템', 'description': '유니티의 새로운 입력 시스템으로, 기존의 Input.GetAxis()와 Input.GetButtonDown()와 같은 방법 대신 더 강력하고 유연한 입력 처리를 가능하게 합니다.'}, \n",
      "{'term': '뱀서라이크', 'description': '뱀서라이크 게임 장르는 플레이어가 자신의 캐릭터를 조종하여 지속적으로 생성되는 적을 물리치고 생존을 추구하는 게임 유형으로, 주로 롤플레잉 요소를 포함합니다.'}, \n",
      "{'term': '패키지 매니저', 'description': '유니티에서 사용할 수 있는 다양한 패키지를 관리하는 도구로, 패키지를 설치, 업데이트, 제거하는 등의 작업을 수행할 수 있습니다.'}, \n",
      "{'term': '유니티 레지스트리', 'description': '유니티 프로젝트 내에서 패키지, 스크립트, 에셋 등을 관리하는 중앙 데이터베이스로, 프로젝트의 모든 요소를 조직하고 검색할 수 있습니다.'}, \n",
      "{'term': '인풋 액션 프로필', 'description': '유니티의 새로운 입력 시스템에서 사용되는 프로필로, 다양한 입력 액션을 정의하고 매핑하는 데 사용됩니다. 플레이어, 게임 패드, 키보드 등 다양한 입력 장치의 입력을 관리합니다.'}, \n",
      "{'term': '스クリ립트', 'description': '유니티에서 게임 로직을 구현하는 데 사용되는 코드 파일로, C# 언어를 기반으로 작성됩니다. 게임 오브젝트의 행동, 상태 변환, 입력 처리 등을 구현합니다.'}, \n",
      "{'term': 'onMove', 'description': '유니티의 새로운 입력 시스템에서 이동 입력을 처리하는 함수로, 입력 액션 프로필에서 설정한 이동 액션에 대한 값을 수신하고 이를 통해 플레이어 오브젝트의 이동을 제어합니다.'}, \n",
      "{'term': '벡터 변수', 'description': '수학에서 벡터는 크기와 방향을 나타내는 수학적 개념으로, 2D 또는 3D 공간에서 위치, 속도, 방향 등을 표현할 때 사용됩니다.'}, \n",
      "{'term': '인풋 시스템 네임스페이스', 'description': '유니티의 새로운 입력 시스템을 사용하기 위해 스크립트에서 필요한 네임스페이스로, InputSystem namespace를 사용하여 입력 처리를 할 수 있습니다.'}, \n",
      "{'term': '상세 노멀라이즈드', 'description': '입력 값의 세밀한 조정이 필요한 경우, 입력 시스템은 값을 '상세 노멀라이즈드'로 출력하여 유동적인 움직임을 제공합니다.'}]\n",
      "Inference Time: 21.44 seconds\n",
      "Peak GPU Memory Usage: 16.40 GB\n",
      "BLEU score: 0.0093\n",
      "Log probability score (sum): -109.3417\n",
      "\n",
      "==== Example 4 ====\n"
     ]
    },
    {
     "name": "stderr",
     "output_type": "stream",
     "text": [
      "Setting `pad_token_id` to `eos_token_id`:128009 for open-end generation.\n"
     ]
    },
    {
     "name": "stdout",
     "output_type": "stream",
     "text": [
      "Candidate output:\n",
      "[{\"term\": \"유니티\", \"description\": \"유니티는 게임 및 시뮬레이션 개발에 널리 사용되는 엔진으로, 2D 및 3D 게임을 제작하는 데 필요한 다양한 툴과 기능을 제공합니다. 다양한 플랫폼에 배포할 수 있는 크로스 플랫폼 기능이 특징입니다.\"},\n",
      "{\"term\": \"플립 X\", \"description\": \"플립 X는 2D 그래픽에서 오브젝트의 좌우 반전을 의미합니다. 플립 X를 체크하면 캐릭터가 좌측 방향으로 이동할 때 오브젝트가 반전되어 표시됩니다.\"},\n",
      "{\"term\": \"셀 애니메이션\", \"description\": \"셀 애니메이션은 여러 스프라이트를 순차적으로 재생하여 애니메이션을 만드는 기법입니다. 예를 들어, 런 0, 1, 2와 같은 이미지들을 순차적으로 표시하여 캐릭터의 움직임을 표현합니다.\"},\n",
      "{\"term\": \"애니메이터 컴포넌트\", \"description\": \"애니메이터 컴포넌트는 애니메이션 상태를 관리하는 데 사용되는 유니티의 컴포넌트입니다. 애니메이션 파일을 쉽게 드래그하여 연결하고, 기본 상태를 설정하여 애니메이션 전환이 자연스럽게 이뤄질 수 있도록 합니다.\"},\n",
      "{\"term\": \"코드 초기화\", \"description\": \"애니메이터를 코드에서 활성화하기 위해 반드시 초기화를 수행해야 합니다. 이는 애니메이터의 상태를 설정하고, 상태 전환을 위한 변수나 트리거를 설정하는 과정입니다.\"},\n",
      "{\"term\": \"인풋 벡터\", \"description\": \"인풋 벡터는 사용자 입력을 받는 변수를 의미합니다. 이 벡터의 크기에 따라 애니메이션 상태가 변화할 수 있습니다.\"},\n",
      "{\"term\": \"애니메이션 오버라이드 컨트롤러\", \"description\": \"기존 애니메이터를 재활용하여 새로운 캐릭터에 적용할 때 사용하는 기능입니다. 기존 설정을 유지하면서 새로운 애니메이션만 변경할 수 있게 해줍니다.\"},\n",
      "{\"term\": \"스프라이트\", \"description\": \"스프라이트는 2D 게임에서 사용되는 잘라낸 이미지나 그림을 의미합니다. 캐릭터, 아이템, 이펙트 등 다양한 요소의 비주얼을 표현할 수 있습니다.\"},\n",
      "{\"term\": \"애니메이션 설정\", \"description\": \"애니메이션의 속성을 조정하여 게임 내 비주얼 품질을 최적화하는 과정입니다. 스프라이트 이미지의 해상도, 필터링 등 다양한 속성을 조정할 수 있습니다.\"},\n",
      "{\"term\": \"효율적 재활용\", \"description\": \"기존 애니메이터를 재활용하여 새로운 캐릭터에 적용하는 방법을 통해 개발 시간과 자원을 효율적으로 사용할 수 있습니다. 새로운 스프라이트를 추가하고 기존 애니메이션을 참조하여 작업할 수 있습니다.\"}]\n",
      "Inference Time: 20.93 seconds\n",
      "Peak GPU Memory Usage: 16.30 GB\n",
      "BLEU score: 0.0858\n",
      "Log probability score (sum): -66.0750\n",
      "\n",
      "==== Example 5 ====\n"
     ]
    },
    {
     "name": "stderr",
     "output_type": "stream",
     "text": [
      "Setting `pad_token_id` to `eos_token_id`:128009 for open-end generation.\n"
     ]
    },
    {
     "name": "stdout",
     "output_type": "stream",
     "text": [
      "Candidate output:\n",
      "[{'term': '유니티', 'description': '유니티는 게임 및 시뮬레이션 개발에 널리 사용되는 엔진으로, 2D 및 3D 게임을 제작하는 데 필요한 다양한 툴과 기능을 제공합니다. 다양한 플랫폼에 배포할 수 있는 크로스 플랫폼 기능이 특징입니다.'}, \n",
      "{'term': '타일맵', 'description': '타일맵은 2D 게임에서 사용되는 지형이나 배경을 구성하기 위한 방법으로, 작은 타일 모양의 지형을 배열하여 맵을 만들어냅니다.'}, \n",
      "{'term': '시네머신', 'description': '시네머신은 유니티에서 사용되는 카메라 시스템으로, 게임 내 카메라의 움직임을 자연스럽고 매끄럽게 제어할 수 있게 해줍니다.'}, \n",
      "{'term': '온 트리거 이벤트', 'description': '온 트리거 이벤트는 유니티에서 특정 조건이 충족될 때 자동으로 특정 액션을 수행하도록 설정하는 기능입니다.'}, \n",
      "{'term': '리치 로직', 'description': '리치 로직은 게임에서 특정 조건에 따라 오브젝트나 데이터를 재배치하거나 처리하는 알고리즘을 의미합니다.'}, \n",
      "{'term': '유니티 이벤트 시스템', 'description': '유니티 이벤트 시스템은 게임 내에서 특정 이벤트가 발생했을 때 특정 액션을 수행하도록 설정하는 기능입니다.'}, \n",
      "{'term': '카메라 팔로우', 'description': '카메라 팔로우는 카메라가 특정 오브젝트를 따라 움직이도록 설정하는 기능으로, 플레이어의 시점을 자연스럽게 제어할 수 있게 해줍니다.'}, \n",
      "{'term': '물리 이동', 'description': '물리 이동은 게임 내 오브젝트의 움직임을 물리적 법칙에 따라 구현하는 기능으로, 자연스러운 움직임을 만들어냅니다.'}, \n",
      "{'term': '타일 재배치', 'description': '타일 재배치는 게임 맵의 타일을 플레이어의 움직임에 따라 자동으로 이동시키는 기능으로, 무한 맵을 구현하는 데 필수적입니다.'}, \n",
      "{'term': '가상 카메라', 'description': '가상 카메라는 실제 카메라를 대신해 게임 내에서 카메라의 움직임을 제어하는 오브젝트로, 시네머신을 통해 사용됩니다.'}, \n",
      "{'term': '유니티 시네머신 패키지', 'description': '유니티 시네머신 패키지는 유니티에서 제공하는 카메라 제어와 애니메이션 기능을 강화하는 추가 패키지로, 부드러운 카메라 움직임을 구현할 수 있게 해줍니다.'}]\n",
      "Inference Time: 20.30 seconds\n",
      "Peak GPU Memory Usage: 16.50 GB\n",
      "BLEU score: 0.0050\n",
      "Log probability score (sum): -106.2079\n",
      "\n",
      "==== Example 6 ====\n"
     ]
    },
    {
     "name": "stderr",
     "output_type": "stream",
     "text": [
      "Setting `pad_token_id` to `eos_token_id`:128009 for open-end generation.\n"
     ]
    },
    {
     "name": "stdout",
     "output_type": "stream",
     "text": [
      "Candidate output:\n",
      "[{'term': '유니티', 'description': '유니티는 게임 및 시뮬레이션 개발에 널리 사용되는 엔진으로, 2D 및 3D 게임을 제작하는 데 필요한 다양한 툴과 기능을 제공합니다. 다양한 플랫폼에 배포할 수 있는 크로스 플랫폼 기능이 특징입니다.'}, {'term': '뱀서라이크', 'description': '뱀서라이크 게임 장르는 플레이어가 자신의 캐릭터를 조종하여 지속적으로 생성되는 적을 물리치고 생존을 추구하는 게임 유형으로, 주로 롤플레잉 요소를 포함합니다.'}, {'term': '에셋', 'description': '게임 개발에서 에셋은 음악, 이미지, 모델 등 게임 내에서 사용되는 요소들을 의미합니다. 에셋은 게임의 비주얼과 사운드 요소를 구축하는 중요한 역할을 합니다.'}, {'term': '스프라이트', 'description': '스프라이트는 2D 게임에서 사용되는 잘라낸 이미지나 그림을 의미합니다. 캐릭터, 아이템, 이펙트 등 다양한 요소의 비주얼을 표현할 수 있습니다.'}, {'term': '리지드 바디 2D', 'description': '리지드 바디 2D 컴포넌트는 물리적 상호작용을 위해 오브젝트에 물리적 특성을 부여하는 기능을 제공하며, 중력이나 충돌 감지 등을 설정할 수 있습니다.'}, {'term': '캡슐 콜라이더 2D', 'description': '캡슐 콜라이더 2D는 2D 공간에서 오브젝트의 물리적 경계를 정의하는 컴포넌트로, 캐릭터의 충돌 처리를 보다 쉽게 만들어 줍니다.'}, {'term': '그래비티 스케일', 'description': '그래비티 스케일은 리지드 바디 컴포넌트에서 중력의 영향을 얼마나 받을지를 결정하는 값으로, 0으로 설정하면 중력이 적용되지 않도록 할 수 있습니다.'}, {'term': '유니티 허브', 'description': '유니티 허브는 유니티 엔진의 다양한 버전을 관리하고 프로젝트를 생성할 수 있는 툴로, 버전 관리와 라이센스 관리를 돕습니다.'}, {'term': 'URP (Universal Render Pipeline)', 'description': 'URP는 유니티에서 제공하는 렌더링 파이프라인의 하나로, 다양한 플랫폼에서 최적화된 성능을 제공하면서도 시각적으로 우수한 결과를 만들어낼 수 있게끔 설계되었습니다.'}, {'term': '스프라이트 설정', 'description': '스프라이트 설정은 스프라이트 이미지의 해상도, 필터링 등 다양한 속성을 조정하여 게임 내 비주얼 품질을 최적화하는 과정입니다.'}, {'term': '애니메이터', 'description': '애니메이터는 유니티에서 오브젝트의 움직임을 정의하는 컴포넌트로, 스프라이트나 3D 모델에 애니메이션을 추가하여 오브젝트의 동작을 시각적으로 표현할 수 있습니다.'}, {'term': '픽스드 업데이트', 'description': '픽스드 업데이트는 유니티에서 오브젝트의 위치를 업데이트하는 방법 중 하나로, 고정된 프레임 속도로 오브젝트의 위치를 조정하여 일정한 속도로 움직이게 합니다.'}, {'term': '벡터', 'description': '벡터는 수학적 개념으로, 크기와 방향을 가진 수학적 개념으로, 게임 개발에서 물리적 계산이나 그래픽 처리에서 자주 사용됩니다.'}, {'term': '콜라이더 2D', 'description': '콜라이더 2D는 2D 공간에서 오브젝트의 물리적 경계를 정의하는 컴포넌트로, 충돌 감지와 물리적 상호작용을 설정하는 데 사용됩니다.'}, {'term': '리포지션', 'description': '리포지션은 오브젝트를 특정 위치로 이동하거나 랜덤하게 배치하는 기능으로, 게임 내 오브젝트의 배치와 위치를 제어하는 데 사용됩니다.'}, {'term': '에너미', 'description': '에너미는 게임 개발에서 적이나 몬스터를 의미하며, 플레이어에게\n",
      "Inference Time: 31.66 seconds\n",
      "Peak GPU Memory Usage: 16.60 GB\n",
      "BLEU score: 0.0266\n",
      "Log probability score (sum): -62.4619\n",
      "\n",
      "==== Example 7 ====\n"
     ]
    },
    {
     "name": "stderr",
     "output_type": "stream",
     "text": [
      "Setting `pad_token_id` to `eos_token_id`:128009 for open-end generation.\n"
     ]
    },
    {
     "name": "stdout",
     "output_type": "stream",
     "text": [
      "Candidate output:\n",
      "[{'term': '유니티', 'description': '유니티는 게임 및 시뮬레이션 개발에 널리 사용되는 엔진으로, 2D 및 3D 게임을 제작하는 데 필요한 다양한 툴과 기능을 제공합니다. 다양한 플랫폼에 배포할 수 있는 크로스 플랫폼 기능이 특징입니다.'}, \n",
      " {'term': '오브젝트 풀링', 'description': '오브젝트 풀링은 게임에서 반복적으로 사용되는 오브젝트를 미리 생성하여 메모리 낭비를 방지하고 성능을 최적화하는 기술입니다. 특정 상황에서 필요한 오브젝트를 빠르게 인스턴스화할 수 있습니다.'}, \n",
      " {'term': '프리팹', 'description': '프리팹은 유니티에서 미리 만들어진 게임 오브젝트를 저장하는 파일 형식으로, 게임 개발 과정에서 자주 사용되는 오브젝트를 미리 생성하여 재사용할 수 있습니다.'}, \n",
      " {'term': '풀 매니저', 'description': '풀 매니저는 오브젝트 풀링 시스템을 관리하는 컴포넌트로, 오브젝트 풀을 초기화하고, 오브젝트를 생성하고 삭제하는 등의 작업을 처리합니다.'}, \n",
      " {'term': '리스트', 'description': '리스트는 컴퓨터 과학에서 데이터를 저장하고 접근할 수 있는 데이터 구조로, 오브젝트 풀링을 구현할 때 사용되는 중요한 데이터 구조입니다.'}, \n",
      " {'term': '인스턴스화', 'description': '인스턴스화는 프로그래밍에서 클래스나 오브젝트를 실제 메모리에 생성하여 사용할 수 있도록 하는 과정입니다. 오브젝트 풀링에서는 필요할 때마다 오브젝트를 인스턴스화하여 사용합니다.'}, \n",
      " {'term': '메모리 관리', 'description': '메모리 관리는 컴퓨터 프로그램이 실행 중인 동안 사용하는 메모리를 효율적으로 관리하는 기술입니다. 오브젝트 풀링을 통해 메모리 낭비를 줄이고 성능을 최적화할 수 있습니다.'}, \n",
      " {'term': '스크립트', 'description': '스크립트는 유니티에서 게임 오브젝트의 행동을 정의하는 코드로, C# 언어를 사용하여 작성됩니다. 오브젝트 풀링을 구현할 때 사용되는 중요한 컴포넌트입니다.'}, \n",
      " {'term': 'Hierarchy', 'description': 'Hierarchy는 유니티에서 게임 오브젝트를 계층적으로 구조화하여 관리하는 창으로, 오브젝트의 관계를 시각적으로 확인하고 조정할 수 있습니다.'}, \n",
      " {'term': '캡슐 콜라이더', 'description': '캡슐 콜라이더는 2D 또는 3D 오브젝트의 물리적 경계를 정의하는 컴포넌트로, 충돌 감지와 같은 물리적 상호작용을 처리합니다.'}, \n",
      " {'term': '리지드 바디', 'description': '리지드 바디는 유니티에서 물리적 오브젝트를 정의하는 컴포넌트로, 중력, 충돌 감지, 물리적 상호작용 등을 처리할 수 있습니다.'}]\n",
      "Inference Time: 21.86 seconds\n",
      "Peak GPU Memory Usage: 16.50 GB\n",
      "BLEU score: 0.0099\n",
      "Log probability score (sum): -100.9784\n",
      "\n",
      "==== Example 8 ====\n"
     ]
    },
    {
     "name": "stderr",
     "output_type": "stream",
     "text": [
      "Setting `pad_token_id` to `eos_token_id`:128009 for open-end generation.\n"
     ]
    },
    {
     "name": "stdout",
     "output_type": "stream",
     "text": [
      "Candidate output:\n",
      "[{'term': '유니티', 'description': '유니티는 게임 및 시뮬레이션 개발에 널리 사용되는 엔진으로, 2D 및 3D 게임을 제작하는 데 필요한 다양한 툴과 기능을 제공합니다. 다양한 플랫폼에 배포할 수 있는 크로스 플랫폼 기능이 특징입니다.'},\n",
      " {'term': '뱀서라이크', 'description': '뱀서라이크 게임 장르는 플레이어가 자신의 캐릭터를 조종하여 지속적으로 생성되는 적을 물리치고 생존을 추구하는 게임 유형으로, 주로 롤플레잉 요소를 포함합니다.'},\n",
      " {'term': '오브젝트 풀링', 'description': '오브젝트 풀링은 게임에서 반복적으로 사용되는 오브젝트를 미리 생성하고 저장한 후 필요할 때 하나씩 소환하는 기법으로, 게임의 성능을 최적화하는 데 유용합니다.'},\n",
      " {'term': '게임 매니저 스크립트', 'description': '게임 매니저 스크립트는 게임의 흐름과 상태를 관리하는 스크립트로, 레벨 업, 게임 시간, 이벤트 처리 등 다양한 게임 로직을 구현합니다.'},\n",
      " {'term': '게임 타임', 'description': '게임 타임은 게임의 시간을 관리하는 변수로, 레벨 업, 이벤트 발생, 게임의 진행 상황 등을 결정하는 데 사용됩니다.'},\n",
      " {'term': 'SpawnData 클래스', 'description': 'SpawnData 클래스는 몬스터의 속성을 저장하는 클래스로, 타입, 소환 타임, 체력, 스피드 등의 속성을 정의합니다.'},\n",
      " {'term': '직렬화', 'description': '직렬화는 데이터를 컴퓨터 내부에서 효율적으로 저장하거나 전송하기 위해 데이터를 문자열이나 다른 형태로 변환하는 과정입니다. 유니티에서는 직렬화된 데이터를 Inspector에서 쉽게 초기화할 수 있습니다.'},\n",
      " {'term': 'OnEnable', 'description': 'OnEnable 메서드는 컴포넌트가 활성화될 때 호출되는 메서드로, 초기화나 초기 설정 작업을 수행할 때 사용됩니다.'},\n",
      " {'term': 'Init 함수', 'description': 'Init 함수는 객체나 컴포넌트를 초기화하는 메서드로, 게임 시작 시 또는 특정 이벤트 발생 시 호출되어 객체의 상태를 설정합니다.'},\n",
      " {'term': '애니메이터', 'description': '애니메이터는 유니티에서 애니메이션을 관리하는 컴포넌트로, 게임 오브젝트의 움직임과 애니메이션을 제어할 수 있습니다.'},\n",
      " {'term': '풀 매니저', 'description': '풀 매니저는 유니티에서 오브젝트의 풀링을 관리하는 시스템으로, 오브젝트를 효율적으로 생성하고 소환할 수 있게 해줍니다.'},\n",
      " {'term': '스포너', 'description': '스포너는 특정 조건에 따라 오브젝트를 생성하거나 소환하는 컴포넌트로, 게임 로직에서 다양한 오브젝트의 생성과 소환을 제어합니다.'}]\n",
      "Inference Time: 21.79 seconds\n",
      "Peak GPU Memory Usage: 16.40 GB\n",
      "BLEU score: 0.0154\n",
      "Log probability score (sum): -95.9265\n",
      "\n",
      "==== Example 9 ====\n"
     ]
    },
    {
     "name": "stderr",
     "output_type": "stream",
     "text": [
      "Setting `pad_token_id` to `eos_token_id`:128009 for open-end generation.\n"
     ]
    },
    {
     "name": "stdout",
     "output_type": "stream",
     "text": [
      "Candidate output:\n",
      "[{'term': '유니티', 'description': '유니티는 게임 및 시뮬레이션 개발에 널리 사용되는 엔진으로, 2D 및 3D 게임을 제작하는 데 필요한 다양한 툴과 기능을 제공합니다. 다양한 플랫폼에 배포할 수 있는 크로스 플랫폼 기능이 특징입니다.'},\n",
      " {'term': '프리펩', 'description': '프리펩은 유니티에서 게임 오브젝트의 인스턴스를 쉽게 재사용할 수 있도록 도와주는 유용한 기능입니다. 프리펩을 사용하면 동일한 오브젝트를 여러 번 사용할 수 있어 개발 속도를 높일 수 있습니다.'},\n",
      " {'term': '충돌 로직', 'description': '충돌 로직은 게임에서 오브젝트가 서로 충돌할 때의 반응을 정의하는 코드나 메커니즘을 의미합니다. 충돌 로직은 게임의 상호작용을 구현하는 핵심 요소 중 하나입니다.'},\n",
      " {'term': '스프라이트', 'description': '스프라이트는 2D 게임에서 사용되는 잘라낸 이미지나 그림을 의미합니다. 캐릭터, 아이템, 이펙트 등 다양한 요소의 비주얼을 표현할 수 있습니다.'},\n",
      " {'term': '리지드 바디 2D', 'description': '리지드 바디 2D 컴포넌트는 물리적 상호작용을 위해 오브젝트에 물리적 특성을 부여하는 기능을 제공하며, 중력이나 충돌 감지 등을 설정할 수 있습니다.'},\n",
      " {'term': '캡슐 콜라이더 2D', 'description': '캡슐 콜라이더 2D는 2D 공간에서 오브젝트의 물리적 경계를 정의하는 컴포넌트로, 캐릭터의 충돌 처리를 보다 쉽게 만들어 줍니다.'},\n",
      " {'term': '그래비티 스케일', 'description': '그래비티 스케일은 리지드 바디 컴포넌트에서 중력의 영향을 얼마나 받을지를 결정하는 값으로, 0으로 설정하면 중력이 적용되지 않도록 할 수 있습니다.'},\n",
      " {'term': '유니티 허브', 'description': '유니티 허브는 유니티 엔진의 다양한 버전을 관리하고 프로젝트를 생성할 수 있는 툴로, 버전 관리와 라이센스 관리를 돕습니다.'},\n",
      " {'term': 'URP (Universal Render Pipeline)', 'description': 'URP는 유니티에서 제공하는 렌더링 파이프라인의 하나로, 다양한 플랫폼에서 최적화된 성능을 제공하면서도 시각적으로 우수한 결과를 만들어낼 수 있게끔 설계되었습니다.'},\n",
      " {'term': '스프라이트 설정', 'description': '스프라이트 설정은 스프라이트 이미지의 해상도, 필터링 등 다양한 속성을 조정하여 게임 내 비주얼 품질을 최적화하는 과정입니다.'},\n",
      " {'term': '프로그래밍 로직', 'description': '프로그래밍 로직은 게임의 동작을 구현하는 코드와 알고리즘을 의미합니다. 유니티에서 게임의 기능을 추가하고 제어하는 데 사용됩니다.'}]\n",
      "\n",
      "이 목록은 유튜브 타임라인에서 다루는 주제와 관련된 핵심 용어와 그 용어에 대한 설명을 포함하고 있습니다. 추가적으로 유니티 엔진의 기능과 관련된 다양한 용어가 포함되어 있어 유니티를 사용하는 개발자들이 해당 용어를 이해하고 활용할 수 있도록 도와줍니다.\n",
      "Inference Time: 24.87 seconds\n",
      "Peak GPU Memory Usage: 16.30 GB\n",
      "BLEU score: 0.0035\n",
      "Log probability score (sum): -60.9084\n",
      "\n",
      "==== Example 10 ====\n",
      "Candidate output:\n",
      "[{'term': '유니티', 'description': '유니티는 게임 및 시뮬레이션 개발에 널리 사용되는 엔진으로, 2D 및 3D 게임을 제작하는 데 필요한 다양한 툴과 기능을 제공합니다. 다양한 플랫폼에 배포할 수 있는 크로스 플랫폼 기능이 특징입니다.'},\n",
      " {'term': '뱀서라이크', 'description': '뱀서라이크 게임 장르는 플레이어가 자신의 캐릭터를 조종하여 지속적으로 생성되는 적을 물리치고 생존을 추구하는 게임 유형으로, 주로 롤플레잉 요소를 포함합니다.'},\n",
      " {'term': '스캐너', 'description': '스캐너는 게임 내에서 특정 범위 내의 오브젝트를 탐지하고 감지하는 기능을 수행하는 컴포넌트입니다. 주로 적의 접근을 감지하거나 특정 조건을 만족하는 오브젝트를 찾는 데 사용됩니다.'},\n",
      " {'term': '레이캐스트', 'description': '레이캐스트는 2D 또는 3D 공간에서 특정한 형태의 범위 내에 있는 오브젝트를 탐지하는 기능입니다. 2D 레이캐스트는 주로 원형 범위 내의 오브젝트를 탐지하는 데 사용됩니다.'},\n",
      " {'term': '적', 'description': '게임 내에서 플레이어를 공격하거나 위협하는 오브젝트를 의미합니다. 적은 다양한 형태와 능력을 가지고 있으며, 플레이어와의 상호작용을 통해 게임의 전략과 전술을 구현합니다.'},\n",
      " {'term': '플레이어', 'description': '게임의 주인공을 의미하며, 플레이어가 조종하는 캐릭터입니다. 플레이어는 게임의 목표를 달성하기 위해 다양한 능력과 아이템을 통해 적을 물리치고 생존하는 데 중요한 역할을 합니다.'},\n",
      " {'term': '총알', 'description': '플레이어가 적에게 발사하는 무기 중 하나로, 적을 공격하는 데 사용됩니다. 총알은 속도, 데미지, 범위 등 다양한 속성을 가지고 있으며, 게임의 전략과 전술에 따라 사용됩니다.'},\n",
      " {'term': '레이어', 'description': '유니티에서 오브젝트의 물리적 구분을 위한 기능으로, 태그와는 다르게 물리적 특성을 정의합니다. 레이어를 통해 오브젝트의 물리적 상호작용을 조절할 수 있습니다.'},\n",
      " {'term': '스캐너 설정', 'description': '스캐너 컴포넌트를 설정하는 과정으로, 스캔할 범위, 스캔할 레이어, 레이캐스트 사용 여부 등을 정의합니다. 이를 통해 특정 조건에 맞는 오브젝트를 탐지하고 감지할 수 있습니다.'},\n",
      " {'term': 'Fixed Update', 'description': '유니티에서 게임 로직을 주기적으로 업데이트하는 함수로, 일정한 시간 간격으로 호출되어 게임의 물리적 상호작용, 충돌 감지, 애니메이션 업데이트 등을 수행합니다.'}]\n",
      "Inference Time: 21.46 seconds\n",
      "Peak GPU Memory Usage: 16.40 GB\n",
      "BLEU score: 0.0110\n",
      "Log probability score (sum): -101.0002\n"
     ]
    },
    {
     "data": {
      "text/html": [],
      "text/plain": [
       "<IPython.core.display.HTML object>"
      ]
     },
     "metadata": {},
     "output_type": "display_data"
    },
    {
     "data": {
      "text/html": [
       "<br>    <style><br>        .wandb-row {<br>            display: flex;<br>            flex-direction: row;<br>            flex-wrap: wrap;<br>            justify-content: flex-start;<br>            width: 100%;<br>        }<br>        .wandb-col {<br>            display: flex;<br>            flex-direction: column;<br>            flex-basis: 100%;<br>            flex: 1;<br>            padding: 10px;<br>        }<br>    </style><br><div class=\"wandb-row\"><div class=\"wandb-col\"><h3>Run history:</h3><br/><table class=\"wandb\"><tr><td>BLEU_score</td><td>█▁▁▂▁▁▁▁▁▁</td></tr><tr><td>Inference_time_sec</td><td>█▁▂▁▁█▂▂▄▂</td></tr><tr><td>Log_probability_score</td><td>█▃▁▆▁▇▂▃▇▂</td></tr><tr><td>Peak_GPU_Memory_GB</td><td>▁█▅▄▆▇▆▅▄▅</td></tr><tr><td>basic_memory</td><td>▁</td></tr><tr><td>example_index</td><td>▁▂▃▃▄▅▆▆▇█</td></tr></table><br/></div><div class=\"wandb-col\"><h3>Run summary:</h3><br/><table class=\"wandb\"><tr><td>BLEU_score</td><td>0.011</td></tr><tr><td>Inference_time_sec</td><td>21.46296</td></tr><tr><td>Log_probability_score</td><td>-101.00015</td></tr><tr><td>Peak_GPU_Memory_GB</td><td>16.4</td></tr><tr><td>basic_memory</td><td>15</td></tr><tr><td>example_index</td><td>9</td></tr></table><br/></div></div>"
      ],
      "text/plain": [
       "<IPython.core.display.HTML object>"
      ]
     },
     "metadata": {},
     "output_type": "display_data"
    },
    {
     "data": {
      "text/html": [
       " View run <strong style=\"color:#cdcd00\">8B_16Bit_Quant</strong> at: <a href='https://wandb.ai/iamkimhongil92-lumenasoft/hangae_Final/runs/q54mr74p' target=\"_blank\">https://wandb.ai/iamkimhongil92-lumenasoft/hangae_Final/runs/q54mr74p</a><br> View project at: <a href='https://wandb.ai/iamkimhongil92-lumenasoft/hangae_Final' target=\"_blank\">https://wandb.ai/iamkimhongil92-lumenasoft/hangae_Final</a><br>Synced 5 W&B file(s), 0 media file(s), 0 artifact file(s) and 0 other file(s)"
      ],
      "text/plain": [
       "<IPython.core.display.HTML object>"
      ]
     },
     "metadata": {},
     "output_type": "display_data"
    },
    {
     "data": {
      "text/html": [
       "Find logs at: <code>./wandb/run-20250213_122953-q54mr74p/logs</code>"
      ],
      "text/plain": [
       "<IPython.core.display.HTML object>"
      ]
     },
     "metadata": {},
     "output_type": "display_data"
    }
   ],
   "source": [
    "import json\n",
    "import time\n",
    "import torch\n",
    "import transformers\n",
    "import wandb\n",
    "from nltk.translate.bleu_score import sentence_bleu, SmoothingFunction\n",
    "import nltk\n",
    "from transformers import BitsAndBytesConfig\n",
    "\n",
    "\n",
    "# nltk 다운로드 (최초 1회)\n",
    "nltk.download('punkt')\n",
    "\n",
    "# wandb 초기화\n",
    "wandb.init(project=\"hangae_Final\", name=\"8B_16Bit_Quant\")\n",
    "\n",
    "# corpus.json 파일 로드 (UTF-8 인코딩)\n",
    "with open(\"./corpus.json\", \"r\", encoding=\"utf-8\") as f:\n",
    "    evaluation_data = json.load(f)\n",
    "\n",
    "# 10개만 추론\n",
    "evaluation_data = evaluation_data[:10]\n",
    "\n",
    "# 허깅페이스 방식으로 모델 및 파이프라인 초기화\n",
    "model_id = \"MLP-KTLim/llama-3-Korean-Bllossom-8B\"\n",
    "generator = transformers.pipeline(\n",
    "    \"text-generation\",\n",
    "    model=model_id,\n",
    "    tokenizer=model_id,\n",
    "    model_kwargs={\"torch_dtype\": torch.bfloat16},\n",
    "    device_map=\"auto\",\n",
    ")\n",
    "generator.model.eval()\n",
    "\n",
    "# 시스템 프롬프트 정의\n",
    "SYSTEM_PROMPT = (\n",
    "    \"You are a helpful AI assistant. Please answer the user's questions kindly. \"\n",
    "    \"당신은 유능한 AI 어시스턴트 입니다. 사용자의 질문에 대해 친절하게 답변해주세요.\"\n",
    ")\n",
    "\n",
    "# 채팅 템플릿을 적용하여 프롬프트를 생성하는 함수\n",
    "def make_prompt(system_msg: str, user_msg: str) -> str:\n",
    "\n",
    "    msg = f\"\"\"\n",
    "다음은 유튜브 타임라인 요약 문서입니다. 이 내용을 분석하여 10개의 핵심 용어(KeyPoint)와 설명을 생성하세요.\n",
    "설명을 생성할 때 영상 위주가 아닌 최대한 전문적이고 구체적으로 추가 설명해주세요. 저는 영상 내용 뿐 아니라 그 용어에 대한 내용을 알고 싶습니다.\n",
    "중요하지 않더라도 알면 좋을 추가 핵심 용어도 더해주세요.\n",
    "\n",
    "[타임라인 요약]:\n",
    "{user_msg}\n",
    "\n",
    "[가이드]:\n",
    "- 필드는 `term`과 `description`을 포함하며, 결과는  10개의 키포인트 리스트로 구성됩니다.\n",
    "- 반드시 JSON 형식에 맞춰 반환하세요.\n",
    "- 다른 텍스트는 포함하지 마세요.\n",
    "\n",
    "[예시]:\n",
    "{evaluation_data[0]['output']}\n",
    "\"\"\"\n",
    "\n",
    "    messages = [\n",
    "        {\"role\": \"system\", \"content\": system_msg},\n",
    "        {\"role\": \"user\", \"content\": msg}\n",
    "    ]\n",
    "    prompt = generator.tokenizer.apply_chat_template(\n",
    "        messages,\n",
    "        tokenize=False,\n",
    "        add_generation_prompt=True\n",
    "    )\n",
    "    return prompt\n",
    "\n",
    "# 종료 토큰 설정\n",
    "terminators = [\n",
    "    generator.tokenizer.eos_token_id,\n",
    "    generator.tokenizer.convert_tokens_to_ids(\"<|eot_id|>\")\n",
    "]\n",
    "\n",
    "print(f'{round(generator.model.get_memory_footprint() / (1024 ** 3), 1)}GB')\n",
    "wandb.log({\"basic_memory\": round(generator.model.get_memory_footprint() / (1024 ** 3), 1)})\n",
    "\n",
    "\n",
    "# 평가 루프: corpus.json에 있는 각 예제에 대해 추론 수행\n",
    "for idx, example in enumerate(evaluation_data):\n",
    "    print(f\"\\n==== Example {idx+1} ====\")\n",
    "\n",
    "    # 사용자 입력과 프롬프트 생성\n",
    "    user_input = example[\"input\"]\n",
    "    prompt = make_prompt(SYSTEM_PROMPT, user_input)\n",
    "\n",
    "    # 입력 토큰 인코딩\n",
    "    encoded_input = generator.tokenizer(prompt, return_tensors=\"pt\")\n",
    "    encoded_input = {k: v.to(generator.model.device) for k, v in encoded_input.items()}\n",
    "    prompt_length = encoded_input[\"input_ids\"].shape[1]\n",
    "\n",
    "    # 속도 및 메모리 측정을 위한 시작 시간 기록 및 GPU 메모리 초기화\n",
    "    start_time = time.time()\n",
    "    if torch.cuda.is_available():\n",
    "        torch.cuda.reset_peak_memory_stats(generator.model.device)\n",
    "\n",
    "    # 모델 생성: 토큰별 score 반환 포함\n",
    "    outputs = generator.model.generate(\n",
    "        **encoded_input,\n",
    "        max_new_tokens=1024,\n",
    "        eos_token_id=terminators[0],\n",
    "        do_sample=True,\n",
    "        temperature=0.6,\n",
    "        top_p=0.9,\n",
    "        return_dict_in_generate=True,\n",
    "        output_scores=True,\n",
    "    )\n",
    "\n",
    "    # GPU 동기화 후 종료 시간 기록\n",
    "    if torch.cuda.is_available():\n",
    "        torch.cuda.synchronize(generator.model.device)\n",
    "    end_time = time.time()\n",
    "    elapsed_time = end_time - start_time\n",
    "\n",
    "    # GPU 메모리 사용량 측정 (Peak 메모리, MB 단위)\n",
    "    if torch.cuda.is_available():\n",
    "        peak_memory = round(torch.cuda.max_memory_allocated(generator.model.device) / (1024 ** 3), 1)\n",
    "    else:\n",
    "        peak_memory = 0\n",
    "\n",
    "    # 생성된 전체 토큰에서 프롬프트 이후의 candidate 토큰 추출\n",
    "    generated_ids = outputs.sequences[0]\n",
    "    candidate_ids = generated_ids[prompt_length:]\n",
    "    candidate_text = generator.tokenizer.decode(candidate_ids, skip_special_tokens=True).strip()\n",
    "\n",
    "    print(\"Candidate output:\")\n",
    "    print(candidate_text)\n",
    "    print(f\"Inference Time: {elapsed_time:.2f} seconds\")\n",
    "    print(f\"Peak GPU Memory Usage: {peak_memory:.2f} GB\")\n",
    "\n",
    "    # 참조 텍스트: evaluation_data의 \"output\"을 JSON 문자열로 변환\n",
    "    reference_text = json.dumps(example[\"output\"], ensure_ascii=False, indent=2)\n",
    "\n",
    "    # BLEU 점수 계산 (공백 기준 토큰화)\n",
    "    candidate_tokens = candidate_text.split()\n",
    "    reference_tokens = reference_text.split()\n",
    "    bleu = sentence_bleu(\n",
    "        [reference_tokens],\n",
    "        candidate_tokens,\n",
    "        smoothing_function=SmoothingFunction().method1\n",
    "    )\n",
    "    print(f\"BLEU score: {bleu:.4f}\")\n",
    "\n",
    "    # 로그 확률 계산: 각 생성 토큰에 대해 log‑softmax 후 선택된 토큰의 로그 확률 합산\n",
    "    log_score = 0.0\n",
    "    for i, step_scores in enumerate(outputs.scores):\n",
    "        log_probs = torch.log_softmax(step_scores, dim=-1)\n",
    "        token_id = candidate_ids[i].unsqueeze(0)  # shape: (1,)\n",
    "        token_log_prob = log_probs[0, token_id].item()\n",
    "        log_score += token_log_prob\n",
    "    print(f\"Log probability score (sum): {log_score:.4f}\")\n",
    "\n",
    "    # wandb에 메트릭 로깅\n",
    "    wandb.log({\n",
    "        \"example_index\": idx,\n",
    "        \"BLEU_score\": bleu,\n",
    "        \"Inference_time_sec\": elapsed_time,\n",
    "        \"Peak_GPU_Memory_GB\": peak_memory,\n",
    "        \"Log_probability_score\": log_score\n",
    "    })\n",
    "\n",
    "wandb.finish()"
   ]
  },
  {
   "cell_type": "code",
   "execution_count": null,
   "metadata": {},
   "outputs": [],
   "source": []
  }
 ],
 "metadata": {
  "kernelspec": {
   "display_name": "Python 3 (ipykernel)",
   "language": "python",
   "name": "python3"
  },
  "language_info": {
   "codemirror_mode": {
    "name": "ipython",
    "version": 3
   },
   "file_extension": ".py",
   "mimetype": "text/x-python",
   "name": "python",
   "nbconvert_exporter": "python",
   "pygments_lexer": "ipython3",
   "version": "3.10.12"
  }
 },
 "nbformat": 4,
 "nbformat_minor": 4
}
