{
 "cells": [
  {
   "cell_type": "code",
   "execution_count": 1,
   "metadata": {},
   "outputs": [
    {
     "name": "stderr",
     "output_type": "stream",
     "text": [
      "[nltk_data] Downloading package punkt to /root/nltk_data...\n",
      "[nltk_data]   Package punkt is already up-to-date!\n",
      "\u001b[34m\u001b[1mwandb\u001b[0m: Currently logged in as: \u001b[33miamkimhongil92\u001b[0m (\u001b[33miamkimhongil92-lumenasoft\u001b[0m) to \u001b[32mhttps://api.wandb.ai\u001b[0m. Use \u001b[1m`wandb login --relogin`\u001b[0m to force relogin\n",
      "\u001b[34m\u001b[1mwandb\u001b[0m: Using wandb-core as the SDK backend.  Please refer to https://wandb.me/wandb-core for more information.\n"
     ]
    },
    {
     "data": {
      "text/html": [
       "Tracking run with wandb version 0.19.6"
      ],
      "text/plain": [
       "<IPython.core.display.HTML object>"
      ]
     },
     "metadata": {},
     "output_type": "display_data"
    },
    {
     "data": {
      "text/html": [
       "Run data is saved locally in <code>/workspace/hanghae99_plusAI_2/8_advanced/wandb/run-20250213_123519-0aj8anug</code>"
      ],
      "text/plain": [
       "<IPython.core.display.HTML object>"
      ]
     },
     "metadata": {},
     "output_type": "display_data"
    },
    {
     "data": {
      "text/html": [
       "Syncing run <strong><a href='https://wandb.ai/iamkimhongil92-lumenasoft/hangae_Final/runs/0aj8anug' target=\"_blank\">8B_8Bit_Quant</a></strong> to <a href='https://wandb.ai/iamkimhongil92-lumenasoft/hangae_Final' target=\"_blank\">Weights & Biases</a> (<a href='https://wandb.me/developer-guide' target=\"_blank\">docs</a>)<br>"
      ],
      "text/plain": [
       "<IPython.core.display.HTML object>"
      ]
     },
     "metadata": {},
     "output_type": "display_data"
    },
    {
     "data": {
      "text/html": [
       " View project at <a href='https://wandb.ai/iamkimhongil92-lumenasoft/hangae_Final' target=\"_blank\">https://wandb.ai/iamkimhongil92-lumenasoft/hangae_Final</a>"
      ],
      "text/plain": [
       "<IPython.core.display.HTML object>"
      ]
     },
     "metadata": {},
     "output_type": "display_data"
    },
    {
     "data": {
      "text/html": [
       " View run at <a href='https://wandb.ai/iamkimhongil92-lumenasoft/hangae_Final/runs/0aj8anug' target=\"_blank\">https://wandb.ai/iamkimhongil92-lumenasoft/hangae_Final/runs/0aj8anug</a>"
      ],
      "text/plain": [
       "<IPython.core.display.HTML object>"
      ]
     },
     "metadata": {},
     "output_type": "display_data"
    },
    {
     "name": "stderr",
     "output_type": "stream",
     "text": [
      "The `load_in_4bit` and `load_in_8bit` arguments are deprecated and will be removed in the future versions. Please, pass a `BitsAndBytesConfig` object in `quantization_config` argument instead.\n"
     ]
    },
    {
     "data": {
      "application/vnd.jupyter.widget-view+json": {
       "model_id": "eccd183bf22d4885a5dee1b5190c7e5a",
       "version_major": 2,
       "version_minor": 0
      },
      "text/plain": [
       "Loading checkpoint shards:   0%|          | 0/4 [00:00<?, ?it/s]"
      ]
     },
     "metadata": {},
     "output_type": "display_data"
    },
    {
     "name": "stderr",
     "output_type": "stream",
     "text": [
      "Device set to use cuda:0\n",
      "Setting `pad_token_id` to `eos_token_id`:128009 for open-end generation.\n"
     ]
    },
    {
     "name": "stdout",
     "output_type": "stream",
     "text": [
      "8.5GB\n",
      "\n",
      "==== Example 1 ====\n"
     ]
    },
    {
     "name": "stderr",
     "output_type": "stream",
     "text": [
      "From v4.47 onwards, when a model cache is to be returned, `generate` will return a `Cache` instance instead by default (as opposed to the legacy tuple of tuples format). If you want to keep returning the legacy format, please set `return_legacy_cache=True`.\n",
      "Setting `pad_token_id` to `eos_token_id`:128009 for open-end generation.\n"
     ]
    },
    {
     "name": "stdout",
     "output_type": "stream",
     "text": [
      "Candidate output:\n",
      "[{'term': '유니티', 'description': '유니티는 게임 및 시뮬레이션 개발에 널리 사용되는 엔진으로, 2D 및 3D 게임을 제작하는 데 필요한 다양한 툴과 기능을 제공합니다. 다양한 플랫폼에 배포할 수 있는 크로스 플랫폼 기능이 특징입니다.'}, \n",
      "{'term': '뱀서라이크', 'description': '뱀서라이크 게임 장르는 플레이어가 자신의 캐릭터를 조종하여 지속적으로 생성되는 적을 물리치고 생존을 추구하는 게임 유형으로, 주로 롤플레잉 요소를 포함합니다.'}, \n",
      "{'term': '에셋', 'description': '게임 개발에서 에셋은 음악, 이미지, 모델 등 게임 내에서 사용되는 요소들을 의미합니다. 에셋은 게임의 비주얼과 사운드 요소를 구축하는 중요한 역할을 합니다.'}, \n",
      "{'term': '스프라이트', 'description': '스프라이트는 2D 게임에서 사용되는 잘라낸 이미지나 그림을 의미합니다. 캐릭터, 아이템, 이펙트 등 다양한 요소의 비주얼을 표현할 수 있습니다.'}, \n",
      "{'term': '리지드 바디 2D', 'description': '리지드 바디 2D 컴포넌트는 물리적 상호작용을 위해 오브젝트에 물리적 특성을 부여하는 기능을 제공하며, 중력이나 충돌 감지 등을 설정할 수 있습니다.'}, \n",
      "{'term': '캡슐 콜라이더 2D', 'description': '캡슐 콜라이더 2D는 2D 공간에서 오브젝트의 물리적 경계를 정의하는 컴포넌트로, 캐릭터의 충돌 처리를 보다 쉽게 만들어 줍니다.'}, \n",
      "{'term': '그래비티 스케일', 'description': '그래비티 스케일은 리지드 바디 컴포넌트에서 중력의 영향을 얼마나 받을지를 결정하는 값으로, 0으로 설정하면 중력이 적용되지 않도록 할 수 있습니다.'}, \n",
      "{'term': '유니티 허브', 'description': '유니티 허브는 유니티 엔진의 다양한 버전을 관리하고 프로젝트를 생성할 수 있는 툴로, 버전 관리와 라이센스 관리를 돕습니다.'}, \n",
      "{'term': 'URP (Universal Render Pipeline)', 'description': 'URP는 유니티에서 제공하는 렌더링 파이프라인의 하나로, 다양한 플랫폼에서 최적화된 성능을 제공하면서도 시각적으로 우수한 결과를 만들어낼 수 있게끔 설계되었습니다.'}, \n",
      "{'term': '스프라이트 설정', 'description': '스프라이트 설정은 스프라이트 이미지의 해상도, 필터링 등 다양한 속성을 조정하여 게임 내 비주얼 품질을 최적화하는 과정입니다.'}]\n",
      "Inference Time: 50.15 seconds\n",
      "Peak GPU Memory Usage: 9.30 GB\n",
      "BLEU score: 0.6240\n",
      "Log probability score (sum): -4.8905\n",
      "\n",
      "==== Example 2 ====\n"
     ]
    },
    {
     "name": "stderr",
     "output_type": "stream",
     "text": [
      "Setting `pad_token_id` to `eos_token_id`:128009 for open-end generation.\n"
     ]
    },
    {
     "name": "stdout",
     "output_type": "stream",
     "text": [
      "Candidate output:\n",
      "[{'term': '유니티', 'description': '유니티는 게임 및 시뮬레이션 개발에 널리 사용되는 엔진으로, 2D 및 3D 게임을 제작하는 데 필요한 다양한 툴과 기능을 제공합니다. 다양한 플랫폼에 배포할 수 있는 크로스 플랫폼 기능이 특징입니다.'}, {'term': '플레이어 오브젝트', 'description': '게임에서 사용자와 상호작용하는 주인공을 나타내는 오브젝트로, 움직임, 애니메이션, 충돌 처리 등 다양한 기능을 포함합니다.'}, {'term': 'C# 스크립트', 'description': '유니티에서 게임 로직을 작성하기 위해 사용하는 프로그래밍 언어로, Unity에서 제공하는 API를 사용하여 다양한 게임 요소를 구현할 수 있습니다.'}, {'term': '인풋 벡터', 'description': '방향키 입력을 받아 플레이어 오브젝트의 이동 방향을 결정하는 벡터 변수로, 좌우 및 상하 방향키의 입력 값을 저장합니다.'}, {'term': '리지드 바디 2D', 'description': '물리 기반의 2D 오브젝트를 관리하는 컴포넌트로, 중력, 충돌 감지, 물리적 상호작용 등을 설정할 수 있습니다.'}, {'term': 'FixedUpdate', 'description': '물리 엔진의 업데이트 주기에서 호출되는 함수로, 물리적 요소를 업데이트하고 관리하는 데 사용됩니다.'}, {'term': 'AddForce', 'description': '리지드 바디 컴포넌트에서 힘을 추가하여 물리적 움직임을 유도하는 메서드입니다.'}, {'term': 'Normalize', 'description': '벡터의 길이를 1로 normalize하여 방향만을 유지하는 메서드입니다.'}, {'term': 'Delta Time', 'description': 'FixedUpdate 함수에서 사용되는 시간 단위로, 프레임마다 일정한 시간 단위로 업데이트를 진행합니다.'}, {'term': '스프라이트 애니메이션', 'description': '게임 오브젝트의 움직임을 시각적으로 표현하기 위해 사용되는 애니메이션으로, 플레이어의 움직임을 더 자연스럽게 만들어줍니다.'}, {'term': '캡슐 콜라이더 2D', 'description': '2D 오브젝트의 물리적 경계를 정의하는 컴포넌트로, 충돌 감지 및 물리적 상호작용을 설정할 수 있습니다.'}]\n",
      "Inference Time: 41.08 seconds\n",
      "Peak GPU Memory Usage: 9.90 GB\n",
      "BLEU score: 0.0095\n",
      "Log probability score (sum): -92.3007\n",
      "\n",
      "==== Example 3 ====\n"
     ]
    },
    {
     "name": "stderr",
     "output_type": "stream",
     "text": [
      "Setting `pad_token_id` to `eos_token_id`:128009 for open-end generation.\n"
     ]
    },
    {
     "name": "stdout",
     "output_type": "stream",
     "text": [
      "Candidate output:\n",
      "[{\"term\": \"유니티\", \"description\": \"유니티는 게임 및 시뮬레이션 개발에 널리 사용되는 엔진으로, 2D 및 3D 게임을 제작하는 데 필요한 다양한 툴과 기능을 제공합니다. 다양한 플랫폼에 배포할 수 있는 크로스 플랫폼 기능이 특징입니다.\"},\n",
      "{\"term\": \"뱀서라이크\", \"description\": \"뱀서라이크 게임 장르는 플레이어가 자신의 캐릭터를 조종하여 지속적으로 생성되는 적을 물리치고 생존을 추구하는 게임 유형으로, 주로 롤플레잉 요소를 포함합니다.\"},\n",
      "{\"term\": \"뉴 인풋 시스템\", \"description\": \"유니티의 새로운 입력 시스템으로, 기존의 입력 방식에서 벗어나 더 정교하고 유연한 입력 방법을 제공합니다. 게임 개발에서 플레이어 입력을 처리하는 데 사용됩니다.\"},\n",
      "{\"term\": \"패키지 매니저\", \"description\": \"유니티에서 프로젝트 내에 포함된 모든 리소스를 관리하는 도구로, 패키지의 설치, 삭제, 업데이트 등을 처리할 수 있습니다.\"},\n",
      "{\"term\": \"인풋 액션\", \"description\": \"유니티에서 사용자 입력을 처리하고 이를 게임 로직에 반영하는 방법으로, 키보드, 마우스, 게임 패드 등의 다양한 입력 장치를 지원합니다.\"},\n",
      "{\"term\": \"플레이어\", \"description\": \"게임에서 사용자와 상호작용하는 캐릭터를 의미하며, 플레이어가 조종하는 캐릭터의 움직임, 행동 등을 다룹니다.\"},\n",
      "{\"term\": \"스클립트\", \"description\": \"유니티에서 게임 로직을 구현하는 코드를 작성하는 방법으로, 게임의 동작, AI, 물리 엔진 등의 다양한 기능을 구현할 수 있습니다.\"},\n",
      "{\"term\": \"유니티 레지스트리\", \"description\": \"유니티 프로젝트 내에서 사용자 정의 데이터를 저장하고 관리하는 시스템으로, 프로젝트 내에서 공유할 수 있는 데이터를 저장합니다.\"},\n",
      "{\"term\": \"에디터\", \"description\": \"유니티의 코드 편집기로, 스크립트를 작성하고 편집할 수 있는 환경을 제공합니다. 유니티에서 게임 로직을 구현하는 주요 도구 중 하나입니다.\"},\n",
      "{\"term\": \"인풋 시스템 네임스페이스\", \"description\": \"유니티의 인풋 시스템을 사용하여 입력 데이터를 처리하고 관리하는 데 필요한 네임스페이스를 의미합니다.\"},\n",
      "{\"term\": \"벡터\", \"description\": \"수학에서 벡터는 방향과 크기를 나타내는 수학적 개념으로, 2차원 또는 3차원 공간에서 위치를 표현하는 데 사용됩니다. 게임 개발에서 물리 엔진을 구현할 때 자주 사용됩니다.\"},\n",
      "{\"term\": \"상세 노멀라이즈드\", \"description\": \"게임 개발에서 '상세 노멀라이즈드'는 원하는 값을 매우 상세하고 정밀하게 표현하는 것을 의미합니다. 이는 특히 물리 엔진이나 그래픽 처리에서 중요한 개념입니다.\"}]\n",
      "Inference Time: 51.56 seconds\n",
      "Peak GPU Memory Usage: 9.80 GB\n",
      "BLEU score: 0.0097\n",
      "Log probability score (sum): -118.6457\n",
      "\n",
      "==== Example 4 ====\n"
     ]
    },
    {
     "name": "stderr",
     "output_type": "stream",
     "text": [
      "Setting `pad_token_id` to `eos_token_id`:128009 for open-end generation.\n"
     ]
    },
    {
     "name": "stdout",
     "output_type": "stream",
     "text": [
      "Candidate output:\n",
      "[{'term': '유니티', 'description': '유니티는 게임 및 시뮬레이션 개발에 널리 사용되는 엔진으로, 2D 및 3D 게임을 제작하는 데 필요한 다양한 툴과 기능을 제공합니다. 다양한 플랫폼에 배포할 수 있는 크로스 플랫폼 기능이 특징입니다.'}, {'term': '플립 X', 'description': '플립 X는 유니티에서 캐릭터의 방향을 조정할 때 사용하는 설정으로, X 값이 -1일 때 플립을 적용해야 한다는 의미를 포함합니다.'}, {'term': '셀 애니메이션', 'description': '셀 애니메이션은 여러 스프라이트를 순차적으로 재생시키는 방식으로, 런 0, 1, 2와 같은 이미지들을 사용하여 애니메이션을 만듭니다.'}, {'term': '애니메이터', 'description': '애니메이터 컴포넌트는 애니메이션 상태를 관리하는 데 사용되며, 애니메이션 파일을 쉽게 드래그하여 연결할 수 있습니다.'}, {'term': '인풋 벡터', 'description': '인풋 벡터는 사용자의 입력을 받아 애니메이션 상태를 변화시킬 수 있는 변수입니다.'}, {'term': '애니메이션 오버라이드', 'description': '애니메이션 오버라이드 컨트롤러는 기존 애니메이터의 설정을 유지하면서 새로운 애니메이션만 변경할 수 있게 해줍니다.'}, {'term': '스프라이트', 'description': '스프라이트는 2D 게임에서 사용되는 잘라낸 이미지나 그림을 의미하며, 캐릭터, 아이템, 이펙트 등 다양한 요소의 비주얼을 표현할 수 있습니다.'}, {'term': '리지드 바디 2D', 'description': '리지드 바디 2D 컴포넌트는 물리적 상호작용을 위해 오브젝트에 물리적 특성을 부여하는 기능을 제공하며, 중력이나 충돌 감지 등을 설정할 수 있습니다.'}, {'term': '캡슐 콜라이더 2D', 'description': '캡슐 콜라이더 2D는 2D 공간에서 오브젝트의 물리적 경계를 정의하는 컴포넌트로, 캐릭터의 충돌 처리를 보다 쉽게 만들어 줍니다.'}, {'term': '유니티 허브', 'description': '유니티 허브는 유니티 엔진의 다양한 버전을 관리하고 프로젝트를 생성할 수 있는 툴로, 버전 관리와 라이센스 관리를 돕습니다.'}, {'term': '셀 애니메이션 기법', 'description': '셀 애니메이션 기법은 여러 스프라이트를 순차적으로 재생시키는 방식으로, 런 0, 1, 2와 같은 이미지들을 사용하여 애니메이션을 만듭니다.'}]\n",
      "\n",
      "이러한 목록은 유튜브 타임라인에서 다루는 주제를 기반으로 유니티 엔진과 관련된 다양한 용어를 정리한 것입니다. 각 용어는 유니티 엔진에서 사용되는 기본적인 개념과 기능을 설명하고, 이를 통해 유튜브 영상에서 다루는 주제를 이해하는 데 도움이 됩니다.\n",
      "Inference Time: 55.98 seconds\n",
      "Peak GPU Memory Usage: 9.70 GB\n",
      "BLEU score: 0.0359\n",
      "Log probability score (sum): -63.8452\n",
      "\n",
      "==== Example 5 ====\n"
     ]
    },
    {
     "name": "stderr",
     "output_type": "stream",
     "text": [
      "Setting `pad_token_id` to `eos_token_id`:128009 for open-end generation.\n"
     ]
    },
    {
     "name": "stdout",
     "output_type": "stream",
     "text": [
      "Candidate output:\n",
      "[{'term': '유니티', 'description': '유니티는 게임 및 시뮬레이션 개발에 널리 사용되는 엔진으로, 2D 및 3D 게임을 제작하는 데 필요한 다양한 툴과 기능을 제공합니다. 다양한 플랫폼에 배포할 수 있는 크로스 플랫폼 기능이 특징입니다.'},\n",
      " {'term': '타일맵', 'description': '타일맵은 2D 게임에서 지형이나 배경을 구성하는 데 사용되는 데이터 형식으로, 2D 타일을 배열하여 맵을 생성합니다. 타일의 종류, 색상, 크기 등을 설정하여 다양한 맵을 만들 수 있습니다.'},\n",
      " {'term': '카메라', 'description': '카메라 컴포넌트는 게임 내에서 시각적 요소를 관찰할 수 있도록 해주는 기능으로, 플레이어의 시점을 제어하고, 게임 세계를 시각적으로 표현합니다.'},\n",
      " {'term': '시네머신', 'description': '시네머신은 유니티에서 카메라의 움직임을 부드럽게 만들기 위해 사용되는 패키지로, 카메라의 속도, 가속도, 감속 등을 조절할 수 있는 다양한 기능을 제공합니다.'},\n",
      " {'term': '온 트리거 EXIT 2D', 'description': '온 트리거 EXIT 2D 컴포넌트는 플레이어의 위치와 타일맵을 비교하여 플레이어가 맵의 경계를 넘어갈 때 새로운 타일맵을 생성하도록 하는 이벤트입니다.'},\n",
      " {'term': '랜덤 타일', 'description': '랜덤 타일은 타일맵에서 특정한 패턴이나 규칙 없이 타일을 랜덤하게 배치하여 맵을 생성하는 방법입니다. 다양한 패턴과 디자인을 생성할 수 있습니다.'},\n",
      " {'term': '유니티 이벤트', 'description': '유니티 이벤트 시스템은 게임의 다양한 상황에 따라 특정한 동작을 수행하도록 하는 기능으로, 플레이어의 행동, 충돌, 시간 경과 등 다양한 조건에 따라 이벤트를 트리거할 수 있습니다.'},\n",
      " {'term': '타일 속성', 'description': '타일 속성은 타일맵에서 타일의 특성을 정의하는 데 사용되는 설정으로, 타일의 색상, 크기, 패턴 등을 결정합니다.'},\n",
      " {'term': '플레이어', 'description': '플레이어는 게임에서 사용자에게 해당하는 캐릭터로, 사용자가 조종하는 캐릭터를 의미하며, 이 캐릭터의 행동, 능력, 상태 등을 관리합니다.'},\n",
      " {'term': '카메라 팔로우', 'description': '카메라 팔로우 기능은 카메라가 플레이어를 따라가도록 설정하는 방법으로, 플레이어의 움직임에 따라 카메라의 위치와 속도를 조절하여 부드럽고 자연스러운 시각적 경험을 제공합니다.'},\n",
      " {'term': '타일맵 재배치', 'description': '타일맵 재배치는 플레이어의 이동에 따라 타일맵이 자동으로 재구성되는 기능으로, 플레이어의 위치와 타일맵을 비교하여 타일의 위치를 조정하여 맵이 끊기지 않도록 합니다.'}]\n",
      "Inference Time: 53.23 seconds\n",
      "Peak GPU Memory Usage: 9.90 GB\n",
      "BLEU score: 0.0077\n",
      "Log probability score (sum): -137.3977\n",
      "\n",
      "==== Example 6 ====\n"
     ]
    },
    {
     "name": "stderr",
     "output_type": "stream",
     "text": [
      "Setting `pad_token_id` to `eos_token_id`:128009 for open-end generation.\n"
     ]
    },
    {
     "name": "stdout",
     "output_type": "stream",
     "text": [
      "Candidate output:\n",
      "[{\"term\": \"유니티\", \"description\": \"유니티는 게임 및 시뮬레이션 개발에 널리 사용되는 엔진으로, 2D 및 3D 게임을 제작하는 데 필요한 다양한 툴과 기능을 제공합니다. 다양한 플랫폼에 배포할 수 있는 크로스 플랫폼 기능이 특징입니다.\"}, {\"term\": \"뱀서라이크\", \"description\": \"뱀서라이크 게임 장르는 플레이어가 자신의 캐릭터를 조종하여 지속적으로 생성되는 적을 물리치고 생존을 추구하는 게임 유형으로, 주로 롤플레잉 요소를 포함합니다.\"}, {\"term\": \"몬스터\", \"description\": \"게임 내에서 플레이어를 공격하고 적대하는 요소로, 다양한 능력과 특성을 가지고 있으며, 게임의 난이도를 높이는 요소로 작용합니다.\"}, {\"term\": \"스프라이트\", \"description\": \"스프라이트는 2D 게임에서 사용되는 잘라낸 이미지나 그림을 의미합니다. 캐릭터, 아이템, 이펙트 등 다양한 요소의 비주얼을 표현할 수 있습니다.\"}, {\"term\": \"애니메이터\", \"description\": \"애니메이터는 유니티에서 애니메이션을 관리하는 컴포넌트로, 스프라이트의 움직임을 정의하고 애니메이션을 추가할 수 있습니다.\"}, {\"term\": \"스クリ프트\", \"description\": \"스クリ프트는 유니티에서 게임 로직을 구현하는 스크립팅 언어로, 게임의 로직과 조작을 정의할 수 있습니다.\"}, {\"term\": \"리포지션\", \"description\": \"몬스터의 위치를 랜덤하게 재배치하는 기능으로, 게임의 동적인 요소를 추가하고 플레이어의 경험을 다양하게 만듭니다.\"}, {\"term\": \"콜라이더 2D\", \"description\": \"콜라이더 2D 컴포넌트는 2D 공간에서 오브젝트의 물리적 경계를 정의하는 기능을 제공하며, 캐릭터의 충돌 처리를 보다 쉽게 만들어 줍니다.\"}, {\"term\": \"에셋\", \"description\": \"게임 개발에서 에셋은 음악, 이미지, 모델 등 게임 내에서 사용되는 요소들을 의미합니다. 에셋은 게임의 비주얼과 사운드 요소를 구축하는 중요한 역할을 합니다.\"}, {\"term\": \"몬스터 AI\", \"description\": \"몬스터의 행동을 조절하는 로직으로, 플레이어를 추적하거나 특정한 행동을 할 수 있도록 설정합니다.\"}, {\"term\": \"유니티 허브\", \"description\": \"유니티 허브는 유니티 엔진의 다양한 버전을 관리하고 프로젝트를 생성할 수 있는 툴로, 버전 관리와 라이센스 관리를 돕습니다.\"}]\n",
      "Inference Time: 48.53 seconds\n",
      "Peak GPU Memory Usage: 10.00 GB\n",
      "BLEU score: 0.0433\n",
      "Log probability score (sum): -60.6069\n",
      "\n",
      "==== Example 7 ====\n"
     ]
    },
    {
     "name": "stderr",
     "output_type": "stream",
     "text": [
      "Setting `pad_token_id` to `eos_token_id`:128009 for open-end generation.\n"
     ]
    },
    {
     "name": "stdout",
     "output_type": "stream",
     "text": [
      "Candidate output:\n",
      "[{'term': '유니티', 'description': '유니티는 게임 및 시뮬레이션 개발에 널리 사용되는 엔진으로, 2D 및 3D 게임을 제작하는 데 필요한 다양한 툴과 기능을 제공합니다. 다양한 플랫폼에 배포할 수 있는 크로스 플랫폼 기능이 특징입니다.'}, \n",
      "{'term': '오브젝트 풀링', 'description': '오브젝트 풀링은 게임에서 반복적으로 사용되는 오브젝트를 미리 생성해두고, 필요할 때 해당 오브젝트를 풀링하여 게임에 추가하는 방식으로 메모리 사용을 최적화하고 성능을 향상시키는 기술입니다.'}, \n",
      "{'term': '프리팹', 'description': '프리팹은 미리 만들어둔 오브젝트의 템플릿을 의미하며, 게임에서 반복적으로 사용되는 오브젝트를 미리 생성하여 게임의 로딩 시간을 줄이고, 메모리 사용을 최적화하는 데 사용됩니다.'}, \n",
      "{'term': '풀 매니저', 'description': '풀 매니저는 오브젝트 풀링 시스템을 관리하는 컴포넌트로, 오브젝트 풀에 있는 오브젝트를 생성하고 관리하는 역할을 합니다.'}, \n",
      "{'term': '에셋', 'description': '게임 개발에서 에셋은 음악, 이미지, 모델 등 게임 내에서 사용되는 요소들을 의미합니다. 에셋은 게임의 비주얼과 사운드 요소를 구축하는 중요한 역할을 합니다.'}, \n",
      "{'term': '리지드 바디 2D', 'description': '리지드 바디 2D 컴포넌트는 물리적 상호작용을 위해 오브젝트에 물리적 특성을 부여하는 기능을 제공하며, 중력이나 충돌 감지 등을 설정할 수 있습니다.'}, \n",
      "{'term': '캡슐 콜라이더 2D', 'description': '캡슐 콜라이더 2D는 2D 공간에서 오브젝트의 물리적 경계를 정의하는 컴포넌트로, 캐릭터의 충돌 처리를 보다 쉽게 만들어 줍니다.'}, \n",
      "{'term': '그래비티 스케일', 'description': '그래비티 스케일은 리지드 바디 컴포넌트에서 중력의 영향을 얼마나 받을지를 결정하는 값으로, 0으로 설정하면 중력이 적용되지 않도록 할 수 있습니다.'}, \n",
      "{'term': '유니티 허브', 'description': '유니티 허브는 유니티 엔진의 다양한 버전을 관리하고 프로젝트를 생성할 수 있는 툴로, 버전 관리와 라이센스 관리를 돕습니다.'}, \n",
      "{'term': 'URP (Universal Render Pipeline)', 'description': 'URP는 유니티에서 제공하는 렌더링 파이프라인의 하나로, 다양한 플랫폼에서 최적화된 성능을 제공하면서도 시각적으로 우수한 결과를 만들어낼 수 있게끔 설계되었습니다.'}, \n",
      "{'term': '스프라이트 설정', 'description': '스프라이트 설정은 스프라이트 이미지의 해상도, 필터링 등 다양한 속성을 조정하여 게임 내 비주얼 품질을 최적화하는 과정입니다.'}]\n",
      "Inference Time: 55.42 seconds\n",
      "Peak GPU Memory Usage: 9.70 GB\n",
      "BLEU score: 0.0085\n",
      "Log probability score (sum): -42.6995\n",
      "\n",
      "==== Example 8 ====\n"
     ]
    },
    {
     "name": "stderr",
     "output_type": "stream",
     "text": [
      "Setting `pad_token_id` to `eos_token_id`:128009 for open-end generation.\n"
     ]
    },
    {
     "name": "stdout",
     "output_type": "stream",
     "text": [
      "Candidate output:\n",
      "[{'term': '유니티', 'description': '유니티는 게임 및 시뮬레이션 개발에 널리 사용되는 엔진으로, 2D 및 3D 게임을 제작하는 데 필요한 다양한 툴과 기능을 제공합니다. 다양한 플랫폼에 배포할 수 있는 크로스 플랫폼 기능이 특징입니다.'}, \n",
      "{'term': '뱀서라이크', 'description': '뱀서라이크 게임 장르는 플레이어가 자신의 캐릭터를 조종하여 지속적으로 생성되는 적을 물리치고 생존을 추구하는 게임 유형으로, 주로 롤플레잉 요소를 포함합니다.'}, \n",
      "{'term': '게임 매니저', 'description': '게임 매니저는 게임의 흐름을 관리하는 스크립트로, 게임의 상태, 이벤트, 시간 등을 제어하는 역할을 합니다.'}, \n",
      "{'term': '게임 타임', 'description': '게임 타임은 게임의 시간을 나타내며, 게임의 진행 상황을 측정하는 변수입니다.'}, \n",
      "{'term': 'SpawnData', 'description': 'SpawnData 클래스는 몬스터의 속성(타입, 소환 타임, 체력, 스피드)을 정의하고 직렬화하여 게임에서 활용할 수 있도록 하는 클래스입니다.'}, \n",
      "{'term': '직렬화', 'description': '직렬화는 데이터를 특정 형식으로 변환하여 저장하거나 전송하는 과정으로, 유니티에서는 직렬화된 데이터를 쉽게 저장하고 불러올 수 있습니다.'}, \n",
      "{'term': '오브젝트 풀링', 'description': '오브젝트 풀링은 유니티에서 오브젝트를 생성하고 관리하는 방법으로, 게임에서 필요한 다양한 오브젝트를 효율적으로 생성하고 조작할 수 있습니다.'}, \n",
      "{'term': '레벨', 'description': '레벨은 게임에서 플레이어의 진행 상황을 나타내며, 레벨이 증가하면 게임의 난이도나 도전 과제가 증가할 수 있습니다.'}, \n",
      "{'term': '몬스터', 'description': '몬스터는 게임에서 플레이어에게 위협하는 인공지능(AI) 캐릭터로, 레벨, 체력, 스피드 등의 속성을 가집니다.'}, \n",
      "{'term': '애니메이터', 'description': '애니메이터는 유니티에서 캐릭터의 움직임을 정의하고 애니메이션을 관리하는 컴포넌트로, 캐릭터의 생명력과 움직임을 제어할 수 있습니다.'}]\n",
      "Inference Time: 41.90 seconds\n",
      "Peak GPU Memory Usage: 9.80 GB\n",
      "BLEU score: 0.0052\n",
      "Log probability score (sum): -73.8927\n",
      "\n",
      "==== Example 9 ====\n"
     ]
    },
    {
     "name": "stderr",
     "output_type": "stream",
     "text": [
      "Setting `pad_token_id` to `eos_token_id`:128009 for open-end generation.\n"
     ]
    },
    {
     "name": "stdout",
     "output_type": "stream",
     "text": [
      "Candidate output:\n",
      "[{'term': '유니티', 'description': '유니티는 게임 및 시뮬레이션 개발에 널리 사용되는 엔진으로, 2D 및 3D 게임을 제작하는 데 필요한 다양한 툴과 기능을 제공합니다. 다양한 플랫폼에 배포할 수 있는 크로스 플랫폼 기능이 특징입니다.'}, {'term': '프리펩', 'description': '프리펩은 유니티에서 게임 오브젝트의 인스턴스를 쉽게 재사용할 수 있도록 도와주는 유용한 기능입니다. 오브젝트의 속성과 외형을 미리 정의하여 다양한 상황에서 빠르게 오브젝트를 배치할 수 있습니다.'}, {'term': '충돌 로직', 'description': '충돌 로직은 게임 내에서 오브젝트가 서로 충돌할 때의 반응을 정의하는 알고리즘을 의미합니다. 충돌 이벤트를 감지하고 적절한 행동을 취하도록 하는 스크립트나 메서드를 작성합니다.'}, {'term': '스클립트', 'description': '스클립트는 유니티에서 게임 로직을 구현하는 데 사용되는 스크립트 컴포넌트로, C# 언어를 기반으로 작성됩니다. 다양한 게임 로직을 구현할 수 있는 유연한 도구입니다.'}, {'term': '리지드 바디 2D', 'description': '리지드 바디 2D 컴포넌트는 물리적 상호작용을 위해 오브젝트에 물리적 특성을 부여하는 기능을 제공합니다. 중력, 충돌 감지, 회전 등 물리적 행동을 설정할 수 있습니다.'}, {'term': '캡슐 콜라이더 2D', 'description': '캡슐 콜라이더 2D는 2D 공간에서 오브젝트의 물리적 경계를 정의하는 컴포넌트로, 캐릭터의 충돌 처리를 보다 쉽게 만들어 줍니다.'}, {'term': '그래비티 스케일', 'description': '그래비티 스케일은 리지드 바디 컴포넌트에서 중력의 영향을 얼마나 받을지를 결정하는 값으로, 0으로 설정하면 중력이 적용되지 않도록 할 수 있습니다.'}, {'term': '유니티 허브', 'description': '유니티 허브는 유니티 엔진의 다양한 버전을 관리하고 프로젝트를 생성할 수 있는 툴로, 버전 관리와 라이센스 관리를 돕습니다.'}, {'term': 'URP (Universal Render Pipeline)', 'description': 'URP는 유니티에서 제공하는 렌더링 파이프라인의 하나로, 다양한 플랫폼에서 최적화된 성능을 제공하면서도 시각적으로 우수한 결과를 만들어낼 수 있게끔 설계되었습니다.'}, {'term': '스프라이트 설정', 'description': '스프라이트 설정은 스프라이트 이미지의 해상도, 필터링 등 다양한 속성을 조정하여 게임 내 비주얼 품질을 최적화하는 과정입니다.'}, {'term': '타임라인', 'description': '타임라인은 유니티에서 게임의 시각적 요소를 시퀀스적으로 조작하고 관리하는 기능입니다. 게임의 진행 상황을 시각적으로 표현하고, 애니메이션을 조절할 수 있습니다.'}, {'term': '플레이어', 'description': '플레이어는 게임에서 사용자의 입력을 받아 게임 캐릭터를 조종하는 주체를 의미합니다. 플레이어의 동작과 행동을 통해 게임의 전개를 진행합니다.'}, {'term': '애니메이션', 'description': '애니메이션은 게임 내에서 캐릭터나 오브젝트의 움직임을 시각적으로 표현하는 기술입니다. 유니티에서는 스프라이트와 함께 애니메이션을 통해 캐릭터의 동작을 자연스럽게 구현할 수 있습니다.'}, {'term': '충돌 이벤트', 'description': '충돌 이벤트는 게임 내에서 오브젝트가 충돌할 때 발생하는 특정한 이벤트를 의미합니다. 충돌 로직을 통해 적절한 반응을 정의하고, 게임의 논리적 흐름을 제어합니다.'}, {'term': '스무스한 애니메이션', 'description': '스무스한 애니메이션은 움직임이 자연스럽고 부드럽게 느껴지는 애니메이션을 의미합니다. 유니티에서는 변수와\n",
      "Inference Time: 74.59 seconds\n",
      "Peak GPU Memory Usage: 9.80 GB\n",
      "BLEU score: 0.0034\n",
      "Log probability score (sum): -119.7557\n",
      "\n",
      "==== Example 10 ====\n",
      "Candidate output:\n",
      "[{'term': '유니티', 'description': '유니티는 게임 및 시뮬레이션 개발에 널리 사용되는 엔진으로, 2D 및 3D 게임을 제작하는 데 필요한 다양한 툴과 기능을 제공합니다. 다양한 플랫폼에 배포할 수 있는 크로스 플랫폼 기능이 특징입니다.'}, {'term': '뱀서라이크', 'description': '뱀서라이크 게임 장르는 플레이어가 자신의 캐릭터를 조종하여 지속적으로 생성되는 적을 물리치고 생존을 추구하는 게임 유형으로, 주로 롤플레잉 요소를 포함합니다.'}, {'term': '스캐너', 'description': '스캐너는 게임 오브젝트가 특정한 조건을 만족하는 다른 오브젝트를 감지하고 인식하는 기능을 수행하는 컴포넌트입니다.'}, {'term': '레이어', 'description': '레이어는 물리적 구분을 위한 기능으로, 오브젝트를 서로 다른 물리적 특성 그룹으로 나누어 관리할 수 있게 합니다.'}, {'term': '스클립트', 'description': '스클립트는 유니티에서 사용되는 스크립트 언어로, 게임 로직을 작성하여 오브젝트의 행동을 정의할 수 있습니다.'}, {'term': '레이캐스트', 'description': '레이캐스트는 2D나 3D 공간 내에서 오브젝트와의 물리적 상호작용을 시뮬레이션하는 도구로, 충돌 감지나 거리 측정 등의 기능을 제공합니다.'}, {'term': 'Fixed Update', 'description': 'Fixed Update 함수는 유니티에서 프레임에 상관없이 고정된 시간 간격으로 호출되는 업데이트 메서드로, 게임 로직을 일정한 시간마다 실행할 수 있습니다.'}, {'term': '몬스터', 'description': '몬스터는 게임에서 플레이어를 공격하는 적 오브젝트를 의미하며, 다양한 능력과 특성을 가지고 있습니다.'}, {'term': '스캐너 범위', 'description': '스캐너가 감지할 수 있는 범위를 정의하는 변수로, 원형, 사각형 등 다양한 형태로 설정할 수 있습니다.'}, {'term': '레이어 마스크', 'description': '레이어 마스크는 오브젝트의 레이어를 특정한 조건으로 필터링하여 감지하는 기능을 수행합니다.'}, {'term': '플레이어', 'description': '플레이어는 게임에서 플레이어가 조종하는 캐릭터를 의미하며, 게임의 주요 조종 인물입니다.'}]\n",
      "Inference Time: 43.12 seconds\n",
      "Peak GPU Memory Usage: 9.90 GB\n",
      "BLEU score: 0.0044\n",
      "Log probability score (sum): -118.3916\n"
     ]
    },
    {
     "data": {
      "text/html": [],
      "text/plain": [
       "<IPython.core.display.HTML object>"
      ]
     },
     "metadata": {},
     "output_type": "display_data"
    },
    {
     "data": {
      "text/html": [
       "<br>    <style><br>        .wandb-row {<br>            display: flex;<br>            flex-direction: row;<br>            flex-wrap: wrap;<br>            justify-content: flex-start;<br>            width: 100%;<br>        }<br>        .wandb-col {<br>            display: flex;<br>            flex-direction: column;<br>            flex-basis: 100%;<br>            flex: 1;<br>            padding: 10px;<br>        }<br>    </style><br><div class=\"wandb-row\"><div class=\"wandb-col\"><h3>Run history:</h3><br/><table class=\"wandb\"><tr><td>BLEU_score</td><td>█▁▁▁▁▁▁▁▁▁</td></tr><tr><td>Inference_time_sec</td><td>▃▁▃▄▄▃▄▁█▁</td></tr><tr><td>Log_probability_score</td><td>█▃▂▅▁▅▆▄▂▂</td></tr><tr><td>Peak_GPU_Memory_GB</td><td>▁▇▆▅▇█▅▆▆▇</td></tr><tr><td>basic_memory</td><td>▁</td></tr><tr><td>example_index</td><td>▁▂▃▃▄▅▆▆▇█</td></tr></table><br/></div><div class=\"wandb-col\"><h3>Run summary:</h3><br/><table class=\"wandb\"><tr><td>BLEU_score</td><td>0.00443</td></tr><tr><td>Inference_time_sec</td><td>43.12159</td></tr><tr><td>Log_probability_score</td><td>-118.39163</td></tr><tr><td>Peak_GPU_Memory_GB</td><td>9.9</td></tr><tr><td>basic_memory</td><td>8.5</td></tr><tr><td>example_index</td><td>9</td></tr></table><br/></div></div>"
      ],
      "text/plain": [
       "<IPython.core.display.HTML object>"
      ]
     },
     "metadata": {},
     "output_type": "display_data"
    },
    {
     "data": {
      "text/html": [
       " View run <strong style=\"color:#cdcd00\">8B_8Bit_Quant</strong> at: <a href='https://wandb.ai/iamkimhongil92-lumenasoft/hangae_Final/runs/0aj8anug' target=\"_blank\">https://wandb.ai/iamkimhongil92-lumenasoft/hangae_Final/runs/0aj8anug</a><br> View project at: <a href='https://wandb.ai/iamkimhongil92-lumenasoft/hangae_Final' target=\"_blank\">https://wandb.ai/iamkimhongil92-lumenasoft/hangae_Final</a><br>Synced 5 W&B file(s), 0 media file(s), 0 artifact file(s) and 0 other file(s)"
      ],
      "text/plain": [
       "<IPython.core.display.HTML object>"
      ]
     },
     "metadata": {},
     "output_type": "display_data"
    },
    {
     "data": {
      "text/html": [
       "Find logs at: <code>./wandb/run-20250213_123519-0aj8anug/logs</code>"
      ],
      "text/plain": [
       "<IPython.core.display.HTML object>"
      ]
     },
     "metadata": {},
     "output_type": "display_data"
    }
   ],
   "source": [
    "import json\n",
    "import time\n",
    "import torch\n",
    "import transformers\n",
    "import wandb\n",
    "from nltk.translate.bleu_score import sentence_bleu, SmoothingFunction\n",
    "import nltk\n",
    "from transformers import BitsAndBytesConfig\n",
    "from transformers import AutoModelForCausalLM\n",
    "\n",
    "# nltk 다운로드 (최초 1회)\n",
    "nltk.download('punkt')\n",
    "\n",
    "# wandb 초기화\n",
    "wandb.init(project=\"hangae_Final\", name=\"8B_8Bit_Quant\")\n",
    "\n",
    "# corpus.json 파일 로드 (UTF-8 인코딩)\n",
    "with open(\"./corpus.json\", \"r\", encoding=\"utf-8\") as f:\n",
    "    evaluation_data = json.load(f)\n",
    "\n",
    "# 10개만 추론\n",
    "evaluation_data = evaluation_data[:10]\n",
    "\n",
    "# 허깅페이스 방식으로 모델 및 파이프라인 초기화\n",
    "model_id = \"MLP-KTLim/llama-3-Korean-Bllossom-8B\"\n",
    "model = AutoModelForCausalLM.from_pretrained(\n",
    "    model_id,\n",
    "    load_in_8bit=True,  # 8비트 양자화 적용\n",
    "    device_map=\"auto\"\n",
    ")\n",
    "generator = transformers.pipeline(\n",
    "    \"text-generation\",\n",
    "    model=model,\n",
    "    tokenizer=model_id,\n",
    "    device_map=\"auto\",\n",
    ")\n",
    "generator.model.eval()\n",
    "\n",
    "# 시스템 프롬프트 정의\n",
    "SYSTEM_PROMPT = (\n",
    "    \"You are a helpful AI assistant. Please answer the user's questions kindly. \"\n",
    "    \"당신은 유능한 AI 어시스턴트 입니다. 사용자의 질문에 대해 친절하게 답변해주세요.\"\n",
    ")\n",
    "\n",
    "# 채팅 템플릿을 적용하여 프롬프트를 생성하는 함수\n",
    "def make_prompt(system_msg: str, user_msg: str) -> str:\n",
    "\n",
    "    msg = f\"\"\"\n",
    "다음은 유튜브 타임라인 요약 문서입니다. 이 내용을 분석하여 10개의 핵심 용어(KeyPoint)와 설명을 생성하세요.\n",
    "설명을 생성할 때 영상 위주가 아닌 최대한 전문적이고 구체적으로 추가 설명해주세요. 저는 영상 내용 뿐 아니라 그 용어에 대한 내용을 알고 싶습니다.\n",
    "중요하지 않더라도 알면 좋을 추가 핵심 용어도 더해주세요.\n",
    "\n",
    "[타임라인 요약]:\n",
    "{user_msg}\n",
    "\n",
    "[가이드]:\n",
    "- 필드는 `term`과 `description`을 포함하며, 결과는  10개의 키포인트 리스트로 구성됩니다.\n",
    "- 반드시 JSON 형식에 맞춰 반환하세요.\n",
    "- 다른 텍스트는 포함하지 마세요.\n",
    "\n",
    "[예시]:\n",
    "{evaluation_data[0]['output']}\n",
    "\"\"\"\n",
    "\n",
    "    messages = [\n",
    "        {\"role\": \"system\", \"content\": system_msg},\n",
    "        {\"role\": \"user\", \"content\": msg}\n",
    "    ]\n",
    "    prompt = generator.tokenizer.apply_chat_template(\n",
    "        messages,\n",
    "        tokenize=False,\n",
    "        add_generation_prompt=True\n",
    "    )\n",
    "    return prompt\n",
    "\n",
    "# 종료 토큰 설정\n",
    "terminators = [\n",
    "    generator.tokenizer.eos_token_id,\n",
    "    generator.tokenizer.convert_tokens_to_ids(\"<|eot_id|>\")\n",
    "]\n",
    "\n",
    "print(f'{round(generator.model.get_memory_footprint() / (1024 ** 3), 1)}GB')\n",
    "wandb.log({\"basic_memory\": round(generator.model.get_memory_footprint() / (1024 ** 3), 1)})\n",
    "\n",
    "\n",
    "# 평가 루프: corpus.json에 있는 각 예제에 대해 추론 수행\n",
    "for idx, example in enumerate(evaluation_data):\n",
    "    print(f\"\\n==== Example {idx+1} ====\")\n",
    "\n",
    "    # 사용자 입력과 프롬프트 생성\n",
    "    user_input = example[\"input\"]\n",
    "    prompt = make_prompt(SYSTEM_PROMPT, user_input)\n",
    "\n",
    "    # 입력 토큰 인코딩\n",
    "    encoded_input = generator.tokenizer(prompt, return_tensors=\"pt\")\n",
    "    encoded_input = {k: v.to(generator.model.device) for k, v in encoded_input.items()}\n",
    "    prompt_length = encoded_input[\"input_ids\"].shape[1]\n",
    "\n",
    "    # 속도 및 메모리 측정을 위한 시작 시간 기록 및 GPU 메모리 초기화\n",
    "    start_time = time.time()\n",
    "    if torch.cuda.is_available():\n",
    "        torch.cuda.reset_peak_memory_stats(generator.model.device)\n",
    "\n",
    "    # 모델 생성: 토큰별 score 반환 포함\n",
    "    outputs = generator.model.generate(\n",
    "        **encoded_input,\n",
    "        max_new_tokens=1024,\n",
    "        eos_token_id=terminators[0],\n",
    "        do_sample=True,\n",
    "        temperature=0.6,\n",
    "        top_p=0.9,\n",
    "        return_dict_in_generate=True,\n",
    "        output_scores=True,\n",
    "    )\n",
    "\n",
    "    # GPU 동기화 후 종료 시간 기록\n",
    "    if torch.cuda.is_available():\n",
    "        torch.cuda.synchronize(generator.model.device)\n",
    "    end_time = time.time()\n",
    "    elapsed_time = end_time - start_time\n",
    "\n",
    "    # GPU 메모리 사용량 측정 (Peak 메모리, MB 단위)\n",
    "    if torch.cuda.is_available():\n",
    "        peak_memory = round(torch.cuda.max_memory_allocated(generator.model.device) / (1024 ** 3), 1)\n",
    "    else:\n",
    "        peak_memory = 0\n",
    "\n",
    "    # 생성된 전체 토큰에서 프롬프트 이후의 candidate 토큰 추출\n",
    "    generated_ids = outputs.sequences[0]\n",
    "    candidate_ids = generated_ids[prompt_length:]\n",
    "    candidate_text = generator.tokenizer.decode(candidate_ids, skip_special_tokens=True).strip()\n",
    "\n",
    "    print(\"Candidate output:\")\n",
    "    print(candidate_text)\n",
    "    print(f\"Inference Time: {elapsed_time:.2f} seconds\")\n",
    "    print(f\"Peak GPU Memory Usage: {peak_memory:.2f} GB\")\n",
    "\n",
    "    # 참조 텍스트: evaluation_data의 \"output\"을 JSON 문자열로 변환\n",
    "    reference_text = json.dumps(example[\"output\"], ensure_ascii=False, indent=2)\n",
    "\n",
    "    # BLEU 점수 계산 (공백 기준 토큰화)\n",
    "    candidate_tokens = candidate_text.split()\n",
    "    reference_tokens = reference_text.split()\n",
    "    bleu = sentence_bleu(\n",
    "        [reference_tokens],\n",
    "        candidate_tokens,\n",
    "        smoothing_function=SmoothingFunction().method1\n",
    "    )\n",
    "    print(f\"BLEU score: {bleu:.4f}\")\n",
    "\n",
    "    # 로그 확률 계산: 각 생성 토큰에 대해 log‑softmax 후 선택된 토큰의 로그 확률 합산\n",
    "    log_score = 0.0\n",
    "    for i, step_scores in enumerate(outputs.scores):\n",
    "        log_probs = torch.log_softmax(step_scores, dim=-1)\n",
    "        token_id = candidate_ids[i].unsqueeze(0)  # shape: (1,)\n",
    "        token_log_prob = log_probs[0, token_id].item()\n",
    "        log_score += token_log_prob\n",
    "    print(f\"Log probability score (sum): {log_score:.4f}\")\n",
    "\n",
    "    # wandb에 메트릭 로깅\n",
    "    wandb.log({\n",
    "        \"example_index\": idx,\n",
    "        \"BLEU_score\": bleu,\n",
    "        \"Inference_time_sec\": elapsed_time,\n",
    "        \"Peak_GPU_Memory_GB\": peak_memory,\n",
    "        \"Log_probability_score\": log_score\n",
    "    })\n",
    "\n",
    "wandb.finish()"
   ]
  },
  {
   "cell_type": "code",
   "execution_count": null,
   "metadata": {},
   "outputs": [],
   "source": []
  }
 ],
 "metadata": {
  "kernelspec": {
   "display_name": "Python 3 (ipykernel)",
   "language": "python",
   "name": "python3"
  },
  "language_info": {
   "codemirror_mode": {
    "name": "ipython",
    "version": 3
   },
   "file_extension": ".py",
   "mimetype": "text/x-python",
   "name": "python",
   "nbconvert_exporter": "python",
   "pygments_lexer": "ipython3",
   "version": "3.10.12"
  }
 },
 "nbformat": 4,
 "nbformat_minor": 4
}
