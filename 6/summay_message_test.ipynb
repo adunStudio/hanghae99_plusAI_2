{
 "cells": [
  {
   "cell_type": "code",
   "execution_count": 1,
   "outputs": [],
   "source": [
    "import os\n",
    "from dotenv import load_dotenv\n",
    "\n",
    "load_dotenv()\n",
    "\n",
    "OPENAI_API_KEY = os.environ['OPENAI_API_KEY']"
   ],
   "metadata": {
    "collapsed": false
   }
  },
  {
   "cell_type": "code",
   "execution_count": 2,
   "outputs": [],
   "source": [
    "from messages import AdvancedAIMessage, AdvancedHumanMessage\n",
    "from messages.summary_messages import SummaryMessages"
   ],
   "metadata": {
    "collapsed": false
   }
  },
  {
   "cell_type": "code",
   "execution_count": 3,
   "outputs": [],
   "source": [
    "summary_messages = SummaryMessages(OPENAI_API_KEY, 300, 2)"
   ],
   "metadata": {
    "collapsed": false
   }
  },
  {
   "cell_type": "code",
   "execution_count": 4,
   "outputs": [],
   "source": [
    "summary_messages.append(AdvancedAIMessage(content='안녕하세요! 이미지를 보면서 이야기를 나눠봐요. 궁금한 점을 물어보세요!'))\n",
    "summary_messages.append(AdvancedHumanMessage(content='두 사진의 공통점은?'))\n",
    "summary_messages.append(AdvancedAIMessage(content='두 사진의 공통점은 모두 애완동물인 고양이와 개를 담고 있다는 점입니다. 각각의 동물이 자연스러운 환경에서 편안하게 있는 모습이 포착되어 있습니다.'))\n",
    "summary_messages.append(AdvancedHumanMessage(content='두 사진의 차이점은?'))\n",
    "summary_messages.append(AdvancedAIMessage(content='첫 번째 사진은 고양이가 편안하게 누워 있는 모습이고, 두 번째 사진은 개가 수영하고 있는 모습입니다. 고양이는 집 안의 소파나 침대에 있는 듯 하고, 개는 물속에서 활동적인 모습을 보이고 있습니다. 고양이는 일반적으로 조용하고 독립적인 반면, 개는 물놀이를 즐기는 활발한 모습을 하고 있습니다.'))\n",
    "summary_messages.append(AdvancedHumanMessage(content='내 이름은 티모'))\n",
    "summary_messages.append(AdvancedAIMessage(content='만나서 반가워요 티모!'))"
   ],
   "metadata": {
    "collapsed": false
   }
  },
  {
   "cell_type": "code",
   "execution_count": 5,
   "outputs": [
    {
     "name": "stdout",
     "output_type": "stream",
     "text": [
      "현재 토큰: 172\n",
      "[AdvancedAIMessage(content='안녕하세요! 이미지를 보면서 이야기를 나눠봐요. 궁금한 점을 물어보세요!', additional_kwargs={}, response_metadata={}), AdvancedHumanMessage(content='두 사진의 공통점은?', additional_kwargs={}, response_metadata={}), AdvancedAIMessage(content='두 사진의 공통점은 모두 애완동물인 고양이와 개를 담고 있다는 점입니다. 각각의 동물이 자연스러운 환경에서 편안하게 있는 모습이 포착되어 있습니다.', additional_kwargs={}, response_metadata={}), AdvancedHumanMessage(content='두 사진의 차이점은?', additional_kwargs={}, response_metadata={}), AdvancedAIMessage(content='첫 번째 사진은 고양이가 편안하게 누워 있는 모습이고, 두 번째 사진은 개가 수영하고 있는 모습입니다. 고양이는 집 안의 소파나 침대에 있는 듯 하고, 개는 물속에서 활동적인 모습을 보이고 있습니다. 고양이는 일반적으로 조용하고 독립적인 반면, 개는 물놀이를 즐기는 활발한 모습을 하고 있습니다.', additional_kwargs={}, response_metadata={}), AdvancedHumanMessage(content='내 이름은 티모', additional_kwargs={}, response_metadata={}), AdvancedAIMessage(content='만나서 반가워요 티모!', additional_kwargs={}, response_metadata={})]\n"
     ]
    }
   ],
   "source": [
    "print(summary_messages.get())"
   ],
   "metadata": {
    "collapsed": false
   }
  },
  {
   "cell_type": "code",
   "execution_count": 6,
   "outputs": [],
   "source": [
    "summary_messages.append(AdvancedHumanMessage(content='사전심사는 최대 잔금일 몇주전부터 가능한가?'))\n",
    "summary_messages.append(AdvancedAIMessage(content='버팀목 전세자금 대출의 사전 심사(가심사)는 일반적으로 임대차계약 체결 후, 잔금 지급일과 전입일 중 빠른 날로부터 3개월 이내에 신청해야 합니다. 사전 심사 결과는 한 달간 유효하므로, 잔금일 약 한 달 전에 신청하는 것이 적절합니다. 너무 일찍 신청하면 유효기간이 만료되어 재심사를 받아야 할 수 있으니 주의하시기 바랍니다. '))\n",
    "summary_messages.append(AdvancedHumanMessage(content='최종때 임의로 더 적게 신청가능한가?'))\n",
    "summary_messages.append(AdvancedAIMessage(content='버팀목 전세자금 대출의 사전 심사 단계에서 입력한 대출 신청 금액은 최종 대출 금액과 일치하지 않을 수 있습니다. 사전 심사는 신청자의 자산, 소득, 신용도 등을 검토하여 대출 자격을 판단하는 과정이며, 이때 입력한 금액은 희망 대출 금액을 의미합니다. 그러나 실제 대출 한도는 임차보증금의 80% 이내에서 결정되며, 지역별 최대 한도(수도권 1.2억 원, 수도권 외 0.8억 원)를 초과할 수 없습니다.'))"
   ],
   "metadata": {
    "collapsed": false
   }
  },
  {
   "cell_type": "code",
   "execution_count": 7,
   "outputs": [
    {
     "name": "stdout",
     "output_type": "stream",
     "text": [
      "현재 토큰: 315\n",
      "요약 시작(315)\n",
      "요약 완료(98)\n",
      "[AdvancedAIMessage(content='대화에서는 티모라는 사용자가 AI와 여러 주제에 대해 이야기하고 있습니다. AI는 사진 속 고양이와 개의 공통점과 차이점에 대해 설명하며, 티모의 이름을 알아챕니다. 이후, 사용자는 버팀목 전세자금 대출의 사전 심사 시점에 대해 질문하고, AI는 신청 시기를 잔금일 약 한 달 전에 하는 것이 적절하다고 안내합니다.', additional_kwargs={}, response_metadata={}), AdvancedHumanMessage(content='최종때 임의로 더 적게 신청가능한가?', additional_kwargs={}, response_metadata={}), AdvancedAIMessage(content='버팀목 전세자금 대출의 사전 심사 단계에서 입력한 대출 신청 금액은 최종 대출 금액과 일치하지 않을 수 있습니다. 사전 심사는 신청자의 자산, 소득, 신용도 등을 검토하여 대출 자격을 판단하는 과정이며, 이때 입력한 금액은 희망 대출 금액을 의미합니다. 그러나 실제 대출 한도는 임차보증금의 80% 이내에서 결정되며, 지역별 최대 한도(수도권 1.2억 원, 수도권 외 0.8억 원)를 초과할 수 없습니다.', additional_kwargs={}, response_metadata={})]\n"
     ]
    }
   ],
   "source": [
    "print(summary_messages.get())"
   ],
   "metadata": {
    "collapsed": false
   }
  },
  {
   "cell_type": "code",
   "execution_count": 8,
   "outputs": [],
   "source": [
    "summary_messages.append(AdvancedHumanMessage(content='리얼타임 gi란??'))\n",
    "summary_messages.append(AdvancedAIMessage(content='리얼타임 GI(Global Illumination)은 실시간으로 조명과 그에 따른 간접 광원을 계산하여 환경에 반영하는 기술입니다. 이를 통해 보다 현실적이고 동적인 조명 효과를 구현할 수 있습니다.리얼타임 GI의 특징은 다음과 같습니다: 1.\t간접 조명 처리: 빛이 표면에 닿고 반사되며 주변 환경에 영향을 주는 간접 조명 효과를 실시간으로 계산합니다. 2.\t동적 조명 변화: 조명이나 오브젝트의 변화에 즉각 반응하여 씬의 조명 상태를 업데이트합니다.3.\t현실감 증가: 빛의 반사와 색상 전이를 포함하여 환경의 분위기를 보다 자연스럽게 표현합니다.'))\n",
    "summary_messages.append(AdvancedHumanMessage(content='리얼타임 gi를 쓰는 경우 여러 씬을 빌드하면 잘 되지만 단독 씬만 빌드하면 잘 안되기도 하나?'))\n",
    "summary_messages.append(AdvancedAIMessage(content='여러 씬에서 잘 동작하는데 단일 씬에서 문제가 발생한다면, 가장 큰 원인은 GI 데이터 누락 또는 씬 의존성일 가능성이 높습니다. 단독 씬 빌드를 하기 전에 GI 데이터가 제대로 빌드되었는지 확인하고, 씬 간 공유 자원을 점검하는 것이 좋습니다.언리얼 엔진을 사용하는 경우, Lumen 관련 로그와 설정을 점검하여 구체적인 원인을 확인하세요. Unity라면 Enlighten 또는 GPU Progressive GI 설정을 확인해야 합니다.'))"
   ],
   "metadata": {
    "collapsed": false
   }
  },
  {
   "cell_type": "code",
   "execution_count": 9,
   "outputs": [
    {
     "name": "stdout",
     "output_type": "stream",
     "text": [
      "현재 토큰: 328\n",
      "요약 시작(328)\n",
      "요약 완료(163)\n",
      "[AdvancedAIMessage(content='대화에서는 사용자가 AI와 다양한 주제에 대해 이야기하고 있습니다. 고양이와 개의 공통점 및 차이점에 대해 설명하였고, 티모의 이름이 언급되었습니다. 이후 버팀목 전세자금 대출의 사전 심사 시점에 대해 질문하였고, AI는 잔금일 약 한 달 전에 신청하는 것이 적절하다고 안내했습니다. 추가로, 사용자는 대출 신청 금액의 변경 가능성과 리얼타임 GI(Global Illumination) 기술에 대해 질문하였으며, AI는 사전 심사 단계에서 최종 대출 금액이 희망 금액과 다를 수 있다는 정보를 제공하고, 리얼타임 GI의 특징 및 효과에 대해 설명했습니다.', additional_kwargs={}, response_metadata={}), AdvancedHumanMessage(content='리얼타임 gi를 쓰는 경우 여러 씬을 빌드하면 잘 되지만 단독 씬만 빌드하면 잘 안되기도 하나?', additional_kwargs={}, response_metadata={}), AdvancedAIMessage(content='여러 씬에서 잘 동작하는데 단일 씬에서 문제가 발생한다면, 가장 큰 원인은 GI 데이터 누락 또는 씬 의존성일 가능성이 높습니다. 단독 씬 빌드를 하기 전에 GI 데이터가 제대로 빌드되었는지 확인하고, 씬 간 공유 자원을 점검하는 것이 좋습니다.언리얼 엔진을 사용하는 경우, Lumen 관련 로그와 설정을 점검하여 구체적인 원인을 확인하세요. Unity라면 Enlighten 또는 GPU Progressive GI 설정을 확인해야 합니다.', additional_kwargs={}, response_metadata={})]\n"
     ]
    }
   ],
   "source": [
    "print(summary_messages.get())"
   ],
   "metadata": {
    "collapsed": false
   }
  },
  {
   "cell_type": "markdown",
   "source": [],
   "metadata": {
    "collapsed": false
   }
  }
 ],
 "metadata": {
  "kernelspec": {
   "display_name": "Python 3",
   "language": "python",
   "name": "python3"
  },
  "language_info": {
   "codemirror_mode": {
    "name": "ipython",
    "version": 2
   },
   "file_extension": ".py",
   "mimetype": "text/x-python",
   "name": "python",
   "nbconvert_exporter": "python",
   "pygments_lexer": "ipython2",
   "version": "2.7.6"
  }
 },
 "nbformat": 4,
 "nbformat_minor": 0
}
