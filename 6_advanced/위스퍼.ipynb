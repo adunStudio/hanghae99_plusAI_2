{
 "cells": [
  {
   "cell_type": "code",
   "source": [
    "!pip install --upgrade pip\n",
    "!pip install --upgrade transformers torch datasets[audio] accelerate\n",
    "!pip install accelerate\n",
    "!pip install librosa\n",
    "!pip install soundfile\n",
    "!pip install pydub"
   ],
   "metadata": {
    "collapsed": false,
    "ExecuteTime": {
     "end_time": "2025-01-19T09:57:21.983151Z",
     "start_time": "2025-01-19T09:57:18.981853Z"
    }
   },
   "outputs": [
    {
     "name": "stdout",
     "output_type": "stream",
     "text": [
      "Requirement already satisfied: pip in /opt/anaconda3/envs/hanghae99_plusAI_2/lib/python3.12/site-packages (24.3.1)\r\n",
      "zsh:1: no matches found: datasets[audio]\r\n",
      "Requirement already satisfied: accelerate in /opt/anaconda3/envs/hanghae99_plusAI_2/lib/python3.12/site-packages (1.3.0)\r\n",
      "Requirement already satisfied: numpy<3.0.0,>=1.17 in /opt/anaconda3/envs/hanghae99_plusAI_2/lib/python3.12/site-packages (from accelerate) (1.26.4)\r\n",
      "Requirement already satisfied: packaging>=20.0 in /opt/anaconda3/envs/hanghae99_plusAI_2/lib/python3.12/site-packages (from accelerate) (24.1)\r\n",
      "Requirement already satisfied: psutil in /opt/anaconda3/envs/hanghae99_plusAI_2/lib/python3.12/site-packages (from accelerate) (5.9.0)\r\n",
      "Requirement already satisfied: pyyaml in /opt/anaconda3/envs/hanghae99_plusAI_2/lib/python3.12/site-packages (from accelerate) (6.0.2)\r\n",
      "Requirement already satisfied: torch>=2.0.0 in /opt/anaconda3/envs/hanghae99_plusAI_2/lib/python3.12/site-packages (from accelerate) (2.5.1)\r\n",
      "Requirement already satisfied: huggingface-hub>=0.21.0 in /opt/anaconda3/envs/hanghae99_plusAI_2/lib/python3.12/site-packages (from accelerate) (0.24.6)\r\n",
      "Requirement already satisfied: safetensors>=0.4.3 in /opt/anaconda3/envs/hanghae99_plusAI_2/lib/python3.12/site-packages (from accelerate) (0.4.5)\r\n",
      "Requirement already satisfied: filelock in /opt/anaconda3/envs/hanghae99_plusAI_2/lib/python3.12/site-packages (from huggingface-hub>=0.21.0->accelerate) (3.13.1)\r\n",
      "Requirement already satisfied: fsspec>=2023.5.0 in /opt/anaconda3/envs/hanghae99_plusAI_2/lib/python3.12/site-packages (from huggingface-hub>=0.21.0->accelerate) (2024.3.1)\r\n",
      "Requirement already satisfied: requests in /opt/anaconda3/envs/hanghae99_plusAI_2/lib/python3.12/site-packages (from huggingface-hub>=0.21.0->accelerate) (2.32.3)\r\n",
      "Requirement already satisfied: tqdm>=4.42.1 in /opt/anaconda3/envs/hanghae99_plusAI_2/lib/python3.12/site-packages (from huggingface-hub>=0.21.0->accelerate) (4.66.5)\r\n",
      "Requirement already satisfied: typing-extensions>=3.7.4.3 in /opt/anaconda3/envs/hanghae99_plusAI_2/lib/python3.12/site-packages (from huggingface-hub>=0.21.0->accelerate) (4.11.0)\r\n",
      "Requirement already satisfied: setuptools in /opt/anaconda3/envs/hanghae99_plusAI_2/lib/python3.12/site-packages (from torch>=2.0.0->accelerate) (75.1.0)\r\n",
      "Requirement already satisfied: sympy==1.13.1 in /opt/anaconda3/envs/hanghae99_plusAI_2/lib/python3.12/site-packages (from torch>=2.0.0->accelerate) (1.13.1)\r\n",
      "Requirement already satisfied: networkx in /opt/anaconda3/envs/hanghae99_plusAI_2/lib/python3.12/site-packages (from torch>=2.0.0->accelerate) (3.2.1)\r\n",
      "Requirement already satisfied: jinja2 in /opt/anaconda3/envs/hanghae99_plusAI_2/lib/python3.12/site-packages (from torch>=2.0.0->accelerate) (3.1.4)\r\n",
      "Requirement already satisfied: mpmath<1.4,>=1.1.0 in /opt/anaconda3/envs/hanghae99_plusAI_2/lib/python3.12/site-packages (from sympy==1.13.1->torch>=2.0.0->accelerate) (1.3.0)\r\n",
      "Requirement already satisfied: MarkupSafe>=2.0 in /opt/anaconda3/envs/hanghae99_plusAI_2/lib/python3.12/site-packages (from jinja2->torch>=2.0.0->accelerate) (2.1.3)\r\n",
      "Requirement already satisfied: charset-normalizer<4,>=2 in /opt/anaconda3/envs/hanghae99_plusAI_2/lib/python3.12/site-packages (from requests->huggingface-hub>=0.21.0->accelerate) (3.3.2)\r\n",
      "Requirement already satisfied: idna<4,>=2.5 in /opt/anaconda3/envs/hanghae99_plusAI_2/lib/python3.12/site-packages (from requests->huggingface-hub>=0.21.0->accelerate) (3.7)\r\n",
      "Requirement already satisfied: urllib3<3,>=1.21.1 in /opt/anaconda3/envs/hanghae99_plusAI_2/lib/python3.12/site-packages (from requests->huggingface-hub>=0.21.0->accelerate) (2.2.3)\r\n",
      "Requirement already satisfied: certifi>=2017.4.17 in /opt/anaconda3/envs/hanghae99_plusAI_2/lib/python3.12/site-packages (from requests->huggingface-hub>=0.21.0->accelerate) (2024.12.14)\r\n",
      "Requirement already satisfied: librosa in /opt/anaconda3/envs/hanghae99_plusAI_2/lib/python3.12/site-packages (0.10.2.post1)\r\n",
      "Requirement already satisfied: audioread>=2.1.9 in /opt/anaconda3/envs/hanghae99_plusAI_2/lib/python3.12/site-packages (from librosa) (3.0.1)\r\n",
      "Requirement already satisfied: numpy!=1.22.0,!=1.22.1,!=1.22.2,>=1.20.3 in /opt/anaconda3/envs/hanghae99_plusAI_2/lib/python3.12/site-packages (from librosa) (1.26.4)\r\n",
      "Requirement already satisfied: scipy>=1.2.0 in /opt/anaconda3/envs/hanghae99_plusAI_2/lib/python3.12/site-packages (from librosa) (1.15.1)\r\n",
      "Requirement already satisfied: scikit-learn>=0.20.0 in /opt/anaconda3/envs/hanghae99_plusAI_2/lib/python3.12/site-packages (from librosa) (1.6.1)\r\n",
      "Requirement already satisfied: joblib>=0.14 in /opt/anaconda3/envs/hanghae99_plusAI_2/lib/python3.12/site-packages (from librosa) (1.4.2)\r\n",
      "Requirement already satisfied: decorator>=4.3.0 in /opt/anaconda3/envs/hanghae99_plusAI_2/lib/python3.12/site-packages (from librosa) (5.1.1)\r\n",
      "Requirement already satisfied: numba>=0.51.0 in /opt/anaconda3/envs/hanghae99_plusAI_2/lib/python3.12/site-packages (from librosa) (0.60.0)\r\n",
      "Requirement already satisfied: soundfile>=0.12.1 in /opt/anaconda3/envs/hanghae99_plusAI_2/lib/python3.12/site-packages (from librosa) (0.13.0)\r\n",
      "Requirement already satisfied: pooch>=1.1 in /opt/anaconda3/envs/hanghae99_plusAI_2/lib/python3.12/site-packages (from librosa) (1.8.2)\r\n",
      "Requirement already satisfied: soxr>=0.3.2 in /opt/anaconda3/envs/hanghae99_plusAI_2/lib/python3.12/site-packages (from librosa) (0.5.0.post1)\r\n",
      "Requirement already satisfied: typing-extensions>=4.1.1 in /opt/anaconda3/envs/hanghae99_plusAI_2/lib/python3.12/site-packages (from librosa) (4.11.0)\r\n",
      "Requirement already satisfied: lazy-loader>=0.1 in /opt/anaconda3/envs/hanghae99_plusAI_2/lib/python3.12/site-packages (from librosa) (0.4)\r\n",
      "Requirement already satisfied: msgpack>=1.0 in /opt/anaconda3/envs/hanghae99_plusAI_2/lib/python3.12/site-packages (from librosa) (1.1.0)\r\n",
      "Requirement already satisfied: packaging in /opt/anaconda3/envs/hanghae99_plusAI_2/lib/python3.12/site-packages (from lazy-loader>=0.1->librosa) (24.1)\r\n",
      "Requirement already satisfied: llvmlite<0.44,>=0.43.0dev0 in /opt/anaconda3/envs/hanghae99_plusAI_2/lib/python3.12/site-packages (from numba>=0.51.0->librosa) (0.43.0)\r\n",
      "Requirement already satisfied: platformdirs>=2.5.0 in /opt/anaconda3/envs/hanghae99_plusAI_2/lib/python3.12/site-packages (from pooch>=1.1->librosa) (3.10.0)\r\n",
      "Requirement already satisfied: requests>=2.19.0 in /opt/anaconda3/envs/hanghae99_plusAI_2/lib/python3.12/site-packages (from pooch>=1.1->librosa) (2.32.3)\r\n",
      "Requirement already satisfied: threadpoolctl>=3.1.0 in /opt/anaconda3/envs/hanghae99_plusAI_2/lib/python3.12/site-packages (from scikit-learn>=0.20.0->librosa) (3.5.0)\r\n",
      "Requirement already satisfied: cffi>=1.0 in /opt/anaconda3/envs/hanghae99_plusAI_2/lib/python3.12/site-packages (from soundfile>=0.12.1->librosa) (1.17.1)\r\n",
      "Requirement already satisfied: pycparser in /opt/anaconda3/envs/hanghae99_plusAI_2/lib/python3.12/site-packages (from cffi>=1.0->soundfile>=0.12.1->librosa) (2.21)\r\n",
      "Requirement already satisfied: charset-normalizer<4,>=2 in /opt/anaconda3/envs/hanghae99_plusAI_2/lib/python3.12/site-packages (from requests>=2.19.0->pooch>=1.1->librosa) (3.3.2)\r\n",
      "Requirement already satisfied: idna<4,>=2.5 in /opt/anaconda3/envs/hanghae99_plusAI_2/lib/python3.12/site-packages (from requests>=2.19.0->pooch>=1.1->librosa) (3.7)\r\n",
      "Requirement already satisfied: urllib3<3,>=1.21.1 in /opt/anaconda3/envs/hanghae99_plusAI_2/lib/python3.12/site-packages (from requests>=2.19.0->pooch>=1.1->librosa) (2.2.3)\r\n",
      "Requirement already satisfied: certifi>=2017.4.17 in /opt/anaconda3/envs/hanghae99_plusAI_2/lib/python3.12/site-packages (from requests>=2.19.0->pooch>=1.1->librosa) (2024.12.14)\r\n",
      "Requirement already satisfied: soundfile in /opt/anaconda3/envs/hanghae99_plusAI_2/lib/python3.12/site-packages (0.13.0)\r\n",
      "Requirement already satisfied: cffi>=1.0 in /opt/anaconda3/envs/hanghae99_plusAI_2/lib/python3.12/site-packages (from soundfile) (1.17.1)\r\n",
      "Requirement already satisfied: numpy in /opt/anaconda3/envs/hanghae99_plusAI_2/lib/python3.12/site-packages (from soundfile) (1.26.4)\r\n",
      "Requirement already satisfied: pycparser in /opt/anaconda3/envs/hanghae99_plusAI_2/lib/python3.12/site-packages (from cffi>=1.0->soundfile) (2.21)\r\n",
      "Requirement already satisfied: pydub in /opt/anaconda3/envs/hanghae99_plusAI_2/lib/python3.12/site-packages (0.25.1)\r\n"
     ]
    }
   ],
   "execution_count": 1
  },
  {
   "metadata": {
    "ExecuteTime": {
     "end_time": "2025-01-19T09:57:22.389457Z",
     "start_time": "2025-01-19T09:57:21.995696Z"
    }
   },
   "cell_type": "code",
   "source": "!pip show accelerate",
   "outputs": [
    {
     "name": "stdout",
     "output_type": "stream",
     "text": [
      "Name: accelerate\r\n",
      "Version: 1.3.0\r\n",
      "Summary: Accelerate\r\n",
      "Home-page: https://github.com/huggingface/accelerate\r\n",
      "Author: The HuggingFace team\r\n",
      "Author-email: zach.mueller@huggingface.co\r\n",
      "License: Apache\r\n",
      "Location: /opt/anaconda3/envs/hanghae99_plusAI_2/lib/python3.12/site-packages\r\n",
      "Requires: huggingface-hub, numpy, packaging, psutil, pyyaml, safetensors, torch\r\n",
      "Required-by: \r\n"
     ]
    }
   ],
   "execution_count": 2
  },
  {
   "cell_type": "code",
   "source": [
    "import torch\n",
    "from transformers import AutoModelForSpeechSeq2Seq, AutoProcessor, pipeline\n",
    "from pydub import AudioSegment\n",
    "from pydub.utils import make_chunks\n",
    "\n",
    "device = \"cuda\" if torch.cuda.is_available() else \\\n",
    "         \"mps\" if torch.backends.mps.is_available() else \\\n",
    "         \"cpu\"\n",
    "\n",
    "\n",
    "\n",
    "torch_dtype = torch.float16 if torch.cuda.is_available() else torch.float32\n",
    "\n",
    "model_id = \"openai/whisper-tiny\"\n",
    "\n",
    "model = AutoModelForSpeechSeq2Seq.from_pretrained(\n",
    "    model_id, torch_dtype=torch_dtype, use_safetensors=True\n",
    ")\n",
    "model.to(device)\n",
    "\n",
    "processor = AutoProcessor.from_pretrained(model_id)\n",
    "\n",
    "pipe = pipeline(\n",
    "    \"automatic-speech-recognition\",\n",
    "    model=model,\n",
    "    tokenizer=processor.tokenizer,\n",
    "    feature_extractor=processor.feature_extractor,\n",
    "    torch_dtype=torch_dtype,\n",
    "    device=device,\n",
    ")\n",
    "\n",
    "\"\"\"\n",
    "# 오디오 로드\n",
    "audio = AudioSegment.from_file(\"./식세기.mp3\")\n",
    "\n",
    "# 30초(30000ms) 단위로 분할\n",
    "chunk_length_ms = 30000  # 30초\n",
    "chunks = make_chunks(audio, chunk_length_ms)\n",
    "\n",
    "# 각 청크에 대해 Whisper 모델 실행\n",
    "for i, chunk in enumerate(chunks):\n",
    "    chunk_name = f\"chunk_{i}.wav\"\n",
    "    chunk.export(chunk_name, format=\"wav\")  # 청크 저장\n",
    "    print(f\"Chunk {i}:\")\n",
    "    result = pipe(chunk_name, language='ko', return_timestamps=True)\n",
    "    print(result[\"text\"])\n",
    "\n",
    "    if i == 0:\n",
    "        break\n",
    "\"\"\"\n",
    "\n",
    "result = pipe(\"./식세기.mp3\", return_timestamps=True)\n",
    "print(result[\"text\"])"
   ],
   "metadata": {
    "collapsed": false,
    "ExecuteTime": {
     "end_time": "2025-01-19T10:32:25.835143Z",
     "start_time": "2025-01-19T10:29:52.033328Z"
    }
   },
   "outputs": [
    {
     "name": "stderr",
     "output_type": "stream",
     "text": [
      "/opt/anaconda3/envs/hanghae99_plusAI_2/lib/python3.12/site-packages/transformers/models/whisper/generation_whisper.py:496: FutureWarning: The input name `inputs` is deprecated. Please make sure to use `input_features` instead.\n",
      "  warnings.warn(\n"
     ]
    },
    {
     "name": "stdout",
     "output_type": "stream",
     "text": [
      " 안녕하세요. 가전 각색 관팀장입니다. 오늘은 식색에 대해서 좀 이야기를 해보려고 해요. 많이 고민하고 계시는 두 개의 브랜드를 준비를 했습니다. LG 삼성 식색이를 놓고서 좀 비교를 해보려고 하는데 요즘 가전들 솔직히 말하면 다 너무 잘 남아요. 이미 많이 3량 평준화가 되어 있어서 결국에는 그 회사가 밀고 있는 어떤 강점 포인트. 디자인. 브랜디에 대한 선호도 할 쓸 것 같은 기능들 코스들을 보시면 될 것 같아요. 그래서 오늘은 잘라가는 식색이 두 회사를 비교해서 설명 드리려고 합니다. 먼저 그 두 회사가 가지고 있는 강점들을 살펴보도록 하겠습니다. LG 식색이 같은 경우는 LG가 밀고 있는 포인트가 좀 명확하게 보여요. LG는 백도시 투러스티물 엄청나게 밀고 있습니다. 물을 백도로 패밤 패밤 패밤 끓이는 거예요. 그 그림 물을 노즌, 물 통해서 식색이 내부의 분사를 촉착착착착해 주는 방식이라고 보시면 되겠습니다. 그러면 어떤 효과가 있느냐, 살균 효과가 엄청나게 높아지는 거죠. 살균 효과가 99.9구구 퍼센트까지 다 제거할 수 있다. 그럼 삼성의 살균 여근 어떻게 되느냐. 성사 페이지 살펴보면은 삼성도 99.9구구 퍼센트 살균이 된다라고 적혀 있습니다. LG 삼성 다 99.9구구구 퍼센트 살균이 된다 라고 설명은 되어 있지만요. 물을 패바바밭백도시, 그려서 작작작 분사를 해서 살균을 해주는 거는 LG가 가지고 있는 독자적인 기술입니다. 최근 여기에 있어서는 조금 더 LG가 특화가 되어 있지 않는가. 두 번째 LG의 강점은 연수장침이다. 식색이를 사용하면 수도 관해 연결해서 식색이를 사용을 해요. 이제 우리가 사용하는 수도물 안에는 미네라인 그 다음에 섞해질 성분 들어가 있는데 이런 성분이 마르면서 생기는 게 하얀색 물 얼룩이에요. 이 물 얼룩을 좀 잘 지워주고 식다, 나고 한다면 연수 장치를 사용하시면 되거든요. 시키 세척기 내부 안에 돌두두두두두 뚜껑 열면 그 안에 소금을 넣을 수 있는 연수 장치가 기본적으로 엘지는 들어가 있습니다. 연수 장치에 소금을 넣어서 사용을 하시면 훨씬 더 물 얼룩 물 때 이런 것도 좀 빠지는 느낌을 받을 수가 있습니다. 지금 연수 장치가 들어가 있는 식색이는 엘지전자가 유일하게 국내에서는 들어가 있습니다. 요 연수장치 대신에 삼성은 정수 필터라는 게 들어가 있습니다. 전모델에 다 들어가 있는 건 아니고 일부 모델에 정수 필터가 들어가 있어요. 또 다른 방법으로는 린스를 활용을 잘 해주시면 좋겠죠. 린스를 투입을 해서 사용하시면 얼룩을 줄일 수 있습니다. 그럼 삼성이 가지고 있는 강점은 뭐가 있을까 살펴봤더니 삼성은 백두시 10분 건죌를 광고를 되게 많이 하고 있더라고요. 10분간전은 30분 정도 고온의 여를 시키세췄기 내부에 계속 가해주면서 건조을 시켜주는 기능입니다. 상황에 맞게 3단계로 조절을 가능한데 맥스 강력 1반 이렇게 하나를 선택해서 사용하실 수 있습니다. 두 번째 삼성이 밀고 있는 강조 포인트. 저는 이게 되게 LG랑 좀 다르게 이야기할 수 있는 부분이라고 생각이 드는데 삼성 식색이 같은 경우는 색깔을 선택할 수 있는 선택의 포기 굉장히 넓습니다. 다섯 가지 소재, 18가지, 컬러를 선택할 수 있는데 차이점을 조금 놓고 비교를 해보면 LG에서 뽑을 수 있는 색들은 조금 더 무난한 느낌이 많이 있습니다 베이지 블랙, 화이트, 심버색상 요런 식으로 우리가 많이 상상할 수 있는 색깔을 식색이 옵션상에다가 넣어놨는데 반면 삼성을 좀 살펴보면 나의 개성을 조금 더 넣을 수 있는 색들이 많이 들어가 있다 바이 올래, 핑크 이런 식으로 조금 더 주방의 포인트가 될 수 있을 만한 색들을 삼성이 훨씬 더 많이 가지고 있어요. 도와의 바깥쪽 프레임도 삼성은 사이트 블랙 두 가지 중에 하나를 선택할 수 있습니다. 모든 모델이 다 그런 건 아니고요. 1부 모델에 한에서. 치키 세척기 요새 거의 많이 들을 빌팅으로 설치를 하고 계시잖아요. 근데 삼성은 트루빌팅이라고 또 따로 있습니다. 내 맘대로 도움을 커서 마iz이 할 수가 있는 거예요. 안 면부분 도워부분을 내가 가지고 있는 신크의 하프장과 동일한 소재의 판내를 이용해서 붙착해서 맞추면 가고처럼 오는 게 식색이고 오는 게 하프장인지 모르게 그렇게 설치를 할 수 있습니다 이걸 트로 빌티인이라고 부릅니다 그러면은 주방이 완벽하게 캐치인피 인테리어를 할 수 있다라는 장점이 있는데 LG는 그런 도워�판을 시키 세척기 부분에 붙여놓을 수 없느냐 전에 원래 했었어요 그런데 지금은 다 단종됐습니다. 그런 모델들은. 지금 주 회사가 좀 밀고 있는 강점 포인트들을 살펴보셨고요. 조금 더 구체적으로 세부 코스에 대해서 비결을 좀 해보도록 하겠습니다. 명칭은 조금씩 다른데 필수적인 세부 코스들은 동일하다 라고 보시면 돼요. 거의 비슷하거든요. 여기서 좀 차잇점이라고 말씀을 드릴 수 있는 부분은 삼성이 조작부부분이 좀 달라졌어요. LCD 디스플레이 창으로 바뀌었습니다. 그래서 코스트들을 다 이 LCD 디스플레이 창으로 밀어서 넣었어요. 심지어, 다음 로드 받아서 썼어야 되는 코스트들이 디스플레이 창 안에 다 들어왔어요. 버튼을 손으로 내가 넘겨가면서 이런 코스트들을 다 쓸 수 있다는 것 같아요. 이런 부분들은 저는 좀 편해진 것 같아요. 내가 굳이 스마트폰을 열어서, 다음 로드 받아서 코스트를 사용하지 않아도 있으니까 이런 거는 좀 장점으로 이야기할 수 있는 부분인 것 같은데 대신 장점이자 단점은 뭐냐? 내가 원하는 코스의 진입을 하겠까지 이걸 계속 넘겨야 하 돼요. 모갓 더 편한지는 사용자의 기후에 따라서 좀 달라질 것 같아요. 표중 코스 살펴보면 엘지가퓨 경우는 23년 10 모델이 표주인이라는 이름 대신 한 시간 코스라고 명칭을 바꿨습니다. 작동 시간은 60분입니다. 3,000원도 55도 한금은 60도로 세팅이 되어 있고요. 삼성은 작동 시간은 5분이 더 줄어요. 50, 5분입니다. 자, 세척 온도가 59도, 한금 온도가 56도. 한금 온도가 엘지야 조금 더 높습니다. 자, 행금 추가, 이거는 옵션 사항인데 23년 10모델 같은 경우는 엘지전자는 회수를 조정할 수가 있어요. 3일까지 추가로 회수 조정의 가능하다 라는 거 삼성 같은 경우도 행금 추가가 있긴 한데 한 번밖에 추가가 안 됩니다. 그래서 이거 차이가 있죠? 더 많이 추가가 되는 거는 LG 보시면 되고요. 10분 건조 주모들 다 있습니다. 차이가 있다면 삼성의 10분 건조는 눈이 다친 상태에서 돌아갑니다. 다친 상태에서 뜨거운 바람이 30분 정도 나오고 그 뒤에 자동으로 눈이 열려요. 그리고 10분에서 20분 정도 안에 있는 내부의 팽이 돌면서 내부 습기나 열이 좀 바깥쪽을 배추될 수 있겠군 로지기 설정이 되어 있는 게 이제 삼성에서 말하는 10분 건조입니다. 단계는 맥스 강력 1만 요렇게 세 단계로 조정을 하실 수 있습니다. LG에서 이야기하는 10분 건조의 방식은 3성이랑 조금 다린데요. 3성은 문을 다고서 10분 건조가 돌아갔는데 LG는 건조 될 때 문이 열려요. 자동 문 열림이 된 후에 내부가 뜨거운 바람지 10분으로 이제 건조가 되는데 바람이 서로 사히면서 내부의 습기가 자동으로 배출될 수 있도록 만든 방식이 LG의 방식입니다. LG 같은 경우는 시간을 세팅을 할 수가 있습니다. 이제 40분 60분, 90분, 이렇게 시간 세 가지로 선택을 할 수가 있어서 최대 90분까지 세팅을 해놓을 수 있습니다. 예약 기능도 두 모델 다 똑같이 들어가 있습니다. LG 같은 경우는 한 시간 단일호 최대 12시간까지 세팅 가능하구요. 삼성 같은 경우는 스물래시간 한 시간 단일호 예약 세팅이 가능합니다. 앞에서 코스를 살펴보셨는데 이제 시키 세척기를 열어서 안에 내부 살펴보면 기본적으로 LG는 전체적으로 회색톤이에요. 바꾼이 세계라든지 손잡이 부분이라든지 넘나지 조절하는 부분이라든지 이런 부분들이 다 전체적으로 회색으로 통일이 되어 있는데 삼성 제품 살펴보면 부분부분 좀 귀엽게 컬러로 포인트를 줬습니다. 아 여기가 손잡이구나. 아 여기가 레일 단계를 조절하는 손잡이 부분이구나. 이런 것들을 조금 더 쉽게 한 눈에 파악할 수 있는 거는 삼성 쪽이 조금 더 눈이 더 잘 간다라는 느낌 있습니다. 레일도 차이가 좀 있는데 엘지가 충격은 상의 모델에 글라이드 선반을 적용을 했습니다. 보통 가급장 안에 들어간 레일인데 부드럽게 무거운 그릇을 잘 빠져 나올 수 있도록 이 레일 선반이 엘지앤즈 적용이 되어 있고 삼성에는 네 일반 레일이 들어가 있다는 거. 이게 차이정으로고 볼 수 있는 포인트 중에 하나입니다. 자, 24년도 모델 기준으로 편의기능도 한 번 살펴봤습니다. 조명 부분은 두 모델 다 들어가 있어요. 엘지나 삼성이나 둘 다 내부 조명이 다 들어가 있고요. 호스를 설명해주는 편의 기능들은 약간의 차별이 있었는데 엘지 같은 경우는 음성으로 호스를 안 내주는 기능이 들어가 있었고 삼성 같은 경우는 대화용 알림창으로 들어가 있습니다. 문장으로 호스에 대한 설명이 진행이 되는 거죠. 저는 엘지 제품을 집에서 쓰고 있는데 음성이 매번 나오는 게 좀 성과신 거예요. 그래서 저는 다 무음으로 놓고 사용하고 있거든요. 그런데 이제 삼성사품 같은 경우는 이게 디스플레이 창의 어떤 코스의 무슨 기능이 들어가 있다는 게 눈으로 문장으로 보여지니까 이런 것들은 조금 더 직관적이다. 나는 느낌을 받았습니다. 요즘 제품들은 웬만하면 다 핸드폰으로 연동이 가능합니다. 엘지 같은 경우는 생클 앱을 활용하시면 되고 삼성 같은 경우는 스마트 생지라고 되어 있습니다. 연동하셔서 추가적으로 파운로드 받으셔서 코스들 더 이용하실 수 있다는 거는 비슷한 기능인 것 같아요. 대신 좀 차이가 있다고 한다면 삼성 같은 경우는 삼성 심지에 다른 여러 가지 주방 삼성 기기들 예를 들어 인덕션이나 오븐이나 이런 것들이 심지에 다같이 모여 있다라고 한다면 얘네들이 삼성 심지에 푸드 서비스라는 걸 해요. 그러니까 내가 오븐에서 뭔가 졸을 했어요. 그러면 이 조리기기에 사용되어 있던 코스들을 시키 세 쪽에 넘겨주는 기능과 기름기가 좀 많은데 이런 코스를 시키 세 쪽으로 연두게 될까요? 연두기 세 쪽의 자동으로 그 코스가 세팅이 되어있다고 하는 거죠. 이런 연동 서비스들 좀 깨알 같지만 이런 것들도 활용을 하실 수 있습니다. LG 사이트에서 잘라가는 모델. 그리고 삼성 사이트에서 많이 팔리고 잘라가는 모델. 비슷한 동급 사양의 모델입니다. 두 모델을 놓고 비교를 좀 해 드리려고 합니다. 둘 다 똑같이 용량은 14년입니다. 살균 놓고 보면은 엘지가툰 경우는 백도시 투러스팅 고원직수가 들어 가구요. 삼성 같은 경우는 고원직수 들어갑니다. 건조 기능 놓고 보도록 하겠습니다. 자동 문 열림 기능 그 다음에 열풍 건조 단독 건조 기능 두 모델 다 동일하게 들어가 있습니다. 선반 놓고 비교를 좀 해보도록 하겠습니다. 똑같이 최상단 상단 바스케 타단바스케 똑같이 3단으로 들어가 있는데 대신 앞에서 설명들이 글라이드 레일이 LG에는 들어가 있구요, 삼성에는 빠져있습니다. 일반 레일이 들어가 있어요. 물 언록을 조금 없을 수 있는 연습 장치 LG 제품은 기본적으로 다 들어가 있습니다. 네 삼성 같은 경우는 정숙 필터가 내장이 되어 있는 모델이에요. 그래서 이 모델을 사용하시면 어느 정도 물을 한 번 퀄터할 통해서 걸러서 이제 정숙의 물을 사용하기 때문에, 이 정숙 필터 내장되어 있는 모델 이렇게 이제도 비교한 심 될 것 같고 나머지 스마트 편의기는 살펴보면 내부 조명 동일하게 들어가 있고 코스산내가 엘지는 음성 삼성 모델 같은 경우는 대화형 문장으로 코스에 대해서 설명을 해준다라는 거 요 차이점이 있습니다 그리고 1시 정지 버튼이 있는 거는 엘지 거 들어가 있습니다 내 삼성 같은 경우는 버튼이 따로 있지 않아요 근데 그냥 중간에 돌아가고 있다고 해도 그냥 손잡이 자꾸 열면 돼요 그러면 자동적으로 멈추면 될 수 있을 정도인 것 같아요 그리고 너워서 사용하시면 됩니다. 가격은 두 모델이 30만 원 정도 차이가 납니다. 저게 나는 건 아니에요 30만 원이에요. 근데 사양으로 놓고 보면 LG 제품이 조금 더 한 명 제품보다는 고사양 모델이기 때문에 기능적인 차이가 있기 때문에 그만큼 금액 차이가 나는 것이 아닌가. 둘 중에 오늘 브랜드가 더 딱따보 이런 거는 없어요. 왜냐하면 요새는 많은 가전들이 정말 다 상향 평suna가 되어 있기 때문에 내가 잘 쓸 것 같은 기능들, 코스들을 보시면 될 것 같고 또 색상의 차이가 있을 수 있습니다. 내 지는 하부장을 다 1년으로 똑같은 판내로 맞추고 싶은 거예요. 뭐 하부장 판내를 붙여야 되겠죠? 근데 붙일 수 있는 식색이 있고 없는 식색이가 있으니까 그리고 중요한 거는 또 가격이죠. 내가 가지고 있는 버지 예상이 100%만 원이야. 그러면 거기서 맞게끔, 나는 100% 아니야. 그러면 거기서 맞게끔, 최선의 정택을 하시는 게 가장 베스트 라고 생각을 합니다. 가전의 모든 건? 가전의 TMI! 오늘은 여기서 퇴근할게요! 안녕!\n"
     ]
    }
   ],
   "execution_count": 9
  }
 ],
 "metadata": {
  "kernelspec": {
   "display_name": "Python 3",
   "language": "python",
   "name": "python3"
  },
  "language_info": {
   "codemirror_mode": {
    "name": "ipython",
    "version": 2
   },
   "file_extension": ".py",
   "mimetype": "text/x-python",
   "name": "python",
   "nbconvert_exporter": "python",
   "pygments_lexer": "ipython2",
   "version": "2.7.6"
  }
 },
 "nbformat": 4,
 "nbformat_minor": 0
}
