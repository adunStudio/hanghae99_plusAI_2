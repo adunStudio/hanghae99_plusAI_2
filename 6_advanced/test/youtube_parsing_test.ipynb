{
 "cells": [
  {
   "cell_type": "code",
   "execution_count": 19,
   "metadata": {
    "collapsed": true
   },
   "outputs": [
    {
     "data": {
      "text/plain": "     path                                                url  noplaylist\n0   뱀서라이크  https://www.youtube.com/playlist?list=PLO-mt5I...       False\n1   비행기슈팅  https://www.youtube.com/playlist?list=PLO-mt5I...       False\n2  탑다운RPG  https://www.youtube.com/playlist?list=PLO-mt5I...       False\n3    플랫포머  https://www.youtube.com/playlist?list=PLO-mt5I...       False\n4    유니티6  https://www.youtube.com/watch?v=350EWYC_1ZA&li...        True\n5    유니티6  https://www.youtube.com/watch?v=Q7mHfbEzaJM&li...        True\n6    유니티6        https://www.youtube.com/watch?v=r4aZypBrFHE        True\n7    유니티6        https://www.youtube.com/watch?v=3mSO1sMdGxM        True",
      "text/html": "<div>\n<style scoped>\n    .dataframe tbody tr th:only-of-type {\n        vertical-align: middle;\n    }\n\n    .dataframe tbody tr th {\n        vertical-align: top;\n    }\n\n    .dataframe thead th {\n        text-align: right;\n    }\n</style>\n<table border=\"1\" class=\"dataframe\">\n  <thead>\n    <tr style=\"text-align: right;\">\n      <th></th>\n      <th>path</th>\n      <th>url</th>\n      <th>noplaylist</th>\n    </tr>\n  </thead>\n  <tbody>\n    <tr>\n      <th>0</th>\n      <td>뱀서라이크</td>\n      <td>https://www.youtube.com/playlist?list=PLO-mt5I...</td>\n      <td>False</td>\n    </tr>\n    <tr>\n      <th>1</th>\n      <td>비행기슈팅</td>\n      <td>https://www.youtube.com/playlist?list=PLO-mt5I...</td>\n      <td>False</td>\n    </tr>\n    <tr>\n      <th>2</th>\n      <td>탑다운RPG</td>\n      <td>https://www.youtube.com/playlist?list=PLO-mt5I...</td>\n      <td>False</td>\n    </tr>\n    <tr>\n      <th>3</th>\n      <td>플랫포머</td>\n      <td>https://www.youtube.com/playlist?list=PLO-mt5I...</td>\n      <td>False</td>\n    </tr>\n    <tr>\n      <th>4</th>\n      <td>유니티6</td>\n      <td>https://www.youtube.com/watch?v=350EWYC_1ZA&amp;li...</td>\n      <td>True</td>\n    </tr>\n    <tr>\n      <th>5</th>\n      <td>유니티6</td>\n      <td>https://www.youtube.com/watch?v=Q7mHfbEzaJM&amp;li...</td>\n      <td>True</td>\n    </tr>\n    <tr>\n      <th>6</th>\n      <td>유니티6</td>\n      <td>https://www.youtube.com/watch?v=r4aZypBrFHE</td>\n      <td>True</td>\n    </tr>\n    <tr>\n      <th>7</th>\n      <td>유니티6</td>\n      <td>https://www.youtube.com/watch?v=3mSO1sMdGxM</td>\n      <td>True</td>\n    </tr>\n  </tbody>\n</table>\n</div>"
     },
     "execution_count": 19,
     "metadata": {},
     "output_type": "execute_result"
    }
   ],
   "source": [
    "import pandas as pd\n",
    "\n",
    "video_parse_list = pd.read_csv('./videos_parse_list.csv')\n",
    "video_parse_list"
   ]
  },
  {
   "cell_type": "code",
   "execution_count": 23,
   "outputs": [
    {
     "name": "stderr",
     "output_type": "stream",
     "text": [
      "WARNING: [youtube:tab] Incomplete data received. Retrying (1/3)...\n",
      "WARNING: [youtube:tab] Incomplete data received. Retrying (2/3)...\n",
      "WARNING: [youtube:tab] Incomplete data received. Retrying (3/3)...\n",
      "WARNING: [youtube:tab] Incomplete data received. Giving up after 3 retries\n"
     ]
    },
    {
     "name": "stdout",
     "output_type": "stream",
     "text": [
      "{'title': '유니티 뱀서라이크 개발강좌가 온다?! 언데드 서바이버', 'thumbnail': 'https://i.ytimg.com/vi/MmW166cHj54/maxresdefault.jpg', 'url': 'https://www.youtube.com/watch?v=MmW166cHj54', 'description': \"뱀서라이크 유니티 개발 강좌인 '언데드 서바이버' 예고편 PV 영상입니다.\\n2D 게임 개발의 여러가지 요소들은 하나씩 배우면서 최종적으로\\n모바일로 게임을 실행할 수 있도록 게임을 개발하는 강좌입니다.\\n\\n17편의 강좌 영상을 통해 멋진 뱀서라이크를 쉽게 만들어보세요. 🤗\\n\\n📚 언데드 서바이버 강좌목록\\nhttps://www.youtube.com/playlist?list=PLO-mt5Iu5TeZF8xMHqtT_DhAPKmjF6i3x\\n\\n📦 언데드서바이버 에셋\\nhttps://prf.hn/l/aQNdNmA\\n\\n#유니티강좌 #유니티기초 #뱀서라이크 #뱀파이어서바이버\", 'tags': ['유니티', '유니티강좌', '유니티기초', '유니티기초강좌', '유니티개발', '유니티개발강좌', '유니티3D', '유니티3D강좌', '유니티3D기초', '유니티2D', '유니티2D강좌', '유니티2D기초', '유니티에셋', '유니티게임', '유니티게임만들기', '유니티게임만들기강좌', '유니티모바일', '유니티C#', '유니티코딩', '유니티프로그래밍', '유니티볼트', '유니티비주얼스크립팅', '유니티예제', '유니티따라하기', '유니티프로젝트', '유니티튜토리얼', '유니티코리아', 'Unity', 'Unity3D', 'Unity2D', 'UnityExample', 'UnityGame', 'UnityTutorial', 'UnityLecture', 'UnityAsset', 'UnityDev', 'UnityDevelopment', 'UnityCoding', '뱀서라이크', '뱀서', 'vampire survivor']}\n",
      "--------------------------------------------------------\n",
      "{'title': '2D 오브젝트🧍만들기 [유니티 뱀서라이크 01]', 'thumbnail': 'https://i.ytimg.com/vi_webp/qOTbP9ciJ88/maxresdefault.webp', 'url': 'https://www.youtube.com/watch?v=qOTbP9ciJ88', 'description': '뱀서라이크 유니티 개발 강좌 첫번째 시간!\\n유니티를 처음 만지는 입문자 분들도 따라하기 쉽도록\\n2D 오브젝트를 유니티에서 어떻게 만드는지 차근차근 설명해드리고 있습니다.\\n본격적인 움직임 구현은 다음 시간에 다룰 예정입니다.  🤗\\n\\n📚 뱀서라이크 개발 채널\\nhttps://www.youtube.com/playlist?list=PLO-mt5Iu5TeZF8xMHqtT_DhAPKmjF6i3x\\n\\n📦 언데드서바이버 에셋\\nhttps://prf.hn/l/aQNdNmA\\n\\n📖 챕터\\n01 00:00 프로젝트 시작하기\\n02 07:00 에셋 가져오기\\n03 09:24 오브젝트 만들기\\n04 17:11 컴포넌트 추가하기\\n\\n#유니티강좌 #유니티기초 #뱀서라이크 #뱀파이어서바이버', 'tags': ['유니티', '유니티강좌', '유니티기초', '유니티기초강좌', '유니티개발', '유니티개발강좌', '유니티3D', '유니티3D강좌', '유니티3D기초', '유니티2D', '유니티2D강좌', '유니티2D기초', '유니티에셋', '유니티게임', '유니티게임만들기', '유니티게임만들기강좌', '유니티모바일', '유니티C#', '유니티코딩', '유니티프로그래밍', '유니티볼트', '유니티비주얼스크립팅', '유니티예제', '유니티따라하기', '유니티프로젝트', '유니티튜토리얼', '유니티코리아', 'Unity', 'Unity3D', 'Unity2D', 'UnityExample', 'UnityGame', 'UnityTutorial', 'UnityLecture', 'UnityAsset', 'UnityDev', 'UnityDevelopment', 'UnityCoding', '뱀서라이크', '뱀파이어서바이버', '탕탕특공대', '매직서바이버', 'Vampire Survivors']}\n",
      "--------------------------------------------------------\n",
      "{'title': '플레이어 이동🚶구현하기 [유니티 뱀서라이크 02]', 'thumbnail': 'https://i.ytimg.com/vi_webp/YAu4yWU5D5U/maxresdefault.webp', 'url': 'https://www.youtube.com/watch?v=YAu4yWU5D5U', 'description': '뱀서라이크 유니티 개발 강좌 두번째는 지난 시간에 만든 플레이어 오브젝트를 움직이도록 스크립트를 작성하는 시간입니다.\\n어떻게 입력을 받아야 하는지, 또 어떤 방식으로 움직여야 하는지\\n유니티를 처음 하는 분들도 이해가 되도록 오목조목 알려드립니다.\\n\\n📚 뱀서라이크 개발 채널\\nhttps://www.youtube.com/playlist?list=PLO-mt5Iu5TeZF8xMHqtT_DhAPKmjF6i3x\\n\\n📖 챕터\\n01 00:00 C# 스크립트 만들기\\n02 02:32 키보드 입력 받기\\n03 08:43 물리 이동 방법\\n04 14:19 물리 이동 구현\\n\\n#유니티강좌 #유니티기초 #뱀서라이크 #뱀파이어서바이버', 'tags': ['유니티', '유니티강좌', '유니티기초', '유니티기초강좌', '유니티개발', '유니티개발강좌', '유니티3D', '유니티3D강좌', '유니티3D기초', '유니티2D', '유니티2D강좌', '유니티2D기초', '유니티에셋', '유니티게임', '유니티게임만들기', '유니티게임만들기강좌', '유니티모바일', '유니티C#', '유니티코딩', '유니티프로그래밍', '유니티볼트', '유니티비주얼스크립팅', '유니티예제', '유니티따라하기', '유니티프로젝트', '유니티튜토리얼', '유니티코리아', 'Unity', 'Unity3D', 'Unity2D', 'UnityExample', 'UnityGame', 'UnityTutorial', 'UnityLecture', 'UnityAsset', 'UnityDev', 'UnityDevelopment', 'UnityCoding', 'Vampire Survivors', '뱀파이어서바이버', '뱀서라이크', '유니티뱀서']}\n",
      "--------------------------------------------------------\n"
     ]
    },
    {
     "ename": "KeyboardInterrupt",
     "evalue": "",
     "output_type": "error",
     "traceback": [
      "\u001B[0;31m---------------------------------------------------------------------------\u001B[0m",
      "\u001B[0;31mKeyboardInterrupt\u001B[0m                         Traceback (most recent call last)",
      "Cell \u001B[0;32mIn[23], line 56\u001B[0m\n\u001B[1;32m     54\u001B[0m video_url \u001B[38;5;241m=\u001B[39m entry\u001B[38;5;241m.\u001B[39mget(\u001B[38;5;124m'\u001B[39m\u001B[38;5;124murl\u001B[39m\u001B[38;5;124m'\u001B[39m)\n\u001B[1;32m     55\u001B[0m \u001B[38;5;66;03m#print(video_url)\u001B[39;00m\n\u001B[0;32m---> 56\u001B[0m \u001B[38;5;28mprint\u001B[39m(\u001B[43mget_youtube_title_ko\u001B[49m\u001B[43m(\u001B[49m\u001B[43mvideo_url\u001B[49m\u001B[43m)\u001B[49m)\n\u001B[1;32m     57\u001B[0m \u001B[38;5;28mprint\u001B[39m(\u001B[38;5;124m'\u001B[39m\u001B[38;5;124m----\u001B[39m\u001B[38;5;124m'\u001B[39m \u001B[38;5;241m*\u001B[39m\u001B[38;5;241m14\u001B[39m)\n",
      "Cell \u001B[0;32mIn[23], line 42\u001B[0m, in \u001B[0;36mget_youtube_title_ko\u001B[0;34m(url)\u001B[0m\n\u001B[1;32m     35\u001B[0m ydl_opts \u001B[38;5;241m=\u001B[39m {\n\u001B[1;32m     36\u001B[0m     \u001B[38;5;124m'\u001B[39m\u001B[38;5;124mquiet\u001B[39m\u001B[38;5;124m'\u001B[39m: \u001B[38;5;28;01mTrue\u001B[39;00m,\n\u001B[1;32m     37\u001B[0m     \u001B[38;5;124m'\u001B[39m\u001B[38;5;124mhttp_headers\u001B[39m\u001B[38;5;124m'\u001B[39m: {\n\u001B[1;32m     38\u001B[0m         \u001B[38;5;124m'\u001B[39m\u001B[38;5;124mAccept-Language\u001B[39m\u001B[38;5;124m'\u001B[39m: \u001B[38;5;124m'\u001B[39m\u001B[38;5;124mko\u001B[39m\u001B[38;5;124m'\u001B[39m,  \u001B[38;5;66;03m# HTTP 요청에 한국어 언어 설정\u001B[39;00m\n\u001B[1;32m     39\u001B[0m     },\n\u001B[1;32m     40\u001B[0m }\n\u001B[1;32m     41\u001B[0m \u001B[38;5;28;01mwith\u001B[39;00m yt_dlp\u001B[38;5;241m.\u001B[39mYoutubeDL(ydl_opts) \u001B[38;5;28;01mas\u001B[39;00m ydl:\n\u001B[0;32m---> 42\u001B[0m     info \u001B[38;5;241m=\u001B[39m \u001B[43mydl\u001B[49m\u001B[38;5;241;43m.\u001B[39;49m\u001B[43mextract_info\u001B[49m\u001B[43m(\u001B[49m\u001B[43murl\u001B[49m\u001B[43m,\u001B[49m\u001B[43m \u001B[49m\u001B[43mdownload\u001B[49m\u001B[38;5;241;43m=\u001B[39;49m\u001B[38;5;28;43;01mFalse\u001B[39;49;00m\u001B[43m)\u001B[49m\n\u001B[1;32m     44\u001B[0m     \u001B[38;5;28;01mreturn\u001B[39;00m {\n\u001B[1;32m     45\u001B[0m         \u001B[38;5;124m'\u001B[39m\u001B[38;5;124mtitle\u001B[39m\u001B[38;5;124m'\u001B[39m: info\u001B[38;5;241m.\u001B[39mget(\u001B[38;5;124m'\u001B[39m\u001B[38;5;124mtitle\u001B[39m\u001B[38;5;124m'\u001B[39m, \u001B[38;5;124m'\u001B[39m\u001B[38;5;124mUnknown Title\u001B[39m\u001B[38;5;124m'\u001B[39m),\n\u001B[1;32m     46\u001B[0m         \u001B[38;5;124m'\u001B[39m\u001B[38;5;124mthumbnail\u001B[39m\u001B[38;5;124m'\u001B[39m: info\u001B[38;5;241m.\u001B[39mget(\u001B[38;5;124m'\u001B[39m\u001B[38;5;124mthumbnail\u001B[39m\u001B[38;5;124m'\u001B[39m, \u001B[38;5;124m'\u001B[39m\u001B[38;5;124mUnknown Thumbnail\u001B[39m\u001B[38;5;124m'\u001B[39m),\n\u001B[0;32m   (...)\u001B[0m\n\u001B[1;32m     49\u001B[0m         \u001B[38;5;124m'\u001B[39m\u001B[38;5;124mtags\u001B[39m\u001B[38;5;124m'\u001B[39m: info\u001B[38;5;241m.\u001B[39mget(\u001B[38;5;124m'\u001B[39m\u001B[38;5;124mtags\u001B[39m\u001B[38;5;124m'\u001B[39m, [])\n\u001B[1;32m     50\u001B[0m     }\n",
      "File \u001B[0;32m/opt/miniconda3/envs/hanghae99/lib/python3.10/site-packages/yt_dlp/YoutubeDL.py:1626\u001B[0m, in \u001B[0;36mYoutubeDL.extract_info\u001B[0;34m(self, url, download, ie_key, extra_info, process, force_generic_extractor)\u001B[0m\n\u001B[1;32m   1624\u001B[0m             \u001B[38;5;28;01mraise\u001B[39;00m ExistingVideoReached\n\u001B[1;32m   1625\u001B[0m         \u001B[38;5;28;01mbreak\u001B[39;00m\n\u001B[0;32m-> 1626\u001B[0m     \u001B[38;5;28;01mreturn\u001B[39;00m \u001B[38;5;28;43mself\u001B[39;49m\u001B[38;5;241;43m.\u001B[39;49m\u001B[43m__extract_info\u001B[49m\u001B[43m(\u001B[49m\u001B[43murl\u001B[49m\u001B[43m,\u001B[49m\u001B[43m \u001B[49m\u001B[38;5;28;43mself\u001B[39;49m\u001B[38;5;241;43m.\u001B[39;49m\u001B[43mget_info_extractor\u001B[49m\u001B[43m(\u001B[49m\u001B[43mkey\u001B[49m\u001B[43m)\u001B[49m\u001B[43m,\u001B[49m\u001B[43m \u001B[49m\u001B[43mdownload\u001B[49m\u001B[43m,\u001B[49m\u001B[43m \u001B[49m\u001B[43mextra_info\u001B[49m\u001B[43m,\u001B[49m\u001B[43m \u001B[49m\u001B[43mprocess\u001B[49m\u001B[43m)\u001B[49m\n\u001B[1;32m   1627\u001B[0m \u001B[38;5;28;01melse\u001B[39;00m:\n\u001B[1;32m   1628\u001B[0m     extractors_restricted \u001B[38;5;241m=\u001B[39m \u001B[38;5;28mself\u001B[39m\u001B[38;5;241m.\u001B[39mparams\u001B[38;5;241m.\u001B[39mget(\u001B[38;5;124m'\u001B[39m\u001B[38;5;124mallowed_extractors\u001B[39m\u001B[38;5;124m'\u001B[39m) \u001B[38;5;129;01mnot\u001B[39;00m \u001B[38;5;129;01min\u001B[39;00m (\u001B[38;5;28;01mNone\u001B[39;00m, [\u001B[38;5;124m'\u001B[39m\u001B[38;5;124mdefault\u001B[39m\u001B[38;5;124m'\u001B[39m])\n",
      "File \u001B[0;32m/opt/miniconda3/envs/hanghae99/lib/python3.10/site-packages/yt_dlp/YoutubeDL.py:1637\u001B[0m, in \u001B[0;36mYoutubeDL._handle_extraction_exceptions.<locals>.wrapper\u001B[0;34m(self, *args, **kwargs)\u001B[0m\n\u001B[1;32m   1635\u001B[0m \u001B[38;5;28;01mwhile\u001B[39;00m \u001B[38;5;28;01mTrue\u001B[39;00m:\n\u001B[1;32m   1636\u001B[0m     \u001B[38;5;28;01mtry\u001B[39;00m:\n\u001B[0;32m-> 1637\u001B[0m         \u001B[38;5;28;01mreturn\u001B[39;00m \u001B[43mfunc\u001B[49m\u001B[43m(\u001B[49m\u001B[38;5;28;43mself\u001B[39;49m\u001B[43m,\u001B[49m\u001B[43m \u001B[49m\u001B[38;5;241;43m*\u001B[39;49m\u001B[43margs\u001B[49m\u001B[43m,\u001B[49m\u001B[43m \u001B[49m\u001B[38;5;241;43m*\u001B[39;49m\u001B[38;5;241;43m*\u001B[39;49m\u001B[43mkwargs\u001B[49m\u001B[43m)\u001B[49m\n\u001B[1;32m   1638\u001B[0m     \u001B[38;5;28;01mexcept\u001B[39;00m (CookieLoadError, DownloadCancelled, LazyList\u001B[38;5;241m.\u001B[39mIndexError, PagedList\u001B[38;5;241m.\u001B[39mIndexError):\n\u001B[1;32m   1639\u001B[0m         \u001B[38;5;28;01mraise\u001B[39;00m\n",
      "File \u001B[0;32m/opt/miniconda3/envs/hanghae99/lib/python3.10/site-packages/yt_dlp/YoutubeDL.py:1772\u001B[0m, in \u001B[0;36mYoutubeDL.__extract_info\u001B[0;34m(self, url, ie, download, extra_info, process)\u001B[0m\n\u001B[1;32m   1769\u001B[0m \u001B[38;5;28mself\u001B[39m\u001B[38;5;241m.\u001B[39m_apply_header_cookies(url)\n\u001B[1;32m   1771\u001B[0m \u001B[38;5;28;01mtry\u001B[39;00m:\n\u001B[0;32m-> 1772\u001B[0m     ie_result \u001B[38;5;241m=\u001B[39m \u001B[43mie\u001B[49m\u001B[38;5;241;43m.\u001B[39;49m\u001B[43mextract\u001B[49m\u001B[43m(\u001B[49m\u001B[43murl\u001B[49m\u001B[43m)\u001B[49m\n\u001B[1;32m   1773\u001B[0m \u001B[38;5;28;01mexcept\u001B[39;00m UserNotLive \u001B[38;5;28;01mas\u001B[39;00m e:\n\u001B[1;32m   1774\u001B[0m     \u001B[38;5;28;01mif\u001B[39;00m process:\n",
      "File \u001B[0;32m/opt/miniconda3/envs/hanghae99/lib/python3.10/site-packages/yt_dlp/extractor/common.py:742\u001B[0m, in \u001B[0;36mInfoExtractor.extract\u001B[0;34m(self, url)\u001B[0m\n\u001B[1;32m    739\u001B[0m \u001B[38;5;28mself\u001B[39m\u001B[38;5;241m.\u001B[39minitialize()\n\u001B[1;32m    740\u001B[0m \u001B[38;5;28mself\u001B[39m\u001B[38;5;241m.\u001B[39mto_screen(\u001B[38;5;124m'\u001B[39m\u001B[38;5;124mExtracting URL: \u001B[39m\u001B[38;5;132;01m%s\u001B[39;00m\u001B[38;5;124m'\u001B[39m \u001B[38;5;241m%\u001B[39m (\n\u001B[1;32m    741\u001B[0m     url \u001B[38;5;28;01mif\u001B[39;00m \u001B[38;5;28mself\u001B[39m\u001B[38;5;241m.\u001B[39mget_param(\u001B[38;5;124m'\u001B[39m\u001B[38;5;124mverbose\u001B[39m\u001B[38;5;124m'\u001B[39m) \u001B[38;5;28;01melse\u001B[39;00m truncate_string(url, \u001B[38;5;241m100\u001B[39m, \u001B[38;5;241m20\u001B[39m)))\n\u001B[0;32m--> 742\u001B[0m ie_result \u001B[38;5;241m=\u001B[39m \u001B[38;5;28;43mself\u001B[39;49m\u001B[38;5;241;43m.\u001B[39;49m\u001B[43m_real_extract\u001B[49m\u001B[43m(\u001B[49m\u001B[43murl\u001B[49m\u001B[43m)\u001B[49m\n\u001B[1;32m    743\u001B[0m \u001B[38;5;28;01mif\u001B[39;00m ie_result \u001B[38;5;129;01mis\u001B[39;00m \u001B[38;5;28;01mNone\u001B[39;00m:\n\u001B[1;32m    744\u001B[0m     \u001B[38;5;28;01mreturn\u001B[39;00m \u001B[38;5;28;01mNone\u001B[39;00m\n",
      "File \u001B[0;32m/opt/miniconda3/envs/hanghae99/lib/python3.10/site-packages/yt_dlp/extractor/youtube.py:4481\u001B[0m, in \u001B[0;36mYoutubeIE._real_extract\u001B[0;34m(self, url)\u001B[0m\n\u001B[1;32m   4478\u001B[0m base_url \u001B[38;5;241m=\u001B[39m \u001B[38;5;28mself\u001B[39m\u001B[38;5;241m.\u001B[39mhttp_scheme() \u001B[38;5;241m+\u001B[39m \u001B[38;5;124m'\u001B[39m\u001B[38;5;124m//www.youtube.com/\u001B[39m\u001B[38;5;124m'\u001B[39m\n\u001B[1;32m   4479\u001B[0m webpage_url \u001B[38;5;241m=\u001B[39m base_url \u001B[38;5;241m+\u001B[39m \u001B[38;5;124m'\u001B[39m\u001B[38;5;124mwatch?v=\u001B[39m\u001B[38;5;124m'\u001B[39m \u001B[38;5;241m+\u001B[39m video_id\n\u001B[0;32m-> 4481\u001B[0m webpage, master_ytcfg, player_responses, player_url \u001B[38;5;241m=\u001B[39m \u001B[38;5;28;43mself\u001B[39;49m\u001B[38;5;241;43m.\u001B[39;49m\u001B[43m_download_player_responses\u001B[49m\u001B[43m(\u001B[49m\u001B[43murl\u001B[49m\u001B[43m,\u001B[49m\u001B[43m \u001B[49m\u001B[43msmuggled_data\u001B[49m\u001B[43m,\u001B[49m\u001B[43m \u001B[49m\u001B[43mvideo_id\u001B[49m\u001B[43m,\u001B[49m\u001B[43m \u001B[49m\u001B[43mwebpage_url\u001B[49m\u001B[43m)\u001B[49m\n\u001B[1;32m   4483\u001B[0m playability_statuses \u001B[38;5;241m=\u001B[39m traverse_obj(\n\u001B[1;32m   4484\u001B[0m     player_responses, (\u001B[38;5;241m.\u001B[39m\u001B[38;5;241m.\u001B[39m\u001B[38;5;241m.\u001B[39m, \u001B[38;5;124m'\u001B[39m\u001B[38;5;124mplayabilityStatus\u001B[39m\u001B[38;5;124m'\u001B[39m), expected_type\u001B[38;5;241m=\u001B[39m\u001B[38;5;28mdict\u001B[39m)\n\u001B[1;32m   4486\u001B[0m trailer_video_id \u001B[38;5;241m=\u001B[39m get_first(\n\u001B[1;32m   4487\u001B[0m     playability_statuses,\n\u001B[1;32m   4488\u001B[0m     (\u001B[38;5;124m'\u001B[39m\u001B[38;5;124merrorScreen\u001B[39m\u001B[38;5;124m'\u001B[39m, \u001B[38;5;124m'\u001B[39m\u001B[38;5;124mplayerLegacyDesktopYpcTrailerRenderer\u001B[39m\u001B[38;5;124m'\u001B[39m, \u001B[38;5;124m'\u001B[39m\u001B[38;5;124mtrailerVideoId\u001B[39m\u001B[38;5;124m'\u001B[39m),\n\u001B[1;32m   4489\u001B[0m     expected_type\u001B[38;5;241m=\u001B[39m\u001B[38;5;28mstr\u001B[39m)\n",
      "File \u001B[0;32m/opt/miniconda3/envs/hanghae99/lib/python3.10/site-packages/yt_dlp/extractor/youtube.py:4443\u001B[0m, in \u001B[0;36mYoutubeIE._download_player_responses\u001B[0;34m(self, url, smuggled_data, video_id, webpage_url)\u001B[0m\n\u001B[1;32m   4439\u001B[0m         query[\u001B[38;5;124m'\u001B[39m\u001B[38;5;124mpp\u001B[39m\u001B[38;5;124m'\u001B[39m] \u001B[38;5;241m=\u001B[39m pp\n\u001B[1;32m   4440\u001B[0m     webpage \u001B[38;5;241m=\u001B[39m \u001B[38;5;28mself\u001B[39m\u001B[38;5;241m.\u001B[39m_download_webpage(\n\u001B[1;32m   4441\u001B[0m         webpage_url, video_id, fatal\u001B[38;5;241m=\u001B[39m\u001B[38;5;28;01mFalse\u001B[39;00m, query\u001B[38;5;241m=\u001B[39mquery)\n\u001B[0;32m-> 4443\u001B[0m master_ytcfg \u001B[38;5;241m=\u001B[39m \u001B[38;5;28;43mself\u001B[39;49m\u001B[38;5;241;43m.\u001B[39;49m\u001B[43mextract_ytcfg\u001B[49m\u001B[43m(\u001B[49m\u001B[43mvideo_id\u001B[49m\u001B[43m,\u001B[49m\u001B[43m \u001B[49m\u001B[43mwebpage\u001B[49m\u001B[43m)\u001B[49m \u001B[38;5;129;01mor\u001B[39;00m \u001B[38;5;28mself\u001B[39m\u001B[38;5;241m.\u001B[39m_get_default_ytcfg()\n\u001B[1;32m   4445\u001B[0m player_responses, player_url \u001B[38;5;241m=\u001B[39m \u001B[38;5;28mself\u001B[39m\u001B[38;5;241m.\u001B[39m_extract_player_responses(\n\u001B[1;32m   4446\u001B[0m     \u001B[38;5;28mself\u001B[39m\u001B[38;5;241m.\u001B[39m_get_requested_clients(url, smuggled_data),\n\u001B[1;32m   4447\u001B[0m     video_id, webpage, master_ytcfg, smuggled_data)\n\u001B[1;32m   4449\u001B[0m \u001B[38;5;28;01mreturn\u001B[39;00m webpage, master_ytcfg, player_responses, player_url\n",
      "File \u001B[0;32m/opt/miniconda3/envs/hanghae99/lib/python3.10/site-packages/yt_dlp/extractor/youtube.py:805\u001B[0m, in \u001B[0;36mYoutubeBaseInfoExtractor.extract_ytcfg\u001B[0;34m(self, video_id, webpage)\u001B[0m\n\u001B[1;32m    803\u001B[0m \u001B[38;5;28;01mif\u001B[39;00m \u001B[38;5;129;01mnot\u001B[39;00m webpage:\n\u001B[1;32m    804\u001B[0m     \u001B[38;5;28;01mreturn\u001B[39;00m {}\n\u001B[0;32m--> 805\u001B[0m \u001B[38;5;28;01mreturn\u001B[39;00m \u001B[38;5;28;43mself\u001B[39;49m\u001B[38;5;241;43m.\u001B[39;49m\u001B[43m_parse_json\u001B[49m\u001B[43m(\u001B[49m\n\u001B[1;32m    806\u001B[0m \u001B[43m    \u001B[49m\u001B[38;5;28;43mself\u001B[39;49m\u001B[38;5;241;43m.\u001B[39;49m\u001B[43m_search_regex\u001B[49m\u001B[43m(\u001B[49m\n\u001B[1;32m    807\u001B[0m \u001B[43m        \u001B[49m\u001B[38;5;124;43mr\u001B[39;49m\u001B[38;5;124;43m'\u001B[39;49m\u001B[38;5;124;43mytcfg\u001B[39;49m\u001B[38;5;124;43m\\\u001B[39;49m\u001B[38;5;124;43m.set\u001B[39;49m\u001B[38;5;124;43m\\\u001B[39;49m\u001B[38;5;124;43ms*\u001B[39;49m\u001B[38;5;124;43m\\\u001B[39;49m\u001B[38;5;124;43m(\u001B[39;49m\u001B[38;5;124;43m\\\u001B[39;49m\u001B[38;5;124;43ms*(\u001B[39;49m\u001B[38;5;124;43m{\u001B[39;49m\u001B[38;5;124;43m.+?})\u001B[39;49m\u001B[38;5;124;43m\\\u001B[39;49m\u001B[38;5;124;43ms*\u001B[39;49m\u001B[38;5;124;43m\\\u001B[39;49m\u001B[38;5;124;43m)\u001B[39;49m\u001B[38;5;124;43m\\\u001B[39;49m\u001B[38;5;124;43ms*;\u001B[39;49m\u001B[38;5;124;43m'\u001B[39;49m\u001B[43m,\u001B[49m\u001B[43m \u001B[49m\u001B[43mwebpage\u001B[49m\u001B[43m,\u001B[49m\u001B[43m \u001B[49m\u001B[38;5;124;43m'\u001B[39;49m\u001B[38;5;124;43mytcfg\u001B[39;49m\u001B[38;5;124;43m'\u001B[39;49m\u001B[43m,\u001B[49m\n\u001B[1;32m    808\u001B[0m \u001B[43m        \u001B[49m\u001B[43mdefault\u001B[49m\u001B[38;5;241;43m=\u001B[39;49m\u001B[38;5;124;43m'\u001B[39;49m\u001B[38;5;132;43;01m{}\u001B[39;49;00m\u001B[38;5;124;43m'\u001B[39;49m\u001B[43m)\u001B[49m\u001B[43m,\u001B[49m\u001B[43m \u001B[49m\u001B[43mvideo_id\u001B[49m\u001B[43m,\u001B[49m\u001B[43m \u001B[49m\u001B[43mfatal\u001B[49m\u001B[38;5;241;43m=\u001B[39;49m\u001B[38;5;28;43;01mFalse\u001B[39;49;00m\u001B[43m)\u001B[49m \u001B[38;5;129;01mor\u001B[39;00m {}\n",
      "File \u001B[0;32m/opt/miniconda3/envs/hanghae99/lib/python3.10/site-packages/yt_dlp/extractor/common.py:1091\u001B[0m, in \u001B[0;36mInfoExtractor._parse_json\u001B[0;34m(self, json_string, video_id, transform_source, fatal, errnote, **parser_kwargs)\u001B[0m\n\u001B[1;32m   1089\u001B[0m \u001B[38;5;28;01mdef\u001B[39;00m \u001B[38;5;21m_parse_json\u001B[39m(\u001B[38;5;28mself\u001B[39m, json_string, video_id, transform_source\u001B[38;5;241m=\u001B[39m\u001B[38;5;28;01mNone\u001B[39;00m, fatal\u001B[38;5;241m=\u001B[39m\u001B[38;5;28;01mTrue\u001B[39;00m, errnote\u001B[38;5;241m=\u001B[39m\u001B[38;5;28;01mNone\u001B[39;00m, \u001B[38;5;241m*\u001B[39m\u001B[38;5;241m*\u001B[39mparser_kwargs):\n\u001B[1;32m   1090\u001B[0m     \u001B[38;5;28;01mtry\u001B[39;00m:\n\u001B[0;32m-> 1091\u001B[0m         \u001B[38;5;28;01mreturn\u001B[39;00m \u001B[43mjson\u001B[49m\u001B[38;5;241;43m.\u001B[39;49m\u001B[43mloads\u001B[49m\u001B[43m(\u001B[49m\n\u001B[1;32m   1092\u001B[0m \u001B[43m            \u001B[49m\u001B[43mjson_string\u001B[49m\u001B[43m,\u001B[49m\u001B[43m \u001B[49m\u001B[38;5;28;43mcls\u001B[39;49m\u001B[38;5;241;43m=\u001B[39;49m\u001B[43mLenientJSONDecoder\u001B[49m\u001B[43m,\u001B[49m\u001B[43m \u001B[49m\u001B[43mstrict\u001B[49m\u001B[38;5;241;43m=\u001B[39;49m\u001B[38;5;28;43;01mFalse\u001B[39;49;00m\u001B[43m,\u001B[49m\u001B[43m \u001B[49m\u001B[43mtransform_source\u001B[49m\u001B[38;5;241;43m=\u001B[39;49m\u001B[43mtransform_source\u001B[49m\u001B[43m,\u001B[49m\u001B[43m \u001B[49m\u001B[38;5;241;43m*\u001B[39;49m\u001B[38;5;241;43m*\u001B[39;49m\u001B[43mparser_kwargs\u001B[49m\u001B[43m)\u001B[49m\n\u001B[1;32m   1093\u001B[0m     \u001B[38;5;28;01mexcept\u001B[39;00m \u001B[38;5;167;01mValueError\u001B[39;00m \u001B[38;5;28;01mas\u001B[39;00m ve:\n\u001B[1;32m   1094\u001B[0m         \u001B[38;5;28mself\u001B[39m\u001B[38;5;241m.\u001B[39m__print_error(\u001B[38;5;124m'\u001B[39m\u001B[38;5;124mFailed to parse JSON\u001B[39m\u001B[38;5;124m'\u001B[39m \u001B[38;5;28;01mif\u001B[39;00m errnote \u001B[38;5;129;01mis\u001B[39;00m \u001B[38;5;28;01mNone\u001B[39;00m \u001B[38;5;28;01melse\u001B[39;00m errnote, fatal, video_id, ve)\n",
      "File \u001B[0;32m/opt/miniconda3/envs/hanghae99/lib/python3.10/json/__init__.py:359\u001B[0m, in \u001B[0;36mloads\u001B[0;34m(s, cls, object_hook, parse_float, parse_int, parse_constant, object_pairs_hook, **kw)\u001B[0m\n\u001B[1;32m    357\u001B[0m \u001B[38;5;28;01mif\u001B[39;00m parse_constant \u001B[38;5;129;01mis\u001B[39;00m \u001B[38;5;129;01mnot\u001B[39;00m \u001B[38;5;28;01mNone\u001B[39;00m:\n\u001B[1;32m    358\u001B[0m     kw[\u001B[38;5;124m'\u001B[39m\u001B[38;5;124mparse_constant\u001B[39m\u001B[38;5;124m'\u001B[39m] \u001B[38;5;241m=\u001B[39m parse_constant\n\u001B[0;32m--> 359\u001B[0m \u001B[38;5;28;01mreturn\u001B[39;00m \u001B[38;5;28;43mcls\u001B[39;49m\u001B[43m(\u001B[49m\u001B[38;5;241;43m*\u001B[39;49m\u001B[38;5;241;43m*\u001B[39;49m\u001B[43mkw\u001B[49m\u001B[43m)\u001B[49m\u001B[38;5;241;43m.\u001B[39;49m\u001B[43mdecode\u001B[49m\u001B[43m(\u001B[49m\u001B[43ms\u001B[49m\u001B[43m)\u001B[49m\n",
      "File \u001B[0;32m/opt/miniconda3/envs/hanghae99/lib/python3.10/site-packages/yt_dlp/utils/_utils.py:565\u001B[0m, in \u001B[0;36mLenientJSONDecoder.decode\u001B[0;34m(self, s)\u001B[0m\n\u001B[1;32m    563\u001B[0m     \u001B[38;5;28;01mif\u001B[39;00m \u001B[38;5;28mself\u001B[39m\u001B[38;5;241m.\u001B[39mignore_extra:\n\u001B[1;32m    564\u001B[0m         \u001B[38;5;28;01mreturn\u001B[39;00m \u001B[38;5;28mself\u001B[39m\u001B[38;5;241m.\u001B[39mraw_decode(s\u001B[38;5;241m.\u001B[39mlstrip())[\u001B[38;5;241m0\u001B[39m]\n\u001B[0;32m--> 565\u001B[0m     \u001B[38;5;28;01mreturn\u001B[39;00m \u001B[38;5;28;43msuper\u001B[39;49m\u001B[43m(\u001B[49m\u001B[43m)\u001B[49m\u001B[38;5;241;43m.\u001B[39;49m\u001B[43mdecode\u001B[49m\u001B[43m(\u001B[49m\u001B[43ms\u001B[49m\u001B[43m)\u001B[49m\n\u001B[1;32m    566\u001B[0m \u001B[38;5;28;01mexcept\u001B[39;00m json\u001B[38;5;241m.\u001B[39mJSONDecodeError \u001B[38;5;28;01mas\u001B[39;00m e:\n\u001B[1;32m    567\u001B[0m     \u001B[38;5;28;01mif\u001B[39;00m e\u001B[38;5;241m.\u001B[39mpos \u001B[38;5;129;01mis\u001B[39;00m \u001B[38;5;28;01mNone\u001B[39;00m:\n",
      "File \u001B[0;32m/opt/miniconda3/envs/hanghae99/lib/python3.10/json/decoder.py:337\u001B[0m, in \u001B[0;36mJSONDecoder.decode\u001B[0;34m(self, s, _w)\u001B[0m\n\u001B[1;32m    332\u001B[0m \u001B[38;5;28;01mdef\u001B[39;00m \u001B[38;5;21mdecode\u001B[39m(\u001B[38;5;28mself\u001B[39m, s, _w\u001B[38;5;241m=\u001B[39mWHITESPACE\u001B[38;5;241m.\u001B[39mmatch):\n\u001B[1;32m    333\u001B[0m \u001B[38;5;250m    \u001B[39m\u001B[38;5;124;03m\"\"\"Return the Python representation of ``s`` (a ``str`` instance\u001B[39;00m\n\u001B[1;32m    334\u001B[0m \u001B[38;5;124;03m    containing a JSON document).\u001B[39;00m\n\u001B[1;32m    335\u001B[0m \n\u001B[1;32m    336\u001B[0m \u001B[38;5;124;03m    \"\"\"\u001B[39;00m\n\u001B[0;32m--> 337\u001B[0m     obj, end \u001B[38;5;241m=\u001B[39m \u001B[38;5;28;43mself\u001B[39;49m\u001B[38;5;241;43m.\u001B[39;49m\u001B[43mraw_decode\u001B[49m\u001B[43m(\u001B[49m\u001B[43ms\u001B[49m\u001B[43m,\u001B[49m\u001B[43m \u001B[49m\u001B[43midx\u001B[49m\u001B[38;5;241;43m=\u001B[39;49m\u001B[43m_w\u001B[49m\u001B[43m(\u001B[49m\u001B[43ms\u001B[49m\u001B[43m,\u001B[49m\u001B[43m \u001B[49m\u001B[38;5;241;43m0\u001B[39;49m\u001B[43m)\u001B[49m\u001B[38;5;241;43m.\u001B[39;49m\u001B[43mend\u001B[49m\u001B[43m(\u001B[49m\u001B[43m)\u001B[49m\u001B[43m)\u001B[49m\n\u001B[1;32m    338\u001B[0m     end \u001B[38;5;241m=\u001B[39m _w(s, end)\u001B[38;5;241m.\u001B[39mend()\n\u001B[1;32m    339\u001B[0m     \u001B[38;5;28;01mif\u001B[39;00m end \u001B[38;5;241m!=\u001B[39m \u001B[38;5;28mlen\u001B[39m(s):\n",
      "File \u001B[0;32m/opt/miniconda3/envs/hanghae99/lib/python3.10/json/decoder.py:353\u001B[0m, in \u001B[0;36mJSONDecoder.raw_decode\u001B[0;34m(self, s, idx)\u001B[0m\n\u001B[1;32m    344\u001B[0m \u001B[38;5;250m\u001B[39m\u001B[38;5;124;03m\"\"\"Decode a JSON document from ``s`` (a ``str`` beginning with\u001B[39;00m\n\u001B[1;32m    345\u001B[0m \u001B[38;5;124;03ma JSON document) and return a 2-tuple of the Python\u001B[39;00m\n\u001B[1;32m    346\u001B[0m \u001B[38;5;124;03mrepresentation and the index in ``s`` where the document ended.\u001B[39;00m\n\u001B[0;32m   (...)\u001B[0m\n\u001B[1;32m    350\u001B[0m \n\u001B[1;32m    351\u001B[0m \u001B[38;5;124;03m\"\"\"\u001B[39;00m\n\u001B[1;32m    352\u001B[0m \u001B[38;5;28;01mtry\u001B[39;00m:\n\u001B[0;32m--> 353\u001B[0m     obj, end \u001B[38;5;241m=\u001B[39m \u001B[38;5;28;43mself\u001B[39;49m\u001B[38;5;241;43m.\u001B[39;49m\u001B[43mscan_once\u001B[49m\u001B[43m(\u001B[49m\u001B[43ms\u001B[49m\u001B[43m,\u001B[49m\u001B[43m \u001B[49m\u001B[43midx\u001B[49m\u001B[43m)\u001B[49m\n\u001B[1;32m    354\u001B[0m \u001B[38;5;28;01mexcept\u001B[39;00m \u001B[38;5;167;01mStopIteration\u001B[39;00m \u001B[38;5;28;01mas\u001B[39;00m err:\n\u001B[1;32m    355\u001B[0m     \u001B[38;5;28;01mraise\u001B[39;00m JSONDecodeError(\u001B[38;5;124m\"\u001B[39m\u001B[38;5;124mExpecting value\u001B[39m\u001B[38;5;124m\"\u001B[39m, s, err\u001B[38;5;241m.\u001B[39mvalue) \u001B[38;5;28;01mfrom\u001B[39;00m \u001B[38;5;28;01mNone\u001B[39;00m\n",
      "\u001B[0;31mKeyboardInterrupt\u001B[0m: "
     ]
    }
   ],
   "source": [
    "import yt_dlp\n",
    "import os\n",
    "from urllib.parse import urlparse, parse_qs\n",
    "\n",
    "\n",
    "def get_video_or_playlist_info(url, noplaylist=True):\n",
    "\n",
    "    ydl_opts = {\n",
    "        'quiet': True,\n",
    "        'extract_flat': not noplaylist,  # 재생목록일 경우 정보만 가져옴\n",
    "        'noplaylist': noplaylist,  # 사용자의 선택에 따라 재생목록 전체 또는 단일 동영상 처리\n",
    "        'geo_bypass': True,  # 지역 제한 우회\n",
    "        'geo_bypass_country': 'KR',  # 한국 지역으로 설정\n",
    "        'http_headers': {\n",
    "            'Accept-Language': 'ko'  # HTTP 요청에 한국어 설정\n",
    "        }\n",
    "    }\n",
    "    with yt_dlp.YoutubeDL(ydl_opts) as ydl:\n",
    "        info = ydl.extract_info(url, download=False)\n",
    "        return info\n",
    "\n",
    "\n",
    "def get_playlist_info(url):\n",
    "    ydl_opts = {\n",
    "        'quiet': True,\n",
    "        'extract_flat': True,  # 재생목록일 경우 정보만 가져옴\n",
    "        'noplaylist': False,  # 사용자의 선택에 따라 재생목록 전체 또는 단일 동영상 처리\n",
    "    }\n",
    "    with yt_dlp.YoutubeDL(ydl_opts) as ydl:\n",
    "        info = ydl.extract_info(url, download=False)\n",
    "        return info\n",
    "\n",
    "\n",
    "def get_youtube_title_ko(url: str) -> str:\n",
    "    ydl_opts = {\n",
    "        'quiet': True,\n",
    "        'http_headers': {\n",
    "            'Accept-Language': 'ko',  # HTTP 요청에 한국어 언어 설정\n",
    "        },\n",
    "    }\n",
    "    with yt_dlp.YoutubeDL(ydl_opts) as ydl:\n",
    "        info = ydl.extract_info(url, download=False)\n",
    "\n",
    "        return {\n",
    "            'title': info.get('title', 'Unknown Title'),\n",
    "            'thumbnail': info.get('thumbnail', 'Unknown Thumbnail'),\n",
    "            'url': info.get('original_url', 'Unknown Url'),\n",
    "            'description': info.get('description', 'Unknown Description'),\n",
    "            'tags': info.get('tags', [])\n",
    "        }\n",
    "\n",
    "playlist_info = get_video_or_playlist_info('https://www.youtube.com/playlist?list=PLO-mt5Iu5TeZF8xMHqtT_DhAPKmjF6i3x', False)\n",
    "for entry in playlist_info['entries']:\n",
    "    video_url = entry.get('url')\n",
    "    #print(video_url)\n",
    "    print(get_youtube_title_ko(video_url))\n",
    "    print('----' *14)\n",
    "\n"
   ],
   "metadata": {
    "collapsed": false
   }
  }
 ],
 "metadata": {
  "kernelspec": {
   "display_name": "Python 3",
   "language": "python",
   "name": "python3"
  },
  "language_info": {
   "codemirror_mode": {
    "name": "ipython",
    "version": 2
   },
   "file_extension": ".py",
   "mimetype": "text/x-python",
   "name": "python",
   "nbconvert_exporter": "python",
   "pygments_lexer": "ipython2",
   "version": "2.7.6"
  }
 },
 "nbformat": 4,
 "nbformat_minor": 0
}
