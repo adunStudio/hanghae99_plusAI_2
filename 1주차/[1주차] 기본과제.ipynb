{
 "nbformat": 4,
 "nbformat_minor": 0,
 "metadata": {
  "colab": {
   "provenance": [],
   "gpuType": "T4",
   "include_colab_link": true
  },
  "kernelspec": {
   "name": "python3",
   "display_name": "Python 3 (ipykernel)",
   "language": "python"
  },
  "language_info": {
   "name": "python"
  },
  "accelerator": "GPU"
 },
 "cells": [
  {
   "cell_type": "markdown",
   "metadata": {
    "id": "view-in-github",
    "colab_type": "text"
   },
   "source": [
    "<a href=\"https://colab.research.google.com/github/adunStudio/hanghae99_plusAI_2/blob/main/1%EC%A3%BC%EC%B0%A8/1_3_MNIST.ipynb\" target=\"_parent\"><img src=\"https://colab.research.google.com/assets/colab-badge.svg\" alt=\"Open In Colab\"/></a>"
   ]
  },
  {
   "metadata": {},
   "cell_type": "markdown",
   "source": [
    "## [FEEDBACK] 맥 환경입니다. CUDA가 아닌 MPS 사용해도 될까요?\n",
    "\n",
    "| **항목**          | **CUDA**                                  | **MPS (Metal Performance Shaders)**        |\n",
    "|-------------------|------------------------------------------|-------------------------------------------|\n",
    "| **제작사**       | NVIDIA                                   | Apple                                     |\n",
    "| **호환 하드웨어** | NVIDIA GPU 전용                         | Apple Silicon (M1, M2), 일부 Intel Mac GPU |\n",
    "| **플랫폼**       | Windows, Linux, macOS (NVIDIA GPU만)     | macOS 및 iOS                              |\n",
    "| **프로그래밍 모델** | CUDA C/C++, Python, cuDNN 등 지원       | Metal API 기반, Python (PyTorch MPS)       |\n",
    "| **프레임워크 호환성** | TensorFlow, PyTorch, MXNet, etc.         | PyTorch (MPS 백엔드)                      |\n",
    "| **생태계**       | 매우 광범위, NVIDIA GPU 생태계에 집중    | Apple 생태계 내에 한정                    |\n",
    "| **API 및 라이브러리** | CUDA Core, cuDNN, cuBLAS, TensorRT 등    | Metal Performance Shaders API             |"
   ]
  },
  {
   "metadata": {
    "ExecuteTime": {
     "end_time": "2024-12-18T11:51:53.101704Z",
     "start_time": "2024-12-18T11:51:52.031794Z"
    }
   },
   "cell_type": "code",
   "source": [
    "import torch\n",
    "print(f\"MPS 장치를 지원하도록 build가 되었는가? {torch.backends.mps.is_built()}\")\n",
    "print(f\"MPS 장치가 사용 가능한가? {torch.backends.mps.is_available()}\")\n",
    "\n",
    "device = torch.device(\"mps\")"
   ],
   "outputs": [
    {
     "name": "stdout",
     "output_type": "stream",
     "text": [
      "MPS 장치를 지원하도록 build가 되었는가? True\n",
      "MPS 장치가 사용 가능한가? True\n"
     ]
    }
   ],
   "execution_count": 1
  },
  {
   "cell_type": "markdown",
   "source": [
    "# MNIST 실습"
   ],
   "metadata": {
    "id": "OPJenlrhihrh"
   }
  },
  {
   "cell_type": "code",
   "metadata": {
    "id": "6lXVfXoDtoQh",
    "ExecuteTime": {
     "end_time": "2024-12-18T11:51:54.066465Z",
     "start_time": "2024-12-18T11:51:53.119247Z"
    }
   },
   "source": [
    "import torch\n",
    "import torchvision\n",
    "import torchvision.transforms as transforms"
   ],
   "outputs": [],
   "execution_count": 2
  },
  {
   "cell_type": "markdown",
   "source": [
    "# [MY CODE] Test data 준비하기 1/2\n"
   ],
   "metadata": {
    "collapsed": false
   }
  },
  {
   "cell_type": "code",
   "source": [
    "# 데이터셋 전처리:\n",
    "# 1. PIL 이미지 또는 NumPy 배열 → PyTorch Tensor로 변환\n",
    "# 2. 이미지를 Tensor로 변환 (픽셀 값을 [0, 1] 범위로 정규화)\n",
    "# 3. 이미지 데이터를 [-1, 1] 범위로 스케일링\n",
    "transform = transforms.Compose([\n",
    "    transforms.ToTensor(),\n",
    "    transforms.Normalize((0.5,), (0.5,))\n",
    "])\n",
    "\n",
    "# MNIST 학습 데이터셋 로드\n",
    "train_set = torchvision.datasets.MNIST(\n",
    "    root='./data',\n",
    "    train=True,\n",
    "    download=True,\n",
    "    transform=transform,\n",
    ")\n",
    "\n",
    "# MNIST 테스트 데이터셋 로드\n",
    "test_set = torchvision.datasets.MNIST(\n",
    "    root='./data',\n",
    "    train=False,\n",
    "    download=True,\n",
    "    transform=transform,\n",
    ")"
   ],
   "metadata": {
    "id": "KAYlqPaRt6ti",
    "colab": {
     "base_uri": "https://localhost:8080/"
    },
    "outputId": "67e51d96-85b4-4129-efc8-7938006afdd4",
    "ExecuteTime": {
     "end_time": "2024-12-18T12:03:40.635751Z",
     "start_time": "2024-12-18T12:03:40.597196Z"
    }
   },
   "outputs": [],
   "execution_count": 13
  },
  {
   "cell_type": "code",
   "source": [
    "from matplotlib import pyplot as plt\n",
    "\n",
    "print(len(train_set))\n",
    "print(train_set[0][0].shape, train_set[0][1])\n",
    "plt.imshow(train_set[0][0][0], cmap='gray')\n",
    "# 60,000개의 이미지로 구성되어있다.\n",
    "# [1, 28, 28]: 1채널(흑백), 28 x 28 크기 이미지"
   ],
   "metadata": {
    "colab": {
     "base_uri": "https://localhost:8080/",
     "height": 481
    },
    "id": "Zsp3sHmojyhT",
    "outputId": "3511bb75-e677-4fb8-894b-69e22c80f4bc",
    "ExecuteTime": {
     "end_time": "2024-12-18T11:51:54.527156Z",
     "start_time": "2024-12-18T11:51:54.183927Z"
    }
   },
   "outputs": [
    {
     "name": "stdout",
     "output_type": "stream",
     "text": [
      "60000\n",
      "torch.Size([1, 28, 28]) 5\n"
     ]
    },
    {
     "data": {
      "text/plain": [
       "<matplotlib.image.AxesImage at 0x147c83bc0>"
      ]
     },
     "execution_count": 4,
     "metadata": {},
     "output_type": "execute_result"
    },
    {
     "data": {
      "text/plain": [
       "<Figure size 640x480 with 1 Axes>"
      ],
      "image/png": "[encoded data removed]"
     },
     "metadata": {},
     "output_type": "display_data"
    }
   ],
   "execution_count": 4
  },
  {
   "cell_type": "markdown",
   "source": [
    "# [MY CODE] Test data 준비하기 2/2\n"
   ],
   "metadata": {
    "collapsed": false
   }
  },
  {
   "cell_type": "code",
   "source": [
    "batch_size = 256\n",
    "\n",
    "train_loader = torch.utils.data.DataLoader(\n",
    "    train_set,\n",
    "    batch_size=batch_size,\n",
    "    shuffle=True\n",
    ")\n",
    "\n",
    "test_loader = torch.utils.data.DataLoader(\n",
    "    test_set,\n",
    "    batch_size=batch_size,\n",
    "    shuffle=False\n",
    ")"
   ],
   "metadata": {
    "id": "UxKu3kA2i5WH",
    "ExecuteTime": {
     "end_time": "2024-12-18T11:51:54.551897Z",
     "start_time": "2024-12-18T11:51:54.547936Z"
    }
   },
   "outputs": [],
   "execution_count": 5
  },
  {
   "cell_type": "code",
   "source": [
    "dataiter = iter(train_loader)\n",
    "images, labels = next(dataiter)\n",
    "print(images.shape, labels.shape)"
   ],
   "metadata": {
    "colab": {
     "base_uri": "https://localhost:8080/"
    },
    "id": "_Hd7XxyAvVNz",
    "outputId": "185acb61-2ed7-4110-b325-c0e016ca60b0",
    "ExecuteTime": {
     "end_time": "2024-12-18T11:51:54.589864Z",
     "start_time": "2024-12-18T11:51:54.563429Z"
    }
   },
   "outputs": [
    {
     "name": "stdout",
     "output_type": "stream",
     "text": [
      "torch.Size([256, 1, 28, 28]) torch.Size([256])\n"
     ]
    }
   ],
   "execution_count": 6
  },
  {
   "cell_type": "code",
   "source": [
    "def accuracy(model, dataloader):\n",
    "  cnt = 0\n",
    "  acc = 0\n",
    "\n",
    "  for data in dataloader:\n",
    "    inputs, labels = data\n",
    "    inputs, labels = inputs.to(device), labels.to(device)\n",
    "\n",
    "    preds = model(inputs)\n",
    "    preds = torch.argmax(preds, dim=-1)\n",
    "\n",
    "    cnt += labels.shape[0]\n",
    "    acc += (labels == preds).sum().item()\n",
    "\n",
    "  return acc / cnt"
   ],
   "metadata": {
    "collapsed": false,
    "ExecuteTime": {
     "end_time": "2024-12-18T11:51:54.618112Z",
     "start_time": "2024-12-18T11:51:54.613569Z"
    }
   },
   "outputs": [],
   "execution_count": 7
  },
  {
   "cell_type": "code",
   "source": [
    "from torch import nn\n",
    "\n",
    "\n",
    "class Model(nn.Module):\n",
    "    def __init__(self, input_dim, num_dim, num_classes):\n",
    "        super().__init__()\n",
    "\n",
    "        self.layer1 = nn.Linear(input_dim, num_dim)\n",
    "        self.layer2 = nn.Linear(num_dim, num_dim)\n",
    "        self.layer3 = nn.Linear(num_dim, num_classes)  # 최종 출력 레이어\n",
    "\n",
    "        self.act = nn.ReLU()\n",
    "\n",
    "    def forward(self, x):\n",
    "        x = torch.flatten(x, start_dim=1)  # 입력 평탄화\n",
    "        x = self.act(self.layer1(x))       # 첫 번째 레이어 + ReLU\n",
    "        x = self.act(self.layer2(x))       # 두 번째 레이어 + ReLU\n",
    "        x = self.layer3(x)                 # 세 번째 레이어 (로짓 반환)\n",
    "        # CrossEntropyLoss는 Softmax를 내부적으로 자동 적용한다.\n",
    "        # Softmax가 두 번 적용되면 랭크는 같으나 값의 차이가 생긴다.\n",
    "        return x\n",
    "\n",
    "\n",
    "model = Model(28 * 28 * 1, 1024, 10)"
   ],
   "metadata": {
    "id": "OLOA-ZGTuVVG",
    "ExecuteTime": {
     "end_time": "2024-12-18T11:51:54.654111Z",
     "start_time": "2024-12-18T11:51:54.642452Z"
    }
   },
   "outputs": [],
   "execution_count": 8
  },
  {
   "cell_type": "markdown",
   "source": [
    "# [MY CODE] nn.CrossEntropyLoss 적용하기"
   ],
   "metadata": {
    "collapsed": false
   }
  },
  {
   "cell_type": "code",
   "source": [
    "from torch.optim import SGD\n",
    "\n",
    "lr = 0.001\n",
    "model = model.to(device)\n",
    "\n",
    "# 손실 함수: 교차 엔트로피 손실 (분류 문제에서 사용)\n",
    "criterion = nn.CrossEntropyLoss()\n",
    "\n",
    "optimizer = SGD(model.parameters(), lr=lr)\n",
    "\n",
    "train_accuracies = []\n",
    "test_accuracies = []"
   ],
   "metadata": {
    "id": "ypS0TcOlvBhZ",
    "ExecuteTime": {
     "end_time": "2024-12-18T11:51:54.687857Z",
     "start_time": "2024-12-18T11:51:54.667920Z"
    }
   },
   "outputs": [],
   "execution_count": 9
  },
  {
   "cell_type": "code",
   "source": [
    "import time\n",
    "\n",
    "num_epochs = 100\n",
    "\n",
    "for epoch in range(num_epochs):\n",
    "  start_time = time.time()  # 에포크 시작 시간 기록\n",
    "  total_loss = 0.\n",
    "  model.train()  # 학습 모드\n",
    "\n",
    "  for data in train_loader:\n",
    "    model.zero_grad()\n",
    "    inputs, labels = data\n",
    "    inputs, labels = inputs.to(device), labels.to(device)\n",
    "\n",
    "    preds = model(inputs)\n",
    "    loss = criterion(preds, labels)\n",
    "    loss.backward()\n",
    "    optimizer.step()\n",
    "\n",
    "    total_loss += loss.item()\n",
    "    average_loss = total_loss / len(train_loader)\n",
    "\n",
    "  end_time = time.time()\n",
    "  epoch_time = end_time - start_time  # 에포크 실행 시간 계산\n",
    "\n",
    "  with torch.no_grad():\n",
    "    model.eval()  # 평가 모드\n",
    "    train_acc = accuracy(model, train_loader)  # 학습 데이터 정확도\n",
    "    test_acc = accuracy(model, test_loader)    # 테스트 데이터 정확도\n",
    "\n",
    "  train_accuracies.append(train_acc)\n",
    "  test_accuracies.append(test_acc)\n",
    "\n",
    "  print(f\"Epoch {epoch+1:3d} |\"\n",
    "        f\" Time: {epoch_time:.2f} seconds |\"\n",
    "        f\" Loss: {average_loss:.2f} |\"\n",
    "        f\" Train Acc: {train_acc:.3f} |\"\n",
    "        f\" Test Acc: {test_acc:.3f}\")"
   ],
   "metadata": {
    "colab": {
     "base_uri": "https://localhost:8080/"
    },
    "id": "TryX1hewvNiB",
    "outputId": "4e4a9282-d49a-40ff-c26c-d00fb7c0af79",
    "ExecuteTime": {
     "end_time": "2024-12-18T12:03:37.660797Z",
     "start_time": "2024-12-18T11:51:54.696361Z"
    }
   },
   "outputs": [
    {
     "name": "stdout",
     "output_type": "stream",
     "text": [
      "Epoch   1 | Time: 4.02 seconds | Loss: 2.26 | Train Acc: 0.378 | Test Acc: 0.392\n",
      "Epoch   2 | Time: 4.09 seconds | Loss: 2.15 | Train Acc: 0.507 | Test Acc: 0.525\n",
      "Epoch   3 | Time: 3.72 seconds | Loss: 2.04 | Train Acc: 0.602 | Test Acc: 0.618\n",
      "Epoch   4 | Time: 3.65 seconds | Loss: 1.91 | Train Acc: 0.656 | Test Acc: 0.669\n",
      "Epoch   5 | Time: 3.91 seconds | Loss: 1.75 | Train Acc: 0.699 | Test Acc: 0.711\n",
      "Epoch   6 | Time: 3.53 seconds | Loss: 1.58 | Train Acc: 0.729 | Test Acc: 0.741\n",
      "Epoch   7 | Time: 3.49 seconds | Loss: 1.40 | Train Acc: 0.757 | Test Acc: 0.773\n",
      "Epoch   8 | Time: 3.50 seconds | Loss: 1.24 | Train Acc: 0.779 | Test Acc: 0.792\n",
      "Epoch   9 | Time: 3.88 seconds | Loss: 1.11 | Train Acc: 0.794 | Test Acc: 0.804\n",
      "Epoch  10 | Time: 3.65 seconds | Loss: 0.99 | Train Acc: 0.808 | Test Acc: 0.817\n",
      "Epoch  11 | Time: 4.44 seconds | Loss: 0.90 | Train Acc: 0.817 | Test Acc: 0.825\n",
      "Epoch  12 | Time: 3.76 seconds | Loss: 0.83 | Train Acc: 0.827 | Test Acc: 0.835\n",
      "Epoch  13 | Time: 4.03 seconds | Loss: 0.77 | Train Acc: 0.833 | Test Acc: 0.840\n",
      "Epoch  14 | Time: 3.84 seconds | Loss: 0.71 | Train Acc: 0.840 | Test Acc: 0.847\n",
      "Epoch  15 | Time: 3.90 seconds | Loss: 0.67 | Train Acc: 0.844 | Test Acc: 0.852\n",
      "Epoch  16 | Time: 3.51 seconds | Loss: 0.64 | Train Acc: 0.850 | Test Acc: 0.857\n",
      "Epoch  17 | Time: 3.64 seconds | Loss: 0.61 | Train Acc: 0.854 | Test Acc: 0.861\n",
      "Epoch  18 | Time: 3.55 seconds | Loss: 0.58 | Train Acc: 0.857 | Test Acc: 0.865\n",
      "Epoch  19 | Time: 3.87 seconds | Loss: 0.56 | Train Acc: 0.862 | Test Acc: 0.869\n",
      "Epoch  20 | Time: 3.69 seconds | Loss: 0.54 | Train Acc: 0.865 | Test Acc: 0.872\n",
      "Epoch  21 | Time: 3.50 seconds | Loss: 0.52 | Train Acc: 0.867 | Test Acc: 0.875\n",
      "Epoch  22 | Time: 3.50 seconds | Loss: 0.51 | Train Acc: 0.870 | Test Acc: 0.877\n",
      "Epoch  23 | Time: 3.52 seconds | Loss: 0.49 | Train Acc: 0.872 | Test Acc: 0.879\n",
      "Epoch  24 | Time: 3.50 seconds | Loss: 0.48 | Train Acc: 0.874 | Test Acc: 0.881\n",
      "Epoch  25 | Time: 3.51 seconds | Loss: 0.47 | Train Acc: 0.876 | Test Acc: 0.884\n",
      "Epoch  26 | Time: 3.51 seconds | Loss: 0.46 | Train Acc: 0.878 | Test Acc: 0.885\n",
      "Epoch  27 | Time: 3.50 seconds | Loss: 0.45 | Train Acc: 0.880 | Test Acc: 0.886\n",
      "Epoch  28 | Time: 3.56 seconds | Loss: 0.44 | Train Acc: 0.882 | Test Acc: 0.888\n",
      "Epoch  29 | Time: 3.49 seconds | Loss: 0.43 | Train Acc: 0.883 | Test Acc: 0.888\n",
      "Epoch  30 | Time: 3.51 seconds | Loss: 0.43 | Train Acc: 0.884 | Test Acc: 0.889\n",
      "Epoch  31 | Time: 3.51 seconds | Loss: 0.42 | Train Acc: 0.886 | Test Acc: 0.891\n",
      "Epoch  32 | Time: 3.49 seconds | Loss: 0.41 | Train Acc: 0.887 | Test Acc: 0.892\n",
      "Epoch  33 | Time: 3.49 seconds | Loss: 0.41 | Train Acc: 0.889 | Test Acc: 0.892\n",
      "Epoch  34 | Time: 3.49 seconds | Loss: 0.40 | Train Acc: 0.890 | Test Acc: 0.894\n",
      "Epoch  35 | Time: 3.48 seconds | Loss: 0.40 | Train Acc: 0.891 | Test Acc: 0.893\n",
      "Epoch  36 | Time: 3.48 seconds | Loss: 0.39 | Train Acc: 0.891 | Test Acc: 0.895\n",
      "Epoch  37 | Time: 3.53 seconds | Loss: 0.39 | Train Acc: 0.892 | Test Acc: 0.896\n",
      "Epoch  38 | Time: 3.48 seconds | Loss: 0.39 | Train Acc: 0.893 | Test Acc: 0.897\n",
      "Epoch  39 | Time: 3.51 seconds | Loss: 0.38 | Train Acc: 0.894 | Test Acc: 0.897\n",
      "Epoch  40 | Time: 3.50 seconds | Loss: 0.38 | Train Acc: 0.895 | Test Acc: 0.898\n",
      "Epoch  41 | Time: 3.49 seconds | Loss: 0.38 | Train Acc: 0.895 | Test Acc: 0.899\n",
      "Epoch  42 | Time: 3.50 seconds | Loss: 0.37 | Train Acc: 0.896 | Test Acc: 0.900\n",
      "Epoch  43 | Time: 3.49 seconds | Loss: 0.37 | Train Acc: 0.897 | Test Acc: 0.900\n",
      "Epoch  44 | Time: 3.54 seconds | Loss: 0.37 | Train Acc: 0.897 | Test Acc: 0.901\n",
      "Epoch  45 | Time: 3.48 seconds | Loss: 0.36 | Train Acc: 0.898 | Test Acc: 0.901\n",
      "Epoch  46 | Time: 3.50 seconds | Loss: 0.36 | Train Acc: 0.898 | Test Acc: 0.902\n",
      "Epoch  47 | Time: 3.49 seconds | Loss: 0.36 | Train Acc: 0.899 | Test Acc: 0.903\n",
      "Epoch  48 | Time: 3.49 seconds | Loss: 0.36 | Train Acc: 0.899 | Test Acc: 0.904\n",
      "Epoch  49 | Time: 3.51 seconds | Loss: 0.35 | Train Acc: 0.900 | Test Acc: 0.904\n",
      "Epoch  50 | Time: 3.51 seconds | Loss: 0.35 | Train Acc: 0.901 | Test Acc: 0.904\n",
      "Epoch  51 | Time: 3.50 seconds | Loss: 0.35 | Train Acc: 0.901 | Test Acc: 0.905\n",
      "Epoch  52 | Time: 3.50 seconds | Loss: 0.35 | Train Acc: 0.901 | Test Acc: 0.904\n",
      "Epoch  53 | Time: 3.52 seconds | Loss: 0.34 | Train Acc: 0.902 | Test Acc: 0.905\n",
      "Epoch  54 | Time: 3.55 seconds | Loss: 0.34 | Train Acc: 0.903 | Test Acc: 0.906\n",
      "Epoch  55 | Time: 3.49 seconds | Loss: 0.34 | Train Acc: 0.903 | Test Acc: 0.906\n",
      "Epoch  56 | Time: 3.53 seconds | Loss: 0.34 | Train Acc: 0.904 | Test Acc: 0.908\n",
      "Epoch  57 | Time: 3.49 seconds | Loss: 0.34 | Train Acc: 0.904 | Test Acc: 0.907\n",
      "Epoch  58 | Time: 3.49 seconds | Loss: 0.33 | Train Acc: 0.905 | Test Acc: 0.908\n",
      "Epoch  59 | Time: 3.51 seconds | Loss: 0.33 | Train Acc: 0.905 | Test Acc: 0.909\n",
      "Epoch  60 | Time: 3.48 seconds | Loss: 0.33 | Train Acc: 0.906 | Test Acc: 0.909\n",
      "Epoch  61 | Time: 3.46 seconds | Loss: 0.33 | Train Acc: 0.906 | Test Acc: 0.909\n",
      "Epoch  62 | Time: 3.47 seconds | Loss: 0.33 | Train Acc: 0.907 | Test Acc: 0.910\n",
      "Epoch  63 | Time: 3.58 seconds | Loss: 0.33 | Train Acc: 0.907 | Test Acc: 0.910\n",
      "Epoch  64 | Time: 3.56 seconds | Loss: 0.33 | Train Acc: 0.908 | Test Acc: 0.911\n",
      "Epoch  65 | Time: 3.47 seconds | Loss: 0.32 | Train Acc: 0.908 | Test Acc: 0.911\n",
      "Epoch  66 | Time: 3.50 seconds | Loss: 0.32 | Train Acc: 0.908 | Test Acc: 0.911\n",
      "Epoch  67 | Time: 3.52 seconds | Loss: 0.32 | Train Acc: 0.909 | Test Acc: 0.911\n",
      "Epoch  68 | Time: 3.49 seconds | Loss: 0.32 | Train Acc: 0.909 | Test Acc: 0.912\n",
      "Epoch  69 | Time: 3.49 seconds | Loss: 0.32 | Train Acc: 0.909 | Test Acc: 0.912\n",
      "Epoch  70 | Time: 3.47 seconds | Loss: 0.32 | Train Acc: 0.910 | Test Acc: 0.911\n",
      "Epoch  71 | Time: 3.50 seconds | Loss: 0.32 | Train Acc: 0.910 | Test Acc: 0.912\n",
      "Epoch  72 | Time: 3.51 seconds | Loss: 0.31 | Train Acc: 0.910 | Test Acc: 0.913\n",
      "Epoch  73 | Time: 3.48 seconds | Loss: 0.31 | Train Acc: 0.911 | Test Acc: 0.913\n",
      "Epoch  74 | Time: 3.70 seconds | Loss: 0.31 | Train Acc: 0.911 | Test Acc: 0.913\n",
      "Epoch  75 | Time: 3.55 seconds | Loss: 0.31 | Train Acc: 0.911 | Test Acc: 0.914\n",
      "Epoch  76 | Time: 3.51 seconds | Loss: 0.31 | Train Acc: 0.912 | Test Acc: 0.914\n",
      "Epoch  77 | Time: 3.59 seconds | Loss: 0.31 | Train Acc: 0.912 | Test Acc: 0.914\n",
      "Epoch  78 | Time: 3.48 seconds | Loss: 0.31 | Train Acc: 0.912 | Test Acc: 0.914\n",
      "Epoch  79 | Time: 3.48 seconds | Loss: 0.31 | Train Acc: 0.913 | Test Acc: 0.915\n",
      "Epoch  80 | Time: 3.77 seconds | Loss: 0.30 | Train Acc: 0.913 | Test Acc: 0.915\n",
      "Epoch  81 | Time: 3.52 seconds | Loss: 0.30 | Train Acc: 0.913 | Test Acc: 0.915\n",
      "Epoch  82 | Time: 3.51 seconds | Loss: 0.30 | Train Acc: 0.913 | Test Acc: 0.915\n",
      "Epoch  83 | Time: 3.49 seconds | Loss: 0.30 | Train Acc: 0.914 | Test Acc: 0.917\n",
      "Epoch  84 | Time: 3.49 seconds | Loss: 0.30 | Train Acc: 0.914 | Test Acc: 0.917\n",
      "Epoch  85 | Time: 3.50 seconds | Loss: 0.30 | Train Acc: 0.914 | Test Acc: 0.917\n",
      "Epoch  86 | Time: 3.49 seconds | Loss: 0.30 | Train Acc: 0.915 | Test Acc: 0.918\n",
      "Epoch  87 | Time: 3.51 seconds | Loss: 0.30 | Train Acc: 0.915 | Test Acc: 0.918\n",
      "Epoch  88 | Time: 3.50 seconds | Loss: 0.30 | Train Acc: 0.915 | Test Acc: 0.917\n",
      "Epoch  89 | Time: 3.51 seconds | Loss: 0.30 | Train Acc: 0.915 | Test Acc: 0.918\n",
      "Epoch  90 | Time: 3.50 seconds | Loss: 0.29 | Train Acc: 0.916 | Test Acc: 0.919\n",
      "Epoch  91 | Time: 3.53 seconds | Loss: 0.29 | Train Acc: 0.916 | Test Acc: 0.918\n",
      "Epoch  92 | Time: 3.80 seconds | Loss: 0.29 | Train Acc: 0.916 | Test Acc: 0.919\n",
      "Epoch  93 | Time: 3.56 seconds | Loss: 0.29 | Train Acc: 0.917 | Test Acc: 0.919\n",
      "Epoch  94 | Time: 3.65 seconds | Loss: 0.29 | Train Acc: 0.917 | Test Acc: 0.919\n",
      "Epoch  95 | Time: 3.71 seconds | Loss: 0.29 | Train Acc: 0.917 | Test Acc: 0.919\n",
      "Epoch  96 | Time: 3.67 seconds | Loss: 0.29 | Train Acc: 0.917 | Test Acc: 0.919\n",
      "Epoch  97 | Time: 3.68 seconds | Loss: 0.29 | Train Acc: 0.917 | Test Acc: 0.920\n",
      "Epoch  98 | Time: 3.49 seconds | Loss: 0.29 | Train Acc: 0.918 | Test Acc: 0.920\n",
      "Epoch  99 | Time: 3.48 seconds | Loss: 0.29 | Train Acc: 0.918 | Test Acc: 0.920\n",
      "Epoch 100 | Time: 3.52 seconds | Loss: 0.28 | Train Acc: 0.918 | Test Acc: 0.921\n"
     ]
    }
   ],
   "execution_count": 10
  },
  {
   "cell_type": "markdown",
   "source": [
    "# [LOG] 학습 과정에서의 Epoch별 손실값 출력\n",
    "\n",
    "```\n",
    "Epoch   1 | Time: 4.02 seconds | Loss: 2.26 | Train Acc: 0.378 | Test Acc: 0.392\n",
    "Epoch   2 | Time: 4.09 seconds | Loss: 2.15 | Train Acc: 0.507 | Test Acc: 0.525\n",
    "Epoch   3 | Time: 3.72 seconds | Loss: 2.04 | Train Acc: 0.602 | Test Acc: 0.618\n",
    "Epoch   4 | Time: 3.65 seconds | Loss: 1.91 | Train Acc: 0.656 | Test Acc: 0.669\n",
    "Epoch   5 | Time: 3.91 seconds | Loss: 1.75 | Train Acc: 0.699 | Test Acc: 0.711\n",
    "Epoch   6 | Time: 3.53 seconds | Loss: 1.58 | Train Acc: 0.729 | Test Acc: 0.741\n",
    "Epoch   7 | Time: 3.49 seconds | Loss: 1.40 | Train Acc: 0.757 | Test Acc: 0.773\n",
    "Epoch   8 | Time: 3.50 seconds | Loss: 1.24 | Train Acc: 0.779 | Test Acc: 0.792\n",
    "Epoch   9 | Time: 3.88 seconds | Loss: 1.11 | Train Acc: 0.794 | Test Acc: 0.804\n",
    "Epoch  10 | Time: 3.65 seconds | Loss: 0.99 | Train Acc: 0.808 | Test Acc: 0.817\n",
    "Epoch  11 | Time: 4.44 seconds | Loss: 0.90 | Train Acc: 0.817 | Test Acc: 0.825\n",
    "Epoch  12 | Time: 3.76 seconds | Loss: 0.83 | Train Acc: 0.827 | Test Acc: 0.835\n",
    "Epoch  13 | Time: 4.03 seconds | Loss: 0.77 | Train Acc: 0.833 | Test Acc: 0.840\n",
    "Epoch  14 | Time: 3.84 seconds | Loss: 0.71 | Train Acc: 0.840 | Test Acc: 0.847\n",
    "Epoch  15 | Time: 3.90 seconds | Loss: 0.67 | Train Acc: 0.844 | Test Acc: 0.852\n",
    "Epoch  16 | Time: 3.51 seconds | Loss: 0.64 | Train Acc: 0.850 | Test Acc: 0.857\n",
    "Epoch  17 | Time: 3.64 seconds | Loss: 0.61 | Train Acc: 0.854 | Test Acc: 0.861\n",
    "Epoch  18 | Time: 3.55 seconds | Loss: 0.58 | Train Acc: 0.857 | Test Acc: 0.865\n",
    "Epoch  19 | Time: 3.87 seconds | Loss: 0.56 | Train Acc: 0.862 | Test Acc: 0.869\n",
    "Epoch  20 | Time: 3.69 seconds | Loss: 0.54 | Train Acc: 0.865 | Test Acc: 0.872\n",
    "Epoch  21 | Time: 3.50 seconds | Loss: 0.52 | Train Acc: 0.867 | Test Acc: 0.875\n",
    "Epoch  22 | Time: 3.50 seconds | Loss: 0.51 | Train Acc: 0.870 | Test Acc: 0.877\n",
    "Epoch  23 | Time: 3.52 seconds | Loss: 0.49 | Train Acc: 0.872 | Test Acc: 0.879\n",
    "Epoch  24 | Time: 3.50 seconds | Loss: 0.48 | Train Acc: 0.874 | Test Acc: 0.881\n",
    "Epoch  25 | Time: 3.51 seconds | Loss: 0.47 | Train Acc: 0.876 | Test Acc: 0.884\n",
    "Epoch  26 | Time: 3.51 seconds | Loss: 0.46 | Train Acc: 0.878 | Test Acc: 0.885\n",
    "Epoch  27 | Time: 3.50 seconds | Loss: 0.45 | Train Acc: 0.880 | Test Acc: 0.886\n",
    "Epoch  28 | Time: 3.56 seconds | Loss: 0.44 | Train Acc: 0.882 | Test Acc: 0.888\n",
    "Epoch  29 | Time: 3.49 seconds | Loss: 0.43 | Train Acc: 0.883 | Test Acc: 0.888\n",
    "Epoch  30 | Time: 3.51 seconds | Loss: 0.43 | Train Acc: 0.884 | Test Acc: 0.889\n",
    "Epoch  31 | Time: 3.51 seconds | Loss: 0.42 | Train Acc: 0.886 | Test Acc: 0.891\n",
    "Epoch  32 | Time: 3.49 seconds | Loss: 0.41 | Train Acc: 0.887 | Test Acc: 0.892\n",
    "Epoch  33 | Time: 3.49 seconds | Loss: 0.41 | Train Acc: 0.889 | Test Acc: 0.892\n",
    "Epoch  34 | Time: 3.49 seconds | Loss: 0.40 | Train Acc: 0.890 | Test Acc: 0.894\n",
    "Epoch  35 | Time: 3.48 seconds | Loss: 0.40 | Train Acc: 0.891 | Test Acc: 0.893\n",
    "Epoch  36 | Time: 3.48 seconds | Loss: 0.39 | Train Acc: 0.891 | Test Acc: 0.895\n",
    "Epoch  37 | Time: 3.53 seconds | Loss: 0.39 | Train Acc: 0.892 | Test Acc: 0.896\n",
    "Epoch  38 | Time: 3.48 seconds | Loss: 0.39 | Train Acc: 0.893 | Test Acc: 0.897\n",
    "Epoch  39 | Time: 3.51 seconds | Loss: 0.38 | Train Acc: 0.894 | Test Acc: 0.897\n",
    "Epoch  40 | Time: 3.50 seconds | Loss: 0.38 | Train Acc: 0.895 | Test Acc: 0.898\n",
    "Epoch  41 | Time: 3.49 seconds | Loss: 0.38 | Train Acc: 0.895 | Test Acc: 0.899\n",
    "Epoch  42 | Time: 3.50 seconds | Loss: 0.37 | Train Acc: 0.896 | Test Acc: 0.900\n",
    "Epoch  43 | Time: 3.49 seconds | Loss: 0.37 | Train Acc: 0.897 | Test Acc: 0.900\n",
    "Epoch  44 | Time: 3.54 seconds | Loss: 0.37 | Train Acc: 0.897 | Test Acc: 0.901\n",
    "Epoch  45 | Time: 3.48 seconds | Loss: 0.36 | Train Acc: 0.898 | Test Acc: 0.901\n",
    "Epoch  46 | Time: 3.50 seconds | Loss: 0.36 | Train Acc: 0.898 | Test Acc: 0.902\n",
    "Epoch  47 | Time: 3.49 seconds | Loss: 0.36 | Train Acc: 0.899 | Test Acc: 0.903\n",
    "Epoch  48 | Time: 3.49 seconds | Loss: 0.36 | Train Acc: 0.899 | Test Acc: 0.904\n",
    "Epoch  49 | Time: 3.51 seconds | Loss: 0.35 | Train Acc: 0.900 | Test Acc: 0.904\n",
    "Epoch  50 | Time: 3.51 seconds | Loss: 0.35 | Train Acc: 0.901 | Test Acc: 0.904\n",
    "Epoch  51 | Time: 3.50 seconds | Loss: 0.35 | Train Acc: 0.901 | Test Acc: 0.905\n",
    "Epoch  52 | Time: 3.50 seconds | Loss: 0.35 | Train Acc: 0.901 | Test Acc: 0.904\n",
    "Epoch  53 | Time: 3.52 seconds | Loss: 0.34 | Train Acc: 0.902 | Test Acc: 0.905\n",
    "Epoch  54 | Time: 3.55 seconds | Loss: 0.34 | Train Acc: 0.903 | Test Acc: 0.906\n",
    "Epoch  55 | Time: 3.49 seconds | Loss: 0.34 | Train Acc: 0.903 | Test Acc: 0.906\n",
    "Epoch  56 | Time: 3.53 seconds | Loss: 0.34 | Train Acc: 0.904 | Test Acc: 0.908\n",
    "Epoch  57 | Time: 3.49 seconds | Loss: 0.34 | Train Acc: 0.904 | Test Acc: 0.907\n",
    "Epoch  58 | Time: 3.49 seconds | Loss: 0.33 | Train Acc: 0.905 | Test Acc: 0.908\n",
    "Epoch  59 | Time: 3.51 seconds | Loss: 0.33 | Train Acc: 0.905 | Test Acc: 0.909\n",
    "Epoch  60 | Time: 3.48 seconds | Loss: 0.33 | Train Acc: 0.906 | Test Acc: 0.909\n",
    "Epoch  61 | Time: 3.46 seconds | Loss: 0.33 | Train Acc: 0.906 | Test Acc: 0.909\n",
    "Epoch  62 | Time: 3.47 seconds | Loss: 0.33 | Train Acc: 0.907 | Test Acc: 0.910\n",
    "Epoch  63 | Time: 3.58 seconds | Loss: 0.33 | Train Acc: 0.907 | Test Acc: 0.910\n",
    "Epoch  64 | Time: 3.56 seconds | Loss: 0.33 | Train Acc: 0.908 | Test Acc: 0.911\n",
    "Epoch  65 | Time: 3.47 seconds | Loss: 0.32 | Train Acc: 0.908 | Test Acc: 0.911\n",
    "Epoch  66 | Time: 3.50 seconds | Loss: 0.32 | Train Acc: 0.908 | Test Acc: 0.911\n",
    "Epoch  67 | Time: 3.52 seconds | Loss: 0.32 | Train Acc: 0.909 | Test Acc: 0.911\n",
    "Epoch  68 | Time: 3.49 seconds | Loss: 0.32 | Train Acc: 0.909 | Test Acc: 0.912\n",
    "Epoch  69 | Time: 3.49 seconds | Loss: 0.32 | Train Acc: 0.909 | Test Acc: 0.912\n",
    "Epoch  70 | Time: 3.47 seconds | Loss: 0.32 | Train Acc: 0.910 | Test Acc: 0.911\n",
    "Epoch  71 | Time: 3.50 seconds | Loss: 0.32 | Train Acc: 0.910 | Test Acc: 0.912\n",
    "Epoch  72 | Time: 3.51 seconds | Loss: 0.31 | Train Acc: 0.910 | Test Acc: 0.913\n",
    "Epoch  73 | Time: 3.48 seconds | Loss: 0.31 | Train Acc: 0.911 | Test Acc: 0.913\n",
    "Epoch  74 | Time: 3.70 seconds | Loss: 0.31 | Train Acc: 0.911 | Test Acc: 0.913\n",
    "Epoch  75 | Time: 3.55 seconds | Loss: 0.31 | Train Acc: 0.911 | Test Acc: 0.914\n",
    "Epoch  76 | Time: 3.51 seconds | Loss: 0.31 | Train Acc: 0.912 | Test Acc: 0.914\n",
    "Epoch  77 | Time: 3.59 seconds | Loss: 0.31 | Train Acc: 0.912 | Test Acc: 0.914\n",
    "Epoch  78 | Time: 3.48 seconds | Loss: 0.31 | Train Acc: 0.912 | Test Acc: 0.914\n",
    "Epoch  79 | Time: 3.48 seconds | Loss: 0.31 | Train Acc: 0.913 | Test Acc: 0.915\n",
    "Epoch  80 | Time: 3.77 seconds | Loss: 0.30 | Train Acc: 0.913 | Test Acc: 0.915\n",
    "Epoch  81 | Time: 3.52 seconds | Loss: 0.30 | Train Acc: 0.913 | Test Acc: 0.915\n",
    "Epoch  82 | Time: 3.51 seconds | Loss: 0.30 | Train Acc: 0.913 | Test Acc: 0.915\n",
    "Epoch  83 | Time: 3.49 seconds | Loss: 0.30 | Train Acc: 0.914 | Test Acc: 0.917\n",
    "Epoch  84 | Time: 3.49 seconds | Loss: 0.30 | Train Acc: 0.914 | Test Acc: 0.917\n",
    "Epoch  85 | Time: 3.50 seconds | Loss: 0.30 | Train Acc: 0.914 | Test Acc: 0.917\n",
    "Epoch  86 | Time: 3.49 seconds | Loss: 0.30 | Train Acc: 0.915 | Test Acc: 0.918\n",
    "Epoch  87 | Time: 3.51 seconds | Loss: 0.30 | Train Acc: 0.915 | Test Acc: 0.918\n",
    "Epoch  88 | Time: 3.50 seconds | Loss: 0.30 | Train Acc: 0.915 | Test Acc: 0.917\n",
    "Epoch  89 | Time: 3.51 seconds | Loss: 0.30 | Train Acc: 0.915 | Test Acc: 0.918\n",
    "Epoch  90 | Time: 3.50 seconds | Loss: 0.29 | Train Acc: 0.916 | Test Acc: 0.919\n",
    "Epoch  91 | Time: 3.53 seconds | Loss: 0.29 | Train Acc: 0.916 | Test Acc: 0.918\n",
    "Epoch  92 | Time: 3.80 seconds | Loss: 0.29 | Train Acc: 0.916 | Test Acc: 0.919\n",
    "Epoch  93 | Time: 3.56 seconds | Loss: 0.29 | Train Acc: 0.917 | Test Acc: 0.919\n",
    "Epoch  94 | Time: 3.65 seconds | Loss: 0.29 | Train Acc: 0.917 | Test Acc: 0.919\n",
    "Epoch  95 | Time: 3.71 seconds | Loss: 0.29 | Train Acc: 0.917 | Test Acc: 0.919\n",
    "Epoch  96 | Time: 3.67 seconds | Loss: 0.29 | Train Acc: 0.917 | Test Acc: 0.919\n",
    "Epoch  97 | Time: 3.68 seconds | Loss: 0.29 | Train Acc: 0.917 | Test Acc: 0.920\n",
    "Epoch  98 | Time: 3.49 seconds | Loss: 0.29 | Train Acc: 0.918 | Test Acc: 0.920\n",
    "Epoch  99 | Time: 3.48 seconds | Loss: 0.29 | Train Acc: 0.918 | Test Acc: 0.920\n",
    "Epoch 100 | Time: 3.52 seconds | Loss: 0.28 | Train Acc: 0.918 | Test Acc: 0.921\n",
    "```"
   ],
   "metadata": {
    "collapsed": false
   }
  },
  {
   "cell_type": "code",
   "source": [
    "idx = 3\n",
    "\n",
    "x = train_set[idx][0][None]  # (1, 1, 28, 28)\n",
    "x = x.to(device)\n",
    "\n",
    "print(model(x))\n",
    "print(train_set[idx][1])"
   ],
   "metadata": {
    "id": "Zct0ssSKwjt1",
    "colab": {
     "base_uri": "https://localhost:8080/"
    },
    "outputId": "4a8d7062-1a43-4522-895e-cfebb9c02cdb",
    "ExecuteTime": {
     "end_time": "2024-12-18T12:03:39.951103Z",
     "start_time": "2024-12-18T12:03:39.618643Z"
    }
   },
   "outputs": [
    {
     "name": "stdout",
     "output_type": "stream",
     "text": [
      "tensor([[-6.1188,  6.9846,  2.4710,  0.9877, -2.5038, -0.6292, -1.8601, -0.3900,\n",
      "          2.3598, -1.9594]], device='mps:0', grad_fn=<LinearBackward0>)\n",
      "1\n"
     ]
    }
   ],
   "execution_count": 11
  },
  {
   "cell_type": "markdown",
   "source": [
    "여기서 idx를 조정하여 다른 data에 대한 출력 결과도 볼 수 있습니다.\n",
    "예측 결과를 보시면 아직 성능이 그렇게 좋지 않은 것을 알 수 있습니다."
   ],
   "metadata": {
    "id": "qzgSOrMsoZ2z"
   }
  },
  {
   "cell_type": "markdown",
   "source": [
    "# [MY CODE] 학습을 진행한 후, epoch에 따른 model의 train과 test data에 대한 정확도 plot하기"
   ],
   "metadata": {
    "collapsed": false
   }
  },
  {
   "cell_type": "code",
   "source": [
    "import numpy as np\n",
    "\n",
    "def plot_acc(train_accuracies, test_accuracies, label1='train', label2='test'):\n",
    "  x = np.arange(len(train_accuracies))\n",
    "\n",
    "  plt.plot(x, train_accuracies, label=label1)\n",
    "  plt.plot(x, test_accuracies, label=label2)\n",
    "  plt.legend()\n",
    "  plt.show()\n",
    "\n",
    "plot_acc(train_accuracies, test_accuracies)"
   ],
   "metadata": {
    "id": "d6M4SpWQoML9",
    "ExecuteTime": {
     "end_time": "2024-12-18T12:03:40.581710Z",
     "start_time": "2024-12-18T12:03:40.527569Z"
    }
   },
   "outputs": [
    {
     "data": {
      "text/plain": [
       "<Figure size 640x480 with 1 Axes>"
      ],
      "image/png": "[encoded data removed]"
     },
     "metadata": {},
     "output_type": "display_data"
    }
   ],
   "execution_count": 12
  }
 ]
}
