{
 "cells": [
  {
   "cell_type": "code",
   "execution_count": 94,
   "metadata": {
    "collapsed": true
   },
   "outputs": [],
   "source": [
    "import torch\n",
    "import torchvision\n",
    "import torchvision.transforms as transforms"
   ]
  },
  {
   "cell_type": "code",
   "execution_count": 95,
   "outputs": [],
   "source": [
    "device = torch.device(\"mps\")"
   ],
   "metadata": {
    "collapsed": false
   }
  },
  {
   "cell_type": "code",
   "execution_count": 96,
   "outputs": [],
   "source": [
    "import random\n",
    "\n",
    "# 랜덤 시드 고정 함수\n",
    "def set_random_seed(seed):\n",
    "    torch.manual_seed(seed)  # PyTorch CPU 시드 고정\n",
    "    torch.mps.manual_seed(seed)\n",
    "    np.random.seed(seed)     # NumPy 시드 고정\n",
    "    random.seed(seed)        # Python random 시드 고정\n",
    "\n",
    "# 시드 설정\n",
    "SEED = 32\n",
    "set_random_seed(SEED)"
   ],
   "metadata": {
    "collapsed": false
   }
  },
  {
   "cell_type": "markdown",
   "source": [
    "## [MY CODE] Dataset 및 activation 함수 변경 (1/2)"
   ],
   "metadata": {
    "collapsed": false
   }
  },
  {
   "cell_type": "code",
   "execution_count": 97,
   "outputs": [
    {
     "name": "stdout",
     "output_type": "stream",
     "text": [
      "Files already downloaded and verified\n",
      "Files already downloaded and verified\n"
     ]
    }
   ],
   "source": [
    "# 데이터셋 전처리\n",
    "transform = transforms.Compose([\n",
    "    transforms.ToTensor(),                # 이미지를 Tensor로 변환 (픽셀 값을 [0, 1] 범위로 정규화)\n",
    "    transforms.Normalize((0.5,), (0.5,))  # 정규화: 평균 0.5, 표준편차 0.5로 이미지 값을 [-1, 1]로 스케일 조정\n",
    "])\n",
    "\n",
    "batch_size = 256\n",
    "\n",
    "# CIFAR10 훈련 데이터셋 로드\n",
    "train_set = torchvision.datasets.CIFAR10(\n",
    "    root='./data',\n",
    "    train=True,\n",
    "    download=True,\n",
    "    transform=transform,\n",
    ")\n",
    "\n",
    "# CIFAR10 학습 데이터 로더\n",
    "train_loader = torch.utils.data.DataLoader(\n",
    "    train_set,\n",
    "    batch_size=batch_size,\n",
    "    shuffle=True\n",
    ")\n",
    "\n",
    "# CIFAR10 테스트 데이터셋 로드\n",
    "test_set = torchvision.datasets.CIFAR10(\n",
    "    root='./data',\n",
    "    train=False,\n",
    "    download=True,\n",
    "    transform=transform,\n",
    ")\n",
    "\n",
    "# CIFAR10 테스트 데이터 로더\n",
    "test_loader = torch.utils.data.DataLoader(\n",
    "    test_set,\n",
    "    batch_size=batch_size,\n",
    "    shuffle=False\n",
    ")"
   ],
   "metadata": {
    "collapsed": false
   }
  },
  {
   "cell_type": "markdown",
   "source": [
    "## [MY CODE] CIFAR10의 입력 shape 확인"
   ],
   "metadata": {
    "collapsed": false
   }
  },
  {
   "cell_type": "code",
   "execution_count": 98,
   "outputs": [
    {
     "name": "stdout",
     "output_type": "stream",
     "text": [
      "50000\n",
      "<class 'torchvision.datasets.cifar.CIFAR10'>\n",
      "(50000, 32, 32, 3)\n",
      "torch.Size([3, 32, 32]) 6\n",
      "10\n"
     ]
    }
   ],
   "source": [
    "from matplotlib import pyplot as plt\n",
    "import numpy as np\n",
    "\n",
    "print(len(train_set))\n",
    "print(type(train_set))\n",
    "print(train_set.data.shape)\n",
    "print(train_set[0][0].shape, train_set[0][1])\n",
    "print(len(np.unique(train_set.targets)))"
   ],
   "metadata": {
    "collapsed": false
   }
  },
  {
   "cell_type": "code",
   "execution_count": 99,
   "outputs": [
    {
     "name": "stdout",
     "output_type": "stream",
     "text": [
      "torch.Size([256, 3, 32, 32]) torch.Size([256])\n"
     ]
    }
   ],
   "source": [
    "dataiter = iter(train_loader)\n",
    "images, labels = next(dataiter)\n",
    "print(images.shape, labels.shape)"
   ],
   "metadata": {
    "collapsed": false
   }
  },
  {
   "cell_type": "markdown",
   "source": [],
   "metadata": {
    "collapsed": false
   }
  },
  {
   "cell_type": "markdown",
   "source": [
    "1. 이미지의 Shape: torch.Size([256, 3, 32, 32])\n",
    " - 256: 배치 크기(batch size). 한 번에 256개의 이미지를 가져옵니다.\n",
    " - 채널 수(channel). 이미지가 RGB 컬러 이미지이므로 3개의 채널이 있습니다.\n",
    " - 32: 이미지의 높이(height). 32픽셀입니다.\n",
    " - 32: 이미지의 너비(width). 32픽셀입니다.\n",
    "images는 256개의 RGB 이미지로, 각 이미지의 크기는 32x32 픽셀입니다.\n",
    "\n",
    "2. 레이블의 Shape: torch.Size([256])\n",
    " - 256: 배치 크기와 동일합니다.\n",
    " - 각 레이블은 해당 이미지의 클래스 인덱스(정수값)를 나타냅니다.\n",
    "\n",
    "\n"
   ],
   "metadata": {
    "collapsed": false
   }
  },
  {
   "cell_type": "markdown",
   "source": [
    "## [MY CODE] Dataset 및 activation 함수 변경 (2/2)"
   ],
   "metadata": {
    "collapsed": false
   }
  },
  {
   "cell_type": "code",
   "execution_count": 100,
   "outputs": [],
   "source": [
    "from torch import nn\n",
    "\n",
    "\n",
    "class Model(nn.Module):\n",
    "    def __init__(self, activation, input_dim, num_dim, num_classes):\n",
    "        super().__init__()\n",
    "\n",
    "        self.layer1 = nn.Linear(input_dim, num_dim)\n",
    "        self.layer2 = nn.Linear(num_dim, num_dim)\n",
    "        self.layer3 = nn.Linear(num_dim, num_classes)  # 최종 출력 레이어\n",
    "\n",
    "        self.act = activation()\n",
    "\n",
    "    def forward(self, x):\n",
    "        x = torch.flatten(x, start_dim=1)  # 입력 평탄화\n",
    "        x = self.act(self.layer1(x))       # 첫 번째 레이어 + Activation\n",
    "        x = self.act(self.layer2(x))       # 두 번째 레이어 + Activation\n",
    "        x = self.layer3(x)                 # 세 번째 레이어 (로짓 반환)\n",
    "        return x"
   ],
   "metadata": {
    "collapsed": false
   }
  },
  {
   "cell_type": "code",
   "execution_count": 101,
   "outputs": [],
   "source": [
    "## [MY CODE] SGD와 Adam 성능 비교"
   ],
   "metadata": {
    "collapsed": false
   }
  },
  {
   "cell_type": "code",
   "execution_count": 102,
   "outputs": [],
   "source": [
    "def accuracy(model, dataloader):\n",
    "  cnt = 0\n",
    "  acc = 0\n",
    "\n",
    "  for data in dataloader:\n",
    "    inputs, labels = data\n",
    "    inputs, labels = inputs.to(device), labels.to(device)\n",
    "\n",
    "    preds = model(inputs)\n",
    "    preds = torch.argmax(preds, dim=-1)\n",
    "\n",
    "    cnt += labels.shape[0]\n",
    "    acc += (labels == preds).sum().item()\n",
    "\n",
    "  return acc / cnt\n",
    "\n",
    "def plot_acc(train_accuracies, test_accuracies, label1='train', label2='test'):\n",
    "  x = np.arange(len(train_accuracies))\n",
    "\n",
    "  plt.plot(x, train_accuracies, label=label1)\n",
    "  plt.plot(x, test_accuracies, label=label2)\n",
    "  plt.legend()\n",
    "  plt.show()"
   ],
   "metadata": {
    "collapsed": false
   }
  },
  {
   "cell_type": "code",
   "execution_count": 103,
   "outputs": [],
   "source": [
    "import torch.optim as optim\n",
    "\n",
    "lr = 0.001\n",
    "num_epochs = 50\n",
    "\n",
    "# 손실 함수: 교차 엔트로피 손실 (분류 문제에서 사용)\n",
    "criterion = nn.CrossEntropyLoss()\n",
    "\n",
    "train_accuracies = []\n",
    "test_accuracies = []"
   ],
   "metadata": {
    "collapsed": false
   }
  },
  {
   "cell_type": "code",
   "execution_count": 104,
   "outputs": [],
   "source": [
    "### SGD"
   ],
   "metadata": {
    "collapsed": false
   }
  },
  {
   "cell_type": "code",
   "execution_count": 105,
   "outputs": [
    {
     "name": "stdout",
     "output_type": "stream",
     "text": [
      "Epoch   1 | Time: 4.39 seconds | Loss: 450.36 | Train Acc: 0.156 | Test Acc: 0.158\n",
      "Epoch   2 | Time: 4.29 seconds | Loss: 446.87 | Train Acc: 0.207 | Test Acc: 0.209\n",
      "Epoch   3 | Time: 4.34 seconds | Loss: 443.41 | Train Acc: 0.227 | Test Acc: 0.232\n",
      "Epoch   4 | Time: 4.30 seconds | Loss: 439.91 | Train Acc: 0.236 | Test Acc: 0.242\n",
      "Epoch   5 | Time: 4.37 seconds | Loss: 436.35 | Train Acc: 0.243 | Test Acc: 0.248\n",
      "Epoch   6 | Time: 4.30 seconds | Loss: 432.67 | Train Acc: 0.248 | Test Acc: 0.255\n",
      "Epoch   7 | Time: 4.28 seconds | Loss: 428.89 | Train Acc: 0.253 | Test Acc: 0.262\n",
      "Epoch   8 | Time: 4.28 seconds | Loss: 425.14 | Train Acc: 0.258 | Test Acc: 0.267\n",
      "Epoch   9 | Time: 4.29 seconds | Loss: 421.41 | Train Acc: 0.263 | Test Acc: 0.271\n",
      "Epoch  10 | Time: 4.31 seconds | Loss: 417.84 | Train Acc: 0.266 | Test Acc: 0.274\n",
      "Epoch  11 | Time: 4.40 seconds | Loss: 414.52 | Train Acc: 0.271 | Test Acc: 0.278\n",
      "Epoch  12 | Time: 4.36 seconds | Loss: 411.12 | Train Acc: 0.277 | Test Acc: 0.281\n",
      "Epoch  13 | Time: 4.29 seconds | Loss: 408.03 | Train Acc: 0.281 | Test Acc: 0.284\n",
      "Epoch  14 | Time: 4.35 seconds | Loss: 404.95 | Train Acc: 0.286 | Test Acc: 0.289\n",
      "Epoch  15 | Time: 4.46 seconds | Loss: 402.08 | Train Acc: 0.291 | Test Acc: 0.295\n",
      "Epoch  16 | Time: 4.33 seconds | Loss: 399.23 | Train Acc: 0.296 | Test Acc: 0.300\n",
      "Epoch  17 | Time: 4.32 seconds | Loss: 396.53 | Train Acc: 0.299 | Test Acc: 0.302\n",
      "Epoch  18 | Time: 4.35 seconds | Loss: 393.90 | Train Acc: 0.303 | Test Acc: 0.306\n",
      "Epoch  19 | Time: 4.32 seconds | Loss: 391.33 | Train Acc: 0.307 | Test Acc: 0.311\n",
      "Epoch  20 | Time: 4.29 seconds | Loss: 388.95 | Train Acc: 0.311 | Test Acc: 0.315\n",
      "Epoch  21 | Time: 4.28 seconds | Loss: 386.55 | Train Acc: 0.314 | Test Acc: 0.318\n",
      "Epoch  22 | Time: 4.30 seconds | Loss: 384.31 | Train Acc: 0.317 | Test Acc: 0.323\n",
      "Epoch  23 | Time: 4.29 seconds | Loss: 382.03 | Train Acc: 0.321 | Test Acc: 0.326\n",
      "Epoch  24 | Time: 4.31 seconds | Loss: 379.87 | Train Acc: 0.325 | Test Acc: 0.329\n",
      "Epoch  25 | Time: 4.29 seconds | Loss: 377.95 | Train Acc: 0.328 | Test Acc: 0.332\n",
      "Epoch  26 | Time: 4.30 seconds | Loss: 376.01 | Train Acc: 0.331 | Test Acc: 0.335\n",
      "Epoch  27 | Time: 4.28 seconds | Loss: 374.04 | Train Acc: 0.334 | Test Acc: 0.338\n",
      "Epoch  28 | Time: 4.32 seconds | Loss: 372.21 | Train Acc: 0.337 | Test Acc: 0.342\n",
      "Epoch  29 | Time: 4.28 seconds | Loss: 370.49 | Train Acc: 0.340 | Test Acc: 0.344\n",
      "Epoch  30 | Time: 4.28 seconds | Loss: 368.68 | Train Acc: 0.343 | Test Acc: 0.346\n",
      "Epoch  31 | Time: 4.30 seconds | Loss: 367.16 | Train Acc: 0.346 | Test Acc: 0.348\n",
      "Epoch  32 | Time: 4.29 seconds | Loss: 365.60 | Train Acc: 0.349 | Test Acc: 0.351\n",
      "Epoch  33 | Time: 4.35 seconds | Loss: 364.03 | Train Acc: 0.351 | Test Acc: 0.353\n",
      "Epoch  34 | Time: 4.30 seconds | Loss: 362.70 | Train Acc: 0.353 | Test Acc: 0.353\n",
      "Epoch  35 | Time: 4.28 seconds | Loss: 361.22 | Train Acc: 0.356 | Test Acc: 0.357\n",
      "Epoch  36 | Time: 4.29 seconds | Loss: 359.86 | Train Acc: 0.358 | Test Acc: 0.360\n",
      "Epoch  37 | Time: 4.29 seconds | Loss: 358.60 | Train Acc: 0.361 | Test Acc: 0.362\n",
      "Epoch  38 | Time: 4.29 seconds | Loss: 357.25 | Train Acc: 0.363 | Test Acc: 0.364\n",
      "Epoch  39 | Time: 4.29 seconds | Loss: 356.12 | Train Acc: 0.365 | Test Acc: 0.365\n",
      "Epoch  40 | Time: 4.37 seconds | Loss: 354.97 | Train Acc: 0.368 | Test Acc: 0.366\n",
      "Epoch  41 | Time: 4.29 seconds | Loss: 353.72 | Train Acc: 0.370 | Test Acc: 0.368\n",
      "Epoch  42 | Time: 4.29 seconds | Loss: 352.62 | Train Acc: 0.371 | Test Acc: 0.370\n",
      "Epoch  43 | Time: 4.28 seconds | Loss: 351.61 | Train Acc: 0.374 | Test Acc: 0.373\n",
      "Epoch  44 | Time: 4.28 seconds | Loss: 350.52 | Train Acc: 0.376 | Test Acc: 0.374\n",
      "Epoch  45 | Time: 4.28 seconds | Loss: 349.42 | Train Acc: 0.377 | Test Acc: 0.377\n",
      "Epoch  46 | Time: 4.28 seconds | Loss: 348.38 | Train Acc: 0.379 | Test Acc: 0.380\n",
      "Epoch  47 | Time: 4.35 seconds | Loss: 347.48 | Train Acc: 0.381 | Test Acc: 0.382\n",
      "Epoch  48 | Time: 4.29 seconds | Loss: 346.36 | Train Acc: 0.383 | Test Acc: 0.385\n",
      "Epoch  49 | Time: 4.29 seconds | Loss: 345.55 | Train Acc: 0.385 | Test Acc: 0.386\n",
      "Epoch  50 | Time: 4.28 seconds | Loss: 344.49 | Train Acc: 0.386 | Test Acc: 0.388\n"
     ]
    }
   ],
   "source": [
    "import time\n",
    "\n",
    "model = Model(nn.LeakyReLU, 3 * 32 * 32, 1024, 10)\n",
    "model = model.to(device)\n",
    "\n",
    "optimizer = optim.SGD(model.parameters(), lr=lr)\n",
    "\n",
    "for epoch in range(num_epochs):\n",
    "  start_time = time.time()  # 에포크 시작 시간 기록\n",
    "  total_loss = 0.\n",
    "  model.train()  # 학습 모드\n",
    "\n",
    "  for data in train_loader:\n",
    "    model.zero_grad()\n",
    "    inputs, labels = data\n",
    "    inputs, labels = inputs.to(device), labels.to(device)\n",
    "\n",
    "    preds = model(inputs)\n",
    "    loss = criterion(preds, labels)\n",
    "    loss.backward()\n",
    "    optimizer.step()\n",
    "\n",
    "    total_loss += loss.item()\n",
    "\n",
    "  end_time = time.time()\n",
    "  epoch_time = end_time - start_time  # 에포크 실행 시간 계산\n",
    "\n",
    "  with torch.no_grad():\n",
    "    model.eval()  # 평가 모드\n",
    "    train_acc = accuracy(model, train_loader)  # 학습 데이터 정확도\n",
    "    test_acc = accuracy(model, test_loader)    # 테스트 데이터 정확도\n",
    "\n",
    "  train_accuracies.append(train_acc)\n",
    "  test_accuracies.append(test_acc)\n",
    "\n",
    "  print(f\"Epoch {epoch+1:3d} |\"\n",
    "        f\" Time: {epoch_time:.2f} seconds |\"\n",
    "        f\" Loss: {total_loss:.2f} |\"\n",
    "        f\" Train Acc: {train_acc:.3f} |\"\n",
    "        f\" Test Acc: {test_acc:.3f}\")"
   ],
   "metadata": {
    "collapsed": false
   }
  },
  {
   "cell_type": "code",
   "execution_count": 106,
   "outputs": [
    {
     "data": {
      "text/plain": "<Figure size 640x480 with 1 Axes>",
      "image/png": "[encoded data removed]"
     },
     "metadata": {},
     "output_type": "display_data"
    }
   ],
   "source": [
    "plot_acc(train_accuracies, test_accuracies)"
   ],
   "metadata": {
    "collapsed": false
   }
  },
  {
   "cell_type": "markdown",
   "source": [
    "### Adam"
   ],
   "metadata": {
    "collapsed": false
   }
  },
  {
   "cell_type": "code",
   "execution_count": 107,
   "outputs": [
    {
     "name": "stdout",
     "output_type": "stream",
     "text": [
      "Epoch   1 | Time: 5.35 seconds | Loss: 318.50 | Train Acc: 0.491 | Test Acc: 0.472\n",
      "Epoch   2 | Time: 5.08 seconds | Loss: 273.78 | Train Acc: 0.556 | Test Acc: 0.511\n",
      "Epoch   3 | Time: 5.08 seconds | Loss: 248.20 | Train Acc: 0.601 | Test Acc: 0.527\n",
      "Epoch   4 | Time: 5.08 seconds | Loss: 227.69 | Train Acc: 0.645 | Test Acc: 0.538\n",
      "Epoch   5 | Time: 5.07 seconds | Loss: 207.26 | Train Acc: 0.681 | Test Acc: 0.547\n",
      "Epoch   6 | Time: 5.08 seconds | Loss: 187.58 | Train Acc: 0.707 | Test Acc: 0.537\n",
      "Epoch   7 | Time: 5.10 seconds | Loss: 166.48 | Train Acc: 0.764 | Test Acc: 0.547\n",
      "Epoch   8 | Time: 5.09 seconds | Loss: 144.94 | Train Acc: 0.792 | Test Acc: 0.538\n",
      "Epoch   9 | Time: 5.11 seconds | Loss: 126.97 | Train Acc: 0.824 | Test Acc: 0.555\n",
      "Epoch  10 | Time: 5.13 seconds | Loss: 108.72 | Train Acc: 0.855 | Test Acc: 0.550\n",
      "Epoch  11 | Time: 5.10 seconds | Loss: 90.43 | Train Acc: 0.877 | Test Acc: 0.543\n",
      "Epoch  12 | Time: 5.09 seconds | Loss: 79.79 | Train Acc: 0.898 | Test Acc: 0.546\n",
      "Epoch  13 | Time: 5.17 seconds | Loss: 63.36 | Train Acc: 0.912 | Test Acc: 0.546\n",
      "Epoch  14 | Time: 5.14 seconds | Loss: 56.13 | Train Acc: 0.928 | Test Acc: 0.548\n",
      "Epoch  15 | Time: 5.08 seconds | Loss: 49.73 | Train Acc: 0.923 | Test Acc: 0.544\n",
      "Epoch  16 | Time: 5.15 seconds | Loss: 45.68 | Train Acc: 0.932 | Test Acc: 0.544\n",
      "Epoch  17 | Time: 5.10 seconds | Loss: 41.62 | Train Acc: 0.921 | Test Acc: 0.528\n",
      "Epoch  18 | Time: 5.09 seconds | Loss: 41.43 | Train Acc: 0.943 | Test Acc: 0.543\n",
      "Epoch  19 | Time: 5.08 seconds | Loss: 38.51 | Train Acc: 0.933 | Test Acc: 0.539\n",
      "Epoch  20 | Time: 5.06 seconds | Loss: 31.89 | Train Acc: 0.943 | Test Acc: 0.538\n",
      "Epoch  21 | Time: 5.06 seconds | Loss: 34.83 | Train Acc: 0.955 | Test Acc: 0.547\n",
      "Epoch  22 | Time: 5.11 seconds | Loss: 33.28 | Train Acc: 0.954 | Test Acc: 0.545\n",
      "Epoch  23 | Time: 5.62 seconds | Loss: 29.21 | Train Acc: 0.965 | Test Acc: 0.546\n",
      "Epoch  24 | Time: 5.11 seconds | Loss: 28.18 | Train Acc: 0.957 | Test Acc: 0.541\n",
      "Epoch  25 | Time: 5.13 seconds | Loss: 27.92 | Train Acc: 0.964 | Test Acc: 0.539\n",
      "Epoch  26 | Time: 5.09 seconds | Loss: 25.97 | Train Acc: 0.961 | Test Acc: 0.540\n",
      "Epoch  27 | Time: 5.05 seconds | Loss: 26.64 | Train Acc: 0.958 | Test Acc: 0.536\n",
      "Epoch  28 | Time: 5.13 seconds | Loss: 28.35 | Train Acc: 0.963 | Test Acc: 0.541\n",
      "Epoch  29 | Time: 5.08 seconds | Loss: 24.08 | Train Acc: 0.964 | Test Acc: 0.542\n",
      "Epoch  30 | Time: 5.11 seconds | Loss: 25.06 | Train Acc: 0.970 | Test Acc: 0.547\n",
      "Epoch  31 | Time: 5.07 seconds | Loss: 26.91 | Train Acc: 0.958 | Test Acc: 0.546\n",
      "Epoch  32 | Time: 5.10 seconds | Loss: 21.10 | Train Acc: 0.966 | Test Acc: 0.544\n",
      "Epoch  33 | Time: 5.06 seconds | Loss: 24.14 | Train Acc: 0.966 | Test Acc: 0.546\n",
      "Epoch  34 | Time: 5.06 seconds | Loss: 23.68 | Train Acc: 0.962 | Test Acc: 0.538\n",
      "Epoch  35 | Time: 5.12 seconds | Loss: 22.91 | Train Acc: 0.976 | Test Acc: 0.540\n",
      "Epoch  36 | Time: 5.17 seconds | Loss: 18.08 | Train Acc: 0.974 | Test Acc: 0.547\n",
      "Epoch  37 | Time: 5.11 seconds | Loss: 20.85 | Train Acc: 0.969 | Test Acc: 0.546\n",
      "Epoch  38 | Time: 5.09 seconds | Loss: 23.79 | Train Acc: 0.963 | Test Acc: 0.537\n",
      "Epoch  39 | Time: 5.08 seconds | Loss: 25.03 | Train Acc: 0.971 | Test Acc: 0.541\n",
      "Epoch  40 | Time: 5.07 seconds | Loss: 26.49 | Train Acc: 0.962 | Test Acc: 0.537\n",
      "Epoch  41 | Time: 5.06 seconds | Loss: 23.03 | Train Acc: 0.972 | Test Acc: 0.543\n",
      "Epoch  42 | Time: 5.22 seconds | Loss: 16.95 | Train Acc: 0.970 | Test Acc: 0.546\n",
      "Epoch  43 | Time: 5.04 seconds | Loss: 15.96 | Train Acc: 0.978 | Test Acc: 0.545\n",
      "Epoch  44 | Time: 5.05 seconds | Loss: 21.66 | Train Acc: 0.968 | Test Acc: 0.541\n",
      "Epoch  45 | Time: 5.07 seconds | Loss: 24.06 | Train Acc: 0.976 | Test Acc: 0.546\n",
      "Epoch  46 | Time: 5.04 seconds | Loss: 20.20 | Train Acc: 0.978 | Test Acc: 0.542\n",
      "Epoch  47 | Time: 5.04 seconds | Loss: 19.76 | Train Acc: 0.975 | Test Acc: 0.544\n",
      "Epoch  48 | Time: 5.08 seconds | Loss: 19.82 | Train Acc: 0.978 | Test Acc: 0.546\n",
      "Epoch  49 | Time: 5.08 seconds | Loss: 22.50 | Train Acc: 0.970 | Test Acc: 0.537\n",
      "Epoch  50 | Time: 5.07 seconds | Loss: 23.49 | Train Acc: 0.975 | Test Acc: 0.539\n"
     ]
    }
   ],
   "source": [
    "model = Model(nn.LeakyReLU, 3 * 32 * 32, 1024, 10)\n",
    "model = model.to(device)\n",
    "\n",
    "# 손실 함수: 교차 엔트로피 손실 (분류 문제에서 사용)\n",
    "criterion = nn.CrossEntropyLoss()\n",
    "\n",
    "# Adam 옵티마이저 설정\n",
    "optimizer = optim.Adam(model.parameters(), lr=lr)\n",
    "\n",
    "train_accuracies = []\n",
    "test_accuracies = []\n",
    "\n",
    "for epoch in range(num_epochs):\n",
    "  start_time = time.time()  # 에포크 시작 시간 기록\n",
    "  total_loss = 0.\n",
    "  model.train()  # 학습 모드\n",
    "\n",
    "  for data in train_loader:\n",
    "    model.zero_grad()\n",
    "    inputs, labels = data\n",
    "    inputs, labels = inputs.to(device), labels.to(device)\n",
    "\n",
    "    preds = model(inputs)\n",
    "    loss = criterion(preds, labels)\n",
    "    loss.backward()\n",
    "    optimizer.step()\n",
    "\n",
    "    total_loss += loss.item()\n",
    "\n",
    "  end_time = time.time()\n",
    "  epoch_time = end_time - start_time  # 에포크 실행 시간 계산\n",
    "\n",
    "  with torch.no_grad():\n",
    "    model.eval()  # 평가 모드\n",
    "    train_acc = accuracy(model, train_loader)  # 학습 데이터 정확도\n",
    "    test_acc = accuracy(model, test_loader)    # 테스트 데이터 정확도\n",
    "\n",
    "  train_accuracies.append(train_acc)\n",
    "  test_accuracies.append(test_acc)\n",
    "\n",
    "  print(f\"Epoch {epoch+1:3d} |\"\n",
    "        f\" Time: {epoch_time:.2f} seconds |\"\n",
    "        f\" Loss: {total_loss:.2f} |\"\n",
    "        f\" Train Acc: {train_acc:.3f} |\"\n",
    "        f\" Test Acc: {test_acc:.3f}\")"
   ],
   "metadata": {
    "collapsed": false
   }
  },
  {
   "cell_type": "code",
   "execution_count": 108,
   "outputs": [
    {
     "data": {
      "text/plain": "<Figure size 640x480 with 1 Axes>",
      "image/png": "[encoded data removed]"
     },
     "metadata": {},
     "output_type": "display_data"
    }
   ],
   "source": [
    "plot_acc(train_accuracies, test_accuracies)"
   ],
   "metadata": {
    "collapsed": false
   }
  },
  {
   "cell_type": "markdown",
   "source": [
    "# [MY CODE] Leaky ReLU와 Sigmoid 성능 비교"
   ],
   "metadata": {
    "collapsed": false
   }
  },
  {
   "cell_type": "code",
   "execution_count": 109,
   "outputs": [
    {
     "name": "stdout",
     "output_type": "stream",
     "text": [
      "Epoch   1 | Time: 5.20 seconds | Loss: 349.80 | Train Acc: 0.429 | Test Acc: 0.425\n",
      "Epoch   2 | Time: 5.06 seconds | Loss: 304.59 | Train Acc: 0.487 | Test Acc: 0.468\n",
      "Epoch   3 | Time: 5.03 seconds | Loss: 281.06 | Train Acc: 0.512 | Test Acc: 0.476\n",
      "Epoch   4 | Time: 5.02 seconds | Loss: 262.76 | Train Acc: 0.559 | Test Acc: 0.498\n",
      "Epoch   5 | Time: 5.12 seconds | Loss: 244.97 | Train Acc: 0.588 | Test Acc: 0.502\n",
      "Epoch   6 | Time: 5.03 seconds | Loss: 228.36 | Train Acc: 0.627 | Test Acc: 0.512\n",
      "Epoch   7 | Time: 5.07 seconds | Loss: 210.63 | Train Acc: 0.668 | Test Acc: 0.515\n",
      "Epoch   8 | Time: 5.04 seconds | Loss: 192.54 | Train Acc: 0.689 | Test Acc: 0.505\n",
      "Epoch   9 | Time: 5.04 seconds | Loss: 175.19 | Train Acc: 0.740 | Test Acc: 0.516\n",
      "Epoch  10 | Time: 5.03 seconds | Loss: 155.68 | Train Acc: 0.750 | Test Acc: 0.511\n",
      "Epoch  11 | Time: 5.06 seconds | Loss: 139.28 | Train Acc: 0.798 | Test Acc: 0.512\n",
      "Epoch  12 | Time: 5.03 seconds | Loss: 123.76 | Train Acc: 0.821 | Test Acc: 0.511\n",
      "Epoch  13 | Time: 5.04 seconds | Loss: 108.46 | Train Acc: 0.854 | Test Acc: 0.515\n",
      "Epoch  14 | Time: 5.04 seconds | Loss: 93.46 | Train Acc: 0.871 | Test Acc: 0.507\n",
      "Epoch  15 | Time: 5.08 seconds | Loss: 81.19 | Train Acc: 0.894 | Test Acc: 0.509\n",
      "Epoch  16 | Time: 5.02 seconds | Loss: 72.70 | Train Acc: 0.899 | Test Acc: 0.505\n",
      "Epoch  17 | Time: 5.02 seconds | Loss: 61.49 | Train Acc: 0.914 | Test Acc: 0.495\n",
      "Epoch  18 | Time: 5.12 seconds | Loss: 51.38 | Train Acc: 0.942 | Test Acc: 0.505\n",
      "Epoch  19 | Time: 5.04 seconds | Loss: 45.88 | Train Acc: 0.940 | Test Acc: 0.493\n",
      "Epoch  20 | Time: 5.03 seconds | Loss: 42.86 | Train Acc: 0.934 | Test Acc: 0.498\n",
      "Epoch  21 | Time: 5.07 seconds | Loss: 38.75 | Train Acc: 0.960 | Test Acc: 0.506\n",
      "Epoch  22 | Time: 5.06 seconds | Loss: 29.28 | Train Acc: 0.965 | Test Acc: 0.503\n",
      "Epoch  23 | Time: 5.05 seconds | Loss: 29.74 | Train Acc: 0.958 | Test Acc: 0.500\n",
      "Epoch  24 | Time: 5.04 seconds | Loss: 26.41 | Train Acc: 0.969 | Test Acc: 0.508\n",
      "Epoch  25 | Time: 5.06 seconds | Loss: 27.34 | Train Acc: 0.961 | Test Acc: 0.504\n",
      "Epoch  26 | Time: 5.08 seconds | Loss: 23.07 | Train Acc: 0.973 | Test Acc: 0.501\n",
      "Epoch  27 | Time: 5.04 seconds | Loss: 18.08 | Train Acc: 0.982 | Test Acc: 0.496\n",
      "Epoch  28 | Time: 5.03 seconds | Loss: 19.19 | Train Acc: 0.978 | Test Acc: 0.499\n",
      "Epoch  29 | Time: 5.05 seconds | Loss: 19.20 | Train Acc: 0.976 | Test Acc: 0.499\n",
      "Epoch  30 | Time: 5.03 seconds | Loss: 21.91 | Train Acc: 0.967 | Test Acc: 0.491\n",
      "Epoch  31 | Time: 5.13 seconds | Loss: 18.64 | Train Acc: 0.956 | Test Acc: 0.485\n",
      "Epoch  32 | Time: 5.05 seconds | Loss: 18.87 | Train Acc: 0.980 | Test Acc: 0.508\n",
      "Epoch  33 | Time: 5.06 seconds | Loss: 16.60 | Train Acc: 0.975 | Test Acc: 0.502\n",
      "Epoch  34 | Time: 5.07 seconds | Loss: 14.44 | Train Acc: 0.979 | Test Acc: 0.501\n",
      "Epoch  35 | Time: 5.05 seconds | Loss: 17.11 | Train Acc: 0.972 | Test Acc: 0.496\n",
      "Epoch  36 | Time: 5.03 seconds | Loss: 14.86 | Train Acc: 0.981 | Test Acc: 0.495\n",
      "Epoch  37 | Time: 5.10 seconds | Loss: 14.03 | Train Acc: 0.971 | Test Acc: 0.494\n",
      "Epoch  38 | Time: 5.05 seconds | Loss: 16.39 | Train Acc: 0.984 | Test Acc: 0.500\n",
      "Epoch  39 | Time: 5.02 seconds | Loss: 14.78 | Train Acc: 0.980 | Test Acc: 0.496\n",
      "Epoch  40 | Time: 5.15 seconds | Loss: 12.87 | Train Acc: 0.984 | Test Acc: 0.493\n",
      "Epoch  41 | Time: 5.09 seconds | Loss: 14.01 | Train Acc: 0.980 | Test Acc: 0.494\n",
      "Epoch  42 | Time: 5.04 seconds | Loss: 14.46 | Train Acc: 0.983 | Test Acc: 0.502\n",
      "Epoch  43 | Time: 5.21 seconds | Loss: 10.34 | Train Acc: 0.989 | Test Acc: 0.498\n",
      "Epoch  44 | Time: 5.03 seconds | Loss: 10.22 | Train Acc: 0.973 | Test Acc: 0.493\n",
      "Epoch  45 | Time: 5.04 seconds | Loss: 12.84 | Train Acc: 0.970 | Test Acc: 0.494\n",
      "Epoch  46 | Time: 5.04 seconds | Loss: 15.20 | Train Acc: 0.983 | Test Acc: 0.496\n",
      "Epoch  47 | Time: 5.05 seconds | Loss: 14.36 | Train Acc: 0.980 | Test Acc: 0.505\n",
      "Epoch  48 | Time: 5.02 seconds | Loss: 12.74 | Train Acc: 0.983 | Test Acc: 0.507\n",
      "Epoch  49 | Time: 5.04 seconds | Loss: 11.67 | Train Acc: 0.987 | Test Acc: 0.496\n",
      "Epoch  50 | Time: 5.16 seconds | Loss: 11.04 | Train Acc: 0.988 | Test Acc: 0.498\n"
     ]
    }
   ],
   "source": [
    "model = Model(nn.Sigmoid, 3 * 32 * 32, 1024, 10)\n",
    "model = model.to(device)\n",
    "\n",
    "# 손실 함수: 교차 엔트로피 손실 (분류 문제에서 사용)\n",
    "criterion = nn.CrossEntropyLoss()\n",
    "\n",
    "# Adam 옵티마이저 설정\n",
    "optimizer = optim.Adam(model.parameters(), lr=lr)\n",
    "\n",
    "train_accuracies = []\n",
    "test_accuracies = []\n",
    "\n",
    "for epoch in range(num_epochs):\n",
    "  start_time = time.time()  # 에포크 시작 시간 기록\n",
    "  total_loss = 0.\n",
    "  model.train()  # 학습 모드\n",
    "\n",
    "  for data in train_loader:\n",
    "    model.zero_grad()\n",
    "    inputs, labels = data\n",
    "    inputs, labels = inputs.to(device), labels.to(device)\n",
    "\n",
    "    preds = model(inputs)\n",
    "    loss = criterion(preds, labels)\n",
    "    loss.backward()\n",
    "    optimizer.step()\n",
    "\n",
    "    total_loss += loss.item()\n",
    "\n",
    "  end_time = time.time()\n",
    "  epoch_time = end_time - start_time  # 에포크 실행 시간 계산\n",
    "\n",
    "  with torch.no_grad():\n",
    "    model.eval()  # 평가 모드\n",
    "    train_acc = accuracy(model, train_loader)  # 학습 데이터 정확도\n",
    "    test_acc = accuracy(model, test_loader)    # 테스트 데이터 정확도\n",
    "\n",
    "  train_accuracies.append(train_acc)\n",
    "  test_accuracies.append(test_acc)\n",
    "\n",
    "  print(f\"Epoch {epoch+1:3d} |\"\n",
    "        f\" Time: {epoch_time:.2f} seconds |\"\n",
    "        f\" Loss: {total_loss:.2f} |\"\n",
    "        f\" Train Acc: {train_acc:.3f} |\"\n",
    "        f\" Test Acc: {test_acc:.3f}\")"
   ],
   "metadata": {
    "collapsed": false
   }
  },
  {
   "cell_type": "code",
   "execution_count": 110,
   "outputs": [
    {
     "data": {
      "text/plain": "<Figure size 640x480 with 1 Axes>",
      "image/png": "[encoded data removed]"
     },
     "metadata": {},
     "output_type": "display_data"
    }
   ],
   "source": [
    "plot_acc(train_accuracies, test_accuracies)"
   ],
   "metadata": {
    "collapsed": false
   }
  },
  {
   "cell_type": "markdown",
   "source": [
    "## [MY CODE] Dropout을 적용한 이후의 generalization error 확인"
   ],
   "metadata": {
    "collapsed": false
   }
  },
  {
   "cell_type": "code",
   "execution_count": 111,
   "outputs": [],
   "source": [
    "class ModelWithDrop(nn.Module):\n",
    "    def __init__(self, activation, input_dim, num_dim, num_classes, dropout_prob):\n",
    "        super().__init__()\n",
    "\n",
    "        self.layer1 = nn.Linear(input_dim, num_dim)\n",
    "        self.layer2 = nn.Linear(num_dim, num_dim)\n",
    "        self.layer3 = nn.Linear(num_dim, num_classes)  # 최종 출력 레이어\n",
    "\n",
    "        self.act = activation()\n",
    "        self.dropout = nn.Dropout(p=dropout_prob)  # Dropout 레이어\n",
    "\n",
    "    def forward(self, x):\n",
    "        x = torch.flatten(x, start_dim=1)  # 입력 평탄화\n",
    "        x = self.act(self.layer1(x))       # 첫 번째 레이어 + Activation\n",
    "        x = self.dropout(x)\n",
    "        x = self.act(self.layer2(x))       # 두 번째 레이어 + Activation\n",
    "        x = self.dropout(x)\n",
    "        x = self.layer3(x)                 # 세 번째 레이어 (로짓 반환)\n",
    "        return x"
   ],
   "metadata": {
    "collapsed": false
   }
  },
  {
   "cell_type": "markdown",
   "source": [],
   "metadata": {
    "collapsed": false
   }
  },
  {
   "cell_type": "code",
   "execution_count": 112,
   "outputs": [
    {
     "name": "stdout",
     "output_type": "stream",
     "text": [
      "Epoch   1 | Time: 5.35 seconds | Loss: 322.63 | Train Acc: 0.480 | Test Acc: 0.472\n",
      "Epoch   2 | Time: 5.12 seconds | Loss: 281.80 | Train Acc: 0.540 | Test Acc: 0.494\n",
      "Epoch   3 | Time: 5.13 seconds | Loss: 258.69 | Train Acc: 0.570 | Test Acc: 0.506\n",
      "Epoch   4 | Time: 5.16 seconds | Loss: 240.55 | Train Acc: 0.608 | Test Acc: 0.517\n",
      "Epoch   5 | Time: 5.11 seconds | Loss: 224.92 | Train Acc: 0.657 | Test Acc: 0.540\n",
      "Epoch   6 | Time: 5.11 seconds | Loss: 208.43 | Train Acc: 0.693 | Test Acc: 0.545\n",
      "Epoch   7 | Time: 5.20 seconds | Loss: 193.80 | Train Acc: 0.708 | Test Acc: 0.532\n",
      "Epoch   8 | Time: 5.14 seconds | Loss: 178.15 | Train Acc: 0.751 | Test Acc: 0.547\n",
      "Epoch   9 | Time: 5.16 seconds | Loss: 164.16 | Train Acc: 0.785 | Test Acc: 0.550\n",
      "Epoch  10 | Time: 5.17 seconds | Loss: 150.31 | Train Acc: 0.807 | Test Acc: 0.557\n",
      "Epoch  11 | Time: 5.17 seconds | Loss: 138.65 | Train Acc: 0.832 | Test Acc: 0.548\n",
      "Epoch  12 | Time: 5.15 seconds | Loss: 125.12 | Train Acc: 0.855 | Test Acc: 0.556\n",
      "Epoch  13 | Time: 5.25 seconds | Loss: 114.03 | Train Acc: 0.862 | Test Acc: 0.555\n",
      "Epoch  14 | Time: 5.13 seconds | Loss: 103.68 | Train Acc: 0.887 | Test Acc: 0.546\n",
      "Epoch  15 | Time: 5.21 seconds | Loss: 95.86 | Train Acc: 0.901 | Test Acc: 0.554\n",
      "Epoch  16 | Time: 5.23 seconds | Loss: 87.98 | Train Acc: 0.902 | Test Acc: 0.550\n",
      "Epoch  17 | Time: 5.13 seconds | Loss: 81.37 | Train Acc: 0.919 | Test Acc: 0.558\n",
      "Epoch  18 | Time: 5.15 seconds | Loss: 76.03 | Train Acc: 0.928 | Test Acc: 0.552\n",
      "Epoch  19 | Time: 5.22 seconds | Loss: 69.31 | Train Acc: 0.930 | Test Acc: 0.550\n",
      "Epoch  20 | Time: 5.15 seconds | Loss: 68.32 | Train Acc: 0.933 | Test Acc: 0.546\n",
      "Epoch  21 | Time: 5.17 seconds | Loss: 63.97 | Train Acc: 0.942 | Test Acc: 0.555\n",
      "Epoch  22 | Time: 5.14 seconds | Loss: 61.08 | Train Acc: 0.941 | Test Acc: 0.553\n",
      "Epoch  23 | Time: 5.17 seconds | Loss: 57.90 | Train Acc: 0.952 | Test Acc: 0.555\n",
      "Epoch  24 | Time: 5.15 seconds | Loss: 55.22 | Train Acc: 0.954 | Test Acc: 0.552\n",
      "Epoch  25 | Time: 5.16 seconds | Loss: 54.00 | Train Acc: 0.957 | Test Acc: 0.553\n",
      "Epoch  26 | Time: 5.16 seconds | Loss: 49.97 | Train Acc: 0.963 | Test Acc: 0.554\n",
      "Epoch  27 | Time: 5.14 seconds | Loss: 49.94 | Train Acc: 0.962 | Test Acc: 0.550\n",
      "Epoch  28 | Time: 5.18 seconds | Loss: 50.88 | Train Acc: 0.956 | Test Acc: 0.561\n",
      "Epoch  29 | Time: 5.16 seconds | Loss: 46.88 | Train Acc: 0.963 | Test Acc: 0.560\n",
      "Epoch  30 | Time: 5.13 seconds | Loss: 47.91 | Train Acc: 0.966 | Test Acc: 0.559\n",
      "Epoch  31 | Time: 5.16 seconds | Loss: 43.94 | Train Acc: 0.971 | Test Acc: 0.553\n",
      "Epoch  32 | Time: 5.25 seconds | Loss: 43.87 | Train Acc: 0.968 | Test Acc: 0.551\n",
      "Epoch  33 | Time: 5.19 seconds | Loss: 43.24 | Train Acc: 0.969 | Test Acc: 0.551\n",
      "Epoch  34 | Time: 5.17 seconds | Loss: 40.71 | Train Acc: 0.963 | Test Acc: 0.542\n",
      "Epoch  35 | Time: 5.11 seconds | Loss: 44.47 | Train Acc: 0.976 | Test Acc: 0.556\n",
      "Epoch  36 | Time: 5.11 seconds | Loss: 39.81 | Train Acc: 0.975 | Test Acc: 0.556\n",
      "Epoch  37 | Time: 5.14 seconds | Loss: 39.19 | Train Acc: 0.972 | Test Acc: 0.556\n",
      "Epoch  38 | Time: 5.15 seconds | Loss: 38.31 | Train Acc: 0.972 | Test Acc: 0.555\n",
      "Epoch  39 | Time: 5.17 seconds | Loss: 37.85 | Train Acc: 0.975 | Test Acc: 0.552\n",
      "Epoch  40 | Time: 5.11 seconds | Loss: 40.92 | Train Acc: 0.968 | Test Acc: 0.553\n",
      "Epoch  41 | Time: 5.13 seconds | Loss: 36.42 | Train Acc: 0.979 | Test Acc: 0.556\n",
      "Epoch  42 | Time: 5.20 seconds | Loss: 37.32 | Train Acc: 0.977 | Test Acc: 0.553\n",
      "Epoch  43 | Time: 5.13 seconds | Loss: 36.18 | Train Acc: 0.975 | Test Acc: 0.548\n",
      "Epoch  44 | Time: 5.12 seconds | Loss: 35.81 | Train Acc: 0.978 | Test Acc: 0.560\n",
      "Epoch  45 | Time: 5.18 seconds | Loss: 36.01 | Train Acc: 0.975 | Test Acc: 0.556\n",
      "Epoch  46 | Time: 5.17 seconds | Loss: 37.30 | Train Acc: 0.975 | Test Acc: 0.543\n",
      "Epoch  47 | Time: 5.13 seconds | Loss: 35.57 | Train Acc: 0.978 | Test Acc: 0.552\n",
      "Epoch  48 | Time: 5.13 seconds | Loss: 36.68 | Train Acc: 0.977 | Test Acc: 0.554\n",
      "Epoch  49 | Time: 5.11 seconds | Loss: 32.19 | Train Acc: 0.982 | Test Acc: 0.554\n",
      "Epoch  50 | Time: 5.13 seconds | Loss: 34.00 | Train Acc: 0.983 | Test Acc: 0.561\n"
     ]
    }
   ],
   "source": [
    "model = ModelWithDrop(nn.LeakyReLU, 3 * 32 * 32, 1024, 10, 0.1)\n",
    "model = model.to(device)\n",
    "\n",
    "# 손실 함수: 교차 엔트로피 손실 (분류 문제에서 사용)\n",
    "criterion = nn.CrossEntropyLoss()\n",
    "\n",
    "# Adam 옵티마이저 설정\n",
    "optimizer = optim.Adam(model.parameters(), lr=lr)\n",
    "\n",
    "train_accuracies = []\n",
    "test_accuracies = []\n",
    "\n",
    "for epoch in range(num_epochs):\n",
    "  start_time = time.time()  # 에포크 시작 시간 기록\n",
    "  total_loss = 0.\n",
    "  model.train()  # 학습 모드\n",
    "\n",
    "  for data in train_loader:\n",
    "    model.zero_grad()\n",
    "    inputs, labels = data\n",
    "    inputs, labels = inputs.to(device), labels.to(device)\n",
    "\n",
    "    preds = model(inputs)\n",
    "    loss = criterion(preds, labels)\n",
    "    loss.backward()\n",
    "    optimizer.step()\n",
    "\n",
    "    total_loss += loss.item()\n",
    "\n",
    "  end_time = time.time()\n",
    "  epoch_time = end_time - start_time  # 에포크 실행 시간 계산\n",
    "\n",
    "  with torch.no_grad():\n",
    "    model.eval()  # 평가 모드\n",
    "    train_acc = accuracy(model, train_loader)  # 학습 데이터 정확도\n",
    "    test_acc = accuracy(model, test_loader)    # 테스트 데이터 정확도\n",
    "\n",
    "  train_accuracies.append(train_acc)\n",
    "  test_accuracies.append(test_acc)\n",
    "\n",
    "  print(f\"Epoch {epoch+1:3d} |\"\n",
    "        f\" Time: {epoch_time:.2f} seconds |\"\n",
    "        f\" Loss: {total_loss:.2f} |\"\n",
    "        f\" Train Acc: {train_acc:.3f} |\"\n",
    "        f\" Test Acc: {test_acc:.3f}\")"
   ],
   "metadata": {
    "collapsed": false
   }
  },
  {
   "cell_type": "code",
   "execution_count": 113,
   "outputs": [
    {
     "data": {
      "text/plain": "<Figure size 640x480 with 1 Axes>",
      "image/png": "[encoded data removed]"
     },
     "metadata": {},
     "output_type": "display_data"
    }
   ],
   "source": [
    "plot_acc(train_accuracies, test_accuracies)"
   ],
   "metadata": {
    "collapsed": false
   }
  }
 ],
 "metadata": {
  "kernelspec": {
   "display_name": "Python 3",
   "language": "python",
   "name": "python3"
  },
  "language_info": {
   "codemirror_mode": {
    "name": "ipython",
    "version": 2
   },
   "file_extension": ".py",
   "mimetype": "text/x-python",
   "name": "python",
   "nbconvert_exporter": "python",
   "pygments_lexer": "ipython2",
   "version": "2.7.6"
  }
 },
 "nbformat": 4,
 "nbformat_minor": 0
}
