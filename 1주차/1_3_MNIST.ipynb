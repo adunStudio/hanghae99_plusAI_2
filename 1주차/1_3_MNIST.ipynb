{
 "nbformat": 4,
 "nbformat_minor": 0,
 "metadata": {
  "colab": {
   "provenance": [],
   "gpuType": "T4",
   "include_colab_link": true
  },
  "kernelspec": {
   "name": "python3",
   "display_name": "Python 3 (ipykernel)",
   "language": "python"
  },
  "language_info": {
   "name": "python"
  },
  "accelerator": "GPU"
 },
 "cells": [
  {
   "cell_type": "markdown",
   "metadata": {
    "id": "view-in-github",
    "colab_type": "text"
   },
   "source": [
    "<a href=\"https://colab.research.google.com/github/adunStudio/hanghae99_plusAI_2/blob/main/1%EC%A3%BC%EC%B0%A8/1_3_MNIST.ipynb\" target=\"_parent\"><img src=\"https://colab.research.google.com/assets/colab-badge.svg\" alt=\"Open In Colab\"/></a>"
   ]
  },
  {
   "metadata": {},
   "cell_type": "markdown",
   "source": [
    "## [FEEDBACK] 맥 환경입니다. CUDA가 아닌 MPS 사용해도 될까요?\n",
    "\n",
    "| **항목**          | **CUDA**                                  | **MPS (Metal Performance Shaders)**        |\n",
    "|-------------------|------------------------------------------|-------------------------------------------|\n",
    "| **제작사**       | NVIDIA                                   | Apple                                     |\n",
    "| **호환 하드웨어** | NVIDIA GPU 전용                         | Apple Silicon (M1, M2), 일부 Intel Mac GPU |\n",
    "| **플랫폼**       | Windows, Linux, macOS (NVIDIA GPU만)     | macOS 및 iOS                              |\n",
    "| **프로그래밍 모델** | CUDA C/C++, Python, cuDNN 등 지원       | Metal API 기반, Python (PyTorch MPS)       |\n",
    "| **프레임워크 호환성** | TensorFlow, PyTorch, MXNet, etc.         | PyTorch (MPS 백엔드)                      |\n",
    "| **생태계**       | 매우 광범위, NVIDIA GPU 생태계에 집중    | Apple 생태계 내에 한정                    |\n",
    "| **API 및 라이브러리** | CUDA Core, cuDNN, cuBLAS, TensorRT 등    | Metal Performance Shaders API             |"
   ]
  },
  {
   "metadata": {
    "ExecuteTime": {
     "end_time": "2024-12-15T09:49:11.696210Z",
     "start_time": "2024-12-15T09:49:11.689412Z"
    }
   },
   "cell_type": "code",
   "source": [
    "import torch\n",
    "print(f\"MPS 장치를 지원하도록 build가 되었는가? {torch.backends.mps.is_built()}\")\n",
    "print(f\"MPS 장치가 사용 가능한가? {torch.backends.mps.is_available()}\")\n",
    "\n",
    "device = torch.device(\"mps\")"
   ],
   "outputs": [
    {
     "name": "stdout",
     "output_type": "stream",
     "text": [
      "MPS 장치를 지원하도록 build가 되었는가? True\n",
      "MPS 장치가 사용 가능한가? True\n"
     ]
    }
   ],
   "execution_count": 11
  },
  {
   "cell_type": "markdown",
   "source": [
    "# MNIST 실습\n",
    "\n",
    "이번에는 28x28 흑백 손글씨 이미지를 보고 0~9 사이의 숫자 중 어떤 숫자를 쓴 것인지 예측하는 문제를 실습합니다.\n",
    "이번 실습에서는 GPU를 활용할 것이기 때문에, 이전 챕터에서 Colab에서 GPU를 설정하는 방법을 따라해주시길 바랍니다.\n",
    "\n",
    "GPU를 설정했으면 library들을 import합니다."
   ],
   "metadata": {
    "id": "OPJenlrhihrh"
   }
  },
  {
   "cell_type": "code",
   "metadata": {
    "id": "6lXVfXoDtoQh",
    "ExecuteTime": {
     "end_time": "2024-12-15T09:49:11.725974Z",
     "start_time": "2024-12-15T09:49:11.723092Z"
    }
   },
   "source": [
    "import torch\n",
    "import torchvision\n",
    "import torchvision.transforms as transforms"
   ],
   "outputs": [],
   "execution_count": 12
  },
  {
   "cell_type": "markdown",
   "source": [
    "다음은 dataset을 준비합니다. 손글씨 dataset은 MNIST라는 유명한 dataset이 있습니다. 이 dataset은 `torchvision`에서 제공하고 있으며, 다음과 같이 다운로드 받을 수 있습니다."
   ],
   "metadata": {
    "id": "pF-1zQvmiult"
   }
  },
  {
   "cell_type": "markdown",
   "source": [
    "# [MY CODE] Test data 준비하기 1/2\n"
   ],
   "metadata": {
    "collapsed": false
   }
  },
  {
   "cell_type": "code",
   "source": [
    "# 데이터셋 전처리:\n",
    "# 1. PIL 이미지 또는 NumPy 배열 → PyTorch Tensor로 변환\n",
    "# 2. 이미지를 Tensor로 변환 (픽셀 값을 [0, 1] 범위로 정규화)\n",
    "transform = transforms.ToTensor()\n",
    "\n",
    "# MNIST 학습 데이터셋 로드\n",
    "train_set = torchvision.datasets.MNIST(\n",
    "    root='./data',\n",
    "    train=True,\n",
    "    download=True,\n",
    "    transform=transform,\n",
    ")\n",
    "\n",
    "# MNIST 테스트 데이터셋 로드\n",
    "test_set = torchvision.datasets.MNIST(\n",
    "    root='./data',\n",
    "    train=False,\n",
    "    download=True,\n",
    "    transform=transform,\n",
    ")"
   ],
   "metadata": {
    "id": "KAYlqPaRt6ti",
    "colab": {
     "base_uri": "https://localhost:8080/"
    },
    "outputId": "67e51d96-85b4-4129-efc8-7938006afdd4",
    "ExecuteTime": {
     "end_time": "2024-12-15T09:49:11.835369Z",
     "start_time": "2024-12-15T09:49:11.783384Z"
    }
   },
   "outputs": [],
   "execution_count": 13
  },
  {
   "cell_type": "markdown",
   "source": [
    "MNIST는 손글씨 사진과 어떤 숫자를 의미하는지에 대한 label의 pair들로 구성되어있습니다.\n",
    "이 때, 우리는 PyTorch model을 사용할 것이기 때문에 손글씨 사진들을 모두 tensor로 변환해야합니다.\n",
    "이러한 부가적인 변환들은 `torchvision.transforms`에서 제공하고 있으며, `torchvision.datasets.MNIST`에서 `transform` 인자로 받을 수 있습니다.\n",
    "우리는 단순히 사진을 tensor로 바꾸고 싶기 때문에 `transforms.ToTensor()` transformation을 넘겨줍니다.\n",
    "\n",
    "다음은 전체 data의 개수와 첫 번째 data를 출력한 결과입니다."
   ],
   "metadata": {
    "id": "p-GqH7_ZjVMs"
   }
  },
  {
   "cell_type": "code",
   "source": [
    "from matplotlib import pyplot as plt\n",
    "\n",
    "print(len(train_set))\n",
    "print(train_set[0][0].shape, train_set[0][1])\n",
    "plt.imshow(train_set[0][0][0], cmap='gray')\n",
    "# 60,000개의 이미지로 구성되어있다.\n",
    "# [1, 28, 28]: 1채널(흑백), 28 x 28 크기 이미지"
   ],
   "metadata": {
    "colab": {
     "base_uri": "https://localhost:8080/",
     "height": 481
    },
    "id": "Zsp3sHmojyhT",
    "outputId": "3511bb75-e677-4fb8-894b-69e22c80f4bc",
    "ExecuteTime": {
     "end_time": "2024-12-15T09:49:11.939291Z",
     "start_time": "2024-12-15T09:49:11.845896Z"
    }
   },
   "outputs": [
    {
     "name": "stdout",
     "output_type": "stream",
     "text": [
      "60000\n",
      "torch.Size([1, 28, 28]) 5\n"
     ]
    },
    {
     "data": {
      "text/plain": [
       "<matplotlib.image.AxesImage at 0x3044fadb0>"
      ]
     },
     "execution_count": 14,
     "metadata": {},
     "output_type": "execute_result"
    },
    {
     "data": {
      "text/plain": [
       "<Figure size 640x480 with 1 Axes>"
      ],
      "image/png": "[encoded data removed]"
     },
     "metadata": {},
     "output_type": "display_data"
    }
   ],
   "execution_count": 14
  },
  {
   "cell_type": "markdown",
   "source": [
    "첫 번째 출력결과를 통해 우리는 6만장의 손글씨 data가 있는 것을 알 수 있습니다.\n",
    "그리고 두 번째 출력결과를 통해 첫 번째 data의 shape은 (1, 28, 28)이고 5라는 숫자를 쓴 사진이라는 것을 알 수 있습니다.\n",
    "마지막으로 `plt.imshow`를 통해 visualize 했을 때 5라는 숫자가 나오는 것을 알 수 있습니다.\n",
    "\n",
    "다음은 SGD를 위해 dataset을 여러 개의 batch로 나누는 과정을 PyTorch로 구현한 모습입니다."
   ],
   "metadata": {
    "id": "udm8wDBsi301"
   }
  },
  {
   "cell_type": "markdown",
   "source": [
    "# [MY CODE] Test data 준비하기 2/2\n"
   ],
   "metadata": {
    "collapsed": false
   }
  },
  {
   "cell_type": "code",
   "source": [
    "batch_size = 256\n",
    "\n",
    "train_loader = torch.utils.data.DataLoader(\n",
    "    train_set,\n",
    "    batch_size=batch_size,\n",
    "    shuffle=True\n",
    ")\n",
    "\n",
    "test_loader = torch.utils.data.DataLoader(\n",
    "    test_set,\n",
    "    batch_size=batch_size,\n",
    "    shuffle=False\n",
    ")"
   ],
   "metadata": {
    "id": "UxKu3kA2i5WH",
    "ExecuteTime": {
     "end_time": "2024-12-15T09:49:11.964588Z",
     "start_time": "2024-12-15T09:49:11.959439Z"
    }
   },
   "outputs": [],
   "execution_count": 15
  },
  {
   "cell_type": "markdown",
   "source": [
    "PyTorch에서는 `DataLoader`가 dataset을 인자로 받아 batch로 나눠줍니다.\n",
    "부가적으로 `batch_size`라는 인자를 통해 batch size를 받고 있으며, `shuffle`이라는 인자를 통해 data들을 섞을지 결정해줍니다.\n",
    "우리는 SGD가 완전 랜덤으로 batch를 구성해야 잘 동작하는 것을 알고 있기 때문에 `shuffle`에 `True`를 넘겨주고 있습니다.\n",
    "\n",
    "다음은 첫 번째 batch를 출력한 모습입니다."
   ],
   "metadata": {
    "id": "z4Qyrm4WlzWt"
   }
  },
  {
   "cell_type": "code",
   "source": [
    "dataiter = iter(train_loader)\n",
    "images, labels = next(dataiter)\n",
    "print(images.shape, labels.shape)"
   ],
   "metadata": {
    "colab": {
     "base_uri": "https://localhost:8080/"
    },
    "id": "_Hd7XxyAvVNz",
    "outputId": "185acb61-2ed7-4110-b325-c0e016ca60b0",
    "ExecuteTime": {
     "end_time": "2024-12-15T09:49:12.002464Z",
     "start_time": "2024-12-15T09:49:11.981124Z"
    }
   },
   "outputs": [
    {
     "name": "stdout",
     "output_type": "stream",
     "text": [
      "torch.Size([256, 1, 28, 28]) torch.Size([256])\n"
     ]
    }
   ],
   "execution_count": 16
  },
  {
   "cell_type": "markdown",
   "source": [
    "`images`는 첫 번째 batch의 image들이고 `labels`는 첫 번째 batch의 label들입니다.\n",
    "위에서 batch size를 64로 설정했기 때문에 총 64개의 image와 label들이 있어야 합니다.\n",
    "실제 shape 출력 결과를 보면 그렇다는 것을 알 수 있습니다.\n",
    "\n",
    "다음은 (n, 1, 28, 28) shape의 image를 입력받아 0~9 사이의 정수 하나를 출력하는 3-layer MLP를 구현합니다."
   ],
   "metadata": {
    "id": "h0ZY5mDimRUK"
   }
  },
  {
   "cell_type": "code",
   "source": [
    "def accuracy(model, dataloader):\n",
    "  cnt = 0\n",
    "  acc = 0\n",
    "\n",
    "  for data in dataloader:\n",
    "    inputs, labels = data\n",
    "    inputs, labels = inputs.to(device), labels.to(device)\n",
    "\n",
    "    preds = model(inputs)\n",
    "    preds = torch.argmax(preds, dim=-1)\n",
    "\n",
    "    cnt += labels.shape[0]\n",
    "    acc += (labels == preds).sum().item()\n",
    "\n",
    "  return acc / cnt"
   ],
   "metadata": {
    "collapsed": false,
    "ExecuteTime": {
     "end_time": "2024-12-15T09:49:12.017099Z",
     "start_time": "2024-12-15T09:49:12.013794Z"
    }
   },
   "outputs": [],
   "execution_count": 17
  },
  {
   "cell_type": "code",
   "source": [
    "from torch import nn\n",
    "\n",
    "\n",
    "class Model(nn.Module):\n",
    "  def __init__(self, input_dim, num_dim, num_classes):\n",
    "    super().__init__()\n",
    "\n",
    "    self.layer1 = nn.Linear(input_dim, num_dim)\n",
    "    self.layer2 = nn.Linear(num_dim, num_dim)\n",
    "    self.layer3 = nn.Linear(num_dim, num_classes)\n",
    "\n",
    "    self.act = nn.ReLU()\n",
    "\n",
    "  def forward(self, x):\n",
    "    x = torch.flatten(x, start_dim=1)\n",
    "    x = self.act(self.layer1(x))\n",
    "    x = self.act(self.layer2(x))\n",
    "    x = self.act(self.layer3(x))\n",
    "\n",
    "    return x\n",
    "\n",
    "\n",
    "model = Model(28 * 28 * 1, 1024, 10)"
   ],
   "metadata": {
    "id": "OLOA-ZGTuVVG",
    "ExecuteTime": {
     "end_time": "2024-12-15T09:49:12.052501Z",
     "start_time": "2024-12-15T09:49:12.040366Z"
    }
   },
   "outputs": [],
   "execution_count": 18
  },
  {
   "cell_type": "markdown",
   "source": [
    "이전의 2-layer MLP와 유사한 형태임을 알 수 있습니다.\n",
    "여기서 특이사항은 `forward`의 첫 번째 줄에 `torch.flatten`을 사용한다는 것입니다.\n",
    "`Linear`는 이전에도 봤다시피 (n, d) 형태의 shape을 입력받습니다.\n",
    "이미지는 (n, 1, 28, 28)이기 때문에 (n, 1 * 28 * 28)로 shape을 변환해야 선형 함수에 입력으로 주어줄 수 있게 됩니다.\n",
    "이 역할을 수행하는 것이 바로 `torch.flatten`입니다.\n",
    "우리는 첫 번째 shape인 n을 보존할 것이기 때문에 flatten할 차원은 `start_dim=1`로 넘겨주게 됩니다.\n",
    "\n",
    "다음은 gradient descent를 수행해줄 optimizer를 구현하는 모습입니다."
   ],
   "metadata": {
    "id": "tag1rNcwmnAr"
   }
  },
  {
   "cell_type": "markdown",
   "source": [
    "# [MY CODE] nn.CrossEntropyLoss 적용하기"
   ],
   "metadata": {
    "collapsed": false
   }
  },
  {
   "cell_type": "code",
   "source": [
    "from torch.optim import SGD\n",
    "\n",
    "lr = 0.001\n",
    "model = model.to(device)\n",
    "\n",
    "# 손실 함수: 교차 엔트로피 손실 (분류 문제에서 사용)\n",
    "criterion = nn.CrossEntropyLoss()\n",
    "\n",
    "optimizer = SGD(model.parameters(), lr=lr)\n",
    "\n",
    "train_accuracies = []\n",
    "test_accuracies = []"
   ],
   "metadata": {
    "id": "ypS0TcOlvBhZ",
    "ExecuteTime": {
     "end_time": "2024-12-15T09:49:12.134346Z",
     "start_time": "2024-12-15T09:49:12.068976Z"
    }
   },
   "outputs": [],
   "execution_count": 19
  },
  {
   "cell_type": "markdown",
   "source": [
    "이전 코드와 거의 똑같습니다. 다른 점은 `model.to(device)` 코드를 통해 우리가 구현한 model을 GPU로 옮긴 것입니다.\n",
    "MNIST 부터는 모델과 data가 커지면서 훨씬 많은 행렬 연산이 이루어지기 때문에 GPU를 활용하는 것이 빠릅니다.\n",
    "\n",
    "다음은 model을 MNIST에 학습하는 코드입니다."
   ],
   "metadata": {
    "id": "5PooeOKMnRfZ"
   }
  },
  {
   "cell_type": "code",
   "source": [
    "import time\n",
    "\n",
    "num_epochs = 100\n",
    "\n",
    "for epoch in range(num_epochs):\n",
    "  start_time = time.time()  # 에포크 시작 시간 기록\n",
    "  total_loss = 0.\n",
    "  model.train()  # 학습 모드\n",
    "\n",
    "  for data in train_loader:\n",
    "    model.zero_grad()\n",
    "    inputs, labels = data\n",
    "    inputs, labels = inputs.to(device), labels.to(device)\n",
    "\n",
    "    preds = model(inputs)\n",
    "    loss = criterion(preds, labels)\n",
    "    loss.backward()\n",
    "    optimizer.step()\n",
    "\n",
    "    total_loss += loss.item()\n",
    "\n",
    "  end_time = time.time()\n",
    "  epoch_time = end_time - start_time  # 에포크 실행 시간 계산\n",
    "\n",
    "  model.eval()  # 평가 모드\n",
    "  with torch.no_grad():\n",
    "    train_acc = accuracy(model, train_loader)  # 학습 데이터 정확도\n",
    "    test_acc = accuracy(model, test_loader)    # 테스트 데이터 정확도\n",
    "\n",
    "  train_accuracies.append(train_acc)\n",
    "  test_accuracies.append(test_acc)\n",
    "\n",
    "  print(f\"Epoch {epoch+1:3d} |\"\n",
    "        f\" Time: {epoch_time:.2f} seconds |\"\n",
    "        f\" Loss: {total_loss:.2f} |\"\n",
    "        f\" Train Acc: {train_acc:.3f} |\"\n",
    "        f\" Test Acc: {test_acc:.3f}\")"
   ],
   "metadata": {
    "colab": {
     "base_uri": "https://localhost:8080/"
    },
    "id": "TryX1hewvNiB",
    "outputId": "4e4a9282-d49a-40ff-c26c-d00fb7c0af79",
    "ExecuteTime": {
     "end_time": "2024-12-15T09:57:49.759360Z",
     "start_time": "2024-12-15T09:49:12.143095Z"
    }
   },
   "outputs": [
    {
     "name": "stdout",
     "output_type": "stream",
     "text": [
      "Epoch   1 | Time: 4.91 seconds | Loss: 540.60 | Train Acc: 0.180 | Test Acc: 0.175\n",
      "Epoch   2 | Time: 2.79 seconds | Loss: 539.16 | Train Acc: 0.286 | Test Acc: 0.277\n",
      "Epoch   3 | Time: 2.64 seconds | Loss: 537.25 | Train Acc: 0.365 | Test Acc: 0.361\n",
      "Epoch   4 | Time: 2.81 seconds | Loss: 535.32 | Train Acc: 0.414 | Test Acc: 0.415\n",
      "Epoch   5 | Time: 2.61 seconds | Loss: 533.33 | Train Acc: 0.445 | Test Acc: 0.449\n",
      "Epoch   6 | Time: 2.62 seconds | Loss: 531.21 | Train Acc: 0.464 | Test Acc: 0.468\n",
      "Epoch   7 | Time: 2.62 seconds | Loss: 528.92 | Train Acc: 0.475 | Test Acc: 0.480\n",
      "Epoch   8 | Time: 2.61 seconds | Loss: 526.43 | Train Acc: 0.480 | Test Acc: 0.486\n",
      "Epoch   9 | Time: 2.64 seconds | Loss: 523.71 | Train Acc: 0.483 | Test Acc: 0.489\n",
      "Epoch  10 | Time: 2.61 seconds | Loss: 520.68 | Train Acc: 0.484 | Test Acc: 0.489\n",
      "Epoch  11 | Time: 2.62 seconds | Loss: 517.31 | Train Acc: 0.484 | Test Acc: 0.490\n",
      "Epoch  12 | Time: 2.62 seconds | Loss: 513.56 | Train Acc: 0.482 | Test Acc: 0.490\n",
      "Epoch  13 | Time: 2.60 seconds | Loss: 509.38 | Train Acc: 0.482 | Test Acc: 0.490\n",
      "Epoch  14 | Time: 2.76 seconds | Loss: 504.69 | Train Acc: 0.481 | Test Acc: 0.488\n",
      "Epoch  15 | Time: 2.64 seconds | Loss: 499.44 | Train Acc: 0.480 | Test Acc: 0.489\n",
      "Epoch  16 | Time: 2.62 seconds | Loss: 493.61 | Train Acc: 0.480 | Test Acc: 0.489\n",
      "Epoch  17 | Time: 2.82 seconds | Loss: 487.26 | Train Acc: 0.480 | Test Acc: 0.489\n",
      "Epoch  18 | Time: 2.68 seconds | Loss: 480.28 | Train Acc: 0.481 | Test Acc: 0.490\n",
      "Epoch  19 | Time: 2.72 seconds | Loss: 472.79 | Train Acc: 0.484 | Test Acc: 0.491\n",
      "Epoch  20 | Time: 2.63 seconds | Loss: 464.85 | Train Acc: 0.486 | Test Acc: 0.493\n",
      "Epoch  21 | Time: 2.72 seconds | Loss: 456.48 | Train Acc: 0.488 | Test Acc: 0.495\n",
      "Epoch  22 | Time: 2.72 seconds | Loss: 448.03 | Train Acc: 0.493 | Test Acc: 0.499\n",
      "Epoch  23 | Time: 2.76 seconds | Loss: 439.45 | Train Acc: 0.497 | Test Acc: 0.504\n",
      "Epoch  24 | Time: 2.69 seconds | Loss: 430.97 | Train Acc: 0.500 | Test Acc: 0.508\n",
      "Epoch  25 | Time: 2.91 seconds | Loss: 422.66 | Train Acc: 0.503 | Test Acc: 0.512\n",
      "Epoch  26 | Time: 2.73 seconds | Loss: 414.61 | Train Acc: 0.508 | Test Acc: 0.516\n",
      "Epoch  27 | Time: 2.62 seconds | Loss: 406.91 | Train Acc: 0.510 | Test Acc: 0.517\n",
      "Epoch  28 | Time: 2.62 seconds | Loss: 399.56 | Train Acc: 0.514 | Test Acc: 0.521\n",
      "Epoch  29 | Time: 2.73 seconds | Loss: 392.74 | Train Acc: 0.516 | Test Acc: 0.523\n",
      "Epoch  30 | Time: 2.61 seconds | Loss: 386.05 | Train Acc: 0.518 | Test Acc: 0.523\n",
      "Epoch  31 | Time: 2.59 seconds | Loss: 379.99 | Train Acc: 0.519 | Test Acc: 0.524\n",
      "Epoch  32 | Time: 2.61 seconds | Loss: 374.19 | Train Acc: 0.520 | Test Acc: 0.525\n",
      "Epoch  33 | Time: 2.79 seconds | Loss: 368.75 | Train Acc: 0.522 | Test Acc: 0.526\n",
      "Epoch  34 | Time: 2.81 seconds | Loss: 363.64 | Train Acc: 0.524 | Test Acc: 0.528\n",
      "Epoch  35 | Time: 2.87 seconds | Loss: 359.09 | Train Acc: 0.526 | Test Acc: 0.529\n",
      "Epoch  36 | Time: 2.90 seconds | Loss: 354.64 | Train Acc: 0.527 | Test Acc: 0.531\n",
      "Epoch  37 | Time: 2.63 seconds | Loss: 350.57 | Train Acc: 0.530 | Test Acc: 0.534\n",
      "Epoch  38 | Time: 2.94 seconds | Loss: 346.64 | Train Acc: 0.532 | Test Acc: 0.535\n",
      "Epoch  39 | Time: 2.70 seconds | Loss: 342.96 | Train Acc: 0.535 | Test Acc: 0.537\n",
      "Epoch  40 | Time: 2.60 seconds | Loss: 339.80 | Train Acc: 0.537 | Test Acc: 0.540\n",
      "Epoch  41 | Time: 2.73 seconds | Loss: 336.56 | Train Acc: 0.540 | Test Acc: 0.544\n",
      "Epoch  42 | Time: 2.65 seconds | Loss: 333.70 | Train Acc: 0.543 | Test Acc: 0.546\n",
      "Epoch  43 | Time: 2.83 seconds | Loss: 330.82 | Train Acc: 0.547 | Test Acc: 0.550\n",
      "Epoch  44 | Time: 2.67 seconds | Loss: 328.31 | Train Acc: 0.550 | Test Acc: 0.552\n",
      "Epoch  45 | Time: 2.73 seconds | Loss: 325.77 | Train Acc: 0.553 | Test Acc: 0.554\n",
      "Epoch  46 | Time: 2.65 seconds | Loss: 323.46 | Train Acc: 0.556 | Test Acc: 0.557\n",
      "Epoch  47 | Time: 2.62 seconds | Loss: 321.32 | Train Acc: 0.560 | Test Acc: 0.560\n",
      "Epoch  48 | Time: 2.69 seconds | Loss: 319.29 | Train Acc: 0.563 | Test Acc: 0.563\n",
      "Epoch  49 | Time: 2.61 seconds | Loss: 317.33 | Train Acc: 0.566 | Test Acc: 0.566\n",
      "Epoch  50 | Time: 2.63 seconds | Loss: 315.54 | Train Acc: 0.569 | Test Acc: 0.569\n",
      "Epoch  51 | Time: 2.62 seconds | Loss: 313.68 | Train Acc: 0.571 | Test Acc: 0.572\n",
      "Epoch  52 | Time: 2.60 seconds | Loss: 311.99 | Train Acc: 0.574 | Test Acc: 0.574\n",
      "Epoch  53 | Time: 2.59 seconds | Loss: 310.54 | Train Acc: 0.576 | Test Acc: 0.577\n",
      "Epoch  54 | Time: 2.60 seconds | Loss: 309.07 | Train Acc: 0.578 | Test Acc: 0.579\n",
      "Epoch  55 | Time: 2.63 seconds | Loss: 307.49 | Train Acc: 0.581 | Test Acc: 0.582\n",
      "Epoch  56 | Time: 2.61 seconds | Loss: 306.12 | Train Acc: 0.583 | Test Acc: 0.585\n",
      "Epoch  57 | Time: 2.61 seconds | Loss: 304.87 | Train Acc: 0.585 | Test Acc: 0.588\n",
      "Epoch  58 | Time: 2.61 seconds | Loss: 303.66 | Train Acc: 0.587 | Test Acc: 0.589\n",
      "Epoch  59 | Time: 2.67 seconds | Loss: 302.51 | Train Acc: 0.589 | Test Acc: 0.591\n",
      "Epoch  60 | Time: 2.74 seconds | Loss: 301.24 | Train Acc: 0.590 | Test Acc: 0.593\n",
      "Epoch  61 | Time: 2.61 seconds | Loss: 300.16 | Train Acc: 0.592 | Test Acc: 0.594\n",
      "Epoch  62 | Time: 2.59 seconds | Loss: 299.23 | Train Acc: 0.594 | Test Acc: 0.596\n",
      "Epoch  63 | Time: 2.63 seconds | Loss: 298.03 | Train Acc: 0.596 | Test Acc: 0.598\n",
      "Epoch  64 | Time: 2.64 seconds | Loss: 297.17 | Train Acc: 0.597 | Test Acc: 0.600\n",
      "Epoch  65 | Time: 2.61 seconds | Loss: 296.24 | Train Acc: 0.599 | Test Acc: 0.601\n",
      "Epoch  66 | Time: 2.66 seconds | Loss: 295.26 | Train Acc: 0.600 | Test Acc: 0.602\n",
      "Epoch  67 | Time: 2.93 seconds | Loss: 294.48 | Train Acc: 0.601 | Test Acc: 0.604\n",
      "Epoch  68 | Time: 2.90 seconds | Loss: 293.65 | Train Acc: 0.603 | Test Acc: 0.605\n",
      "Epoch  69 | Time: 2.80 seconds | Loss: 292.72 | Train Acc: 0.604 | Test Acc: 0.607\n",
      "Epoch  70 | Time: 2.62 seconds | Loss: 292.13 | Train Acc: 0.605 | Test Acc: 0.608\n",
      "Epoch  71 | Time: 2.62 seconds | Loss: 291.29 | Train Acc: 0.607 | Test Acc: 0.609\n",
      "Epoch  72 | Time: 2.68 seconds | Loss: 290.58 | Train Acc: 0.608 | Test Acc: 0.611\n",
      "Epoch  73 | Time: 2.60 seconds | Loss: 289.94 | Train Acc: 0.609 | Test Acc: 0.611\n",
      "Epoch  74 | Time: 2.60 seconds | Loss: 289.42 | Train Acc: 0.610 | Test Acc: 0.612\n",
      "Epoch  75 | Time: 2.62 seconds | Loss: 288.62 | Train Acc: 0.612 | Test Acc: 0.614\n",
      "Epoch  76 | Time: 2.65 seconds | Loss: 287.92 | Train Acc: 0.612 | Test Acc: 0.615\n",
      "Epoch  77 | Time: 2.63 seconds | Loss: 287.42 | Train Acc: 0.613 | Test Acc: 0.615\n",
      "Epoch  78 | Time: 2.62 seconds | Loss: 286.85 | Train Acc: 0.614 | Test Acc: 0.617\n",
      "Epoch  79 | Time: 2.63 seconds | Loss: 286.32 | Train Acc: 0.615 | Test Acc: 0.617\n",
      "Epoch  80 | Time: 2.62 seconds | Loss: 285.82 | Train Acc: 0.616 | Test Acc: 0.618\n",
      "Epoch  81 | Time: 2.60 seconds | Loss: 285.16 | Train Acc: 0.617 | Test Acc: 0.620\n",
      "Epoch  82 | Time: 2.73 seconds | Loss: 284.72 | Train Acc: 0.617 | Test Acc: 0.620\n",
      "Epoch  83 | Time: 2.61 seconds | Loss: 284.27 | Train Acc: 0.618 | Test Acc: 0.621\n",
      "Epoch  84 | Time: 2.85 seconds | Loss: 283.86 | Train Acc: 0.619 | Test Acc: 0.622\n",
      "Epoch  85 | Time: 3.00 seconds | Loss: 283.34 | Train Acc: 0.619 | Test Acc: 0.622\n",
      "Epoch  86 | Time: 2.70 seconds | Loss: 282.85 | Train Acc: 0.620 | Test Acc: 0.623\n",
      "Epoch  87 | Time: 2.86 seconds | Loss: 282.42 | Train Acc: 0.621 | Test Acc: 0.624\n",
      "Epoch  88 | Time: 2.78 seconds | Loss: 282.11 | Train Acc: 0.622 | Test Acc: 0.624\n",
      "Epoch  89 | Time: 2.76 seconds | Loss: 281.64 | Train Acc: 0.622 | Test Acc: 0.625\n",
      "Epoch  90 | Time: 2.70 seconds | Loss: 281.08 | Train Acc: 0.623 | Test Acc: 0.625\n",
      "Epoch  91 | Time: 2.65 seconds | Loss: 280.86 | Train Acc: 0.623 | Test Acc: 0.626\n",
      "Epoch  92 | Time: 2.66 seconds | Loss: 280.54 | Train Acc: 0.624 | Test Acc: 0.627\n",
      "Epoch  93 | Time: 2.77 seconds | Loss: 280.06 | Train Acc: 0.624 | Test Acc: 0.627\n",
      "Epoch  94 | Time: 2.73 seconds | Loss: 279.65 | Train Acc: 0.625 | Test Acc: 0.628\n",
      "Epoch  95 | Time: 2.99 seconds | Loss: 279.33 | Train Acc: 0.625 | Test Acc: 0.628\n",
      "Epoch  96 | Time: 2.87 seconds | Loss: 279.04 | Train Acc: 0.626 | Test Acc: 0.629\n",
      "Epoch  97 | Time: 3.01 seconds | Loss: 278.79 | Train Acc: 0.626 | Test Acc: 0.629\n",
      "Epoch  98 | Time: 2.78 seconds | Loss: 278.28 | Train Acc: 0.626 | Test Acc: 0.629\n",
      "Epoch  99 | Time: 2.64 seconds | Loss: 278.12 | Train Acc: 0.627 | Test Acc: 0.630\n",
      "Epoch 100 | Time: 3.23 seconds | Loss: 277.72 | Train Acc: 0.627 | Test Acc: 0.631\n"
     ]
    }
   ],
   "execution_count": 20
  },
  {
   "cell_type": "markdown",
   "source": [
    "# [LOG] 학습 과정에서의 Epoch별 손실값 출력\n",
    "\n",
    "```\n",
    "Epoch   1 | Time: 4.91 seconds | Loss: 540.60 | Train Acc: 0.180 | Test Acc: 0.175\n",
    "Epoch   2 | Time: 2.79 seconds | Loss: 539.16 | Train Acc: 0.286 | Test Acc: 0.277\n",
    "Epoch   3 | Time: 2.64 seconds | Loss: 537.25 | Train Acc: 0.365 | Test Acc: 0.361\n",
    "Epoch   4 | Time: 2.81 seconds | Loss: 535.32 | Train Acc: 0.414 | Test Acc: 0.415\n",
    "Epoch   5 | Time: 2.61 seconds | Loss: 533.33 | Train Acc: 0.445 | Test Acc: 0.449\n",
    "Epoch   6 | Time: 2.62 seconds | Loss: 531.21 | Train Acc: 0.464 | Test Acc: 0.468\n",
    "Epoch   7 | Time: 2.62 seconds | Loss: 528.92 | Train Acc: 0.475 | Test Acc: 0.480\n",
    "Epoch   8 | Time: 2.61 seconds | Loss: 526.43 | Train Acc: 0.480 | Test Acc: 0.486\n",
    "Epoch   9 | Time: 2.64 seconds | Loss: 523.71 | Train Acc: 0.483 | Test Acc: 0.489\n",
    "Epoch  10 | Time: 2.61 seconds | Loss: 520.68 | Train Acc: 0.484 | Test Acc: 0.489\n",
    "Epoch  11 | Time: 2.62 seconds | Loss: 517.31 | Train Acc: 0.484 | Test Acc: 0.490\n",
    "Epoch  12 | Time: 2.62 seconds | Loss: 513.56 | Train Acc: 0.482 | Test Acc: 0.490\n",
    "Epoch  13 | Time: 2.60 seconds | Loss: 509.38 | Train Acc: 0.482 | Test Acc: 0.490\n",
    "Epoch  14 | Time: 2.76 seconds | Loss: 504.69 | Train Acc: 0.481 | Test Acc: 0.488\n",
    "Epoch  15 | Time: 2.64 seconds | Loss: 499.44 | Train Acc: 0.480 | Test Acc: 0.489\n",
    "Epoch  16 | Time: 2.62 seconds | Loss: 493.61 | Train Acc: 0.480 | Test Acc: 0.489\n",
    "Epoch  17 | Time: 2.82 seconds | Loss: 487.26 | Train Acc: 0.480 | Test Acc: 0.489\n",
    "Epoch  18 | Time: 2.68 seconds | Loss: 480.28 | Train Acc: 0.481 | Test Acc: 0.490\n",
    "Epoch  19 | Time: 2.72 seconds | Loss: 472.79 | Train Acc: 0.484 | Test Acc: 0.491\n",
    "Epoch  20 | Time: 2.63 seconds | Loss: 464.85 | Train Acc: 0.486 | Test Acc: 0.493\n",
    "Epoch  21 | Time: 2.72 seconds | Loss: 456.48 | Train Acc: 0.488 | Test Acc: 0.495\n",
    "Epoch  22 | Time: 2.72 seconds | Loss: 448.03 | Train Acc: 0.493 | Test Acc: 0.499\n",
    "Epoch  23 | Time: 2.76 seconds | Loss: 439.45 | Train Acc: 0.497 | Test Acc: 0.504\n",
    "Epoch  24 | Time: 2.69 seconds | Loss: 430.97 | Train Acc: 0.500 | Test Acc: 0.508\n",
    "Epoch  25 | Time: 2.91 seconds | Loss: 422.66 | Train Acc: 0.503 | Test Acc: 0.512\n",
    "Epoch  26 | Time: 2.73 seconds | Loss: 414.61 | Train Acc: 0.508 | Test Acc: 0.516\n",
    "Epoch  27 | Time: 2.62 seconds | Loss: 406.91 | Train Acc: 0.510 | Test Acc: 0.517\n",
    "Epoch  28 | Time: 2.62 seconds | Loss: 399.56 | Train Acc: 0.514 | Test Acc: 0.521\n",
    "Epoch  29 | Time: 2.73 seconds | Loss: 392.74 | Train Acc: 0.516 | Test Acc: 0.523\n",
    "Epoch  30 | Time: 2.61 seconds | Loss: 386.05 | Train Acc: 0.518 | Test Acc: 0.523\n",
    "Epoch  31 | Time: 2.59 seconds | Loss: 379.99 | Train Acc: 0.519 | Test Acc: 0.524\n",
    "Epoch  32 | Time: 2.61 seconds | Loss: 374.19 | Train Acc: 0.520 | Test Acc: 0.525\n",
    "Epoch  33 | Time: 2.79 seconds | Loss: 368.75 | Train Acc: 0.522 | Test Acc: 0.526\n",
    "Epoch  34 | Time: 2.81 seconds | Loss: 363.64 | Train Acc: 0.524 | Test Acc: 0.528\n",
    "Epoch  35 | Time: 2.87 seconds | Loss: 359.09 | Train Acc: 0.526 | Test Acc: 0.529\n",
    "Epoch  36 | Time: 2.90 seconds | Loss: 354.64 | Train Acc: 0.527 | Test Acc: 0.531\n",
    "Epoch  37 | Time: 2.63 seconds | Loss: 350.57 | Train Acc: 0.530 | Test Acc: 0.534\n",
    "Epoch  38 | Time: 2.94 seconds | Loss: 346.64 | Train Acc: 0.532 | Test Acc: 0.535\n",
    "Epoch  39 | Time: 2.70 seconds | Loss: 342.96 | Train Acc: 0.535 | Test Acc: 0.537\n",
    "Epoch  40 | Time: 2.60 seconds | Loss: 339.80 | Train Acc: 0.537 | Test Acc: 0.540\n",
    "Epoch  41 | Time: 2.73 seconds | Loss: 336.56 | Train Acc: 0.540 | Test Acc: 0.544\n",
    "Epoch  42 | Time: 2.65 seconds | Loss: 333.70 | Train Acc: 0.543 | Test Acc: 0.546\n",
    "Epoch  43 | Time: 2.83 seconds | Loss: 330.82 | Train Acc: 0.547 | Test Acc: 0.550\n",
    "Epoch  44 | Time: 2.67 seconds | Loss: 328.31 | Train Acc: 0.550 | Test Acc: 0.552\n",
    "Epoch  45 | Time: 2.73 seconds | Loss: 325.77 | Train Acc: 0.553 | Test Acc: 0.554\n",
    "Epoch  46 | Time: 2.65 seconds | Loss: 323.46 | Train Acc: 0.556 | Test Acc: 0.557\n",
    "Epoch  47 | Time: 2.62 seconds | Loss: 321.32 | Train Acc: 0.560 | Test Acc: 0.560\n",
    "Epoch  48 | Time: 2.69 seconds | Loss: 319.29 | Train Acc: 0.563 | Test Acc: 0.563\n",
    "Epoch  49 | Time: 2.61 seconds | Loss: 317.33 | Train Acc: 0.566 | Test Acc: 0.566\n",
    "Epoch  50 | Time: 2.63 seconds | Loss: 315.54 | Train Acc: 0.569 | Test Acc: 0.569\n",
    "Epoch  51 | Time: 2.62 seconds | Loss: 313.68 | Train Acc: 0.571 | Test Acc: 0.572\n",
    "Epoch  52 | Time: 2.60 seconds | Loss: 311.99 | Train Acc: 0.574 | Test Acc: 0.574\n",
    "Epoch  53 | Time: 2.59 seconds | Loss: 310.54 | Train Acc: 0.576 | Test Acc: 0.577\n",
    "Epoch  54 | Time: 2.60 seconds | Loss: 309.07 | Train Acc: 0.578 | Test Acc: 0.579\n",
    "Epoch  55 | Time: 2.63 seconds | Loss: 307.49 | Train Acc: 0.581 | Test Acc: 0.582\n",
    "Epoch  56 | Time: 2.61 seconds | Loss: 306.12 | Train Acc: 0.583 | Test Acc: 0.585\n",
    "Epoch  57 | Time: 2.61 seconds | Loss: 304.87 | Train Acc: 0.585 | Test Acc: 0.588\n",
    "Epoch  58 | Time: 2.61 seconds | Loss: 303.66 | Train Acc: 0.587 | Test Acc: 0.589\n",
    "Epoch  59 | Time: 2.67 seconds | Loss: 302.51 | Train Acc: 0.589 | Test Acc: 0.591\n",
    "Epoch  60 | Time: 2.74 seconds | Loss: 301.24 | Train Acc: 0.590 | Test Acc: 0.593\n",
    "Epoch  61 | Time: 2.61 seconds | Loss: 300.16 | Train Acc: 0.592 | Test Acc: 0.594\n",
    "Epoch  62 | Time: 2.59 seconds | Loss: 299.23 | Train Acc: 0.594 | Test Acc: 0.596\n",
    "Epoch  63 | Time: 2.63 seconds | Loss: 298.03 | Train Acc: 0.596 | Test Acc: 0.598\n",
    "Epoch  64 | Time: 2.64 seconds | Loss: 297.17 | Train Acc: 0.597 | Test Acc: 0.600\n",
    "Epoch  65 | Time: 2.61 seconds | Loss: 296.24 | Train Acc: 0.599 | Test Acc: 0.601\n",
    "Epoch  66 | Time: 2.66 seconds | Loss: 295.26 | Train Acc: 0.600 | Test Acc: 0.602\n",
    "Epoch  67 | Time: 2.93 seconds | Loss: 294.48 | Train Acc: 0.601 | Test Acc: 0.604\n",
    "Epoch  68 | Time: 2.90 seconds | Loss: 293.65 | Train Acc: 0.603 | Test Acc: 0.605\n",
    "Epoch  69 | Time: 2.80 seconds | Loss: 292.72 | Train Acc: 0.604 | Test Acc: 0.607\n",
    "Epoch  70 | Time: 2.62 seconds | Loss: 292.13 | Train Acc: 0.605 | Test Acc: 0.608\n",
    "Epoch  71 | Time: 2.62 seconds | Loss: 291.29 | Train Acc: 0.607 | Test Acc: 0.609\n",
    "Epoch  72 | Time: 2.68 seconds | Loss: 290.58 | Train Acc: 0.608 | Test Acc: 0.611\n",
    "Epoch  73 | Time: 2.60 seconds | Loss: 289.94 | Train Acc: 0.609 | Test Acc: 0.611\n",
    "Epoch  74 | Time: 2.60 seconds | Loss: 289.42 | Train Acc: 0.610 | Test Acc: 0.612\n",
    "Epoch  75 | Time: 2.62 seconds | Loss: 288.62 | Train Acc: 0.612 | Test Acc: 0.614\n",
    "Epoch  76 | Time: 2.65 seconds | Loss: 287.92 | Train Acc: 0.612 | Test Acc: 0.615\n",
    "Epoch  77 | Time: 2.63 seconds | Loss: 287.42 | Train Acc: 0.613 | Test Acc: 0.615\n",
    "Epoch  78 | Time: 2.62 seconds | Loss: 286.85 | Train Acc: 0.614 | Test Acc: 0.617\n",
    "Epoch  79 | Time: 2.63 seconds | Loss: 286.32 | Train Acc: 0.615 | Test Acc: 0.617\n",
    "Epoch  80 | Time: 2.62 seconds | Loss: 285.82 | Train Acc: 0.616 | Test Acc: 0.618\n",
    "Epoch  81 | Time: 2.60 seconds | Loss: 285.16 | Train Acc: 0.617 | Test Acc: 0.620\n",
    "Epoch  82 | Time: 2.73 seconds | Loss: 284.72 | Train Acc: 0.617 | Test Acc: 0.620\n",
    "Epoch  83 | Time: 2.61 seconds | Loss: 284.27 | Train Acc: 0.618 | Test Acc: 0.621\n",
    "Epoch  84 | Time: 2.85 seconds | Loss: 283.86 | Train Acc: 0.619 | Test Acc: 0.622\n",
    "Epoch  85 | Time: 3.00 seconds | Loss: 283.34 | Train Acc: 0.619 | Test Acc: 0.622\n",
    "Epoch  86 | Time: 2.70 seconds | Loss: 282.85 | Train Acc: 0.620 | Test Acc: 0.623\n",
    "Epoch  87 | Time: 2.86 seconds | Loss: 282.42 | Train Acc: 0.621 | Test Acc: 0.624\n",
    "Epoch  88 | Time: 2.78 seconds | Loss: 282.11 | Train Acc: 0.622 | Test Acc: 0.624\n",
    "Epoch  89 | Time: 2.76 seconds | Loss: 281.64 | Train Acc: 0.622 | Test Acc: 0.625\n",
    "Epoch  90 | Time: 2.70 seconds | Loss: 281.08 | Train Acc: 0.623 | Test Acc: 0.625\n",
    "Epoch  91 | Time: 2.65 seconds | Loss: 280.86 | Train Acc: 0.623 | Test Acc: 0.626\n",
    "Epoch  92 | Time: 2.66 seconds | Loss: 280.54 | Train Acc: 0.624 | Test Acc: 0.627\n",
    "Epoch  93 | Time: 2.77 seconds | Loss: 280.06 | Train Acc: 0.624 | Test Acc: 0.627\n",
    "Epoch  94 | Time: 2.73 seconds | Loss: 279.65 | Train Acc: 0.625 | Test Acc: 0.628\n",
    "Epoch  95 | Time: 2.99 seconds | Loss: 279.33 | Train Acc: 0.625 | Test Acc: 0.628\n",
    "Epoch  96 | Time: 2.87 seconds | Loss: 279.04 | Train Acc: 0.626 | Test Acc: 0.629\n",
    "Epoch  97 | Time: 3.01 seconds | Loss: 278.79 | Train Acc: 0.626 | Test Acc: 0.629\n",
    "Epoch  98 | Time: 2.78 seconds | Loss: 278.28 | Train Acc: 0.626 | Test Acc: 0.629\n",
    "Epoch  99 | Time: 2.64 seconds | Loss: 278.12 | Train Acc: 0.627 | Test Acc: 0.630\n",
    "Epoch 100 | Time: 3.23 seconds | Loss: 277.72 | Train Acc: 0.627 | Test Acc: 0.631\n",
    "```"
   ],
   "metadata": {
    "collapsed": false
   }
  },
  {
   "cell_type": "markdown",
   "source": [
    "출력 결과를 보면 잘 수렴하는 것을 볼 수 있습니다.\n",
    "이전 구현과 다른 점은 다음 두 가지입니다.\n",
    "- `for data in trainloader`를 통해 batch들을 iterate하면서 model을 학습합니다.\n",
    "- `inputs, labels = inputs.to(device), labels.to(device)`를 통해 model의 입력으로 들어가는 tensor들을 GPU로 보냅니다.\n",
    "\n",
    "마지막으로 첫 번째 data에 대한 예측 결과를 살펴봅시다."
   ],
   "metadata": {
    "id": "YRDcptrqniX7"
   }
  },
  {
   "cell_type": "code",
   "source": [
    "idx = 3\n",
    "\n",
    "x = train_set[idx][0][None]  # (1, 1, 28, 28)\n",
    "x = x.to(device)\n",
    "\n",
    "print(model(x))\n",
    "print(train_set[idx][1])"
   ],
   "metadata": {
    "id": "Zct0ssSKwjt1",
    "colab": {
     "base_uri": "https://localhost:8080/"
    },
    "outputId": "4a8d7062-1a43-4522-895e-cfebb9c02cdb",
    "ExecuteTime": {
     "end_time": "2024-12-15T09:57:53.433300Z",
     "start_time": "2024-12-15T09:57:53.091717Z"
    }
   },
   "outputs": [
    {
     "name": "stdout",
     "output_type": "stream",
     "text": [
      "tensor([[0., 0., 0., 0., 0., 0., 0., 0., 0., 0.]], device='mps:0',\n",
      "       grad_fn=<ReluBackward0>)\n",
      "1\n"
     ]
    }
   ],
   "execution_count": 21
  },
  {
   "cell_type": "markdown",
   "source": [
    "여기서 idx를 조정하여 다른 data에 대한 출력 결과도 볼 수 있습니다.\n",
    "예측 결과를 보시면 아직 성능이 그렇게 좋지 않은 것을 알 수 있습니다."
   ],
   "metadata": {
    "id": "qzgSOrMsoZ2z"
   }
  },
  {
   "cell_type": "markdown",
   "source": [
    "# [MY CODE] 학습을 진행한 후, epoch에 따른 model의 train과 test data에 대한 정확도 plot하기"
   ],
   "metadata": {
    "collapsed": false
   }
  },
  {
   "cell_type": "code",
   "source": [
    "import numpy as np\n",
    "\n",
    "def plot_acc(train_accuracies, test_accuracies, label1='train', label2='test'):\n",
    "  x = np.arange(len(train_accuracies))\n",
    "\n",
    "  plt.plot(x, train_accuracies, label=label1)\n",
    "  plt.plot(x, test_accuracies, label=label2)\n",
    "  plt.legend()\n",
    "  plt.show()\n",
    "\n",
    "plot_acc(train_accuracies, test_accuracies)"
   ],
   "metadata": {
    "id": "d6M4SpWQoML9",
    "ExecuteTime": {
     "end_time": "2024-12-15T09:57:53.723961Z",
     "start_time": "2024-12-15T09:57:53.660754Z"
    }
   },
   "outputs": [
    {
     "data": {
      "text/plain": [
       "<Figure size 640x480 with 1 Axes>"
      ],
      "image/png": "[encoded data removed]"
     },
     "metadata": {},
     "output_type": "display_data"
    }
   ],
   "execution_count": 22
  }
 ]
}
