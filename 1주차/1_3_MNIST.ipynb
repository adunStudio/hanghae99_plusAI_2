{
 "nbformat": 4,
 "nbformat_minor": 0,
 "metadata": {
  "colab": {
   "provenance": [],
   "gpuType": "T4",
   "include_colab_link": true
  },
  "kernelspec": {
   "name": "python3",
   "display_name": "Python 3"
  },
  "language_info": {
   "name": "python"
  },
  "accelerator": "GPU"
 },
 "cells": [
  {
   "cell_type": "markdown",
   "metadata": {
    "id": "view-in-github",
    "colab_type": "text"
   },
   "source": [
    "<a href=\"https://colab.research.google.com/github/adunStudio/hanghae99_plusAI_2/blob/main/1%EC%A3%BC%EC%B0%A8/1_3_MNIST.ipynb\" target=\"_parent\"><img src=\"https://colab.research.google.com/assets/colab-badge.svg\" alt=\"Open In Colab\"/></a>"
   ]
  },
  {
   "cell_type": "markdown",
   "source": [
    "# MNIST 실습\n",
    "\n",
    "이번에는 28x28 흑백 손글씨 이미지를 보고 0~9 사이의 숫자 중 어떤 숫자를 쓴 것인지 예측하는 문제를 실습합니다.\n",
    "이번 실습에서는 GPU를 활용할 것이기 때문에, 이전 챕터에서 Colab에서 GPU를 설정하는 방법을 따라해주시길 바랍니다.\n",
    "\n",
    "GPU를 설정했으면 library들을 import합니다."
   ],
   "metadata": {
    "id": "OPJenlrhihrh"
   }
  },
  {
   "cell_type": "code",
   "execution_count": 17,
   "metadata": {
    "id": "6lXVfXoDtoQh"
   },
   "outputs": [],
   "source": [
    "import torch\n",
    "import torchvision\n",
    "import torchvision.transforms as transforms"
   ]
  },
  {
   "cell_type": "markdown",
   "source": [
    "다음은 dataset을 준비합니다. 손글씨 dataset은 MNIST라는 유명한 dataset이 있습니다. 이 dataset은 `torchvision`에서 제공하고 있으며, 다음과 같이 다운로드 받을 수 있습니다."
   ],
   "metadata": {
    "id": "pF-1zQvmiult"
   }
  },
  {
   "cell_type": "code",
   "source": [
    "# 데이터셋 전처리:\n",
    "# 1. PIL 이미지 또는 NumPy 배열 → PyTorch Tensor로 변환\n",
    "# 2. 이미지를 Tensor로 변환 (픽셀 값을 [0, 1] 범위로 정규화)\n",
    "transform = transforms.ToTensor()\n",
    "\n",
    "# MNIST 학습 데이터셋 로드\n",
    "train_set = torchvision.datasets.MNIST(\n",
    "    root='./data',\n",
    "    train=True,\n",
    "    download=True,\n",
    "    transform=transform,\n",
    ")\n",
    "\n",
    "# MNIST 훈련 데이터셋 로드\n",
    "test_set = torchvision.datasets.MNIST(\n",
    "    root='./data',\n",
    "    train=False,\n",
    "    download=True,\n",
    "    transform=transform,\n",
    ")"
   ],
   "metadata": {
    "id": "KAYlqPaRt6ti",
    "colab": {
     "base_uri": "https://localhost:8080/"
    },
    "outputId": "67e51d96-85b4-4129-efc8-7938006afdd4"
   },
   "execution_count": 21,
   "outputs": []
  },
  {
   "cell_type": "markdown",
   "source": [
    "MNIST는 손글씨 사진과 어떤 숫자를 의미하는지에 대한 label의 pair들로 구성되어있습니다.\n",
    "이 때, 우리는 PyTorch model을 사용할 것이기 때문에 손글씨 사진들을 모두 tensor로 변환해야합니다.\n",
    "이러한 부가적인 변환들은 `torchvision.transforms`에서 제공하고 있으며, `torchvision.datasets.MNIST`에서 `transform` 인자로 받을 수 있습니다.\n",
    "우리는 단순히 사진을 tensor로 바꾸고 싶기 때문에 `transforms.ToTensor()` transformation을 넘겨줍니다.\n",
    "\n",
    "다음은 전체 data의 개수와 첫 번째 data를 출력한 결과입니다."
   ],
   "metadata": {
    "id": "p-GqH7_ZjVMs"
   }
  },
  {
   "cell_type": "code",
   "source": [
    "from matplotlib import pyplot as plt\n",
    "\n",
    "print(len(train_set))\n",
    "print(train_set[0][0].shape, train_set[0][1])\n",
    "plt.imshow(train_set[0][0][0], cmap='gray')\n",
    "# 60,000개의 이미지로 구성되어있다.\n",
    "# [1, 28, 28]: 1채널(흑백), 28 x 28 크기 이미지"
   ],
   "metadata": {
    "colab": {
     "base_uri": "https://localhost:8080/",
     "height": 481
    },
    "id": "Zsp3sHmojyhT",
    "outputId": "3511bb75-e677-4fb8-894b-69e22c80f4bc"
   },
   "execution_count": 22,
   "outputs": [
    {
     "name": "stdout",
     "output_type": "stream",
     "text": [
      "60000\n",
      "torch.Size([1, 28, 28]) 5\n"
     ]
    },
    {
     "data": {
      "text/plain": "<matplotlib.image.AxesImage at 0x786e892dea70>"
     },
     "execution_count": 22,
     "metadata": {},
     "output_type": "execute_result"
    },
    {
     "data": {
      "text/plain": "<Figure size 640x480 with 1 Axes>",
      "image/png": "[encoded data removed]"
     },
     "metadata": {},
     "output_type": "display_data"
    }
   ]
  },
  {
   "cell_type": "markdown",
   "source": [
    "첫 번째 출력결과를 통해 우리는 6만장의 손글씨 data가 있는 것을 알 수 있습니다.\n",
    "그리고 두 번째 출력결과를 통해 첫 번째 data의 shape은 (1, 28, 28)이고 5라는 숫자를 쓴 사진이라는 것을 알 수 있습니다.\n",
    "마지막으로 `plt.imshow`를 통해 visualize 했을 때 5라는 숫자가 나오는 것을 알 수 있습니다.\n",
    "\n",
    "다음은 SGD를 위해 dataset을 여러 개의 batch로 나누는 과정을 PyTorch로 구현한 모습입니다."
   ],
   "metadata": {
    "id": "udm8wDBsi301"
   }
  },
  {
   "cell_type": "code",
   "source": [
    "batch_size = 256\n",
    "\n",
    "train_loader = torch.utils.data.DataLoader(\n",
    "    train_set,\n",
    "    batch_size=batch_size,\n",
    "    shuffle=True\n",
    ")\n",
    "\n",
    "test_loader = torch.utils.data.DataLoader(\n",
    "    test_set,\n",
    "    batch_size=batch_size,\n",
    "    shuffle=False\n",
    ")"
   ],
   "metadata": {
    "id": "UxKu3kA2i5WH"
   },
   "execution_count": 33,
   "outputs": []
  },
  {
   "cell_type": "markdown",
   "source": [
    "PyTorch에서는 `DataLoader`가 dataset을 인자로 받아 batch로 나눠줍니다.\n",
    "부가적으로 `batch_size`라는 인자를 통해 batch size를 받고 있으며, `shuffle`이라는 인자를 통해 data들을 섞을지 결정해줍니다.\n",
    "우리는 SGD가 완전 랜덤으로 batch를 구성해야 잘 동작하는 것을 알고 있기 때문에 `shuffle`에 `True`를 넘겨주고 있습니다.\n",
    "\n",
    "다음은 첫 번째 batch를 출력한 모습입니다."
   ],
   "metadata": {
    "id": "z4Qyrm4WlzWt"
   }
  },
  {
   "cell_type": "code",
   "source": [
    "dataiter = iter(train_loader)\n",
    "images, labels = next(dataiter)\n",
    "print(images.shape, labels.shape)"
   ],
   "metadata": {
    "colab": {
     "base_uri": "https://localhost:8080/"
    },
    "id": "_Hd7XxyAvVNz",
    "outputId": "185acb61-2ed7-4110-b325-c0e016ca60b0"
   },
   "execution_count": 34,
   "outputs": [
    {
     "name": "stdout",
     "output_type": "stream",
     "text": [
      "torch.Size([256, 1, 28, 28]) torch.Size([256])\n"
     ]
    }
   ]
  },
  {
   "cell_type": "markdown",
   "source": [
    "`images`는 첫 번째 batch의 image들이고 `labels`는 첫 번째 batch의 label들입니다.\n",
    "위에서 batch size를 64로 설정했기 때문에 총 64개의 image와 label들이 있어야 합니다.\n",
    "실제 shape 출력 결과를 보면 그렇다는 것을 알 수 있습니다.\n",
    "\n",
    "다음은 (n, 1, 28, 28) shape의 image를 입력받아 0~9 사이의 정수 하나를 출력하는 3-layer MLP를 구현합니다."
   ],
   "metadata": {
    "id": "h0ZY5mDimRUK"
   }
  },
  {
   "cell_type": "code",
   "execution_count": 36,
   "outputs": [],
   "source": [
    "def accuracy(model, dataloader):\n",
    "  cnt = 0\n",
    "  acc = 0\n",
    "\n",
    "  for data in dataloader:\n",
    "    inputs, labels = data\n",
    "    inputs, labels = inputs.to('cuda'), labels.to('cuda')\n",
    "\n",
    "    preds = model(inputs)\n",
    "    preds = torch.argmax(preds, dim=-1)\n",
    "\n",
    "    cnt += labels.shape[0]\n",
    "    acc += (labels == preds).sum().item()\n",
    "\n",
    "  return acc / cnt"
   ],
   "metadata": {
    "collapsed": false
   }
  },
  {
   "cell_type": "code",
   "source": [
    "from torch import nn\n",
    "\n",
    "\n",
    "class Model(nn.Module):\n",
    "  def __init__(self, input_dim, num_dim, num_classes):\n",
    "    super().__init__()\n",
    "\n",
    "    self.layer1 = nn.Linear(input_dim, num_dim)\n",
    "    self.layer2 = nn.Linear(num_dim, num_dim)\n",
    "    self.layer3 = nn.Linear(num_dim, num_classes)\n",
    "\n",
    "    self.act = nn.ReLU()\n",
    "\n",
    "  def forward(self, x):\n",
    "    x = torch.flatten(x, start_dim=1)\n",
    "    x = self.act(self.layer1(x))\n",
    "    x = self.act(self.layer2(x))\n",
    "    x = self.act(self.layer3(x))\n",
    "\n",
    "    return x\n",
    "\n",
    "\n",
    "model = Model(28 * 28 * 1, 1024, 10)"
   ],
   "metadata": {
    "id": "OLOA-ZGTuVVG"
   },
   "execution_count": 35,
   "outputs": []
  },
  {
   "cell_type": "markdown",
   "source": [
    "이전의 2-layer MLP와 유사한 형태임을 알 수 있습니다.\n",
    "여기서 특이사항은 `forward`의 첫 번째 줄에 `torch.flatten`을 사용한다는 것입니다.\n",
    "`Linear`는 이전에도 봤다시피 (n, d) 형태의 shape을 입력받습니다.\n",
    "이미지는 (n, 1, 28, 28)이기 때문에 (n, 1 * 28 * 28)로 shape을 변환해야 선형 함수에 입력으로 주어줄 수 있게 됩니다.\n",
    "이 역할을 수행하는 것이 바로 `torch.flatten`입니다.\n",
    "우리는 첫 번째 shape인 n을 보존할 것이기 때문에 flatten할 차원은 `start_dim=1`로 넘겨주게 됩니다.\n",
    "\n",
    "다음은 gradient descent를 수행해줄 optimizer를 구현하는 모습입니다."
   ],
   "metadata": {
    "id": "tag1rNcwmnAr"
   }
  },
  {
   "cell_type": "code",
   "source": [
    "from torch.optim import SGD\n",
    "\n",
    "lr = 0.001\n",
    "model = model.to('cuda')\n",
    "\n",
    "# 손실 함수: 교차 엔트로피 손실 (분류 문제에서 사용)\n",
    "criterion = nn.CrossEntropyLoss()\n",
    "\n",
    "optimizer = SGD(model.parameters(), lr=lr)\n",
    "\n",
    "train_accuracies = []\n",
    "test_accuracies = []"
   ],
   "metadata": {
    "id": "ypS0TcOlvBhZ"
   },
   "execution_count": 37,
   "outputs": []
  },
  {
   "cell_type": "markdown",
   "source": [
    "이전 코드와 거의 똑같습니다. 다른 점은 `model.to('cuda')` 코드를 통해 우리가 구현한 model을 GPU로 옮긴 것입니다.\n",
    "MNIST 부터는 모델과 data가 커지면서 훨씬 많은 행렬 연산이 이루어지기 때문에 GPU를 활용하는 것이 빠릅니다.\n",
    "\n",
    "다음은 model을 MNIST에 학습하는 코드입니다."
   ],
   "metadata": {
    "id": "5PooeOKMnRfZ"
   }
  },
  {
   "cell_type": "code",
   "source": [
    "num_epochs = 100\n",
    "\n",
    "for epoch in range(num_epochs):\n",
    "  total_loss = 0.\n",
    "  model.train()  # 학습 모드\n",
    "\n",
    "  for data in train_loader:\n",
    "    model.zero_grad()\n",
    "    inputs, labels = data\n",
    "    inputs, labels = inputs.to('cuda'), labels.to('cuda')\n",
    "\n",
    "    preds = model(inputs)\n",
    "    loss = criterion(preds, labels)\n",
    "    loss.backward()\n",
    "    optimizer.step()\n",
    "\n",
    "    total_loss += loss.item()\n",
    "\n",
    "  model.eval()  # 평가 모드\n",
    "  with torch.no_grad():\n",
    "    train_acc = accuracy(model, train_loader)  # 학습 데이터 정확도\n",
    "    test_acc = accuracy(model, test_loader)    # 테스트 데이터 정확도\n",
    "\n",
    "  train_accuracies.append(train_acc)\n",
    "  test_accuracies.append(test_acc)\n",
    "  print(f\"Epoch {epoch:3d} | Loss: {total_loss}\")"
   ],
   "metadata": {
    "colab": {
     "base_uri": "https://localhost:8080/"
    },
    "id": "TryX1hewvNiB",
    "outputId": "4e4a9282-d49a-40ff-c26c-d00fb7c0af79"
   },
   "execution_count": 38,
   "outputs": [
    {
     "name": "stdout",
     "output_type": "stream",
     "text": [
      "Epoch   0 | Loss: 540.1040949821472\n",
      "Epoch   1 | Loss: 537.8118181228638\n",
      "Epoch   2 | Loss: 535.4376707077026\n",
      "Epoch   3 | Loss: 532.8762359619141\n",
      "Epoch   4 | Loss: 530.1504535675049\n",
      "Epoch   5 | Loss: 527.0583765506744\n",
      "Epoch   6 | Loss: 523.4724142551422\n",
      "Epoch   7 | Loss: 519.543910741806\n",
      "Epoch   8 | Loss: 515.1878674030304\n",
      "Epoch   9 | Loss: 510.31477975845337\n",
      "Epoch  10 | Loss: 504.9542815685272\n",
      "Epoch  11 | Loss: 499.02710723876953\n",
      "Epoch  12 | Loss: 492.43480682373047\n",
      "Epoch  13 | Loss: 485.18833661079407\n",
      "Epoch  14 | Loss: 477.3101941347122\n",
      "Epoch  15 | Loss: 468.85625433921814\n",
      "Epoch  16 | Loss: 459.86859941482544\n",
      "Epoch  17 | Loss: 450.35690665245056\n",
      "Epoch  18 | Loss: 440.51557326316833\n",
      "Epoch  19 | Loss: 430.34865641593933\n",
      "Epoch  20 | Loss: 420.1470067501068\n",
      "Epoch  21 | Loss: 409.93152809143066\n",
      "Epoch  22 | Loss: 399.84609818458557\n",
      "Epoch  23 | Loss: 389.9261865615845\n",
      "Epoch  24 | Loss: 380.48441219329834\n",
      "Epoch  25 | Loss: 371.4316974878311\n",
      "Epoch  26 | Loss: 362.89131903648376\n",
      "Epoch  27 | Loss: 354.8106929063797\n",
      "Epoch  28 | Loss: 347.2336474657059\n",
      "Epoch  29 | Loss: 340.377418756485\n",
      "Epoch  30 | Loss: 333.75423312187195\n",
      "Epoch  31 | Loss: 327.7964371442795\n",
      "Epoch  32 | Loss: 322.33017241954803\n",
      "Epoch  33 | Loss: 317.06036937236786\n",
      "Epoch  34 | Loss: 312.25730979442596\n",
      "Epoch  35 | Loss: 307.9291797876358\n",
      "Epoch  36 | Loss: 303.85786736011505\n",
      "Epoch  37 | Loss: 299.97878193855286\n",
      "Epoch  38 | Loss: 296.4052164554596\n",
      "Epoch  39 | Loss: 293.13807928562164\n",
      "Epoch  40 | Loss: 289.99220407009125\n",
      "Epoch  41 | Loss: 287.10876047611237\n",
      "Epoch  42 | Loss: 284.29889619350433\n",
      "Epoch  43 | Loss: 281.7265155315399\n",
      "Epoch  44 | Loss: 279.224307179451\n",
      "Epoch  45 | Loss: 277.0667709708214\n",
      "Epoch  46 | Loss: 274.7441093325615\n",
      "Epoch  47 | Loss: 272.68662452697754\n",
      "Epoch  48 | Loss: 270.78352177143097\n",
      "Epoch  49 | Loss: 268.99154782295227\n",
      "Epoch  50 | Loss: 267.09108793735504\n",
      "Epoch  51 | Loss: 265.49378794431686\n",
      "Epoch  52 | Loss: 263.87365663051605\n",
      "Epoch  53 | Loss: 262.5015822649002\n",
      "Epoch  54 | Loss: 260.9708020687103\n",
      "Epoch  55 | Loss: 259.6475821733475\n",
      "Epoch  56 | Loss: 258.3059067130089\n",
      "Epoch  57 | Loss: 257.2154356241226\n",
      "Epoch  58 | Loss: 255.77956593036652\n",
      "Epoch  59 | Loss: 254.58819442987442\n",
      "Epoch  60 | Loss: 253.62988728284836\n",
      "Epoch  61 | Loss: 252.48597365617752\n",
      "Epoch  62 | Loss: 251.4990175962448\n",
      "Epoch  63 | Loss: 250.51798635721207\n",
      "Epoch  64 | Loss: 249.75056540966034\n",
      "Epoch  65 | Loss: 248.67397725582123\n",
      "Epoch  66 | Loss: 247.81304812431335\n",
      "Epoch  67 | Loss: 247.0224987268448\n",
      "Epoch  68 | Loss: 246.20778173208237\n",
      "Epoch  69 | Loss: 245.4226597547531\n",
      "Epoch  70 | Loss: 244.59293246269226\n",
      "Epoch  71 | Loss: 244.02872723340988\n",
      "Epoch  72 | Loss: 243.3992274403572\n",
      "Epoch  73 | Loss: 242.49499821662903\n",
      "Epoch  74 | Loss: 241.90947592258453\n",
      "Epoch  75 | Loss: 241.2984563112259\n",
      "Epoch  76 | Loss: 240.84296309947968\n",
      "Epoch  77 | Loss: 240.1541347503662\n",
      "Epoch  78 | Loss: 239.5410122871399\n",
      "Epoch  79 | Loss: 238.97789615392685\n",
      "Epoch  80 | Loss: 238.45162171125412\n",
      "Epoch  81 | Loss: 237.9900004863739\n",
      "Epoch  82 | Loss: 237.46229481697083\n",
      "Epoch  83 | Loss: 236.96619230508804\n",
      "Epoch  84 | Loss: 236.39273810386658\n",
      "Epoch  85 | Loss: 236.13473099470139\n",
      "Epoch  86 | Loss: 235.60139960050583\n",
      "Epoch  87 | Loss: 235.12324631214142\n",
      "Epoch  88 | Loss: 234.6838217973709\n",
      "Epoch  89 | Loss: 234.3937481045723\n",
      "Epoch  90 | Loss: 233.9384789466858\n",
      "Epoch  91 | Loss: 233.57989645004272\n",
      "Epoch  92 | Loss: 233.2593046426773\n",
      "Epoch  93 | Loss: 232.8631848692894\n",
      "Epoch  94 | Loss: 232.32961744070053\n",
      "Epoch  95 | Loss: 232.11896562576294\n",
      "Epoch  96 | Loss: 231.65777307748795\n",
      "Epoch  97 | Loss: 231.38412249088287\n",
      "Epoch  98 | Loss: 231.07369548082352\n",
      "Epoch  99 | Loss: 230.70873177051544\n"
     ]
    }
   ]
  },
  {
   "cell_type": "markdown",
   "source": [
    "출력 결과를 보면 잘 수렴하는 것을 볼 수 있습니다.\n",
    "이전 구현과 다른 점은 다음 두 가지입니다.\n",
    "- `for data in trainloader`를 통해 batch들을 iterate하면서 model을 학습합니다.\n",
    "- `inputs, labels = inputs.to('cuda'), labels.to('cuda')`를 통해 model의 입력으로 들어가는 tensor들을 GPU로 보냅니다.\n",
    "\n",
    "마지막으로 첫 번째 data에 대한 예측 결과를 살펴봅시다."
   ],
   "metadata": {
    "id": "YRDcptrqniX7"
   }
  },
  {
   "cell_type": "code",
   "source": [
    "idx = 0\n",
    "\n",
    "x = train_set[idx][0][None]  # (1, 1, 28, 28)\n",
    "x = x.to('cuda')\n",
    "\n",
    "print(model(x))\n",
    "print(train_set[idx][1])"
   ],
   "metadata": {
    "id": "Zct0ssSKwjt1",
    "colab": {
     "base_uri": "https://localhost:8080/"
    },
    "outputId": "4a8d7062-1a43-4522-895e-cfebb9c02cdb"
   },
   "execution_count": 39,
   "outputs": [
    {
     "name": "stdout",
     "output_type": "stream",
     "text": [
      "tensor([[0.0000, 0.0000, 0.0000, 0.0000, 0.0000, 2.3943, 0.0000, 0.0000, 0.0000,\n",
      "         0.0000]], device='cuda:0', grad_fn=<ReluBackward0>)\n",
      "5\n"
     ]
    }
   ]
  },
  {
   "cell_type": "markdown",
   "source": [
    "여기서 idx를 조정하여 다른 data에 대한 출력 결과도 볼 수 있습니다.\n",
    "예측 결과를 보시면 아직 성능이 그렇게 좋지 않은 것을 알 수 있습니다."
   ],
   "metadata": {
    "id": "qzgSOrMsoZ2z"
   }
  },
  {
   "cell_type": "code",
   "source": [
    "import numpy as np\n",
    "\n",
    "def plot_acc(train_accs, test_accs, label1='train', label2='test'):\n",
    "  x = np.arange(len(train_accs))\n",
    "\n",
    "  plt.plot(x, train_accs, label=label1)\n",
    "  plt.plot(x, test_accs, label=label2)\n",
    "  plt.legend()\n",
    "  plt.show()\n",
    "\n",
    "plot_acc(train_accuracies, test_accuracies)"
   ],
   "metadata": {
    "id": "d6M4SpWQoML9"
   },
   "execution_count": 40,
   "outputs": [
    {
     "data": {
      "text/plain": "<Figure size 640x480 with 1 Axes>",
      "image/png": "[encoded data removed]"
     },
     "metadata": {},
     "output_type": "display_data"
    }
   ]
  },
  {
   "cell_type": "code",
   "execution_count": null,
   "outputs": [],
   "source": [],
   "metadata": {
    "collapsed": false
   }
  }
 ]
}
