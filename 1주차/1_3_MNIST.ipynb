{
 "nbformat": 4,
 "nbformat_minor": 0,
 "metadata": {
  "colab": {
   "provenance": [],
   "gpuType": "T4",
   "include_colab_link": true
  },
  "kernelspec": {
   "name": "python3",
   "display_name": "Python 3"
  },
  "language_info": {
   "name": "python"
  },
  "accelerator": "GPU"
 },
 "cells": [
  {
   "cell_type": "markdown",
   "metadata": {
    "id": "view-in-github",
    "colab_type": "text"
   },
   "source": [
    "<a href=\"https://colab.research.google.com/github/adunStudio/hanghae99_plusAI_2/blob/main/1%EC%A3%BC%EC%B0%A8/1_3_MNIST.ipynb\" target=\"_parent\"><img src=\"https://colab.research.google.com/assets/colab-badge.svg\" alt=\"Open In Colab\"/></a>"
   ]
  },
  {
   "cell_type": "markdown",
   "source": [
    "# MNIST 실습\n",
    "\n",
    "이번에는 28x28 흑백 손글씨 이미지를 보고 0~9 사이의 숫자 중 어떤 숫자를 쓴 것인지 예측하는 문제를 실습합니다.\n",
    "이번 실습에서는 GPU를 활용할 것이기 때문에, 이전 챕터에서 Colab에서 GPU를 설정하는 방법을 따라해주시길 바랍니다.\n",
    "\n",
    "GPU를 설정했으면 library들을 import합니다."
   ],
   "metadata": {
    "id": "OPJenlrhihrh"
   }
  },
  {
   "cell_type": "code",
   "execution_count": 17,
   "metadata": {
    "id": "6lXVfXoDtoQh"
   },
   "outputs": [],
   "source": [
    "import torch\n",
    "import torchvision\n",
    "import torchvision.transforms as transforms"
   ]
  },
  {
   "cell_type": "markdown",
   "source": [
    "다음은 dataset을 준비합니다. 손글씨 dataset은 MNIST라는 유명한 dataset이 있습니다. 이 dataset은 `torchvision`에서 제공하고 있으며, 다음과 같이 다운로드 받을 수 있습니다."
   ],
   "metadata": {
    "id": "pF-1zQvmiult"
   }
  },
  {
   "cell_type": "code",
   "source": [
    "# 데이터셋 전처리:\n",
    "# 1. PIL 이미지 또는 NumPy 배열 → PyTorch Tensor로 변환\n",
    "# 2. 이미지를 Tensor로 변환 (픽셀 값을 [0, 1] 범위로 정규화)\n",
    "transform = transforms.ToTensor()\n",
    "\n",
    "# MNIST 학습 데이터셋 로드\n",
    "train_set = torchvision.datasets.MNIST(\n",
    "    root='./data',\n",
    "    train=True,\n",
    "    download=True,\n",
    "    transform=transform,\n",
    ")\n",
    "\n",
    "# MNIST 훈련 데이터셋 로드\n",
    "test_set = torchvision.datasets.MNIST(\n",
    "    root='./data',\n",
    "    train=False,\n",
    "    download=True,\n",
    "    transform=transform,\n",
    ")"
   ],
   "metadata": {
    "id": "KAYlqPaRt6ti",
    "colab": {
     "base_uri": "https://localhost:8080/"
    },
    "outputId": "67e51d96-85b4-4129-efc8-7938006afdd4"
   },
   "execution_count": 21,
   "outputs": []
  },
  {
   "cell_type": "markdown",
   "source": [
    "MNIST는 손글씨 사진과 어떤 숫자를 의미하는지에 대한 label의 pair들로 구성되어있습니다.\n",
    "이 때, 우리는 PyTorch model을 사용할 것이기 때문에 손글씨 사진들을 모두 tensor로 변환해야합니다.\n",
    "이러한 부가적인 변환들은 `torchvision.transforms`에서 제공하고 있으며, `torchvision.datasets.MNIST`에서 `transform` 인자로 받을 수 있습니다.\n",
    "우리는 단순히 사진을 tensor로 바꾸고 싶기 때문에 `transforms.ToTensor()` transformation을 넘겨줍니다.\n",
    "\n",
    "다음은 전체 data의 개수와 첫 번째 data를 출력한 결과입니다."
   ],
   "metadata": {
    "id": "p-GqH7_ZjVMs"
   }
  },
  {
   "cell_type": "code",
   "source": [
    "from matplotlib import pyplot as plt\n",
    "\n",
    "print(len(train_set))\n",
    "print(train_set[0][0].shape, train_set[0][1])\n",
    "plt.imshow(train_set[0][0][0], cmap='gray')\n",
    "# 60,000개의 이미지로 구성되어있다.\n",
    "# [1, 28, 28]: 1채널(흑백), 28 x 28 크기 이미지"
   ],
   "metadata": {
    "colab": {
     "base_uri": "https://localhost:8080/",
     "height": 481
    },
    "id": "Zsp3sHmojyhT",
    "outputId": "3511bb75-e677-4fb8-894b-69e22c80f4bc"
   },
   "execution_count": 22,
   "outputs": [
    {
     "name": "stdout",
     "output_type": "stream",
     "text": [
      "60000\n",
      "torch.Size([1, 28, 28]) 5\n"
     ]
    },
    {
     "data": {
      "text/plain": "<matplotlib.image.AxesImage at 0x786e892dea70>"
     },
     "execution_count": 22,
     "metadata": {},
     "output_type": "execute_result"
    },
    {
     "data": {
      "text/plain": "<Figure size 640x480 with 1 Axes>",
      "image/png": "[encoded data removed]"
     },
     "metadata": {},
     "output_type": "display_data"
    }
   ]
  },
  {
   "cell_type": "markdown",
   "source": [
    "첫 번째 출력결과를 통해 우리는 6만장의 손글씨 data가 있는 것을 알 수 있습니다.\n",
    "그리고 두 번째 출력결과를 통해 첫 번째 data의 shape은 (1, 28, 28)이고 5라는 숫자를 쓴 사진이라는 것을 알 수 있습니다.\n",
    "마지막으로 `plt.imshow`를 통해 visualize 했을 때 5라는 숫자가 나오는 것을 알 수 있습니다.\n",
    "\n",
    "다음은 SGD를 위해 dataset을 여러 개의 batch로 나누는 과정을 PyTorch로 구현한 모습입니다."
   ],
   "metadata": {
    "id": "udm8wDBsi301"
   }
  },
  {
   "cell_type": "code",
   "source": [
    "batch_size = 256\n",
    "\n",
    "train_loader = torch.utils.data.DataLoader(\n",
    "    train_set,\n",
    "    batch_size=batch_size,\n",
    "    shuffle=True\n",
    ")\n",
    "\n",
    "test_loader = torch.utils.data.DataLoader(\n",
    "    test_set,\n",
    "    batch_size=batch_size,\n",
    "    shuffle=False\n",
    ")"
   ],
   "metadata": {
    "id": "UxKu3kA2i5WH"
   },
   "execution_count": 47,
   "outputs": []
  },
  {
   "cell_type": "markdown",
   "source": [
    "PyTorch에서는 `DataLoader`가 dataset을 인자로 받아 batch로 나눠줍니다.\n",
    "부가적으로 `batch_size`라는 인자를 통해 batch size를 받고 있으며, `shuffle`이라는 인자를 통해 data들을 섞을지 결정해줍니다.\n",
    "우리는 SGD가 완전 랜덤으로 batch를 구성해야 잘 동작하는 것을 알고 있기 때문에 `shuffle`에 `True`를 넘겨주고 있습니다.\n",
    "\n",
    "다음은 첫 번째 batch를 출력한 모습입니다."
   ],
   "metadata": {
    "id": "z4Qyrm4WlzWt"
   }
  },
  {
   "cell_type": "code",
   "source": [
    "dataiter = iter(train_loader)\n",
    "images, labels = next(dataiter)\n",
    "print(images.shape, labels.shape)"
   ],
   "metadata": {
    "colab": {
     "base_uri": "https://localhost:8080/"
    },
    "id": "_Hd7XxyAvVNz",
    "outputId": "185acb61-2ed7-4110-b325-c0e016ca60b0"
   },
   "execution_count": 48,
   "outputs": [
    {
     "name": "stdout",
     "output_type": "stream",
     "text": [
      "torch.Size([256, 1, 28, 28]) torch.Size([256])\n"
     ]
    }
   ]
  },
  {
   "cell_type": "markdown",
   "source": [
    "`images`는 첫 번째 batch의 image들이고 `labels`는 첫 번째 batch의 label들입니다.\n",
    "위에서 batch size를 64로 설정했기 때문에 총 64개의 image와 label들이 있어야 합니다.\n",
    "실제 shape 출력 결과를 보면 그렇다는 것을 알 수 있습니다.\n",
    "\n",
    "다음은 (n, 1, 28, 28) shape의 image를 입력받아 0~9 사이의 정수 하나를 출력하는 3-layer MLP를 구현합니다."
   ],
   "metadata": {
    "id": "h0ZY5mDimRUK"
   }
  },
  {
   "cell_type": "code",
   "execution_count": 49,
   "outputs": [],
   "source": [
    "def accuracy(model, dataloader):\n",
    "  cnt = 0\n",
    "  acc = 0\n",
    "\n",
    "  for data in dataloader:\n",
    "    inputs, labels = data\n",
    "    inputs, labels = inputs.to('cuda'), labels.to('cuda')\n",
    "\n",
    "    preds = model(inputs)\n",
    "    preds = torch.argmax(preds, dim=-1)\n",
    "\n",
    "    cnt += labels.shape[0]\n",
    "    acc += (labels == preds).sum().item()\n",
    "\n",
    "  return acc / cnt"
   ],
   "metadata": {
    "collapsed": false
   }
  },
  {
   "cell_type": "code",
   "source": [
    "from torch import nn\n",
    "\n",
    "\n",
    "class Model(nn.Module):\n",
    "  def __init__(self, input_dim, num_dim, num_classes):\n",
    "    super().__init__()\n",
    "\n",
    "    self.layer1 = nn.Linear(input_dim, num_dim)\n",
    "    self.layer2 = nn.Linear(num_dim, num_dim)\n",
    "    self.layer3 = nn.Linear(num_dim, num_classes)\n",
    "\n",
    "    self.act = nn.ReLU()\n",
    "\n",
    "  def forward(self, x):\n",
    "    x = torch.flatten(x, start_dim=1)\n",
    "    x = self.act(self.layer1(x))\n",
    "    x = self.act(self.layer2(x))\n",
    "    x = self.act(self.layer3(x))\n",
    "\n",
    "    return x\n",
    "\n",
    "\n",
    "model = Model(28 * 28 * 1, 1024, 10)"
   ],
   "metadata": {
    "id": "OLOA-ZGTuVVG"
   },
   "execution_count": 50,
   "outputs": []
  },
  {
   "cell_type": "markdown",
   "source": [
    "이전의 2-layer MLP와 유사한 형태임을 알 수 있습니다.\n",
    "여기서 특이사항은 `forward`의 첫 번째 줄에 `torch.flatten`을 사용한다는 것입니다.\n",
    "`Linear`는 이전에도 봤다시피 (n, d) 형태의 shape을 입력받습니다.\n",
    "이미지는 (n, 1, 28, 28)이기 때문에 (n, 1 * 28 * 28)로 shape을 변환해야 선형 함수에 입력으로 주어줄 수 있게 됩니다.\n",
    "이 역할을 수행하는 것이 바로 `torch.flatten`입니다.\n",
    "우리는 첫 번째 shape인 n을 보존할 것이기 때문에 flatten할 차원은 `start_dim=1`로 넘겨주게 됩니다.\n",
    "\n",
    "다음은 gradient descent를 수행해줄 optimizer를 구현하는 모습입니다."
   ],
   "metadata": {
    "id": "tag1rNcwmnAr"
   }
  },
  {
   "cell_type": "code",
   "source": [
    "from torch.optim import SGD\n",
    "\n",
    "lr = 0.001\n",
    "model = model.to('cuda')\n",
    "\n",
    "# 손실 함수: 교차 엔트로피 손실 (분류 문제에서 사용)\n",
    "criterion = nn.CrossEntropyLoss()\n",
    "\n",
    "optimizer = SGD(model.parameters(), lr=lr)\n",
    "\n",
    "train_accuracies = []\n",
    "test_accuracies = []"
   ],
   "metadata": {
    "id": "ypS0TcOlvBhZ"
   },
   "execution_count": 51,
   "outputs": []
  },
  {
   "cell_type": "markdown",
   "source": [
    "이전 코드와 거의 똑같습니다. 다른 점은 `model.to('cuda')` 코드를 통해 우리가 구현한 model을 GPU로 옮긴 것입니다.\n",
    "MNIST 부터는 모델과 data가 커지면서 훨씬 많은 행렬 연산이 이루어지기 때문에 GPU를 활용하는 것이 빠릅니다.\n",
    "\n",
    "다음은 model을 MNIST에 학습하는 코드입니다."
   ],
   "metadata": {
    "id": "5PooeOKMnRfZ"
   }
  },
  {
   "cell_type": "code",
   "source": [
    "import time\n",
    "\n",
    "num_epochs = 100\n",
    "\n",
    "for epoch in range(num_epochs):\n",
    "  start_time = time.time()  # 에포크 시작 시간 기록\n",
    "  total_loss = 0.\n",
    "  model.train()  # 학습 모드\n",
    "\n",
    "  for data in train_loader:\n",
    "    model.zero_grad()\n",
    "    inputs, labels = data\n",
    "    inputs, labels = inputs.to('cuda'), labels.to('cuda')\n",
    "\n",
    "    preds = model(inputs)\n",
    "    loss = criterion(preds, labels)\n",
    "    loss.backward()\n",
    "    optimizer.step()\n",
    "\n",
    "    total_loss += loss.item()\n",
    "\n",
    "  end_time = time.time()\n",
    "  epoch_time = end_time - start_time  # 에포크 실행 시간 계산\n",
    "\n",
    "  model.eval()  # 평가 모드\n",
    "  with torch.no_grad():\n",
    "    train_acc = accuracy(model, train_loader)  # 학습 데이터 정확도\n",
    "    test_acc = accuracy(model, test_loader)    # 테스트 데이터 정확도\n",
    "\n",
    "  train_accuracies.append(train_acc)\n",
    "  test_accuracies.append(test_acc)\n",
    "\n",
    "  print(f\"Epoch {epoch+1:3d} |\"\n",
    "        f\" Time: {epoch_time:.2f} seconds |\"\n",
    "        f\" Loss: {total_loss:.2f} |\"\n",
    "        f\" Train Acc: {train_acc:.3f} |\"\n",
    "        f\" Test Acc: {test_acc:.3f}\")"
   ],
   "metadata": {
    "colab": {
     "base_uri": "https://localhost:8080/"
    },
    "id": "TryX1hewvNiB",
    "outputId": "4e4a9282-d49a-40ff-c26c-d00fb7c0af79"
   },
   "execution_count": 52,
   "outputs": [
    {
     "name": "stdout",
     "output_type": "stream",
     "text": [
      "Epoch   1 | Time: 5.82 seconds | Loss: 540.17 | Train Acc: 0.258 | Test Acc: 0.265\n",
      "Epoch   2 | Time: 5.87 seconds | Loss: 537.66 | Train Acc: 0.361 | Test Acc: 0.375\n",
      "Epoch   3 | Time: 5.88 seconds | Loss: 534.87 | Train Acc: 0.413 | Test Acc: 0.426\n",
      "Epoch   4 | Time: 5.81 seconds | Loss: 531.63 | Train Acc: 0.470 | Test Acc: 0.485\n",
      "Epoch   5 | Time: 5.86 seconds | Loss: 528.36 | Train Acc: 0.502 | Test Acc: 0.518\n",
      "Epoch   6 | Time: 5.80 seconds | Loss: 524.88 | Train Acc: 0.517 | Test Acc: 0.532\n",
      "Epoch   7 | Time: 5.86 seconds | Loss: 521.11 | Train Acc: 0.523 | Test Acc: 0.536\n",
      "Epoch   8 | Time: 5.81 seconds | Loss: 516.95 | Train Acc: 0.527 | Test Acc: 0.539\n",
      "Epoch   9 | Time: 5.82 seconds | Loss: 512.31 | Train Acc: 0.529 | Test Acc: 0.542\n",
      "Epoch  10 | Time: 5.81 seconds | Loss: 507.15 | Train Acc: 0.531 | Test Acc: 0.543\n",
      "Epoch  11 | Time: 5.81 seconds | Loss: 501.38 | Train Acc: 0.534 | Test Acc: 0.547\n",
      "Epoch  12 | Time: 5.83 seconds | Loss: 494.94 | Train Acc: 0.537 | Test Acc: 0.548\n",
      "Epoch  13 | Time: 5.83 seconds | Loss: 487.80 | Train Acc: 0.540 | Test Acc: 0.552\n",
      "Epoch  14 | Time: 5.85 seconds | Loss: 479.91 | Train Acc: 0.544 | Test Acc: 0.556\n",
      "Epoch  15 | Time: 5.89 seconds | Loss: 471.21 | Train Acc: 0.548 | Test Acc: 0.560\n",
      "Epoch  16 | Time: 5.83 seconds | Loss: 461.88 | Train Acc: 0.552 | Test Acc: 0.564\n",
      "Epoch  17 | Time: 5.85 seconds | Loss: 451.94 | Train Acc: 0.556 | Test Acc: 0.569\n",
      "Epoch  18 | Time: 5.86 seconds | Loss: 441.45 | Train Acc: 0.561 | Test Acc: 0.575\n",
      "Epoch  19 | Time: 5.93 seconds | Loss: 430.55 | Train Acc: 0.566 | Test Acc: 0.579\n",
      "Epoch  20 | Time: 5.84 seconds | Loss: 419.45 | Train Acc: 0.571 | Test Acc: 0.586\n",
      "Epoch  21 | Time: 5.78 seconds | Loss: 408.16 | Train Acc: 0.577 | Test Acc: 0.591\n",
      "Epoch  22 | Time: 5.85 seconds | Loss: 396.99 | Train Acc: 0.585 | Test Acc: 0.600\n",
      "Epoch  23 | Time: 5.92 seconds | Loss: 386.22 | Train Acc: 0.592 | Test Acc: 0.609\n",
      "Epoch  24 | Time: 6.01 seconds | Loss: 375.64 | Train Acc: 0.600 | Test Acc: 0.616\n",
      "Epoch  25 | Time: 5.97 seconds | Loss: 365.71 | Train Acc: 0.608 | Test Acc: 0.623\n",
      "Epoch  26 | Time: 5.90 seconds | Loss: 356.29 | Train Acc: 0.615 | Test Acc: 0.629\n",
      "Epoch  27 | Time: 5.97 seconds | Loss: 347.65 | Train Acc: 0.623 | Test Acc: 0.637\n",
      "Epoch  28 | Time: 5.96 seconds | Loss: 339.48 | Train Acc: 0.629 | Test Acc: 0.644\n",
      "Epoch  29 | Time: 5.89 seconds | Loss: 331.96 | Train Acc: 0.634 | Test Acc: 0.649\n",
      "Epoch  30 | Time: 5.85 seconds | Loss: 325.02 | Train Acc: 0.639 | Test Acc: 0.652\n",
      "Epoch  31 | Time: 5.86 seconds | Loss: 318.62 | Train Acc: 0.643 | Test Acc: 0.656\n",
      "Epoch  32 | Time: 5.87 seconds | Loss: 312.62 | Train Acc: 0.647 | Test Acc: 0.660\n",
      "Epoch  33 | Time: 5.97 seconds | Loss: 307.04 | Train Acc: 0.651 | Test Acc: 0.664\n",
      "Epoch  34 | Time: 6.01 seconds | Loss: 301.79 | Train Acc: 0.655 | Test Acc: 0.668\n",
      "Epoch  35 | Time: 5.88 seconds | Loss: 296.96 | Train Acc: 0.658 | Test Acc: 0.670\n",
      "Epoch  36 | Time: 5.95 seconds | Loss: 292.21 | Train Acc: 0.661 | Test Acc: 0.673\n",
      "Epoch  37 | Time: 5.87 seconds | Loss: 287.90 | Train Acc: 0.664 | Test Acc: 0.675\n",
      "Epoch  38 | Time: 5.90 seconds | Loss: 283.83 | Train Acc: 0.666 | Test Acc: 0.678\n",
      "Epoch  39 | Time: 5.93 seconds | Loss: 279.92 | Train Acc: 0.668 | Test Acc: 0.680\n",
      "Epoch  40 | Time: 5.98 seconds | Loss: 276.24 | Train Acc: 0.670 | Test Acc: 0.682\n",
      "Epoch  41 | Time: 5.90 seconds | Loss: 272.73 | Train Acc: 0.673 | Test Acc: 0.685\n",
      "Epoch  42 | Time: 5.91 seconds | Loss: 269.44 | Train Acc: 0.675 | Test Acc: 0.688\n",
      "Epoch  43 | Time: 5.97 seconds | Loss: 266.09 | Train Acc: 0.676 | Test Acc: 0.689\n",
      "Epoch  44 | Time: 5.98 seconds | Loss: 263.16 | Train Acc: 0.678 | Test Acc: 0.691\n",
      "Epoch  45 | Time: 5.94 seconds | Loss: 260.31 | Train Acc: 0.680 | Test Acc: 0.693\n",
      "Epoch  46 | Time: 6.01 seconds | Loss: 257.64 | Train Acc: 0.682 | Test Acc: 0.695\n",
      "Epoch  47 | Time: 5.91 seconds | Loss: 255.02 | Train Acc: 0.683 | Test Acc: 0.697\n",
      "Epoch  48 | Time: 5.89 seconds | Loss: 252.46 | Train Acc: 0.685 | Test Acc: 0.699\n",
      "Epoch  49 | Time: 5.88 seconds | Loss: 250.19 | Train Acc: 0.687 | Test Acc: 0.701\n",
      "Epoch  50 | Time: 5.87 seconds | Loss: 247.89 | Train Acc: 0.688 | Test Acc: 0.702\n",
      "Epoch  51 | Time: 5.96 seconds | Loss: 245.68 | Train Acc: 0.689 | Test Acc: 0.703\n",
      "Epoch  52 | Time: 6.01 seconds | Loss: 243.68 | Train Acc: 0.691 | Test Acc: 0.705\n",
      "Epoch  53 | Time: 6.05 seconds | Loss: 241.62 | Train Acc: 0.692 | Test Acc: 0.706\n",
      "Epoch  54 | Time: 6.02 seconds | Loss: 239.64 | Train Acc: 0.693 | Test Acc: 0.707\n",
      "Epoch  55 | Time: 5.98 seconds | Loss: 237.84 | Train Acc: 0.694 | Test Acc: 0.708\n",
      "Epoch  56 | Time: 5.91 seconds | Loss: 236.11 | Train Acc: 0.695 | Test Acc: 0.708\n",
      "Epoch  57 | Time: 5.93 seconds | Loss: 234.52 | Train Acc: 0.696 | Test Acc: 0.710\n",
      "Epoch  58 | Time: 6.29 seconds | Loss: 232.76 | Train Acc: 0.697 | Test Acc: 0.711\n",
      "Epoch  59 | Time: 5.91 seconds | Loss: 231.22 | Train Acc: 0.698 | Test Acc: 0.713\n",
      "Epoch  60 | Time: 6.00 seconds | Loss: 229.70 | Train Acc: 0.699 | Test Acc: 0.714\n",
      "Epoch  61 | Time: 5.94 seconds | Loss: 228.11 | Train Acc: 0.700 | Test Acc: 0.714\n",
      "Epoch  62 | Time: 5.93 seconds | Loss: 226.95 | Train Acc: 0.701 | Test Acc: 0.715\n",
      "Epoch  63 | Time: 5.84 seconds | Loss: 225.47 | Train Acc: 0.702 | Test Acc: 0.716\n",
      "Epoch  64 | Time: 5.97 seconds | Loss: 224.27 | Train Acc: 0.703 | Test Acc: 0.716\n",
      "Epoch  65 | Time: 6.00 seconds | Loss: 222.94 | Train Acc: 0.704 | Test Acc: 0.716\n",
      "Epoch  66 | Time: 5.92 seconds | Loss: 221.80 | Train Acc: 0.704 | Test Acc: 0.717\n",
      "Epoch  67 | Time: 5.83 seconds | Loss: 220.49 | Train Acc: 0.705 | Test Acc: 0.718\n",
      "Epoch  68 | Time: 5.93 seconds | Loss: 219.30 | Train Acc: 0.706 | Test Acc: 0.718\n",
      "Epoch  69 | Time: 5.95 seconds | Loss: 218.25 | Train Acc: 0.707 | Test Acc: 0.719\n",
      "Epoch  70 | Time: 5.92 seconds | Loss: 217.15 | Train Acc: 0.707 | Test Acc: 0.719\n",
      "Epoch  71 | Time: 5.94 seconds | Loss: 216.24 | Train Acc: 0.708 | Test Acc: 0.720\n",
      "Epoch  72 | Time: 5.91 seconds | Loss: 215.21 | Train Acc: 0.709 | Test Acc: 0.720\n",
      "Epoch  73 | Time: 5.89 seconds | Loss: 214.28 | Train Acc: 0.709 | Test Acc: 0.722\n",
      "Epoch  74 | Time: 5.90 seconds | Loss: 213.32 | Train Acc: 0.710 | Test Acc: 0.721\n",
      "Epoch  75 | Time: 5.92 seconds | Loss: 212.32 | Train Acc: 0.710 | Test Acc: 0.722\n",
      "Epoch  76 | Time: 5.95 seconds | Loss: 211.45 | Train Acc: 0.711 | Test Acc: 0.722\n",
      "Epoch  77 | Time: 5.85 seconds | Loss: 210.73 | Train Acc: 0.711 | Test Acc: 0.723\n",
      "Epoch  78 | Time: 5.87 seconds | Loss: 209.90 | Train Acc: 0.711 | Test Acc: 0.723\n",
      "Epoch  79 | Time: 5.89 seconds | Loss: 209.00 | Train Acc: 0.712 | Test Acc: 0.724\n",
      "Epoch  80 | Time: 5.84 seconds | Loss: 208.19 | Train Acc: 0.713 | Test Acc: 0.724\n",
      "Epoch  81 | Time: 5.90 seconds | Loss: 207.61 | Train Acc: 0.713 | Test Acc: 0.725\n",
      "Epoch  82 | Time: 5.91 seconds | Loss: 206.78 | Train Acc: 0.713 | Test Acc: 0.725\n",
      "Epoch  83 | Time: 5.85 seconds | Loss: 206.09 | Train Acc: 0.714 | Test Acc: 0.725\n",
      "Epoch  84 | Time: 5.85 seconds | Loss: 205.37 | Train Acc: 0.714 | Test Acc: 0.726\n",
      "Epoch  85 | Time: 5.88 seconds | Loss: 204.75 | Train Acc: 0.714 | Test Acc: 0.726\n",
      "Epoch  86 | Time: 5.88 seconds | Loss: 204.18 | Train Acc: 0.715 | Test Acc: 0.726\n",
      "Epoch  87 | Time: 5.91 seconds | Loss: 203.41 | Train Acc: 0.715 | Test Acc: 0.727\n",
      "Epoch  88 | Time: 5.86 seconds | Loss: 202.87 | Train Acc: 0.716 | Test Acc: 0.727\n",
      "Epoch  89 | Time: 5.93 seconds | Loss: 202.18 | Train Acc: 0.716 | Test Acc: 0.727\n",
      "Epoch  90 | Time: 6.01 seconds | Loss: 201.68 | Train Acc: 0.717 | Test Acc: 0.727\n",
      "Epoch  91 | Time: 5.89 seconds | Loss: 200.93 | Train Acc: 0.717 | Test Acc: 0.727\n",
      "Epoch  92 | Time: 5.82 seconds | Loss: 200.46 | Train Acc: 0.717 | Test Acc: 0.728\n",
      "Epoch  93 | Time: 5.88 seconds | Loss: 200.13 | Train Acc: 0.717 | Test Acc: 0.728\n",
      "Epoch  94 | Time: 5.92 seconds | Loss: 199.40 | Train Acc: 0.718 | Test Acc: 0.728\n",
      "Epoch  95 | Time: 5.86 seconds | Loss: 198.89 | Train Acc: 0.718 | Test Acc: 0.728\n",
      "Epoch  96 | Time: 5.81 seconds | Loss: 198.48 | Train Acc: 0.719 | Test Acc: 0.729\n",
      "Epoch  97 | Time: 5.81 seconds | Loss: 197.86 | Train Acc: 0.719 | Test Acc: 0.729\n",
      "Epoch  98 | Time: 5.81 seconds | Loss: 197.44 | Train Acc: 0.719 | Test Acc: 0.729\n",
      "Epoch  99 | Time: 5.81 seconds | Loss: 196.93 | Train Acc: 0.719 | Test Acc: 0.729\n",
      "Epoch 100 | Time: 5.83 seconds | Loss: 196.69 | Train Acc: 0.719 | Test Acc: 0.729\n"
     ]
    }
   ]
  },
  {
   "cell_type": "markdown",
   "source": [
    "출력 결과를 보면 잘 수렴하는 것을 볼 수 있습니다.\n",
    "이전 구현과 다른 점은 다음 두 가지입니다.\n",
    "- `for data in trainloader`를 통해 batch들을 iterate하면서 model을 학습합니다.\n",
    "- `inputs, labels = inputs.to('cuda'), labels.to('cuda')`를 통해 model의 입력으로 들어가는 tensor들을 GPU로 보냅니다.\n",
    "\n",
    "마지막으로 첫 번째 data에 대한 예측 결과를 살펴봅시다."
   ],
   "metadata": {
    "id": "YRDcptrqniX7"
   }
  },
  {
   "cell_type": "code",
   "source": [
    "idx = 3\n",
    "\n",
    "x = train_set[idx][0][None]  # (1, 1, 28, 28)\n",
    "x = x.to('cuda')\n",
    "\n",
    "print(model(x))\n",
    "print(train_set[idx][1])"
   ],
   "metadata": {
    "id": "Zct0ssSKwjt1",
    "colab": {
     "base_uri": "https://localhost:8080/"
    },
    "outputId": "4a8d7062-1a43-4522-895e-cfebb9c02cdb"
   },
   "execution_count": 54,
   "outputs": [
    {
     "name": "stdout",
     "output_type": "stream",
     "text": [
      "tensor([[0.0000, 6.4279, 1.7217, 0.6748, 0.0000, 0.0000, 0.0000, 0.0000, 2.6120,\n",
      "         0.0000]], device='cuda:0', grad_fn=<ReluBackward0>)\n",
      "1\n"
     ]
    }
   ]
  },
  {
   "cell_type": "markdown",
   "source": [
    "여기서 idx를 조정하여 다른 data에 대한 출력 결과도 볼 수 있습니다.\n",
    "예측 결과를 보시면 아직 성능이 그렇게 좋지 않은 것을 알 수 있습니다."
   ],
   "metadata": {
    "id": "qzgSOrMsoZ2z"
   }
  },
  {
   "cell_type": "code",
   "source": [
    "import numpy as np\n",
    "\n",
    "def plot_acc(train_accuracies, test_accuracies, label1='train', label2='test'):\n",
    "  x = np.arange(len(train_accuracies))\n",
    "\n",
    "  plt.plot(x, train_accuracies, label=label1)\n",
    "  plt.plot(x, test_accuracies, label=label2)\n",
    "  plt.legend()\n",
    "  plt.show()\n",
    "\n",
    "plot_acc(train_accuracies, test_accuracies)"
   ],
   "metadata": {
    "id": "d6M4SpWQoML9"
   },
   "execution_count": 55,
   "outputs": [
    {
     "data": {
      "text/plain": "<Figure size 640x480 with 1 Axes>",
      "image/png": "[encoded data removed]"
     },
     "metadata": {},
     "output_type": "display_data"
    }
   ]
  }
 ]
}
